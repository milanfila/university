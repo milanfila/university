{
 "cells": [
  {
   "cell_type": "code",
   "execution_count": 2,
   "id": "393d62b8",
   "metadata": {},
   "outputs": [],
   "source": [
    "import requests\n",
    "import json\n",
    "import urllib\n",
    "import pandas as pd\n",
    "from itertools import islice\n",
    "import re\n",
    "import geopandas\n",
    "from shapely.geometry import Point"
   ]
  },
  {
   "cell_type": "code",
   "execution_count": 3,
   "id": "ad28bb2e",
   "metadata": {},
   "outputs": [],
   "source": [
    "def ad_details():\n",
    "    headers = {\n",
    "        'Connection': 'keep-alive',\n",
    "        'sec-ch-ua': '\" Not A;Brand\";v=\"99\", \"Chromium\";v=\"98\", \"Google Chrome\";v=\"98\"',\n",
    "        'Accept': 'application/json, text/javascript, */*; q=0.01',\n",
    "        'X-Requested-With': 'XMLHttpRequest',\n",
    "        'sec-ch-ua-mobile': '?0',\n",
    "        'User-Agent': 'Mozilla/5.0 (Windows NT 10.0; Win64; x64) AppleWebKit/537.36 (KHTML, like Gecko) Chrome/98.0.4758.82 Safari/537.36',\n",
    "        'sec-ch-ua-platform': '\"Windows\"',\n",
    "        'Sec-Fetch-Site': 'same-origin',\n",
    "        'Sec-Fetch-Mode': 'cors',\n",
    "        'Sec-Fetch-Dest': 'empty',\n",
    "        'Referer': 'https://bikesharingworldmap.com/',\n",
    "        'Accept-Language': 'cs-CZ,cs;q=0.9',\n",
    "    }\n",
    "\n",
    "    params = (\n",
    "        ('system', 'brno_bolt'),\n",
    "    )\n",
    "\n",
    "    response = requests.get('https://bikesharingworldmap.com/getsystem.php', headers=headers, params=params)\n",
    "    return response.json()"
   ]
  },
  {
   "cell_type": "code",
   "execution_count": 4,
   "id": "c8f988bb",
   "metadata": {},
   "outputs": [],
   "source": [
    "def ad_details(ad_id):\n",
    "\n",
    "    headers = {\n",
    "        'Connection': 'keep-alive',\n",
    "        'sec-ch-ua': '\" Not A;Brand\";v=\"99\", \"Chromium\";v=\"98\", \"Google Chrome\";v=\"98\"',\n",
    "        'Accept': '*/*',\n",
    "        'sec-ch-ua-mobile': '?0',\n",
    "        'User-Agent': 'Mozilla/5.0 (Windows NT 10.0; Win64; x64) AppleWebKit/537.36 (KHTML, like Gecko) Chrome/98.0.4758.82 Safari/537.36',\n",
    "        'sec-ch-ua-platform': '\"Windows\"',\n",
    "        'Origin': 'https://bikesharemap.com',\n",
    "        'Sec-Fetch-Site': 'cross-site',\n",
    "        'Sec-Fetch-Mode': 'cors',\n",
    "        'Sec-Fetch-Dest': 'empty',\n",
    "        'Referer': 'https://bikesharemap.com/',\n",
    "        'Accept-Language': 'cs-CZ,cs;q=0.9',\n",
    "    }\n",
    "\n",
    "    params = (\n",
    "        ('scheme', f'{ad_id}'),\n",
    "    )\n",
    "\n",
    "    response = requests.get('https://julie.geog.ucl.ac.uk/~ollie/bikesapi/load.php', headers=headers, params=params)\n",
    "    \n",
    "    \n",
    "    return response.text"
   ]
  },
  {
   "cell_type": "code",
   "execution_count": 5,
   "id": "336fa2a6",
   "metadata": {},
   "outputs": [],
   "source": [
    "def world():\n",
    "\n",
    "    headers = {\n",
    "        'Connection': 'keep-alive',\n",
    "        'sec-ch-ua': '\" Not A;Brand\";v=\"99\", \"Chromium\";v=\"98\", \"Google Chrome\";v=\"98\"',\n",
    "        'Accept': '*/*',\n",
    "        'sec-ch-ua-mobile': '?0',\n",
    "        'User-Agent': 'Mozilla/5.0 (Windows NT 10.0; Win64; x64) AppleWebKit/537.36 (KHTML, like Gecko) Chrome/98.0.4758.82 Safari/537.36',\n",
    "        'sec-ch-ua-platform': '\"Windows\"',\n",
    "        'Origin': 'https://bikesharemap.com',\n",
    "        'Sec-Fetch-Site': 'cross-site',\n",
    "        'Sec-Fetch-Mode': 'cors',\n",
    "        'Sec-Fetch-Dest': 'empty',\n",
    "        'Referer': 'https://bikesharemap.com/',\n",
    "        'Accept-Language': 'cs-CZ,cs;q=0.9',\n",
    "    }\n",
    "\n",
    "    params = (\n",
    "        ('unused', 'colour=0'),\n",
    "    )\n",
    "\n",
    "    response = requests.get('https://julie.geog.ucl.ac.uk/~ollie/bikesapi/systems_js.php', headers=headers, params=params)\n",
    "    return response.json()"
   ]
  },
  {
   "cell_type": "code",
   "execution_count": 6,
   "id": "d888273c",
   "metadata": {},
   "outputs": [],
   "source": [
    "world = world()"
   ]
  },
  {
   "cell_type": "code",
   "execution_count": 7,
   "id": "a1b316ce",
   "metadata": {
    "tags": []
   },
   "outputs": [],
   "source": [
    "# pd.DataFrame.from_dict(world, orient='index')"
   ]
  },
  {
   "cell_type": "code",
   "execution_count": 8,
   "id": "587c2840",
   "metadata": {
    "tags": []
   },
   "outputs": [],
   "source": [
    "# creating list with dicts of map data\n",
    "map_data_lst = []\n",
    "for key, value in world.items():\n",
    "    map_data_lst.append(value)"
   ]
  },
  {
   "cell_type": "code",
   "execution_count": 9,
   "id": "eb791adc",
   "metadata": {},
   "outputs": [],
   "source": [
    "# creating the list of cities as IDs\n",
    "city_lst = []\n",
    "for key, value in world.items():\n",
    "    city_lst.append(key)"
   ]
  },
  {
   "cell_type": "code",
   "execution_count": 10,
   "id": "6c9cd599",
   "metadata": {},
   "outputs": [],
   "source": [
    "# creating list with station data\n",
    "station_info_list = []"
   ]
  },
  {
   "cell_type": "code",
   "execution_count": null,
   "id": "5db7e369",
   "metadata": {
    "collapsed": true,
    "jupyter": {
     "outputs_hidden": true
    },
    "tags": []
   },
   "outputs": [],
   "source": [
    "# the process of filling in the sheet with information from the stations and filling in the ID sheet as a city\n",
    "cities = []\n",
    "for item in map_data_lst:\n",
    "    _id = item['id']\n",
    "    cities.append(_id)\n",
    "    # print(_id)\n",
    "    ad_station_info = ad_details(_id)\n",
    "    station_info_list.append(ad_station_info)"
   ]
  },
  {
   "cell_type": "code",
   "execution_count": 12,
   "id": "9f218634",
   "metadata": {},
   "outputs": [
    {
     "data": {
      "text/plain": [
       "796"
      ]
     },
     "execution_count": 12,
     "metadata": {},
     "output_type": "execute_result"
    }
   ],
   "source": [
    "len(cities)"
   ]
  },
  {
   "cell_type": "code",
   "execution_count": 19,
   "id": "64a81830",
   "metadata": {
    "collapsed": true,
    "jupyter": {
     "outputs_hidden": true
    },
    "tags": []
   },
   "outputs": [],
   "source": [
    "# station_info_list[0:2]"
   ]
  },
  {
   "cell_type": "code",
   "execution_count": 18,
   "id": "c2b8a217",
   "metadata": {
    "collapsed": true,
    "jupyter": {
     "outputs_hidden": true
    },
    "tags": []
   },
   "outputs": [],
   "source": [
    "# [i for i in station_info_list if \"Kyobo Tower Bus Stop\" in i]"
   ]
  },
  {
   "cell_type": "code",
   "execution_count": 15,
   "id": "7e79470e",
   "metadata": {},
   "outputs": [],
   "source": [
    "#removing \\n from list\n",
    "clean_lst1 = []\n",
    "for x in station_info_list:\n",
    "    clean_lst1.append(x.replace(\"\\n\", \"\"))#.replace(\"0',\", \"\").replace(\"'0',\",\"\").replace(\"6',\", \"\"))"
   ]
  },
  {
   "cell_type": "code",
   "execution_count": 20,
   "id": "146cbc64",
   "metadata": {
    "collapsed": true,
    "jupyter": {
     "outputs_hidden": true
    },
    "tags": []
   },
   "outputs": [],
   "source": [
    "#len(clean_lst1)\n",
    "# clean_lst1[0:2]"
   ]
  },
  {
   "cell_type": "code",
   "execution_count": 17,
   "id": "f7963818",
   "metadata": {},
   "outputs": [],
   "source": [
    "# creating head of the data\n",
    "head_lst = []\n",
    "for i in clean_lst1:\n",
    "    head_lst.append(i.split(\",\"))\n",
    "\n",
    "header_lst = head_lst[0][1:11]"
   ]
  },
  {
   "cell_type": "code",
   "execution_count": 18,
   "id": "10e6e84d",
   "metadata": {
    "tags": []
   },
   "outputs": [
    {
     "data": {
      "text/plain": [
       "['timestamp|gmt_local_diff_sec|gmt_servertime_diff_sec',\n",
       " 'name',\n",
       " 'lat',\n",
       " 'lon',\n",
       " 'bikes',\n",
       " 'spaces',\n",
       " 'installed',\n",
       " 'locked',\n",
       " 'temporary',\n",
       " 'total_docks']"
      ]
     },
     "execution_count": 18,
     "metadata": {},
     "output_type": "execute_result"
    }
   ],
   "source": [
    "header_lst"
   ]
  },
  {
   "cell_type": "markdown",
   "id": "7e6ac58d",
   "metadata": {},
   "source": [
    "[a-zA-Z]*[0-9]*\\s*[-]*[–]*[.]*\\s*[a-zA-Z]*[0-9]*[\"]*\n",
    "\\\".*?\\\"\n",
    "[0-9]*[.]*\\s*[-]*\\s*[a-zA-Z]*\\s*[a-zA-Z]*\n",
    "\\b\\|[+-]*[a-zA-Z]*[0-9]*\\|[-]*[a-zA-Z]*[0-9]*\\,\\\".*?\\\"\\,.*?\\,.*?\\,\n",
    "\n",
    "verze se záhlavím: \\b\\|.*?\\|.*?\\,\\\".*?\\\"\\,.*?\\,.*?\\,.*?\\,.*?\\,.*?\\,.*?\\,.*?\\,.*?\\,\n",
    "verze bez záhlaví (finální): \\b\\|.*?\\|.*?\\,\\\".*?\\\"\\,.*?\\,.*?\\,.*?\\,.*?\\,.*?\\,.*?\\,.*?\\,.*?\\,\n"
   ]
  },
  {
   "cell_type": "code",
   "execution_count": 19,
   "id": "39513adc",
   "metadata": {},
   "outputs": [],
   "source": [
    "clean_lst2 = []\n",
    "for x in clean_lst1:\n",
    "    exp = r'\\b\\|[+-]*[a-zA-Z]*[0-9]*\\|.*?\\,\\\".*?\\\"\\,.*?\\,.*?\\,.*?\\,.*?\\,.*?\\,.*?\\,.*?\\,.*?\\,'\n",
    "    clean_lst2.append(re.findall(exp, x))"
   ]
  },
  {
   "cell_type": "code",
   "execution_count": 20,
   "id": "8c380e0e",
   "metadata": {},
   "outputs": [],
   "source": [
    "#simp_lst_temp = [v1 for sub_list in clean_lst2 for v1 in sub_list]"
   ]
  },
  {
   "cell_type": "code",
   "execution_count": 21,
   "id": "08375f49",
   "metadata": {
    "tags": []
   },
   "outputs": [],
   "source": [
    "#simp_lst_temp[0:50]"
   ]
  },
  {
   "cell_type": "code",
   "execution_count": 21,
   "id": "33a7f9a0",
   "metadata": {
    "collapsed": true,
    "jupyter": {
     "outputs_hidden": true
    },
    "tags": []
   },
   "outputs": [],
   "source": [
    "#len(clean_lst2)\n",
    "# clean_lst2[0:10]"
   ]
  },
  {
   "cell_type": "code",
   "execution_count": 24,
   "id": "599552d1",
   "metadata": {},
   "outputs": [
    {
     "data": {
      "text/plain": [
       "796"
      ]
     },
     "execution_count": 24,
     "metadata": {},
     "output_type": "execute_result"
    }
   ],
   "source": [
    "len(cities)"
   ]
  },
  {
   "cell_type": "code",
   "execution_count": 25,
   "id": "3aee7aea",
   "metadata": {
    "tags": []
   },
   "outputs": [
    {
     "data": {
      "text/plain": [
       "796"
      ]
     },
     "execution_count": 25,
     "metadata": {},
     "output_type": "execute_result"
    }
   ],
   "source": [
    "len(station_info_list)"
   ]
  },
  {
   "cell_type": "code",
   "execution_count": 27,
   "id": "b8793831",
   "metadata": {
    "tags": []
   },
   "outputs": [],
   "source": [
    "# creating 1D list of all data withnout head (from 2D list)\n",
    "simple_lst = [v1 for sub_list in clean_lst2 for v1 in sub_list]"
   ]
  },
  {
   "cell_type": "code",
   "execution_count": 28,
   "id": "58484e9c",
   "metadata": {
    "tags": []
   },
   "outputs": [],
   "source": [
    "cleaned_simple_lst = []\n",
    "for elem in simple_lst:\n",
    "    cleaned_simple_lst.append(re.sub(r'\"[^\"]*\"', lambda x: x.group().replace(\",\", \"\"), elem))"
   ]
  },
  {
   "cell_type": "code",
   "execution_count": 1,
   "id": "fac4d398",
   "metadata": {
    "collapsed": true,
    "jupyter": {
     "outputs_hidden": true
    },
    "tags": []
   },
   "outputs": [],
   "source": [
    "# cleaned_simple_lst"
   ]
  },
  {
   "cell_type": "code",
   "execution_count": 30,
   "id": "47c9d1d5",
   "metadata": {
    "tags": []
   },
   "outputs": [
    {
     "data": {
      "text/plain": [
       "['|-32400|0,\"2302. Kyobo Tower Bus Stop (behind Gate 3 Sinnonhyeon Station)\",37.50558090,127.02427673,0,12,true,false,false,12,']"
      ]
     },
     "execution_count": 30,
     "metadata": {},
     "output_type": "execute_result"
    }
   ],
   "source": [
    "# [i for i in cleaned_simple_lst if \"Kyobo Tower Bus Stop\" in i]"
   ]
  },
  {
   "cell_type": "code",
   "execution_count": 32,
   "id": "0ed86086",
   "metadata": {},
   "outputs": [],
   "source": [
    "# creating split list\n",
    "\n",
    "split_elem = [i.split(\",\") for i in cleaned_simple_lst]"
   ]
  },
  {
   "cell_type": "code",
   "execution_count": 33,
   "id": "22cbdbc4",
   "metadata": {
    "tags": []
   },
   "outputs": [],
   "source": [
    "#creating split list\n",
    "\n",
    "#split_elem = [i.split(\",\") for sublist in cleaned_simple_lst for i in sublist]"
   ]
  },
  {
   "cell_type": "code",
   "execution_count": 34,
   "id": "f108f194",
   "metadata": {},
   "outputs": [],
   "source": [
    "for i in split_elem:\n",
    "    i.pop()"
   ]
  },
  {
   "cell_type": "code",
   "execution_count": 35,
   "id": "990f2e5c",
   "metadata": {},
   "outputs": [
    {
     "data": {
      "text/plain": [
       "['\"2302. Kyobo Tower Bus Stop (behind Gate 3 Sinnonhyeon Station)\"']"
      ]
     },
     "execution_count": 35,
     "metadata": {},
     "output_type": "execute_result"
    }
   ],
   "source": [
    "# [i for sub in split_elem for i in sub if \"Kyobo Tower Bus Stop\" in i]"
   ]
  },
  {
   "cell_type": "code",
   "execution_count": 2,
   "id": "72be515a",
   "metadata": {
    "collapsed": true,
    "jupyter": {
     "outputs_hidden": true
    },
    "tags": []
   },
   "outputs": [],
   "source": [
    "# split_elem[242400:279278]"
   ]
  },
  {
   "cell_type": "code",
   "execution_count": 39,
   "id": "a0cc5707",
   "metadata": {
    "tags": []
   },
   "outputs": [],
   "source": [
    "#creating final DF from 2D list\n",
    "\"\"\"\n",
    "example:\n",
    "data = [['Katie', 32, 'London'], ['Nik', 32, 'Toronto'], ['James', 36, 'Atlanta'], ['Evan', 31, 'Madrid']]\n",
    "df = pd.DataFrame(data, columns=['Name', 'Age', 'Location'], dtype='int8')\n",
    "\"\"\"\n",
    "\n",
    "df = pd.DataFrame(split_elem) #columns=header_lst)"
   ]
  },
  {
   "cell_type": "code",
   "execution_count": 70,
   "id": "570c9d83",
   "metadata": {},
   "outputs": [],
   "source": [
    "rang = [i for i in range(0,10)]"
   ]
  },
  {
   "cell_type": "code",
   "execution_count": 4,
   "id": "d4c03b88",
   "metadata": {},
   "outputs": [],
   "source": [
    "# df.iloc[:,:10]"
   ]
  },
  {
   "cell_type": "code",
   "execution_count": 47,
   "id": "056833b1",
   "metadata": {},
   "outputs": [],
   "source": [
    "counter = [i for i in range(11,118)]"
   ]
  },
  {
   "cell_type": "code",
   "execution_count": 48,
   "id": "9007818c",
   "metadata": {
    "tags": []
   },
   "outputs": [],
   "source": [
    "fin_df = df.drop(df.columns[10:118], axis=1)"
   ]
  },
  {
   "cell_type": "code",
   "execution_count": 49,
   "id": "444fad5c",
   "metadata": {},
   "outputs": [],
   "source": [
    "header_dic = {}\n",
    "for k, v in enumerate(header_lst):\n",
    "    header_dic[k] = v"
   ]
  },
  {
   "cell_type": "code",
   "execution_count": 50,
   "id": "220cd02f",
   "metadata": {},
   "outputs": [
    {
     "data": {
      "text/plain": [
       "{0: 'timestamp|gmt_local_diff_sec|gmt_servertime_diff_sec',\n",
       " 1: 'name',\n",
       " 2: 'lat',\n",
       " 3: 'lon',\n",
       " 4: 'bikes',\n",
       " 5: 'spaces',\n",
       " 6: 'installed',\n",
       " 7: 'locked',\n",
       " 8: 'temporary',\n",
       " 9: 'total_docks'}"
      ]
     },
     "execution_count": 50,
     "metadata": {},
     "output_type": "execute_result"
    }
   ],
   "source": [
    "header_dic"
   ]
  },
  {
   "cell_type": "code",
   "execution_count": 51,
   "id": "7a9150e7",
   "metadata": {},
   "outputs": [],
   "source": [
    "final_df = fin_df.rename(columns=header_dic)"
   ]
  },
  {
   "cell_type": "code",
   "execution_count": 5,
   "id": "ae6400d6",
   "metadata": {},
   "outputs": [],
   "source": [
    "# final_df[0:10]"
   ]
  },
  {
   "cell_type": "code",
   "execution_count": null,
   "id": "255509ea",
   "metadata": {},
   "outputs": [],
   "source": [
    "\"\"\"\n",
    "with pd.option_context('display.max_rows', None,):\n",
    "   print(final_df)\n",
    "\"\"\"\n",
    "#final_df.to_excel(\"BikeSharing_stations2.xlsx\")"
   ]
  },
  {
   "cell_type": "code",
   "execution_count": null,
   "id": "11c50445",
   "metadata": {},
   "outputs": [],
   "source": [
    "final_df.info()"
   ]
  },
  {
   "cell_type": "code",
   "execution_count": 132,
   "id": "cd2bc521",
   "metadata": {},
   "outputs": [
    {
     "name": "stderr",
     "output_type": "stream",
     "text": [
      "C:\\Users\\Milan\\anaconda3\\lib\\site-packages\\pandas\\core\\dtypes\\cast.py:122: ShapelyDeprecationWarning: The array interface is deprecated and will no longer work in Shapely 2.0. Convert the '.coords' to a numpy array instead.\n",
      "  arr = construct_1d_object_array_from_listlike(values)\n"
     ]
    }
   ],
   "source": [
    "# combine lat and lon column to a shapely Point() object\n",
    "final_df['geometry'] = final_df.apply(lambda x: Point((float(x.lon), float(x.lat))), axis=1)"
   ]
  },
  {
   "cell_type": "code",
   "execution_count": 133,
   "id": "8ab6effa",
   "metadata": {},
   "outputs": [
    {
     "name": "stderr",
     "output_type": "stream",
     "text": [
      "C:\\Users\\Milan\\anaconda3\\lib\\site-packages\\geopandas\\geodataframe.py:35: ShapelyDeprecationWarning: The array interface is deprecated and will no longer work in Shapely 2.0. Convert the '.coords' to a numpy array instead.\n",
      "  out = from_shapely(data)\n"
     ]
    }
   ],
   "source": [
    "G_df = geopandas.GeoDataFrame(final_df, geometry='geometry')"
   ]
  },
  {
   "cell_type": "code",
   "execution_count": 128,
   "id": "ed144bfd",
   "metadata": {},
   "outputs": [],
   "source": [
    "#G_df.to_file('BikeSharing_stations.shp', driver='ESRI Shapefile')"
   ]
  }
 ],
 "metadata": {
  "kernelspec": {
   "display_name": "general_py_venv",
   "language": "python",
   "name": "general_py_venv"
  },
  "language_info": {
   "codemirror_mode": {
    "name": "ipython",
    "version": 3
   },
   "file_extension": ".py",
   "mimetype": "text/x-python",
   "name": "python",
   "nbconvert_exporter": "python",
   "pygments_lexer": "ipython3",
   "version": "3.10.7"
  },
  "varInspector": {
   "cols": {
    "lenName": 16,
    "lenType": 16,
    "lenVar": 40
   },
   "kernels_config": {
    "python": {
     "delete_cmd_postfix": "",
     "delete_cmd_prefix": "del ",
     "library": "var_list.py",
     "varRefreshCmd": "print(var_dic_list())"
    },
    "r": {
     "delete_cmd_postfix": ") ",
     "delete_cmd_prefix": "rm(",
     "library": "var_list.r",
     "varRefreshCmd": "cat(var_dic_list()) "
    }
   },
   "types_to_exclude": [
    "module",
    "function",
    "builtin_function_or_method",
    "instance",
    "_Feature"
   ],
   "window_display": false
  }
 },
 "nbformat": 4,
 "nbformat_minor": 5
}
