{
 "cells": [
  {
   "cell_type": "code",
   "execution_count": 2,
   "id": "393d62b8",
   "metadata": {},
   "outputs": [],
   "source": [
    "import requests\n",
    "import json\n",
    "import urllib\n",
    "import pandas as pd\n",
    "from itertools import islice\n",
    "import re\n",
    "import geopandas\n",
    "from shapely.geometry import Point"
   ]
  },
  {
   "cell_type": "code",
   "execution_count": 3,
   "id": "ad28bb2e",
   "metadata": {},
   "outputs": [],
   "source": [
    "def ad_details():\n",
    "    headers = {\n",
    "        'Connection': 'keep-alive',\n",
    "        'sec-ch-ua': '\" Not A;Brand\";v=\"99\", \"Chromium\";v=\"98\", \"Google Chrome\";v=\"98\"',\n",
    "        'Accept': 'application/json, text/javascript, */*; q=0.01',\n",
    "        'X-Requested-With': 'XMLHttpRequest',\n",
    "        'sec-ch-ua-mobile': '?0',\n",
    "        'User-Agent': 'Mozilla/5.0 (Windows NT 10.0; Win64; x64) AppleWebKit/537.36 (KHTML, like Gecko) Chrome/98.0.4758.82 Safari/537.36',\n",
    "        'sec-ch-ua-platform': '\"Windows\"',\n",
    "        'Sec-Fetch-Site': 'same-origin',\n",
    "        'Sec-Fetch-Mode': 'cors',\n",
    "        'Sec-Fetch-Dest': 'empty',\n",
    "        'Referer': 'https://bikesharingworldmap.com/',\n",
    "        'Accept-Language': 'cs-CZ,cs;q=0.9',\n",
    "    }\n",
    "\n",
    "    params = (\n",
    "        ('system', 'brno_bolt'),\n",
    "    )\n",
    "\n",
    "    response = requests.get('https://bikesharingworldmap.com/getsystem.php', headers=headers, params=params)\n",
    "    return response.json()"
   ]
  },
  {
   "cell_type": "code",
   "execution_count": 4,
   "id": "c8f988bb",
   "metadata": {},
   "outputs": [],
   "source": [
    "def ad_details(ad_id):\n",
    "\n",
    "    headers = {\n",
    "        'Connection': 'keep-alive',\n",
    "        'sec-ch-ua': '\" Not A;Brand\";v=\"99\", \"Chromium\";v=\"98\", \"Google Chrome\";v=\"98\"',\n",
    "        'Accept': '*/*',\n",
    "        'sec-ch-ua-mobile': '?0',\n",
    "        'User-Agent': 'Mozilla/5.0 (Windows NT 10.0; Win64; x64) AppleWebKit/537.36 (KHTML, like Gecko) Chrome/98.0.4758.82 Safari/537.36',\n",
    "        'sec-ch-ua-platform': '\"Windows\"',\n",
    "        'Origin': 'https://bikesharemap.com',\n",
    "        'Sec-Fetch-Site': 'cross-site',\n",
    "        'Sec-Fetch-Mode': 'cors',\n",
    "        'Sec-Fetch-Dest': 'empty',\n",
    "        'Referer': 'https://bikesharemap.com/',\n",
    "        'Accept-Language': 'cs-CZ,cs;q=0.9',\n",
    "    }\n",
    "\n",
    "    params = (\n",
    "        ('scheme', f'{ad_id}'),\n",
    "    )\n",
    "\n",
    "    response = requests.get('https://julie.geog.ucl.ac.uk/~ollie/bikesapi/load.php', headers=headers, params=params)\n",
    "    \n",
    "    \n",
    "    return response.text"
   ]
  },
  {
   "cell_type": "code",
   "execution_count": 5,
   "id": "336fa2a6",
   "metadata": {},
   "outputs": [],
   "source": [
    "def world():\n",
    "\n",
    "    headers = {\n",
    "        'Connection': 'keep-alive',\n",
    "        'sec-ch-ua': '\" Not A;Brand\";v=\"99\", \"Chromium\";v=\"98\", \"Google Chrome\";v=\"98\"',\n",
    "        'Accept': '*/*',\n",
    "        'sec-ch-ua-mobile': '?0',\n",
    "        'User-Agent': 'Mozilla/5.0 (Windows NT 10.0; Win64; x64) AppleWebKit/537.36 (KHTML, like Gecko) Chrome/98.0.4758.82 Safari/537.36',\n",
    "        'sec-ch-ua-platform': '\"Windows\"',\n",
    "        'Origin': 'https://bikesharemap.com',\n",
    "        'Sec-Fetch-Site': 'cross-site',\n",
    "        'Sec-Fetch-Mode': 'cors',\n",
    "        'Sec-Fetch-Dest': 'empty',\n",
    "        'Referer': 'https://bikesharemap.com/',\n",
    "        'Accept-Language': 'cs-CZ,cs;q=0.9',\n",
    "    }\n",
    "\n",
    "    params = (\n",
    "        ('unused', 'colour=0'),\n",
    "    )\n",
    "\n",
    "    response = requests.get('https://julie.geog.ucl.ac.uk/~ollie/bikesapi/systems_js.php', headers=headers, params=params)\n",
    "    return response.json()"
   ]
  },
  {
   "cell_type": "code",
   "execution_count": 6,
   "id": "d888273c",
   "metadata": {},
   "outputs": [],
   "source": [
    "world = world()"
   ]
  },
  {
   "cell_type": "code",
   "execution_count": 7,
   "id": "a1b316ce",
   "metadata": {
    "tags": []
   },
   "outputs": [],
   "source": [
    "#pd.DataFrame.from_dict(world, orient='index')"
   ]
  },
  {
   "cell_type": "code",
   "execution_count": 8,
   "id": "587c2840",
   "metadata": {
    "tags": []
   },
   "outputs": [],
   "source": [
    "#creating list with dicts of map data\n",
    "map_data_lst = []\n",
    "for key, value in world.items():\n",
    "    map_data_lst.append(value)"
   ]
  },
  {
   "cell_type": "code",
   "execution_count": 9,
   "id": "eb791adc",
   "metadata": {},
   "outputs": [],
   "source": [
    "#vytvoření listu měst jako ID\n",
    "city_lst = []\n",
    "for key, value in world.items():\n",
    "    city_lst.append(key)"
   ]
  },
  {
   "cell_type": "code",
   "execution_count": 10,
   "id": "6c9cd599",
   "metadata": {},
   "outputs": [],
   "source": [
    "#vytvoření listu pro informace ke stanicím\n",
    "station_info_list = []"
   ]
  },
  {
   "cell_type": "code",
   "execution_count": 11,
   "id": "5db7e369",
   "metadata": {
    "collapsed": true,
    "jupyter": {
     "outputs_hidden": true
    },
    "tags": []
   },
   "outputs": [
    {
     "name": "stdout",
     "output_type": "stream",
     "text": [
      "forli\n",
      "buenosaires\n",
      "aruba\n",
      "brisbane\n",
      "melbourne\n",
      "monash\n",
      "10vorwien\n",
      "amstetten\n",
      "grossenzersdorf\n",
      "haag\n",
      "hollabrunn\n",
      "innsbruck\n",
      "klagenfurt\n",
      "kremsost\n",
      "laaanderthaya\n",
      "linz\n",
      "lunzamsee\n",
      "marchfeld\n",
      "mistelbach\n",
      "modling\n",
      "neusiedlersee\n",
      "obbbahnhofe\n",
      "oberesybbstal\n",
      "piestingtal\n",
      "romerland\n",
      "serfaus\n",
      "stpolten\n",
      "traisengolsental\n",
      "tulln\n",
      "vienna\n",
      "wachau\n",
      "wrneustadt\n",
      "wienerwald\n",
      "wieselburg\n",
      "antwerp\n",
      "brussels\n",
      "ghent\n",
      "kortrijk\n",
      "namur\n",
      "zenica\n",
      "banjaluka\n",
      "sarajevo\n",
      "tuzla\n",
      "fortaleza\n",
      "petrolina\n",
      "portoalegre\n",
      "recife\n",
      "rio\n",
      "riviera\n",
      "salvador\n",
      "santos\n",
      "saopaulo\n",
      "sorocaba\n",
      "vilavelha\n",
      "dobrich\n",
      "hamilton\n",
      "montreal\n",
      "ottawa\n",
      "quebeccity\n",
      "toronto\n",
      "ubc\n",
      "vancouver\n",
      "victoria\n",
      "santiago\n",
      "lascondes\n",
      "aksu\n",
      "anji\n",
      "anqiu\n",
      "anxi\n",
      "aral\n",
      "beian\n",
      "beijing\n",
      "huairou\n",
      "changbaishan\n",
      "changle\n",
      "changping\n",
      "changshu\n",
      "changyi\n",
      "changzhou\n",
      "dajiawa\n",
      "dangtu\n",
      "danyang\n",
      "daqing\n",
      "dingtao\n",
      "dongying\n",
      "fenhu\n",
      "fuyang\n",
      "gaomi\n",
      "guilin\n",
      "hangzhou\n",
      "heihe\n",
      "heze\n",
      "hongze\n",
      "huaian\n",
      "huaibei\n",
      "huangyan\n",
      "huilongguan\n",
      "huzhou\n",
      "jian\n",
      "jining\n",
      "jinzhai\n",
      "kunshan\n",
      "linqu\n",
      "luan\n",
      "maanshan\n",
      "meizhouisland\n",
      "nantong\n",
      "nantongsouth\n",
      "pinggu\n",
      "putian\n",
      "qingpu\n",
      "qingzhou\n",
      "quangang\n",
      "quanzhou\n",
      "rugao\n",
      "ruian\n",
      "sanxiang\n",
      "shanghai\n",
      "shanghaimobike\n",
      "shaoxing\n",
      "shengze\n",
      "shenmu\n",
      "shishi\n",
      "siyang\n",
      "suzhou\n",
      "taibaozhuang\n",
      "taihe\n",
      "taizhou\n",
      "taizhoumobike\n",
      "tengzhou\n",
      "weifang\n",
      "wenling\n",
      "wenzhou\n",
      "wujin\n",
      "wuxi\n",
      "wuximobike\n",
      "xingan\n",
      "xuchang\n",
      "xuzhou\n",
      "yangzhou\n",
      "yangzi\n",
      "yantai\n",
      "yichun\n",
      "yingshang\n",
      "yiwu\n",
      "yixing\n",
      "yongcheng\n",
      "yueqing\n",
      "zaozhuang\n",
      "zhenjiang\n",
      "zhongshan\n",
      "zhucheng\n",
      "zhuhai\n",
      "brinje\n",
      "drnis\n",
      "gospic\n",
      "ivanicgrad\n",
      "jastrebarsko\n",
      "karlovac\n",
      "makarska\n",
      "metkovic\n",
      "osijek\n",
      "pitomaca\n",
      "porec\n",
      "sibenik\n",
      "sisak\n",
      "slavonskibrod\n",
      "split\n",
      "velikagorica\n",
      "vukovar\n",
      "zadar\n",
      "zagreb\n",
      "limassol\n",
      "nicosia\n",
      "northnicosia\n",
      "beroun\n",
      "brno\n",
      "frydekmistek\n",
      "havirov\n",
      "hradeckralove\n",
      "kladno\n",
      "krnov\n",
      "mladaboleslav\n",
      "olomouc\n",
      "opava\n",
      "ostrava\n",
      "pardubice\n",
      "pisek\n",
      "prague\n",
      "prostejov\n",
      "rychnovsko\n",
      "uherskehradiste\n",
      "zlin\n",
      "tallinn\n",
      "tartu\n",
      "helsinki\n",
      "oulu\n",
      "turku\n",
      "vantaa\n",
      "vuosaari\n",
      "amiens\n",
      "angers\n",
      "avignon\n",
      "belfort\n",
      "besancon\n",
      "bordeaux\n",
      "bordeauxpony\n",
      "caen\n",
      "calais\n",
      "carcassonne\n",
      "chalon\n",
      "clermontferrand\n",
      "dijon\n",
      "grenoble\n",
      "grenoblepony\n",
      "larochelle\n",
      "lille\n",
      "lyon\n",
      "marseille\n",
      "montpellier\n",
      "mulhouse\n",
      "nancy\n",
      "nantes\n",
      "nice\n",
      "parispony\n",
      "paris\n",
      "pariscergy\n",
      "pariscreteil\n",
      "reims\n",
      "rennes\n",
      "rouen\n",
      "stetienne\n",
      "strasbourg\n",
      "toulouse\n",
      "valence\n",
      "vannes\n",
      "batumi\n",
      "augsburg\n",
      "badoeynhausen\n",
      "badenbaden\n",
      "bergisch\n",
      "berlin\n",
      "berlinbuch\n",
      "bielefeld\n",
      "bochum\n",
      "bonn\n",
      "bottrop\n",
      "bremen\n",
      "bruchsal\n",
      "brunswick\n",
      "cologne\n",
      "dortmund\n",
      "dresden\n",
      "duisburg\n",
      "dusseldorf\n",
      "eckernforde\n",
      "eifel\n",
      "erfurt\n",
      "essen\n",
      "flensburg\n",
      "frankfurt\n",
      "freiburg\n",
      "friedrichshafen\n",
      "gaggenau\n",
      "gelsenkirchen\n",
      "giessen\n",
      "gutersloh\n",
      "hamburg\n",
      "hamm\n",
      "hanover\n",
      "herne\n",
      "kaiserslautern\n",
      "karlsruhe\n",
      "kassel\n",
      "kiel\n",
      "lahr\n",
      "landau\n",
      "leipzig\n",
      "leverkusen\n",
      "lippstadt\n",
      "magdeburg\n",
      "mainz\n",
      "mannheim\n",
      "marburg\n",
      "monchengladbach\n",
      "mulheimadr\n",
      "munich\n",
      "neustadt\n",
      "norderstedt\n",
      "nuremberg\n",
      "oberhausen\n",
      "offenbachammain\n",
      "offenburg\n",
      "plon\n",
      "potsdam\n",
      "preetz\n",
      "quickborn\n",
      "rendsburg\n",
      "rheinsieg\n",
      "russelsheimammain\n",
      "stuttgart\n",
      "tubingen\n",
      "usedom\n",
      "wiesbaden\n",
      "wurzburg\n",
      "gibraltar\n",
      "athenskeratsini\n",
      "athensmaroussi\n",
      "didymoteicho\n",
      "karditsa\n",
      "komotini\n",
      "budapest\n",
      "debrecen\n",
      "gyor\n",
      "reykjavik\n",
      "bhopal\n",
      "chennai\n",
      "delhi\n",
      "hyderabad\n",
      "kolkata\n",
      "ranchi\n",
      "surat\n",
      "vijayawada\n",
      "cork\n",
      "dublin\n",
      "dublinbleeper\n",
      "dublinmoby\n",
      "galway\n",
      "limerick\n",
      "telaviv\n",
      "arezzo\n",
      "bergamo\n",
      "brescia\n",
      "cadore\n",
      "cagliari\n",
      "chivasso\n",
      "como\n",
      "cremona\n",
      "genova\n",
      "imola\n",
      "laspezia\n",
      "lecce\n",
      "lecco\n",
      "livorno\n",
      "garda\n",
      "milan\n",
      "monopoli\n",
      "montecatiniterme\n",
      "monteriggioni\n",
      "monza\n",
      "olbia\n",
      "padua\n",
      "parma\n",
      "pavia\n",
      "perugia\n",
      "pisa\n",
      "reggiocalabria\n",
      "rome\n",
      "romelime\n",
      "romehelbiz\n",
      "rovereto\n",
      "sandonatomilanese\n",
      "sassari\n",
      "sestrilevante\n",
      "siena\n",
      "costablu\n",
      "taranto\n",
      "terni\n",
      "trento\n",
      "treviso\n",
      "trieste\n",
      "torino\n",
      "udine\n",
      "venice\n",
      "vercelli\n",
      "verona\n",
      "fukushima\n",
      "himeji\n",
      "hitoyoshi\n",
      "kanazawa\n",
      "kawagoe\n",
      "kitakyushu\n",
      "kumagaya\n",
      "maebashi\n",
      "matsumoto\n",
      "mishima\n",
      "morioka\n",
      "nagoya\n",
      "nikko\n",
      "okinawa\n",
      "osaka\n",
      "saga\n",
      "shizuoka\n",
      "shodoshima\n",
      "tokyo\n",
      "toyama\n",
      "tsukuba\n",
      "yokohama\n",
      "almaty\n",
      "astana\n",
      "shymkent\n",
      "kuwait\n",
      "jurmala\n",
      "riga\n",
      "byblos\n",
      "vilnius\n",
      "esch\n",
      "luxembourg\n",
      "malta\n",
      "cancun\n",
      "guadalajara\n",
      "mexicocity\n",
      "puebla\n",
      "queretaro\n",
      "sanluispotosi\n",
      "monaco\n",
      "budva\n",
      "marrakech\n",
      "dordrecht\n",
      "maastricht\n",
      "netherlands\n",
      "rotterdam\n",
      "thehague\n",
      "thehaguedonkey\n",
      "auckland\n",
      "christchurch\n",
      "bergen\n",
      "drammen\n",
      "lillestrom\n",
      "oslo\n",
      "trondheim\n",
      "bemowo\n",
      "bialystok\n",
      "bielsko\n",
      "bydgoszcz\n",
      "chorzow\n",
      "ciechanow\n",
      "czestochowa\n",
      "gliwice\n",
      "gniezno\n",
      "grodziskmazowiecki\n",
      "jastrzebie\n",
      "kalisz\n",
      "katowice\n",
      "kedzierzynkozle\n",
      "koluszki\n",
      "konin\n",
      "konstancinjeziorna\n",
      "koszalin\n",
      "kolobrzeg\n",
      "krakow\n",
      "kutno\n",
      "legnica\n",
      "lublin\n",
      "lubon\n",
      "marki\n",
      "nowydwor\n",
      "olesnica\n",
      "olesno\n",
      "opole\n",
      "ostrow\n",
      "ostroleka\n",
      "otwock\n",
      "pabianice\n",
      "pielgrzymka\n",
      "piotrkowtrybunalski\n",
      "pobiedziska\n",
      "poznan\n",
      "pszczyna\n",
      "plock\n",
      "radom\n",
      "sieradz\n",
      "skierniewice\n",
      "sokolowpodlaski\n",
      "sopot\n",
      "sosnowiec\n",
      "stalowawola\n",
      "szamotuly\n",
      "szczecin\n",
      "tarnow\n",
      "torun\n",
      "tychowo\n",
      "tychy\n",
      "warsaw\n",
      "wroclaw\n",
      "wloclawek\n",
      "zabrze\n",
      "zarki\n",
      "zdunskawola\n",
      "zgierz\n",
      "zielonagora\n",
      "zyrardow\n",
      "lask\n",
      "lodz\n",
      "lodzfreebike\n",
      "lowicz\n",
      "almeirim\n",
      "figueira\n",
      "torresvedras\n",
      "bucharest\n",
      "cluj\n",
      "saturn\n",
      "timisoara\n",
      "kazan\n",
      "moscow\n",
      "murmansk\n",
      "nizhnynovgorod\n",
      "tyumen\n",
      "kingabdullaheconomiccity\n",
      "kingfaisaluniversity\n",
      "bratislava\n",
      "nitra\n",
      "zilina\n",
      "celje\n",
      "ljubljana\n",
      "ljubljananextbike\n",
      "novagorica\n",
      "portoroz\n",
      "slovenskekonjice\n",
      "kranj\n",
      "zagorje\n",
      "changwon\n",
      "daejeon\n",
      "gongju\n",
      "sejong\n",
      "seoul\n",
      "albacete\n",
      "altea\n",
      "barcelona\n",
      "benidorm\n",
      "bilbao\n",
      "castellon\n",
      "fuerteventura\n",
      "gandia\n",
      "girona\n",
      "grancanaria\n",
      "ibiza\n",
      "lanzarote\n",
      "laspalmas\n",
      "leon\n",
      "madrid\n",
      "murcia\n",
      "palma\n",
      "santander\n",
      "zaragoza\n",
      "seville\n",
      "trescantos\n",
      "valencia\n",
      "valladolid\n",
      "gothenburg\n",
      "lund\n",
      "malmo\n",
      "stockholm\n",
      "bern\n",
      "fribourg\n",
      "geneva\n",
      "lausanne\n",
      "luzern\n",
      "lugano\n",
      "nyon\n",
      "sierre\n",
      "sion\n",
      "zug\n",
      "sursee\n",
      "zurich\n",
      "chiayi\n",
      "hsinchu\n",
      "kaohsiung\n",
      "miaoli\n",
      "taichung\n",
      "taichung2\n",
      "taipei\n",
      "taipeintu\n",
      "antalya\n",
      "canakkale\n",
      "istanbul\n",
      "izmir\n",
      "kocaeli\n",
      "konya\n",
      "manavgat\n",
      "nilufer\n",
      "ordu\n",
      "seferihisar\n",
      "abudhabi\n",
      "alain\n",
      "alsharjah\n",
      "dubai\n",
      "barnet\n",
      "basildon\n",
      "bath\n",
      "belfast\n",
      "blackpool\n",
      "bournemouthscooters\n",
      "bournemouth\n",
      "brighton\n",
      "bristol\n",
      "bruneluniversity\n",
      "cambridgemobike\n",
      "cambridgeofo\n",
      "cardiff\n",
      "chelmsford\n",
      "clacton\n",
      "colchester\n",
      "derby\n",
      "dumfries\n",
      "dundee\n",
      "edinburgh\n",
      "edinburghnb\n",
      "exeter\n",
      "falmouth\n",
      "forthvalley\n",
      "glasgow\n",
      "guildford\n",
      "londoncargo\n",
      "hereford\n",
      "inverness\n",
      "ipswichurbo\n",
      "isleofwight\n",
      "kensingtonandchelseafreebike\n",
      "kingston\n",
      "leicester\n",
      "lincoln\n",
      "liverpool\n",
      "london\n",
      "londonberyl\n",
      "londonfreebike\n",
      "londonhumanforest\n",
      "londonjump\n",
      "londonmobike\n",
      "londonobike\n",
      "londonofo\n",
      "londonurbo\n",
      "lothian\n",
      "manchester\n",
      "manchestermobike\n",
      "miltonkeynes\n",
      "miltonkeynesspin\n",
      "newcastleneuron\n",
      "newcastlemobike\n",
      "northampton\n",
      "norwich\n",
      "norwichscooters\n",
      "norwichofo\n",
      "nottingham\n",
      "nottinghamwind\n",
      "oxford\n",
      "oxfordmobike\n",
      "oxfordofo\n",
      "reading\n",
      "richmondfreebike\n",
      "sheffield\n",
      "sheffieldofo\n",
      "slough\n",
      "sloughneuron\n",
      "southampton\n",
      "stirling\n",
      "sunderland\n",
      "swanseauniversity\n",
      "universityofsurrey\n",
      "waddesdongreenway\n",
      "universityofwarwick\n",
      "watford\n",
      "westmidlands\n",
      "wolverhampton\n",
      "ivanofrakivsk\n",
      "kharkiv\n",
      "kiev\n",
      "lviv\n",
      "odesa\n",
      "vinnytsia\n",
      "montevideo\n",
      "albany\n",
      "zagsterjacksoncounty\n",
      "aspen\n",
      "atlanta\n",
      "austin\n",
      "baltimore\n",
      "baltimorejump\n",
      "bayareaskip\n",
      "beverlyhills\n",
      "birminghamalabama\n",
      "boise\n",
      "boulder\n",
      "broward\n",
      "buffalo\n",
      "zagstercarmel\n",
      "zagstercarrollton\n",
      "charleston\n",
      "charlotte\n",
      "chattanooga\n",
      "chicago\n",
      "chicagojump\n",
      "cincinnati\n",
      "zagstermbike\n",
      "coloradosprings\n",
      "howardcounty\n",
      "columbia\n",
      "columbus\n",
      "zagsterconway\n",
      "dayton\n",
      "zagsterdearborn\n",
      "denver\n",
      "zagstermeridian\n",
      "desmoines\n",
      "detroit\n",
      "eastbay\n",
      "elpaso\n",
      "forestpreserves\n",
      "fortworth\n",
      "boston\n",
      "greenville\n",
      "hailey\n",
      "zagsterharrisburg\n",
      "hoboken\n",
      "honolulu\n",
      "houston\n",
      "indianapolis\n",
      "jackson\n",
      "kona\n",
      "kansascity\n",
      "kentstateuniversity\n",
      "zagsterpurdue\n",
      "lasvegas\n",
      "lincolnne\n",
      "longbeach\n",
      "longbeachny\n",
      "zagsterlongmont\n",
      "losangeles\n",
      "louisville\n",
      "madison\n",
      "memphis\n",
      "miamibeach\n",
      "milwaukee\n",
      "minneapolis\n",
      "nashville\n",
      "neworleans\n",
      "newyorkjump\n",
      "newyorklime\n",
      "newyork\n",
      "zagsterohiostate\n",
      "omaha\n",
      "orlando\n",
      "parkcity\n",
      "zagsterpsu\n",
      "philadelphia\n",
      "phoenix\n",
      "pioneervalley\n",
      "pittsburgh\n",
      "portland\n",
      "portlandskip\n",
      "zagsterprinceton\n",
      "raleigh\n",
      "richmond\n",
      "zagsterrgvbikeshare\n",
      "mcallen\n",
      "zagsterridesolutions\n",
      "zagstersalem\n",
      "saltlakecity\n",
      "sanantonio\n",
      "sandiego\n",
      "sanfrancisco\n",
      "sanjose\n",
      "zagsterhudsonpacific\n",
      "sanmateo\n",
      "ucsb\n",
      "santacruz\n",
      "santamonica\n",
      "saratogasprings\n",
      "scheneclady\n",
      "seattle\n",
      "usf\n",
      "zagsterspacecoast\n",
      "zagsterlivewellstg\n",
      "stpetersburg\n",
      "statecollege\n",
      "stonybrookuniversity\n",
      "tampa\n",
      "topeka\n",
      "tucson\n",
      "tulsa\n",
      "ucla\n",
      "virginia\n",
      "zagstergm\n",
      "washingtondc\n",
      "washingtondcjump\n",
      "washingtondchelbiz\n",
      "washingtondcjumpscooters\n",
      "washingtondclime\n",
      "washingtondclyft\n",
      "washingtondcmobike\n",
      "washingtondcskip\n",
      "washingtondcspin\n",
      "westhollywood\n",
      "westpalmbeachflorida\n",
      "zagsterbikeshareict\n",
      "zagsterwinstonsalem\n"
     ]
    }
   ],
   "source": [
    "#proces plnění listu informacemi ze stanic a plnění listu ID jako města\n",
    "cities = []\n",
    "for item in map_data_lst:\n",
    "    _id = item['id']\n",
    "    cities.append(_id)\n",
    "    #print(_id)\n",
    "    ad_station_info = ad_details(_id)\n",
    "    station_info_list.append(ad_station_info)"
   ]
  },
  {
   "cell_type": "code",
   "execution_count": 12,
   "id": "9f218634",
   "metadata": {},
   "outputs": [
    {
     "data": {
      "text/plain": [
       "796"
      ]
     },
     "execution_count": 12,
     "metadata": {},
     "output_type": "execute_result"
    }
   ],
   "source": [
    "len(cities)"
   ]
  },
  {
   "cell_type": "code",
   "execution_count": 13,
   "id": "64a81830",
   "metadata": {
    "collapsed": true,
    "jupyter": {
     "outputs_hidden": true
    },
    "tags": []
   },
   "outputs": [
    {
     "data": {
      "text/plain": [
       "['#id,timestamp|gmt_local_diff_sec|gmt_servertime_diff_sec,name,lat,lon,bikes,spaces,installed,locked,temporary,total_docks,givesbonus_acceptspedelecs_fbbattlevel,pedelecs\\n700,1644918603.4446523|-3600|0,\"01. Stazione FS\",44.223352,12.055386,9,14,true,false,false,24,false,0\\n701,1644918603.4448013|-3600|0,\"02. Vittoria\",44.217607,12.050157,4,6,true,false,false,10,false,0\\n702,1644918603.4449384|-3600|0,\"03. Vittorio Veneto\",44.227917,12.042153,8,7,true,false,false,16,false,0\\n703,1644918603.4450727|-3600|0,\"04. Piazza Saffi\",44.223322,12.041495,15,11,true,false,false,28,false,0\\n704,1644918603.4452188|-3600|0,\"05. San Domenico\",44.222041,12.036168,1,13,true,false,false,14,false,0\\n705,1644918603.4453604|-3600|0,\"06. Park dell\\'Argine\",44.218927,12.032757,9,11,true,false,false,21,false,0\\n706,1644918603.4455001|-3600|0,\"07. Park Schiavonia\",44.226215,12.028287,1,5,true,false,false,6,false,0\\n1397,1644918603.445636|-3600|0,\"09. Campus Universitario I\",44.219257,12.042756,4,5,true,false,false,9,false,0\\n1398,1644918603.4457433|-3600|0,\"10. Park Oriani\",44.221137,12.049119,3,5,true,false,false,8,false,0\\n1399,1644918603.4458475|-3600|0,\"11. Campus Universitario II\",44.217696,12.044369,3,7,true,false,false,10,false,0\\n1673,1644918603.4459524|-3600|0,\"12. XX Settembre\",44.222188,12.042997,3,4,true,false,false,7,false,0\\n1674,1644918603.4460547|-3600|0,\"13. BIKE POINT Park Lombardini\",44.217425,12.041227,0,8,true,false,false,8,false,0\\n1675,1644918603.4461653|-3600|0,\"14. BIKE POINT Park Manzoni\",44.223120,12.047737,7,1,true,false,false,8,false,0\\n',\n",
       " '#id,timestamp|gmt_local_diff_sec|gmt_servertime_diff_sec,name,lat,lon,bikes,spaces,installed,locked,temporary,total_docks,givesbonus_acceptspedelecs_fbbattlevel,pedelecs\\n2,1644918841|10800|0,\"002 - Retiro I\",-34.5924233,-58.3747151,9,10,true,false,false,20,,0\\n3,1644918841|10800|0,\"003 - ADUANA\",-34.611032,-58.3682604,3,17,true,false,false,20,,0\\n4,1644918841|10800|0,\"004 - Plaza Roma\",-34.601822,-58.368781,0,20,true,false,false,20,,0\\n5,1644918841|10800|0,\"005 - Plaza Italia\",-34.5805497,-58.4209542,9,33,true,false,false,42,,0\\n6,1644918841|10800|0,\"006 - Parque Lezama\",-34.628526,-58.369758,8,11,true,false,false,20,,0\\n7,1644918841|10800|0,\"007 - OBELISCO\",-34.606498,-58.381098,1,15,true,false,false,16,,0\\n8,1644918841|10800|0,\"008 - Congreso\",-34.6094218,-58.3893364,3,20,true,false,false,24,,0\\n9,1644918841|10800|0,\"009 - Parque Las Heras\",-34.585443,-58.407741,4,20,true,false,false,24,,0\\n12,1644918841|10800|0,\"012 - Plaza Vicente Lopez\",-34.5927096,-58.388807,0,16,true,false,false,16,,0\\n13,1644918841|10800|0,\"013 - ONCE\",-34.61009,-58.406,2,28,true,false,false,30,,0\\n14,1644918841|10800|0,\"014 - Pacifico\",-34.577424,-58.426387,17,12,true,false,false,30,,0\\n17,1644918841|10800|0,\"017 - Plaza Almagro\",-34.6064101,-58.4187306,7,11,true,false,false,20,,0\\n20,1644918841|10800|0,\"020 - Distrito Audiovisual\",-34.5798619,-58.4417756,4,14,true,false,false,20,,0\\n21,1644918841|10800|0,\"021 - Parque Patricios\",-34.640111,-58.406432,24,0,true,false,false,24,,0\\n22,1644918841|10800|0,\"022 - Arenales\",-34.5938629,-58.3825498,0,20,true,false,false,20,,0\\n23,1644918841|10800|0,\"023 - Suipacha\",-34.600139,-58.379836,0,12,true,false,false,12,,0\\n24,1644918841|10800|0,\"024 - ALSINA\",-34.610583,-58.3808943,1,17,true,false,false,18,,0\\n25,1644918841|10800|0,\"025 - Plaza Guemes\",-34.5894269,-58.4161178,4,20,true,false,false,24,,0\\n26,1644918841|10800|0,\"026 - JUANA MANSO I\",-34.600752,-58.3638723,2,22,true,false,false,24,,0\\n27,1644918841|10800|0,\"027 - Montevideo\",-34.599068,-58.3900887,4,11,true,false,false,16,,0\\n29,1644918841|10800|0,\"029 - Parque Centenario\",-34.6079414,-58.4335573,17,12,true,false,false,30,,0\\n30,1644918841|10800|0,\"030 - Peña\",-34.5908211,-58.3973698,7,12,true,false,false,20,,0\\n32,1644918841|10800|0,\"032 - Catedral\",-34.6072074,-58.3735984,1,15,true,false,false,16,,0\\n33,1644918841|10800|0,\"033 - Facultad de Medicina\",-34.5970909,-58.3989807,2,18,true,false,false,20,,0\\n35,1644918841|10800|0,\"035 - INGENIERO BUTTY\",-34.5964246,-58.371847,0,20,true,false,false,20,,0\\n36,1644918841|10800|0,\"036 - MAIPÚ\",-34.6045481,-58.3767677,1,15,true,false,false,16,,0\\n38,1644918841|10800|0,\"038 - Plaza Libertad\",-34.5970497,-58.3828403,3,16,true,false,false,20,,0\\n41,1644918841|10800|0,\"041 - Urquiza y Rondeau\",-34.6364511,-58.4076348,15,3,true,false,false,20,,0\\n43,1644918841|10800|0,\"334 - CENTRO DE EXPOSICIONES\",-34.584018,-58.389921,18,2,true,false,false,20,,0\\n44,1644918841|10800|0,\"044 - Ecoparque\",-34.5755148,-58.4138829,9,11,true,false,false,20,,0\\n45,1644918841|10800|0,\"045 - Uruguay\",-34.6018635,-58.3866934,0,20,true,false,false,20,,0\\n46,1644918841|10800|0,\"046 - Chile\",-34.6163012,-58.3743749,2,16,true,false,false,18,,0\\n48,1644918841|10800|0,\"034 - Colonia Express\",-34.624255,-58.362131,1,15,true,false,false,16,,0\\n49,1644918841|10800|0,\"049 - 33 Orientales\",-34.6290527,-58.422611,3,9,true,false,false,16,,0\\n50,1644918841|10800|0,\"050 - Hospital Rivadavia\",-34.5837348,-58.4010798,4,13,true,false,false,20,,0\\n51,1644918841|10800|0,\"051 - TUCUMAN\",-34.6014776,-58.3821261,0,11,true,false,false,12,,0\\n54,1644918841|10800|0,\"054 - Acuña de Figueroa\",-34.5982097,-58.4220694,7,6,true,false,false,16,,0\\n56,1644918841|10800|0,\"056 - Plaza Palermo Viejo\",-34.588567,-58.425999,3,13,true,false,false,16,,0\\n58,1644918841|10800|0,\"058 - Ministro Carranza\",-34.5752773,-58.4346883,4,15,true,false,false,20,,0\\n59,1644918841|10800|0,\"018 - Independencia\",-34.617654,-58.380565,3,17,true,false,false,20,,0\\n60,1644918841|10800|0,\"060 - 25 De Mayo\",-34.6016509,-58.371079,0,20,true,false,false,20,,0\\n61,1644918841|10800|0,\"098 - AV. ALVAREZ JONTE Y BENITO JUAREZ\",-34.61880867765093,-58.504662916142756,13,3,true,false,false,16,,0\\n63,1644918841|10800|0,\"063 - Reconquista\",-34.5986,-58.373062,0,20,true,false,false,20,,0\\n64,1644918841|10800|0,\"064 - RIOBAMBA\",-34.5936508,-58.3941087,2,18,true,false,false,20,,0\\n65,1644918841|10800|0,\"065 - Julián Álvarez\",-34.5873124,-58.4157873,1,19,true,false,false,21,,0\\n66,1644918841|10800|0,\"066 - Billinghurst\",-34.5945475,-58.4138713,4,16,true,false,false,20,,0\\n68,1644918841|10800|0,\"105 - PARQUE SAAVEDRA\",-34.552148,-58.480464,11,3,true,false,false,16,,0\\n69,1644918841|10800|0,\"069 - Ecuador\",-34.5961006,-58.4046092,9,7,true,false,false,16,,0\\n70,1644918841|10800|0,\"070 - ARAOZ\",-34.5926862,-58.4260597,3,17,true,false,false,20,,0\\n71,1644918841|10800|0,\"071 - CERRITO\",-34.6026673,-58.3833559,3,27,true,false,false,30,,0\\n73,1644918841|10800|0,\"073 - Ruy Díaz de Guzmán\",-34.6306814,-58.3718235,15,1,true,false,false,16,,0\\n74,1644918841|10800|0,\"074 - INSTITUTO  LELOIR\",-34.60439,-58.43454,13,16,true,false,false,30,,0\\n75,1644918841|10800|0,\"075 - Plaza Primero de Mayo\",-34.6122976,-58.3989871,18,0,true,false,false,20,,0\\n76,1644918841|10800|0,\"076 - Ayacucho\",-34.6074084,-58.3950548,5,9,true,false,false,20,,0\\n77,1644918841|10800|0,\"109 - ESTACION PUEYRREDON\",-34.581135,-58.501487,12,3,true,false,false,16,,0\\n79,1644918841|10800|0,\"079 - AZUCENA VILLAFLOR\",-34.61189,-58.36393,0,29,true,false,false,30,,0\\n80,1644918841|10800|0,\"080 - DOBLAS\",-34.624435,-58.4303766,11,4,true,false,false,16,,0\\n82,1644918841|10800|0,\"082 - HOSPITAL ITALIANO\",-34.6078917,-58.4263947,9,11,true,false,false,20,,0\\n83,1644918841|10800|0,\"083 - Paraná\",-34.603269,-58.3893728,0,19,true,false,false,20,,0\\n84,1644918841|10800|0,\"084 - Lavalle\",-34.6023203,-58.3955144,3,16,true,false,false,20,,0\\n85,1644918841|10800|0,\"085 - AGUERO\",-34.5948057,-58.4091784,2,18,true,false,false,20,,0\\n86,1644918841|10800|0,\"086 - SAAVEDRA\",-34.6212681,-58.4016808,1,18,true,false,false,20,,0\\n87,1644918841|10800|0,\"087 - Guayaquil\",-34.619845,-58.4314942,13,1,true,false,false,16,,0\\n89,1644918841|10800|0,\"089 - Cabello\",-34.5825475,-58.4056671,9,9,true,false,false,20,,0\\n91,1644918841|10800|0,\"091 - Pasco\",-34.6174482,-58.397602,5,14,true,false,false,20,,0\\n92,1644918841|10800|0,\"092 - Salcedo\",-34.6316444,-58.4053386,13,7,true,false,false,20,,0\\n93,1644918841|10800|0,\"093 - CARLOS CALVO\",-34.620798,-58.3944635,7,12,true,false,false,20,,0\\n94,1644918841|10800|0,\"094 - GÚZMAN\",-34.591511,-58.449652,11,18,true,false,false,30,,0\\n95,1644918841|10800|0,\"095 - ESMERALDA\",-34.6021121,-58.3781678,5,11,true,false,false,16,,0\\n96,1644918841|10800|0,\"096 - Carlos Gardel\",-34.6027814,-58.4116586,6,11,true,false,false,20,,0\\n98,1644918841|10800|0,\"037- Claudia Pía Baudracco\",-34.6081643,-58.3779002,1,15,true,false,false,16,,0\\n99,1644918841|10800|0,\"099 - Malabia\",-34.5960961,-58.435408,12,6,true,false,false,20,,0\\n101,1644918841|10800|0,\"101 - Fitz Roy\",-34.5891857,-58.4424397,6,14,true,false,false,20,,0\\n104,1644918841|10800|0,\"104 - Federico Lacroze\",-34.587617,-58.455212,16,14,true,false,false,30,,0\\n107,1644918841|10800|0,\"107 - HOSPITAL GARRAHAN\",-34.630374,-58.395852,3,12,true,false,false,16,,0\\n111,1644918841|10800|0,\"111 - MACACHA GUEMES\",-34.6054877,-58.3646858,0,28,true,false,false,30,,0\\n112,1644918841|10800|0,\"112 - 9 de Julio\",-34.612075,-58.380384,0,20,true,false,false,20,,0\\n114,1644918841|10800|0,\"114 - DELLA PAOLERA\",-34.5949745,-58.3722554,2,18,true,false,false,20,,0\\n116,1644918841|10800|0,\"116 - HOSPITAL ALEMÁN\",-34.5921708,-58.4025894,7,5,true,false,false,12,,0\\n117,1644918841|10800|0,\"117 - HUMBERTO 1°\",-34.6201008,-58.3741759,2,11,true,false,false,16,,0\\n118,1644918841|10800|0,\"118 - MEXICO\",-34.6170196,-58.4026531,0,20,true,false,false,20,,0\\n120,1644918841|10800|0,\"120 - HOSPITAL RAMOS MEJIA\",-34.617509,-58.4092876,3,17,true,false,false,20,,0\\n121,1644918841|10800|0,\"121 - YATAY\",-34.6011732,-58.4285093,5,14,true,false,false,20,,0\\n124,1644918841|10800|0,\"124 - UGARTECHE\",-34.580538,-58.411965,13,4,true,false,false,20,,0\\n126,1644918841|10800|0,\"126 - Ministerio de Justicia y Seguridad\",-34.6402672,-58.3692243,9,7,true,false,false,16,,0\\n128,1644918841|10800|0,\"128 - PARQUE DEL BAJO\",-34.6041138,-58.3689118,2,18,true,false,false,20,,0\\n130,1644918841|10800|0,\"130 - RETIRO II\",-34.5921056,-58.3745419,15,24,true,false,false,40,,0\\n131,1644918841|10800|0,\"131- HOSPITAL DE CLÍNICAS\",-34.5984043,-58.3990158,2,14,true,false,false,16,,0\\n132,1644918841|10800|0,\"132 - CORRIENTES\",-34.6033685,-58.372763,2,10,true,false,false,12,,0\\n134,1644918841|10800|0,\"134 - SOLDADO DE LA FRONTERA\",-34.68294,-58.4659,7,4,true,false,false,12,,0\\n135,1644918841|10800|0,\"135 - MARCELO T. DE ALVEAR\",-34.5972818,-58.3787856,2,18,true,false,false,20,,0\\n137,1644918841|10800|0,\"137 - AZOPARDO Y CHILE\",-34.6155977,-58.3674923,4,16,true,false,false,20,,0\\n138,1644918841|10800|0,\"138 - Hospital Britanico\",-34.6353595,-58.3876724,9,3,true,false,false,12,,0\\n144,1644918841|10800|0,\"144 - PUEYRREDÓN\",-34.6018744,-58.4060944,6,12,true,false,false,20,,0\\n146,1644918841|10800|0,\"146 - Hospital Francés\",-34.6221118,-58.4078419,3,16,true,false,false,20,,0\\n149,1644918841|10800|0,\"149 - LIMA\",-34.6153266,-58.3813642,1,14,true,false,false,16,,0\\n150,1644918841|10800|0,\"150 - RODRIGO BUENO\",-34.6187547,-58.3554654,10,19,true,false,false,30,,0\\n151,1644918841|10800|0,\"151 - AIME PAINÉ\",-34.6118145,-58.361285,0,23,true,false,false,24,,0\\n152,1644918841|10800|0,\"152 - JULIETA LANTERI\",-34.6181645,-58.3596311,11,5,true,false,false,20,,0\\n153,1644918841|10800|0,\"153 - JUAN MANUEL DE BLANES\",-34.6307765,-58.3620701,10,6,true,false,false,16,,0\\n155,1644918841|10800|0,\"155 - Parque José Evaristo Uriburu\",-34.64117,-58.412408,19,1,true,false,false,20,,0\\n156,1644918841|10800|0,\"156 - Plaza Alemania\",-34.5775895,-58.4074696,11,9,true,false,false,20,,0\\n158,1644918841|10800|0,\"158 - VILLARROEL\",-34.592735,-58.4450697,12,8,true,false,false,20,,0\\n161,1644918841|10800|0,\"161 - Humahuaca\",-34.6020779,-58.4196761,1,14,true,false,false,20,,0\\n162,1644918841|10800|0,\"162 - LARREA Y BARTOLOMÉ MITRE\",-34.608985,-58.401924,8,11,true,false,false,20,,0\\n163,1644918841|10800|0,\"163 - ONCE II\",-34.6095663,-58.4064308,4,23,true,false,false,30,,0\\n164,1644918841|10800|0,\"164 - FACULTAD DE INGENIERIA\",-34.6181442,-58.3669021,1,18,true,false,false,20,,0\\n165,1644918841|10800|0,\"165 - PLAZA MONSEÑOR MIGUEL DE ANDREA\",-34.597048,-58.407614,1,11,true,false,false,12,,0\\n166,1644918841|10800|0,\"166 - Cementerio de Recoleta\",-34.588346663239754,-58.394147942865644,0,12,true,false,false,12,,0\\n167,1644918841|10800|0,\"275 - PLAZA 24 DE SEPTIEMBRE\",-34.606984,-58.44854,9,7,true,false,false,16,,0\\n168,1644918841|10800|0,\"168 - Estados Unidos\",-34.6186217,-58.3812271,3,13,true,false,false,16,,0\\n169,1644918841|10800|0,\"169 - FACULTAD DE PSICOLOGIA\",-34.6123459,-58.411856,4,7,true,false,false,12,,0\\n171,1644918841|10800|0,\"171 - Pasteur\",-34.6032813,-58.3997553,2,17,true,false,false,20,,0\\n172,1644918841|10800|0,\"172 - BRASIL\",-34.625426,-58.371082,1,15,true,false,false,16,,0\\n174,1644918841|10800|0,\"174 - MINISTERIO DE EDUCACION\",-34.597225,-58.391768,1,19,true,false,false,20,,0\\n175,1644918841|10800|0,\"147 - Constitución\",-34.626851,-58.380707,26,8,true,false,false,36,,0\\n176,1644918841|10800|0,\"067 - PARQUE SARMIENTO I\",-34.555254,-58.494845,6,10,true,false,false,16,,0\\n179,1644918841|10800|0,\"179 - CASA SAN\",-34.6384786,-58.3642885,14,0,true,false,false,16,,0\\n181,1644918841|10800|0,\"181 - BILLINGHURST Y MANSILLA\",-34.5926649,-58.4120072,1,19,true,false,false,20,,0\\n182,1644918841|10800|0,\"182 - RAVIGNANI Y GUATEMALA\",-34.5780479,-58.4352466,4,13,true,false,false,20,,0\\n183,1644918841|10800|0,\"183 - VIRREY CEVALLOS\",-34.6156994,-58.3899728,8,11,true,false,false,20,,0\\n184,1644918841|10800|0,\"184 - Pedro Echague\",-34.6306129,-58.3913419,6,13,true,false,false,20,,0\\n186,1644918841|10800|0,\"186 - MANZANA 66\",-34.6136356,-58.4064415,3,17,true,false,false,20,,0\\n187,1644918841|10800|0,\"261 - QUINTEROS LIDORO\",-34.552571,-58.450897,15,1,true,false,false,16,,0\\n188,1644918841|10800|0,\"373 - Jorgelina De Simone\",-34.623923,-58.3904814,10,5,true,false,false,16,,0\\n189,1644918841|10800|0,\"189 - POSADAS\",-34.5886889,-58.3852113,1,18,true,false,false,20,,0\\n190,1644918841|10800|0,\"190 - JUNCAL\",-34.5850763,-58.4111136,0,19,true,false,false,20,,0\\n191,1644918841|10800|0,\"191 - Rivadavia y 9 de Julio\",-34.6079305,-58.3808358,7,9,true,false,false,16,,0\\n193,1644918841|10800|0,\"193 - ARENALES Y AGUERO\",-34.5908626,-58.4061652,8,12,true,false,false,20,,0\\n194,1644918841|10800|0,\"194 - PERÓN Y ACUÑA DE FIGUEROA\",-34.6060758,-58.4224635,3,12,true,false,false,16,,0\\n196,1644918841|10800|0,\"196 - HOSPITAL ARGERICH\",-34.6275351,-58.3657211,15,1,true,false,false,20,,0\\n197,1644918841|10800|0,\"197 - PLAZA CIUDAD DE UDINE\",-34.620998,-58.493044,17,2,true,false,false,20,,0\\n199,1644918841|10800|0,\"199 - ESTADOS UNIDOS Y BOEDO\",-34.6222601,-58.4160137,11,5,true,false,false,20,,0\\n200,1644918841|10800|0,\"200 - AUSTRIA Y FRENCH\",-34.5890696,-58.40536170000001,2,13,true,false,false,15,,0\\n202,1644918841|10800|0,\"001 - FACULTAD DE DERECHO\",-34.583749,-58.390602,28,1,true,false,false,30,,0\\n203,1644918841|10800|0,\"108 - Usina del Arte\",-34.628757,-58.356259,18,3,true,false,false,24,,0\\n204,1644918841|10800|0,\"167 - Hipólito Yrigoyen\",-34.614948,-58.427818,14,9,true,false,false,24,,0\\n205,1644918841|10800|0,\"125 - F.J.Santamaria de Oro\",-34.583323,-58.428016,0,15,true,false,false,16,,0\\n206,1644918841|10800|0,\"159 - Fitz Roy & Gorriti\",-34.58495,-58.437339,6,10,true,false,false,16,,0\\n207,1644918841|10800|0,\"123 - BASUALDO Y RODO\",-34.649323859081555,-58.4926339870569,9,5,true,false,false,16,,0\\n210,1644918841|10800|0,\"335 - General Urquiza\",-34.572165,-58.411278,6,14,true,false,false,20,,0\\n212,1644918841|10800|0,\"129 - Velasco\",-34.600275,-58.434875,7,11,true,false,false,20,,0\\n213,1644918841|10800|0,\"136 - Acevedo\",-34.599659,-58.442685,16,3,true,false,false,20,,0\\n214,1644918841|10800|0,\"142 - Armenia y Gorriti\",-34.590541,-58.428974,4,12,true,false,false,16,,0\\n215,1644918841|10800|0,\"113 - Guatemala\",-34.585878,-58.424996,4,15,true,false,false,20,,0\\n216,1644918841|10800|0,\"059 - Coronel Diaz\",-34.589968,-58.411493,4,16,true,false,false,20,,0\\n219,1644918841|10800|0,\"140 - Las Casas\",-34.6360274,-58.4156332,11,1,true,false,false,16,,0\\n220,1644918841|10800|0,\"097 - Avelino Diaz\",-34.635128,-58.427573,13,2,true,false,false,16,,0\\n222,1644918841|10800|0,\"160 - Godoy Cruz y Libertador\",-34.572583,-58.420628,12,7,true,false,false,20,,0\\n223,1644918841|10800|0,\"178 - José Marmol\",-34.6234,-58.424853,5,8,true,false,false,16,,0\\n227,1644918841|10800|0,\"188 - Aranguren\",-34.610456,-58.432786,3,14,true,false,false,20,,0\\n229,1644918841|10800|0,\"243 - PLAZOLETA CELEDONIO FLORES\",-34.581576,-58.45153,7,4,true,false,false,12,,0\\n230,1644918841|10800|0,\"259 - PLAZA CASTELLI\",-34.5678255,-58.4645037,6,9,true,false,false,16,,0\\n231,1644918841|10800|0,\"384 - PLAZA BENITO NAZAR\",-34.605109,-58.445897,10,5,true,false,false,16,,0\\n232,1644918841|10800|0,\"252 - Tamborini\",-34.5599779,-58.4790578,8,12,true,false,false,20,,0\\n235,1644918841|10800|0,\"281 - Villa Urquiza\",-34.573795,-58.487074,8,13,true,false,false,24,,0\\n236,1644918841|10800|0,\"254 - Plaza Rafael Hernandez\",-34.562161,-58.455166,6,9,true,false,false,16,,0\\n237,1644918841|10800|0,\"302 - ESTACION VILLA LURO\",-34.63670935917866,-58.50135525810292,7,9,true,false,false,16,,0\\n239,1644918841|10800|0,\"391 - Plaza República de Ecuador\",-34.565091,-58.420702,13,6,true,false,false,20,,0\\n241,1644918841|10800|0,\"348 - Villa del Parque\",-34.600874,-58.494123,5,7,true,false,false,12,,0\\n242,1644918841|10800|0,\"103 - MALBA\",-34.57716,-58.403214,0,20,true,false,false,20,,0\\n245,1644918841|10800|0,\"248 - Husares\",-34.552594,-58.4429397,10,5,true,false,false,16,,0\\n247,1644918841|10800|0,\"282 - Tronador\",-34.5838957,-58.466494,4,11,true,false,false,18,,0\\n248,1644918841|10800|0,\"346 - Plaza Zapiola\",-34.573522,-58.474635,17,2,true,false,false,20,,0\\n249,1644918841|10800|0,\"307 - LEONARDO PEREYRA\",-34.649506877132595,-58.38912434455312,10,3,true,false,false,16,,0\\n251,1644918841|10800|0,\"388 - Plaza Jose C Paz\",-34.64485797668555,-58.4097486603218,10,1,true,false,false,12,,0\\n252,1644918841|10800|0,\"331 - CALIFORNIA\",-34.647121,-58.374336,7,9,true,false,false,16,,0\\n254,1644918841|10800|0,\"276 - PRIMERA JUNTA\",-34.620717,-58.441607,14,1,true,false,false,16,,0\\n255,1644918841|10800|0,\"374 - Puan\",-34.622092,-58.448547,12,2,true,false,false,16,,0\\n257,1644918841|10800|0,\"264 - Plaza Marcos Sastre\",-34.570825,-58.481236,12,8,true,false,false,24,,0\\n258,1644918841|10800|0,\"336 - La Pampa\",-34.565521,-58.455334,6,9,true,false,false,16,,0\\n261,1644918841|10800|0,\"272 - Plaza Bruno Giordano\",-34.616151,-58.440584,11,4,true,false,false,16,,0\\n262,1644918841|10800|0,\"349 - Plaza Saenz Peña\",-34.60976,-58.467477,15,1,true,false,false,16,,0\\n263,1644918841|10800|0,\"270 - PLAZA DEL ANGEL GRIS\",-34.622003,-58.457555,8,3,true,false,false,12,,0\\n265,1644918841|10800|0,\"361 - Plaza Don Segundo Sombra\",-34.64196,-58.4505,10,5,true,false,false,16,,0\\n267,1644918841|10800|0,\"315 - BEIRO Y SAN MARTÍN\",-34.5976121,-58.4985424,10,4,true,false,false,16,,0\\n268,1644918841|10800|0,\"399 - GARCIA DEL RIO\",-34.550015,-58.476521,26,0,true,false,false,28,,0\\n269,1644918841|10800|0,\"260 - SAN MIGUEL DE GARICOITS\",-34.577329,-58.457799,16,0,true,false,false,18,,0\\n270,1644918841|10800|0,\"370 - Beauchef\",-34.640114,-58.43026,17,3,true,false,false,20,,0\\n271,1644918841|10800|0,\"365 - Venancio Flores\",-34.630108,-58.473844,14,6,true,false,false,20,,0\\n273,1644918841|10800|0,\"223 - GAINZA\",-34.616758,-58.446751,13,1,true,false,false,16,,0\\n275,1644918841|10800|0,\"256 - PLAZA NORUEGA\",-34.562396,-58.459148,10,9,true,false,false,20,,0\\n277,1644918841|10800|0,\"292 - PLAZA BOLIVIA\",-34.563539,-58.436115,2,8,true,false,false,12,,0\\n278,1644918841|10800|0,\"233 - MONROE\",-34.564122,-58.469813,8,8,true,false,false,16,,0\\n280,1644918841|10800|0,\"222 - SIMON BOLIVAR\",-34.633528,-58.449379,22,1,true,false,false,24,,0\\n281,1644918841|10800|0,\"350 - Plaza Irlanda\",-34.613778,-58.458315,17,2,true,false,false,24,,0\\n284,1644918841|10800|0,\"229 - RIGLOS\",-34.631018,-58.435056,15,5,true,false,false,20,,0\\n289,1644918841|10800|0,\"255 - BARRANCAS DE BELGRANO\",-34.559801,-58.448314,11,10,true,false,false,24,,0\\n291,1644918841|10800|0,\"244 - UADE\",-34.617247,-58.381627,0,15,true,false,false,16,,0\\n294,1644918841|10800|0,\"363 - Udaondo\",-34.5458835,-58.4520062,18,1,true,false,false,20,,0\\n299,1644918841|10800|0,\"221 - CULPINA\",-34.631705,-58.466143,14,6,true,false,false,20,,0\\n301,1644918841|10800|0,\"309 - UTN II\",-34.66036165776025,-58.4676386893849,18,2,true,false,false,20,,0\\n302,1644918841|10800|0,\"340 - PLAZA NUEVA POMPEYA\",-34.6518464,-58.415771,15,0,true,false,false,16,,0\\n304,1644918841|10800|0,\"395 - Agronomia II\",-34.58938,-58.4847,5,10,true,false,false,16,,0\\n307,1644918841|10800|0,\"341 - COMUNA 4\",-34.65050475967216,-58.424671969909355,11,0,true,false,false,12,,0\\n308,1644918841|10800|0,\"251 - Solar de la Abadía\",-34.567633,-58.436752,17,3,true,false,false,20,,0\\n309,1644918841|10800|0,\"298 - PLAZA DR. JUAN B. TERAN\",-34.62141207128675,-58.51978098730658,11,3,true,false,false,16,,0\\n310,1644918841|10800|0,\"356 - ESTACIÓN LUGANO\",-34.67735630418917,-58.47665863333657,2,10,true,false,false,14,,0\\n311,1644918841|10800|0,\"213 - Hospital Alvear\",-34.5972098,-58.47421143,12,8,true,false,false,20,,0\\n316,1644918841|10800|0,\"205 - SAN MARTIN\",-34.605567,-58.453475,11,3,true,false,false,16,,0\\n318,1644918841|10800|0,\"285 - ESPINOSA\",-34.603936,-58.457317,17,2,true,false,false,20,,0\\n322,1644918841|10800|0,\"289 - MONTAÑESES\",-34.551304,-58.454181,18,2,true,false,false,20,,0\\n323,1644918841|10800|0,\"240 - ECHEVERRIA\",-34.565409,-58.459298,19,5,true,false,false,24,,0\\n324,1644918841|10800|0,\"280 - JURAMENTO\",-34.578933,-58.4840556,3,12,true,false,false,16,,0\\n327,1644918841|10800|0,\"366 - VILLA OLÍMPICA\",-34.677130515662185,-58.454286054001386,5,11,true,false,false,16,,0\\n329,1644918841|10800|0,\"100 - Plaza Gurruchaga\",-34.593141,-58.435187,8,12,true,false,false,20,,0\\n333,1644918841|10800|0,\"203 - Beiro\",-34.6008,-58.50335,13,7,true,false,false,20,,0\\n335,1644918841|10800|0,\"206 - Galicia\",-34.615945,-58.47098,18,1,true,false,false,20,,0\\n336,1644918841|10800|0,\"207 - PLAZA ARENALES\",-34.5999173,-58.5114159,27,0,true,false,false,28,,0\\n340,1644918841|10800|0,\"359 - PLAZA BALCARCE\",-34.54754,-58.467844,14,5,true,false,false,20,,0\\n342,1644918841|10800|0,\"218 - Campana\",-34.616813,-58.484297,10,9,true,false,false,20,,0\\n348,1644918841|10800|0,\"231 - Margariños Cervantes\",-34.610482,-58.474369,9,0,true,false,false,12,,0\\n353,1644918841|10800|0,\"237 - Madero Office\",-34.599036,-58.364695,2,15,true,false,false,20,,0\\n355,1644918841|10800|0,\"242 - Plazoleta Rafael del Riego\",-34.567483,-58.446381,6,10,true,false,false,16,,0\\n358,1644918841|10800|0,\"249 - Balbín\",-34.561486,-58.465586,11,1,true,false,false,12,,0\\n359,1644918841|10800|0,\"250 - Fleni\",-34.555602,-58.450479,20,0,true,false,false,20,,0\\n361,1644918841|10800|0,\"258 - Plaza J.J. Paso\",-34.569187,-58.453608,4,16,true,false,false,20,,0\\n363,1644918841|10800|0,\"354 - José Martí\",-34.6439,-58.463114,16,0,true,false,false,16,,0\\n364,1644918841|10800|0,\"381 - Matienzo Y Arce\",-34.568693,-58.43447,20,4,true,false,false,24,,0\\n366,1644918841|10800|0,\"360 - Plaza Ramon Falcon\",-34.63562929312515,-58.482770573412935,10,2,true,false,false,12,,0\\n367,1644918841|10800|0,\"287 - Belaustegui\",-34.61621214148026,-58.47720947344651,10,6,true,false,false,16,,0\\n368,1644918841|10800|0,\"378 - AGRONOMIA\",-34.59807,-58.482079,6,6,true,false,false,12,,0\\n369,1644918841|10800|0,\"304 - Navarro\",-34.592244,-58.491797,6,10,true,false,false,16,,0\\n370,1644918841|10800|0,\"305 - Plaza Martin Rodriguez\",-34.590964,-58.500336,16,4,true,false,false,20,,0\\n372,1644918841|10800|0,\"322 - MARTÍ Y DIRECTORIO\",-34.636406,-58.470136,11,1,true,false,false,12,,0\\n373,1644918841|10800|0,\"265 - Plaza Exodo Jujeño\",-34.582336918286785,-58.48108314683206,6,10,true,false,false,16,,0\\n374,1644918841|10800|0,\"367 - Eva Perón\",-34.646911365478765,-58.4699753897715,14,2,true,false,false,16,,0\\n375,1644918841|10800|0,\"301 - Arregui Y Terrada\",-34.604597356692906,-58.48481211614322,4,11,true,false,false,16,,0\\n376,1644918841|10800|0,\"324 - Las Victorias\",-34.626778,-58.487078,14,6,true,false,false,20,,0\\n378,1644918841|10800|0,\"215 - HOSPITAL ALVAREZ\",-34.623123,-58.468287,9,9,true,false,false,20,,0\\n382,1644918841|10800|0,\"204 - Biarritz\",-34.60547,-58.47739,8,8,true,false,false,16,,0\\n384,1644918841|10800|0,\"267 - Plaza 25 De Agosto\",-34.57951881156862,-58.46183473148808,5,13,true,false,false,18,,0\\n385,1644918841|10800|0,\"268 - Plaza Aristóbulo Del Valle\",-34.606159914753725,-58.493141345207654,10,4,true,false,false,17,,0\\n386,1644918841|10800|0,\"277 - Coghlan\",-34.5654,-58.4759,4,4,true,false,false,8,,0\\n387,1644918841|10800|0,\"278 - Donato Alvarez\",-34.602028,-58.465568,13,3,true,false,false,16,,0\\n392,1644918841|10800|0,\"297 - TRONADOR Y GARCÍA DEL RÍO\",-34.554581,-58.485381,12,3,true,false,false,16,,0\\n400,1644918841|10800|0,\"313 - De Los Incas\",-34.579751,-58.471003,2,12,true,false,false,16,,0\\n403,1644918841|10800|0,\"316 - Buenos Aires\",-34.645532066615736,-58.39667441428978,10,10,true,false,false,20,,0\\n407,1644918841|10800|0,\"330 - Parque Avellaneda\",-34.641288,-58.479945,10,18,true,false,false,28,,0\\n408,1644918841|10800|0,\"364 - CERRETTI Y MANUELA PEDRAZA\",-34.56912,-58.50025,4,11,true,false,false,16,,0\\n412,1644918841|10800|0,\"372 - VILLA SOLDATI\",-34.66145153498837,-58.44014625846915,8,0,true,false,false,8,,0\\n413,1644918841|10800|0,\"382 - MERCADO DE HACIENDA MATADEROS\",-34.6602831,-58.5031426,6,9,true,false,false,16,,0\\n416,1644918841|10800|0,\"257 - Plaza Francisco Ramirez\",-34.553262,-58.469133,27,1,true,false,false,28,,0\\n417,1644918841|10800|0,\"127 - PLAZA LEONARDO N. ALEM\",-34.57634,-58.50248,12,8,true,false,false,20,,0\\n422,1644918841|10800|0,\"379 - PARQUE SARMIENTO II\",-34.56454,-58.50289,3,13,true,false,false,16,,0\\n423,1644918841|10800|0,\"043 - PLAZA ALBERDI\",-34.559255,-58.487772,8,4,true,false,false,12,,0\\n424,1644918841|10800|0,\"387 - Luna\",-34.638584,-58.39965,8,8,true,false,false,16,,0\\n425,1644918841|10800|0,\"394 - Av. La Plata\",-34.6440763,-58.422091,16,0,true,false,false,16,,0\\n426,1644918841|10800|0,\"396 - PLAZA ALBERTI\",-34.555081,-58.458538,14,3,true,false,false,20,,0\\n427,1644918841|10800|0,\"397 - PARQUE SANTOJANNI\",-34.64706360234081,-58.5148283486816,7,7,true,false,false,16,,0\\n428,1644918841|10800|0,\"225 - HOSPITAL TORNU\",-34.587458,-58.4739506,7,13,true,false,false,20,,0\\n429,1644918841|10800|0,\"201 - PLAZA EJERCITO DE LOS ANDES\",-34.63897407331851,-58.51010241799404,1,15,true,false,false,16,,0\\n432,1644918841|10800|0,\"187 - Jose Maria Moreno\",-34.619879,-58.435801,11,8,true,false,false,20,,0\\n433,1644918841|10800|0,\"273 - Plazoleta Colombia\",-34.637697,-58.373726,19,0,true,false,false,20,,0\\n434,1644918841|10800|0,\"247 - PLAZA LUCIO DEMARE\",-34.54569,-58.46514,14,2,true,false,false,16,,0\\n435,1644918841|10800|0,\"227 -Club Ciudad de Buenos Aires\",-34.544503,-58.459499,8,4,true,false,false,16,,0\\n441,1644918841|10800|0,\"016 - Legislatura\",-34.609801,-58.3748,1,18,true,false,false,20,,0\\n444,1644918841|10800|0,\"061-Ministerio de Economia\",-34.608936,-58.370716,1,23,true,false,false,24,,0\\n448,1644918841|10800|0,\"393 - Barrio 31\",-34.582422,-58.378862,9,14,true,false,false,24,,0\\n449,1644918841|10800|0,\"352 - San Jose de Flores\",-34.629083,-58.463251,7,17,true,false,false,24,,0\\n453,1644918841|10800|0,\"028 - Plaza de la Bandera\",-34.62945,-58.49439,11,5,true,false,false,16,,0\\n454,1644918841|10800|0,\"176 - Plaza Derechos del hombre\",-34.63403,-58.50694,1,11,true,false,false,12,,0\\n455,1644918841|10800|0,\"039 - Plaza Don Bosco\",-34.62652,-58.50805,14,2,true,false,false,16,,0\\n456,1644918841|10800|0,\"052 - PLAZA JUAN S. SALABERRY\",-34.65551,-58.50703,4,12,true,false,false,16,,0\\n457,1644918841|10800|0,\"110 - PLAZA CD DE BANFF\",-34.62805,-58.52174,9,6,true,false,false,16,,0\\n458,1644918841|10800|0,\"219 - Parque Chacabuco II\",-34.636275,-58.444041,10,10,true,false,false,20,,0\\n459,1644918841|10800|0,\"327 - PLAZA RICCHERI\",-34.61072,-58.51914,10,6,true,false,false,16,,0\\n460,1644918841|10800|0,\"133 - BEIRO Y SEGUROLA\",-34.6075,-58.51193,7,9,true,false,false,16,,0\\n461,1644918841|10800|0,\"106 - MOSCONI Y CONSTITUYENTES\",-34.58088,-58.49363,3,12,true,false,false,16,,0\\n']"
      ]
     },
     "execution_count": 13,
     "metadata": {},
     "output_type": "execute_result"
    }
   ],
   "source": [
    "station_info_list[0:2]"
   ]
  },
  {
   "cell_type": "code",
   "execution_count": 18,
   "id": "c2b8a217",
   "metadata": {
    "collapsed": true,
    "jupyter": {
     "outputs_hidden": true
    },
    "tags": []
   },
   "outputs": [],
   "source": [
    "# [i for i in station_info_list if \"Kyobo Tower Bus Stop\" in i]"
   ]
  },
  {
   "cell_type": "code",
   "execution_count": 15,
   "id": "7e79470e",
   "metadata": {},
   "outputs": [],
   "source": [
    "#removing \\n from list\n",
    "\n",
    "clean_lst1 = []\n",
    "for x in station_info_list:\n",
    "    clean_lst1.append(x.replace(\"\\n\", \"\"))#.replace(\"0',\", \"\").replace(\"'0',\",\"\").replace(\"6',\", \"\"))"
   ]
  },
  {
   "cell_type": "code",
   "execution_count": 16,
   "id": "146cbc64",
   "metadata": {
    "collapsed": true,
    "jupyter": {
     "outputs_hidden": true
    },
    "tags": []
   },
   "outputs": [
    {
     "data": {
      "text/plain": [
       "['#id,timestamp|gmt_local_diff_sec|gmt_servertime_diff_sec,name,lat,lon,bikes,spaces,installed,locked,temporary,total_docks,givesbonus_acceptspedelecs_fbbattlevel,pedelecs700,1644918603.4446523|-3600|0,\"01. Stazione FS\",44.223352,12.055386,9,14,true,false,false,24,false,0701,1644918603.4448013|-3600|0,\"02. Vittoria\",44.217607,12.050157,4,6,true,false,false,10,false,0702,1644918603.4449384|-3600|0,\"03. Vittorio Veneto\",44.227917,12.042153,8,7,true,false,false,16,false,0703,1644918603.4450727|-3600|0,\"04. Piazza Saffi\",44.223322,12.041495,15,11,true,false,false,28,false,0704,1644918603.4452188|-3600|0,\"05. San Domenico\",44.222041,12.036168,1,13,true,false,false,14,false,0705,1644918603.4453604|-3600|0,\"06. Park dell\\'Argine\",44.218927,12.032757,9,11,true,false,false,21,false,0706,1644918603.4455001|-3600|0,\"07. Park Schiavonia\",44.226215,12.028287,1,5,true,false,false,6,false,01397,1644918603.445636|-3600|0,\"09. Campus Universitario I\",44.219257,12.042756,4,5,true,false,false,9,false,01398,1644918603.4457433|-3600|0,\"10. Park Oriani\",44.221137,12.049119,3,5,true,false,false,8,false,01399,1644918603.4458475|-3600|0,\"11. Campus Universitario II\",44.217696,12.044369,3,7,true,false,false,10,false,01673,1644918603.4459524|-3600|0,\"12. XX Settembre\",44.222188,12.042997,3,4,true,false,false,7,false,01674,1644918603.4460547|-3600|0,\"13. BIKE POINT Park Lombardini\",44.217425,12.041227,0,8,true,false,false,8,false,01675,1644918603.4461653|-3600|0,\"14. BIKE POINT Park Manzoni\",44.223120,12.047737,7,1,true,false,false,8,false,0',\n",
       " '#id,timestamp|gmt_local_diff_sec|gmt_servertime_diff_sec,name,lat,lon,bikes,spaces,installed,locked,temporary,total_docks,givesbonus_acceptspedelecs_fbbattlevel,pedelecs2,1644918841|10800|0,\"002 - Retiro I\",-34.5924233,-58.3747151,9,10,true,false,false,20,,03,1644918841|10800|0,\"003 - ADUANA\",-34.611032,-58.3682604,3,17,true,false,false,20,,04,1644918841|10800|0,\"004 - Plaza Roma\",-34.601822,-58.368781,0,20,true,false,false,20,,05,1644918841|10800|0,\"005 - Plaza Italia\",-34.5805497,-58.4209542,9,33,true,false,false,42,,06,1644918841|10800|0,\"006 - Parque Lezama\",-34.628526,-58.369758,8,11,true,false,false,20,,07,1644918841|10800|0,\"007 - OBELISCO\",-34.606498,-58.381098,1,15,true,false,false,16,,08,1644918841|10800|0,\"008 - Congreso\",-34.6094218,-58.3893364,3,20,true,false,false,24,,09,1644918841|10800|0,\"009 - Parque Las Heras\",-34.585443,-58.407741,4,20,true,false,false,24,,012,1644918841|10800|0,\"012 - Plaza Vicente Lopez\",-34.5927096,-58.388807,0,16,true,false,false,16,,013,1644918841|10800|0,\"013 - ONCE\",-34.61009,-58.406,2,28,true,false,false,30,,014,1644918841|10800|0,\"014 - Pacifico\",-34.577424,-58.426387,17,12,true,false,false,30,,017,1644918841|10800|0,\"017 - Plaza Almagro\",-34.6064101,-58.4187306,7,11,true,false,false,20,,020,1644918841|10800|0,\"020 - Distrito Audiovisual\",-34.5798619,-58.4417756,4,14,true,false,false,20,,021,1644918841|10800|0,\"021 - Parque Patricios\",-34.640111,-58.406432,24,0,true,false,false,24,,022,1644918841|10800|0,\"022 - Arenales\",-34.5938629,-58.3825498,0,20,true,false,false,20,,023,1644918841|10800|0,\"023 - Suipacha\",-34.600139,-58.379836,0,12,true,false,false,12,,024,1644918841|10800|0,\"024 - ALSINA\",-34.610583,-58.3808943,1,17,true,false,false,18,,025,1644918841|10800|0,\"025 - Plaza Guemes\",-34.5894269,-58.4161178,4,20,true,false,false,24,,026,1644918841|10800|0,\"026 - JUANA MANSO I\",-34.600752,-58.3638723,2,22,true,false,false,24,,027,1644918841|10800|0,\"027 - Montevideo\",-34.599068,-58.3900887,4,11,true,false,false,16,,029,1644918841|10800|0,\"029 - Parque Centenario\",-34.6079414,-58.4335573,17,12,true,false,false,30,,030,1644918841|10800|0,\"030 - Peña\",-34.5908211,-58.3973698,7,12,true,false,false,20,,032,1644918841|10800|0,\"032 - Catedral\",-34.6072074,-58.3735984,1,15,true,false,false,16,,033,1644918841|10800|0,\"033 - Facultad de Medicina\",-34.5970909,-58.3989807,2,18,true,false,false,20,,035,1644918841|10800|0,\"035 - INGENIERO BUTTY\",-34.5964246,-58.371847,0,20,true,false,false,20,,036,1644918841|10800|0,\"036 - MAIPÚ\",-34.6045481,-58.3767677,1,15,true,false,false,16,,038,1644918841|10800|0,\"038 - Plaza Libertad\",-34.5970497,-58.3828403,3,16,true,false,false,20,,041,1644918841|10800|0,\"041 - Urquiza y Rondeau\",-34.6364511,-58.4076348,15,3,true,false,false,20,,043,1644918841|10800|0,\"334 - CENTRO DE EXPOSICIONES\",-34.584018,-58.389921,18,2,true,false,false,20,,044,1644918841|10800|0,\"044 - Ecoparque\",-34.5755148,-58.4138829,9,11,true,false,false,20,,045,1644918841|10800|0,\"045 - Uruguay\",-34.6018635,-58.3866934,0,20,true,false,false,20,,046,1644918841|10800|0,\"046 - Chile\",-34.6163012,-58.3743749,2,16,true,false,false,18,,048,1644918841|10800|0,\"034 - Colonia Express\",-34.624255,-58.362131,1,15,true,false,false,16,,049,1644918841|10800|0,\"049 - 33 Orientales\",-34.6290527,-58.422611,3,9,true,false,false,16,,050,1644918841|10800|0,\"050 - Hospital Rivadavia\",-34.5837348,-58.4010798,4,13,true,false,false,20,,051,1644918841|10800|0,\"051 - TUCUMAN\",-34.6014776,-58.3821261,0,11,true,false,false,12,,054,1644918841|10800|0,\"054 - Acuña de Figueroa\",-34.5982097,-58.4220694,7,6,true,false,false,16,,056,1644918841|10800|0,\"056 - Plaza Palermo Viejo\",-34.588567,-58.425999,3,13,true,false,false,16,,058,1644918841|10800|0,\"058 - Ministro Carranza\",-34.5752773,-58.4346883,4,15,true,false,false,20,,059,1644918841|10800|0,\"018 - Independencia\",-34.617654,-58.380565,3,17,true,false,false,20,,060,1644918841|10800|0,\"060 - 25 De Mayo\",-34.6016509,-58.371079,0,20,true,false,false,20,,061,1644918841|10800|0,\"098 - AV. ALVAREZ JONTE Y BENITO JUAREZ\",-34.61880867765093,-58.504662916142756,13,3,true,false,false,16,,063,1644918841|10800|0,\"063 - Reconquista\",-34.5986,-58.373062,0,20,true,false,false,20,,064,1644918841|10800|0,\"064 - RIOBAMBA\",-34.5936508,-58.3941087,2,18,true,false,false,20,,065,1644918841|10800|0,\"065 - Julián Álvarez\",-34.5873124,-58.4157873,1,19,true,false,false,21,,066,1644918841|10800|0,\"066 - Billinghurst\",-34.5945475,-58.4138713,4,16,true,false,false,20,,068,1644918841|10800|0,\"105 - PARQUE SAAVEDRA\",-34.552148,-58.480464,11,3,true,false,false,16,,069,1644918841|10800|0,\"069 - Ecuador\",-34.5961006,-58.4046092,9,7,true,false,false,16,,070,1644918841|10800|0,\"070 - ARAOZ\",-34.5926862,-58.4260597,3,17,true,false,false,20,,071,1644918841|10800|0,\"071 - CERRITO\",-34.6026673,-58.3833559,3,27,true,false,false,30,,073,1644918841|10800|0,\"073 - Ruy Díaz de Guzmán\",-34.6306814,-58.3718235,15,1,true,false,false,16,,074,1644918841|10800|0,\"074 - INSTITUTO  LELOIR\",-34.60439,-58.43454,13,16,true,false,false,30,,075,1644918841|10800|0,\"075 - Plaza Primero de Mayo\",-34.6122976,-58.3989871,18,0,true,false,false,20,,076,1644918841|10800|0,\"076 - Ayacucho\",-34.6074084,-58.3950548,5,9,true,false,false,20,,077,1644918841|10800|0,\"109 - ESTACION PUEYRREDON\",-34.581135,-58.501487,12,3,true,false,false,16,,079,1644918841|10800|0,\"079 - AZUCENA VILLAFLOR\",-34.61189,-58.36393,0,29,true,false,false,30,,080,1644918841|10800|0,\"080 - DOBLAS\",-34.624435,-58.4303766,11,4,true,false,false,16,,082,1644918841|10800|0,\"082 - HOSPITAL ITALIANO\",-34.6078917,-58.4263947,9,11,true,false,false,20,,083,1644918841|10800|0,\"083 - Paraná\",-34.603269,-58.3893728,0,19,true,false,false,20,,084,1644918841|10800|0,\"084 - Lavalle\",-34.6023203,-58.3955144,3,16,true,false,false,20,,085,1644918841|10800|0,\"085 - AGUERO\",-34.5948057,-58.4091784,2,18,true,false,false,20,,086,1644918841|10800|0,\"086 - SAAVEDRA\",-34.6212681,-58.4016808,1,18,true,false,false,20,,087,1644918841|10800|0,\"087 - Guayaquil\",-34.619845,-58.4314942,13,1,true,false,false,16,,089,1644918841|10800|0,\"089 - Cabello\",-34.5825475,-58.4056671,9,9,true,false,false,20,,091,1644918841|10800|0,\"091 - Pasco\",-34.6174482,-58.397602,5,14,true,false,false,20,,092,1644918841|10800|0,\"092 - Salcedo\",-34.6316444,-58.4053386,13,7,true,false,false,20,,093,1644918841|10800|0,\"093 - CARLOS CALVO\",-34.620798,-58.3944635,7,12,true,false,false,20,,094,1644918841|10800|0,\"094 - GÚZMAN\",-34.591511,-58.449652,11,18,true,false,false,30,,095,1644918841|10800|0,\"095 - ESMERALDA\",-34.6021121,-58.3781678,5,11,true,false,false,16,,096,1644918841|10800|0,\"096 - Carlos Gardel\",-34.6027814,-58.4116586,6,11,true,false,false,20,,098,1644918841|10800|0,\"037- Claudia Pía Baudracco\",-34.6081643,-58.3779002,1,15,true,false,false,16,,099,1644918841|10800|0,\"099 - Malabia\",-34.5960961,-58.435408,12,6,true,false,false,20,,0101,1644918841|10800|0,\"101 - Fitz Roy\",-34.5891857,-58.4424397,6,14,true,false,false,20,,0104,1644918841|10800|0,\"104 - Federico Lacroze\",-34.587617,-58.455212,16,14,true,false,false,30,,0107,1644918841|10800|0,\"107 - HOSPITAL GARRAHAN\",-34.630374,-58.395852,3,12,true,false,false,16,,0111,1644918841|10800|0,\"111 - MACACHA GUEMES\",-34.6054877,-58.3646858,0,28,true,false,false,30,,0112,1644918841|10800|0,\"112 - 9 de Julio\",-34.612075,-58.380384,0,20,true,false,false,20,,0114,1644918841|10800|0,\"114 - DELLA PAOLERA\",-34.5949745,-58.3722554,2,18,true,false,false,20,,0116,1644918841|10800|0,\"116 - HOSPITAL ALEMÁN\",-34.5921708,-58.4025894,7,5,true,false,false,12,,0117,1644918841|10800|0,\"117 - HUMBERTO 1°\",-34.6201008,-58.3741759,2,11,true,false,false,16,,0118,1644918841|10800|0,\"118 - MEXICO\",-34.6170196,-58.4026531,0,20,true,false,false,20,,0120,1644918841|10800|0,\"120 - HOSPITAL RAMOS MEJIA\",-34.617509,-58.4092876,3,17,true,false,false,20,,0121,1644918841|10800|0,\"121 - YATAY\",-34.6011732,-58.4285093,5,14,true,false,false,20,,0124,1644918841|10800|0,\"124 - UGARTECHE\",-34.580538,-58.411965,13,4,true,false,false,20,,0126,1644918841|10800|0,\"126 - Ministerio de Justicia y Seguridad\",-34.6402672,-58.3692243,9,7,true,false,false,16,,0128,1644918841|10800|0,\"128 - PARQUE DEL BAJO\",-34.6041138,-58.3689118,2,18,true,false,false,20,,0130,1644918841|10800|0,\"130 - RETIRO II\",-34.5921056,-58.3745419,15,24,true,false,false,40,,0131,1644918841|10800|0,\"131- HOSPITAL DE CLÍNICAS\",-34.5984043,-58.3990158,2,14,true,false,false,16,,0132,1644918841|10800|0,\"132 - CORRIENTES\",-34.6033685,-58.372763,2,10,true,false,false,12,,0134,1644918841|10800|0,\"134 - SOLDADO DE LA FRONTERA\",-34.68294,-58.4659,7,4,true,false,false,12,,0135,1644918841|10800|0,\"135 - MARCELO T. DE ALVEAR\",-34.5972818,-58.3787856,2,18,true,false,false,20,,0137,1644918841|10800|0,\"137 - AZOPARDO Y CHILE\",-34.6155977,-58.3674923,4,16,true,false,false,20,,0138,1644918841|10800|0,\"138 - Hospital Britanico\",-34.6353595,-58.3876724,9,3,true,false,false,12,,0144,1644918841|10800|0,\"144 - PUEYRREDÓN\",-34.6018744,-58.4060944,6,12,true,false,false,20,,0146,1644918841|10800|0,\"146 - Hospital Francés\",-34.6221118,-58.4078419,3,16,true,false,false,20,,0149,1644918841|10800|0,\"149 - LIMA\",-34.6153266,-58.3813642,1,14,true,false,false,16,,0150,1644918841|10800|0,\"150 - RODRIGO BUENO\",-34.6187547,-58.3554654,10,19,true,false,false,30,,0151,1644918841|10800|0,\"151 - AIME PAINÉ\",-34.6118145,-58.361285,0,23,true,false,false,24,,0152,1644918841|10800|0,\"152 - JULIETA LANTERI\",-34.6181645,-58.3596311,11,5,true,false,false,20,,0153,1644918841|10800|0,\"153 - JUAN MANUEL DE BLANES\",-34.6307765,-58.3620701,10,6,true,false,false,16,,0155,1644918841|10800|0,\"155 - Parque José Evaristo Uriburu\",-34.64117,-58.412408,19,1,true,false,false,20,,0156,1644918841|10800|0,\"156 - Plaza Alemania\",-34.5775895,-58.4074696,11,9,true,false,false,20,,0158,1644918841|10800|0,\"158 - VILLARROEL\",-34.592735,-58.4450697,12,8,true,false,false,20,,0161,1644918841|10800|0,\"161 - Humahuaca\",-34.6020779,-58.4196761,1,14,true,false,false,20,,0162,1644918841|10800|0,\"162 - LARREA Y BARTOLOMÉ MITRE\",-34.608985,-58.401924,8,11,true,false,false,20,,0163,1644918841|10800|0,\"163 - ONCE II\",-34.6095663,-58.4064308,4,23,true,false,false,30,,0164,1644918841|10800|0,\"164 - FACULTAD DE INGENIERIA\",-34.6181442,-58.3669021,1,18,true,false,false,20,,0165,1644918841|10800|0,\"165 - PLAZA MONSEÑOR MIGUEL DE ANDREA\",-34.597048,-58.407614,1,11,true,false,false,12,,0166,1644918841|10800|0,\"166 - Cementerio de Recoleta\",-34.588346663239754,-58.394147942865644,0,12,true,false,false,12,,0167,1644918841|10800|0,\"275 - PLAZA 24 DE SEPTIEMBRE\",-34.606984,-58.44854,9,7,true,false,false,16,,0168,1644918841|10800|0,\"168 - Estados Unidos\",-34.6186217,-58.3812271,3,13,true,false,false,16,,0169,1644918841|10800|0,\"169 - FACULTAD DE PSICOLOGIA\",-34.6123459,-58.411856,4,7,true,false,false,12,,0171,1644918841|10800|0,\"171 - Pasteur\",-34.6032813,-58.3997553,2,17,true,false,false,20,,0172,1644918841|10800|0,\"172 - BRASIL\",-34.625426,-58.371082,1,15,true,false,false,16,,0174,1644918841|10800|0,\"174 - MINISTERIO DE EDUCACION\",-34.597225,-58.391768,1,19,true,false,false,20,,0175,1644918841|10800|0,\"147 - Constitución\",-34.626851,-58.380707,26,8,true,false,false,36,,0176,1644918841|10800|0,\"067 - PARQUE SARMIENTO I\",-34.555254,-58.494845,6,10,true,false,false,16,,0179,1644918841|10800|0,\"179 - CASA SAN\",-34.6384786,-58.3642885,14,0,true,false,false,16,,0181,1644918841|10800|0,\"181 - BILLINGHURST Y MANSILLA\",-34.5926649,-58.4120072,1,19,true,false,false,20,,0182,1644918841|10800|0,\"182 - RAVIGNANI Y GUATEMALA\",-34.5780479,-58.4352466,4,13,true,false,false,20,,0183,1644918841|10800|0,\"183 - VIRREY CEVALLOS\",-34.6156994,-58.3899728,8,11,true,false,false,20,,0184,1644918841|10800|0,\"184 - Pedro Echague\",-34.6306129,-58.3913419,6,13,true,false,false,20,,0186,1644918841|10800|0,\"186 - MANZANA 66\",-34.6136356,-58.4064415,3,17,true,false,false,20,,0187,1644918841|10800|0,\"261 - QUINTEROS LIDORO\",-34.552571,-58.450897,15,1,true,false,false,16,,0188,1644918841|10800|0,\"373 - Jorgelina De Simone\",-34.623923,-58.3904814,10,5,true,false,false,16,,0189,1644918841|10800|0,\"189 - POSADAS\",-34.5886889,-58.3852113,1,18,true,false,false,20,,0190,1644918841|10800|0,\"190 - JUNCAL\",-34.5850763,-58.4111136,0,19,true,false,false,20,,0191,1644918841|10800|0,\"191 - Rivadavia y 9 de Julio\",-34.6079305,-58.3808358,7,9,true,false,false,16,,0193,1644918841|10800|0,\"193 - ARENALES Y AGUERO\",-34.5908626,-58.4061652,8,12,true,false,false,20,,0194,1644918841|10800|0,\"194 - PERÓN Y ACUÑA DE FIGUEROA\",-34.6060758,-58.4224635,3,12,true,false,false,16,,0196,1644918841|10800|0,\"196 - HOSPITAL ARGERICH\",-34.6275351,-58.3657211,15,1,true,false,false,20,,0197,1644918841|10800|0,\"197 - PLAZA CIUDAD DE UDINE\",-34.620998,-58.493044,17,2,true,false,false,20,,0199,1644918841|10800|0,\"199 - ESTADOS UNIDOS Y BOEDO\",-34.6222601,-58.4160137,11,5,true,false,false,20,,0200,1644918841|10800|0,\"200 - AUSTRIA Y FRENCH\",-34.5890696,-58.40536170000001,2,13,true,false,false,15,,0202,1644918841|10800|0,\"001 - FACULTAD DE DERECHO\",-34.583749,-58.390602,28,1,true,false,false,30,,0203,1644918841|10800|0,\"108 - Usina del Arte\",-34.628757,-58.356259,18,3,true,false,false,24,,0204,1644918841|10800|0,\"167 - Hipólito Yrigoyen\",-34.614948,-58.427818,14,9,true,false,false,24,,0205,1644918841|10800|0,\"125 - F.J.Santamaria de Oro\",-34.583323,-58.428016,0,15,true,false,false,16,,0206,1644918841|10800|0,\"159 - Fitz Roy & Gorriti\",-34.58495,-58.437339,6,10,true,false,false,16,,0207,1644918841|10800|0,\"123 - BASUALDO Y RODO\",-34.649323859081555,-58.4926339870569,9,5,true,false,false,16,,0210,1644918841|10800|0,\"335 - General Urquiza\",-34.572165,-58.411278,6,14,true,false,false,20,,0212,1644918841|10800|0,\"129 - Velasco\",-34.600275,-58.434875,7,11,true,false,false,20,,0213,1644918841|10800|0,\"136 - Acevedo\",-34.599659,-58.442685,16,3,true,false,false,20,,0214,1644918841|10800|0,\"142 - Armenia y Gorriti\",-34.590541,-58.428974,4,12,true,false,false,16,,0215,1644918841|10800|0,\"113 - Guatemala\",-34.585878,-58.424996,4,15,true,false,false,20,,0216,1644918841|10800|0,\"059 - Coronel Diaz\",-34.589968,-58.411493,4,16,true,false,false,20,,0219,1644918841|10800|0,\"140 - Las Casas\",-34.6360274,-58.4156332,11,1,true,false,false,16,,0220,1644918841|10800|0,\"097 - Avelino Diaz\",-34.635128,-58.427573,13,2,true,false,false,16,,0222,1644918841|10800|0,\"160 - Godoy Cruz y Libertador\",-34.572583,-58.420628,12,7,true,false,false,20,,0223,1644918841|10800|0,\"178 - José Marmol\",-34.6234,-58.424853,5,8,true,false,false,16,,0227,1644918841|10800|0,\"188 - Aranguren\",-34.610456,-58.432786,3,14,true,false,false,20,,0229,1644918841|10800|0,\"243 - PLAZOLETA CELEDONIO FLORES\",-34.581576,-58.45153,7,4,true,false,false,12,,0230,1644918841|10800|0,\"259 - PLAZA CASTELLI\",-34.5678255,-58.4645037,6,9,true,false,false,16,,0231,1644918841|10800|0,\"384 - PLAZA BENITO NAZAR\",-34.605109,-58.445897,10,5,true,false,false,16,,0232,1644918841|10800|0,\"252 - Tamborini\",-34.5599779,-58.4790578,8,12,true,false,false,20,,0235,1644918841|10800|0,\"281 - Villa Urquiza\",-34.573795,-58.487074,8,13,true,false,false,24,,0236,1644918841|10800|0,\"254 - Plaza Rafael Hernandez\",-34.562161,-58.455166,6,9,true,false,false,16,,0237,1644918841|10800|0,\"302 - ESTACION VILLA LURO\",-34.63670935917866,-58.50135525810292,7,9,true,false,false,16,,0239,1644918841|10800|0,\"391 - Plaza República de Ecuador\",-34.565091,-58.420702,13,6,true,false,false,20,,0241,1644918841|10800|0,\"348 - Villa del Parque\",-34.600874,-58.494123,5,7,true,false,false,12,,0242,1644918841|10800|0,\"103 - MALBA\",-34.57716,-58.403214,0,20,true,false,false,20,,0245,1644918841|10800|0,\"248 - Husares\",-34.552594,-58.4429397,10,5,true,false,false,16,,0247,1644918841|10800|0,\"282 - Tronador\",-34.5838957,-58.466494,4,11,true,false,false,18,,0248,1644918841|10800|0,\"346 - Plaza Zapiola\",-34.573522,-58.474635,17,2,true,false,false,20,,0249,1644918841|10800|0,\"307 - LEONARDO PEREYRA\",-34.649506877132595,-58.38912434455312,10,3,true,false,false,16,,0251,1644918841|10800|0,\"388 - Plaza Jose C Paz\",-34.64485797668555,-58.4097486603218,10,1,true,false,false,12,,0252,1644918841|10800|0,\"331 - CALIFORNIA\",-34.647121,-58.374336,7,9,true,false,false,16,,0254,1644918841|10800|0,\"276 - PRIMERA JUNTA\",-34.620717,-58.441607,14,1,true,false,false,16,,0255,1644918841|10800|0,\"374 - Puan\",-34.622092,-58.448547,12,2,true,false,false,16,,0257,1644918841|10800|0,\"264 - Plaza Marcos Sastre\",-34.570825,-58.481236,12,8,true,false,false,24,,0258,1644918841|10800|0,\"336 - La Pampa\",-34.565521,-58.455334,6,9,true,false,false,16,,0261,1644918841|10800|0,\"272 - Plaza Bruno Giordano\",-34.616151,-58.440584,11,4,true,false,false,16,,0262,1644918841|10800|0,\"349 - Plaza Saenz Peña\",-34.60976,-58.467477,15,1,true,false,false,16,,0263,1644918841|10800|0,\"270 - PLAZA DEL ANGEL GRIS\",-34.622003,-58.457555,8,3,true,false,false,12,,0265,1644918841|10800|0,\"361 - Plaza Don Segundo Sombra\",-34.64196,-58.4505,10,5,true,false,false,16,,0267,1644918841|10800|0,\"315 - BEIRO Y SAN MARTÍN\",-34.5976121,-58.4985424,10,4,true,false,false,16,,0268,1644918841|10800|0,\"399 - GARCIA DEL RIO\",-34.550015,-58.476521,26,0,true,false,false,28,,0269,1644918841|10800|0,\"260 - SAN MIGUEL DE GARICOITS\",-34.577329,-58.457799,16,0,true,false,false,18,,0270,1644918841|10800|0,\"370 - Beauchef\",-34.640114,-58.43026,17,3,true,false,false,20,,0271,1644918841|10800|0,\"365 - Venancio Flores\",-34.630108,-58.473844,14,6,true,false,false,20,,0273,1644918841|10800|0,\"223 - GAINZA\",-34.616758,-58.446751,13,1,true,false,false,16,,0275,1644918841|10800|0,\"256 - PLAZA NORUEGA\",-34.562396,-58.459148,10,9,true,false,false,20,,0277,1644918841|10800|0,\"292 - PLAZA BOLIVIA\",-34.563539,-58.436115,2,8,true,false,false,12,,0278,1644918841|10800|0,\"233 - MONROE\",-34.564122,-58.469813,8,8,true,false,false,16,,0280,1644918841|10800|0,\"222 - SIMON BOLIVAR\",-34.633528,-58.449379,22,1,true,false,false,24,,0281,1644918841|10800|0,\"350 - Plaza Irlanda\",-34.613778,-58.458315,17,2,true,false,false,24,,0284,1644918841|10800|0,\"229 - RIGLOS\",-34.631018,-58.435056,15,5,true,false,false,20,,0289,1644918841|10800|0,\"255 - BARRANCAS DE BELGRANO\",-34.559801,-58.448314,11,10,true,false,false,24,,0291,1644918841|10800|0,\"244 - UADE\",-34.617247,-58.381627,0,15,true,false,false,16,,0294,1644918841|10800|0,\"363 - Udaondo\",-34.5458835,-58.4520062,18,1,true,false,false,20,,0299,1644918841|10800|0,\"221 - CULPINA\",-34.631705,-58.466143,14,6,true,false,false,20,,0301,1644918841|10800|0,\"309 - UTN II\",-34.66036165776025,-58.4676386893849,18,2,true,false,false,20,,0302,1644918841|10800|0,\"340 - PLAZA NUEVA POMPEYA\",-34.6518464,-58.415771,15,0,true,false,false,16,,0304,1644918841|10800|0,\"395 - Agronomia II\",-34.58938,-58.4847,5,10,true,false,false,16,,0307,1644918841|10800|0,\"341 - COMUNA 4\",-34.65050475967216,-58.424671969909355,11,0,true,false,false,12,,0308,1644918841|10800|0,\"251 - Solar de la Abadía\",-34.567633,-58.436752,17,3,true,false,false,20,,0309,1644918841|10800|0,\"298 - PLAZA DR. JUAN B. TERAN\",-34.62141207128675,-58.51978098730658,11,3,true,false,false,16,,0310,1644918841|10800|0,\"356 - ESTACIÓN LUGANO\",-34.67735630418917,-58.47665863333657,2,10,true,false,false,14,,0311,1644918841|10800|0,\"213 - Hospital Alvear\",-34.5972098,-58.47421143,12,8,true,false,false,20,,0316,1644918841|10800|0,\"205 - SAN MARTIN\",-34.605567,-58.453475,11,3,true,false,false,16,,0318,1644918841|10800|0,\"285 - ESPINOSA\",-34.603936,-58.457317,17,2,true,false,false,20,,0322,1644918841|10800|0,\"289 - MONTAÑESES\",-34.551304,-58.454181,18,2,true,false,false,20,,0323,1644918841|10800|0,\"240 - ECHEVERRIA\",-34.565409,-58.459298,19,5,true,false,false,24,,0324,1644918841|10800|0,\"280 - JURAMENTO\",-34.578933,-58.4840556,3,12,true,false,false,16,,0327,1644918841|10800|0,\"366 - VILLA OLÍMPICA\",-34.677130515662185,-58.454286054001386,5,11,true,false,false,16,,0329,1644918841|10800|0,\"100 - Plaza Gurruchaga\",-34.593141,-58.435187,8,12,true,false,false,20,,0333,1644918841|10800|0,\"203 - Beiro\",-34.6008,-58.50335,13,7,true,false,false,20,,0335,1644918841|10800|0,\"206 - Galicia\",-34.615945,-58.47098,18,1,true,false,false,20,,0336,1644918841|10800|0,\"207 - PLAZA ARENALES\",-34.5999173,-58.5114159,27,0,true,false,false,28,,0340,1644918841|10800|0,\"359 - PLAZA BALCARCE\",-34.54754,-58.467844,14,5,true,false,false,20,,0342,1644918841|10800|0,\"218 - Campana\",-34.616813,-58.484297,10,9,true,false,false,20,,0348,1644918841|10800|0,\"231 - Margariños Cervantes\",-34.610482,-58.474369,9,0,true,false,false,12,,0353,1644918841|10800|0,\"237 - Madero Office\",-34.599036,-58.364695,2,15,true,false,false,20,,0355,1644918841|10800|0,\"242 - Plazoleta Rafael del Riego\",-34.567483,-58.446381,6,10,true,false,false,16,,0358,1644918841|10800|0,\"249 - Balbín\",-34.561486,-58.465586,11,1,true,false,false,12,,0359,1644918841|10800|0,\"250 - Fleni\",-34.555602,-58.450479,20,0,true,false,false,20,,0361,1644918841|10800|0,\"258 - Plaza J.J. Paso\",-34.569187,-58.453608,4,16,true,false,false,20,,0363,1644918841|10800|0,\"354 - José Martí\",-34.6439,-58.463114,16,0,true,false,false,16,,0364,1644918841|10800|0,\"381 - Matienzo Y Arce\",-34.568693,-58.43447,20,4,true,false,false,24,,0366,1644918841|10800|0,\"360 - Plaza Ramon Falcon\",-34.63562929312515,-58.482770573412935,10,2,true,false,false,12,,0367,1644918841|10800|0,\"287 - Belaustegui\",-34.61621214148026,-58.47720947344651,10,6,true,false,false,16,,0368,1644918841|10800|0,\"378 - AGRONOMIA\",-34.59807,-58.482079,6,6,true,false,false,12,,0369,1644918841|10800|0,\"304 - Navarro\",-34.592244,-58.491797,6,10,true,false,false,16,,0370,1644918841|10800|0,\"305 - Plaza Martin Rodriguez\",-34.590964,-58.500336,16,4,true,false,false,20,,0372,1644918841|10800|0,\"322 - MARTÍ Y DIRECTORIO\",-34.636406,-58.470136,11,1,true,false,false,12,,0373,1644918841|10800|0,\"265 - Plaza Exodo Jujeño\",-34.582336918286785,-58.48108314683206,6,10,true,false,false,16,,0374,1644918841|10800|0,\"367 - Eva Perón\",-34.646911365478765,-58.4699753897715,14,2,true,false,false,16,,0375,1644918841|10800|0,\"301 - Arregui Y Terrada\",-34.604597356692906,-58.48481211614322,4,11,true,false,false,16,,0376,1644918841|10800|0,\"324 - Las Victorias\",-34.626778,-58.487078,14,6,true,false,false,20,,0378,1644918841|10800|0,\"215 - HOSPITAL ALVAREZ\",-34.623123,-58.468287,9,9,true,false,false,20,,0382,1644918841|10800|0,\"204 - Biarritz\",-34.60547,-58.47739,8,8,true,false,false,16,,0384,1644918841|10800|0,\"267 - Plaza 25 De Agosto\",-34.57951881156862,-58.46183473148808,5,13,true,false,false,18,,0385,1644918841|10800|0,\"268 - Plaza Aristóbulo Del Valle\",-34.606159914753725,-58.493141345207654,10,4,true,false,false,17,,0386,1644918841|10800|0,\"277 - Coghlan\",-34.5654,-58.4759,4,4,true,false,false,8,,0387,1644918841|10800|0,\"278 - Donato Alvarez\",-34.602028,-58.465568,13,3,true,false,false,16,,0392,1644918841|10800|0,\"297 - TRONADOR Y GARCÍA DEL RÍO\",-34.554581,-58.485381,12,3,true,false,false,16,,0400,1644918841|10800|0,\"313 - De Los Incas\",-34.579751,-58.471003,2,12,true,false,false,16,,0403,1644918841|10800|0,\"316 - Buenos Aires\",-34.645532066615736,-58.39667441428978,10,10,true,false,false,20,,0407,1644918841|10800|0,\"330 - Parque Avellaneda\",-34.641288,-58.479945,10,18,true,false,false,28,,0408,1644918841|10800|0,\"364 - CERRETTI Y MANUELA PEDRAZA\",-34.56912,-58.50025,4,11,true,false,false,16,,0412,1644918841|10800|0,\"372 - VILLA SOLDATI\",-34.66145153498837,-58.44014625846915,8,0,true,false,false,8,,0413,1644918841|10800|0,\"382 - MERCADO DE HACIENDA MATADEROS\",-34.6602831,-58.5031426,6,9,true,false,false,16,,0416,1644918841|10800|0,\"257 - Plaza Francisco Ramirez\",-34.553262,-58.469133,27,1,true,false,false,28,,0417,1644918841|10800|0,\"127 - PLAZA LEONARDO N. ALEM\",-34.57634,-58.50248,12,8,true,false,false,20,,0422,1644918841|10800|0,\"379 - PARQUE SARMIENTO II\",-34.56454,-58.50289,3,13,true,false,false,16,,0423,1644918841|10800|0,\"043 - PLAZA ALBERDI\",-34.559255,-58.487772,8,4,true,false,false,12,,0424,1644918841|10800|0,\"387 - Luna\",-34.638584,-58.39965,8,8,true,false,false,16,,0425,1644918841|10800|0,\"394 - Av. La Plata\",-34.6440763,-58.422091,16,0,true,false,false,16,,0426,1644918841|10800|0,\"396 - PLAZA ALBERTI\",-34.555081,-58.458538,14,3,true,false,false,20,,0427,1644918841|10800|0,\"397 - PARQUE SANTOJANNI\",-34.64706360234081,-58.5148283486816,7,7,true,false,false,16,,0428,1644918841|10800|0,\"225 - HOSPITAL TORNU\",-34.587458,-58.4739506,7,13,true,false,false,20,,0429,1644918841|10800|0,\"201 - PLAZA EJERCITO DE LOS ANDES\",-34.63897407331851,-58.51010241799404,1,15,true,false,false,16,,0432,1644918841|10800|0,\"187 - Jose Maria Moreno\",-34.619879,-58.435801,11,8,true,false,false,20,,0433,1644918841|10800|0,\"273 - Plazoleta Colombia\",-34.637697,-58.373726,19,0,true,false,false,20,,0434,1644918841|10800|0,\"247 - PLAZA LUCIO DEMARE\",-34.54569,-58.46514,14,2,true,false,false,16,,0435,1644918841|10800|0,\"227 -Club Ciudad de Buenos Aires\",-34.544503,-58.459499,8,4,true,false,false,16,,0441,1644918841|10800|0,\"016 - Legislatura\",-34.609801,-58.3748,1,18,true,false,false,20,,0444,1644918841|10800|0,\"061-Ministerio de Economia\",-34.608936,-58.370716,1,23,true,false,false,24,,0448,1644918841|10800|0,\"393 - Barrio 31\",-34.582422,-58.378862,9,14,true,false,false,24,,0449,1644918841|10800|0,\"352 - San Jose de Flores\",-34.629083,-58.463251,7,17,true,false,false,24,,0453,1644918841|10800|0,\"028 - Plaza de la Bandera\",-34.62945,-58.49439,11,5,true,false,false,16,,0454,1644918841|10800|0,\"176 - Plaza Derechos del hombre\",-34.63403,-58.50694,1,11,true,false,false,12,,0455,1644918841|10800|0,\"039 - Plaza Don Bosco\",-34.62652,-58.50805,14,2,true,false,false,16,,0456,1644918841|10800|0,\"052 - PLAZA JUAN S. SALABERRY\",-34.65551,-58.50703,4,12,true,false,false,16,,0457,1644918841|10800|0,\"110 - PLAZA CD DE BANFF\",-34.62805,-58.52174,9,6,true,false,false,16,,0458,1644918841|10800|0,\"219 - Parque Chacabuco II\",-34.636275,-58.444041,10,10,true,false,false,20,,0459,1644918841|10800|0,\"327 - PLAZA RICCHERI\",-34.61072,-58.51914,10,6,true,false,false,16,,0460,1644918841|10800|0,\"133 - BEIRO Y SEGUROLA\",-34.6075,-58.51193,7,9,true,false,false,16,,0461,1644918841|10800|0,\"106 - MOSCONI Y CONSTITUYENTES\",-34.58088,-58.49363,3,12,true,false,false,16,,0']"
      ]
     },
     "execution_count": 16,
     "metadata": {},
     "output_type": "execute_result"
    }
   ],
   "source": [
    "#len(clean_lst1)\n",
    "clean_lst1[0:2]"
   ]
  },
  {
   "cell_type": "code",
   "execution_count": 17,
   "id": "f7963818",
   "metadata": {},
   "outputs": [],
   "source": [
    "# creating head of the data\n",
    "head_lst = []\n",
    "for i in clean_lst1:\n",
    "    head_lst.append(i.split(\",\"))\n",
    "\n",
    "header_lst = head_lst[0][1:11]"
   ]
  },
  {
   "cell_type": "code",
   "execution_count": 18,
   "id": "10e6e84d",
   "metadata": {
    "tags": []
   },
   "outputs": [
    {
     "data": {
      "text/plain": [
       "['timestamp|gmt_local_diff_sec|gmt_servertime_diff_sec',\n",
       " 'name',\n",
       " 'lat',\n",
       " 'lon',\n",
       " 'bikes',\n",
       " 'spaces',\n",
       " 'installed',\n",
       " 'locked',\n",
       " 'temporary',\n",
       " 'total_docks']"
      ]
     },
     "execution_count": 18,
     "metadata": {},
     "output_type": "execute_result"
    }
   ],
   "source": [
    "header_lst"
   ]
  },
  {
   "cell_type": "markdown",
   "id": "7e6ac58d",
   "metadata": {},
   "source": [
    "[a-zA-Z]*[0-9]*\\s*[-]*[–]*[.]*\\s*[a-zA-Z]*[0-9]*[\"]*\n",
    "\\\".*?\\\"\n",
    "[0-9]*[.]*\\s*[-]*\\s*[a-zA-Z]*\\s*[a-zA-Z]*\n",
    "\\b\\|[+-]*[a-zA-Z]*[0-9]*\\|[-]*[a-zA-Z]*[0-9]*\\,\\\".*?\\\"\\,.*?\\,.*?\\,\n",
    "\n",
    "verze se záhlavím: \\b\\|.*?\\|.*?\\,\\\".*?\\\"\\,.*?\\,.*?\\,.*?\\,.*?\\,.*?\\,.*?\\,.*?\\,.*?\\,\n",
    "verze bez záhlaví (finální): \\b\\|.*?\\|.*?\\,\\\".*?\\\"\\,.*?\\,.*?\\,.*?\\,.*?\\,.*?\\,.*?\\,.*?\\,.*?\\,\n"
   ]
  },
  {
   "cell_type": "code",
   "execution_count": 19,
   "id": "39513adc",
   "metadata": {},
   "outputs": [],
   "source": [
    "clean_lst2 = []\n",
    "for x in clean_lst1:\n",
    "    exp = r'\\b\\|[+-]*[a-zA-Z]*[0-9]*\\|.*?\\,\\\".*?\\\"\\,.*?\\,.*?\\,.*?\\,.*?\\,.*?\\,.*?\\,.*?\\,.*?\\,'\n",
    "    clean_lst2.append(re.findall(exp, x))"
   ]
  },
  {
   "cell_type": "code",
   "execution_count": 20,
   "id": "8c380e0e",
   "metadata": {},
   "outputs": [],
   "source": [
    "#simp_lst_temp = [v1 for sub_list in clean_lst2 for v1 in sub_list]"
   ]
  },
  {
   "cell_type": "code",
   "execution_count": 21,
   "id": "08375f49",
   "metadata": {
    "tags": []
   },
   "outputs": [],
   "source": [
    "#simp_lst_temp[0:50]"
   ]
  },
  {
   "cell_type": "code",
   "execution_count": 22,
   "id": "33a7f9a0",
   "metadata": {
    "collapsed": true,
    "jupyter": {
     "outputs_hidden": true
    },
    "tags": []
   },
   "outputs": [
    {
     "data": {
      "text/plain": [
       "[['|-3600|0,\"01. Stazione FS\",44.223352,12.055386,9,14,true,false,false,24,',\n",
       "  '|-3600|0,\"02. Vittoria\",44.217607,12.050157,4,6,true,false,false,10,',\n",
       "  '|-3600|0,\"03. Vittorio Veneto\",44.227917,12.042153,8,7,true,false,false,16,',\n",
       "  '|-3600|0,\"04. Piazza Saffi\",44.223322,12.041495,15,11,true,false,false,28,',\n",
       "  '|-3600|0,\"05. San Domenico\",44.222041,12.036168,1,13,true,false,false,14,',\n",
       "  '|-3600|0,\"06. Park dell\\'Argine\",44.218927,12.032757,9,11,true,false,false,21,',\n",
       "  '|-3600|0,\"07. Park Schiavonia\",44.226215,12.028287,1,5,true,false,false,6,',\n",
       "  '|-3600|0,\"09. Campus Universitario I\",44.219257,12.042756,4,5,true,false,false,9,',\n",
       "  '|-3600|0,\"10. Park Oriani\",44.221137,12.049119,3,5,true,false,false,8,',\n",
       "  '|-3600|0,\"11. Campus Universitario II\",44.217696,12.044369,3,7,true,false,false,10,',\n",
       "  '|-3600|0,\"12. XX Settembre\",44.222188,12.042997,3,4,true,false,false,7,',\n",
       "  '|-3600|0,\"13. BIKE POINT Park Lombardini\",44.217425,12.041227,0,8,true,false,false,8,',\n",
       "  '|-3600|0,\"14. BIKE POINT Park Manzoni\",44.223120,12.047737,7,1,true,false,false,8,'],\n",
       " ['|10800|0,\"002 - Retiro I\",-34.5924233,-58.3747151,9,10,true,false,false,20,',\n",
       "  '|10800|0,\"003 - ADUANA\",-34.611032,-58.3682604,3,17,true,false,false,20,',\n",
       "  '|10800|0,\"004 - Plaza Roma\",-34.601822,-58.368781,0,20,true,false,false,20,',\n",
       "  '|10800|0,\"005 - Plaza Italia\",-34.5805497,-58.4209542,9,33,true,false,false,42,',\n",
       "  '|10800|0,\"006 - Parque Lezama\",-34.628526,-58.369758,8,11,true,false,false,20,',\n",
       "  '|10800|0,\"007 - OBELISCO\",-34.606498,-58.381098,1,15,true,false,false,16,',\n",
       "  '|10800|0,\"008 - Congreso\",-34.6094218,-58.3893364,3,20,true,false,false,24,',\n",
       "  '|10800|0,\"009 - Parque Las Heras\",-34.585443,-58.407741,4,20,true,false,false,24,',\n",
       "  '|10800|0,\"012 - Plaza Vicente Lopez\",-34.5927096,-58.388807,0,16,true,false,false,16,',\n",
       "  '|10800|0,\"013 - ONCE\",-34.61009,-58.406,2,28,true,false,false,30,',\n",
       "  '|10800|0,\"014 - Pacifico\",-34.577424,-58.426387,17,12,true,false,false,30,',\n",
       "  '|10800|0,\"017 - Plaza Almagro\",-34.6064101,-58.4187306,7,11,true,false,false,20,',\n",
       "  '|10800|0,\"020 - Distrito Audiovisual\",-34.5798619,-58.4417756,4,14,true,false,false,20,',\n",
       "  '|10800|0,\"021 - Parque Patricios\",-34.640111,-58.406432,24,0,true,false,false,24,',\n",
       "  '|10800|0,\"022 - Arenales\",-34.5938629,-58.3825498,0,20,true,false,false,20,',\n",
       "  '|10800|0,\"023 - Suipacha\",-34.600139,-58.379836,0,12,true,false,false,12,',\n",
       "  '|10800|0,\"024 - ALSINA\",-34.610583,-58.3808943,1,17,true,false,false,18,',\n",
       "  '|10800|0,\"025 - Plaza Guemes\",-34.5894269,-58.4161178,4,20,true,false,false,24,',\n",
       "  '|10800|0,\"026 - JUANA MANSO I\",-34.600752,-58.3638723,2,22,true,false,false,24,',\n",
       "  '|10800|0,\"027 - Montevideo\",-34.599068,-58.3900887,4,11,true,false,false,16,',\n",
       "  '|10800|0,\"029 - Parque Centenario\",-34.6079414,-58.4335573,17,12,true,false,false,30,',\n",
       "  '|10800|0,\"030 - Peña\",-34.5908211,-58.3973698,7,12,true,false,false,20,',\n",
       "  '|10800|0,\"032 - Catedral\",-34.6072074,-58.3735984,1,15,true,false,false,16,',\n",
       "  '|10800|0,\"033 - Facultad de Medicina\",-34.5970909,-58.3989807,2,18,true,false,false,20,',\n",
       "  '|10800|0,\"035 - INGENIERO BUTTY\",-34.5964246,-58.371847,0,20,true,false,false,20,',\n",
       "  '|10800|0,\"036 - MAIPÚ\",-34.6045481,-58.3767677,1,15,true,false,false,16,',\n",
       "  '|10800|0,\"038 - Plaza Libertad\",-34.5970497,-58.3828403,3,16,true,false,false,20,',\n",
       "  '|10800|0,\"041 - Urquiza y Rondeau\",-34.6364511,-58.4076348,15,3,true,false,false,20,',\n",
       "  '|10800|0,\"334 - CENTRO DE EXPOSICIONES\",-34.584018,-58.389921,18,2,true,false,false,20,',\n",
       "  '|10800|0,\"044 - Ecoparque\",-34.5755148,-58.4138829,9,11,true,false,false,20,',\n",
       "  '|10800|0,\"045 - Uruguay\",-34.6018635,-58.3866934,0,20,true,false,false,20,',\n",
       "  '|10800|0,\"046 - Chile\",-34.6163012,-58.3743749,2,16,true,false,false,18,',\n",
       "  '|10800|0,\"034 - Colonia Express\",-34.624255,-58.362131,1,15,true,false,false,16,',\n",
       "  '|10800|0,\"049 - 33 Orientales\",-34.6290527,-58.422611,3,9,true,false,false,16,',\n",
       "  '|10800|0,\"050 - Hospital Rivadavia\",-34.5837348,-58.4010798,4,13,true,false,false,20,',\n",
       "  '|10800|0,\"051 - TUCUMAN\",-34.6014776,-58.3821261,0,11,true,false,false,12,',\n",
       "  '|10800|0,\"054 - Acuña de Figueroa\",-34.5982097,-58.4220694,7,6,true,false,false,16,',\n",
       "  '|10800|0,\"056 - Plaza Palermo Viejo\",-34.588567,-58.425999,3,13,true,false,false,16,',\n",
       "  '|10800|0,\"058 - Ministro Carranza\",-34.5752773,-58.4346883,4,15,true,false,false,20,',\n",
       "  '|10800|0,\"018 - Independencia\",-34.617654,-58.380565,3,17,true,false,false,20,',\n",
       "  '|10800|0,\"060 - 25 De Mayo\",-34.6016509,-58.371079,0,20,true,false,false,20,',\n",
       "  '|10800|0,\"098 - AV. ALVAREZ JONTE Y BENITO JUAREZ\",-34.61880867765093,-58.504662916142756,13,3,true,false,false,16,',\n",
       "  '|10800|0,\"063 - Reconquista\",-34.5986,-58.373062,0,20,true,false,false,20,',\n",
       "  '|10800|0,\"064 - RIOBAMBA\",-34.5936508,-58.3941087,2,18,true,false,false,20,',\n",
       "  '|10800|0,\"065 - Julián Álvarez\",-34.5873124,-58.4157873,1,19,true,false,false,21,',\n",
       "  '|10800|0,\"066 - Billinghurst\",-34.5945475,-58.4138713,4,16,true,false,false,20,',\n",
       "  '|10800|0,\"105 - PARQUE SAAVEDRA\",-34.552148,-58.480464,11,3,true,false,false,16,',\n",
       "  '|10800|0,\"069 - Ecuador\",-34.5961006,-58.4046092,9,7,true,false,false,16,',\n",
       "  '|10800|0,\"070 - ARAOZ\",-34.5926862,-58.4260597,3,17,true,false,false,20,',\n",
       "  '|10800|0,\"071 - CERRITO\",-34.6026673,-58.3833559,3,27,true,false,false,30,',\n",
       "  '|10800|0,\"073 - Ruy Díaz de Guzmán\",-34.6306814,-58.3718235,15,1,true,false,false,16,',\n",
       "  '|10800|0,\"074 - INSTITUTO  LELOIR\",-34.60439,-58.43454,13,16,true,false,false,30,',\n",
       "  '|10800|0,\"075 - Plaza Primero de Mayo\",-34.6122976,-58.3989871,18,0,true,false,false,20,',\n",
       "  '|10800|0,\"076 - Ayacucho\",-34.6074084,-58.3950548,5,9,true,false,false,20,',\n",
       "  '|10800|0,\"109 - ESTACION PUEYRREDON\",-34.581135,-58.501487,12,3,true,false,false,16,',\n",
       "  '|10800|0,\"079 - AZUCENA VILLAFLOR\",-34.61189,-58.36393,0,29,true,false,false,30,',\n",
       "  '|10800|0,\"080 - DOBLAS\",-34.624435,-58.4303766,11,4,true,false,false,16,',\n",
       "  '|10800|0,\"082 - HOSPITAL ITALIANO\",-34.6078917,-58.4263947,9,11,true,false,false,20,',\n",
       "  '|10800|0,\"083 - Paraná\",-34.603269,-58.3893728,0,19,true,false,false,20,',\n",
       "  '|10800|0,\"084 - Lavalle\",-34.6023203,-58.3955144,3,16,true,false,false,20,',\n",
       "  '|10800|0,\"085 - AGUERO\",-34.5948057,-58.4091784,2,18,true,false,false,20,',\n",
       "  '|10800|0,\"086 - SAAVEDRA\",-34.6212681,-58.4016808,1,18,true,false,false,20,',\n",
       "  '|10800|0,\"087 - Guayaquil\",-34.619845,-58.4314942,13,1,true,false,false,16,',\n",
       "  '|10800|0,\"089 - Cabello\",-34.5825475,-58.4056671,9,9,true,false,false,20,',\n",
       "  '|10800|0,\"091 - Pasco\",-34.6174482,-58.397602,5,14,true,false,false,20,',\n",
       "  '|10800|0,\"092 - Salcedo\",-34.6316444,-58.4053386,13,7,true,false,false,20,',\n",
       "  '|10800|0,\"093 - CARLOS CALVO\",-34.620798,-58.3944635,7,12,true,false,false,20,',\n",
       "  '|10800|0,\"094 - GÚZMAN\",-34.591511,-58.449652,11,18,true,false,false,30,',\n",
       "  '|10800|0,\"095 - ESMERALDA\",-34.6021121,-58.3781678,5,11,true,false,false,16,',\n",
       "  '|10800|0,\"096 - Carlos Gardel\",-34.6027814,-58.4116586,6,11,true,false,false,20,',\n",
       "  '|10800|0,\"037- Claudia Pía Baudracco\",-34.6081643,-58.3779002,1,15,true,false,false,16,',\n",
       "  '|10800|0,\"099 - Malabia\",-34.5960961,-58.435408,12,6,true,false,false,20,',\n",
       "  '|10800|0,\"101 - Fitz Roy\",-34.5891857,-58.4424397,6,14,true,false,false,20,',\n",
       "  '|10800|0,\"104 - Federico Lacroze\",-34.587617,-58.455212,16,14,true,false,false,30,',\n",
       "  '|10800|0,\"107 - HOSPITAL GARRAHAN\",-34.630374,-58.395852,3,12,true,false,false,16,',\n",
       "  '|10800|0,\"111 - MACACHA GUEMES\",-34.6054877,-58.3646858,0,28,true,false,false,30,',\n",
       "  '|10800|0,\"112 - 9 de Julio\",-34.612075,-58.380384,0,20,true,false,false,20,',\n",
       "  '|10800|0,\"114 - DELLA PAOLERA\",-34.5949745,-58.3722554,2,18,true,false,false,20,',\n",
       "  '|10800|0,\"116 - HOSPITAL ALEMÁN\",-34.5921708,-58.4025894,7,5,true,false,false,12,',\n",
       "  '|10800|0,\"117 - HUMBERTO 1°\",-34.6201008,-58.3741759,2,11,true,false,false,16,',\n",
       "  '|10800|0,\"118 - MEXICO\",-34.6170196,-58.4026531,0,20,true,false,false,20,',\n",
       "  '|10800|0,\"120 - HOSPITAL RAMOS MEJIA\",-34.617509,-58.4092876,3,17,true,false,false,20,',\n",
       "  '|10800|0,\"121 - YATAY\",-34.6011732,-58.4285093,5,14,true,false,false,20,',\n",
       "  '|10800|0,\"124 - UGARTECHE\",-34.580538,-58.411965,13,4,true,false,false,20,',\n",
       "  '|10800|0,\"126 - Ministerio de Justicia y Seguridad\",-34.6402672,-58.3692243,9,7,true,false,false,16,',\n",
       "  '|10800|0,\"128 - PARQUE DEL BAJO\",-34.6041138,-58.3689118,2,18,true,false,false,20,',\n",
       "  '|10800|0,\"130 - RETIRO II\",-34.5921056,-58.3745419,15,24,true,false,false,40,',\n",
       "  '|10800|0,\"131- HOSPITAL DE CLÍNICAS\",-34.5984043,-58.3990158,2,14,true,false,false,16,',\n",
       "  '|10800|0,\"132 - CORRIENTES\",-34.6033685,-58.372763,2,10,true,false,false,12,',\n",
       "  '|10800|0,\"134 - SOLDADO DE LA FRONTERA\",-34.68294,-58.4659,7,4,true,false,false,12,',\n",
       "  '|10800|0,\"135 - MARCELO T. DE ALVEAR\",-34.5972818,-58.3787856,2,18,true,false,false,20,',\n",
       "  '|10800|0,\"137 - AZOPARDO Y CHILE\",-34.6155977,-58.3674923,4,16,true,false,false,20,',\n",
       "  '|10800|0,\"138 - Hospital Britanico\",-34.6353595,-58.3876724,9,3,true,false,false,12,',\n",
       "  '|10800|0,\"144 - PUEYRREDÓN\",-34.6018744,-58.4060944,6,12,true,false,false,20,',\n",
       "  '|10800|0,\"146 - Hospital Francés\",-34.6221118,-58.4078419,3,16,true,false,false,20,',\n",
       "  '|10800|0,\"149 - LIMA\",-34.6153266,-58.3813642,1,14,true,false,false,16,',\n",
       "  '|10800|0,\"150 - RODRIGO BUENO\",-34.6187547,-58.3554654,10,19,true,false,false,30,',\n",
       "  '|10800|0,\"151 - AIME PAINÉ\",-34.6118145,-58.361285,0,23,true,false,false,24,',\n",
       "  '|10800|0,\"152 - JULIETA LANTERI\",-34.6181645,-58.3596311,11,5,true,false,false,20,',\n",
       "  '|10800|0,\"153 - JUAN MANUEL DE BLANES\",-34.6307765,-58.3620701,10,6,true,false,false,16,',\n",
       "  '|10800|0,\"155 - Parque José Evaristo Uriburu\",-34.64117,-58.412408,19,1,true,false,false,20,',\n",
       "  '|10800|0,\"156 - Plaza Alemania\",-34.5775895,-58.4074696,11,9,true,false,false,20,',\n",
       "  '|10800|0,\"158 - VILLARROEL\",-34.592735,-58.4450697,12,8,true,false,false,20,',\n",
       "  '|10800|0,\"161 - Humahuaca\",-34.6020779,-58.4196761,1,14,true,false,false,20,',\n",
       "  '|10800|0,\"162 - LARREA Y BARTOLOMÉ MITRE\",-34.608985,-58.401924,8,11,true,false,false,20,',\n",
       "  '|10800|0,\"163 - ONCE II\",-34.6095663,-58.4064308,4,23,true,false,false,30,',\n",
       "  '|10800|0,\"164 - FACULTAD DE INGENIERIA\",-34.6181442,-58.3669021,1,18,true,false,false,20,',\n",
       "  '|10800|0,\"165 - PLAZA MONSEÑOR MIGUEL DE ANDREA\",-34.597048,-58.407614,1,11,true,false,false,12,',\n",
       "  '|10800|0,\"166 - Cementerio de Recoleta\",-34.588346663239754,-58.394147942865644,0,12,true,false,false,12,',\n",
       "  '|10800|0,\"275 - PLAZA 24 DE SEPTIEMBRE\",-34.606984,-58.44854,9,7,true,false,false,16,',\n",
       "  '|10800|0,\"168 - Estados Unidos\",-34.6186217,-58.3812271,3,13,true,false,false,16,',\n",
       "  '|10800|0,\"169 - FACULTAD DE PSICOLOGIA\",-34.6123459,-58.411856,4,7,true,false,false,12,',\n",
       "  '|10800|0,\"171 - Pasteur\",-34.6032813,-58.3997553,2,17,true,false,false,20,',\n",
       "  '|10800|0,\"172 - BRASIL\",-34.625426,-58.371082,1,15,true,false,false,16,',\n",
       "  '|10800|0,\"174 - MINISTERIO DE EDUCACION\",-34.597225,-58.391768,1,19,true,false,false,20,',\n",
       "  '|10800|0,\"147 - Constitución\",-34.626851,-58.380707,26,8,true,false,false,36,',\n",
       "  '|10800|0,\"067 - PARQUE SARMIENTO I\",-34.555254,-58.494845,6,10,true,false,false,16,',\n",
       "  '|10800|0,\"179 - CASA SAN\",-34.6384786,-58.3642885,14,0,true,false,false,16,',\n",
       "  '|10800|0,\"181 - BILLINGHURST Y MANSILLA\",-34.5926649,-58.4120072,1,19,true,false,false,20,',\n",
       "  '|10800|0,\"182 - RAVIGNANI Y GUATEMALA\",-34.5780479,-58.4352466,4,13,true,false,false,20,',\n",
       "  '|10800|0,\"183 - VIRREY CEVALLOS\",-34.6156994,-58.3899728,8,11,true,false,false,20,',\n",
       "  '|10800|0,\"184 - Pedro Echague\",-34.6306129,-58.3913419,6,13,true,false,false,20,',\n",
       "  '|10800|0,\"186 - MANZANA 66\",-34.6136356,-58.4064415,3,17,true,false,false,20,',\n",
       "  '|10800|0,\"261 - QUINTEROS LIDORO\",-34.552571,-58.450897,15,1,true,false,false,16,',\n",
       "  '|10800|0,\"373 - Jorgelina De Simone\",-34.623923,-58.3904814,10,5,true,false,false,16,',\n",
       "  '|10800|0,\"189 - POSADAS\",-34.5886889,-58.3852113,1,18,true,false,false,20,',\n",
       "  '|10800|0,\"190 - JUNCAL\",-34.5850763,-58.4111136,0,19,true,false,false,20,',\n",
       "  '|10800|0,\"191 - Rivadavia y 9 de Julio\",-34.6079305,-58.3808358,7,9,true,false,false,16,',\n",
       "  '|10800|0,\"193 - ARENALES Y AGUERO\",-34.5908626,-58.4061652,8,12,true,false,false,20,',\n",
       "  '|10800|0,\"194 - PERÓN Y ACUÑA DE FIGUEROA\",-34.6060758,-58.4224635,3,12,true,false,false,16,',\n",
       "  '|10800|0,\"196 - HOSPITAL ARGERICH\",-34.6275351,-58.3657211,15,1,true,false,false,20,',\n",
       "  '|10800|0,\"197 - PLAZA CIUDAD DE UDINE\",-34.620998,-58.493044,17,2,true,false,false,20,',\n",
       "  '|10800|0,\"199 - ESTADOS UNIDOS Y BOEDO\",-34.6222601,-58.4160137,11,5,true,false,false,20,',\n",
       "  '|10800|0,\"200 - AUSTRIA Y FRENCH\",-34.5890696,-58.40536170000001,2,13,true,false,false,15,',\n",
       "  '|10800|0,\"001 - FACULTAD DE DERECHO\",-34.583749,-58.390602,28,1,true,false,false,30,',\n",
       "  '|10800|0,\"108 - Usina del Arte\",-34.628757,-58.356259,18,3,true,false,false,24,',\n",
       "  '|10800|0,\"167 - Hipólito Yrigoyen\",-34.614948,-58.427818,14,9,true,false,false,24,',\n",
       "  '|10800|0,\"125 - F.J.Santamaria de Oro\",-34.583323,-58.428016,0,15,true,false,false,16,',\n",
       "  '|10800|0,\"159 - Fitz Roy & Gorriti\",-34.58495,-58.437339,6,10,true,false,false,16,',\n",
       "  '|10800|0,\"123 - BASUALDO Y RODO\",-34.649323859081555,-58.4926339870569,9,5,true,false,false,16,',\n",
       "  '|10800|0,\"335 - General Urquiza\",-34.572165,-58.411278,6,14,true,false,false,20,',\n",
       "  '|10800|0,\"129 - Velasco\",-34.600275,-58.434875,7,11,true,false,false,20,',\n",
       "  '|10800|0,\"136 - Acevedo\",-34.599659,-58.442685,16,3,true,false,false,20,',\n",
       "  '|10800|0,\"142 - Armenia y Gorriti\",-34.590541,-58.428974,4,12,true,false,false,16,',\n",
       "  '|10800|0,\"113 - Guatemala\",-34.585878,-58.424996,4,15,true,false,false,20,',\n",
       "  '|10800|0,\"059 - Coronel Diaz\",-34.589968,-58.411493,4,16,true,false,false,20,',\n",
       "  '|10800|0,\"140 - Las Casas\",-34.6360274,-58.4156332,11,1,true,false,false,16,',\n",
       "  '|10800|0,\"097 - Avelino Diaz\",-34.635128,-58.427573,13,2,true,false,false,16,',\n",
       "  '|10800|0,\"160 - Godoy Cruz y Libertador\",-34.572583,-58.420628,12,7,true,false,false,20,',\n",
       "  '|10800|0,\"178 - José Marmol\",-34.6234,-58.424853,5,8,true,false,false,16,',\n",
       "  '|10800|0,\"188 - Aranguren\",-34.610456,-58.432786,3,14,true,false,false,20,',\n",
       "  '|10800|0,\"243 - PLAZOLETA CELEDONIO FLORES\",-34.581576,-58.45153,7,4,true,false,false,12,',\n",
       "  '|10800|0,\"259 - PLAZA CASTELLI\",-34.5678255,-58.4645037,6,9,true,false,false,16,',\n",
       "  '|10800|0,\"384 - PLAZA BENITO NAZAR\",-34.605109,-58.445897,10,5,true,false,false,16,',\n",
       "  '|10800|0,\"252 - Tamborini\",-34.5599779,-58.4790578,8,12,true,false,false,20,',\n",
       "  '|10800|0,\"281 - Villa Urquiza\",-34.573795,-58.487074,8,13,true,false,false,24,',\n",
       "  '|10800|0,\"254 - Plaza Rafael Hernandez\",-34.562161,-58.455166,6,9,true,false,false,16,',\n",
       "  '|10800|0,\"302 - ESTACION VILLA LURO\",-34.63670935917866,-58.50135525810292,7,9,true,false,false,16,',\n",
       "  '|10800|0,\"391 - Plaza República de Ecuador\",-34.565091,-58.420702,13,6,true,false,false,20,',\n",
       "  '|10800|0,\"348 - Villa del Parque\",-34.600874,-58.494123,5,7,true,false,false,12,',\n",
       "  '|10800|0,\"103 - MALBA\",-34.57716,-58.403214,0,20,true,false,false,20,',\n",
       "  '|10800|0,\"248 - Husares\",-34.552594,-58.4429397,10,5,true,false,false,16,',\n",
       "  '|10800|0,\"282 - Tronador\",-34.5838957,-58.466494,4,11,true,false,false,18,',\n",
       "  '|10800|0,\"346 - Plaza Zapiola\",-34.573522,-58.474635,17,2,true,false,false,20,',\n",
       "  '|10800|0,\"307 - LEONARDO PEREYRA\",-34.649506877132595,-58.38912434455312,10,3,true,false,false,16,',\n",
       "  '|10800|0,\"388 - Plaza Jose C Paz\",-34.64485797668555,-58.4097486603218,10,1,true,false,false,12,',\n",
       "  '|10800|0,\"331 - CALIFORNIA\",-34.647121,-58.374336,7,9,true,false,false,16,',\n",
       "  '|10800|0,\"276 - PRIMERA JUNTA\",-34.620717,-58.441607,14,1,true,false,false,16,',\n",
       "  '|10800|0,\"374 - Puan\",-34.622092,-58.448547,12,2,true,false,false,16,',\n",
       "  '|10800|0,\"264 - Plaza Marcos Sastre\",-34.570825,-58.481236,12,8,true,false,false,24,',\n",
       "  '|10800|0,\"336 - La Pampa\",-34.565521,-58.455334,6,9,true,false,false,16,',\n",
       "  '|10800|0,\"272 - Plaza Bruno Giordano\",-34.616151,-58.440584,11,4,true,false,false,16,',\n",
       "  '|10800|0,\"349 - Plaza Saenz Peña\",-34.60976,-58.467477,15,1,true,false,false,16,',\n",
       "  '|10800|0,\"270 - PLAZA DEL ANGEL GRIS\",-34.622003,-58.457555,8,3,true,false,false,12,',\n",
       "  '|10800|0,\"361 - Plaza Don Segundo Sombra\",-34.64196,-58.4505,10,5,true,false,false,16,',\n",
       "  '|10800|0,\"315 - BEIRO Y SAN MARTÍN\",-34.5976121,-58.4985424,10,4,true,false,false,16,',\n",
       "  '|10800|0,\"399 - GARCIA DEL RIO\",-34.550015,-58.476521,26,0,true,false,false,28,',\n",
       "  '|10800|0,\"260 - SAN MIGUEL DE GARICOITS\",-34.577329,-58.457799,16,0,true,false,false,18,',\n",
       "  '|10800|0,\"370 - Beauchef\",-34.640114,-58.43026,17,3,true,false,false,20,',\n",
       "  '|10800|0,\"365 - Venancio Flores\",-34.630108,-58.473844,14,6,true,false,false,20,',\n",
       "  '|10800|0,\"223 - GAINZA\",-34.616758,-58.446751,13,1,true,false,false,16,',\n",
       "  '|10800|0,\"256 - PLAZA NORUEGA\",-34.562396,-58.459148,10,9,true,false,false,20,',\n",
       "  '|10800|0,\"292 - PLAZA BOLIVIA\",-34.563539,-58.436115,2,8,true,false,false,12,',\n",
       "  '|10800|0,\"233 - MONROE\",-34.564122,-58.469813,8,8,true,false,false,16,',\n",
       "  '|10800|0,\"222 - SIMON BOLIVAR\",-34.633528,-58.449379,22,1,true,false,false,24,',\n",
       "  '|10800|0,\"350 - Plaza Irlanda\",-34.613778,-58.458315,17,2,true,false,false,24,',\n",
       "  '|10800|0,\"229 - RIGLOS\",-34.631018,-58.435056,15,5,true,false,false,20,',\n",
       "  '|10800|0,\"255 - BARRANCAS DE BELGRANO\",-34.559801,-58.448314,11,10,true,false,false,24,',\n",
       "  '|10800|0,\"244 - UADE\",-34.617247,-58.381627,0,15,true,false,false,16,',\n",
       "  '|10800|0,\"363 - Udaondo\",-34.5458835,-58.4520062,18,1,true,false,false,20,',\n",
       "  '|10800|0,\"221 - CULPINA\",-34.631705,-58.466143,14,6,true,false,false,20,',\n",
       "  '|10800|0,\"309 - UTN II\",-34.66036165776025,-58.4676386893849,18,2,true,false,false,20,',\n",
       "  '|10800|0,\"340 - PLAZA NUEVA POMPEYA\",-34.6518464,-58.415771,15,0,true,false,false,16,',\n",
       "  '|10800|0,\"395 - Agronomia II\",-34.58938,-58.4847,5,10,true,false,false,16,',\n",
       "  '|10800|0,\"341 - COMUNA 4\",-34.65050475967216,-58.424671969909355,11,0,true,false,false,12,',\n",
       "  '|10800|0,\"251 - Solar de la Abadía\",-34.567633,-58.436752,17,3,true,false,false,20,',\n",
       "  '|10800|0,\"298 - PLAZA DR. JUAN B. TERAN\",-34.62141207128675,-58.51978098730658,11,3,true,false,false,16,',\n",
       "  '|10800|0,\"356 - ESTACIÓN LUGANO\",-34.67735630418917,-58.47665863333657,2,10,true,false,false,14,',\n",
       "  '|10800|0,\"213 - Hospital Alvear\",-34.5972098,-58.47421143,12,8,true,false,false,20,',\n",
       "  '|10800|0,\"205 - SAN MARTIN\",-34.605567,-58.453475,11,3,true,false,false,16,',\n",
       "  '|10800|0,\"285 - ESPINOSA\",-34.603936,-58.457317,17,2,true,false,false,20,',\n",
       "  '|10800|0,\"289 - MONTAÑESES\",-34.551304,-58.454181,18,2,true,false,false,20,',\n",
       "  '|10800|0,\"240 - ECHEVERRIA\",-34.565409,-58.459298,19,5,true,false,false,24,',\n",
       "  '|10800|0,\"280 - JURAMENTO\",-34.578933,-58.4840556,3,12,true,false,false,16,',\n",
       "  '|10800|0,\"366 - VILLA OLÍMPICA\",-34.677130515662185,-58.454286054001386,5,11,true,false,false,16,',\n",
       "  '|10800|0,\"100 - Plaza Gurruchaga\",-34.593141,-58.435187,8,12,true,false,false,20,',\n",
       "  '|10800|0,\"203 - Beiro\",-34.6008,-58.50335,13,7,true,false,false,20,',\n",
       "  '|10800|0,\"206 - Galicia\",-34.615945,-58.47098,18,1,true,false,false,20,',\n",
       "  '|10800|0,\"207 - PLAZA ARENALES\",-34.5999173,-58.5114159,27,0,true,false,false,28,',\n",
       "  '|10800|0,\"359 - PLAZA BALCARCE\",-34.54754,-58.467844,14,5,true,false,false,20,',\n",
       "  '|10800|0,\"218 - Campana\",-34.616813,-58.484297,10,9,true,false,false,20,',\n",
       "  '|10800|0,\"231 - Margariños Cervantes\",-34.610482,-58.474369,9,0,true,false,false,12,',\n",
       "  '|10800|0,\"237 - Madero Office\",-34.599036,-58.364695,2,15,true,false,false,20,',\n",
       "  '|10800|0,\"242 - Plazoleta Rafael del Riego\",-34.567483,-58.446381,6,10,true,false,false,16,',\n",
       "  '|10800|0,\"249 - Balbín\",-34.561486,-58.465586,11,1,true,false,false,12,',\n",
       "  '|10800|0,\"250 - Fleni\",-34.555602,-58.450479,20,0,true,false,false,20,',\n",
       "  '|10800|0,\"258 - Plaza J.J. Paso\",-34.569187,-58.453608,4,16,true,false,false,20,',\n",
       "  '|10800|0,\"354 - José Martí\",-34.6439,-58.463114,16,0,true,false,false,16,',\n",
       "  '|10800|0,\"381 - Matienzo Y Arce\",-34.568693,-58.43447,20,4,true,false,false,24,',\n",
       "  '|10800|0,\"360 - Plaza Ramon Falcon\",-34.63562929312515,-58.482770573412935,10,2,true,false,false,12,',\n",
       "  '|10800|0,\"287 - Belaustegui\",-34.61621214148026,-58.47720947344651,10,6,true,false,false,16,',\n",
       "  '|10800|0,\"378 - AGRONOMIA\",-34.59807,-58.482079,6,6,true,false,false,12,',\n",
       "  '|10800|0,\"304 - Navarro\",-34.592244,-58.491797,6,10,true,false,false,16,',\n",
       "  '|10800|0,\"305 - Plaza Martin Rodriguez\",-34.590964,-58.500336,16,4,true,false,false,20,',\n",
       "  '|10800|0,\"322 - MARTÍ Y DIRECTORIO\",-34.636406,-58.470136,11,1,true,false,false,12,',\n",
       "  '|10800|0,\"265 - Plaza Exodo Jujeño\",-34.582336918286785,-58.48108314683206,6,10,true,false,false,16,',\n",
       "  '|10800|0,\"367 - Eva Perón\",-34.646911365478765,-58.4699753897715,14,2,true,false,false,16,',\n",
       "  '|10800|0,\"301 - Arregui Y Terrada\",-34.604597356692906,-58.48481211614322,4,11,true,false,false,16,',\n",
       "  '|10800|0,\"324 - Las Victorias\",-34.626778,-58.487078,14,6,true,false,false,20,',\n",
       "  '|10800|0,\"215 - HOSPITAL ALVAREZ\",-34.623123,-58.468287,9,9,true,false,false,20,',\n",
       "  '|10800|0,\"204 - Biarritz\",-34.60547,-58.47739,8,8,true,false,false,16,',\n",
       "  '|10800|0,\"267 - Plaza 25 De Agosto\",-34.57951881156862,-58.46183473148808,5,13,true,false,false,18,',\n",
       "  '|10800|0,\"268 - Plaza Aristóbulo Del Valle\",-34.606159914753725,-58.493141345207654,10,4,true,false,false,17,',\n",
       "  '|10800|0,\"277 - Coghlan\",-34.5654,-58.4759,4,4,true,false,false,8,',\n",
       "  '|10800|0,\"278 - Donato Alvarez\",-34.602028,-58.465568,13,3,true,false,false,16,',\n",
       "  '|10800|0,\"297 - TRONADOR Y GARCÍA DEL RÍO\",-34.554581,-58.485381,12,3,true,false,false,16,',\n",
       "  '|10800|0,\"313 - De Los Incas\",-34.579751,-58.471003,2,12,true,false,false,16,',\n",
       "  '|10800|0,\"316 - Buenos Aires\",-34.645532066615736,-58.39667441428978,10,10,true,false,false,20,',\n",
       "  '|10800|0,\"330 - Parque Avellaneda\",-34.641288,-58.479945,10,18,true,false,false,28,',\n",
       "  '|10800|0,\"364 - CERRETTI Y MANUELA PEDRAZA\",-34.56912,-58.50025,4,11,true,false,false,16,',\n",
       "  '|10800|0,\"372 - VILLA SOLDATI\",-34.66145153498837,-58.44014625846915,8,0,true,false,false,8,',\n",
       "  '|10800|0,\"382 - MERCADO DE HACIENDA MATADEROS\",-34.6602831,-58.5031426,6,9,true,false,false,16,',\n",
       "  '|10800|0,\"257 - Plaza Francisco Ramirez\",-34.553262,-58.469133,27,1,true,false,false,28,',\n",
       "  '|10800|0,\"127 - PLAZA LEONARDO N. ALEM\",-34.57634,-58.50248,12,8,true,false,false,20,',\n",
       "  '|10800|0,\"379 - PARQUE SARMIENTO II\",-34.56454,-58.50289,3,13,true,false,false,16,',\n",
       "  '|10800|0,\"043 - PLAZA ALBERDI\",-34.559255,-58.487772,8,4,true,false,false,12,',\n",
       "  '|10800|0,\"387 - Luna\",-34.638584,-58.39965,8,8,true,false,false,16,',\n",
       "  '|10800|0,\"394 - Av. La Plata\",-34.6440763,-58.422091,16,0,true,false,false,16,',\n",
       "  '|10800|0,\"396 - PLAZA ALBERTI\",-34.555081,-58.458538,14,3,true,false,false,20,',\n",
       "  '|10800|0,\"397 - PARQUE SANTOJANNI\",-34.64706360234081,-58.5148283486816,7,7,true,false,false,16,',\n",
       "  '|10800|0,\"225 - HOSPITAL TORNU\",-34.587458,-58.4739506,7,13,true,false,false,20,',\n",
       "  '|10800|0,\"201 - PLAZA EJERCITO DE LOS ANDES\",-34.63897407331851,-58.51010241799404,1,15,true,false,false,16,',\n",
       "  '|10800|0,\"187 - Jose Maria Moreno\",-34.619879,-58.435801,11,8,true,false,false,20,',\n",
       "  '|10800|0,\"273 - Plazoleta Colombia\",-34.637697,-58.373726,19,0,true,false,false,20,',\n",
       "  '|10800|0,\"247 - PLAZA LUCIO DEMARE\",-34.54569,-58.46514,14,2,true,false,false,16,',\n",
       "  '|10800|0,\"227 -Club Ciudad de Buenos Aires\",-34.544503,-58.459499,8,4,true,false,false,16,',\n",
       "  '|10800|0,\"016 - Legislatura\",-34.609801,-58.3748,1,18,true,false,false,20,',\n",
       "  '|10800|0,\"061-Ministerio de Economia\",-34.608936,-58.370716,1,23,true,false,false,24,',\n",
       "  '|10800|0,\"393 - Barrio 31\",-34.582422,-58.378862,9,14,true,false,false,24,',\n",
       "  '|10800|0,\"352 - San Jose de Flores\",-34.629083,-58.463251,7,17,true,false,false,24,',\n",
       "  '|10800|0,\"028 - Plaza de la Bandera\",-34.62945,-58.49439,11,5,true,false,false,16,',\n",
       "  '|10800|0,\"176 - Plaza Derechos del hombre\",-34.63403,-58.50694,1,11,true,false,false,12,',\n",
       "  '|10800|0,\"039 - Plaza Don Bosco\",-34.62652,-58.50805,14,2,true,false,false,16,',\n",
       "  '|10800|0,\"052 - PLAZA JUAN S. SALABERRY\",-34.65551,-58.50703,4,12,true,false,false,16,',\n",
       "  '|10800|0,\"110 - PLAZA CD DE BANFF\",-34.62805,-58.52174,9,6,true,false,false,16,',\n",
       "  '|10800|0,\"219 - Parque Chacabuco II\",-34.636275,-58.444041,10,10,true,false,false,20,',\n",
       "  '|10800|0,\"327 - PLAZA RICCHERI\",-34.61072,-58.51914,10,6,true,false,false,16,',\n",
       "  '|10800|0,\"133 - BEIRO Y SEGUROLA\",-34.6075,-58.51193,7,9,true,false,false,16,',\n",
       "  '|10800|0,\"106 - MOSCONI Y CONSTITUYENTES\",-34.58088,-58.49363,3,12,true,false,false,16,'],\n",
       " ['|14400|0,\"Paardenbaai Plaza\",12.5210852,-70.04102,12,7,true,false,false,19,',\n",
       "  '|14400|0,\"Ling & Sons\",12.5330588,-70.0504579,9,6,true,false,false,15,',\n",
       "  '|14400|0,\"La Cabana Beach Resort\",12.5521775,-70.05529,9,6,true,false,false,15,',\n",
       "  '|14400|0,\"Hyatt Hotel\",12.5691319,-70.044683,13,6,true,false,false,19,',\n",
       "  '|14400|0,\"Paseo Herencia\",12.5749457,-70.04395,12,10,true,false,false,24,',\n",
       "  '|14400|0,\"Marriot Hotel\",12.5817091,-70.0425233,9,6,true,false,false,15,',\n",
       "  '|14400|0,\"RIU\",12.5667489,-70.0463623,9,6,true,false,false,15,',\n",
       "  '|14400|0,\"Plaza Daniel Leo\",12.5196901,-70.03732,9,6,true,false,false,15,'],\n",
       " [],\n",
       " [],\n",
       " ['|-39600|0,\"Monash Sport\",-37.9123841021,145.136228129,0,15,true,false,false,15,',\n",
       "  '|-39600|0,\"Menzies E\",-37.9126134375,145.133110397,0,25,true,false,false,25,',\n",
       "  '|-39600|0,\"Menzies W\",-37.9123565924,145.132106915,0,25,true,false,false,25,',\n",
       "  '|-39600|0,\"Campus Centre N\",-37.9113413705,145.132825747,0,10,true,false,false,10,',\n",
       "  '|-39600|0,\"Campus Centre S\",-37.9122148114,145.133031607,0,15,true,false,false,15,',\n",
       "  '|-39600|0,\"Hargrave-Andrew Library\",-37.9101364708,145.132112145,0,20,true,false,false,20,',\n",
       "  '|-39600|0,\"Medicine Offices - East\",-37.913073958,145.131371319,0,5,true,false,false,5,',\n",
       "  '|-39600|0,\"35 Rainforest Walk\",-37.9124094957,145.13142094,0,4,true,false,false,4,',\n",
       "  '|-39600|0,\"Bus Loop W\",-37.9144388379,145.131148696,0,10,true,false,false,10,',\n",
       "  '|-39600|0,\"Campbell Hall W\",-37.9112408528,145.134279504,0,10,true,false,false,10,',\n",
       "  '|-39600|0,\"Information Technology N\",-37.9104901394,145.133972727,0,10,true,false,false,10,',\n",
       "  '|-39600|0,\"Halls\",-37.9077983006,145.139749199,0,15,true,false,false,15,',\n",
       "  '|-39600|0,\"738 Blackburn Rd\",-37.9093415701,145.142289922,0,8,true,false,false,8,',\n",
       "  '|-39600|0,\"211 Wellington Rd\",-37.9167548435,145.150984973,0,12,true,false,false,12,',\n",
       "  '|-39600|0,\"Turner Hall\",-37.9096415434,145.137787163,0,10,true,false,false,10,',\n",
       "  '|-39600|0,\"Innovation Walk S\",-37.9136765186,145.129647665,0,7,true,false,false,7,',\n",
       "  '|-39600|0,\"Monash College W\",-37.9145065522,145.12981832,0,5,true,false,false,5,',\n",
       "  '|-39600|0,\"700 Blackburn Rd\",-37.907666563,145.142124966,0,10,true,false,false,10,',\n",
       "  '|-39600|0,\"Scenic Blvd S\",-37.9143187506,145.135263205,0,8,true,false,false,8,',\n",
       "  '|-39600|0,\"Car Park OC1 West at 800 Blackburn Rd\",-37.9158708764,145.140580013,0,8,true,false,false,8,',\n",
       "  '|-39600|0,\"Campbell Hall S\",-37.9112075232,145.134927928,0,10,true,false,false,10,',\n",
       "  '|-39600|0,\"Sports Walk E\",-37.91119271,145.136428624,0,19,true,false,false,19,',\n",
       "  '|-39600|0,\"Engineering SE\",-37.9098372379,145.134307678,0,20,true,false,false,20,',\n",
       "  '|-39600|0,\"Information Technology S\",-37.911066798,145.133639127,0,10,true,false,false,10,',\n",
       "  '|-39600|0,\"MSI\",-37.9070048385,145.137876075,0,4,true,false,false,4,',\n",
       "  '|-39600|0,\"24 Research Way\",-37.9079662458,145.1341407,0,6,true,false,false,6,',\n",
       "  '|-39600|0,\"Earth Sciences\",-37.9093706681,145.130883157,0,24,true,false,false,24,',\n",
       "  '|-39600|0,\"5 Rainforest Walk - Car Park N1\",-37.9086543793,145.131928945,0,20,true,false,false,20,',\n",
       "  '|-39600|0,\"Biotechnology E\",-37.9102937196,145.129504733,0,9,true,false,false,9,',\n",
       "  '|-39600|0,\"Biomedical Sciences\",-37.9116127526,145.129608169,0,10,true,false,false,10,',\n",
       "  '|-39600|0,\"South East Flats\",-37.9152392191,145.13880515,0,5,true,false,false,5,',\n",
       "  '|-39600|0,\"Campus Centre W\",-37.9117735954,145.132036507,0,4,true,false,false,4,',\n",
       "  '|-39600|0,\"Biotechnology W\",-37.9102541842,145.12901634,0,10,true,false,false,10,',\n",
       "  '|-39600|0,\"Engineering S\",-37.9100555263,145.133276358,0,5,true,false,false,5,',\n",
       "  '|-39600|0,\"Engineering W\",-37.9095701215,145.132407993,0,4,true,false,false,4,',\n",
       "  '|-39600|0,\"Car Park OC1 at 800 Blackburn Rd\",-37.9156404931,145.142225884,0,8,true,false,false,8,',\n",
       "  '|-39600|0,\"Normanby House\",-37.9059256475,145.138726942,0,4,true,false,false,4,',\n",
       "  '|-39600|0,\"321 Ferntree Gully\",-37.8998522254,145.133863091,0,4,true,false,false,4,',\n",
       "  '|-39600|0,\"Education\",-37.9137405304,145.134351254,0,10,true,false,false,10,',\n",
       "  '|-39600|0,\"Medicine Offices - North\",-37.9127853396,145.131041408,0,4,true,false,false,4,',\n",
       "  '|-39600|0,\"16 Rainforest Walk\",-37.9107715917,145.131929219,0,8,true,false,false,8,',\n",
       "  '|-39600|0,\"25 Rainforest Walk\",-37.9116005337,145.131123215,0,10,true,false,false,10,',\n",
       "  '|-39600|0,\"Briggs Hall\",-37.9103572823,145.139153749,0,1,true,false,false,1,',\n",
       "  '|-39600|0,\"738 Blackburn Rd - Car Park\",-37.9096438913,145.141939223,0,6,true,false,false,6,',\n",
       "  '|-39600|0,\"Mannix College \",-37.9159228349,145.131603666,0,5,true,false,false,5,',\n",
       "  '|-39600|0,\"Roberts Hall \",-37.9072489839,145.139254499,0,5,true,false,false,5,',\n",
       "  '|-39600|0,\"Richardson Hall\",-37.9071271442,145.138715208,0,5,true,false,false,5,',\n",
       "  '|-39600|0,\"Deakin Hall\",-37.908233822,145.140722888,0,5,true,false,false,5,',\n",
       "  '|-39600|0,\"Farrer Hall\",-37.9073875954,145.140450932,0,8,true,false,false,8,',\n",
       "  '|-39600|0,\"Monash Nanofabrication\",-37.9163077696,145.143681318,0,6,true,false,false,6,',\n",
       "  '|-39600|0,\"Monash Biomedical Imaging\",-37.9123693415,145.141382581,0,4,true,false,false,4,',\n",
       "  '|-39600|0,\"Green Chemical Futures\",-37.9100415064,145.131320357,0,10,true,false,false,10,',\n",
       "  '|-39600|0,\"Physics\",-37.9105487753,145.130346715,0,4,true,false,false,4,',\n",
       "  '|-39600|0,\"Robert Blackwood\",-37.9131763249,145.135231018,0,4,true,false,false,4,',\n",
       "  '|-39600|0,\"Teaching and Learning S\",-37.9146082997,145.132712424,0,20,true,false,false,20,',\n",
       "  '|-39600|0,\"Youlendj Hub\",-37.9132081988,145.130268261,0,8,true,false,false,8,',\n",
       "  '|-39600|0,\"Childcare\",-37.9054552943,145.137966871,0,2,true,false,false,2,',\n",
       "  '|-39600|0,\"Engineering N\",-37.909727713,145.133348107,0,6,true,false,false,6,',\n",
       "  '|-39600|0,\"Campbell Hall E\",-37.9112416133,145.135531425,0,8,true,false,false,8,',\n",
       "  '|-39600|0,\"Engineering NE\",-37.9093653775,145.134278834,0,2,true,false,false,2,',\n",
       "  '|-39600|0,\"Normanby House W\",-37.9058356709,145.138117075,0,4,true,false,false,4,'],\n",
       " ['|-3600|0,\"Klosterneuburg / Kierling / Bahnhof\",48.310016,16.326284,0,10,true,false,false,10,',\n",
       "  '|-3600|0,\"Klosterneuburg / Weidling / Bahnhof\",48.297509,16.334519,0,10,true,false,false,10,',\n",
       "  '|-3600|0,\"Korneuburg / Bahnhof\",48.343953,16.328934,3,7,true,false,false,10,',\n",
       "  '|-3600|0,\"Leobendorf / Bahnhof\",48.364807,16.301844,3,7,true,false,false,10,',\n",
       "  '|-3600|0,\"Stockerau / Bahnhof\",48.382863,16.213508,0,10,true,false,false,10,',\n",
       "  '|-3600|0,\"Korneuburg / BH Korneuburg\",48.347287,16.333575,4,6,true,false,false,10,',\n",
       "  '|-3600|0,\"Korneuburg / Hauptplatz\",48.344217,16.333805,4,6,true,false,false,10,',\n",
       "  '|-3600|0,\"Stockerau / Rathausplatz\",48.384149,16.207017,0,10,true,false,false,10,',\n",
       "  '|-3600|0,\"Stockerau / Kaiserrast\",48.374646,16.237541,0,10,true,false,false,10,',\n",
       "  '|-3600|0,\"Leobendorf / Zentrum\",48.377354,16.322401,4,6,true,false,false,10,',\n",
       "  '|-3600|0,\"Spillern / Bahnhof\",48.375947,16.256386,1,9,true,false,false,10,',\n",
       "  '|-3600|0,\"Spillern / Jugendtreff\",48.374447,16.271138,0,10,true,false,false,10,',\n",
       "  '|-3600|0,\"St. Andrä Wördern / Marienhof\",48.287744,16.192791,0,10,true,false,false,10,',\n",
       "  '|-3600|0,\"St. Andrä Wördern / Bahnhof\",48.333708,16.209286,0,10,true,false,false,10,',\n",
       "  '|-3600|0,\"St. Andrä Wördern / BHF Greifenstein - Altenberg\",48.344531,16.239649,0,10,true,false,false,10,',\n",
       "  '|-3600|0,\"Stammersdorf / Bahnhofsplatz Erlebnisstop 2\",48.297334,16.420231,0,10,true,false,false,10,',\n",
       "  '|-3600|0,\"Zehn vor Wien / Strebersdorferhof\",48.29181,16.387085,0,10,true,false,false,10,',\n",
       "  '|-3600|0,\"Korneuburg / Dabschkaserne\",48.359639,16.32961,4,6,true,false,false,10,',\n",
       "  '|-3600|0,\"Korneuburg / Florian Berndl Bad\",48.336034,16.343461,2,8,true,false,false,10,',\n",
       "  '|-3600|0,\"Klosterneuburg / IST Austria\",48.310127,16.258961,0,10,true,false,false,10,',\n",
       "  '|-3600|0,\"Korneuburg / BP K01 - Halle A\",48.356648,16.316907,2,8,true,false,false,10,',\n",
       "  '|-3600|0,\"Korneuburg / BP K01 - Halle G\",48.358666,16.317294,4,6,true,false,false,10,',\n",
       "  '|-3600|0,\"Korneuburg / BP K01 - Halle I\",48.36053,16.31857,4,6,true,false,false,10,',\n",
       "  '|-3600|0,\"BIKE 34954\",48.35761,16.3169,1,0,true,false,true,1,'],\n",
       " ['|-3600|0,\"Amstetten / Bahnhof\",48.121764,14.877407,0,10,true,false,false,10,',\n",
       "  '|-3600|0,\"Amstetten / Landesklinikum\",48.127377,14.882212,0,10,true,false,false,10,',\n",
       "  '|-3600|0,\"Amstetten / Hauptplatz\",48.123373,14.871451,0,10,true,false,false,10,',\n",
       "  '|-3600|0,\"Amstetten / Landesberufsschule WKNÖ\",48.116762,14.88301,0,10,true,false,false,10,',\n",
       "  '|-3600|0,\"Amstetten / BHF Mauer\",48.095147,14.798294,0,10,true,false,false,10,',\n",
       "  '|-3600|0,\"Amstetten / BHF Greinsfurth\",48.108423,14.839021,0,10,true,false,false,10,',\n",
       "  '|-3600|0,\"Amstetten / Landesklinikum Mauer\",48.092605,14.804756,0,10,true,false,false,10,'],\n",
       " ['|-3600|0,\"Groß Enzersdorf / Busbahnhof\",48.199596,16.550072,0,10,true,false,false,10,',\n",
       "  '|-3600|0,\"Groß Enzersdorf / Auvorstadt\",48.189573,16.545464,0,10,true,false,false,10,',\n",
       "  '|-3600|0,\"Groß Enzersdorf / Sachsengang\",48.196554,16.562794,0,10,true,false,false,10,'],\n",
       " ['|-3600|0,\"Haag / Tierpark\",48.101944,14.558056,0,10,,,,10,',\n",
       "  '|-3600|0,\"Haag / Freizeitzentrum\",48.108889,14.578333,0,10,,,,10,',\n",
       "  '|-3600|0,\"Haag / Haltestelle Haag\",48.094495,14.589374,0,10,,,,10,'],\n",
       " ['|-3600|0,\"Hollabrunn / Bahnhof\",48.563008,16.073014,0,10,true,false,false,10,',\n",
       "  '|-3600|0,\"Hollabrunn / KAUF ein- Fachzentrum\",48.568873,16.07965,0,10,true,false,false,10,'],\n",
       " ['|-3600|0,\"Landesgericht\",47.26254,11.392157,7,3,true,false,false,10,',\n",
       "  '|-3600|0,\"Bozner Platz\",47.264779,11.397192,5,10,true,false,false,15,',\n",
       "  '|-3600|0,\"Congress / Hofburg\",47.268754,11.395462,8,7,true,false,false,15,',\n",
       "  '|-3600|0,\"Dr. Glatz-Straße\",47.262631,11.412842,6,4,true,false,false,10,',\n",
       "  '|-3600|0,\"Hauptbahnhof\",47.263381,11.399882,16,14,true,false,false,30,',\n",
       "  '|-3600|0,\"Höttinger Au /West\",47.264589,11.374937,4,7,true,false,false,11,',\n",
       "  '|-3600|0,\"Anichstraße / Klinik\",47.263745,11.388209,8,3,true,false,false,11,',\n",
       "  '|-3600|0,\"Maria-Theresien-Straße\",47.264916,11.394763,2,11,true,false,false,13,',\n",
       "  '|-3600|0,\"Pacherstaße\",47.260749,11.409412,2,8,true,false,false,10,',\n",
       "  '|-3600|0,\"Mühlauer Brücke\",47.278834,11.403916,7,3,true,false,false,10,',\n",
       "  '|-3600|0,\"Leipziger Platz\",47.264537,11.406609,5,6,true,false,false,11,',\n",
       "  '|-3600|0,\"Sillpark\",47.266097,11.403015,8,6,true,false,false,14,',\n",
       "  '|-3600|0,\"Westbahnhof\",47.255885,11.39169,7,11,true,false,false,18,',\n",
       "  '|-3600|0,\"Rossaugasse\",47.273034,11.429842,4,9,true,false,false,13,',\n",
       "  '|-3600|0,\"AMS-Geschäftsstelle\",47.25945,11.393339,1,9,true,false,false,10,',\n",
       "  '|-3600|0,\"Studentenhaus\",47.261721,11.383606,5,5,true,false,false,10,',\n",
       "  '|-3600|0,\"Kletterzentrum / Sillside\",47.276885,11.414586,7,3,true,false,false,10,',\n",
       "  '|-3600|0,\"Schöpfstraße / Klinik\",47.260307,11.387271,10,3,true,false,false,13,',\n",
       "  '|-3600|0,\"Bachlechnerstr. / MED-EL\",47.263097,11.37483,3,13,true,false,false,16,',\n",
       "  '|-3600|0,\"Stubaitalbahnhof\",47.253926,11.39757,3,12,true,false,false,15,',\n",
       "  '|-3600|0,\"Universität\",47.263788,11.386207,6,9,true,false,false,15,',\n",
       "  '|-3600|0,\"SOWI\",47.269249,11.399135,8,11,true,false,false,19,',\n",
       "  '|-3600|0,\"General-Eccher-Straße\",47.277315,11.416799,10,6,true,false,false,16,',\n",
       "  '|-3600|0,\"Technik\",47.265157,11.344585,3,21,true,false,false,24,',\n",
       "  '|-3600|0,\"UNI-Sportstätten\",47.257789,11.357546,8,2,true,false,false,10,',\n",
       "  '|-3600|0,\"Adolf-Pichler-Platz\",47.266228,11.392082,9,1,true,false,false,8,',\n",
       "  '|-3600|0,\"Philippine-Welser-Straße\",47.258688,11.425567,9,3,true,false,false,12,',\n",
       "  '|-3600|0,\"Austria Trend Hotel\",47.27449,11.397193,6,4,true,false,false,10,',\n",
       "  '|-3600|0,\"Technikerhaus\",47.261349,11.379588,4,9,true,false,false,13,',\n",
       "  '|-3600|0,\"Fürstenweg\",47.265878,11.382812,4,8,true,false,false,12,',\n",
       "  '|-3600|0,\"Mariahilfpark\",47.267898,11.387577,5,7,true,false,false,12,',\n",
       "  '|-3600|0,\"Waltherpark\",47.270665,11.391644,4,7,true,false,false,11,',\n",
       "  '|-3600|0,\"Langstraße\",47.265132,11.413363,3,8,true,false,false,11,',\n",
       "  '|-3600|0,\"TWI Technologiezentrum\",47.265525,11.435286,7,7,true,false,false,14,',\n",
       "  '|-3600|0,\"Dr. Stumpf-Straße\",47.256696,11.373858,11,2,true,false,false,13,',\n",
       "  '|-3600|0,\"Claudiaplatz\",47.275797,11.405576,11,1,true,false,false,10,',\n",
       "  '|-3600|0,\"Mitterweg\",47.258067,11.370598,10,2,true,false,false,12,',\n",
       "  '|-3600|0,\"Marktplatz\",47.267371,11.391144,8,3,true,false,false,11,',\n",
       "  '|-3600|0,\"Kaiserschützenplatz\",47.258677,11.396711,0,12,true,false,false,12,',\n",
       "  '|-3600|0,\"Josef-Kerschbaumer-Straße\",47.272365,11.443521,10,1,true,false,false,10,',\n",
       "  '|-3600|0,\"Vögelebichl\",47.264109,11.362696,8,6,true,false,false,14,',\n",
       "  '|-3600|0,\"Triumphpforte/ Casino\",47.262635,11.396309,2,13,true,false,false,15,',\n",
       "  '|-3600|0,\"Chemieinstitut\",47.260745,11.381139,10,1,true,false,false,11,',\n",
       "  '|-3600|0,\"BIKE 340096\",47.263662,11.398513,1,0,true,false,true,1,',\n",
       "  '|-3600|0,\"BIKE 340325\",47.275267,11.404502,1,0,true,false,true,1,'],\n",
       " ['|-3600|0,\"Universität Klagenfurt\",46.616978,14.266726,10,1,true,false,false,10,',\n",
       "  '|-3600|0,\"S-Bahn Klagenfurt West\",46.622792,14.267274,5,5,true,false,false,10,',\n",
       "  '|-3600|0,\"Heiligengeistplatz\",46.624676,14.305148,3,3,true,false,false,6,',\n",
       "  '|-3600|0,\"Heuplatz\",46.626433,14.308257,4,5,true,false,false,9,',\n",
       "  '|-3600|0,\"Park & Ride Fernheizkraftwerk\",46.629264,14.314336,4,3,true,false,false,8,',\n",
       "  '|-3600|0,\"Strandbad Klagenfurt\",46.619571,14.255978,5,5,true,false,false,10,',\n",
       "  '|-3600|0,\"FH Kärnten Primoschgasse\",46.610464,14.330101,2,2,true,false,false,6,',\n",
       "  '|-3600|0,\"Hauptbahnhof Klagenfurt\",46.616539,14.313624,6,4,true,false,false,10,',\n",
       "  '|-3600|0,\"Neuer Platz\",46.624195,14.307061,9,1,true,false,false,10,',\n",
       "  '|-3600|0,\"Messe Klagenfurt\",46.617295,14.308044,3,5,true,false,false,8,',\n",
       "  '|-3600|0,\"Landesregierung Mießtalerstraße\",46.621497,14.311447,8,2,true,false,false,10,',\n",
       "  '|-3600|0,\"Welzeneggerstraße\",46.633055,14.334616,7,3,true,false,false,10,',\n",
       "  '|-3600|0,\"Pfarrplatz\",46.625919,14.307208,4,2,true,false,false,6,',\n",
       "  '|-3600|0,\"HTL1 Lastenstraße\",46.619769,14.315703,2,6,true,false,false,8,',\n",
       "  '|-3600|0,\"P&R Sirius\",46.619378,14.319519,4,4,true,false,false,8,',\n",
       "  '|-3600|0,\"Domplatz\",46.622304,14.309069,5,1,true,false,false,5,',\n",
       "  '|-3600|0,\"Ebenthal\",46.610514,14.359715,1,4,true,false,false,5,',\n",
       "  '|-3600|0,\"Schleppeplatz\",46.641481,14.288451,5,3,true,false,false,8,',\n",
       "  '|-3600|0,\"Kardinalplatz\",46.623896,14.312117,6,1,true,false,false,5,',\n",
       "  '|-3600|0,\"Steinerne Brücke\",46.62045,14.283111,4,2,true,false,false,6,',\n",
       "  '|-3600|0,\"Seepark Hotel\",46.618267,14.261236,4,6,true,false,false,10,',\n",
       "  '|-3600|0,\"Sportpark Klagenfurt\",46.610406,14.277975,7,1,true,false,false,8,',\n",
       "  '|-3600|0,\"Messe Parkhaus\",46.618639,14.304042,3,3,true,false,false,6,',\n",
       "  '|-3600|0,\"Mühlgasse\",46.63935,14.297519,4,3,true,false,false,8,',\n",
       "  '|-3600|0,\"Wörthersee Schifffahrt\",46.622743,14.255431,3,5,true,false,false,8,',\n",
       "  '|-3600|0,\"Bahnhofstraße/ Priesterhausgasse\",46.625719,14.310586,2,2,true,false,false,5,',\n",
       "  '|-3600|0,\"S-Bahn Annabichl\",46.650767,14.314438,5,1,true,false,false,5,',\n",
       "  '|-3600|0,\"BKS Bank St.Veiter Ring\",46.628052,14.309578,3,4,true,false,false,8,',\n",
       "  '|-3600|0,\"HTL Mössingerstraße\",46.610369,14.305603,5,3,true,false,false,8,',\n",
       "  '|-3600|0,\"S-Bahn Klagenfurt/ Ost Rudolfsbahngürtel\",46.621495,14.321716,3,7,true,false,false,10,',\n",
       "  '|-3600|0,\"NMS St. Ruprecht\",46.611082,14.311115,1,5,true,false,false,6,',\n",
       "  '|-3600|0,\"FH Klinikum St. Veiter Straße\",46.632581,14.309599,5,5,true,false,false,10,',\n",
       "  '|-3600|0,\"STW Kundencenter\",46.629643,14.309644,2,4,true,false,false,6,',\n",
       "  '|-3600|0,\"Südpark\",46.615411,14.319496,4,3,true,false,false,8,',\n",
       "  '|-3600|0,\"S-Bahn Ebenthal/Fischl\",46.616903,14.333603,3,6,true,false,false,9,',\n",
       "  '|-3600|0,\"Generali at Brain@Work\",46.620811,14.307048,6,4,true,false,false,10,',\n",
       "  '|-3600|0,\"KSW Maximilianstraße\",46.613919,14.293806,3,5,true,false,false,8,',\n",
       "  '|-3600|0,\"Benediktinerplatz\",46.623263,14.305623,7,3,true,false,false,10,',\n",
       "  '|-3600|0,\"Pädagogische Hochschule\",46.608516,14.29106,10,1,true,false,false,10,',\n",
       "  '|-3600|0,\"SLOG & TAK Prof.-Janežič-Platz\",46.624367,14.323619,1,2,true,false,false,5,',\n",
       "  '|-3600|0,\"hi Harbach\",46.621873,14.343128,4,1,true,false,false,13,'],\n",
       " [],\n",
       " ['|-3600|0,\"Laa / Bahnhof\",48.723065,16.40269,0,10,true,false,false,10,',\n",
       "  '|-3600|0,\"Laa / Stadtplatz - Rathaus\",48.720988,16.384794,0,10,true,false,false,10,'],\n",
       " ['|-3600|0,\"Alter Markt\",48.30554,14.2847,7,1,true,false,false,8,',\n",
       "  '|-3600|0,\"Am Volksgarten\",48.29491,14.29272,9,1,true,false,false,10,',\n",
       "  '|-3600|0,\"Bahnhofplatz\",48.2912,14.2912,11,2,true,false,false,13,',\n",
       "  '|-3600|0,\"Bethlehemstraße \",48.30321,14.2893,10,1,true,false,false,10,',\n",
       "  '|-3600|0,\"Blumauerstraße\",48.29548,14.29535,9,1,true,false,false,10,',\n",
       "  '|-3600|0,\"Dinghoferstraße \",48.29701,14.29907,7,1,true,false,false,8,',\n",
       "  '|-3600|0,\"E. Koref-Promenade\",48.30832,14.2889,6,2,true,false,false,8,',\n",
       "  '|-3600|0,\"Fabrikstraße \",48.30864,14.29284,8,1,true,false,false,8,',\n",
       "  '|-3600|0,\"Ferihumerstraße \",48.31327,14.28754,9,1,true,false,false,10,',\n",
       "  '|-3600|0,\"Figulystraße \",48.293519,14.28811,8,2,true,false,false,10,',\n",
       "  '|-3600|0,\"Friedensplatz\",48.2999,14.28963,6,4,true,false,false,10,',\n",
       "  '|-3600|0,\"Europaplatz\",48.29927,14.30405,10,1,true,false,false,10,',\n",
       "  '|-3600|0,\"Gruberstraße\",48.30301,14.3003,11,1,true,false,false,10,',\n",
       "  '|-3600|0,\"Harrachstraße-Landstraße\",48.30198,14.29021,8,1,true,false,false,8,',\n",
       "  '|-3600|0,\"Harrachstraße\",48.303515,14.297951,7,3,true,false,false,10,',\n",
       "  '|-3600|0,\"Hauptplatz \",48.3064,14.28585,10,1,true,false,false,10,',\n",
       "  '|-3600|0,\"Neues Rathaus\",48.30943,14.28332,7,3,true,false,false,10,',\n",
       "  '|-3600|0,\"Hauptstraße \",48.31437,14.28115,9,1,true,false,false,10,',\n",
       "  '|-3600|0,\"Herrenstraße\",48.30096,14.28717,10,1,true,false,false,10,',\n",
       "  '|-3600|0,\"Hessenplatz \",48.30096,14.29484,6,1,true,false,false,7,',\n",
       "  '|-3600|0,\"Huemerstraße \",48.30588,14.2983,9,1,true,false,false,10,',\n",
       "  '|-3600|0,\"Knabenseminarstraße \",48.31578,14.28057,8,2,true,false,false,10,',\n",
       "  '|-3600|0,\"Krankenhausstraße \",48.302096,14.30534,8,2,true,false,false,10,',\n",
       "  '|-3600|0,\"Landstraße\",48.2959,14.29238,7,1,true,false,false,8,',\n",
       "  '|-3600|0,\"Lederergasse\",48.30753,14.29608,10,1,true,false,false,10,',\n",
       "  '|-3600|0,\"Marktplatz\",48.300521,14.300158,9,1,true,false,false,9,',\n",
       "  '|-3600|0,\"Martin Luther-Platz\",48.30061,14.29176,9,1,true,false,false,10,',\n",
       "  '|-3600|0,\"Mühlkreisbahnstraße\",48.311548,14.280062,11,1,true,false,false,10,',\n",
       "  '|-3600|0,\"Pfarrplatz\",48.306351,14.289585,11,1,true,false,false,10,',\n",
       "  '|-3600|0,\"Pochestraße\",48.304939,14.292987,6,4,true,false,false,10,',\n",
       "  '|-3600|0,\"Promenade \",48.30421,14.28719,6,3,true,false,false,9,',\n",
       "  '|-3600|0,\"Klammstraße\",48.30333,14.28454,7,3,true,false,false,10,',\n",
       "  '|-3600|0,\"Römerstraße \",48.304528,14.280579,10,1,true,false,false,10,',\n",
       "  '|-3600|0,\"Schillerplatz \",48.29749,14.29094,8,2,true,false,false,10,',\n",
       "  '|-3600|0,\"Schubertstraße \",48.29878,14.29622,7,1,true,false,false,8,',\n",
       "  '|-3600|0,\"Spittelwiese \",48.30218,14.2868,8,1,true,false,false,8,',\n",
       "  '|-3600|0,\"Stockhofstraße \",48.29565,14.28675,9,1,true,false,false,8,',\n",
       "  '|-3600|0,\"Untere Donaulände \",48.310402,14.293835,9,1,true,false,false,10,',\n",
       "  '|-3600|0,\"Volksgartenstraße \",48.29776,14.28793,10,1,true,false,false,10,',\n",
       "  '|-3600|0,\"Weingartshofstraße \",48.29111,14.28798,10,1,true,false,false,10,',\n",
       "  '|-3600|0,\"JKU Kepler Hall\",48.335415,14.32033,11,1,true,false,false,10,',\n",
       "  '|-3600|0,\"JKU OIC\",48.337251,14.315912,11,1,true,false,false,10,',\n",
       "  '|-3600|0,\"BIKE 390037\",48.30052,14.305408,1,0,true,false,true,1,',\n",
       "  '|-3600|0,\"BIKE 390123\",48.301684,14.284597,1,0,true,false,true,1,',\n",
       "  '|-3600|0,\"BIKE 390367\",48.306227,14.286692,1,0,true,false,true,1,',\n",
       "  '|-3600|0,\"BIKE 390218\",48.298427,14.28854,1,0,true,false,true,1,'],\n",
       " [],\n",
       " ['|-3600|0,\"Marchegg / Hauptplatz\",48.279987,16.90731,0,10,true,false,false,10,',\n",
       "  '|-3600|0,\"Marchegg / Bahnhof\",48.249998,16.917604,0,10,true,false,false,10,',\n",
       "  '|-3600|0,\"Engelhartstetten / Schloss Hof\",48.215569,16.934963,0,10,true,false,false,10,'],\n",
       " ['|-3600|0,\"Mistelbach / Hst. Mistelbach Stadt\",48.571111,16.569142,0,10,,,,10,',\n",
       "  '|-3600|0,\"Mistelbach / Weinlandbad\",48.563056,16.576389,0,10,,,,10,',\n",
       "  '|-3600|0,\"Mistelbach / Bahnhof\",48.566047,16.565543,0,10,,,,10,'],\n",
       " ['|-3600|0,\"Ma. Enzersdorf / Haltestelle\",48.096659,16.314386,5,5,true,false,false,10,',\n",
       "  '|-3600|0,\"Wiener Neudorf / HST Griesfeld\",48.077713,16.312519,7,3,true,false,false,10,',\n",
       "  '|-3600|0,\"Vösendorf / Schönbrunner Allee\",48.135664,16.32519,0,10,true,false,false,10,',\n",
       "  '|-3600|0,\"Vösendorf / Siebenhirten HST\",48.125628,16.319413,0,10,true,false,false,10,',\n",
       "  '|-3600|0,\"Wiener Neudorf / Haltestelle\",48.087561,16.31429,3,7,true,false,false,10,',\n",
       "  '|-3600|0,\"Mödling / Bahnhof\",48.085397,16.295616,3,7,true,false,false,10,',\n",
       "  '|-3600|0,\"Laxenburg / Franz-Josephs-Platz\",48.06753,16.354989,6,4,true,false,false,10,',\n",
       "  '|-3600|0,\"Mödling / Bike+Ride (Bach)\",48.084985,16.297038,1,9,true,false,false,10,',\n",
       "  '|-3600|0,\"Mödling / Babenbergerhof\",48.083759,16.28345,4,6,true,false,false,10,',\n",
       "  '|-3600|0,\"Mödling / Stadtbad\",48.081591,16.287414,3,7,true,false,false,10,',\n",
       "  '|-3600|0,\"Mödling / Schrannenplatz\",48.085343,16.283568,3,7,true,false,false,10,',\n",
       "  '|-3600|0,\"Brunn / Campus 21\",48.114455,16.294516,0,10,true,false,false,10,',\n",
       "  '|-3600|0,\"Laxenburg / Schlosspark Haupteingang\",48.066476,16.358385,6,4,true,false,false,10,',\n",
       "  '|-3600|0,\"Ma. Enzersdorf / Franziskanerplatz\",48.101155,16.283943,1,9,true,false,false,10,',\n",
       "  '|-3600|0,\"Ma. Enzersdorf / Friedhof\",48.093434,16.284415,5,5,true,false,false,10,',\n",
       "  '|-3600|0,\"Ma. Enzersdorf / Theissplatz\",48.095376,16.304784,3,7,true,false,false,10,',\n",
       "  '|-3600|0,\"Ma. Enzersdorf / Gemeindeamt\",48.097182,16.283948,0,10,true,false,false,10,',\n",
       "  '|-3600|0,\"Vösendorf / Schloss\",48.120404,16.343113,3,7,true,false,false,10,',\n",
       "  '|-3600|0,\"Wiener Neudorf / Rathaus\",48.086544,16.318104,1,9,true,false,false,10,',\n",
       "  '|-3600|0,\"Wiener Neudorf / C.-Migazzi-Haus\",48.083706,16.323887,2,8,true,false,false,10,',\n",
       "  '|-3600|0,\"Wiener Neudorf / Reisenbauer Ring\",48.091001,16.310695,2,8,true,false,false,10,',\n",
       "  '|-3600|0,\"Brunn / Bahnhof\",48.104687,16.28839,3,7,true,false,false,10,',\n",
       "  '|-3600|0,\"Biedermannsdorf / Jubiläumshalle\",48.081545,16.346299,0,10,true,false,false,10,',\n",
       "  '|-3600|0,\"Biedermannsdorf / Laxenburgerstraße /Ortstraße\",48.082552,16.352334,0,10,true,false,false,10,',\n",
       "  '|-3600|0,\"Perchtoldsdorf / Rodaun\",48.132148,16.263617,3,7,true,false,false,10,',\n",
       "  '|-3600|0,\"Perchtoldsdorf / Freizeitzentrum\",48.123891,16.266734,3,7,true,false,false,10,',\n",
       "  '|-3600|0,\"Perchtoldsdorf / Bahnhof\",48.123254,16.285263,4,6,true,false,false,10,',\n",
       "  '|-3600|0,\"Perchtoldsdorf / Marktplatz\",48.118248,16.265924,5,5,true,false,false,10,',\n",
       "  '|-3600|0,\"Vösendorf / Spitz\",48.114294,16.354254,2,8,true,false,false,10,',\n",
       "  '|-3600|0,\"Liesing / Bahnhof\",48.134515,16.283809,0,10,true,false,false,10,',\n",
       "  '|-3600|0,\"Mödling / WIFI\",48.071082,16.302579,5,5,true,false,false,10,',\n",
       "  '|-3600|0,\"Mödling / Josef-Deutsch-Platz\",48.086594,16.288304,2,8,true,false,false,10,',\n",
       "  '|-3600|0,\"Hinterbrühl / Hst. Höldrichsmühle\",48.080943,16.235915,1,9,true,false,false,10,',\n",
       "  '|-3600|0,\"Hinterbrühl / Parkstraße - Seegrotte\",48.086218,16.255292,2,8,true,false,false,10,',\n",
       "  '|-3600|0,\"Perchtoldsdorf / Kulturzentrum\",48.121922,16.26565,4,6,true,false,false,10,',\n",
       "  '|-3600|0,\"Liesing / Perfektastraße U6\",48.136641,16.313335,4,6,true,false,false,10,',\n",
       "  '|-3600|0,\"Mödling / Jordanfelsen\",48.080986,16.270435,2,8,true,false,false,10,',\n",
       "  '|-3600|0,\"Mödling / BH Mödling\",48.082132,16.298652,4,6,true,false,false,10,',\n",
       "  '|-3600|0,\"Hennersdorf / Gemeindeamt\",48.110153,16.366485,4,6,true,false,false,10,',\n",
       "  '|-3600|0,\"Hennersdorf / Bahnhof\",48.11217,16.358278,1,9,true,false,false,10,',\n",
       "  '|-3600|0,\"Mödling / Grutschgasse\",48.075126,16.288835,0,10,true,false,false,10,',\n",
       "  '|-3600|0,\"Leobersdorf / Bahnhof\",47.93723,16.230749,0,10,true,false,false,10,',\n",
       "  '|-3600|0,\"Leobersdorf / Rathausplatz\",47.92859,16.216437,0,10,true,false,false,10,',\n",
       "  '|-3600|0,\"Leobersdorf / Ared Park\",47.927188,16.201449,0,10,true,false,false,10,',\n",
       "  '|-3600|0,\"Bad Vöslau / Bahnhof\",47.9689,16.223465,0,10,true,false,false,10,',\n",
       "  '|-3600|0,\"Bad Vöslau / Schlossplatz \",47.965474,16.214506,0,10,true,false,false,10,',\n",
       "  '|-3600|0,\"Guntramsdorf / Hst. Lokalbahn\",48.047982,16.311817,3,7,true,false,false,10,',\n",
       "  '|-3600|0,\"Gumpoldskirchen / Bahnhof\",48.041598,16.285295,2,8,true,false,false,10,',\n",
       "  '|-3600|0,\"Guntramsdorf / Hst. Neu Guntramsdorf\",48.063938,16.31385,2,8,true,false,false,10,',\n",
       "  '|-3600|0,\"Baden / Bahnhof \",48.004582,16.242868,0,10,true,false,false,10,',\n",
       "  '|-3600|0,\"Baden / Tourismusinfo Römertherme\",48.008092,16.231045,1,9,true,false,false,10,',\n",
       "  '|-3600|0,\"Pfaffstätten / Bahnhof \",48.018366,16.258886,0,10,true,false,false,10,',\n",
       "  '|-3600|0,\"Baden / BH\",48.004341,16.254138,0,10,true,false,false,10,',\n",
       "  '|-3600|0,\"Kottingbrunn / Raiba - EKZ\",47.950731,16.227837,0,10,true,false,false,10,',\n",
       "  '|-3600|0,\"Guntramsdorf / Bahnhof Thallern\",48.052194,16.298067,0,10,true,false,false,10,',\n",
       "  '|-3600|0,\"BIKE 35990\",48.058844,16.320631,1,0,true,false,true,1,',\n",
       "  '|-3600|0,\"Schwechat / Bahnhof\",48.142867,16.48233,0,10,true,false,false,10,',\n",
       "  '|-3600|0,\"Leopoldsdorf / Gemeindeamt\",48.107922,16.396864,0,10,true,false,false,10,',\n",
       "  '|-3600|0,\"Leopoldsdorf / ZIAG\",48.105017,16.402239,0,10,true,false,false,10,',\n",
       "  '|-3600|0,\"Leopoldsdorf / Rustenfeld\",48.124235,16.394477,0,10,true,false,false,10,',\n",
       "  '|-3600|0,\"Fischamend / BHF\",48.116808,16.614992,0,10,true,false,false,10,',\n",
       "  '|-3600|0,\"Schwechat / Concorde Businesspark\",48.138313,16.496594,0,10,true,false,false,10,',\n",
       "  '|-3600|0,\"Schwechat / Office Park 1\",48.122506,16.564422,0,10,true,false,false,10,',\n",
       "  '|-3600|0,\"Schwechat / HCW Handling Center West\",48.125009,16.549294,0,10,true,false,false,10,']]"
      ]
     },
     "execution_count": 22,
     "metadata": {},
     "output_type": "execute_result"
    }
   ],
   "source": [
    "#len(clean_lst2)\n",
    "clean_lst2[0:10]"
   ]
  },
  {
   "cell_type": "code",
   "execution_count": 23,
   "id": "df2e3110",
   "metadata": {},
   "outputs": [
    {
     "data": {
      "text/plain": [
       "'\\nnepoužito\\n\\nclean_lst2 = []\\nfor x in clean_lst:\\n    clean_lst2.append(x.strip(\"0\\',\").strip(\"6\\',\"))\\n'"
      ]
     },
     "execution_count": 23,
     "metadata": {},
     "output_type": "execute_result"
    }
   ],
   "source": [
    "\"\"\"\n",
    "nepoužito\n",
    "\n",
    "clean_lst2 = []\n",
    "for x in clean_lst:\n",
    "    clean_lst2.append(x.strip(\"0',\").strip(\"6',\"))\n",
    "\"\"\""
   ]
  },
  {
   "cell_type": "code",
   "execution_count": 24,
   "id": "599552d1",
   "metadata": {},
   "outputs": [
    {
     "data": {
      "text/plain": [
       "796"
      ]
     },
     "execution_count": 24,
     "metadata": {},
     "output_type": "execute_result"
    }
   ],
   "source": [
    "len(cities)"
   ]
  },
  {
   "cell_type": "code",
   "execution_count": 25,
   "id": "3aee7aea",
   "metadata": {
    "tags": []
   },
   "outputs": [
    {
     "data": {
      "text/plain": [
       "796"
      ]
     },
     "execution_count": 25,
     "metadata": {},
     "output_type": "execute_result"
    }
   ],
   "source": [
    "len(station_info_list)"
   ]
  },
  {
   "cell_type": "code",
   "execution_count": 26,
   "id": "d0f8d178",
   "metadata": {},
   "outputs": [
    {
     "data": {
      "text/plain": [
       "'\\nnakonec nevyužito\\n\\n# creating list of data withOUT head\\nno_head_lst = []\\nfor i in head_lst:\\n    no_head_lst.append(i[12:])\\n    \\n'"
      ]
     },
     "execution_count": 26,
     "metadata": {},
     "output_type": "execute_result"
    }
   ],
   "source": [
    "\"\"\"\n",
    "nakonec nevyužito\n",
    "\n",
    "# creating list of data withOUT head\n",
    "no_head_lst = []\n",
    "for i in head_lst:\n",
    "    no_head_lst.append(i[12:])\n",
    "    \n",
    "\"\"\""
   ]
  },
  {
   "cell_type": "code",
   "execution_count": 27,
   "id": "b8793831",
   "metadata": {
    "tags": []
   },
   "outputs": [],
   "source": [
    "# creating 1D list of all data withnout head (from 2D list)\n",
    "simple_lst = [v1 for sub_list in clean_lst2 for v1 in sub_list]"
   ]
  },
  {
   "cell_type": "code",
   "execution_count": 28,
   "id": "58484e9c",
   "metadata": {
    "tags": []
   },
   "outputs": [],
   "source": [
    "cleaned_simple_lst = []\n",
    "for elem in simple_lst:\n",
    "    cleaned_simple_lst.append(re.sub(r'\"[^\"]*\"', lambda x: x.group().replace(\",\", \"\"), elem))"
   ]
  },
  {
   "cell_type": "code",
   "execution_count": 1,
   "id": "fac4d398",
   "metadata": {
    "collapsed": true,
    "jupyter": {
     "outputs_hidden": true
    },
    "tags": []
   },
   "outputs": [],
   "source": [
    "# cleaned_simple_lst"
   ]
  },
  {
   "cell_type": "code",
   "execution_count": 30,
   "id": "47c9d1d5",
   "metadata": {
    "tags": []
   },
   "outputs": [
    {
     "data": {
      "text/plain": [
       "['|-32400|0,\"2302. Kyobo Tower Bus Stop (behind Gate 3 Sinnonhyeon Station)\",37.50558090,127.02427673,0,12,true,false,false,12,']"
      ]
     },
     "execution_count": 30,
     "metadata": {},
     "output_type": "execute_result"
    }
   ],
   "source": [
    "[i for i in cleaned_simple_lst if \"Kyobo Tower Bus Stop\" in i]"
   ]
  },
  {
   "cell_type": "code",
   "execution_count": 31,
   "id": "0e682c39",
   "metadata": {},
   "outputs": [
    {
     "data": {
      "text/plain": [
       "'\\npříklad vymazání čárek mezi uvozovkami v stringu listu\\ntext = \\'12, 1425073747, \"t,e,,st\", \"1, 2, 3,fghfh,gfhgh, ... \"\\'\\nprint( re.sub(r\\'\"[^\"]*\"\\', lambda x: x.group().replace(\",\", \"\"), text) )\\n'"
      ]
     },
     "execution_count": 31,
     "metadata": {},
     "output_type": "execute_result"
    }
   ],
   "source": [
    "\"\"\"\n",
    "příklad vymazání čárek mezi uvozovkami v stringu listu\n",
    "text = '12, 1425073747, \"t,e,,st\", \"1, 2, 3,fghfh,gfhgh, ... \"'\n",
    "print( re.sub(r'\"[^\"]*\"', lambda x: x.group().replace(\",\", \"\"), text) )\n",
    "\"\"\""
   ]
  },
  {
   "cell_type": "code",
   "execution_count": 32,
   "id": "0ed86086",
   "metadata": {},
   "outputs": [],
   "source": [
    "#creating split list\n",
    "\n",
    "split_elem = [i.split(\",\") for i in cleaned_simple_lst]"
   ]
  },
  {
   "cell_type": "code",
   "execution_count": 33,
   "id": "22cbdbc4",
   "metadata": {
    "tags": []
   },
   "outputs": [],
   "source": [
    "#creating split list\n",
    "\n",
    "#split_elem = [i.split(\",\") for sublist in cleaned_simple_lst for i in sublist]"
   ]
  },
  {
   "cell_type": "code",
   "execution_count": 34,
   "id": "f108f194",
   "metadata": {},
   "outputs": [],
   "source": [
    "for i in split_elem:\n",
    "    i.pop()"
   ]
  },
  {
   "cell_type": "code",
   "execution_count": 35,
   "id": "990f2e5c",
   "metadata": {},
   "outputs": [
    {
     "data": {
      "text/plain": [
       "['\"2302. Kyobo Tower Bus Stop (behind Gate 3 Sinnonhyeon Station)\"']"
      ]
     },
     "execution_count": 35,
     "metadata": {},
     "output_type": "execute_result"
    }
   ],
   "source": [
    "[i for sub in split_elem for i in sub if \"Kyobo Tower Bus Stop\" in i]"
   ]
  },
  {
   "cell_type": "code",
   "execution_count": 2,
   "id": "72be515a",
   "metadata": {
    "collapsed": true,
    "jupyter": {
     "outputs_hidden": true
    },
    "tags": []
   },
   "outputs": [],
   "source": [
    "# split_elem[242400:279278]"
   ]
  },
  {
   "cell_type": "code",
   "execution_count": 37,
   "id": "781dec41",
   "metadata": {},
   "outputs": [
    {
     "data": {
      "text/plain": [
       "'\\n# creating 1D list of all data withnout head (from 2D list) - opakovaně, není to špatně\\nsimplest_lst = [v1 for sub_list in split_elem for v1 in sub_list]\\n'"
      ]
     },
     "execution_count": 37,
     "metadata": {},
     "output_type": "execute_result"
    }
   ],
   "source": [
    "\"\"\"\n",
    "# creating 1D list of all data withnout head (from 2D list) - opakovaně, není to špatně\n",
    "simplest_lst = [v1 for sub_list in split_elem for v1 in sub_list]\n",
    "\"\"\""
   ]
  },
  {
   "cell_type": "code",
   "execution_count": 3,
   "id": "2c48da87",
   "metadata": {
    "tags": []
   },
   "outputs": [],
   "source": [
    "# simplest_lst"
   ]
  },
  {
   "cell_type": "code",
   "execution_count": null,
   "id": "9c0c23ef",
   "metadata": {
    "tags": []
   },
   "outputs": [],
   "source": [
    "# simple_lst"
   ]
  },
  {
   "cell_type": "code",
   "execution_count": null,
   "id": "3a97280c",
   "metadata": {
    "tags": []
   },
   "outputs": [],
   "source": [
    "\"\"\"\n",
    "nakonec nevyužito\n",
    "\n",
    "#removing \\n from list\n",
    "\n",
    "repair_simp_lst = []\n",
    "for x in simple_lst:\n",
    "    repair_simp_lst.append(x.replace(\"\\n\", \"\"))\n",
    "    \n",
    "#další možnost:\n",
    "\n",
    "#repair_simp_lst = list(map(lambda x: x.replace(\"\\n\", \"\"),simple_lst))\n",
    "    \n",
    "#nefakčí   \n",
    "#repair_simp_lst = list(map(lambda x: x.strip(),simple_lst))\n",
    "\n",
    "\"\"\""
   ]
  },
  {
   "cell_type": "code",
   "execution_count": null,
   "id": "56844523",
   "metadata": {},
   "outputs": [],
   "source": [
    "\"\"\"\n",
    "#rozšíření listu listem\n",
    "lst1_rep_12.extend(lst2_rep_12)\n",
    "\"\"\""
   ]
  },
  {
   "cell_type": "code",
   "execution_count": null,
   "id": "37b207c5",
   "metadata": {},
   "outputs": [],
   "source": [
    "\"\"\"\n",
    "#creating 2D list of body - asi není úplně třeba\n",
    "n = len(body_values_lst)\n",
    "body_values_lst_2D = [body_values_lst[i:i+n] for i in range(0, len(body_values_lst), n)]\n",
    "\n",
    "\"\"\""
   ]
  },
  {
   "cell_type": "code",
   "execution_count": null,
   "id": "b718c283",
   "metadata": {},
   "outputs": [],
   "source": [
    "#creating 2D list from 1D list with numerical sequence\n",
    "\n",
    "\"\"\"\n",
    "from 1D to 2D list by number\n",
    "example:\n",
    "\n",
    "sample_list=[5, 2, 3, 4, 1, 6, 1, 6, 7, 2, 3]\n",
    "rows=2\n",
    "cols=4\n",
    "\n",
    "result = [sample_list[x:x+cols] for x in range(0,len(sample_list),cols)][:rows]\n",
    "\n",
    "--------------------------------------------------------------------------------\n",
    "\n",
    "\n",
    "cols=8\n",
    "\n",
    "stations = [simplest_lst[x:x+cols] for x in range(0,len(simplest_lst),cols)]\n",
    "\n",
    "\"\"\""
   ]
  },
  {
   "cell_type": "code",
   "execution_count": 39,
   "id": "a0cc5707",
   "metadata": {
    "tags": []
   },
   "outputs": [],
   "source": [
    "#creating final DF from 2D list\n",
    "\"\"\"\n",
    "example:\n",
    "data = [['Katie', 32, 'London'], ['Nik', 32, 'Toronto'], ['James', 36, 'Atlanta'], ['Evan', 31, 'Madrid']]\n",
    "df = pd.DataFrame(data, columns=['Name', 'Age', 'Location'], dtype='int8')\n",
    "\"\"\"\n",
    "\n",
    "df = pd.DataFrame(split_elem) #columns=header_lst)"
   ]
  },
  {
   "cell_type": "code",
   "execution_count": 70,
   "id": "570c9d83",
   "metadata": {},
   "outputs": [],
   "source": [
    "rang = [i for i in range(0,10)]"
   ]
  },
  {
   "cell_type": "code",
   "execution_count": 4,
   "id": "d4c03b88",
   "metadata": {},
   "outputs": [],
   "source": [
    "# df.iloc[:,:10]"
   ]
  },
  {
   "cell_type": "code",
   "execution_count": 47,
   "id": "056833b1",
   "metadata": {},
   "outputs": [],
   "source": [
    "counter = [i for i in range(11,118)]"
   ]
  },
  {
   "cell_type": "code",
   "execution_count": 48,
   "id": "9007818c",
   "metadata": {
    "tags": []
   },
   "outputs": [],
   "source": [
    "fin_df = df.drop(df.columns[10:118], axis=1)"
   ]
  },
  {
   "cell_type": "code",
   "execution_count": 49,
   "id": "444fad5c",
   "metadata": {},
   "outputs": [],
   "source": [
    "header_dic = {}\n",
    "for k, v in enumerate(header_lst):\n",
    "    header_dic[k] = v"
   ]
  },
  {
   "cell_type": "code",
   "execution_count": 50,
   "id": "220cd02f",
   "metadata": {},
   "outputs": [
    {
     "data": {
      "text/plain": [
       "{0: 'timestamp|gmt_local_diff_sec|gmt_servertime_diff_sec',\n",
       " 1: 'name',\n",
       " 2: 'lat',\n",
       " 3: 'lon',\n",
       " 4: 'bikes',\n",
       " 5: 'spaces',\n",
       " 6: 'installed',\n",
       " 7: 'locked',\n",
       " 8: 'temporary',\n",
       " 9: 'total_docks'}"
      ]
     },
     "execution_count": 50,
     "metadata": {},
     "output_type": "execute_result"
    }
   ],
   "source": [
    "header_dic"
   ]
  },
  {
   "cell_type": "code",
   "execution_count": 51,
   "id": "7a9150e7",
   "metadata": {},
   "outputs": [],
   "source": [
    "final_df = fin_df.rename(columns=header_dic)"
   ]
  },
  {
   "cell_type": "code",
   "execution_count": 5,
   "id": "ae6400d6",
   "metadata": {},
   "outputs": [],
   "source": [
    "# final_df[0:10]"
   ]
  },
  {
   "cell_type": "code",
   "execution_count": null,
   "id": "255509ea",
   "metadata": {},
   "outputs": [],
   "source": [
    "\"\"\"\n",
    "with pd.option_context('display.max_rows', None,):\n",
    "   print(final_df)\n",
    "\"\"\"\n",
    "#final_df.to_excel(\"BikeSharing_stations2.xlsx\")"
   ]
  },
  {
   "cell_type": "code",
   "execution_count": null,
   "id": "11c50445",
   "metadata": {},
   "outputs": [],
   "source": [
    "final_df.info()"
   ]
  },
  {
   "cell_type": "code",
   "execution_count": 132,
   "id": "cd2bc521",
   "metadata": {},
   "outputs": [
    {
     "name": "stderr",
     "output_type": "stream",
     "text": [
      "C:\\Users\\Milan\\anaconda3\\lib\\site-packages\\pandas\\core\\dtypes\\cast.py:122: ShapelyDeprecationWarning: The array interface is deprecated and will no longer work in Shapely 2.0. Convert the '.coords' to a numpy array instead.\n",
      "  arr = construct_1d_object_array_from_listlike(values)\n"
     ]
    }
   ],
   "source": [
    "# combine lat and lon column to a shapely Point() object\n",
    "final_df['geometry'] = final_df.apply(lambda x: Point((float(x.lon), float(x.lat))), axis=1)"
   ]
  },
  {
   "cell_type": "code",
   "execution_count": 133,
   "id": "8ab6effa",
   "metadata": {},
   "outputs": [
    {
     "name": "stderr",
     "output_type": "stream",
     "text": [
      "C:\\Users\\Milan\\anaconda3\\lib\\site-packages\\geopandas\\geodataframe.py:35: ShapelyDeprecationWarning: The array interface is deprecated and will no longer work in Shapely 2.0. Convert the '.coords' to a numpy array instead.\n",
      "  out = from_shapely(data)\n"
     ]
    }
   ],
   "source": [
    "G_df = geopandas.GeoDataFrame(final_df, geometry='geometry')"
   ]
  },
  {
   "cell_type": "code",
   "execution_count": 128,
   "id": "ed144bfd",
   "metadata": {},
   "outputs": [],
   "source": [
    "#G_df.to_file('BikeSharing_stations.shp', driver='ESRI Shapefile')"
   ]
  },
  {
   "cell_type": "markdown",
   "id": "2a67cc07",
   "metadata": {
    "tags": []
   },
   "source": [
    "## Creating of final list of dictionaries – nebylo nakonec využito"
   ]
  },
  {
   "cell_type": "code",
   "execution_count": 422,
   "id": "5bc1f919",
   "metadata": {},
   "outputs": [],
   "source": [
    "head_wide_lst = []\n",
    "for i in range(1,14):\n",
    "    for j in header_keys_lst:\n",
    "        head_wide_lst.append(j)"
   ]
  },
  {
   "cell_type": "code",
   "execution_count": 426,
   "id": "c3c3f457",
   "metadata": {
    "tags": []
   },
   "outputs": [
    {
     "data": {
      "text/plain": [
       "157"
      ]
     },
     "execution_count": 426,
     "metadata": {},
     "output_type": "execute_result"
    }
   ],
   "source": [
    "len(head_wide_lst)"
   ]
  },
  {
   "cell_type": "code",
   "execution_count": 425,
   "id": "a140dc9a",
   "metadata": {
    "tags": []
   },
   "outputs": [],
   "source": [
    "head_wide_lst.append(\"id\")"
   ]
  },
  {
   "cell_type": "code",
   "execution_count": 6,
   "id": "f8b959f4",
   "metadata": {},
   "outputs": [],
   "source": [
    "# fin_dict = dict(zip(cities, no_head_lst))"
   ]
  },
  {
   "cell_type": "code",
   "execution_count": 15,
   "id": "c78b16ed",
   "metadata": {},
   "outputs": [
    {
     "data": {
      "text/plain": [
       "805"
      ]
     },
     "execution_count": 15,
     "metadata": {},
     "output_type": "execute_result"
    }
   ],
   "source": [
    "len(body_values_lst)"
   ]
  },
  {
   "cell_type": "code",
   "execution_count": 363,
   "id": "68ce9af4",
   "metadata": {},
   "outputs": [],
   "source": [
    "fin_lst = []\n",
    "#fin_dict = {}\n",
    "r = range(0,len(simple_lst))\n",
    "\n",
    "for i in r:\n",
    "    try:\n",
    "        fin_dict = dict(zip(header_keys_lst, simple_lst[i]))\n",
    "    except:\n",
    "        pass\n",
    "    fin_lst.append(fin_dict)"
   ]
  },
  {
   "cell_type": "code",
   "execution_count": 8,
   "id": "b0c6b271",
   "metadata": {
    "collapsed": true,
    "jupyter": {
     "outputs_hidden": true
    },
    "tags": []
   },
   "outputs": [],
   "source": [
    "# fin_lst"
   ]
  },
  {
   "cell_type": "code",
   "execution_count": 7,
   "id": "38c08f14",
   "metadata": {
    "collapsed": true,
    "jupyter": {
     "outputs_hidden": true
    },
    "tags": []
   },
   "outputs": [],
   "source": [
    "# body_values_lst_2D"
   ]
  },
  {
   "cell_type": "code",
   "execution_count": 71,
   "id": "98982fff",
   "metadata": {
    "tags": []
   },
   "outputs": [],
   "source": [
    "#creating 2D list of body\n",
    "n = 12\n",
    "body_values_lst_2D = [body_values_lst[i:i+n] for i in range(0, len(body_values_lst), n)]"
   ]
  },
  {
   "cell_type": "code",
   "execution_count": 9,
   "id": "0d067ec6",
   "metadata": {
    "collapsed": true,
    "jupyter": {
     "outputs_hidden": true
    },
    "tags": []
   },
   "outputs": [],
   "source": [
    "# body_values_lst_2D"
   ]
  },
  {
   "cell_type": "code",
   "execution_count": 117,
   "id": "72cdaaa5",
   "metadata": {},
   "outputs": [
    {
     "name": "stdout",
     "output_type": "stream",
     "text": [
      "<class 'list'>\n"
     ]
    }
   ],
   "source": [
    "print(type(body_values_lst))"
   ]
  },
  {
   "cell_type": "code",
   "execution_count": 138,
   "id": "d45e0412",
   "metadata": {},
   "outputs": [],
   "source": [
    "num = [i for i in range(0,1000)]"
   ]
  },
  {
   "cell_type": "code",
   "execution_count": 387,
   "id": "a0393087",
   "metadata": {
    "tags": []
   },
   "outputs": [],
   "source": [
    "fin_lst = []\n",
    "fin_dict = {}\n",
    "r = range(0,len(no_head_lst))\n",
    "\n",
    "\n",
    "for city in cities:\n",
    "    for records in no_head_lst:\n",
    "        if city not in fin_dict:\n",
    "            try:\n",
    "                fin_dict[city] = records\n",
    "            except:\n",
    "                pass\n",
    "            fin_lst.append(fin_dict)\n",
    "            "
   ]
  },
  {
   "cell_type": "code",
   "execution_count": 442,
   "id": "31cceab4",
   "metadata": {},
   "outputs": [],
   "source": [
    "idx = fin_dict.keys()\n",
    "df = pd.concat([pd.Series(fin_dict[i]) for i in idx], axis=1).T\n",
    "df.index=idx   "
   ]
  },
  {
   "cell_type": "code",
   "execution_count": 10,
   "id": "40b22878",
   "metadata": {
    "collapsed": true,
    "jupyter": {
     "outputs_hidden": true
    },
    "tags": []
   },
   "outputs": [],
   "source": [
    "# df"
   ]
  },
  {
   "cell_type": "code",
   "execution_count": 11,
   "id": "4ec653c4",
   "metadata": {
    "collapsed": true,
    "jupyter": {
     "outputs_hidden": true
    },
    "tags": []
   },
   "outputs": [],
   "source": [
    "# pd.DataFrame({ key: pd.Series(val) for key, val in fin_dict.items() })"
   ]
  },
  {
   "cell_type": "code",
   "execution_count": 444,
   "id": "dc93c6ee",
   "metadata": {},
   "outputs": [],
   "source": [
    "fin_df = pd.concat({k: pd.Series(v) for k, v in fin_dict.items()})"
   ]
  },
  {
   "cell_type": "code",
   "execution_count": 447,
   "id": "de5c9217",
   "metadata": {},
   "outputs": [],
   "source": [
    "#fin_df.to_excel(\"BikeSharing_stations_concat.xlsx\")"
   ]
  },
  {
   "cell_type": "code",
   "execution_count": 12,
   "id": "45e51521",
   "metadata": {
    "tags": []
   },
   "outputs": [],
   "source": [
    "# pd.DataFrame(fin_lst[0:2])"
   ]
  },
  {
   "cell_type": "code",
   "execution_count": 98,
   "id": "747d8e86",
   "metadata": {},
   "outputs": [],
   "source": [
    "fin_lst = []\n",
    "dic = {}\n",
    "for index, item in enumerate(header_keys_lst):\n",
    "    dic[item] = body_values_lst[index]\n",
    "    fin_lst.append(dic)"
   ]
  },
  {
   "cell_type": "code",
   "execution_count": 13,
   "id": "5490becc",
   "metadata": {
    "collapsed": true,
    "jupyter": {
     "outputs_hidden": true
    },
    "tags": []
   },
   "outputs": [],
   "source": [
    "# fin_lst"
   ]
  },
  {
   "cell_type": "code",
   "execution_count": 14,
   "id": "faea0aba",
   "metadata": {},
   "outputs": [],
   "source": [
    "# bike_dict = dict(zip(head_wide_lst, body_values_lst))"
   ]
  },
  {
   "cell_type": "code",
   "execution_count": 15,
   "id": "06944b8a",
   "metadata": {},
   "outputs": [],
   "source": [
    "# bike_dict"
   ]
  },
  {
   "cell_type": "code",
   "execution_count": 17,
   "id": "5ffc841f",
   "metadata": {
    "collapsed": true,
    "jupyter": {
     "outputs_hidden": true
    },
    "tags": []
   },
   "outputs": [],
   "source": [
    "# pd.DataFrame(lst)"
   ]
  },
  {
   "cell_type": "code",
   "execution_count": 16,
   "id": "fcd97b4a",
   "metadata": {
    "collapsed": true,
    "jupyter": {
     "outputs_hidden": true
    },
    "tags": []
   },
   "outputs": [],
   "source": [
    "# df = pd.DataFrame([sub.split(\",\") for sub in station_info_list])\n",
    "# print(df)"
   ]
  },
  {
   "cell_type": "code",
   "execution_count": 96,
   "id": "53ccb228",
   "metadata": {
    "collapsed": true,
    "jupyter": {
     "outputs_hidden": true
    },
    "tags": []
   },
   "outputs": [
    {
     "name": "stdout",
     "output_type": "stream",
     "text": [
      "['#id,timestamp', 'gmt_local_diff_sec', 'gmt_servertime_diff_sec,name,lat,lon,bikes,spaces,installed,locked,temporary,total_docks,givesbonus_acceptspedelecs_fbbattlevel,pedelecs\\n700,1644707403.404719', '-3600', '0,\"01. Stazione FS\",44.223352,12.055386,14,10,true,false,false,24,false,0\\n701,1644707403.4047995', '-3600', '0,\"02. Vittoria\",44.217607,12.050157,4,5,true,false,false,10,false,0\\n702,1644707403.4048686', '-3600', '0,\"03. Vittorio Veneto\",44.227917,12.042153,8,8,true,false,false,16,false,0\\n703,1644707403.4049416', '-3600', '0,\"04. Piazza Saffi\",44.223322,12.041495,10,18,true,false,false,28,false,0\\n704,1644707403.4050078', '-3600', '0,\"05. San Domenico\",44.222041,12.036168,1,13,true,false,false,14,false,0\\n705,1644707403.4050772', '-3600', '0,\"06. Park dell\\'Argine\",44.218927,12.032757,10,11,true,false,false,21,false,0\\n706,1644707403.4051428', '-3600', '0,\"07. Park Schiavonia\",44.226215,12.028287,2,4,true,false,false,6,false,0\\n1397,1644707403.4052129', '-3600', '0,\"09. Campus Universitario I\",44.219257,12.042756,4,5,true,false,false,9,false,0\\n1398,1644707403.405278', '-3600', '0,\"10. Park Oriani\",44.221137,12.049119,5,3,true,false,false,8,false,0\\n1399,1644707403.4053426', '-3600', '0,\"11. Campus Universitario II\",44.217696,12.044369,4,6,true,false,false,10,false,0\\n1673,1644707403.4054067', '-3600', '0,\"12. XX Settembre\",44.222188,12.042997,3,4,true,false,false,7,false,0\\n1674,1644707403.4054716', '-3600', '0,\"13. BIKE POINT Park Lombardini\",44.217425,12.041227,0,8,true,false,false,8,false,0\\n1675,1644707403.4055355', '-3600', '0,\"14. BIKE POINT Park Manzoni\",44.223120,12.047737,7,1,true,false,false,8,false,0\\n']\n",
      "['#id,timestamp', 'gmt_local_diff_sec', 'gmt_servertime_diff_sec,name,lat,lon,bikes,spaces,installed,locked,temporary,total_docks,givesbonus_acceptspedelecs_fbbattlevel,pedelecs\\n2,1644707883', '10800', '0,\"002 - Retiro I\",-34.5924233,-58.3747151,4,14,true,false,false,20,,0\\n3,1644707883', '10800', '0,\"003 - ADUANA\",-34.611032,-58.3682604,0,20,true,false,false,20,,0\\n4,1644707883', '10800', '0,\"004 - Plaza Roma\",-34.601822,-58.368781,3,16,true,false,false,20,,0\\n5,1644707883', '10800', '0,\"005 - Plaza Italia\",-34.5805497,-58.4209542,13,28,true,false,false,42,,0\\n6,1644707883', '10800', '0,\"006 - Parque Lezama\",-34.628526,-58.369758,20,0,true,false,false,20,,0\\n7,1644707883', '10800', '0,\"007 - OBELISCO\",-34.606498,-58.381098,1,14,true,false,false,16,,0\\n8,1644707883', '10800', '0,\"008 - Congreso\",-34.6094218,-58.3893364,2,19,true,false,false,24,,0\\n9,1644707883', '10800', '0,\"009 - Parque Las Heras\",-34.585443,-58.407741,12,12,true,false,false,24,,0\\n12,1644707883', '10800', '0,\"012 - Plaza Vicente Lopez\",-34.5927096,-58.388807,0,13,true,false,false,16,,0\\n13,1644707883', '10800', '0,\"013 - ONCE\",-34.61009,-58.406,11,19,true,false,false,30,,0\\n14,1644707883', '10800', '0,\"014 - Pacifico\",-34.577424,-58.426387,19,11,true,false,false,30,,0\\n17,1644707883', '10800', '0,\"017 - Plaza Almagro\",-34.6064101,-58.4187306,1,16,true,false,false,20,,0\\n20,1644707883', '10800', '0,\"020 - Distrito Audiovisual\",-34.5798619,-58.4417756,7,12,true,false,false,20,,0\\n21,1644707883', '10800', '0,\"021 - Parque Patricios\",-34.640111,-58.406432,24,0,true,false,false,24,,0\\n22,1644707883', '10800', '0,\"022 - Arenales\",-34.5938629,-58.3825498,0,20,true,false,false,20,,0\\n23,1644707883', '10800', '0,\"023 - Suipacha\",-34.600139,-58.379836,1,11,true,false,false,12,,0\\n24,1644707883', '10800', '0,\"024 - ALSINA\",-34.610583,-58.3808943,0,16,true,false,false,18,,0\\n25,1644707883', '10800', '0,\"025 - Plaza Guemes\",-34.5894269,-58.4161178,10,14,true,false,false,24,,0\\n26,1644707883', '10800', '0,\"026 - JUANA MANSO I\",-34.600752,-58.3638723,0,24,true,false,false,24,,0\\n27,1644707883', '10800', '0,\"027 - Montevideo\",-34.599068,-58.3900887,1,13,true,false,false,16,,0\\n29,1644707883', '10800', '0,\"029 - Parque Centenario\",-34.6079414,-58.4335573,8,22,true,false,false,30,,0\\n30,1644707883', '10800', '0,\"030 - Peña\",-34.5908211,-58.3973698,4,16,true,false,false,20,,0\\n32,1644707883', '10800', '0,\"032 - Catedral\",-34.6072074,-58.3735984,0,16,true,false,false,16,,0\\n33,1644707883', '10800', '0,\"033 - Facultad de Medicina\",-34.5970909,-58.3989807,2,17,true,false,false,20,,0\\n35,1644707883', '10800', '0,\"035 - INGENIERO BUTTY\",-34.5964246,-58.371847,4,15,true,false,false,20,,0\\n36,1644707883', '10800', '0,\"036 - MAIPÚ\",-34.6045481,-58.3767677,1,12,true,false,false,16,,0\\n38,1644707883', '10800', '0,\"038 - Plaza Libertad\",-34.5970497,-58.3828403,0,19,true,false,false,20,,0\\n41,1644707883', '10800', '0,\"041 - Urquiza y Rondeau\",-34.6364511,-58.4076348,19,0,true,false,false,20,,0\\n43,1644707883', '10800', '0,\"334 - CENTRO DE EXPOSICIONES\",-34.584018,-58.389921,2,18,true,false,false,20,,0\\n44,1644707883', '10800', '0,\"044 - Ecoparque\",-34.5755148,-58.4138829,16,3,true,false,false,20,,0\\n45,1644707883', '10800', '0,\"045 - Uruguay\",-34.6018635,-58.3866934,0,20,true,false,false,20,,0\\n46,1644707883', '10800', '0,\"046 - Chile\",-34.6163012,-58.3743749,3,14,true,false,false,18,,0\\n48,1644707883', '10800', '0,\"034 - Colonia Express\",-34.624255,-58.362131,13,2,true,false,false,16,,0\\n49,1644707883', '10800', '0,\"049 - 33 Orientales\",-34.6290527,-58.422611,9,7,true,false,false,16,,0\\n50,1644707883', '10800', '0,\"050 - Hospital Rivadavia\",-34.5837348,-58.4010798,7,13,true,false,false,20,,0\\n51,1644707883', '10800', '0,\"051 - TUCUMAN\",-34.6014776,-58.3821261,1,10,true,false,false,12,,0\\n54,1644707883', '10800', '0,\"054 - Acuña de Figueroa\",-34.5982097,-58.4220694,2,14,true,false,false,17,,0\\n56,1644707883', '10800', '0,\"056 - Plaza Palermo Viejo\",-34.588567,-58.425999,6,10,true,false,false,16,,0\\n58,1644707883', '10800', '0,\"058 - Ministro Carranza\",-34.5752773,-58.4346883,0,20,true,false,false,20,,0\\n59,1644707883', '10800', '0,\"018 - Independencia\",-34.617654,-58.380565,1,18,true,false,false,20,,0\\n60,1644707883', '10800', '0,\"060 - 25 De Mayo\",-34.6016509,-58.371079,0,19,true,false,false,20,,0\\n61,1644707883', '10800', '0,\"098 - AV. ALVAREZ JONTE Y BENITO JUAREZ\",-34.61880867765093,-58.504662916142756,8,8,true,false,false,16,,0\\n63,1644707883', '10800', '0,\"063 - Reconquista\",-34.5986,-58.373062,0,18,true,false,false,20,,0\\n64,1644707883', '10800', '0,\"064 - RIOBAMBA\",-34.5936508,-58.3941087,5,15,true,false,false,20,,0\\n65,1644707883', '10800', '0,\"065 - Julián Álvarez\",-34.5873124,-58.4157873,0,20,true,false,false,21,,0\\n66,1644707883', '10800', '0,\"066 - Billinghurst\",-34.5945475,-58.4138713,3,17,true,false,false,20,,0\\n68,1644707883', '10800', '0,\"105 - PARQUE SAAVEDRA\",-34.552148,-58.480464,8,7,true,false,false,16,,0\\n69,1644707883', '10800', '0,\"069 - Ecuador\",-34.5961006,-58.4046092,4,11,true,false,false,16,,0\\n70,1644707883', '10800', '0,\"070 - ARAOZ\",-34.5926862,-58.4260597,4,15,true,false,false,20,,0\\n71,1644707883', '10800', '0,\"071 - CERRITO\",-34.6026673,-58.3833559,1,24,true,false,false,30,,0\\n73,1644707883', '10800', '0,\"073 - Ruy Díaz de Guzmán\",-34.6306814,-58.3718235,6,10,true,false,false,16,,0\\n74,1644707883', '10800', '0,\"074 - INSTITUTO  LELOIR\",-34.60439,-58.43454,10,20,true,false,false,30,,0\\n75,1644707883', '10800', '0,\"075 - Plaza Primero de Mayo\",-34.6122976,-58.3989871,8,11,true,false,false,20,,0\\n76,1644707883', '10800', '0,\"076 - Ayacucho\",-34.6074084,-58.3950548,6,12,true,false,false,20,,0\\n77,1644707883', '10800', '0,\"109 - ESTACION PUEYRREDON\",-34.581135,-58.501487,7,8,true,false,false,16,,0\\n79,1644707883', '10800', '0,\"079 - AZUCENA VILLAFLOR\",-34.61189,-58.36393,12,17,true,false,false,30,,0\\n80,1644707883', '10800', '0,\"080 - DOBLAS\",-34.624435,-58.4303766,7,8,true,false,false,16,,0\\n82,1644707883', '10800', '0,\"082 - HOSPITAL ITALIANO\",-34.6078917,-58.4263947,1,18,true,false,false,20,,0\\n83,1644707883', '10800', '0,\"083 - Paraná\",-34.603269,-58.3893728,0,17,true,false,false,20,,0\\n84,1644707883', '10800', '0,\"084 - Lavalle\",-34.6023203,-58.3955144,1,19,true,false,false,20,,0\\n85,1644707883', '10800', '0,\"085 - AGUERO\",-34.5948057,-58.4091784,0,19,true,false,false,20,,0\\n86,1644707883', '10800', '0,\"086 - SAAVEDRA\",-34.6212681,-58.4016808,2,18,true,false,false,20,,0\\n87,1644707883', '10800', '0,\"087 - Guayaquil\",-34.619845,-58.4314942,14,1,true,false,false,16,,0\\n89,1644707883', '10800', '0,\"089 - Cabello\",-34.5825475,-58.4056671,1,19,true,false,false,20,,0\\n91,1644707883', '10800', '0,\"091 - Pasco\",-34.6174482,-58.397602,4,16,true,false,false,20,,0\\n92,1644707883', '10800', '0,\"092 - Salcedo\",-34.6316444,-58.4053386,18,2,true,false,false,20,,0\\n93,1644707883', '10800', '0,\"093 - CARLOS CALVO\",-34.620798,-58.3944635,2,17,true,false,false,20,,0\\n94,1644707883', '10800', '0,\"094 - GÚZMAN\",-34.591511,-58.449652,28,2,true,false,false,30,,0\\n95,1644707883', '10800', '0,\"095 - ESMERALDA\",-34.6021121,-58.3781678,0,14,true,false,false,16,,0\\n96,1644707883', '10800', '0,\"096 - Carlos Gardel\",-34.6027814,-58.4116586,1,18,true,false,false,20,,0\\n98,1644707883', '10800', '0,\"037- Claudia Pía Baudracco\",-34.6081643,-58.3779002,0,14,true,false,false,16,,0\\n99,1644707883', '10800', '0,\"099 - Malabia\",-34.5960961,-58.435408,12,7,true,false,false,20,,0\\n101,1644707883', '10800', '0,\"101 - Fitz Roy\",-34.5891857,-58.4424397,6,13,true,false,false,20,,0\\n104,1644707883', '10800', '0,\"104 - Federico Lacroze\",-34.587617,-58.455212,16,14,true,false,false,30,,0\\n107,1644707883', '10800', '0,\"107 - HOSPITAL GARRAHAN\",-34.630374,-58.395852,3,12,true,false,false,16,,0\\n111,1644707883', '10800', '0,\"111 - MACACHA GUEMES\",-34.6054877,-58.3646858,0,29,true,false,false,30,,0\\n112,1644707883', '10800', '0,\"112 - 9 de Julio\",-34.612075,-58.380384,0,19,true,false,false,20,,0\\n114,1644707883', '10800', '0,\"114 - DELLA PAOLERA\",-34.5949745,-58.3722554,4,16,true,false,false,20,,0\\n116,1644707883', '10800', '0,\"116 - HOSPITAL ALEMÁN\",-34.5921708,-58.4025894,1,10,true,false,false,12,,0\\n117,1644707883', '10800', '0,\"117 - HUMBERTO 1°\",-34.6201008,-58.3741759,2,13,true,false,false,16,,0\\n118,1644707883', '10800', '0,\"118 - MEXICO\",-34.6170196,-58.4026531,5,15,true,false,false,20,,0\\n120,1644707883', '10800', '0,\"120 - HOSPITAL RAMOS MEJIA\",-34.617509,-58.4092876,2,18,true,false,false,20,,0\\n121,1644707883', '10800', '0,\"121 - YATAY\",-34.6011732,-58.4285093,4,16,true,false,false,20,,0\\n124,1644707883', '10800', '0,\"124 - UGARTECHE\",-34.580538,-58.411965,1,16,true,false,false,20,,0\\n126,1644707883', '10800', '0,\"126 - Ministerio de Justicia y Seguridad\",-34.6402672,-58.3692243,13,0,true,false,false,16,,0\\n128,1644707883', '10800', '0,\"128 - PARQUE DEL BAJO\",-34.6041138,-58.3689118,0,19,true,false,false,20,,0\\n130,1644707883', '10800', '0,\"130 - RETIRO II\",-34.5921056,-58.3745419,9,24,true,false,false,40,,0\\n131,1644707883', '10800', '0,\"131- HOSPITAL DE CLÍNICAS\",-34.5984043,-58.3990158,0,16,true,false,false,16,,0\\n132,1644707883', '10800', '0,\"132 - CORRIENTES\",-34.6033685,-58.372763,1,11,true,false,false,12,,0\\n134,1644707883', '10800', '0,\"134 - SOLDADO DE LA FRONTERA\",-34.68294,-58.4659,1,11,true,false,false,12,,0\\n135,1644707883', '10800', '0,\"135 - MARCELO T. DE ALVEAR\",-34.5972818,-58.3787856,4,15,true,false,false,20,,0\\n137,1644707883', '10800', '0,\"137 - AZOPARDO Y CHILE\",-34.6155977,-58.3674923,1,19,true,false,false,20,,0\\n138,1644707883', '10800', '0,\"138 - Hospital Britanico\",-34.6353595,-58.3876724,2,10,true,false,false,12,,0\\n144,1644707883', '10800', '0,\"144 - PUEYRREDÓN\",-34.6018744,-58.4060944,0,20,true,false,false,20,,0\\n146,1644707883', '10800', '0,\"146 - Hospital Francés\",-34.6221118,-58.4078419,2,17,true,false,false,20,,0\\n149,1644707883', '10800', '0,\"149 - LIMA\",-34.6153266,-58.3813642,0,16,true,false,false,16,,0\\n150,1644707883', '10800', '0,\"150 - RODRIGO BUENO\",-34.6187547,-58.3554654,15,15,true,false,false,30,,0\\n151,1644707883', '10800', '0,\"151 - AIME PAINÉ\",-34.6118145,-58.361285,0,24,true,false,false,24,,0\\n152,1644707883', '10800', '0,\"152 - JULIETA LANTERI\",-34.6181645,-58.3596311,8,9,true,false,false,20,,0\\n153,1644707883', '10800', '0,\"153 - JUAN MANUEL DE BLANES\",-34.6307765,-58.3620701,11,5,true,false,false,16,,0\\n155,1644707883', '10800', '0,\"155 - Parque José Evaristo Uriburu\",-34.64117,-58.412408,20,0,true,false,false,20,,0\\n156,1644707883', '10800', '0,\"156 - Plaza Alemania\",-34.5775895,-58.4074696,7,9,true,false,false,20,,0\\n158,1644707883', '10800', '0,\"158 - VILLARROEL\",-34.592735,-58.4450697,15,5,true,false,false,20,,0\\n161,1644707883', '10800', '0,\"161 - Humahuaca\",-34.6020779,-58.4196761,4,16,true,false,false,20,,0\\n162,1644707883', '10800', '0,\"162 - LARREA Y BARTOLOMÉ MITRE\",-34.608985,-58.401924,8,10,true,false,false,20,,0\\n163,1644707883', '10800', '0,\"163 - ONCE II\",-34.6095663,-58.4064308,10,20,true,false,false,30,,0\\n164,1644707883', '10800', '0,\"164 - FACULTAD DE INGENIERIA\",-34.6181442,-58.3669021,5,15,true,false,false,20,,0\\n165,1644707883', '10800', '0,\"165 - PLAZA MONSEÑOR MIGUEL DE ANDREA\",-34.597048,-58.407614,0,11,true,false,false,12,,0\\n166,1644707883', '10800', '0,\"166 - Cementerio de Recoleta\",-34.588346663239754,-58.394147942865644,1,9,true,false,false,12,,0\\n167,1644707883', '10800', '0,\"275 - PLAZA 24 DE SEPTIEMBRE\",-34.606984,-58.44854,8,8,true,false,false,16,,0\\n168,1644707883', '10800', '0,\"168 - Estados Unidos\",-34.6186217,-58.3812271,3,12,true,false,false,16,,0\\n169,1644707883', '10800', '0,\"169 - FACULTAD DE PSICOLOGIA\",-34.6123459,-58.411856,1,11,true,false,false,12,,0\\n171,1644707883', '10800', '0,\"171 - Pasteur\",-34.6032813,-58.3997553,2,17,true,false,false,20,,0\\n172,1644707883', '10800', '0,\"172 - BRASIL\",-34.625426,-58.371082,3,12,true,false,false,16,,0\\n174,1644707883', '10800', '0,\"174 - MINISTERIO DE EDUCACION\",-34.597225,-58.391768,0,20,true,false,false,20,,0\\n175,1644707883', '10800', '0,\"147 - Constitución\",-34.626851,-58.380707,21,9,true,false,false,36,,0\\n176,1644707883', '10800', '0,\"067 - PARQUE SARMIENTO I\",-34.555254,-58.494845,8,8,true,false,false,16,,0\\n179,1644707883', '10800', '0,\"179 - CASA SAN\",-34.6384786,-58.3642885,16,0,true,false,false,16,,0\\n181,1644707883', '10800', '0,\"181 - BILLINGHURST Y MANSILLA\",-34.5926649,-58.4120072,2,18,true,false,false,20,,0\\n182,1644707883', '10800', '0,\"182 - RAVIGNANI Y GUATEMALA\",-34.5780479,-58.4352466,7,12,true,false,false,20,,0\\n183,1644707883', '10800', '0,\"183 - VIRREY CEVALLOS\",-34.6156994,-58.3899728,0,19,true,false,false,20,,0\\n184,1644707883', '10800', '0,\"184 - Pedro Echague\",-34.6306129,-58.3913419,5,14,true,false,false,20,,0\\n186,1644707883', '10800', '0,\"186 - MANZANA 66\",-34.6136356,-58.4064415,1,19,true,false,false,20,,0\\n187,1644707883', '10800', '0,\"261 - QUINTEROS LIDORO\",-34.552571,-58.450897,15,1,true,false,false,16,,0\\n188,1644707883', '10800', '0,\"373 - Jorgelina De Simone\",-34.623923,-58.3904814,2,13,true,false,false,16,,0\\n189,1644707883', '10800', '0,\"189 - POSADAS\",-34.5886889,-58.3852113,4,11,true,false,false,20,,0\\n190,1644707883', '10800', '0,\"190 - JUNCAL\",-34.5850763,-58.4111136,7,12,true,false,false,20,,0\\n191,1644707883', '10800', '0,\"191 - Rivadavia y 9 de Julio\",-34.6079305,-58.3808358,1,15,true,false,false,16,,0\\n193,1644707883', '10800', '0,\"193 - ARENALES Y AGUERO\",-34.5908626,-58.4061652,3,17,true,false,false,20,,0\\n194,1644707883', '10800', '0,\"194 - PERÓN Y ACUÑA DE FIGUEROA\",-34.6060758,-58.4224635,1,14,true,false,false,16,,0\\n196,1644707883', '10800', '0,\"196 - HOSPITAL ARGERICH\",-34.6275351,-58.3657211,14,2,true,false,false,20,,0\\n197,1644707883', '10800', '0,\"197 - PLAZA CIUDAD DE UDINE\",-34.620998,-58.493044,15,3,true,false,false,20,,0\\n199,1644707883', '10800', '0,\"199 - ESTADOS UNIDOS Y BOEDO\",-34.6222601,-58.4160137,15,3,true,false,false,20,,0\\n200,1644707883', '10800', '0,\"200 - AUSTRIA Y FRENCH\",-34.5890696,-58.40536170000001,0,15,true,false,false,16,,0\\n202,1644707883', '10800', '0,\"001 - FACULTAD DE DERECHO\",-34.583749,-58.390602,15,14,true,false,false,30,,0\\n203,1644707883', '10800', '0,\"108 - Usina del Arte\",-34.628757,-58.356259,18,3,true,false,false,24,,0\\n204,1644707883', '10800', '0,\"167 - Hipólito Yrigoyen\",-34.614948,-58.427818,20,4,true,false,false,24,,0\\n205,1644707883', '10800', '0,\"125 - F.J.Santamaria de Oro\",-34.583323,-58.428016,6,9,true,false,false,16,,0\\n206,1644707883', '10800', '0,\"159 - Fitz Roy & Gorriti\",-34.58495,-58.437339,8,7,true,false,false,16,,0\\n207,1644707883', '10800', '0,\"123 - BASUALDO Y RODO\",-34.649323859081555,-58.4926339870569,9,6,true,false,false,16,,0\\n210,1644707883', '10800', '0,\"335 - General Urquiza\",-34.572165,-58.411278,14,5,true,false,false,20,,0\\n212,1644707883', '10800', '0,\"129 - Velasco\",-34.600275,-58.434875,0,19,true,false,false,21,,0\\n213,1644707883', '10800', '0,\"136 - Acevedo\",-34.599659,-58.442685,15,4,true,false,false,20,,0\\n214,1644707883', '10800', '0,\"142 - Armenia y Gorriti\",-34.590541,-58.428974,12,4,true,false,false,16,,0\\n215,1644707883', '10800', '0,\"113 - Guatemala\",-34.585878,-58.424996,1,18,true,false,false,20,,0\\n216,1644707883', '10800', '0,\"059 - Coronel Diaz\",-34.589968,-58.411493,0,20,true,false,false,20,,0\\n219,1644707883', '10800', '0,\"140 - Las Casas\",-34.6360274,-58.4156332,11,5,true,false,false,16,,0\\n220,1644707883', '10800', '0,\"097 - Avelino Diaz\",-34.635128,-58.427573,10,5,true,false,false,16,,0\\n222,1644707883', '10800', '0,\"160 - Godoy Cruz y Libertador\",-34.572583,-58.420628,16,0,true,false,false,20,,0\\n223,1644707883', '10800', '0,\"178 - José Marmol\",-34.6234,-58.424853,11,3,true,false,false,16,,0\\n227,1644707883', '10800', '0,\"188 - Aranguren\",-34.610456,-58.432786,14,5,true,false,false,20,,0\\n229,1644707883', '10800', '0,\"243 - PLAZOLETA CELEDONIO FLORES\",-34.581576,-58.45153,6,6,true,false,false,12,,0\\n230,1644707883', '10800', '0,\"259 - PLAZA CASTELLI\",-34.5678255,-58.4645037,9,5,true,false,false,16,,0\\n231,1644707883', '10800', '0,\"384 - PLAZA BENITO NAZAR\",-34.605109,-58.445897,9,6,true,false,false,16,,0\\n232,1644707883', '10800', '0,\"252 - Tamborini\",-34.5599779,-58.4790578,3,17,true,false,false,20,,0\\n235,1644707883', '10800', '0,\"281 - Villa Urquiza\",-34.573795,-58.487074,1,22,true,false,false,24,,0\\n236,1644707883', '10800', '0,\"254 - Plaza Rafael Hernandez\",-34.562161,-58.455166,8,8,true,false,false,16,,0\\n237,1644707883', '10800', '0,\"302 - ESTACION VILLA LURO\",-34.63670935917866,-58.50135525810292,3,12,true,false,false,16,,0\\n239,1644707883', '10800', '0,\"391 - Plaza República de Ecuador\",-34.565091,-58.420702,12,8,true,false,false,20,,0\\n241,1644707883', '10800', '0,\"348 - Villa del Parque\",-34.600874,-58.494123,5,3,true,false,false,12,,0\\n242,1644707883', '10800', '0,\"103 - MALBA\",-34.57716,-58.403214,3,17,true,false,false,20,,0\\n245,1644707883', '10800', '0,\"248 - Husares\",-34.552594,-58.4429397,15,1,true,false,false,16,,0\\n247,1644707883', '10800', '0,\"282 - Tronador\",-34.5838957,-58.466494,4,14,true,false,false,18,,0\\n248,1644707883', '10800', '0,\"346 - Plaza Zapiola\",-34.573522,-58.474635,13,7,true,false,false,20,,0\\n249,1644707883', '10800', '0,\"307 - LEONARDO PEREYRA\",-34.649506877132595,-58.38912434455312,14,0,true,false,false,16,,0\\n251,1644707883', '10800', '0,\"388 - Plaza Jose C Paz\",-34.64485797668555,-58.4097486603218,10,2,true,false,false,12,,0\\n252,1644707883', '10800', '0,\"331 - CALIFORNIA\",-34.647121,-58.374336,16,0,true,false,false,16,,0\\n254,1644707883', '10800', '0,\"276 - PRIMERA JUNTA\",-34.620717,-58.441607,6,10,true,false,false,16,,0\\n255,1644707883', '10800', '0,\"374 - Puan\",-34.622092,-58.448547,12,4,true,false,false,16,,0\\n257,1644707883', '10800', '0,\"264 - Plaza Marcos Sastre\",-34.570825,-58.481236,12,11,true,false,false,24,,0\\n258,1644707883', '10800', '0,\"336 - La Pampa\",-34.565521,-58.455334,3,13,true,false,false,16,,0\\n261,1644707883', '10800', '0,\"272 - Plaza Bruno Giordano\",-34.616151,-58.440584,13,1,true,false,false,16,,0\\n262,1644707883', '10800', '0,\"349 - Plaza Saenz Peña\",-34.60976,-58.467477,16,0,true,false,false,16,,0\\n263,1644707883', '10800', '0,\"270 - PLAZA DEL ANGEL GRIS\",-34.622003,-58.457555,5,7,true,false,false,12,,0\\n265,1644707883', '10800', '0,\"361 - Plaza Don Segundo Sombra\",-34.64196,-58.4505,8,8,true,false,false,16,,0\\n267,1644707883', '10800', '0,\"315 - BEIRO Y SAN MARTÍN\",-34.5976121,-58.4985424,13,3,true,false,false,16,,0\\n268,1644707883', '10800', '0,\"399 - GARCIA DEL RIO\",-34.550015,-58.476521,23,2,true,false,false,28,,0\\n269,1644707883', '10800', '0,\"260 - SAN MIGUEL DE GARICOITS\",-34.577329,-58.457799,15,3,true,false,false,18,,0\\n270,1644707883', '10800', '0,\"370 - Beauchef\",-34.640114,-58.43026,18,2,true,false,false,20,,0\\n271,1644707883', '10800', '0,\"365 - Venancio Flores\",-34.630108,-58.473844,11,7,true,false,false,20,,0\\n273,1644707883', '10800', '0,\"223 - GAINZA\",-34.616758,-58.446751,7,8,true,false,false,16,,0\\n275,1644707883', '10800', '0,\"256 - PLAZA NORUEGA\",-34.562396,-58.459148,0,20,true,false,false,20,,0\\n277,1644707883', '10800', '0,\"292 - PLAZA BOLIVIA\",-34.563539,-58.436115,4,4,true,false,false,12,,0\\n278,1644707883', '10800', '0,\"233 - MONROE\",-34.564122,-58.469813,11,2,true,false,false,16,,0\\n280,1644707883', '10800', '0,\"222 - SIMON BOLIVAR\",-34.633528,-58.449379,18,5,true,false,false,24,,0\\n281,1644707883', '10800', '0,\"350 - Plaza Irlanda\",-34.613778,-58.458315,21,1,true,false,false,24,,0\\n284,1644707883', '10800', '0,\"229 - RIGLOS\",-34.631018,-58.435056,19,1,true,false,false,20,,0\\n289,1644707883', '10800', '0,\"255 - BARRANCAS DE BELGRANO\",-34.559801,-58.448314,21,2,true,false,false,24,,0\\n291,1644707883', '10800', '0,\"244 - UADE\",-34.617247,-58.381627,0,14,true,false,false,16,,0\\n294,1644707883', '10800', '0,\"363 - Udaondo\",-34.5458835,-58.4520062,19,1,true,false,false,20,,0\\n299,1644707883', '10800', '0,\"221 - CULPINA\",-34.631705,-58.466143,9,10,true,false,false,20,,0\\n301,1644707883', '10800', '0,\"309 - UTN II\",-34.66036165776025,-58.4676386893849,13,7,true,false,false,20,,0\\n302,1644707883', '10800', '0,\"340 - PLAZA NUEVA POMPEYA\",-34.6518464,-58.415771,10,6,true,false,false,16,,0\\n304,1644707883', '10800', '0,\"395 - Agronomia II\",-34.58938,-58.4847,11,5,true,false,false,16,,0\\n307,1644707883', '10800', '0,\"341 - COMUNA 4\",-34.65050475967216,-58.424671969909355,10,2,true,false,false,12,,0\\n308,1644707883', '10800', '0,\"251 - Solar de la Abadía\",-34.567633,-58.436752,18,1,true,false,false,20,,0\\n309,1644707883', '10800', '0,\"298 - PLAZA DR. JUAN B. TERAN\",-34.62141207128675,-58.51978098730658,12,2,true,false,false,16,,0\\n310,1644707883', '10800', '0,\"356 - ESTACIÓN LUGANO\",-34.67735630418917,-58.47665863333657,3,9,true,false,false,14,,0\\n311,1644707883', '10800', '0,\"213 - Hospital Alvear\",-34.5972098,-58.47421143,10,10,true,false,false,20,,0\\n316,1644707883', '10800', '0,\"205 - SAN MARTIN\",-34.605567,-58.453475,11,5,true,false,false,16,,0\\n318,1644707883', '10800', '0,\"285 - ESPINOSA\",-34.603936,-58.457317,15,4,true,false,false,20,,0\\n322,1644707883', '10800', '0,\"289 - MONTAÑESES\",-34.551304,-58.454181,19,1,true,false,false,20,,0\\n323,1644707883', '10800', '0,\"240 - ECHEVERRIA\",-34.565409,-58.459298,5,19,true,false,false,24,,0\\n324,1644707883', '10800', '0,\"280 - JURAMENTO\",-34.578933,-58.4840556,8,7,true,false,false,16,,0\\n327,1644707883', '10800', '0,\"366 - VILLA OLÍMPICA\",-34.677130515662185,-58.454286054001386,7,8,true,false,false,16,,0\\n329,1644707883', '10800', '0,\"100 - Plaza Gurruchaga\",-34.593141,-58.435187,14,6,true,false,false,20,,0\\n333,1644707883', '10800', '0,\"203 - Beiro\",-34.6008,-58.50335,14,5,true,false,false,20,,0\\n335,1644707883', '10800', '0,\"206 - Galicia\",-34.615945,-58.47098,10,10,true,false,false,20,,0\\n336,1644707883', '10800', '0,\"207 - PLAZA ARENALES\",-34.5999173,-58.5114159,17,9,true,false,false,28,,0\\n340,1644707883', '10800', '0,\"359 - PLAZA BALCARCE\",-34.54754,-58.467844,16,4,true,false,false,20,,0\\n342,1644707883', '10800', '0,\"218 - Campana\",-34.616813,-58.484297,20,0,true,false,false,20,,0\\n348,1644707883', '10800', '0,\"231 - Margariños Cervantes\",-34.610482,-58.474369,11,1,true,false,false,12,,0\\n353,1644707883', '10800', '0,\"237 - Madero Office\",-34.599036,-58.364695,5,15,true,false,false,20,,0\\n355,1644707883', '10800', '0,\"242 - Plazoleta Rafael del Riego\",-34.567483,-58.446381,3,12,true,false,false,16,,0\\n358,1644707883', '10800', '0,\"249 - Balbín\",-34.561486,-58.465586,4,8,true,false,false,12,,0\\n359,1644707883', '10800', '0,\"250 - Fleni\",-34.555602,-58.450479,15,4,true,false,false,20,,0\\n361,1644707883', '10800', '0,\"258 - Plaza J.J. Paso\",-34.569187,-58.453608,13,7,true,false,false,20,,0\\n363,1644707883', '10800', '0,\"354 - José Martí\",-34.6439,-58.463114,9,3,true,false,false,16,,0\\n364,1644707883', '10800', '0,\"381 - Matienzo Y Arce\",-34.568693,-58.43447,21,2,true,false,false,24,,0\\n366,1644707883', '10800', '0,\"360 - Plaza Ramon Falcon\",-34.63562929312515,-58.482770573412935,5,7,true,false,false,12,,0\\n367,1644707883', '10800', '0,\"287 - Belaustegui\",-34.61621214148026,-58.47720947344651,12,4,true,false,false,16,,0\\n368,1644707883', '10800', '0,\"378 - AGRONOMIA\",-34.59807,-58.482079,6,6,true,false,false,12,,0\\n369,1644707883', '10800', '0,\"304 - Navarro\",-34.592244,-58.491797,7,9,true,false,false,16,,0\\n370,1644707883', '10800', '0,\"305 - Plaza Martin Rodriguez\",-34.590964,-58.500336,14,6,true,false,false,20,,0\\n372,1644707883', '10800', '0,\"322 - MARTÍ Y DIRECTORIO\",-34.636406,-58.470136,10,2,true,false,false,12,,0\\n373,1644707883', '10800', '0,\"265 - Plaza Exodo Jujeño\",-34.582336918286785,-58.48108314683206,11,5,true,false,false,16,,0\\n374,1644707883', '10800', '0,\"367 - Eva Perón\",-34.646911365478765,-58.4699753897715,15,0,true,false,false,16,,0\\n375,1644707883', '10800', '0,\"301 - Arregui Y Terrada\",-34.604597356692906,-58.48481211614322,11,5,true,false,false,16,,0\\n376,1644707883', '10800', '0,\"324 - Las Victorias\",-34.626778,-58.487078,6,13,true,false,false,20,,0\\n378,1644707883', '10800', '0,\"215 - HOSPITAL ALVAREZ\",-34.623123,-58.468287,15,5,true,false,false,20,,0\\n382,1644707883', '10800', '0,\"204 - Biarritz\",-34.60547,-58.47739,10,6,true,false,false,16,,0\\n384,1644707883', '10800', '0,\"267 - Plaza 25 De Agosto\",-34.57951881156862,-58.46183473148808,4,14,true,false,false,18,,0\\n385,1644707883', '10800', '0,\"268 - Plaza Aristóbulo Del Valle\",-34.606159914753725,-58.493141345207654,3,13,true,false,false,16,,0\\n386,1644707883', '10800', '0,\"277 - Coghlan\",-34.5654,-58.4759,0,7,true,false,false,8,,0\\n387,1644707883', '10800', '0,\"278 - Donato Alvarez\",-34.602028,-58.465568,10,3,true,false,false,16,,0\\n392,1644707883', '10800', '0,\"297 - TRONADOR Y GARCÍA DEL RÍO\",-34.554581,-58.485381,11,5,true,false,false,16,,0\\n400,1644707883', '10800', '0,\"313 - De Los Incas\",-34.579751,-58.471003,8,8,true,false,false,16,,0\\n403,1644707883', '10800', '0,\"316 - Buenos Aires\",-34.645532066615736,-58.39667441428978,12,8,true,false,false,20,,0\\n407,1644707883', '10800', '0,\"330 - Parque Avellaneda\",-34.641288,-58.479945,25,1,true,false,false,28,,0\\n408,1644707883', '10800', '0,\"364 - CERRETTI Y MANUELA PEDRAZA\",-34.56912,-58.50025,4,11,true,false,false,16,,0\\n412,1644707883', '10800', '0,\"372 - VILLA SOLDATI\",-34.66145153498837,-58.44014625846915,7,0,true,false,false,8,,0\\n413,1644707883', '10800', '0,\"382 - MERCADO DE HACIENDA MATADEROS\",-34.6602831,-58.5031426,7,9,true,false,false,16,,0\\n416,1644707883', '10800', '0,\"257 - Plaza Francisco Ramirez\",-34.553262,-58.469133,20,6,true,false,false,28,,0\\n417,1644707883', '10800', '0,\"127 - PLAZA LEONARDO N. ALEM\",-34.57634,-58.50248,11,9,true,false,false,20,,0\\n422,1644707883', '10800', '0,\"379 - PARQUE SARMIENTO II\",-34.56454,-58.50289,4,12,true,false,false,16,,0\\n423,1644707883', '10800', '0,\"043 - PLAZA ALBERDI\",-34.559255,-58.487772,5,6,true,false,false,12,,0\\n424,1644707883', '10800', '0,\"387 - Luna\",-34.638584,-58.39965,16,0,true,false,false,16,,0\\n425,1644707883', '10800', '0,\"394 - Av. La Plata\",-34.6440763,-58.422091,12,4,true,false,false,16,,0\\n426,1644707883', '10800', '0,\"396 - PLAZA ALBERTI\",-34.555081,-58.458538,15,2,true,false,false,20,,0\\n427,1644707883', '10800', '0,\"397 - PARQUE SANTOJANNI\",-34.64706360234081,-58.5148283486816,2,12,true,false,false,16,,0\\n428,1644707883', '10800', '0,\"225 - HOSPITAL TORNU\",-34.587458,-58.4739506,8,12,true,false,false,20,,0\\n429,1644707883', '10800', '0,\"201 - PLAZA EJERCITO DE LOS ANDES\",-34.63897407331851,-58.51010241799404,4,12,true,false,false,16,,0\\n432,1644707883', '10800', '0,\"187 - Jose Maria Moreno\",-34.619879,-58.435801,7,13,true,false,false,20,,0\\n433,1644707883', '10800', '0,\"273 - Plazoleta Colombia\",-34.637697,-58.373726,19,1,true,false,false,20,,0\\n434,1644707883', '10800', '0,\"247 - PLAZA LUCIO DEMARE\",-34.54569,-58.46514,11,5,true,false,false,16,,0\\n435,1644707883', '10800', '0,\"227 -Club Ciudad de Buenos Aires\",-34.544503,-58.459499,14,2,true,false,false,16,,0\\n441,1644707883', '10800', '0,\"016 - Legislatura\",-34.609801,-58.3748,0,20,true,false,false,20,,0\\n444,1644707883', '10800', '0,\"061-Ministerio de Economia\",-34.608936,-58.370716,1,22,true,false,false,24,,0\\n448,1644707883', '10800', '0,\"393 - Barrio 31\",-34.582422,-58.378862,15,3,true,false,false,24,,0\\n449,1644707883', '10800', '0,\"352 - San Jose de Flores\",-34.629083,-58.463251,15,8,true,false,false,24,,0\\n453,1644707883', '10800', '0,\"028 - Plaza de la Bandera\",-34.62945,-58.49439,9,5,true,false,false,16,,0\\n454,1644707883', '10800', '0,\"176 - Plaza Derechos del hombre\",-34.63403,-58.50694,5,7,true,false,false,12,,0\\n455,1644707883', '10800', '0,\"039 - Plaza Don Bosco\",-34.62652,-58.50805,8,6,true,false,false,16,,0\\n456,1644707883', '10800', '0,\"052 - PLAZA JUAN S. SALABERRY\",-34.65551,-58.50703,5,11,true,false,false,16,,0\\n457,1644707883', '10800', '0,\"110 - PLAZA CD DE BANFF\",-34.62805,-58.52174,15,0,true,false,false,16,,0\\n458,1644707883', '10800', '0,\"219 - Parque Chacabuco II\",-34.636275,-58.444041,18,1,true,false,false,20,,0\\n459,1644707883', '10800', '0,\"327 - PLAZA RICCHERI\",-34.61072,-58.51914,14,0,true,false,false,16,,0\\n460,1644707883', '10800', '0,\"133 - BEIRO Y SEGUROLA\",-34.6075,-58.51193,7,9,true,false,false,16,,0\\n461,1644707883', '10800', '0,\"106 - MOSCONI Y CONSTITUYENTES\",-34.58088,-58.49363,10,5,true,false,false,16,,0\\n']\n",
      "['#id,timestamp', 'gmt_local_diff_sec', 'gmt_servertime_diff_sec,name,lat,lon,bikes,spaces,installed,locked,temporary,total_docks,givesbonus_acceptspedelecs_fbbattlevel,pedelecs\\n1,1644707403', '14400', '0,\"Paardenbaai Plaza\",12.5210852,-70.04102,13,6,true,false,false,19,,0\\n2,1644707403', '14400', '0,\"Ling & Sons\",12.5330588,-70.0504579,11,4,true,false,false,15,,0\\n3,1644707403', '14400', '0,\"La Cabana Beach Resort\",12.5521775,-70.05529,2,12,true,false,false,15,,0\\n4,1644707403', '14400', '0,\"Hyatt Hotel\",12.5691319,-70.044683,14,5,true,false,false,19,,0\\n5,1644707403', '14400', '0,\"Paseo Herencia\",12.5749457,-70.04395,10,12,true,false,false,24,,0\\n6,1644707403', '14400', '0,\"Marriot Hotel\",12.5817091,-70.0425233,9,6,true,false,false,15,,0\\n7,1644707403', '14400', '0,\"RIU\",12.5667489,-70.0463623,11,4,true,false,false,15,,0\\n8,1644707403', '14400', '0,\"Plaza Daniel Leo\",12.5196901,-70.03732,9,6,true,false,false,15,,0\\n']\n",
      "['#id,timestamp', 'gmt_local_diff_sec', 'gmt_servertime_diff_sec,name,lat,lon,bikes,spaces,installed,locked,temporary,open_or_total_docks,bonus,ticket\\n']\n",
      "['#id,timestamp', 'gmt_local_diff_sec', 'gmt_servertime_diff_sec,name,lat,lon,bikes,spaces,installed,locked,temporary,open_or_total_docks,bonus,ticket\\n']\n",
      "['#id,timestamp', 'gmt_local_diff_sec', 'gmt_servertime_diff_sec,name,lat,lon,bikes,spaces,installed,locked,temporary,open_or_total_docks,bonus,ticket\\n1064,1578353488', '-39600', '0,\"Monash Sport\",-37.9123841021,145.136228129,0,15,true,false,false,15,,0\\n1065,1578353488', '-39600', '0,\"Menzies E\",-37.9126134375,145.133110397,0,25,true,false,false,25,,0\\n1066,1578353488', '-39600', '0,\"Menzies W\",-37.9123565924,145.132106915,0,25,true,false,false,25,,0\\n1067,1578353488', '-39600', '0,\"Campus Centre N\",-37.9113413705,145.132825747,0,10,true,false,false,10,,0\\n1068,1578353488', '-39600', '0,\"Campus Centre S\",-37.9122148114,145.133031607,0,15,true,false,false,15,,0\\n1069,1578353488', '-39600', '0,\"Hargrave-Andrew Library\",-37.9101364708,145.132112145,0,20,true,false,false,20,,0\\n1070,1578353488', '-39600', '0,\"Medicine Offices - East\",-37.913073958,145.131371319,0,5,true,false,false,5,,0\\n1071,1578353488', '-39600', '0,\"35 Rainforest Walk\",-37.9124094957,145.13142094,0,4,true,false,false,4,,0\\n1639,1578353488', '-39600', '0,\"Bus Loop W\",-37.9144388379,145.131148696,0,10,true,false,false,10,,0\\n1640,1578353488', '-39600', '0,\"Campbell Hall W\",-37.9112408528,145.134279504,0,10,true,false,false,10,,0\\n1641,1578353488', '-39600', '0,\"Information Technology N\",-37.9104901394,145.133972727,0,10,true,false,false,10,,0\\n1642,1578353488', '-39600', '0,\"Halls\",-37.9077983006,145.139749199,0,15,true,false,false,15,,0\\n1643,1578353488', '-39600', '0,\"738 Blackburn Rd\",-37.9093415701,145.142289922,0,8,true,false,false,8,,0\\n1644,1578353488', '-39600', '0,\"211 Wellington Rd\",-37.9167548435,145.150984973,0,12,true,false,false,12,,0\\n1645,1578353488', '-39600', '0,\"Turner Hall\",-37.9096415434,145.137787163,0,10,true,false,false,10,,0\\n1646,1578353488', '-39600', '0,\"Innovation Walk S\",-37.9136765186,145.129647665,0,7,true,false,false,7,,0\\n1647,1578353488', '-39600', '0,\"Monash College W\",-37.9145065522,145.12981832,0,5,true,false,false,5,,0\\n1648,1578353488', '-39600', '0,\"700 Blackburn Rd\",-37.907666563,145.142124966,0,10,true,false,false,10,,0\\n1649,1578353488', '-39600', '0,\"Scenic Blvd S\",-37.9143187506,145.135263205,0,8,true,false,false,8,,0\\n1650,1578353488', '-39600', '0,\"Car Park OC1 West at 800 Blackburn Rd\",-37.9158708764,145.140580013,0,8,true,false,false,8,,0\\n1651,1578353488', '-39600', '0,\"Campbell Hall S\",-37.9112075232,145.134927928,0,10,true,false,false,10,,0\\n1652,1578353488', '-39600', '0,\"Sports Walk E\",-37.91119271,145.136428624,0,19,true,false,false,19,,0\\n1653,1578353488', '-39600', '0,\"Engineering SE\",-37.9098372379,145.134307678,0,20,true,false,false,20,,0\\n1654,1578353488', '-39600', '0,\"Information Technology S\",-37.911066798,145.133639127,0,10,true,false,false,10,,0\\n1655,1578353488', '-39600', '0,\"MSI\",-37.9070048385,145.137876075,0,4,true,false,false,4,,0\\n1656,1578353488', '-39600', '0,\"24 Research Way\",-37.9079662458,145.1341407,0,6,true,false,false,6,,0\\n1657,1578353488', '-39600', '0,\"Earth Sciences\",-37.9093706681,145.130883157,0,24,true,false,false,24,,0\\n1658,1578353488', '-39600', '0,\"5 Rainforest Walk - Car Park N1\",-37.9086543793,145.131928945,0,20,true,false,false,20,,0\\n1659,1578353488', '-39600', '0,\"Biotechnology E\",-37.9102937196,145.129504733,0,9,true,false,false,9,,0\\n1660,1578353488', '-39600', '0,\"Biomedical Sciences\",-37.9116127526,145.129608169,0,10,true,false,false,10,,0\\n1661,1578353488', '-39600', '0,\"South East Flats\",-37.9152392191,145.13880515,0,5,true,false,false,5,,0\\n1664,1578353488', '-39600', '0,\"Campus Centre W\",-37.9117735954,145.132036507,0,4,true,false,false,4,,0\\n1665,1578353488', '-39600', '0,\"Biotechnology W\",-37.9102541842,145.12901634,0,10,true,false,false,10,,0\\n1666,1578353488', '-39600', '0,\"Engineering S\",-37.9100555263,145.133276358,0,5,true,false,false,5,,0\\n1667,1578353488', '-39600', '0,\"Engineering W\",-37.9095701215,145.132407993,0,4,true,false,false,4,,0\\n2077,1578353488', '-39600', '0,\"Car Park OC1 at 800 Blackburn Rd\",-37.9156404931,145.142225884,0,8,true,false,false,8,,0\\n2078,1578353488', '-39600', '0,\"Normanby House\",-37.9059256475,145.138726942,0,4,true,false,false,4,,0\\n2572,1578353488', '-39600', '0,\"321 Ferntree Gully\",-37.8998522254,145.133863091,0,4,true,false,false,4,,0\\n2578,1578353488', '-39600', '0,\"Education\",-37.9137405304,145.134351254,0,10,true,false,false,10,,0\\n2579,1578353488', '-39600', '0,\"Medicine Offices - North\",-37.9127853396,145.131041408,0,4,true,false,false,4,,0\\n2580,1578353488', '-39600', '0,\"16 Rainforest Walk\",-37.9107715917,145.131929219,0,8,true,false,false,8,,0\\n2709,1578353488', '-39600', '0,\"25 Rainforest Walk\",-37.9116005337,145.131123215,0,10,true,false,false,10,,0\\n2710,1578353488', '-39600', '0,\"Briggs Hall\",-37.9103572823,145.139153749,0,1,true,false,false,1,,0\\n2712,1578353488', '-39600', '0,\"738 Blackburn Rd - Car Park\",-37.9096438913,145.141939223,0,6,true,false,false,6,,0\\n3238,1578353488', '-39600', '0,\"Mannix College \",-37.9159228349,145.131603666,0,5,true,false,false,5,,0\\n3734,1578353488', '-39600', '0,\"Roberts Hall \",-37.9072489839,145.139254499,0,5,true,false,false,5,,0\\n3735,1578353488', '-39600', '0,\"Richardson Hall\",-37.9071271442,145.138715208,0,5,true,false,false,5,,0\\n3736,1578353488', '-39600', '0,\"Deakin Hall\",-37.908233822,145.140722888,0,5,true,false,false,5,,0\\n3737,1578353488', '-39600', '0,\"Farrer Hall\",-37.9073875954,145.140450932,0,8,true,false,false,8,,0\\n3800,1578353488', '-39600', '0,\"Monash Nanofabrication\",-37.9163077696,145.143681318,0,6,true,false,false,6,,0\\n3801,1578353488', '-39600', '0,\"Monash Biomedical Imaging\",-37.9123693415,145.141382581,0,4,true,false,false,4,,0\\n3915,1578353488', '-39600', '0,\"Green Chemical Futures\",-37.9100415064,145.131320357,0,10,true,false,false,10,,0\\n3944,1578353488', '-39600', '0,\"Physics\",-37.9105487753,145.130346715,0,4,true,false,false,4,,0\\n3945,1578353488', '-39600', '0,\"Robert Blackwood\",-37.9131763249,145.135231018,0,4,true,false,false,4,,0\\n3946,1578353488', '-39600', '0,\"Teaching and Learning S\",-37.9146082997,145.132712424,0,20,true,false,false,20,,0\\n3958,1578353488', '-39600', '0,\"Youlendj Hub\",-37.9132081988,145.130268261,0,8,true,false,false,8,,0\\n3969,1578353488', '-39600', '0,\"Childcare\",-37.9054552943,145.137966871,0,2,true,false,false,2,,0\\n4015,1578353488', '-39600', '0,\"Engineering N\",-37.909727713,145.133348107,0,6,true,false,false,6,,0\\n4030,1578353488', '-39600', '0,\"Campbell Hall E\",-37.9112416133,145.135531425,0,8,true,false,false,8,,0\\n4031,1578353488', '-39600', '0,\"Engineering NE\",-37.9093653775,145.134278834,0,2,true,false,false,2,,0\\n5319,1578353488', '-39600', '0,\"Normanby House W\",-37.9058356709,145.138117075,0,4,true,false,false,4,,0\\n']\n",
      "['#id,timestamp', 'gmt_local_diff_sec', 'gmt_servertime_diff_sec,name,lat,lon,bikes,spaces,installed,locked,temporary,total_docks,givesbonus_acceptspedelecs_fbbattlevel,pedelecs\\n3207,1644707404.8183048', '-3600', '0,\"Klosterneuburg / Kierling / Bahnhof\",48.310016,16.326284,0,10,true,false,false,10,false,0\\n3208,1644707404.8183732', '-3600', '0,\"Klosterneuburg / Weidling / Bahnhof\",48.297509,16.334519,0,10,true,false,false,10,false,0\\n3209,1644707404.8184443', '-3600', '0,\"Korneuburg / Bahnhof\",48.343953,16.328934,6,4,true,false,false,10,false,0\\n3211,1644707404.8185117', '-3600', '0,\"Leobendorf / Bahnhof\",48.364807,16.301844,2,8,true,false,false,10,false,0\\n3218,1644707404.8185763', '-3600', '0,\"Stockerau / Bahnhof\",48.382863,16.213508,0,10,true,false,false,10,false,0\\n3541,1644707404.8186445', '-3600', '0,\"Korneuburg / BH Korneuburg\",48.347287,16.333575,4,6,true,false,false,10,false,0\\n3542,1644707404.818713', '-3600', '0,\"Korneuburg / Hauptplatz\",48.344217,16.333805,4,6,true,false,false,10,false,0\\n3544,1644707404.818777', '-3600', '0,\"Stockerau / Rathausplatz\",48.384149,16.207017,0,10,true,false,false,10,false,0\\n3546,1644707404.818842', '-3600', '0,\"Stockerau / Kaiserrast\",48.374646,16.237541,0,10,true,false,false,10,false,0\\n3547,1644707404.8189096', '-3600', '0,\"Leobendorf / Zentrum\",48.377354,16.322401,5,5,true,false,false,10,false,0\\n3549,1644707404.8189754', '-3600', '0,\"Spillern / Bahnhof\",48.375947,16.256386,1,9,true,false,false,10,false,0\\n3550,1644707404.8190453', '-3600', '0,\"Spillern / Jugendtreff\",48.374447,16.271138,0,10,true,false,false,10,false,0\\n3551,1644707404.81911', '-3600', '0,\"St. Andrä Wördern / Marienhof\",48.287744,16.192791,0,10,true,false,false,10,false,0\\n3216,1644707404.819176', '-3600', '0,\"St. Andrä Wördern / Bahnhof\",48.333708,16.209286,0,10,true,false,false,10,false,0\\n3556,1644707404.8192415', '-3600', '0,\"St. Andrä Wördern / BHF Greifenstein - Altenberg\",48.344531,16.239649,0,10,true,false,false,10,false,0\\n3558,1644707404.8193066', '-3600', '0,\"Stammersdorf / Bahnhofsplatz Erlebnisstop 2\",48.297334,16.420231,0,10,true,false,false,10,false,0\\n3563,1644707404.8193712', '-3600', '0,\"Zehn vor Wien / Strebersdorferhof\",48.29181,16.387085,0,10,true,false,false,10,false,0\\n3565,1644707404.8194525', '-3600', '0,\"Korneuburg / Dabschkaserne\",48.359639,16.32961,4,6,true,false,false,10,false,0\\n3566,1644707404.81952', '-3600', '0,\"Korneuburg / Florian Berndl Bad\",48.336034,16.343461,2,8,true,false,false,10,false,0\\n3567,1644707404.819585', '-3600', '0,\"Klosterneuburg / IST Austria\",48.310127,16.258961,0,10,true,false,false,10,false,0\\n3572,1644707404.819649', '-3600', '0,\"Korneuburg / BP K01 - Halle A\",48.356648,16.316907,0,10,true,false,false,10,false,0\\n3573,1644707404.8197165', '-3600', '0,\"Korneuburg / BP K01 - Halle G\",48.358666,16.317294,4,6,true,false,false,10,false,0\\n3574,1644707404.8197834', '-3600', '0,\"Korneuburg / BP K01 - Halle I\",48.36053,16.31857,4,6,true,false,false,10,false,0\\n']\n",
      "['#id,timestamp', 'gmt_local_diff_sec', 'gmt_servertime_diff_sec,name,lat,lon,bikes,spaces,installed,locked,temporary,total_docks,givesbonus_acceptspedelecs_fbbattlevel,pedelecs\\n3201,1644707404.822274', '-3600', '0,\"Amstetten / Bahnhof\",48.121764,14.877407,0,10,true,false,false,10,false,0\\n3717,1644707404.8223443', '-3600', '0,\"Amstetten / Landesklinikum\",48.127377,14.882212,0,10,true,false,false,10,false,0\\n3718,1644707404.8224113', '-3600', '0,\"Amstetten / Hauptplatz\",48.123373,14.871451,0,10,true,false,false,10,false,0\\n3719,1644707404.8224776', '-3600', '0,\"Amstetten / Landesberufsschule WKNÖ\",48.116762,14.88301,0,10,true,false,false,10,false,0\\n3720,1644707404.8225539', '-3600', '0,\"Amstetten / BHF Mauer\",48.095147,14.798294,0,10,true,false,false,10,false,0\\n3721,1644707404.8226187', '-3600', '0,\"Amstetten / BHF Greinsfurth\",48.108423,14.839021,0,10,true,false,false,10,false,0\\n3722,1644707404.8226829', '-3600', '0,\"Amstetten / Landesklinikum Mauer\",48.092605,14.804756,0,10,true,false,false,10,false,0\\n']\n",
      "['#id,timestamp', 'gmt_local_diff_sec', 'gmt_servertime_diff_sec,name,lat,lon,bikes,spaces,installed,locked,temporary,total_docks,givesbonus_acceptspedelecs_fbbattlevel,pedelecs\\n3568,1644707404.8218875', '-3600', '0,\"Groß Enzersdorf / Busbahnhof\",48.199596,16.550072,0,10,true,false,false,10,false,0\\n3569,1644707404.8219578', '-3600', '0,\"Groß Enzersdorf / Auvorstadt\",48.189573,16.545464,0,10,true,false,false,10,false,0\\n3570,1644707404.8220253', '-3600', '0,\"Groß Enzersdorf / Sachsengang\",48.196554,16.562794,0,10,true,false,false,10,false,0\\n']\n",
      "['#id,timestamp', 'gmt_local_diff_sec', 'gmt_servertime_diff_sec,name,lat,lon,bikes,spaces,installed,locked,temporary,open_or_total_docks,bonus,ticket\\n3080,1425977885.75', '-3600', '0,\"Haag / Tierpark\",48.101944,14.558056,0,10,,,,10,\\n3081,1425977885.75', '-3600', '0,\"Haag / Freizeitzentrum\",48.108889,14.578333,0,10,,,,10,\\n3082,1425977885.75', '-3600', '0,\"Haag / Haltestelle Haag\",48.094495,14.589374,0,10,,,,10,\\n']\n",
      "['#id,timestamp', 'gmt_local_diff_sec', 'gmt_servertime_diff_sec,name,lat,lon,bikes,spaces,installed,locked,temporary,total_docks,givesbonus_acceptspedelecs_fbbattlevel,pedelecs\\n3228,1644707404.8210435', '-3600', '0,\"Hollabrunn / Bahnhof\",48.563008,16.073014,0,10,true,false,false,10,false,0\\n3561,1644707404.8211126', '-3600', '0,\"Hollabrunn / KAUF ein- Fachzentrum\",48.568873,16.07965,0,10,true,false,false,10,false,0\\n']\n",
      "['#id,timestamp', 'gmt_local_diff_sec', 'gmt_servertime_diff_sec,name,lat,lon,bikes,spaces,installed,locked,temporary,total_docks,givesbonus_acceptspedelecs_fbbattlevel,pedelecs\\n3801,1644707404.9186912', '-3600', '0,\"Landesgericht\",47.26254,11.392157,8,2,true,false,false,10,false,0\\n3802,1644707404.9187636', '-3600', '0,\"Bozner Platz\",47.264779,11.397192,5,10,true,false,false,15,false,0\\n3803,1644707404.9188333', '-3600', '0,\"Congress / Hofburg\",47.268754,11.395462,3,12,true,false,false,15,false,0\\n3804,1644707404.9189017', '-3600', '0,\"Dr. Glatz-Straße\",47.262631,11.412842,2,8,true,false,false,10,false,0\\n3805,1644707404.919029', '-3600', '0,\"Hauptbahnhof\",47.263381,11.399882,36,1,true,false,false,30,false,0\\n3806,1644707404.919103', '-3600', '0,\"Höttinger Au /West\",47.264589,11.374937,10,1,true,false,false,11,false,0\\n3807,1644707404.9191735', '-3600', '0,\"Anichstraße / Klinik\",47.263745,11.388209,1,10,true,false,false,11,false,0\\n3809,1644707404.9192438', '-3600', '0,\"Maria-Theresien-Straße\",47.264916,11.394763,8,5,true,false,false,13,false,0\\n3812,1644707404.9193141', '-3600', '0,\"Pacherstaße\",47.260749,11.409412,7,3,true,false,false,10,false,0\\n3811,1644707404.9193838', '-3600', '0,\"Mühlauer Brücke\",47.278834,11.403916,7,3,true,false,false,10,false,0\\n3810,1644707404.9194643', '-3600', '0,\"Leipziger Platz\",47.264537,11.406609,3,8,true,false,false,11,false,0\\n3814,1644707404.9195387', '-3600', '0,\"Sillpark\",47.266097,11.403015,17,1,true,false,false,14,false,0\\n3815,1644707404.9196095', '-3600', '0,\"Westbahnhof\",47.255885,11.39169,9,9,true,false,false,18,false,0\\n3816,1644707404.9196782', '-3600', '0,\"Rossaugasse\",47.273034,11.429842,6,7,true,false,false,13,false,0\\n3817,1644707404.9197466', '-3600', '0,\"AMS-Geschäftsstelle\",47.25945,11.393339,5,5,true,false,false,10,false,0\\n3818,1644707404.9198122', '-3600', '0,\"Studentenhaus\",47.261721,11.383606,0,10,true,false,false,10,false,0\\n3819,1644707404.919881', '-3600', '0,\"Kletterzentrum / Sillside\",47.276885,11.414586,5,5,true,false,false,10,false,0\\n3820,1644707404.9199479', '-3600', '0,\"Schöpfstraße / Klinik\",47.260307,11.387271,1,12,true,false,false,13,false,0\\n3821,1644707404.9200318', '-3600', '0,\"Bachlechnerstr. / MED-EL\",47.263097,11.37483,3,13,true,false,false,16,false,0\\n3813,1644707404.920124', '-3600', '0,\"Stubaitalbahnhof\",47.253926,11.39757,8,7,true,false,false,15,false,0\\n3822,1644707404.920191', '-3600', '0,\"Universität\",47.263788,11.386207,0,15,true,false,false,15,false,0\\n3823,1644707404.9202619', '-3600', '0,\"SOWI\",47.269249,11.399135,6,13,true,false,false,19,false,0\\n3824,1644707404.9203312', '-3600', '0,\"General-Eccher-Straße\",47.277315,11.416799,6,10,true,false,false,16,false,0\\n3825,1644707404.920405', '-3600', '0,\"Technik\",47.265157,11.344585,4,20,true,false,false,24,false,0\\n3826,1644707404.920536', '-3600', '0,\"UNI-Sportstätten\",47.257789,11.357546,10,1,true,false,false,10,false,0\\n3827,1644707404.9206731', '-3600', '0,\"Adolf-Pichler-Platz\",47.266228,11.392082,5,3,true,false,false,8,false,0\\n3828,1644707404.9208179', '-3600', '0,\"Philippine-Welser-Straße\",47.258688,11.425567,10,2,true,false,false,12,false,0\\n3808,1644707404.9208996', '-3600', '0,\"Austria Trend Hotel\",47.27449,11.397193,9,1,true,false,false,10,false,0\\n3829,1644707404.9209697', '-3600', '0,\"Technikerhaus\",47.261349,11.379588,2,11,true,false,false,13,false,0\\n3830,1644707404.9210522', '-3600', '0,\"Fürstenweg\",47.265878,11.382812,8,4,true,false,false,12,false,0\\n3831,1644707404.9211462', '-3600', '0,\"Mariahilfpark\",47.267898,11.387577,7,5,true,false,false,12,false,0\\n3832,1644707404.9212165', '-3600', '0,\"Waltherpark\",47.270665,11.391644,2,9,true,false,false,11,false,0\\n3833,1644707404.9212852', '-3600', '0,\"Langstraße\",47.265132,11.413363,2,9,true,false,false,11,false,0\\n3834,1644707404.9213552', '-3600', '0,\"TWI Technologiezentrum\",47.265525,11.435286,6,8,true,false,false,14,false,0\\n3835,1644707404.921424', '-3600', '0,\"Dr. Stumpf-Straße\",47.256696,11.373858,7,6,true,false,false,13,false,0\\n3837,1644707404.9214947', '-3600', '0,\"Claudiaplatz\",47.275797,11.405576,9,1,true,false,false,10,false,0\\n3836,1644707404.921564', '-3600', '0,\"Mitterweg\",47.258067,11.370598,7,5,true,false,false,12,false,0\\n3838,1644707404.921632', '-3600', '0,\"Marktplatz\",47.267371,11.391144,4,7,true,false,false,11,false,0\\n3839,1644707404.9217072', '-3600', '0,\"Kaiserschützenplatz\",47.258677,11.396711,5,7,true,false,false,12,false,0\\n3840,1644707404.921779', '-3600', '0,\"Josef-Kerschbaumer-Straße\",47.272365,11.443521,8,2,true,false,false,10,false,0\\n3841,1644707404.9218473', '-3600', '0,\"Vögelebichl\",47.264109,11.362696,3,11,true,false,false,14,false,0\\n3842,1644707404.9219172', '-3600', '0,\"Triumphpforte/ Casino\",47.262635,11.396309,7,8,true,false,false,15,false,0\\n3843,1644707404.9220145', '-3600', '0,\"Chemieinstitut\",47.260745,11.381139,3,8,true,false,false,11,false,0\\nfb340172,1644707404.922087', '-3600', '0,\"BIKE 340172\",47.278142,11.406826,1,0,true,false,true,1,-1,0\\nfb340073,1644707404.9221542', '-3600', '0,\"BIKE 340073\",47.256738,11.377656,1,0,true,false,true,1,-1,0\\nfb340348,1644707404.922221', '-3600', '0,\"BIKE 340348\",47.267164,11.358006,1,0,true,false,true,1,-1,0\\n']\n",
      "['#id,timestamp', 'gmt_local_diff_sec', 'gmt_servertime_diff_sec,name,lat,lon,bikes,spaces,installed,locked,temporary,total_docks,givesbonus_acceptspedelecs_fbbattlevel,pedelecs\\n3602,1644707405.43757', '-3600', '0,\"Universität Klagenfurt\",46.616978,14.266726,7,2,true,false,false,10,false,0\\n3603,1644707405.4376493', '-3600', '0,\"S-Bahn Klagenfurt West\",46.622792,14.267274,6,4,true,false,false,10,false,0\\n3604,1644707405.4377215', '-3600', '0,\"Heiligengeistplatz\",46.624676,14.305148,2,1,true,false,false,6,false,0\\n3605,1644707405.4377935', '-3600', '0,\"Heuplatz\",46.626433,14.308257,3,6,true,false,false,9,false,0\\n3607,1644707405.437868', '-3600', '0,\"Park & Ride Fernheizkraftwerk\",46.629264,14.314336,8,1,true,false,false,8,false,0\\n3608,1644707405.43794', '-3600', '0,\"Strandbad Klagenfurt\",46.619571,14.255978,6,4,true,false,false,10,false,0\\n3609,1644707405.4380116', '-3600', '0,\"FH Kärnten Primoschgasse\",46.610464,14.330101,2,2,true,false,false,6,false,0\\n3600,1644707405.4380848', '-3600', '0,\"Hauptbahnhof Klagenfurt\",46.616539,14.313624,6,4,true,false,false,10,false,0\\n3601,1644707405.4381566', '-3600', '0,\"Neuer Platz\",46.624195,14.307061,5,5,true,false,false,10,false,0\\n3610,1644707405.4382281', '-3600', '0,\"Messe Klagenfurt\",46.617295,14.308044,3,5,true,false,false,8,false,0\\n3606,1644707405.4383004', '-3600', '0,\"Landesregierung Mießtalerstraße\",46.621497,14.311447,7,1,true,false,false,10,false,0\\n3611,1644707405.4383738', '-3600', '0,\"Welzeneggerstraße\",46.633055,14.334616,6,4,true,false,false,10,false,0\\n3622,1644707405.4384465', '-3600', '0,\"Pfarrplatz\",46.625919,14.307208,4,2,true,false,false,6,false,0\\n3617,1644707405.4385161', '-3600', '0,\"HTL1 Lastenstraße\",46.619769,14.315703,2,6,true,false,false,8,false,0\\n3619,1644707405.4385884', '-3600', '0,\"P&R Sirius\",46.619378,14.319519,4,4,true,false,false,8,false,0\\n3614,1644707405.4386601', '-3600', '0,\"Domplatz\",46.622304,14.309069,4,1,true,false,false,5,false,0\\n3624,1644707405.4387295', '-3600', '0,\"Ebenthal\",46.610514,14.359715,1,4,true,false,false,5,false,0\\n3623,1644707405.4388006', '-3600', '0,\"Schleppeplatz\",46.641481,14.288451,5,3,true,false,false,8,false,0\\n3630,1644707405.438872', '-3600', '0,\"Kardinalplatz\",46.623896,14.312117,6,1,true,false,false,5,false,0\\n3631,1644707405.4389417', '-3600', '0,\"Steinerne Brücke\",46.62045,14.283111,3,3,true,false,false,6,false,0\\n3613,1644707405.4390128', '-3600', '0,\"Seepark Hotel\",46.618267,14.261236,3,7,true,false,false,10,false,0\\n3626,1644707405.439085', '-3600', '0,\"Sportpark Klagenfurt\",46.610406,14.277975,7,1,true,false,false,8,false,0\\n3621,1644707405.4391558', '-3600', '0,\"Messe Parkhaus\",46.618639,14.304042,4,2,true,false,false,6,false,0\\n3615,1644707405.4392264', '-3600', '0,\"Mühlgasse\",46.63935,14.297519,3,3,true,false,false,8,false,0\\n3616,1644707405.4392984', '-3600', '0,\"Wörthersee Schifffahrt\",46.622743,14.255431,5,3,true,false,false,8,false,0\\n3618,1644707405.439371', '-3600', '0,\"Bahnhofstraße/ Priesterhausgasse\",46.625719,14.310586,4,1,true,false,false,5,false,0\\n3620,1644707405.4395597', '-3600', '0,\"S-Bahn Annabichl\",46.650767,14.314438,5,1,true,false,false,5,false,0\\n3612,1644707405.4396327', '-3600', '0,\"BKS Bank St.Veiter Ring\",46.628052,14.309578,5,3,true,false,false,8,false,0\\n3629,1644707405.4397037', '-3600', '0,\"HTL Mössingerstraße\",46.610369,14.305603,5,3,true,false,false,8,false,0\\n3636,1644707405.4397755', '-3600', '0,\"S-Bahn Klagenfurt/ Ost Rudolfsbahngürtel\",46.621495,14.321716,3,7,true,false,false,10,false,0\\n3640,1644707405.4398446', '-3600', '0,\"NMS St. Ruprecht\",46.611082,14.311115,2,4,true,false,false,6,false,0\\n3641,1644707405.4399161', '-3600', '0,\"FH Klinikum St. Veiter Straße\",46.632581,14.309599,4,6,true,false,false,10,false,0\\n3632,1644707405.439985', '-3600', '0,\"STW Kundencenter\",46.629643,14.309644,2,4,true,false,false,6,false,0\\n3638,1644707405.4400563', '-3600', '0,\"Südpark\",46.615411,14.319496,4,3,true,false,false,8,false,0\\n3637,1644707405.4401333', '-3600', '0,\"S-Bahn Ebenthal/Fischl\",46.616903,14.333603,4,5,true,false,false,9,false,0\\n3524,1644707405.4402032', '-3600', '0,\"Generali at Brain@Work\",46.620811,14.307048,2,8,true,false,false,10,false,0\\n3525,1644707405.440274', '-3600', '0,\"KSW Maximilianstraße\",46.613919,14.293806,3,5,true,false,false,8,false,0\\n3527,1644707405.4403465', '-3600', '0,\"Benediktinerplatz\",46.623263,14.305623,7,3,true,false,false,10,false,0\\n3625,1644707405.440419', '-3600', '0,\"Pädagogische Hochschule\",46.608516,14.29106,11,1,true,false,false,10,false,0\\n3529,1644707405.4404895', '-3600', '0,\"SLOG & TAK Prof.-Janežič-Platz\",46.624367,14.323619,1,4,true,false,false,5,false,0\\n3526,1644707405.4405663', '-3600', '0,\"hi Harbach\",46.621873,14.343128,4,1,true,false,false,13,false,2\\n']\n",
      "['']\n",
      "['#id,timestamp', 'gmt_local_diff_sec', 'gmt_servertime_diff_sec,name,lat,lon,bikes,spaces,installed,locked,temporary,total_docks,givesbonus_acceptspedelecs_fbbattlevel,pedelecs\\n3553,1644707404.8200436', '-3600', '0,\"Laa / Bahnhof\",48.723065,16.40269,0,10,true,false,false,10,false,0\\n3554,1644707404.8201163', '-3600', '0,\"Laa / Stadtplatz - Rathaus\",48.720988,16.384794,0,10,true,false,false,10,false,0\\n']\n",
      "['#id,timestamp', 'gmt_local_diff_sec', 'gmt_servertime_diff_sec,name,lat,lon,bikes,spaces,installed,locked,temporary,total_docks,givesbonus_acceptspedelecs_fbbattlevel,pedelecs\\n41600,1644707406.1320627', '-3600', '0,\"Alter Markt\",48.30554,14.2847,10,1,true,false,false,8,false,0\\n41601,1644707406.13214', '-3600', '0,\"Am Volksgarten\",48.29491,14.29272,10,1,true,false,false,10,false,0\\n41602,1644707406.1322172', '-3600', '0,\"Bahnhofplatz\",48.2912,14.2912,17,1,true,false,false,13,false,0\\n41603,1644707406.1322901', '-3600', '0,\"Bethlehemstraße \",48.30321,14.2893,7,3,true,false,false,10,false,0\\n41604,1644707406.132366', '-3600', '0,\"Blumauerstraße\",48.29548,14.29535,10,1,true,false,false,10,false,0\\n41605,1644707406.132441', '-3600', '0,\"Dinghoferstraße \",48.29701,14.29907,12,1,true,false,false,8,false,0\\n41606,1644707406.132514', '-3600', '0,\"E. Koref-Promenade\",48.30832,14.2889,8,1,true,false,false,8,false,0\\n41607,1644707406.1325872', '-3600', '0,\"Fabrikstraße \",48.30864,14.29284,7,1,true,false,false,8,false,0\\n41608,1644707406.132661', '-3600', '0,\"Ferihumerstraße \",48.31327,14.28754,11,1,true,false,false,10,false,0\\n41609,1644707406.132735', '-3600', '0,\"Figulystraße \",48.293519,14.28811,9,1,true,false,false,10,false,0\\n41610,1644707406.1328092', '-3600', '0,\"Friedensplatz\",48.2999,14.28963,10,1,true,false,false,10,false,0\\n41611,1644707406.1328828', '-3600', '0,\"Europaplatz\",48.29927,14.30405,11,1,true,false,false,10,false,0\\n41612,1644707406.1329563', '-3600', '0,\"Gruberstraße\",48.30301,14.3003,11,1,true,false,false,10,false,0\\n41613,1644707406.1330295', '-3600', '0,\"Harrachstraße-Landstraße\",48.30198,14.29021,6,2,true,false,false,8,false,0\\n41614,1644707406.133103', '-3600', '0,\"Harrachstraße\",48.303515,14.297951,10,1,true,false,false,10,false,0\\n41615,1644707406.1331768', '-3600', '0,\"Hauptplatz \",48.3064,14.28585,10,1,true,false,false,10,false,0\\n41616,1644707406.1332498', '-3600', '0,\"Neues Rathaus\",48.30943,14.28332,7,3,true,false,false,10,false,0\\n41617,1644707406.1333222', '-3600', '0,\"Hauptstraße \",48.31437,14.28115,6,4,true,false,false,10,false,0\\n41618,1644707406.1333964', '-3600', '0,\"Herrenstraße\",48.30096,14.28717,11,1,true,false,false,10,false,0\\n41619,1644707406.1334674', '-3600', '0,\"Hessenplatz \",48.30096,14.29484,4,3,true,false,false,7,false,0\\n41620,1644707406.1335397', '-3600', '0,\"Huemerstraße \",48.30588,14.2983,7,3,true,false,false,10,false,0\\n41621,1644707406.133613', '-3600', '0,\"Knabenseminarstraße \",48.31578,14.28057,8,2,true,false,false,10,false,0\\n41622,1644707406.1336849', '-3600', '0,\"Krankenhausstraße \",48.302096,14.30534,5,5,true,false,false,10,false,0\\n41623,1644707406.133758', '-3600', '0,\"Landstraße\",48.2959,14.29238,8,1,true,false,false,8,false,0\\n41624,1644707406.1338298', '-3600', '0,\"Lederergasse\",48.30753,14.29608,5,5,true,false,false,10,false,0\\n41625,1644707406.1339028', '-3600', '0,\"Marktplatz\",48.300521,14.300158,9,1,true,false,false,9,false,0\\n41626,1644707406.1339755', '-3600', '0,\"Martin Luther-Platz\",48.30061,14.29176,8,2,true,false,false,10,false,0\\n41627,1644707406.134049', '-3600', '0,\"Mühlkreisbahnstraße\",48.311548,14.280062,7,3,true,false,false,10,false,0\\n41628,1644707406.134123', '-3600', '0,\"Pfarrplatz\",48.306351,14.289585,11,1,true,false,false,10,false,0\\n41629,1644707406.1341956', '-3600', '0,\"Pochestraße\",48.304939,14.292987,9,1,true,false,false,10,false,0\\n41630,1644707406.1342692', '-3600', '0,\"Promenade \",48.30421,14.28719,10,1,true,false,false,9,false,0\\n41631,1644707406.1343427', '-3600', '0,\"Klammstraße\",48.30333,14.28454,9,1,true,false,false,10,false,0\\n41632,1644707406.1344144', '-3600', '0,\"Römerstraße \",48.304528,14.280579,6,4,true,false,false,10,false,0\\n41633,1644707406.1344864', '-3600', '0,\"Schillerplatz \",48.29749,14.29094,4,6,true,false,false,10,false,0\\n41634,1644707406.1345592', '-3600', '0,\"Schubertstraße \",48.29878,14.29622,10,1,true,false,false,8,false,0\\n41635,1644707406.1346307', '-3600', '0,\"Spittelwiese \",48.30218,14.2868,4,4,true,false,false,8,false,0\\n41636,1644707406.1347032', '-3600', '0,\"Stockhofstraße \",48.29565,14.28675,9,1,true,false,false,8,false,0\\n41637,1644707406.134776', '-3600', '0,\"Untere Donaulände \",48.310402,14.293835,8,2,true,false,false,10,false,0\\n41638,1644707406.134848', '-3600', '0,\"Volksgartenstraße \",48.29776,14.28793,7,3,true,false,false,10,false,0\\n41639,1644707406.134923', '-3600', '0,\"Weingartshofstraße \",48.29111,14.28798,12,1,true,false,false,10,false,0\\n41640,1644707406.134997', '-3600', '0,\"JKU Kepler Hall\",48.335415,14.32033,12,1,true,false,false,10,false,0\\n41641,1644707406.1350696', '-3600', '0,\"JKU OIC\",48.337251,14.315912,8,2,true,false,false,10,false,0\\nfb390328,1644707406.1351404', '-3600', '0,\"BIKE 390328\",48.304613,14.30519,1,0,true,false,true,1,-1,0\\nfb390045,1644707406.1352098', '-3600', '0,\"BIKE 390045\",48.292138,14.290916,1,0,true,false,true,1,-1,0\\n']\n",
      "['#id,timestamp', 'gmt_local_diff_sec', 'gmt_servertime_diff_sec,name,lat,lon,bikes,spaces,installed,locked,temporary,total_docks,pedelec\\n']\n",
      "['#id,timestamp', 'gmt_local_diff_sec', 'gmt_servertime_diff_sec,name,lat,lon,bikes,spaces,installed,locked,temporary,total_docks,givesbonus_acceptspedelecs_fbbattlevel,pedelecs\\n3535,1644707404.8179245', '-3600', '0,\"Marchegg / Hauptplatz\",48.279987,16.90731,0,10,true,false,false,10,false,0\\n3537,1644707404.8179924', '-3600', '0,\"Marchegg / Bahnhof\",48.249998,16.917604,0,10,true,false,false,10,false,0\\n3538,1644707404.8180575', '-3600', '0,\"Engelhartstetten / Schloss Hof\",48.215569,16.934963,0,10,true,false,false,10,false,0\\n']\n",
      "['#id,timestamp', 'gmt_local_diff_sec', 'gmt_servertime_diff_sec,name,lat,lon,bikes,spaces,installed,locked,temporary,open_or_total_docks,bonus,ticket\\n3526,1425978005.74', '-3600', '0,\"Mistelbach / Hst. Mistelbach Stadt\",48.571111,16.569142,0,10,,,,10,\\n3527,1425978005.74', '-3600', '0,\"Mistelbach / Weinlandbad\",48.563056,16.576389,0,10,,,,10,\\n3528,1425978005.74', '-3600', '0,\"Mistelbach / Bahnhof\",48.566047,16.565543,0,10,,,,10,\\n']\n",
      "['#id,timestamp', 'gmt_local_diff_sec', 'gmt_servertime_diff_sec,name,lat,lon,bikes,spaces,installed,locked,temporary,total_docks,givesbonus_acceptspedelecs_fbbattlevel,pedelecs\\n317162,1644707404.807214', '-3600', '0,\"Ma. Enzersdorf / Haltestelle\",48.096659,16.314386,5,5,true,false,false,10,false,0\\n317253,1644707404.8073127', '-3600', '0,\"Wiener Neudorf / HST Griesfeld\",48.077713,16.312519,6,4,true,false,false,10,false,0\\n317233,1644707404.8074002', '-3600', '0,\"Vösendorf / Schönbrunner Allee\",48.135664,16.32519,2,8,true,false,false,10,false,0\\n317232,1644707404.8074868', '-3600', '0,\"Vösendorf / Siebenhirten HST\",48.125628,16.319413,0,10,true,false,false,10,false,0\\n317252,1644707404.8075702', '-3600', '0,\"Wiener Neudorf / Haltestelle\",48.087561,16.31429,4,6,true,false,false,10,false,0\\n317172,1644707404.8076541', '-3600', '0,\"Mödling / Bahnhof\",48.085397,16.295616,6,4,true,false,false,10,false,0\\n317151,1644707404.8077528', '-3600', '0,\"Laxenburg / Franz-Josephs-Platz\",48.06753,16.354989,5,5,true,false,false,10,false,0\\n317173,1644707404.8078442', '-3600', '0,\"Mödling / Bike+Ride (Bach)\",48.084985,16.297038,1,9,true,false,false,10,false,0\\n3143,1644707404.8079488', '-3600', '0,\"Mödling / Babenbergerhof\",48.083759,16.28345,4,6,true,false,false,10,false,0\\n317176,1644707404.8080297', '-3600', '0,\"Mödling / Stadtbad\",48.081591,16.287414,3,7,true,false,false,10,false,0\\n317171,1644707404.8081179', '-3600', '0,\"Mödling / Schrannenplatz\",48.085343,16.283568,4,6,true,false,false,10,false,0\\n317023,1644707404.8082128', '-3600', '0,\"Brunn / Campus 21\",48.114455,16.294516,0,10,true,false,false,10,false,0\\n317152,1644707404.8083084', '-3600', '0,\"Laxenburg / Schlosspark Haupteingang\",48.066476,16.358385,6,4,true,false,false,10,false,0\\n317163,1644707404.8083832', '-3600', '0,\"Ma. Enzersdorf / Franziskanerplatz\",48.101155,16.283943,1,9,true,false,false,10,false,0\\n317164,1644707404.8084748', '-3600', '0,\"Ma. Enzersdorf / Friedhof\",48.093434,16.284415,6,4,true,false,false,10,false,0\\n317165,1644707404.8085465', '-3600', '0,\"Ma. Enzersdorf / Theissplatz\",48.095376,16.304784,3,7,true,false,false,10,false,0\\n317161,1644707404.8086388', '-3600', '0,\"Ma. Enzersdorf / Gemeindeamt\",48.097182,16.283948,0,10,true,false,false,10,false,0\\n317231,1644707404.8087082', '-3600', '0,\"Vösendorf / Schloss\",48.120404,16.343113,2,8,true,false,false,10,false,0\\n317251,1644707404.8088036', '-3600', '0,\"Wiener Neudorf / Rathaus\",48.086544,16.318104,1,9,true,false,false,10,false,0\\n317254,1644707404.8088768', '-3600', '0,\"Wiener Neudorf / C.-Migazzi-Haus\",48.083706,16.323887,2,8,true,false,false,10,false,0\\n317255,1644707404.8089743', '-3600', '0,\"Wiener Neudorf / Reisenbauer Ring\",48.091001,16.310695,2,8,true,false,false,10,false,0\\n317042,1644707404.8090563', '-3600', '0,\"Brunn / Bahnhof\",48.104687,16.28839,3,7,true,false,false,10,false,0\\n317022,1644707404.8091335', '-3600', '0,\"Biedermannsdorf / Jubiläumshalle\",48.081545,16.346299,0,10,true,false,false,10,false,0\\n317021,1644707404.8092272', '-3600', '0,\"Biedermannsdorf / Laxenburgerstraße /Ortstraße\",48.082552,16.352334,0,10,true,false,false,10,false,0\\n3117,1644707404.8093092', '-3600', '0,\"Perchtoldsdorf / Rodaun\",48.132148,16.263617,1,9,true,false,false,10,false,0\\n3118,1644707404.8094025', '-3600', '0,\"Perchtoldsdorf / Freizeitzentrum\",48.123891,16.266734,3,7,true,false,false,10,false,0\\n3119,1644707404.809501', '-3600', '0,\"Perchtoldsdorf / Bahnhof\",48.123254,16.285263,3,7,true,false,false,10,false,0\\n3120,1644707404.8095973', '-3600', '0,\"Perchtoldsdorf / Marktplatz\",48.118248,16.265924,5,5,true,false,false,10,false,0\\n3141,1644707404.809673', '-3600', '0,\"Vösendorf / Spitz\",48.114294,16.354254,3,7,true,false,false,10,false,0\\n3140,1644707404.8097582', '-3600', '0,\"Liesing / Bahnhof\",48.134515,16.283809,0,10,true,false,false,10,false,0\\n3142,1644707404.809848', '-3600', '0,\"Mödling / WIFI\",48.071082,16.302579,5,5,true,false,false,10,false,0\\n317175,1644707404.8099225', '-3600', '0,\"Mödling / Josef-Deutsch-Platz\",48.086594,16.288304,2,8,true,false,false,10,false,0\\n3159,1644707404.810016', '-3600', '0,\"Hinterbrühl / Hst. Höldrichsmühle\",48.080943,16.235915,1,9,true,false,false,10,false,0\\n3160,1644707404.8101015', '-3600', '0,\"Hinterbrühl / Parkstraße - Seegrotte\",48.086218,16.255292,2,8,true,false,false,10,false,0\\n3158,1644707404.8101807', '-3600', '0,\"Perchtoldsdorf / Kulturzentrum\",48.121922,16.26565,4,6,true,false,false,10,false,0\\n3167,1644707404.8102777', '-3600', '0,\"Liesing / Perfektastraße U6\",48.136641,16.313335,4,6,true,false,false,10,false,0\\n3171,1644707404.810372', '-3600', '0,\"Mödling / Jordanfelsen\",48.080986,16.270435,1,9,true,false,false,10,false,0\\n3172,1644707404.810445', '-3600', '0,\"Mödling / BH Mödling\",48.082132,16.298652,4,6,true,false,false,10,false,0\\n3173,1644707404.8105285', '-3600', '0,\"Hennersdorf / Gemeindeamt\",48.110153,16.366485,4,6,true,false,false,10,false,0\\n3177,1644707404.8106065', '-3600', '0,\"Hennersdorf / Bahnhof\",48.11217,16.358278,1,9,true,false,false,10,false,0\\n3187,1644707404.8107', '-3600', '0,\"Mödling / Grutschgasse\",48.075126,16.288835,0,10,true,false,false,10,false,0\\n#id,timestamp', 'gmt_local_diff_sec', 'gmt_servertime_diff_sec,name,lat,lon,bikes,spaces,installed,locked,temporary,total_docks,givesbonus_acceptspedelecs_fbbattlevel,pedelecs\\n3100,1644707404.814384', '-3600', '0,\"Leobersdorf / Bahnhof\",47.93723,16.230749,0,10,true,false,false,10,false,0\\n3101,1644707404.8144493', '-3600', '0,\"Leobersdorf / Rathausplatz\",47.92859,16.216437,0,10,true,false,false,10,false,0\\n3181,1644707404.814514', '-3600', '0,\"Leobersdorf / Ared Park\",47.927188,16.201449,0,10,true,false,false,10,false,0\\n#id,timestamp', 'gmt_local_diff_sec', 'gmt_servertime_diff_sec,name,lat,lon,bikes,spaces,installed,locked,temporary,total_docks,givesbonus_acceptspedelecs_fbbattlevel,pedelecs\\n3110,1644707404.8146207', '-3600', '0,\"Bad Vöslau / Bahnhof\",47.9689,16.223465,0,10,true,false,false,10,false,0\\n3111,1644707404.814688', '-3600', '0,\"Bad Vöslau / Schlossplatz \",47.965474,16.214506,0,10,true,false,false,10,false,0\\n3114,1644707404.8147569', '-3600', '0,\"Guntramsdorf / Hst. Lokalbahn\",48.047982,16.311817,3,7,true,false,false,10,false,0\\n3116,1644707404.8148239', '-3600', '0,\"Gumpoldskirchen / Bahnhof\",48.041598,16.285295,2,8,true,false,false,10,false,0\\n3115,1644707404.8148901', '-3600', '0,\"Guntramsdorf / Hst. Neu Guntramsdorf\",48.063938,16.31385,2,8,true,false,false,10,false,0\\n3105,1644707404.8149543', '-3600', '0,\"Baden / Bahnhof \",48.004582,16.242868,0,10,true,false,false,10,false,0\\n3107,1644707404.8150196', '-3600', '0,\"Baden / Tourismusinfo Römertherme\",48.008092,16.231045,1,9,true,false,false,10,false,0\\n3112,1644707404.8150845', '-3600', '0,\"Pfaffstätten / Bahnhof \",48.018366,16.258886,0,10,true,false,false,10,false,0\\n3109,1644707404.815149', '-3600', '0,\"Baden / BH\",48.004341,16.254138,0,10,true,false,false,10,false,0\\n3163,1644707404.8152137', '-3600', '0,\"Kottingbrunn / Raiba - EKZ\",47.950731,16.227837,0,10,true,false,false,10,false,0\\n3184,1644707404.815277', '-3600', '0,\"Guntramsdorf / Bahnhof Thallern\",48.052194,16.298067,0,10,true,false,false,10,false,0\\nfb35990,1644707404.815344', '-3600', '0,\"BIKE 35990\",48.058844,16.3206,1,0,true,false,true,1,-1,0\\n#id,timestamp', 'gmt_local_diff_sec', 'gmt_servertime_diff_sec,name,lat,lon,bikes,spaces,installed,locked,temporary,total_docks,givesbonus_acceptspedelecs_fbbattlevel,pedelecs\\n3215,1644707404.8202481', '-3600', '0,\"Schwechat / Bahnhof\",48.142867,16.48233,0,10,true,false,false,10,false,0\\n3154,1644707404.8203936', '-3600', '0,\"Leopoldsdorf / Gemeindeamt\",48.107922,16.396864,0,10,true,false,false,10,false,0\\n3155,1644707404.8204656', '-3600', '0,\"Leopoldsdorf / ZIAG\",48.105017,16.402239,0,10,true,false,false,10,false,0\\n3156,1644707404.8205342', '-3600', '0,\"Leopoldsdorf / Rustenfeld\",48.124235,16.394477,0,10,true,false,false,10,false,0\\n3560,1644707404.8206027', '-3600', '0,\"Fischamend / BHF\",48.116808,16.614992,0,10,true,false,false,10,false,0\\n3168,1644707404.8206694', '-3600', '0,\"Schwechat / Concorde Businesspark\",48.138313,16.496594,0,10,true,false,false,10,false,0\\n3169,1644707404.8207355', '-3600', '0,\"Schwechat / Office Park 1\",48.122506,16.564422,0,10,true,false,false,10,false,0\\n3170,1644707404.8208015', '-3600', '0,\"Schwechat / HCW Handling Center West\",48.125009,16.549294,0,10,true,false,false,10,false,0\\n']\n"
     ]
    }
   ],
   "source": [
    "for line in station_info_list:\n",
    "    fields = line.split('|')\n",
    "    fld = list(fields)\n",
    "    print(fld)"
   ]
  },
  {
   "cell_type": "code",
   "execution_count": null,
   "id": "bb3d0883",
   "metadata": {},
   "outputs": [],
   "source": []
  }
 ],
 "metadata": {
  "kernelspec": {
   "display_name": "general_py_venv",
   "language": "python",
   "name": "general_py_venv"
  },
  "language_info": {
   "codemirror_mode": {
    "name": "ipython",
    "version": 3
   },
   "file_extension": ".py",
   "mimetype": "text/x-python",
   "name": "python",
   "nbconvert_exporter": "python",
   "pygments_lexer": "ipython3",
   "version": "3.10.7"
  },
  "varInspector": {
   "cols": {
    "lenName": 16,
    "lenType": 16,
    "lenVar": 40
   },
   "kernels_config": {
    "python": {
     "delete_cmd_postfix": "",
     "delete_cmd_prefix": "del ",
     "library": "var_list.py",
     "varRefreshCmd": "print(var_dic_list())"
    },
    "r": {
     "delete_cmd_postfix": ") ",
     "delete_cmd_prefix": "rm(",
     "library": "var_list.r",
     "varRefreshCmd": "cat(var_dic_list()) "
    }
   },
   "types_to_exclude": [
    "module",
    "function",
    "builtin_function_or_method",
    "instance",
    "_Feature"
   ],
   "window_display": false
  }
 },
 "nbformat": 4,
 "nbformat_minor": 5
}
