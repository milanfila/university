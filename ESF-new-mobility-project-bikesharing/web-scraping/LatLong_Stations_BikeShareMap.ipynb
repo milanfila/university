{
 "cells": [
  {
   "cell_type": "code",
   "execution_count": 2,
   "id": "393d62b8",
   "metadata": {},
   "outputs": [],
   "source": [
    "import requests\n",
    "import json\n",
    "import urllib\n",
    "import pandas as pd\n",
    "from itertools import islice\n",
    "import re\n",
    "import geopandas\n",
    "from shapely.geometry import Point"
   ]
  },
  {
   "cell_type": "code",
   "execution_count": 3,
   "id": "ad28bb2e",
   "metadata": {},
   "outputs": [],
   "source": [
    "def ad_details():\n",
    "    headers = {\n",
    "        'Connection': 'keep-alive',\n",
    "        'sec-ch-ua': '\" Not A;Brand\";v=\"99\", \"Chromium\";v=\"98\", \"Google Chrome\";v=\"98\"',\n",
    "        'Accept': 'application/json, text/javascript, */*; q=0.01',\n",
    "        'X-Requested-With': 'XMLHttpRequest',\n",
    "        'sec-ch-ua-mobile': '?0',\n",
    "        'User-Agent': 'Mozilla/5.0 (Windows NT 10.0; Win64; x64) AppleWebKit/537.36 (KHTML, like Gecko) Chrome/98.0.4758.82 Safari/537.36',\n",
    "        'sec-ch-ua-platform': '\"Windows\"',\n",
    "        'Sec-Fetch-Site': 'same-origin',\n",
    "        'Sec-Fetch-Mode': 'cors',\n",
    "        'Sec-Fetch-Dest': 'empty',\n",
    "        'Referer': 'https://bikesharingworldmap.com/',\n",
    "        'Accept-Language': 'cs-CZ,cs;q=0.9',\n",
    "    }\n",
    "\n",
    "    params = (\n",
    "        ('system', 'brno_bolt'),\n",
    "    )\n",
    "\n",
    "    response = requests.get('https://bikesharingworldmap.com/getsystem.php', headers=headers, params=params)\n",
    "    return response.json()"
   ]
  },
  {
   "cell_type": "code",
   "execution_count": 4,
   "id": "c8f988bb",
   "metadata": {},
   "outputs": [],
   "source": [
    "def ad_details(ad_id):\n",
    "\n",
    "    headers = {\n",
    "        'Connection': 'keep-alive',\n",
    "        'sec-ch-ua': '\" Not A;Brand\";v=\"99\", \"Chromium\";v=\"98\", \"Google Chrome\";v=\"98\"',\n",
    "        'Accept': '*/*',\n",
    "        'sec-ch-ua-mobile': '?0',\n",
    "        'User-Agent': 'Mozilla/5.0 (Windows NT 10.0; Win64; x64) AppleWebKit/537.36 (KHTML, like Gecko) Chrome/98.0.4758.82 Safari/537.36',\n",
    "        'sec-ch-ua-platform': '\"Windows\"',\n",
    "        'Origin': 'https://bikesharemap.com',\n",
    "        'Sec-Fetch-Site': 'cross-site',\n",
    "        'Sec-Fetch-Mode': 'cors',\n",
    "        'Sec-Fetch-Dest': 'empty',\n",
    "        'Referer': 'https://bikesharemap.com/',\n",
    "        'Accept-Language': 'cs-CZ,cs;q=0.9',\n",
    "    }\n",
    "\n",
    "    params = (\n",
    "        ('scheme', f'{ad_id}'),\n",
    "    )\n",
    "\n",
    "    response = requests.get('https://julie.geog.ucl.ac.uk/~ollie/bikesapi/load.php', headers=headers, params=params)\n",
    "    \n",
    "    \n",
    "    return response.text"
   ]
  },
  {
   "cell_type": "code",
   "execution_count": 5,
   "id": "336fa2a6",
   "metadata": {},
   "outputs": [],
   "source": [
    "def world():\n",
    "\n",
    "    headers = {\n",
    "        'Connection': 'keep-alive',\n",
    "        'sec-ch-ua': '\" Not A;Brand\";v=\"99\", \"Chromium\";v=\"98\", \"Google Chrome\";v=\"98\"',\n",
    "        'Accept': '*/*',\n",
    "        'sec-ch-ua-mobile': '?0',\n",
    "        'User-Agent': 'Mozilla/5.0 (Windows NT 10.0; Win64; x64) AppleWebKit/537.36 (KHTML, like Gecko) Chrome/98.0.4758.82 Safari/537.36',\n",
    "        'sec-ch-ua-platform': '\"Windows\"',\n",
    "        'Origin': 'https://bikesharemap.com',\n",
    "        'Sec-Fetch-Site': 'cross-site',\n",
    "        'Sec-Fetch-Mode': 'cors',\n",
    "        'Sec-Fetch-Dest': 'empty',\n",
    "        'Referer': 'https://bikesharemap.com/',\n",
    "        'Accept-Language': 'cs-CZ,cs;q=0.9',\n",
    "    }\n",
    "\n",
    "    params = (\n",
    "        ('unused', 'colour=0'),\n",
    "    )\n",
    "\n",
    "    response = requests.get('https://julie.geog.ucl.ac.uk/~ollie/bikesapi/systems_js.php', headers=headers, params=params)\n",
    "    return response.json()"
   ]
  },
  {
   "cell_type": "code",
   "execution_count": 6,
   "id": "d888273c",
   "metadata": {},
   "outputs": [],
   "source": [
    "world = world()"
   ]
  },
  {
   "cell_type": "code",
   "execution_count": 7,
   "id": "a1b316ce",
   "metadata": {
    "tags": []
   },
   "outputs": [],
   "source": [
    "#pd.DataFrame.from_dict(world, orient='index')"
   ]
  },
  {
   "cell_type": "code",
   "execution_count": 8,
   "id": "587c2840",
   "metadata": {
    "tags": []
   },
   "outputs": [],
   "source": [
    "#creating list with dicts of map data\n",
    "map_data_lst = []\n",
    "for key, value in world.items():\n",
    "    map_data_lst.append(value)"
   ]
  },
  {
   "cell_type": "code",
   "execution_count": 9,
   "id": "eb791adc",
   "metadata": {},
   "outputs": [],
   "source": [
    "#vytvoření listu měst jako ID\n",
    "city_lst = []\n",
    "for key, value in world.items():\n",
    "    city_lst.append(key)"
   ]
  },
  {
   "cell_type": "code",
   "execution_count": 10,
   "id": "6c9cd599",
   "metadata": {},
   "outputs": [],
   "source": [
    "#vytvoření listu pro informace ke stanicím\n",
    "station_info_list = []"
   ]
  },
  {
   "cell_type": "code",
   "execution_count": 11,
   "id": "5db7e369",
   "metadata": {
    "collapsed": true,
    "jupyter": {
     "outputs_hidden": true
    },
    "tags": []
   },
   "outputs": [
    {
     "name": "stdout",
     "output_type": "stream",
     "text": [
      "forli\n",
      "buenosaires\n",
      "aruba\n",
      "brisbane\n",
      "melbourne\n",
      "monash\n",
      "10vorwien\n",
      "amstetten\n",
      "grossenzersdorf\n",
      "haag\n",
      "hollabrunn\n",
      "innsbruck\n",
      "klagenfurt\n",
      "kremsost\n",
      "laaanderthaya\n",
      "linz\n",
      "lunzamsee\n",
      "marchfeld\n",
      "mistelbach\n",
      "modling\n",
      "neusiedlersee\n",
      "obbbahnhofe\n",
      "oberesybbstal\n",
      "piestingtal\n",
      "romerland\n",
      "serfaus\n",
      "stpolten\n",
      "traisengolsental\n",
      "tulln\n",
      "vienna\n",
      "wachau\n",
      "wrneustadt\n",
      "wienerwald\n",
      "wieselburg\n",
      "antwerp\n",
      "brussels\n",
      "ghent\n",
      "kortrijk\n",
      "namur\n",
      "zenica\n",
      "banjaluka\n",
      "sarajevo\n",
      "tuzla\n",
      "fortaleza\n",
      "petrolina\n",
      "portoalegre\n",
      "recife\n",
      "rio\n",
      "riviera\n",
      "salvador\n",
      "santos\n",
      "saopaulo\n",
      "sorocaba\n",
      "vilavelha\n",
      "dobrich\n",
      "hamilton\n",
      "montreal\n",
      "ottawa\n",
      "quebeccity\n",
      "toronto\n",
      "ubc\n",
      "vancouver\n",
      "victoria\n",
      "santiago\n",
      "lascondes\n",
      "aksu\n",
      "anji\n",
      "anqiu\n",
      "anxi\n",
      "aral\n",
      "beian\n",
      "beijing\n",
      "huairou\n",
      "changbaishan\n",
      "changle\n",
      "changping\n",
      "changshu\n",
      "changyi\n",
      "changzhou\n",
      "dajiawa\n",
      "dangtu\n",
      "danyang\n",
      "daqing\n",
      "dingtao\n",
      "dongying\n",
      "fenhu\n",
      "fuyang\n",
      "gaomi\n",
      "guilin\n",
      "hangzhou\n",
      "heihe\n",
      "heze\n",
      "hongze\n",
      "huaian\n",
      "huaibei\n",
      "huangyan\n",
      "huilongguan\n",
      "huzhou\n",
      "jian\n",
      "jining\n",
      "jinzhai\n",
      "kunshan\n",
      "linqu\n",
      "luan\n",
      "maanshan\n",
      "meizhouisland\n",
      "nantong\n",
      "nantongsouth\n",
      "pinggu\n",
      "putian\n",
      "qingpu\n",
      "qingzhou\n",
      "quangang\n",
      "quanzhou\n",
      "rugao\n",
      "ruian\n",
      "sanxiang\n",
      "shanghai\n",
      "shanghaimobike\n",
      "shaoxing\n",
      "shengze\n",
      "shenmu\n",
      "shishi\n",
      "siyang\n",
      "suzhou\n",
      "taibaozhuang\n",
      "taihe\n",
      "taizhou\n",
      "taizhoumobike\n",
      "tengzhou\n",
      "weifang\n",
      "wenling\n",
      "wenzhou\n",
      "wujin\n",
      "wuxi\n",
      "wuximobike\n",
      "xingan\n",
      "xuchang\n",
      "xuzhou\n",
      "yangzhou\n",
      "yangzi\n",
      "yantai\n",
      "yichun\n",
      "yingshang\n",
      "yiwu\n",
      "yixing\n",
      "yongcheng\n",
      "yueqing\n",
      "zaozhuang\n",
      "zhenjiang\n",
      "zhongshan\n",
      "zhucheng\n",
      "zhuhai\n",
      "brinje\n",
      "drnis\n",
      "gospic\n",
      "ivanicgrad\n",
      "jastrebarsko\n",
      "karlovac\n",
      "makarska\n",
      "metkovic\n",
      "osijek\n",
      "pitomaca\n",
      "porec\n",
      "sibenik\n",
      "sisak\n",
      "slavonskibrod\n",
      "split\n",
      "velikagorica\n",
      "vukovar\n",
      "zadar\n",
      "zagreb\n",
      "limassol\n",
      "nicosia\n",
      "northnicosia\n",
      "beroun\n",
      "brno\n",
      "frydekmistek\n",
      "havirov\n",
      "hradeckralove\n",
      "kladno\n",
      "krnov\n",
      "mladaboleslav\n",
      "olomouc\n",
      "opava\n",
      "ostrava\n",
      "pardubice\n",
      "pisek\n",
      "prague\n",
      "prostejov\n",
      "rychnovsko\n",
      "uherskehradiste\n",
      "zlin\n",
      "tallinn\n",
      "tartu\n",
      "helsinki\n",
      "oulu\n",
      "turku\n",
      "vantaa\n",
      "vuosaari\n",
      "amiens\n",
      "angers\n",
      "avignon\n",
      "belfort\n",
      "besancon\n",
      "bordeaux\n",
      "bordeauxpony\n",
      "caen\n",
      "calais\n",
      "carcassonne\n",
      "chalon\n",
      "clermontferrand\n",
      "dijon\n",
      "grenoble\n",
      "grenoblepony\n",
      "larochelle\n",
      "lille\n",
      "lyon\n",
      "marseille\n",
      "montpellier\n",
      "mulhouse\n",
      "nancy\n",
      "nantes\n",
      "nice\n",
      "parispony\n",
      "paris\n",
      "pariscergy\n",
      "pariscreteil\n",
      "reims\n",
      "rennes\n",
      "rouen\n",
      "stetienne\n",
      "strasbourg\n",
      "toulouse\n",
      "valence\n",
      "vannes\n",
      "batumi\n",
      "augsburg\n",
      "badoeynhausen\n",
      "badenbaden\n",
      "bergisch\n",
      "berlin\n",
      "berlinbuch\n",
      "bielefeld\n",
      "bochum\n",
      "bonn\n",
      "bottrop\n",
      "bremen\n",
      "bruchsal\n",
      "brunswick\n",
      "cologne\n",
      "dortmund\n",
      "dresden\n",
      "duisburg\n",
      "dusseldorf\n",
      "eckernforde\n",
      "eifel\n",
      "erfurt\n",
      "essen\n",
      "flensburg\n",
      "frankfurt\n",
      "freiburg\n",
      "friedrichshafen\n",
      "gaggenau\n",
      "gelsenkirchen\n",
      "giessen\n",
      "gutersloh\n",
      "hamburg\n",
      "hamm\n",
      "hanover\n",
      "herne\n",
      "kaiserslautern\n",
      "karlsruhe\n",
      "kassel\n",
      "kiel\n",
      "lahr\n",
      "landau\n",
      "leipzig\n",
      "leverkusen\n",
      "lippstadt\n",
      "magdeburg\n",
      "mainz\n",
      "mannheim\n",
      "marburg\n",
      "monchengladbach\n",
      "mulheimadr\n",
      "munich\n",
      "neustadt\n",
      "norderstedt\n",
      "nuremberg\n",
      "oberhausen\n",
      "offenbachammain\n",
      "offenburg\n",
      "plon\n",
      "potsdam\n",
      "preetz\n",
      "quickborn\n",
      "rendsburg\n",
      "rheinsieg\n",
      "russelsheimammain\n",
      "stuttgart\n",
      "tubingen\n",
      "usedom\n",
      "wiesbaden\n",
      "wurzburg\n",
      "gibraltar\n",
      "athenskeratsini\n",
      "athensmaroussi\n",
      "didymoteicho\n",
      "karditsa\n",
      "komotini\n",
      "budapest\n",
      "debrecen\n",
      "gyor\n",
      "reykjavik\n",
      "bhopal\n",
      "chennai\n",
      "delhi\n",
      "hyderabad\n",
      "kolkata\n",
      "ranchi\n",
      "surat\n",
      "vijayawada\n",
      "cork\n",
      "dublin\n",
      "dublinbleeper\n",
      "dublinmoby\n",
      "galway\n",
      "limerick\n",
      "telaviv\n",
      "arezzo\n",
      "bergamo\n",
      "brescia\n",
      "cadore\n",
      "cagliari\n",
      "chivasso\n",
      "como\n",
      "cremona\n",
      "genova\n",
      "imola\n",
      "laspezia\n",
      "lecce\n",
      "lecco\n",
      "livorno\n",
      "garda\n",
      "milan\n",
      "monopoli\n",
      "montecatiniterme\n",
      "monteriggioni\n",
      "monza\n",
      "olbia\n",
      "padua\n",
      "parma\n",
      "pavia\n",
      "perugia\n",
      "pisa\n",
      "reggiocalabria\n",
      "rome\n",
      "romelime\n",
      "romehelbiz\n",
      "rovereto\n",
      "sandonatomilanese\n",
      "sassari\n",
      "sestrilevante\n",
      "siena\n",
      "costablu\n",
      "taranto\n",
      "terni\n",
      "trento\n",
      "treviso\n",
      "trieste\n",
      "torino\n",
      "udine\n",
      "venice\n",
      "vercelli\n",
      "verona\n",
      "fukushima\n",
      "himeji\n",
      "hitoyoshi\n",
      "kanazawa\n",
      "kawagoe\n",
      "kitakyushu\n",
      "kumagaya\n",
      "maebashi\n",
      "matsumoto\n",
      "mishima\n",
      "morioka\n",
      "nagoya\n",
      "nikko\n",
      "okinawa\n",
      "osaka\n",
      "saga\n",
      "shizuoka\n",
      "shodoshima\n",
      "tokyo\n",
      "toyama\n",
      "tsukuba\n",
      "yokohama\n",
      "almaty\n",
      "astana\n",
      "shymkent\n",
      "kuwait\n",
      "jurmala\n",
      "riga\n",
      "byblos\n",
      "vilnius\n",
      "esch\n",
      "luxembourg\n",
      "malta\n",
      "cancun\n",
      "guadalajara\n",
      "mexicocity\n",
      "puebla\n",
      "queretaro\n",
      "sanluispotosi\n",
      "monaco\n",
      "budva\n",
      "marrakech\n",
      "dordrecht\n",
      "maastricht\n",
      "netherlands\n",
      "rotterdam\n",
      "thehague\n",
      "thehaguedonkey\n",
      "auckland\n",
      "christchurch\n",
      "bergen\n",
      "drammen\n",
      "lillestrom\n",
      "oslo\n",
      "trondheim\n",
      "bemowo\n",
      "bialystok\n",
      "bielsko\n",
      "bydgoszcz\n",
      "chorzow\n",
      "ciechanow\n",
      "czestochowa\n",
      "gliwice\n",
      "gniezno\n",
      "grodziskmazowiecki\n",
      "jastrzebie\n",
      "kalisz\n",
      "katowice\n",
      "kedzierzynkozle\n",
      "koluszki\n",
      "konin\n",
      "konstancinjeziorna\n",
      "koszalin\n",
      "kolobrzeg\n",
      "krakow\n",
      "kutno\n",
      "legnica\n",
      "lublin\n",
      "lubon\n",
      "marki\n",
      "nowydwor\n",
      "olesnica\n",
      "olesno\n",
      "opole\n",
      "ostrow\n",
      "ostroleka\n",
      "otwock\n",
      "pabianice\n",
      "pielgrzymka\n",
      "piotrkowtrybunalski\n",
      "pobiedziska\n",
      "poznan\n",
      "pszczyna\n",
      "plock\n",
      "radom\n",
      "sieradz\n",
      "skierniewice\n",
      "sokolowpodlaski\n",
      "sopot\n",
      "sosnowiec\n",
      "stalowawola\n",
      "szamotuly\n",
      "szczecin\n",
      "tarnow\n",
      "torun\n",
      "tychowo\n",
      "tychy\n",
      "warsaw\n",
      "wroclaw\n",
      "wloclawek\n",
      "zabrze\n",
      "zarki\n",
      "zdunskawola\n",
      "zgierz\n",
      "zielonagora\n",
      "zyrardow\n",
      "lask\n",
      "lodz\n",
      "lodzfreebike\n",
      "lowicz\n",
      "almeirim\n",
      "figueira\n",
      "torresvedras\n",
      "bucharest\n",
      "cluj\n",
      "saturn\n",
      "timisoara\n",
      "kazan\n",
      "moscow\n",
      "murmansk\n",
      "nizhnynovgorod\n",
      "tyumen\n",
      "kingabdullaheconomiccity\n",
      "kingfaisaluniversity\n",
      "bratislava\n",
      "nitra\n",
      "zilina\n",
      "celje\n",
      "ljubljana\n",
      "ljubljananextbike\n",
      "novagorica\n",
      "portoroz\n",
      "slovenskekonjice\n",
      "kranj\n",
      "zagorje\n",
      "changwon\n",
      "daejeon\n",
      "gongju\n",
      "sejong\n",
      "seoul\n",
      "albacete\n",
      "altea\n",
      "barcelona\n",
      "benidorm\n",
      "bilbao\n",
      "castellon\n",
      "fuerteventura\n",
      "gandia\n",
      "girona\n",
      "grancanaria\n",
      "ibiza\n",
      "lanzarote\n",
      "laspalmas\n",
      "leon\n",
      "madrid\n",
      "murcia\n",
      "palma\n",
      "santander\n",
      "zaragoza\n",
      "seville\n",
      "trescantos\n",
      "valencia\n",
      "valladolid\n",
      "gothenburg\n",
      "lund\n",
      "malmo\n",
      "stockholm\n",
      "bern\n",
      "fribourg\n",
      "geneva\n",
      "lausanne\n",
      "luzern\n",
      "lugano\n",
      "nyon\n",
      "sierre\n",
      "sion\n",
      "zug\n",
      "sursee\n",
      "zurich\n",
      "chiayi\n",
      "hsinchu\n",
      "kaohsiung\n",
      "miaoli\n",
      "taichung\n",
      "taichung2\n",
      "taipei\n",
      "taipeintu\n",
      "antalya\n",
      "canakkale\n",
      "istanbul\n",
      "izmir\n",
      "kocaeli\n",
      "konya\n",
      "manavgat\n",
      "nilufer\n",
      "ordu\n",
      "seferihisar\n",
      "abudhabi\n",
      "alain\n",
      "alsharjah\n",
      "dubai\n",
      "barnet\n",
      "basildon\n",
      "bath\n",
      "belfast\n",
      "blackpool\n",
      "bournemouthscooters\n",
      "bournemouth\n",
      "brighton\n",
      "bristol\n",
      "bruneluniversity\n",
      "cambridgemobike\n",
      "cambridgeofo\n",
      "cardiff\n",
      "chelmsford\n",
      "clacton\n",
      "colchester\n",
      "derby\n",
      "dumfries\n",
      "dundee\n",
      "edinburgh\n",
      "edinburghnb\n",
      "exeter\n",
      "falmouth\n",
      "forthvalley\n",
      "glasgow\n",
      "guildford\n",
      "londoncargo\n",
      "hereford\n",
      "inverness\n",
      "ipswichurbo\n",
      "isleofwight\n",
      "kensingtonandchelseafreebike\n",
      "kingston\n",
      "leicester\n",
      "lincoln\n",
      "liverpool\n",
      "london\n",
      "londonberyl\n",
      "londonfreebike\n",
      "londonhumanforest\n",
      "londonjump\n",
      "londonmobike\n",
      "londonobike\n",
      "londonofo\n",
      "londonurbo\n",
      "lothian\n",
      "manchester\n",
      "manchestermobike\n",
      "miltonkeynes\n",
      "miltonkeynesspin\n",
      "newcastleneuron\n",
      "newcastlemobike\n",
      "northampton\n",
      "norwich\n",
      "norwichscooters\n",
      "norwichofo\n",
      "nottingham\n",
      "nottinghamwind\n",
      "oxford\n",
      "oxfordmobike\n",
      "oxfordofo\n",
      "reading\n",
      "richmondfreebike\n",
      "sheffield\n",
      "sheffieldofo\n",
      "slough\n",
      "sloughneuron\n",
      "southampton\n",
      "stirling\n",
      "sunderland\n",
      "swanseauniversity\n",
      "universityofsurrey\n",
      "waddesdongreenway\n",
      "universityofwarwick\n",
      "watford\n",
      "westmidlands\n",
      "wolverhampton\n",
      "ivanofrakivsk\n",
      "kharkiv\n",
      "kiev\n",
      "lviv\n",
      "odesa\n",
      "vinnytsia\n",
      "montevideo\n",
      "albany\n",
      "zagsterjacksoncounty\n",
      "aspen\n",
      "atlanta\n",
      "austin\n",
      "baltimore\n",
      "baltimorejump\n",
      "bayareaskip\n",
      "beverlyhills\n",
      "birminghamalabama\n",
      "boise\n",
      "boulder\n",
      "broward\n",
      "buffalo\n",
      "zagstercarmel\n",
      "zagstercarrollton\n",
      "charleston\n",
      "charlotte\n",
      "chattanooga\n",
      "chicago\n",
      "chicagojump\n",
      "cincinnati\n",
      "zagstermbike\n",
      "coloradosprings\n",
      "howardcounty\n",
      "columbia\n",
      "columbus\n",
      "zagsterconway\n",
      "dayton\n",
      "zagsterdearborn\n",
      "denver\n",
      "zagstermeridian\n",
      "desmoines\n",
      "detroit\n",
      "eastbay\n",
      "elpaso\n",
      "forestpreserves\n",
      "fortworth\n",
      "boston\n",
      "greenville\n",
      "hailey\n",
      "zagsterharrisburg\n",
      "hoboken\n",
      "honolulu\n",
      "houston\n",
      "indianapolis\n",
      "jackson\n",
      "kona\n",
      "kansascity\n",
      "kentstateuniversity\n",
      "zagsterpurdue\n",
      "lasvegas\n",
      "lincolnne\n",
      "longbeach\n",
      "longbeachny\n",
      "zagsterlongmont\n",
      "losangeles\n",
      "louisville\n",
      "madison\n",
      "memphis\n",
      "miamibeach\n",
      "milwaukee\n",
      "minneapolis\n",
      "nashville\n",
      "neworleans\n",
      "newyorkjump\n",
      "newyorklime\n",
      "newyork\n",
      "zagsterohiostate\n",
      "omaha\n",
      "orlando\n",
      "parkcity\n",
      "zagsterpsu\n",
      "philadelphia\n",
      "phoenix\n",
      "pioneervalley\n",
      "pittsburgh\n",
      "portland\n",
      "portlandskip\n",
      "zagsterprinceton\n",
      "raleigh\n",
      "richmond\n",
      "zagsterrgvbikeshare\n",
      "mcallen\n",
      "zagsterridesolutions\n",
      "zagstersalem\n",
      "saltlakecity\n",
      "sanantonio\n",
      "sandiego\n",
      "sanfrancisco\n",
      "sanjose\n",
      "zagsterhudsonpacific\n",
      "sanmateo\n",
      "ucsb\n",
      "santacruz\n",
      "santamonica\n",
      "saratogasprings\n",
      "scheneclady\n",
      "seattle\n",
      "usf\n",
      "zagsterspacecoast\n",
      "zagsterlivewellstg\n",
      "stpetersburg\n",
      "statecollege\n",
      "stonybrookuniversity\n",
      "tampa\n",
      "topeka\n",
      "tucson\n",
      "tulsa\n",
      "ucla\n",
      "virginia\n",
      "zagstergm\n",
      "washingtondc\n",
      "washingtondcjump\n",
      "washingtondchelbiz\n",
      "washingtondcjumpscooters\n",
      "washingtondclime\n",
      "washingtondclyft\n",
      "washingtondcmobike\n",
      "washingtondcskip\n",
      "washingtondcspin\n",
      "westhollywood\n",
      "westpalmbeachflorida\n",
      "zagsterbikeshareict\n",
      "zagsterwinstonsalem\n"
     ]
    }
   ],
   "source": [
    "#proces plnění listu informacemi ze stanic a plnění listu ID jako města\n",
    "cities = []\n",
    "for item in map_data_lst:\n",
    "    _id = item['id']\n",
    "    cities.append(_id)\n",
    "    #print(_id)\n",
    "    ad_station_info = ad_details(_id)\n",
    "    station_info_list.append(ad_station_info)"
   ]
  },
  {
   "cell_type": "code",
   "execution_count": 12,
   "id": "9f218634",
   "metadata": {},
   "outputs": [
    {
     "data": {
      "text/plain": [
       "796"
      ]
     },
     "execution_count": 12,
     "metadata": {},
     "output_type": "execute_result"
    }
   ],
   "source": [
    "len(cities)"
   ]
  },
  {
   "cell_type": "code",
   "execution_count": 13,
   "id": "64a81830",
   "metadata": {
    "collapsed": true,
    "jupyter": {
     "outputs_hidden": true
    },
    "tags": []
   },
   "outputs": [
    {
     "data": {
      "text/plain": [
       "['#id,timestamp|gmt_local_diff_sec|gmt_servertime_diff_sec,name,lat,lon,bikes,spaces,installed,locked,temporary,total_docks,givesbonus_acceptspedelecs_fbbattlevel,pedelecs\\n700,1644918603.4446523|-3600|0,\"01. Stazione FS\",44.223352,12.055386,9,14,true,false,false,24,false,0\\n701,1644918603.4448013|-3600|0,\"02. Vittoria\",44.217607,12.050157,4,6,true,false,false,10,false,0\\n702,1644918603.4449384|-3600|0,\"03. Vittorio Veneto\",44.227917,12.042153,8,7,true,false,false,16,false,0\\n703,1644918603.4450727|-3600|0,\"04. Piazza Saffi\",44.223322,12.041495,15,11,true,false,false,28,false,0\\n704,1644918603.4452188|-3600|0,\"05. San Domenico\",44.222041,12.036168,1,13,true,false,false,14,false,0\\n705,1644918603.4453604|-3600|0,\"06. Park dell\\'Argine\",44.218927,12.032757,9,11,true,false,false,21,false,0\\n706,1644918603.4455001|-3600|0,\"07. Park Schiavonia\",44.226215,12.028287,1,5,true,false,false,6,false,0\\n1397,1644918603.445636|-3600|0,\"09. Campus Universitario I\",44.219257,12.042756,4,5,true,false,false,9,false,0\\n1398,1644918603.4457433|-3600|0,\"10. Park Oriani\",44.221137,12.049119,3,5,true,false,false,8,false,0\\n1399,1644918603.4458475|-3600|0,\"11. Campus Universitario II\",44.217696,12.044369,3,7,true,false,false,10,false,0\\n1673,1644918603.4459524|-3600|0,\"12. XX Settembre\",44.222188,12.042997,3,4,true,false,false,7,false,0\\n1674,1644918603.4460547|-3600|0,\"13. BIKE POINT Park Lombardini\",44.217425,12.041227,0,8,true,false,false,8,false,0\\n1675,1644918603.4461653|-3600|0,\"14. BIKE POINT Park Manzoni\",44.223120,12.047737,7,1,true,false,false,8,false,0\\n',\n",
       " '#id,timestamp|gmt_local_diff_sec|gmt_servertime_diff_sec,name,lat,lon,bikes,spaces,installed,locked,temporary,total_docks,givesbonus_acceptspedelecs_fbbattlevel,pedelecs\\n2,1644918841|10800|0,\"002 - Retiro I\",-34.5924233,-58.3747151,9,10,true,false,false,20,,0\\n3,1644918841|10800|0,\"003 - ADUANA\",-34.611032,-58.3682604,3,17,true,false,false,20,,0\\n4,1644918841|10800|0,\"004 - Plaza Roma\",-34.601822,-58.368781,0,20,true,false,false,20,,0\\n5,1644918841|10800|0,\"005 - Plaza Italia\",-34.5805497,-58.4209542,9,33,true,false,false,42,,0\\n6,1644918841|10800|0,\"006 - Parque Lezama\",-34.628526,-58.369758,8,11,true,false,false,20,,0\\n7,1644918841|10800|0,\"007 - OBELISCO\",-34.606498,-58.381098,1,15,true,false,false,16,,0\\n8,1644918841|10800|0,\"008 - Congreso\",-34.6094218,-58.3893364,3,20,true,false,false,24,,0\\n9,1644918841|10800|0,\"009 - Parque Las Heras\",-34.585443,-58.407741,4,20,true,false,false,24,,0\\n12,1644918841|10800|0,\"012 - Plaza Vicente Lopez\",-34.5927096,-58.388807,0,16,true,false,false,16,,0\\n13,1644918841|10800|0,\"013 - ONCE\",-34.61009,-58.406,2,28,true,false,false,30,,0\\n14,1644918841|10800|0,\"014 - Pacifico\",-34.577424,-58.426387,17,12,true,false,false,30,,0\\n17,1644918841|10800|0,\"017 - Plaza Almagro\",-34.6064101,-58.4187306,7,11,true,false,false,20,,0\\n20,1644918841|10800|0,\"020 - Distrito Audiovisual\",-34.5798619,-58.4417756,4,14,true,false,false,20,,0\\n21,1644918841|10800|0,\"021 - Parque Patricios\",-34.640111,-58.406432,24,0,true,false,false,24,,0\\n22,1644918841|10800|0,\"022 - Arenales\",-34.5938629,-58.3825498,0,20,true,false,false,20,,0\\n23,1644918841|10800|0,\"023 - Suipacha\",-34.600139,-58.379836,0,12,true,false,false,12,,0\\n24,1644918841|10800|0,\"024 - ALSINA\",-34.610583,-58.3808943,1,17,true,false,false,18,,0\\n25,1644918841|10800|0,\"025 - Plaza Guemes\",-34.5894269,-58.4161178,4,20,true,false,false,24,,0\\n26,1644918841|10800|0,\"026 - JUANA MANSO I\",-34.600752,-58.3638723,2,22,true,false,false,24,,0\\n27,1644918841|10800|0,\"027 - Montevideo\",-34.599068,-58.3900887,4,11,true,false,false,16,,0\\n29,1644918841|10800|0,\"029 - Parque Centenario\",-34.6079414,-58.4335573,17,12,true,false,false,30,,0\\n30,1644918841|10800|0,\"030 - Peña\",-34.5908211,-58.3973698,7,12,true,false,false,20,,0\\n32,1644918841|10800|0,\"032 - Catedral\",-34.6072074,-58.3735984,1,15,true,false,false,16,,0\\n33,1644918841|10800|0,\"033 - Facultad de Medicina\",-34.5970909,-58.3989807,2,18,true,false,false,20,,0\\n35,1644918841|10800|0,\"035 - INGENIERO BUTTY\",-34.5964246,-58.371847,0,20,true,false,false,20,,0\\n36,1644918841|10800|0,\"036 - MAIPÚ\",-34.6045481,-58.3767677,1,15,true,false,false,16,,0\\n38,1644918841|10800|0,\"038 - Plaza Libertad\",-34.5970497,-58.3828403,3,16,true,false,false,20,,0\\n41,1644918841|10800|0,\"041 - Urquiza y Rondeau\",-34.6364511,-58.4076348,15,3,true,false,false,20,,0\\n43,1644918841|10800|0,\"334 - CENTRO DE EXPOSICIONES\",-34.584018,-58.389921,18,2,true,false,false,20,,0\\n44,1644918841|10800|0,\"044 - Ecoparque\",-34.5755148,-58.4138829,9,11,true,false,false,20,,0\\n45,1644918841|10800|0,\"045 - Uruguay\",-34.6018635,-58.3866934,0,20,true,false,false,20,,0\\n46,1644918841|10800|0,\"046 - Chile\",-34.6163012,-58.3743749,2,16,true,false,false,18,,0\\n48,1644918841|10800|0,\"034 - Colonia Express\",-34.624255,-58.362131,1,15,true,false,false,16,,0\\n49,1644918841|10800|0,\"049 - 33 Orientales\",-34.6290527,-58.422611,3,9,true,false,false,16,,0\\n50,1644918841|10800|0,\"050 - Hospital Rivadavia\",-34.5837348,-58.4010798,4,13,true,false,false,20,,0\\n51,1644918841|10800|0,\"051 - TUCUMAN\",-34.6014776,-58.3821261,0,11,true,false,false,12,,0\\n54,1644918841|10800|0,\"054 - Acuña de Figueroa\",-34.5982097,-58.4220694,7,6,true,false,false,16,,0\\n56,1644918841|10800|0,\"056 - Plaza Palermo Viejo\",-34.588567,-58.425999,3,13,true,false,false,16,,0\\n58,1644918841|10800|0,\"058 - Ministro Carranza\",-34.5752773,-58.4346883,4,15,true,false,false,20,,0\\n59,1644918841|10800|0,\"018 - Independencia\",-34.617654,-58.380565,3,17,true,false,false,20,,0\\n60,1644918841|10800|0,\"060 - 25 De Mayo\",-34.6016509,-58.371079,0,20,true,false,false,20,,0\\n61,1644918841|10800|0,\"098 - AV. ALVAREZ JONTE Y BENITO JUAREZ\",-34.61880867765093,-58.504662916142756,13,3,true,false,false,16,,0\\n63,1644918841|10800|0,\"063 - Reconquista\",-34.5986,-58.373062,0,20,true,false,false,20,,0\\n64,1644918841|10800|0,\"064 - RIOBAMBA\",-34.5936508,-58.3941087,2,18,true,false,false,20,,0\\n65,1644918841|10800|0,\"065 - Julián Álvarez\",-34.5873124,-58.4157873,1,19,true,false,false,21,,0\\n66,1644918841|10800|0,\"066 - Billinghurst\",-34.5945475,-58.4138713,4,16,true,false,false,20,,0\\n68,1644918841|10800|0,\"105 - PARQUE SAAVEDRA\",-34.552148,-58.480464,11,3,true,false,false,16,,0\\n69,1644918841|10800|0,\"069 - Ecuador\",-34.5961006,-58.4046092,9,7,true,false,false,16,,0\\n70,1644918841|10800|0,\"070 - ARAOZ\",-34.5926862,-58.4260597,3,17,true,false,false,20,,0\\n71,1644918841|10800|0,\"071 - CERRITO\",-34.6026673,-58.3833559,3,27,true,false,false,30,,0\\n73,1644918841|10800|0,\"073 - Ruy Díaz de Guzmán\",-34.6306814,-58.3718235,15,1,true,false,false,16,,0\\n74,1644918841|10800|0,\"074 - INSTITUTO  LELOIR\",-34.60439,-58.43454,13,16,true,false,false,30,,0\\n75,1644918841|10800|0,\"075 - Plaza Primero de Mayo\",-34.6122976,-58.3989871,18,0,true,false,false,20,,0\\n76,1644918841|10800|0,\"076 - Ayacucho\",-34.6074084,-58.3950548,5,9,true,false,false,20,,0\\n77,1644918841|10800|0,\"109 - ESTACION PUEYRREDON\",-34.581135,-58.501487,12,3,true,false,false,16,,0\\n79,1644918841|10800|0,\"079 - AZUCENA VILLAFLOR\",-34.61189,-58.36393,0,29,true,false,false,30,,0\\n80,1644918841|10800|0,\"080 - DOBLAS\",-34.624435,-58.4303766,11,4,true,false,false,16,,0\\n82,1644918841|10800|0,\"082 - HOSPITAL ITALIANO\",-34.6078917,-58.4263947,9,11,true,false,false,20,,0\\n83,1644918841|10800|0,\"083 - Paraná\",-34.603269,-58.3893728,0,19,true,false,false,20,,0\\n84,1644918841|10800|0,\"084 - Lavalle\",-34.6023203,-58.3955144,3,16,true,false,false,20,,0\\n85,1644918841|10800|0,\"085 - AGUERO\",-34.5948057,-58.4091784,2,18,true,false,false,20,,0\\n86,1644918841|10800|0,\"086 - SAAVEDRA\",-34.6212681,-58.4016808,1,18,true,false,false,20,,0\\n87,1644918841|10800|0,\"087 - Guayaquil\",-34.619845,-58.4314942,13,1,true,false,false,16,,0\\n89,1644918841|10800|0,\"089 - Cabello\",-34.5825475,-58.4056671,9,9,true,false,false,20,,0\\n91,1644918841|10800|0,\"091 - Pasco\",-34.6174482,-58.397602,5,14,true,false,false,20,,0\\n92,1644918841|10800|0,\"092 - Salcedo\",-34.6316444,-58.4053386,13,7,true,false,false,20,,0\\n93,1644918841|10800|0,\"093 - CARLOS CALVO\",-34.620798,-58.3944635,7,12,true,false,false,20,,0\\n94,1644918841|10800|0,\"094 - GÚZMAN\",-34.591511,-58.449652,11,18,true,false,false,30,,0\\n95,1644918841|10800|0,\"095 - ESMERALDA\",-34.6021121,-58.3781678,5,11,true,false,false,16,,0\\n96,1644918841|10800|0,\"096 - Carlos Gardel\",-34.6027814,-58.4116586,6,11,true,false,false,20,,0\\n98,1644918841|10800|0,\"037- Claudia Pía Baudracco\",-34.6081643,-58.3779002,1,15,true,false,false,16,,0\\n99,1644918841|10800|0,\"099 - Malabia\",-34.5960961,-58.435408,12,6,true,false,false,20,,0\\n101,1644918841|10800|0,\"101 - Fitz Roy\",-34.5891857,-58.4424397,6,14,true,false,false,20,,0\\n104,1644918841|10800|0,\"104 - Federico Lacroze\",-34.587617,-58.455212,16,14,true,false,false,30,,0\\n107,1644918841|10800|0,\"107 - HOSPITAL GARRAHAN\",-34.630374,-58.395852,3,12,true,false,false,16,,0\\n111,1644918841|10800|0,\"111 - MACACHA GUEMES\",-34.6054877,-58.3646858,0,28,true,false,false,30,,0\\n112,1644918841|10800|0,\"112 - 9 de Julio\",-34.612075,-58.380384,0,20,true,false,false,20,,0\\n114,1644918841|10800|0,\"114 - DELLA PAOLERA\",-34.5949745,-58.3722554,2,18,true,false,false,20,,0\\n116,1644918841|10800|0,\"116 - HOSPITAL ALEMÁN\",-34.5921708,-58.4025894,7,5,true,false,false,12,,0\\n117,1644918841|10800|0,\"117 - HUMBERTO 1°\",-34.6201008,-58.3741759,2,11,true,false,false,16,,0\\n118,1644918841|10800|0,\"118 - MEXICO\",-34.6170196,-58.4026531,0,20,true,false,false,20,,0\\n120,1644918841|10800|0,\"120 - HOSPITAL RAMOS MEJIA\",-34.617509,-58.4092876,3,17,true,false,false,20,,0\\n121,1644918841|10800|0,\"121 - YATAY\",-34.6011732,-58.4285093,5,14,true,false,false,20,,0\\n124,1644918841|10800|0,\"124 - UGARTECHE\",-34.580538,-58.411965,13,4,true,false,false,20,,0\\n126,1644918841|10800|0,\"126 - Ministerio de Justicia y Seguridad\",-34.6402672,-58.3692243,9,7,true,false,false,16,,0\\n128,1644918841|10800|0,\"128 - PARQUE DEL BAJO\",-34.6041138,-58.3689118,2,18,true,false,false,20,,0\\n130,1644918841|10800|0,\"130 - RETIRO II\",-34.5921056,-58.3745419,15,24,true,false,false,40,,0\\n131,1644918841|10800|0,\"131- HOSPITAL DE CLÍNICAS\",-34.5984043,-58.3990158,2,14,true,false,false,16,,0\\n132,1644918841|10800|0,\"132 - CORRIENTES\",-34.6033685,-58.372763,2,10,true,false,false,12,,0\\n134,1644918841|10800|0,\"134 - SOLDADO DE LA FRONTERA\",-34.68294,-58.4659,7,4,true,false,false,12,,0\\n135,1644918841|10800|0,\"135 - MARCELO T. DE ALVEAR\",-34.5972818,-58.3787856,2,18,true,false,false,20,,0\\n137,1644918841|10800|0,\"137 - AZOPARDO Y CHILE\",-34.6155977,-58.3674923,4,16,true,false,false,20,,0\\n138,1644918841|10800|0,\"138 - Hospital Britanico\",-34.6353595,-58.3876724,9,3,true,false,false,12,,0\\n144,1644918841|10800|0,\"144 - PUEYRREDÓN\",-34.6018744,-58.4060944,6,12,true,false,false,20,,0\\n146,1644918841|10800|0,\"146 - Hospital Francés\",-34.6221118,-58.4078419,3,16,true,false,false,20,,0\\n149,1644918841|10800|0,\"149 - LIMA\",-34.6153266,-58.3813642,1,14,true,false,false,16,,0\\n150,1644918841|10800|0,\"150 - RODRIGO BUENO\",-34.6187547,-58.3554654,10,19,true,false,false,30,,0\\n151,1644918841|10800|0,\"151 - AIME PAINÉ\",-34.6118145,-58.361285,0,23,true,false,false,24,,0\\n152,1644918841|10800|0,\"152 - JULIETA LANTERI\",-34.6181645,-58.3596311,11,5,true,false,false,20,,0\\n153,1644918841|10800|0,\"153 - JUAN MANUEL DE BLANES\",-34.6307765,-58.3620701,10,6,true,false,false,16,,0\\n155,1644918841|10800|0,\"155 - Parque José Evaristo Uriburu\",-34.64117,-58.412408,19,1,true,false,false,20,,0\\n156,1644918841|10800|0,\"156 - Plaza Alemania\",-34.5775895,-58.4074696,11,9,true,false,false,20,,0\\n158,1644918841|10800|0,\"158 - VILLARROEL\",-34.592735,-58.4450697,12,8,true,false,false,20,,0\\n161,1644918841|10800|0,\"161 - Humahuaca\",-34.6020779,-58.4196761,1,14,true,false,false,20,,0\\n162,1644918841|10800|0,\"162 - LARREA Y BARTOLOMÉ MITRE\",-34.608985,-58.401924,8,11,true,false,false,20,,0\\n163,1644918841|10800|0,\"163 - ONCE II\",-34.6095663,-58.4064308,4,23,true,false,false,30,,0\\n164,1644918841|10800|0,\"164 - FACULTAD DE INGENIERIA\",-34.6181442,-58.3669021,1,18,true,false,false,20,,0\\n165,1644918841|10800|0,\"165 - PLAZA MONSEÑOR MIGUEL DE ANDREA\",-34.597048,-58.407614,1,11,true,false,false,12,,0\\n166,1644918841|10800|0,\"166 - Cementerio de Recoleta\",-34.588346663239754,-58.394147942865644,0,12,true,false,false,12,,0\\n167,1644918841|10800|0,\"275 - PLAZA 24 DE SEPTIEMBRE\",-34.606984,-58.44854,9,7,true,false,false,16,,0\\n168,1644918841|10800|0,\"168 - Estados Unidos\",-34.6186217,-58.3812271,3,13,true,false,false,16,,0\\n169,1644918841|10800|0,\"169 - FACULTAD DE PSICOLOGIA\",-34.6123459,-58.411856,4,7,true,false,false,12,,0\\n171,1644918841|10800|0,\"171 - Pasteur\",-34.6032813,-58.3997553,2,17,true,false,false,20,,0\\n172,1644918841|10800|0,\"172 - BRASIL\",-34.625426,-58.371082,1,15,true,false,false,16,,0\\n174,1644918841|10800|0,\"174 - MINISTERIO DE EDUCACION\",-34.597225,-58.391768,1,19,true,false,false,20,,0\\n175,1644918841|10800|0,\"147 - Constitución\",-34.626851,-58.380707,26,8,true,false,false,36,,0\\n176,1644918841|10800|0,\"067 - PARQUE SARMIENTO I\",-34.555254,-58.494845,6,10,true,false,false,16,,0\\n179,1644918841|10800|0,\"179 - CASA SAN\",-34.6384786,-58.3642885,14,0,true,false,false,16,,0\\n181,1644918841|10800|0,\"181 - BILLINGHURST Y MANSILLA\",-34.5926649,-58.4120072,1,19,true,false,false,20,,0\\n182,1644918841|10800|0,\"182 - RAVIGNANI Y GUATEMALA\",-34.5780479,-58.4352466,4,13,true,false,false,20,,0\\n183,1644918841|10800|0,\"183 - VIRREY CEVALLOS\",-34.6156994,-58.3899728,8,11,true,false,false,20,,0\\n184,1644918841|10800|0,\"184 - Pedro Echague\",-34.6306129,-58.3913419,6,13,true,false,false,20,,0\\n186,1644918841|10800|0,\"186 - MANZANA 66\",-34.6136356,-58.4064415,3,17,true,false,false,20,,0\\n187,1644918841|10800|0,\"261 - QUINTEROS LIDORO\",-34.552571,-58.450897,15,1,true,false,false,16,,0\\n188,1644918841|10800|0,\"373 - Jorgelina De Simone\",-34.623923,-58.3904814,10,5,true,false,false,16,,0\\n189,1644918841|10800|0,\"189 - POSADAS\",-34.5886889,-58.3852113,1,18,true,false,false,20,,0\\n190,1644918841|10800|0,\"190 - JUNCAL\",-34.5850763,-58.4111136,0,19,true,false,false,20,,0\\n191,1644918841|10800|0,\"191 - Rivadavia y 9 de Julio\",-34.6079305,-58.3808358,7,9,true,false,false,16,,0\\n193,1644918841|10800|0,\"193 - ARENALES Y AGUERO\",-34.5908626,-58.4061652,8,12,true,false,false,20,,0\\n194,1644918841|10800|0,\"194 - PERÓN Y ACUÑA DE FIGUEROA\",-34.6060758,-58.4224635,3,12,true,false,false,16,,0\\n196,1644918841|10800|0,\"196 - HOSPITAL ARGERICH\",-34.6275351,-58.3657211,15,1,true,false,false,20,,0\\n197,1644918841|10800|0,\"197 - PLAZA CIUDAD DE UDINE\",-34.620998,-58.493044,17,2,true,false,false,20,,0\\n199,1644918841|10800|0,\"199 - ESTADOS UNIDOS Y BOEDO\",-34.6222601,-58.4160137,11,5,true,false,false,20,,0\\n200,1644918841|10800|0,\"200 - AUSTRIA Y FRENCH\",-34.5890696,-58.40536170000001,2,13,true,false,false,15,,0\\n202,1644918841|10800|0,\"001 - FACULTAD DE DERECHO\",-34.583749,-58.390602,28,1,true,false,false,30,,0\\n203,1644918841|10800|0,\"108 - Usina del Arte\",-34.628757,-58.356259,18,3,true,false,false,24,,0\\n204,1644918841|10800|0,\"167 - Hipólito Yrigoyen\",-34.614948,-58.427818,14,9,true,false,false,24,,0\\n205,1644918841|10800|0,\"125 - F.J.Santamaria de Oro\",-34.583323,-58.428016,0,15,true,false,false,16,,0\\n206,1644918841|10800|0,\"159 - Fitz Roy & Gorriti\",-34.58495,-58.437339,6,10,true,false,false,16,,0\\n207,1644918841|10800|0,\"123 - BASUALDO Y RODO\",-34.649323859081555,-58.4926339870569,9,5,true,false,false,16,,0\\n210,1644918841|10800|0,\"335 - General Urquiza\",-34.572165,-58.411278,6,14,true,false,false,20,,0\\n212,1644918841|10800|0,\"129 - Velasco\",-34.600275,-58.434875,7,11,true,false,false,20,,0\\n213,1644918841|10800|0,\"136 - Acevedo\",-34.599659,-58.442685,16,3,true,false,false,20,,0\\n214,1644918841|10800|0,\"142 - Armenia y Gorriti\",-34.590541,-58.428974,4,12,true,false,false,16,,0\\n215,1644918841|10800|0,\"113 - Guatemala\",-34.585878,-58.424996,4,15,true,false,false,20,,0\\n216,1644918841|10800|0,\"059 - Coronel Diaz\",-34.589968,-58.411493,4,16,true,false,false,20,,0\\n219,1644918841|10800|0,\"140 - Las Casas\",-34.6360274,-58.4156332,11,1,true,false,false,16,,0\\n220,1644918841|10800|0,\"097 - Avelino Diaz\",-34.635128,-58.427573,13,2,true,false,false,16,,0\\n222,1644918841|10800|0,\"160 - Godoy Cruz y Libertador\",-34.572583,-58.420628,12,7,true,false,false,20,,0\\n223,1644918841|10800|0,\"178 - José Marmol\",-34.6234,-58.424853,5,8,true,false,false,16,,0\\n227,1644918841|10800|0,\"188 - Aranguren\",-34.610456,-58.432786,3,14,true,false,false,20,,0\\n229,1644918841|10800|0,\"243 - PLAZOLETA CELEDONIO FLORES\",-34.581576,-58.45153,7,4,true,false,false,12,,0\\n230,1644918841|10800|0,\"259 - PLAZA CASTELLI\",-34.5678255,-58.4645037,6,9,true,false,false,16,,0\\n231,1644918841|10800|0,\"384 - PLAZA BENITO NAZAR\",-34.605109,-58.445897,10,5,true,false,false,16,,0\\n232,1644918841|10800|0,\"252 - Tamborini\",-34.5599779,-58.4790578,8,12,true,false,false,20,,0\\n235,1644918841|10800|0,\"281 - Villa Urquiza\",-34.573795,-58.487074,8,13,true,false,false,24,,0\\n236,1644918841|10800|0,\"254 - Plaza Rafael Hernandez\",-34.562161,-58.455166,6,9,true,false,false,16,,0\\n237,1644918841|10800|0,\"302 - ESTACION VILLA LURO\",-34.63670935917866,-58.50135525810292,7,9,true,false,false,16,,0\\n239,1644918841|10800|0,\"391 - Plaza República de Ecuador\",-34.565091,-58.420702,13,6,true,false,false,20,,0\\n241,1644918841|10800|0,\"348 - Villa del Parque\",-34.600874,-58.494123,5,7,true,false,false,12,,0\\n242,1644918841|10800|0,\"103 - MALBA\",-34.57716,-58.403214,0,20,true,false,false,20,,0\\n245,1644918841|10800|0,\"248 - Husares\",-34.552594,-58.4429397,10,5,true,false,false,16,,0\\n247,1644918841|10800|0,\"282 - Tronador\",-34.5838957,-58.466494,4,11,true,false,false,18,,0\\n248,1644918841|10800|0,\"346 - Plaza Zapiola\",-34.573522,-58.474635,17,2,true,false,false,20,,0\\n249,1644918841|10800|0,\"307 - LEONARDO PEREYRA\",-34.649506877132595,-58.38912434455312,10,3,true,false,false,16,,0\\n251,1644918841|10800|0,\"388 - Plaza Jose C Paz\",-34.64485797668555,-58.4097486603218,10,1,true,false,false,12,,0\\n252,1644918841|10800|0,\"331 - CALIFORNIA\",-34.647121,-58.374336,7,9,true,false,false,16,,0\\n254,1644918841|10800|0,\"276 - PRIMERA JUNTA\",-34.620717,-58.441607,14,1,true,false,false,16,,0\\n255,1644918841|10800|0,\"374 - Puan\",-34.622092,-58.448547,12,2,true,false,false,16,,0\\n257,1644918841|10800|0,\"264 - Plaza Marcos Sastre\",-34.570825,-58.481236,12,8,true,false,false,24,,0\\n258,1644918841|10800|0,\"336 - La Pampa\",-34.565521,-58.455334,6,9,true,false,false,16,,0\\n261,1644918841|10800|0,\"272 - Plaza Bruno Giordano\",-34.616151,-58.440584,11,4,true,false,false,16,,0\\n262,1644918841|10800|0,\"349 - Plaza Saenz Peña\",-34.60976,-58.467477,15,1,true,false,false,16,,0\\n263,1644918841|10800|0,\"270 - PLAZA DEL ANGEL GRIS\",-34.622003,-58.457555,8,3,true,false,false,12,,0\\n265,1644918841|10800|0,\"361 - Plaza Don Segundo Sombra\",-34.64196,-58.4505,10,5,true,false,false,16,,0\\n267,1644918841|10800|0,\"315 - BEIRO Y SAN MARTÍN\",-34.5976121,-58.4985424,10,4,true,false,false,16,,0\\n268,1644918841|10800|0,\"399 - GARCIA DEL RIO\",-34.550015,-58.476521,26,0,true,false,false,28,,0\\n269,1644918841|10800|0,\"260 - SAN MIGUEL DE GARICOITS\",-34.577329,-58.457799,16,0,true,false,false,18,,0\\n270,1644918841|10800|0,\"370 - Beauchef\",-34.640114,-58.43026,17,3,true,false,false,20,,0\\n271,1644918841|10800|0,\"365 - Venancio Flores\",-34.630108,-58.473844,14,6,true,false,false,20,,0\\n273,1644918841|10800|0,\"223 - GAINZA\",-34.616758,-58.446751,13,1,true,false,false,16,,0\\n275,1644918841|10800|0,\"256 - PLAZA NORUEGA\",-34.562396,-58.459148,10,9,true,false,false,20,,0\\n277,1644918841|10800|0,\"292 - PLAZA BOLIVIA\",-34.563539,-58.436115,2,8,true,false,false,12,,0\\n278,1644918841|10800|0,\"233 - MONROE\",-34.564122,-58.469813,8,8,true,false,false,16,,0\\n280,1644918841|10800|0,\"222 - SIMON BOLIVAR\",-34.633528,-58.449379,22,1,true,false,false,24,,0\\n281,1644918841|10800|0,\"350 - Plaza Irlanda\",-34.613778,-58.458315,17,2,true,false,false,24,,0\\n284,1644918841|10800|0,\"229 - RIGLOS\",-34.631018,-58.435056,15,5,true,false,false,20,,0\\n289,1644918841|10800|0,\"255 - BARRANCAS DE BELGRANO\",-34.559801,-58.448314,11,10,true,false,false,24,,0\\n291,1644918841|10800|0,\"244 - UADE\",-34.617247,-58.381627,0,15,true,false,false,16,,0\\n294,1644918841|10800|0,\"363 - Udaondo\",-34.5458835,-58.4520062,18,1,true,false,false,20,,0\\n299,1644918841|10800|0,\"221 - CULPINA\",-34.631705,-58.466143,14,6,true,false,false,20,,0\\n301,1644918841|10800|0,\"309 - UTN II\",-34.66036165776025,-58.4676386893849,18,2,true,false,false,20,,0\\n302,1644918841|10800|0,\"340 - PLAZA NUEVA POMPEYA\",-34.6518464,-58.415771,15,0,true,false,false,16,,0\\n304,1644918841|10800|0,\"395 - Agronomia II\",-34.58938,-58.4847,5,10,true,false,false,16,,0\\n307,1644918841|10800|0,\"341 - COMUNA 4\",-34.65050475967216,-58.424671969909355,11,0,true,false,false,12,,0\\n308,1644918841|10800|0,\"251 - Solar de la Abadía\",-34.567633,-58.436752,17,3,true,false,false,20,,0\\n309,1644918841|10800|0,\"298 - PLAZA DR. JUAN B. TERAN\",-34.62141207128675,-58.51978098730658,11,3,true,false,false,16,,0\\n310,1644918841|10800|0,\"356 - ESTACIÓN LUGANO\",-34.67735630418917,-58.47665863333657,2,10,true,false,false,14,,0\\n311,1644918841|10800|0,\"213 - Hospital Alvear\",-34.5972098,-58.47421143,12,8,true,false,false,20,,0\\n316,1644918841|10800|0,\"205 - SAN MARTIN\",-34.605567,-58.453475,11,3,true,false,false,16,,0\\n318,1644918841|10800|0,\"285 - ESPINOSA\",-34.603936,-58.457317,17,2,true,false,false,20,,0\\n322,1644918841|10800|0,\"289 - MONTAÑESES\",-34.551304,-58.454181,18,2,true,false,false,20,,0\\n323,1644918841|10800|0,\"240 - ECHEVERRIA\",-34.565409,-58.459298,19,5,true,false,false,24,,0\\n324,1644918841|10800|0,\"280 - JURAMENTO\",-34.578933,-58.4840556,3,12,true,false,false,16,,0\\n327,1644918841|10800|0,\"366 - VILLA OLÍMPICA\",-34.677130515662185,-58.454286054001386,5,11,true,false,false,16,,0\\n329,1644918841|10800|0,\"100 - Plaza Gurruchaga\",-34.593141,-58.435187,8,12,true,false,false,20,,0\\n333,1644918841|10800|0,\"203 - Beiro\",-34.6008,-58.50335,13,7,true,false,false,20,,0\\n335,1644918841|10800|0,\"206 - Galicia\",-34.615945,-58.47098,18,1,true,false,false,20,,0\\n336,1644918841|10800|0,\"207 - PLAZA ARENALES\",-34.5999173,-58.5114159,27,0,true,false,false,28,,0\\n340,1644918841|10800|0,\"359 - PLAZA BALCARCE\",-34.54754,-58.467844,14,5,true,false,false,20,,0\\n342,1644918841|10800|0,\"218 - Campana\",-34.616813,-58.484297,10,9,true,false,false,20,,0\\n348,1644918841|10800|0,\"231 - Margariños Cervantes\",-34.610482,-58.474369,9,0,true,false,false,12,,0\\n353,1644918841|10800|0,\"237 - Madero Office\",-34.599036,-58.364695,2,15,true,false,false,20,,0\\n355,1644918841|10800|0,\"242 - Plazoleta Rafael del Riego\",-34.567483,-58.446381,6,10,true,false,false,16,,0\\n358,1644918841|10800|0,\"249 - Balbín\",-34.561486,-58.465586,11,1,true,false,false,12,,0\\n359,1644918841|10800|0,\"250 - Fleni\",-34.555602,-58.450479,20,0,true,false,false,20,,0\\n361,1644918841|10800|0,\"258 - Plaza J.J. Paso\",-34.569187,-58.453608,4,16,true,false,false,20,,0\\n363,1644918841|10800|0,\"354 - José Martí\",-34.6439,-58.463114,16,0,true,false,false,16,,0\\n364,1644918841|10800|0,\"381 - Matienzo Y Arce\",-34.568693,-58.43447,20,4,true,false,false,24,,0\\n366,1644918841|10800|0,\"360 - Plaza Ramon Falcon\",-34.63562929312515,-58.482770573412935,10,2,true,false,false,12,,0\\n367,1644918841|10800|0,\"287 - Belaustegui\",-34.61621214148026,-58.47720947344651,10,6,true,false,false,16,,0\\n368,1644918841|10800|0,\"378 - AGRONOMIA\",-34.59807,-58.482079,6,6,true,false,false,12,,0\\n369,1644918841|10800|0,\"304 - Navarro\",-34.592244,-58.491797,6,10,true,false,false,16,,0\\n370,1644918841|10800|0,\"305 - Plaza Martin Rodriguez\",-34.590964,-58.500336,16,4,true,false,false,20,,0\\n372,1644918841|10800|0,\"322 - MARTÍ Y DIRECTORIO\",-34.636406,-58.470136,11,1,true,false,false,12,,0\\n373,1644918841|10800|0,\"265 - Plaza Exodo Jujeño\",-34.582336918286785,-58.48108314683206,6,10,true,false,false,16,,0\\n374,1644918841|10800|0,\"367 - Eva Perón\",-34.646911365478765,-58.4699753897715,14,2,true,false,false,16,,0\\n375,1644918841|10800|0,\"301 - Arregui Y Terrada\",-34.604597356692906,-58.48481211614322,4,11,true,false,false,16,,0\\n376,1644918841|10800|0,\"324 - Las Victorias\",-34.626778,-58.487078,14,6,true,false,false,20,,0\\n378,1644918841|10800|0,\"215 - HOSPITAL ALVAREZ\",-34.623123,-58.468287,9,9,true,false,false,20,,0\\n382,1644918841|10800|0,\"204 - Biarritz\",-34.60547,-58.47739,8,8,true,false,false,16,,0\\n384,1644918841|10800|0,\"267 - Plaza 25 De Agosto\",-34.57951881156862,-58.46183473148808,5,13,true,false,false,18,,0\\n385,1644918841|10800|0,\"268 - Plaza Aristóbulo Del Valle\",-34.606159914753725,-58.493141345207654,10,4,true,false,false,17,,0\\n386,1644918841|10800|0,\"277 - Coghlan\",-34.5654,-58.4759,4,4,true,false,false,8,,0\\n387,1644918841|10800|0,\"278 - Donato Alvarez\",-34.602028,-58.465568,13,3,true,false,false,16,,0\\n392,1644918841|10800|0,\"297 - TRONADOR Y GARCÍA DEL RÍO\",-34.554581,-58.485381,12,3,true,false,false,16,,0\\n400,1644918841|10800|0,\"313 - De Los Incas\",-34.579751,-58.471003,2,12,true,false,false,16,,0\\n403,1644918841|10800|0,\"316 - Buenos Aires\",-34.645532066615736,-58.39667441428978,10,10,true,false,false,20,,0\\n407,1644918841|10800|0,\"330 - Parque Avellaneda\",-34.641288,-58.479945,10,18,true,false,false,28,,0\\n408,1644918841|10800|0,\"364 - CERRETTI Y MANUELA PEDRAZA\",-34.56912,-58.50025,4,11,true,false,false,16,,0\\n412,1644918841|10800|0,\"372 - VILLA SOLDATI\",-34.66145153498837,-58.44014625846915,8,0,true,false,false,8,,0\\n413,1644918841|10800|0,\"382 - MERCADO DE HACIENDA MATADEROS\",-34.6602831,-58.5031426,6,9,true,false,false,16,,0\\n416,1644918841|10800|0,\"257 - Plaza Francisco Ramirez\",-34.553262,-58.469133,27,1,true,false,false,28,,0\\n417,1644918841|10800|0,\"127 - PLAZA LEONARDO N. ALEM\",-34.57634,-58.50248,12,8,true,false,false,20,,0\\n422,1644918841|10800|0,\"379 - PARQUE SARMIENTO II\",-34.56454,-58.50289,3,13,true,false,false,16,,0\\n423,1644918841|10800|0,\"043 - PLAZA ALBERDI\",-34.559255,-58.487772,8,4,true,false,false,12,,0\\n424,1644918841|10800|0,\"387 - Luna\",-34.638584,-58.39965,8,8,true,false,false,16,,0\\n425,1644918841|10800|0,\"394 - Av. La Plata\",-34.6440763,-58.422091,16,0,true,false,false,16,,0\\n426,1644918841|10800|0,\"396 - PLAZA ALBERTI\",-34.555081,-58.458538,14,3,true,false,false,20,,0\\n427,1644918841|10800|0,\"397 - PARQUE SANTOJANNI\",-34.64706360234081,-58.5148283486816,7,7,true,false,false,16,,0\\n428,1644918841|10800|0,\"225 - HOSPITAL TORNU\",-34.587458,-58.4739506,7,13,true,false,false,20,,0\\n429,1644918841|10800|0,\"201 - PLAZA EJERCITO DE LOS ANDES\",-34.63897407331851,-58.51010241799404,1,15,true,false,false,16,,0\\n432,1644918841|10800|0,\"187 - Jose Maria Moreno\",-34.619879,-58.435801,11,8,true,false,false,20,,0\\n433,1644918841|10800|0,\"273 - Plazoleta Colombia\",-34.637697,-58.373726,19,0,true,false,false,20,,0\\n434,1644918841|10800|0,\"247 - PLAZA LUCIO DEMARE\",-34.54569,-58.46514,14,2,true,false,false,16,,0\\n435,1644918841|10800|0,\"227 -Club Ciudad de Buenos Aires\",-34.544503,-58.459499,8,4,true,false,false,16,,0\\n441,1644918841|10800|0,\"016 - Legislatura\",-34.609801,-58.3748,1,18,true,false,false,20,,0\\n444,1644918841|10800|0,\"061-Ministerio de Economia\",-34.608936,-58.370716,1,23,true,false,false,24,,0\\n448,1644918841|10800|0,\"393 - Barrio 31\",-34.582422,-58.378862,9,14,true,false,false,24,,0\\n449,1644918841|10800|0,\"352 - San Jose de Flores\",-34.629083,-58.463251,7,17,true,false,false,24,,0\\n453,1644918841|10800|0,\"028 - Plaza de la Bandera\",-34.62945,-58.49439,11,5,true,false,false,16,,0\\n454,1644918841|10800|0,\"176 - Plaza Derechos del hombre\",-34.63403,-58.50694,1,11,true,false,false,12,,0\\n455,1644918841|10800|0,\"039 - Plaza Don Bosco\",-34.62652,-58.50805,14,2,true,false,false,16,,0\\n456,1644918841|10800|0,\"052 - PLAZA JUAN S. SALABERRY\",-34.65551,-58.50703,4,12,true,false,false,16,,0\\n457,1644918841|10800|0,\"110 - PLAZA CD DE BANFF\",-34.62805,-58.52174,9,6,true,false,false,16,,0\\n458,1644918841|10800|0,\"219 - Parque Chacabuco II\",-34.636275,-58.444041,10,10,true,false,false,20,,0\\n459,1644918841|10800|0,\"327 - PLAZA RICCHERI\",-34.61072,-58.51914,10,6,true,false,false,16,,0\\n460,1644918841|10800|0,\"133 - BEIRO Y SEGUROLA\",-34.6075,-58.51193,7,9,true,false,false,16,,0\\n461,1644918841|10800|0,\"106 - MOSCONI Y CONSTITUYENTES\",-34.58088,-58.49363,3,12,true,false,false,16,,0\\n']"
      ]
     },
     "execution_count": 13,
     "metadata": {},
     "output_type": "execute_result"
    }
   ],
   "source": [
    "station_info_list[0:2]"
   ]
  },
  {
   "cell_type": "code",
   "execution_count": 14,
   "id": "c2b8a217",
   "metadata": {
    "collapsed": true,
    "jupyter": {
     "outputs_hidden": true
    },
    "tags": []
   },
   "outputs": [
    {
     "data": {
      "text/plain": [
       "['#id,timestamp|gmt_local_diff_sec|gmt_servertime_diff_sec,name,lat,lon,bikes,spaces,installed,locked,temporary,total_docks,givesbonus_acceptspedelecs_fbbattlevel,pedelecs\\n598,1644918609.983716|-32400|0,\"위트콤공장\",0.00000000,0.00000000,0,68,true,false,false,68,false,0\\n4,1644918609.9837942|-32400|0,\"102. In front of Mangwon Station, Exit 1\",37.55564880,126.91062927,8,14,true,false,false,22,false,0\\n5,1644918609.9838643|-32400|0,\"103. In front of Mangwon Station, Exit 2\",37.55495071,126.91083527,35,0,true,false,false,16,false,0\\n6,1644918609.9839327|-32400|0,\"104. In front of Hapjeong Station, Exit 1\",37.55062866,126.91498566,20,0,true,false,false,15,false,0\\n7,1644918609.9839997|-32400|0,\"105. In front of Hapjeong Station, Exit 5\",37.55000687,126.91482544,4,3,true,false,false,7,false,0\\n8,1644918609.984066|-32400|0,\"106. In front of Hapjeong Station, Exit 7\",37.54864502,126.91282654,13,1,true,false,false,14,false,0\\n9,1644918609.9841318|-32400|0,\"107. In front of the Shinhan Bank Seogyo-dong Finance Center Building \",37.55751038,126.91850281,10,0,true,false,false,5,false,0\\n10,1644918609.9841974|-32400|0,\"108. Seogyo-dong Intersection\",37.55274582,126.91861725,0,10,true,false,false,10,false,0\\n11,1644918609.9842632|-32400|0,\"109. In front of the Jeil Building \",37.54769135,126.91998291,19,0,true,false,false,12,false,0\\n15,1644918609.9843285|-32400|0,\"111. In front of Sangsu Station, Exit 2\",37.54787064,126.92353058,10,2,true,false,false,12,false,0\\n16,1644918609.984394|-32400|0,\"112. In front of the Far East Broadcasting Company Building\",37.54920197,126.92320251,26,0,true,false,false,12,false,0\\n18,1644918609.9844592|-32400|0,\"113. In front of Hongik University Station, Exit 2\",37.55749893,126.92380524,13,12,true,false,false,25,false,0\\n20,1644918609.984524|-32400|0,\"114. In front of Hongik University Station, Exit 8\",37.55706024,126.92442322,15,2,true,false,false,17,false,0\\n12,1644918609.984592|-32400|0,\"115. 마스타 빌딩 앞\",37.55893326,126.92711639,12,3,true,false,false,15,false,0\\n14,1644918609.9846587|-32400|0,\"116. Beside Iljin I-Will Apartment Building \",37.56454086,126.92707062,16,0,true,false,false,7,false,0\\n17,1644918609.9847238|-32400|0,\"117. Hongeun Four-way Intersection\",37.59115982,126.94132996,7,20,true,false,false,27,false,0\\n19,1644918609.9847896|-32400|0,\"118. In front of Gwangheungchang Station, Exit 2\",37.54773331,126.93176270,13,0,true,false,false,11,false,0\\n21,1644918609.9848542|-32400|0,\"119. Seogangnaru Park\",37.54528427,126.93105316,9,3,true,false,false,12,false,0\\n22,1644918609.9849193|-32400|0,\"120. Sinsu-dong Intersection\",37.54524231,126.93411255,13,0,true,false,false,7,false,0\\n23,1644918609.9849844|-32400|0,\"121. In front of Mapo Fire Station\",37.54976654,126.93317413,4,13,true,false,false,17,false,0\\n24,1644918609.9850495|-32400|0,\"122. In front of the Sinseong Taxi Drivers Restaurant Building \",37.54745865,126.93837738,7,5,true,false,false,12,false,0\\n25,1644918609.9851146|-32400|0,\"123. Munhwachon Park\",37.59432983,126.94738770,7,15,true,false,false,22,false,0\\n26,1644918609.985179|-32400|0,\"124. Across the street from the main gate of Sogang University\",37.55113983,126.93698883,3,19,true,false,false,22,false,0\\n27,1644918609.9852436|-32400|0,\"125. Beside the south gate of Sogang University\",37.54948425,126.93894958,18,0,true,false,false,17,false,0\\n28,1644918609.9853084|-32400|0,\"126. Beside the back gate of Sogang University\",37.55041122,126.94384766,29,0,true,false,false,22,false,0\\n29,1644918609.9853783|-32400|0,\"127. In front of the Hyundai Ventureville Building \",37.55352020,126.93695068,15,2,true,false,false,17,false,0\\n30,1644918609.9854436|-32400|0,\"128. Beside Sinchon Station (Line No. 2), Exit 1 \",37.55549622,126.93634033,4,18,true,false,false,22,false,0\\n31,1644918609.985509|-32400|0,\"129. Beside Sinchon Station (Line No. 2), Exit 6 \",37.55505371,126.93756866,31,0,true,false,false,17,false,0\\n32,1644918609.9855735|-32400|0,\"130. In front of Sinchon Station (Line No. 2), Exit 7\",37.55485916,126.93615723,6,6,true,false,false,12,false,0\\n33,1644918609.9856384|-32400|0,\"131. Jeungsan 2-gyo\",37.58417130,126.91110229,8,17,true,false,false,25,false,0\\n35,1644918609.985707|-32400|0,\"133. Haedamneun Bridge\",37.58203125,126.90899658,3,14,true,false,false,17,false,0\\n36,1644918609.9857755|-32400|0,\"134. Yonsei Road Myeongmul-gil\",37.55789185,126.93807983,12,0,true,false,false,8,false,0\\n37,1644918609.98584|-32400|0,\"135. In front of the outdoor stage on Myeongmul-gil\",37.55910110,126.93917847,13,0,true,false,false,12,false,0\\n39,1644918609.9859052|-32400|0,\"137. In front of the Nonghyup Sinchon Office Building\",37.55681229,126.94318390,12,0,true,false,false,10,false,0\\n40,1644918609.9859712|-32400|0,\"138. In front of the Sinchon-dong First Public Parking Lot\",37.55917740,126.93452454,20,0,true,false,false,12,false,0\\n43,1644918609.9860363|-32400|0,\"139. Across the street from the main gate of Yonsei University\",37.55979538,126.93447876,14,1,true,false,false,15,false,0\\n41,1644918609.986102|-32400|0,\"140. Back gate of Ewha Womans University\",37.56000900,126.94073486,40,0,true,false,false,22,false,0\\n42,1644918609.9861672|-32400|0,\"141. Beside Yonsei University Athletics Field\",37.56238174,126.93264771,5,15,true,false,false,20,false,0\\n200,1644918609.986233|-32400|0,\"142. In front of Exit 4 of Ahyeon Station\",37.55720139,126.95566559,11,2,true,false,false,13,false,0\\n201,1644918609.986298|-32400|0,\"143. Exit 2 of Gongdeok Station\",37.54457855,126.95021820,17,0,true,false,false,11,false,0\\n202,1644918609.986363|-32400|0,\"144. Exit 8 of Gongdeok Station\",37.54357910,126.95132446,0,12,true,false,false,12,false,0\\n203,1644918609.9864283|-32400|0,\"145. Exit 5 of Gongdeok Station\",37.54425049,126.95163727,11,0,true,false,false,11,false,0\\n204,1644918609.9864945|-32400|0,\"146. Behind Exit 2 of Mapo Station\",37.53993607,126.94582367,35,0,true,false,false,14,false,0\\n205,1644918609.9865594|-32400|0,\"147. Behind Exit 4 of Mapo Station\",37.53927231,126.94591522,12,0,true,false,false,9,false,0\\n206,1644918609.9866254|-32400|0,\"148. In front of the Yonggang-dong Community Service Center\",37.54234695,126.94302368,15,0,true,false,false,13,false,0\\n207,1644918609.9866936|-32400|0,\"150. In front of Exit 2 of Sogang University Station\",37.55295563,126.93434143,4,13,true,false,false,17,false,0\\n210,1644918609.986759|-32400|0,\"153. Seongsangyo 2 Bridge Four-way Intersection\",37.56469727,126.91261292,2,10,true,false,false,12,false,0\\n211,1644918609.986824|-32400|0,\"154. Mapo-gu Office Station\",37.56090927,126.90549469,15,0,true,false,false,15,false,0\\n212,1644918609.9868946|-32400|0,\"155. 가좌역1 번출구 앞\",37.56829453,126.91504669,7,8,true,false,false,15,false,0\\n213,1644918609.9869614|-32400|0,\"156. In front of the Seoul Western District Court\",37.54990387,126.95514679,10,2,true,false,false,12,false,0\\n214,1644918609.9870281|-32400|0,\"157. In front of Exit 4 of Aeogae Station\",37.55300140,126.95668793,14,0,true,false,false,14,false,0\\n216,1644918609.987094|-32400|0,\"159. Exit 4 of Ewha Womans University Station\",37.55695343,126.94634247,1,4,true,false,false,5,false,0\\n217,1644918609.9871588|-32400|0,\"160. Furniture Street in Bugahyeon-dong\",37.55754852,126.95938110,9,13,true,false,false,22,false,0\\n218,1644918609.9872236|-32400|0,\"161. Exit 1 of Muakjae Station\",37.58224487,126.95064545,3,7,true,false,false,10,false,0\\n219,1644918609.9872887|-32400|0,\"162. Under Bongwon Overpass\",37.56526947,126.94624329,20,0,true,false,false,17,false,0\\n220,1644918609.987354|-32400|0,\"163. In front of Myongji College Entrance\",37.58369827,126.92496490,3,4,true,false,false,7,false,0\\n221,1644918609.987432|-32400|0,\"164. Bukgajwa 1-dong Community Service Center\",37.57447815,126.91004944,2,10,true,false,false,12,false,0\\n222,1644918609.9875014|-32400|0,\"165. Jungang Neighborhood Park\",37.57513809,126.91394043,19,3,true,false,false,22,false,0\\n223,1644918609.9875667|-32400|0,\"166. Gajaeul Elementary School\",37.57381821,126.91923523,14,8,true,false,false,22,false,0\\n224,1644918609.9876318|-32400|0,\"167. Next to Yeonga Elementary School\",37.57946014,126.91712952,11,6,true,false,false,17,false,0\\n226,1644918609.9877338|-32400|0,\"169. Bukgajwa Three-way Intersection\",37.57300186,126.90779877,1,16,true,false,false,17,false,0\\n227,1644918609.9878254|-32400|0,\"170. Next to the Gajaeul Newtown Gas Station\",37.57311249,126.92244720,8,4,true,false,false,12,false,0\\n228,1644918609.9878924|-32400|0,\"171. In front of the Limkwang Building\",37.56472397,126.96727753,15,0,true,false,false,12,false,0\\n230,1644918609.9879584|-32400|0,\"173. In front of Exit 8 of Seodaemun Station\",37.56477737,126.96614838,9,1,true,false,false,10,false,0\\n231,1644918609.9880235|-32400|0,\"175. Next to Hongyeongyo 2 Bridge\",37.57806778,126.93088531,3,19,true,false,false,22,false,0\\n555,1644918609.9880893|-32400|0,\"176. Myongji University Library\",37.58109665,126.92402649,17,0,true,false,false,12,false,0\\n345,1644918609.9881551|-32400|0,\"177. Bukgajwa Elementary School\",37.57767487,126.90980530,22,0,true,false,false,10,false,0\\n349,1644918609.9882202|-32400|0,\"178. In front of Jeungsangyo 3 Bridge\",37.57987595,126.90634918,7,5,true,false,false,12,false,0\\n232,1644918609.9882858|-32400|0,\"179. In front of Exit 4 of Gajwa Station\",37.56912231,126.91479492,15,1,true,false,false,16,false,0\\n233,1644918609.9883518|-32400|0,\"180. Behind Exit 7 of Chungjeongno Station\",37.55996704,126.96246338,0,12,true,false,false,12,false,0\\n339,1644918609.9884174|-32400|0,\"181. Mangwon Green Road Entrance\",37.55134201,126.90267181,9,8,true,false,false,17,false,0\\n340,1644918609.9884822|-32400|0,\"182. In front of the Mangwon 2-dong Flood Pumping Station\",37.55136490,126.90306091,2,7,true,false,false,9,false,0\\n341,1644918609.9885473|-32400|0,\"183. Across from the Hanulche Kolon Apartment Complex\",37.56516647,126.91939545,11,6,true,false,false,17,false,0\\n342,1644918609.9886124|-32400|0,\"184. Across from the SK Mangwon-dong Gas Station\",37.55894852,126.90775299,18,0,true,false,false,11,false,0\\n343,1644918609.9886773|-32400|0,\"185. In front of Mapo Sinsu Park\",37.54254532,126.93429565,3,14,true,false,false,17,false,0\\n344,1644918609.9887426|-32400|0,\"186. World Cup Park\",37.56396484,126.89820862,37,5,true,false,false,42,false,0\\n346,1644918609.9888077|-32400|0,\"188. Jungwon Girls’ Middle School Entrance in Hongeun-dong\",37.58638763,126.93512726,3,6,true,false,false,9,false,0\\n347,1644918609.9888773|-32400|0,\"191. 서우빌딩(바른학원)\",37.57889175,126.91073608,11,1,true,false,false,12,false,0\\n348,1644918609.9889493|-32400|0,\"192. Yeonseo Children’s Park\",37.57222748,126.92306519,19,0,true,false,false,12,false,0\\n350,1644918609.9890163|-32400|0,\"194. In front of Jeungsangyo\",37.57731628,126.90296936,8,4,true,false,false,12,false,0\\n351,1644918609.9890814|-32400|0,\"195. Moraenae Overpass\",37.56765747,126.91780853,4,8,true,false,false,12,false,0\\n352,1644918609.989147|-32400|0,\"196. Near Yeonhui Intersection\",37.56612015,126.92589569,2,10,true,false,false,12,false,0\\n354,1644918609.9892123|-32400|0,\"198. Chungjeong 2-gyo\",37.56213760,126.96377563,1,14,true,false,false,15,false,0\\n443,1644918609.9892771|-32400|0,\"199. Seoul World Cup Stadium\",37.56684494,126.89644623,10,22,true,false,false,32,false,0\\n45,1644918609.9893427|-32400|0,\"200. National Assembly Members\\' Office Building\",37.52841568,126.91391754,21,1,true,false,false,22,false,0\\n46,1644918609.9894083|-32400|0,\"201. In front of the Jinmi Paragon Building\",37.53123856,126.92133331,23,0,true,false,false,17,false,0\\n47,1644918609.9894738|-32400|0,\"202. In front of the Kukmin Daily Building\",37.52881622,126.92453003,18,14,true,false,false,32,false,0\\n51,1644918609.98957|-32400|0,\"203. Beside National Assembly Station, Exit 3\",37.52805710,126.91870117,1,16,true,false,false,17,false,0\\n50,1644918609.9896376|-32400|0,\"204. Beside National Assembly Station, Exit 5\",37.52816391,126.91702271,7,8,true,false,false,15,false,0\\n52,1644918609.9897034|-32400|0,\"205. In front of the KDB Bank Building\",37.52626419,126.92050934,30,0,true,false,false,22,false,0\\n53,1644918609.9897687|-32400|0,\"206. In front of the KBS Building\",37.52466583,126.91802216,34,3,true,false,false,37,false,0\\n73,1644918609.989834|-32400|0,\"207. In front of Yeouinaru Station, Exit 1\",37.52715683,126.93190002,40,8,true,false,false,48,false,0\\n55,1644918609.9898992|-32400|0,\"209. In front of the Eugene Investment and Securities Building\",37.52461243,126.92783356,18,0,true,false,false,12,false,0\\n56,1644918609.989966|-32400|0,\"210. IFC Mall\",37.52603149,126.92550659,51,0,true,false,false,32,false,0\\n57,1644918609.990031|-32400|0,\"211. Beside Yeouido Station, Exit 4\",37.52222824,126.92463684,9,6,true,false,false,15,false,0\\n58,1644918609.990097|-32400|0,\"212. Beside Yeouido Station, Exit 1\",37.52136230,126.92346191,22,0,true,false,false,12,false,0\\n59,1644918609.990163|-32400|0,\"213. In front of the KT Building \",37.52190781,126.91895294,31,0,true,false,false,17,false,0\\n60,1644918609.9902287|-32400|0,\"214. In front of the Financial Supervisory Service Building\",37.52302170,126.92083740,36,0,true,false,false,22,false,0\\n64,1644918609.9902942|-32400|0,\"215. In front of Yeouido High School\",37.52483749,126.93490601,28,0,true,false,false,12,false,0\\n66,1644918609.9903593|-32400|0,\"217. In front of the Nonghyup Bank Building\",37.52207947,126.93036652,33,0,true,false,false,12,false,0\\n62,1644918609.9904244|-32400|0,\"219. Beside the Lotte Castle Empire Building\",37.52069473,126.92583466,28,0,true,false,false,14,false,0\\n63,1644918609.9904895|-32400|0,\"220. In front of Miseong Apartment Building, A-dong\",37.51936340,126.92604828,32,0,true,false,false,30,false,0\\n67,1644918609.9905546|-32400|0,\"221. In front of Yeouido Elementary School\",37.52267456,126.93778992,3,9,true,false,false,12,false,0\\n68,1644918609.990621|-32400|0,\"222.  Sibum Apt. next to the bus stop\",37.51943588,126.93759918,18,0,true,false,false,12,false,0\\n69,1644918609.990686|-32400|0,\"223. In front of  Jinju Apartment Shopping Center\",37.51931381,126.93316650,33,0,true,false,false,20,false,0\\n70,1644918609.9907508|-32400|0,\"224. In front of Lotte Castle \",37.52008820,126.93236542,30,0,true,false,false,20,false,0\\n71,1644918609.9908156|-32400|0,\"225. In front of Ankara Park\",37.51736832,126.92925262,25,3,true,false,false,28,false,0\\n72,1644918609.990881|-32400|0,\"226. In front of Saetgang Station, Exit 1\",37.51776505,126.92841339,39,0,true,false,false,22,false,0\\n277,1644918609.9909472|-32400|0,\"227. Entrance to Yangpyeong 2 Interchange Pedestrian Path\",37.54466629,126.88835907,4,8,true,false,false,12,false,0\\n278,1644918609.9910128|-32400|0,\"228. In front of Exit 3 of Seonyudo Station\",37.53845978,126.89450836,22,0,true,false,false,10,false,0\\n279,1644918609.9910781|-32400|0,\"229. In front of Yangpyeong 1 Pedestrian Overpass\",37.53587341,126.89218140,39,0,true,false,false,27,false,0\\n413,1644918609.991146|-32400|0,\"230. 영등포구청역 1번출구\",37.52463531,126.89621735,31,0,true,false,false,15,false,0\\n280,1644918609.991213|-32400|0,\"231. Seoul Nambu Employment and Labor Service  (Southbound Direction)\",37.52450562,126.89182281,4,8,true,false,false,12,false,0\\n281,1644918609.9912784|-32400|0,\"232. In front of the Yangpyeong Woolim e-Biz Center\",37.52565002,126.88781738,7,15,true,false,false,22,false,0\\n282,1644918609.9913433|-32400|0,\"233. In front of the YP Center\",37.52848816,126.89164734,15,0,true,false,false,12,false,0\\n283,1644918609.9914143|-32400|0,\"234. In front of the Yeongdeungpo-gu Sports Center\",37.50046158,126.90584564,9,3,true,false,false,12,false,0\\n284,1644918609.9914808|-32400|0,\"235. In front of Woori Bank (Singil Branch)\",37.50456619,126.91023254,3,9,true,false,false,12,false,0\\n285,1644918609.9915514|-32400|0,\"236. In front of the Xi Apartment Complex in Mullae-dong\",37.51615524,126.89461517,15,0,true,false,false,12,false,0\\n286,1644918609.991617|-32400|0,\"237. Boramae Doosan We’ve Apartment Complex (across the street)\",37.49651337,126.91480255,6,16,true,false,false,22,false,0\\n287,1644918609.9916868|-32400|0,\"238. In front of the Second Gu Sports Center\",37.52638626,126.90275574,16,0,true,false,false,12,false,0\\n288,1644918609.991752|-32400|0,\"239. In front of the Youth Hostel\",37.52585220,126.90328217,19,3,true,false,false,22,false,0\\n289,1644918609.9918425|-32400|0,\"240. In front of Exit 4 of Mullae Station\",37.51873779,126.89557648,15,0,true,false,false,12,false,0\\n290,1644918609.9919093|-32400|0,\"241. Park in front of the Singil Woosung 1st Apartment Complex\",37.50501633,126.89853668,2,8,true,false,false,10,false,0\\n291,1644918609.9919975|-32400|0,\"242. In front of the Singil Sunwongawain Apartment Complex\",37.51093292,126.91022491,16,1,true,false,false,17,false,0\\n292,1644918609.9920647|-32400|0,\"243. In front of E&C Dream Tower\",37.52708435,126.89138031,12,5,true,false,false,17,false,0\\n293,1644918609.992131|-32400|0,\"244. In front of the Yeongdeungpo Samwhan Apartment Complex\",37.53007889,126.90570831,11,11,true,false,false,22,false,0\\n294,1644918609.9921966|-32400|0,\"245. In front of the Samsung Life Insurance Building (Dangsan Branch)\",37.52826309,126.89662933,28,0,true,false,false,12,false,0\\n295,1644918609.992262|-32400|0,\"247. In front of Exit 10 of Dangsan Station\",37.53368759,126.90210724,18,0,true,false,false,15,false,0\\n296,1644918609.9923275|-32400|0,\"248. In front of the Chowon Apartment Complex\",37.53105545,126.92420959,23,0,true,false,false,12,false,0\\n297,1644918609.9923925|-32400|0,\"249. Next to Yeouido Middle School\",37.52412033,126.93654633,43,0,true,false,false,16,false,0\\n298,1644918609.9924576|-32400|0,\"250.Daelim Apartment Complex Four-way Intersection\",37.50764084,126.92308044,7,5,true,false,false,12,false,0\\n299,1644918609.992522|-32400|0,\"251. Seoul Regional Military Manpower Administration Bus Stop\",37.50449371,126.92195129,1,11,true,false,false,12,false,0\\n300,1644918609.992587|-32400|0,\"252. Exit 4 of Boramae Station\",37.49982834,126.91994476,15,0,true,false,false,12,false,0\\n302,1644918609.9926567|-32400|0,\"254. In front of the Dorim Credit Union\",37.50380325,126.90341949,8,4,true,false,false,12,false,0\\n303,1644918609.9927237|-32400|0,\"255. 도림사거리\",37.50657272,126.90113068,9,8,true,false,false,17,false,0\\n304,1644918609.9927895|-32400|0,\"256. Donga Ecoville Entrance\",37.50947571,126.89929962,8,4,true,false,false,12,false,0\\n306,1644918609.9928548|-32400|0,\"258. Exit 3 of Singil Station\",37.51769257,126.91429901,3,13,true,false,false,16,false,0\\n307,1644918609.99292|-32400|0,\"259. Exit 6 of Daebang Station\",37.51359177,126.92593384,28,0,true,false,false,19,false,0\\n414,1644918609.9929845|-32400|0,\"260. In front of the Seoul Marina Club & Yacht in Yeouido\",37.53365707,126.91216278,21,0,true,false,false,17,false,0\\n416,1644918609.9930494|-32400|0,\"262. Youngmun Elementary School Four-way Intersection\",37.51992798,126.88918304,17,0,true,false,false,14,false,0\\n417,1644918609.9931138|-32400|0,\"263. Workers Center Four-way Intersection\",37.51715088,126.88862610,13,1,true,false,false,14,false,0\\n418,1644918609.9931781|-32400|0,\"264. In front of the Kyobo Life Insurance Building\",37.52193069,126.89161682,0,17,true,false,false,17,false,0\\n419,1644918609.993243|-32400|0,\"265. Four-way Intersection in front of the Yeongdeungpo Distribution Center\",37.52113342,126.89653778,0,17,true,false,false,17,false,0\\n420,1644918609.9933074|-32400|0,\"266. Four-way Intersection in front of the Yeongdeungpo Fruit Market\",37.52029419,126.90119171,6,6,true,false,false,12,false,0\\n421,1644918609.9933724|-32400|0,\"267. Next to the Samsung Fire & Marine Insurance Building\",37.53596115,126.89830017,6,6,true,false,false,12,false,0\\n422,1644918609.9934368|-32400|0,\"268. In front of the Grand Convention Center\",37.53471756,126.90000153,15,0,true,false,false,8,false,0\\n424,1644918609.993502|-32400|0,\"270. Intersection in front of the Rear Gate of the Korea Stock Exchange Building\",37.52234268,126.92710114,18,0,true,false,false,10,false,0\\n425,1644918609.993567|-32400|0,\"271. In front of the Saetgang Ecological Park Visitor Center\",37.51896286,126.92161560,7,5,true,false,false,12,false,0\\n426,1644918609.993632|-32400|0,\"272. Dangsan Underpass\",37.53533936,126.90367889,25,0,true,false,false,22,false,0\\n1319,1644918609.9936965|-32400|0,\"274. Exit 5 of Yeongdeungpo Station Underground Shopping Center\",37.51665115,126.90798950,32,0,true,false,false,12,false,0\\n1320,1644918609.9937608|-32400|0,\"275. Shindonga Apartments\",37.52222061,126.88558197,4,8,true,false,false,12,false,0\\n1321,1644918609.9938252|-32400|0,\"276. SK Yeongdeungpo Gas Station\",37.51828384,126.91263580,15,0,true,false,false,12,false,0\\n1323,1644918609.9938908|-32400|0,\"278. Ssangyong Platinum Studio Building\",37.50793076,126.89523315,4,8,true,false,false,12,false,0\\n1353,1644918609.9939559|-32400|0,\"279. Yeongdeungpo Prugio Apartment\",37.51322937,126.90446472,6,9,true,false,false,15,false,0\\n1539,1644918609.9940207|-32400|0,\"280. In front of Yangpyeong-dong 6-cha Hyundai Apt.\",37.53210068,126.89443970,10,2,true,false,false,12,false,0\\n1540,1644918609.9940853|-32400|0,\"281. In front of Sindonga Apt.\",37.49824142,126.89398193,16,0,true,false,false,10,false,0\\n1541,1644918609.9941504|-32400|0,\"282. Shinhan Bank\",37.48752975,126.90487671,5,7,true,false,false,12,false,0\\n1649,1644918609.9942153|-32400|0,\"283. Acrotower Square (Yeongdeungpo Market)\",37.52251816,126.90721893,19,0,true,false,false,17,false,0\\n1650,1644918609.9942796|-32400|0,\"284. In front of Central Prugio City\",37.51821136,126.90222931,1,17,true,false,false,18,false,0\\n1651,1644918609.9943447|-32400|0,\"285. Daelim 3-dong Four-way Intersection (KEB Hana Bank)\",37.49985886,126.89723969,2,8,true,false,false,10,false,0\\n1652,1644918609.9944093|-32400|0,\"286. Woosung Apt. Intersection\",37.49457169,126.89974976,5,5,true,false,false,10,false,0\\n1653,1644918609.994474|-32400|0,\"287. Yeongdeungpo Telephone Office (Seogang Children’s Park)\",37.52576828,126.90573883,24,0,true,false,false,12,false,0\\n1677,1644918609.9945405|-32400|0,\"288. Ssangyong Yega (Gu-office annex)\",37.52809906,126.89338684,7,5,true,false,false,12,false,0\\n1697,1644918609.9946053|-32400|0,\"289. Daelim 3-dong Four-way Intersection\",37.49980927,126.89800262,17,0,true,false,false,12,false,0\\n1698,1644918609.994671|-32400|0,\"290. Dangsan-dong SK V1 Building\",37.53150940,126.89782715,1,13,true,false,false,14,false,0\\n1699,1644918609.9947362|-32400|0,\"291. Mullae-dong High Tech City\",37.51385117,126.89888000,28,0,true,false,false,16,false,0\\n1700,1644918609.9948|-32400|0,\"292. Youngil Children\\'s Park\",37.51012039,126.90406799,7,5,true,false,false,12,false,0\\n1701,1644918609.994865|-32400|0,\"293. Chungbuk Future Hall\",37.52917099,126.90757751,4,13,true,false,false,17,false,0\\n1967,1644918609.9949322|-32400|0,\"295.영등포공원 분수대 앞\",37.51481247,126.91170502,11,0,true,false,false,10,false,0\\n1968,1644918609.995|-32400|0,\"296.KT플라자 영등포점\",37.52630234,126.90538025,11,4,true,false,false,15,false,0\\n1969,1644918609.995068|-32400|0,\"297.국회3문\",37.52863693,126.91267395,11,9,true,false,false,20,false,0\\n1970,1644918609.9951358|-32400|0,\"298.KBS 연구동 건너편\",37.52750778,126.91429901,26,0,true,false,false,20,false,0\\n1971,1644918609.9952028|-32400|0,\"299.여의도 순복음교회\",37.53179169,126.92245483,10,0,true,false,false,10,false,0\\n116,1644918609.9952688|-32400|0,\"300. Jeong-dong Intersection\",37.56805038,126.96923065,0,6,true,false,false,6,false,0\\n117,1644918609.9953341|-32400|0,\"301. In front of Gyeongbokgung Station, Exit 7\",37.57579422,126.97145081,17,1,true,false,false,18,false,0\\n118,1644918609.995399|-32400|0,\"302. Behind Gyeongbokgung Station, Exit 4\",37.57594681,126.97406006,10,4,true,false,false,14,false,0\\n119,1644918609.9954846|-32400|0,\"304. In front of Gwanghwamun Station, Exit 1\",37.57176971,126.97466278,1,7,true,false,false,8,false,0\\n121,1644918609.9955516|-32400|0,\"305. Beside Jongno-gu Office\",37.57258224,126.97835541,12,6,true,false,false,18,false,0\\n123,1644918609.9956174|-32400|0,\"307. In front of Seoul Museum of History\",37.56999969,126.97109985,16,0,true,false,false,13,false,0\\n124,1644918609.9957066|-32400|0,\"308. In front of Gwanghwamun S Tower\",37.56996918,126.97393799,5,15,true,false,false,20,false,0\\n125,1644918609.9957736|-32400|0,\"309. Beside Gwanghwamun Station, Exit 6\",37.56988907,126.97645569,5,8,true,false,false,13,false,0\\n126,1644918609.9958389|-32400|0,\"310. Beside Cheonggye Plaza\",37.56887817,126.97747040,11,0,true,false,false,8,false,0\\n130,1644918609.9959097|-32400|0,\"314. National Museum of Modern and Contemporary Art\",37.57970810,126.98085785,4,8,true,false,false,12,false,0\\n132,1644918609.9959755|-32400|0,\"316. In front of Jonggak Station, Exit 1\",37.57039642,126.98178864,7,1,true,false,false,8,false,0\\n134,1644918609.9960408|-32400|0,\"318. South side of Gwanggyo Intersection\",37.56852722,126.98255157,17,0,true,false,false,12,false,0\\n136,1644918609.9961271|-32400|0,\"320. In front of Euljiro 1-ga Station, Exit 4\",37.56622314,126.98358917,4,13,true,false,false,17,false,0\\n137,1644918609.9961946|-32400|0,\"321. Hana Financial Group Myungdong\",37.56546402,126.98413849,14,3,true,false,false,17,false,0\\n138,1644918609.99626|-32400|0,\"322. In front of Myeong-dong Cathedral\",37.56447601,126.98696899,5,12,true,false,false,17,false,0\\n140,1644918609.996325|-32400|0,\"324. In front of the Shinsegae Department Store Headquarters\",37.56134033,126.98040009,7,5,true,false,false,12,false,0\\n142,1644918609.9963903|-32400|0,\"326. In front of Anguk Station, Exit 5\",37.57624054,126.98616028,13,8,true,false,false,21,false,0\\n143,1644918609.9964557|-32400|0,\"327. Beside Nakwon Shopping Center\",37.57335663,126.98746490,6,4,true,false,false,10,false,0\\n144,1644918609.9965208|-32400|0,\"328. In front of Tapgol Park\",37.57039642,126.98818970,18,0,true,false,false,13,false,0\\n145,1644918609.996586|-32400|0,\"329. Beside Cheonggye 2-ga Intersection\",37.56834412,126.98789215,21,0,true,false,false,10,false,0\\n147,1644918609.9966507|-32400|0,\"331. North side of Euljiro 2-ga Intersection\",37.56638336,126.98720551,11,0,true,false,false,10,false,0\\n148,1644918609.996715|-32400|0,\"332. South side of Euljiro 2-ga Intersection\",37.56599045,126.98779297,3,2,true,false,false,5,false,0\\n150,1644918609.996781|-32400|0,\"334. Behind Jongno 3-ga Station, Exit 2\",37.57059860,126.99179077,11,1,true,false,false,12,false,0\\n151,1644918609.9968467|-32400|0,\"335. In front of Jongno 3-ga Station, Exit 15\",37.57019806,126.99125671,4,6,true,false,false,10,false,0\\n152,1644918609.9969118|-32400|0,\"336. In front of Tmark Hotel\",37.56261826,126.99283600,1,9,true,false,false,10,false,0\\n153,1644918609.9969764|-32400|0,\"337. Changgyeonggung Palace Entrance\",37.57897949,126.99647522,10,0,true,false,false,7,false,0\\n154,1644918609.9970412|-32400|0,\"338. In front of Sewoon Square\",37.57095718,126.99712372,10,10,true,false,false,20,false,0\\n155,1644918609.9971077|-32400|0,\"339. Jongno 4-ga Intersection\",37.57106781,126.99819183,6,6,true,false,false,12,false,0\\n156,1644918609.9971728|-32400|0,\"340. Hyehwa-dong Rotary\",37.58562851,127.00067902,14,0,true,false,false,8,false,0\\n157,1644918609.997238|-32400|0,\"341. Behind Hyehwa Station, Exit 3\",37.58156967,127.00178528,4,4,true,false,false,8,false,0\\n158,1644918609.9973032|-32400|0,\"342. In front of Marronnier Park, Daehak-ro\",37.57978439,127.00253296,8,7,true,false,false,15,false,0\\n159,1644918609.9973822|-32400|0,\"343. In front of the Yeil Building (Yulgok-ro)\",37.57543182,127.00498199,6,0,true,false,false,6,false,0\\n160,1644918609.9974473|-32400|0,\"344. In front of Sungkyunkwan University\\'s E House\",37.57403564,127.00672150,3,9,true,false,false,12,false,0\\n161,1644918609.997512|-32400|0,\"345. In front of the Seoul Guarantee Insurance Headquarters\",37.57330704,127.00070953,13,4,true,false,false,17,false,0\\n162,1644918609.9975765|-32400|0,\"346. In front of The Maxtyle\",37.56918335,127.00988007,5,5,true,false,false,10,false,0\\n163,1644918609.9976408|-32400|0,\"347. In front of Dongdaemun History and Culture Park Station, Exit 9\",37.56533051,127.00784302,6,14,true,false,false,20,false,0\\n183,1644918609.9977055|-32400|0,\"348. Dongnimmun Station Four-way Intersection\",37.57202911,126.96078491,17,0,true,false,false,16,false,0\\n165,1644918609.9977703|-32400|0,\"349. Sajikdong Community Service Center\",37.57633209,126.96858978,5,4,true,false,false,9,false,0\\n167,1644918609.9978356|-32400|0,\"351. Three-way Intersection in front of Chungwoon Elementary School\",37.58507919,126.97061920,1,9,true,false,false,10,false,0\\n168,1644918609.9979|-32400|0,\"352. Three-way Intersection in front of Choongang High School Entrance\",37.58341599,126.98523712,12,5,true,false,false,17,false,0\\n169,1644918609.9979649|-32400|0,\"353. Three-way Intersection in front of Jaedong Elementary School\",37.57938766,126.98494720,8,2,true,false,false,10,false,0\\n170,1644918609.9980295|-32400|0,\"354. In front of the Embassy of Portugal\",37.57915497,126.98896027,4,8,true,false,false,12,false,0\\n171,1644918609.9980948|-32400|0,\"355. In front of Seoul National University Elementary School\",37.57650757,127.00245667,7,10,true,false,false,17,false,0\\n172,1644918609.9981594|-32400|0,\"356. In front of KT (Hyehwa Branch)\",37.57714462,127.00205994,30,0,true,false,false,17,false,0\\n173,1644918609.9982238|-32400|0,\"358. Sungkyunkwan University Entrance Four-way Intersection\",37.58250046,126.99853516,5,10,true,false,false,15,false,0\\n174,1644918609.9982882|-32400|0,\"359. Wonnamdong Four-way Intersection\",37.57606125,126.99768066,4,6,true,false,false,10,false,0\\n175,1644918609.9983535|-32400|0,\"361.  Behind Exit 1 of Dongmyo Station\",37.57324219,127.01590729,16,0,true,false,false,12,false,0\\n176,1644918609.998418|-32400|0,\"362. Cheonggye 8-ga Four-way Intersection\",37.57222366,127.02270508,13,0,true,false,false,12,false,0\\n177,1644918609.998483|-32400|0,\"363. Behind Exit 11 of Sinseoldong Station\",37.57559204,127.02285004,5,7,true,false,false,12,false,0\\n178,1644918609.9985483|-32400|0,\"364. In front of Exit 1 of Changsin Station\",37.57933426,127.01508331,3,7,true,false,false,10,false,0\\n180,1644918609.9986134|-32400|0,\"367.  Exit 3-1 of Dongnimmun Station\",37.57384872,126.95869446,10,0,true,false,false,10,false,0\\n181,1644918609.9986782|-32400|0,\"368. In front of the SK Seorin Building\",37.56924820,126.98053741,20,0,true,false,false,14,false,0\\n182,1644918609.99875|-32400|0,\"369. Gwanghwamun Citizens’ Open Square\",37.57549286,126.97850037,5,9,true,false,false,14,false,0\\n185,1644918609.9988265|-32400|0,\"370. Behind Exit 9 of City Hall Station (Subway Line 2)\",37.56322861,126.97483826,35,0,true,false,false,24,false,0\\n186,1644918609.9988995|-32400|0,\"371. Behind Exit 6 of Dongguk University Station\",37.55887222,127.00553894,4,8,true,false,false,12,false,0\\n187,1644918609.9989662|-32400|0,\"372. Behind Exit 3 of Yaksu Station\",37.55429459,127.01119995,11,1,true,false,false,12,false,0\\n189,1644918609.999032|-32400|0,\"374. In front of Exit 2 of Cheonggu Station \",37.56047440,127.01407623,12,0,true,false,false,12,false,0\\n194,1644918609.9990993|-32400|0,\"379. In front of Exit 9 of Seoul Station\",37.55599976,126.97335815,6,3,true,false,false,9,false,0\\n195,1644918609.9991658|-32400|0,\"380. In front of the CJ Cheiljedang Building\",37.56386566,127.00274658,7,3,true,false,false,10,false,0\\n196,1644918609.9992325|-32400|0,\"381. Jangchung Gymnasium \",37.55853271,127.00698853,12,0,true,false,false,12,false,0\\n197,1644918609.999298|-32400|0,\"382. In front of Exit 10 of Yaksu Station\",37.55519867,127.01004791,1,8,true,false,false,9,false,0\\n198,1644918609.9993644|-32400|0,\"383. Behind Exit 12 of Sindang Station\",37.56584930,127.01640320,21,0,true,false,false,19,false,0\\n199,1644918609.999437|-32400|0,\"384. In front of Jongro Academy (Main Building) \",37.55978012,126.96850586,9,3,true,false,false,12,false,0\\n336,1644918609.999504|-32400|0,\"385. In front of Exit 5 of Jonggak Station\",37.56983566,126.98265839,10,2,true,false,false,12,false,0\\n338,1644918609.99957|-32400|0,\"387. In front of Park of Seoul Hunlyunwon Parking Lot\",37.56699371,127.00346375,1,11,true,false,false,12,false,0\\n444,1644918609.999638|-32400|0,\"388. In front of Dongsung Middle School\",37.58573532,127.00160980,5,7,true,false,false,12,false,0\\n943,1644918609.9997044|-32400|0,\"389. Gate 1, Euljiro 4-ga Station\",37.56673050,126.99660492,15,0,true,false,false,12,false,0\\n944,1644918609.9997947|-32400|0,\"390. Gate 1, Chungmuro Station\",37.56138992,126.99535370,3,9,true,false,false,12,false,0\\n977,1644918609.9998693|-32400|0,\"391. Jeongdonggil Entrance\",37.56505203,126.97340393,10,0,true,false,false,8,false,0\\n1372,1644918609.9999373|-32400|0,\"393. In front of Exit 8 of Dongdaemun Station\",37.57014084,127.00937653,1,11,true,false,false,12,false,0\\n1373,1644918610.0000038|-32400|0,\"394. Gyeonghuigung Xi Apartment Complex 3\",37.56748962,126.96591949,18,0,true,false,false,15,false,0\\n1374,1644918610.0000708|-32400|0,\"395. Gyeonghuigung Xi Apartment Complex 2\",37.56885529,126.96456146,9,1,true,false,false,10,false,0\\n1432,1644918610.0001378|-32400|0,\"397. Across the Jongmyo Public Parking Lot\",37.57048035,126.99663544,20,0,true,false,false,15,false,0\\n1435,1644918610.0002038|-32400|0,\"398. Exit 3 of Euljiro 3-ga Station\",37.56655884,126.99243927,8,2,true,false,false,10,false,0\\n1436,1644918610.0002909|-32400|0,\"399. Central Xi Apt. Seoul Station\",37.55410767,126.96540833,17,0,true,false,false,17,false,0\\n110,1644918610.00036|-32400|0,\"400. In front of Hanwha Obelisk Apt. 1-cha in Sangam-dong\",37.58752441,126.88300323,6,8,true,false,false,14,false,0\\n76,1644918610.0004263|-32400|0,\"401. In front of Sangam World Cup Park Apt. Complex #10\",37.58618927,126.88161469,6,7,true,false,false,13,false,0\\n77,1644918610.0005023|-32400|0,\"402. In front of Sangam World Cup Park Apt. Complex #9\",37.58285522,126.87982178,5,17,true,false,false,22,false,0\\n78,1644918610.000567|-32400|0,\"403. In front of Owl Park\",37.58559036,126.88472748,6,16,true,false,false,22,false,0\\n80,1644918610.0006325|-32400|0,\"405. In front of DMC Ville\",37.58265686,126.88578796,23,0,true,false,false,10,false,0\\n81,1644918610.0006979|-32400|0,\"406. In front of Sangam World Cup Park Apt. Complex #7\",37.58131409,126.88058472,11,6,true,false,false,17,false,0\\n83,1644918610.0007627|-32400|0,\"407. Mapo-gu Support Center for Childcare\",37.58063126,126.88367462,4,6,true,false,false,10,false,0\\n84,1644918610.0008276|-32400|0,\"408. In front of LG CNS\",37.58081055,126.88665009,9,13,true,false,false,22,false,0\\n86,1644918610.0008929|-32400|0,\"409. Beside Nuri Dream Square\",37.57939911,126.88916016,23,4,true,false,false,27,false,0\\n88,1644918610.0009584|-32400|0,\"410. Beside Sangam Middle School\",37.57749557,126.88777161,0,12,true,false,false,12,false,0\\n90,1644918610.0010238|-32400|0,\"411. DMC Gallery\",37.57799530,126.89147186,14,0,true,false,false,11,false,0\\n91,1644918610.001088|-32400|0,\"412. In front of DMC R&D Center\",37.57580185,126.89073944,26,0,true,false,false,22,false,0\\n92,1644918610.0011525|-32400|0,\"413.  Rear entrance to Sangam World Cup Park Apt. Complex #3\",37.57147598,126.88968658,3,8,true,false,false,11,false,0\\n94,1644918610.0012171|-32400|0,\"414. Beside Sangam-dong Community Service Center\",37.57822037,126.89447021,3,7,true,false,false,10,false,0\\n95,1644918610.0012815|-32400|0,\"415. In front of DMC Station, Exit 9\",37.57746887,126.89736176,17,0,true,false,false,12,false,0\\n96,1644918610.0013587|-32400|0,\"416. Intersection at Sangam World Cup Park Apt. Complex #1 \",37.57566452,126.89444733,12,0,true,false,false,12,false,0\\n93,1644918610.0015008|-32400|0,\"417. Beside DMC Station, Exit 2\",37.57506943,126.89991760,27,0,true,false,false,22,false,0\\n89,1644918610.0015886|-32400|0,\"418. Beside World Cup Stadium Station, Exit 3\",37.57072067,126.89897919,17,3,true,false,false,20,false,0\\n87,1644918610.0016625|-32400|0,\"419. In front of HomePlus\",37.56842041,126.89942932,21,2,true,false,false,23,false,0\\n85,1644918610.0017285|-32400|0,\"420. Seoul City Public Bicycle Operations Center\",37.56624603,126.89617920,24,18,true,false,false,42,false,0\\n82,1644918610.0017989|-32400|0,\"421. In front of Mapo-Gu Office\",37.56574631,126.90186310,3,5,true,false,false,8,false,0\\n968,1644918610.0018642|-32400|0,\"422. Cultural Depot Park\",37.56897736,126.89440155,7,2,true,false,false,9,false,0\\n990,1644918610.0019295|-32400|0,\"424. Lotte Hi-mart (Sangam World Cup Stadium Branch)\",37.57361984,126.89804840,5,12,true,false,false,17,false,0\\n991,1644918610.001995|-32400|0,\"425. DMC High Tech Industrial Complex\",37.58450317,126.88559723,12,0,true,false,false,12,false,0\\n992,1644918610.002061|-32400|0,\"426. Seoul Credit Guarantee Foundation\",37.54906082,126.95417786,10,2,true,false,false,12,false,0\\n1397,1644918610.0021257|-32400|0,\"427. Seongsan Siyoung Apartments\",37.56958389,126.90381622,10,2,true,false,false,12,false,0\\n1437,1644918610.0021904|-32400|0,\"428. Myeongbo Four-way Intersection\",37.56439972,126.99143219,9,3,true,false,false,12,false,0\\n1438,1644918610.0022552|-32400|0,\"429. Songdo Hospital\",37.54988861,127.00734711,12,0,true,false,false,10,false,0\\n1439,1644918610.00232|-32400|0,\"430. KEB Hana Bank (Jangchung-dong Branch)\",37.56217194,127.00626373,13,0,true,false,false,10,false,0\\n1440,1644918610.0023859|-32400|0,\"431. Cheonggyecheon Yeongdogyo Bridge\",37.57101440,127.01974487,19,0,true,false,false,15,false,0\\n1494,1644918610.0024507|-32400|0,\"432. Mapo Central Library\",37.56333923,126.90820312,9,3,true,false,false,12,false,0\\n1668,1644918610.0025156|-32400|0,\"433. Exit 2 of Euljiro 1-ga Station\",37.56634521,126.98229218,7,5,true,false,false,12,false,0\\n1669,1644918610.0025835|-32400|0,\"434. 신당 래미안 버스정류장\",37.56148911,127.02393341,7,5,true,false,false,12,false,0\\n1670,1644918610.0026507|-32400|0,\"435. SK Namsan Building\",37.55686188,126.97561646,6,6,true,false,false,12,false,0\\n1675,1644918610.0027156|-32400|0,\"436. Exit 5 of Ehwa Womans Univ. Station\",37.55659103,126.94618988,0,12,true,false,false,12,false,0\\n1691,1644918610.0027819|-32400|0,\"437. Exit 1 of Daeheung Station\",37.54846954,126.94092560,18,0,true,false,false,14,false,0\\n1692,1644918610.002847|-32400|0,\"438. Seongsan 2-1 Public Parking Lot\",37.56472015,126.90676880,12,5,true,false,false,17,false,0\\n1693,1644918610.0029125|-32400|0,\"439. Mapo Children\\'s Park\",37.53575134,126.94403839,18,0,true,false,false,12,false,0\\n1754,1644918610.002979|-32400|0,\"440. 하늘공원 입구\",37.57012177,126.88134766,9,8,true,false,false,17,false,0\\n1761,1644918610.003047|-32400|0,\"441.염천교사거리\",37.55989075,126.97149658,13,2,true,false,false,15,false,0\\n1768,1644918610.003114|-32400|0,\"442.서울역 서부\",37.55641556,126.96919250,12,8,true,false,false,20,false,0\\n1769,1644918610.0031822|-32400|0,\"443.호암아트홀\",37.56211090,126.97071838,5,4,true,false,false,9,false,0\\n1771,1644918610.0032494|-32400|0,\"445.대한상공회의소\",37.56015396,126.97410583,19,0,true,false,false,10,false,0\\n938,1644918610.0033152|-32400|0,\"446. Sangmyung University Entrance\",37.60012817,126.95783234,8,4,true,false,false,12,false,0\\n939,1644918610.00338|-32400|0,\"447. Sinyeong-dong Three-way Intersection\",37.60399246,126.96194458,3,3,true,false,false,6,false,0\\n941,1644918610.0034535|-32400|0,\"449. Ilseong Apartments\",37.60871887,126.97286224,8,4,true,false,false,12,false,0\\n978,1644918610.0035198|-32400|0,\"450. Hyoja-dong Three-way Intersection\",37.58360291,126.97254944,5,17,true,false,false,22,false,0\\n979,1644918610.003585|-32400|0,\"451. Street in front of Cheong Wa Dae (Blue House)\",37.58351517,126.97966766,11,4,true,false,false,15,false,0\\n1605,1644918610.0036492|-32400|0,\"452. Dongdaemun Mall Bus Stop\",37.57123947,127.00440979,10,3,true,false,false,13,false,0\\n1606,1644918610.003715|-32400|0,\"453. Exit 14 of Jongno 5-ga Underground Shopping Center\",37.57114029,127.00067139,29,0,true,false,false,12,false,0\\n1607,1644918610.0037794|-32400|0,\"454. Jongno 2-ga Bus Stop (Bound for Jonggak)\",37.57035828,126.98638153,10,5,true,false,false,15,false,0\\n1608,1644918610.0038435|-32400|0,\"455. Samik Oriental Medicine Clinic\",37.57096100,127.00605774,10,0,true,false,false,10,false,0\\n1609,1644918610.0039084|-32400|0,\"456. Sungin 2-dong Community Service Center Entrance (Leegang Samdae Naengmyeon)\",37.57447052,127.01982880,8,4,true,false,false,12,false,0\\n1610,1644918610.0040004|-32400|0,\"457. Next to the the Jongno Flower Market Entrance\",37.57131958,127.00720978,28,0,true,false,false,12,false,0\\n1611,1644918610.0040672|-32400|0,\"458. Exit 5 of Gwanghwamun Station\",37.56989288,126.97756958,13,10,true,false,false,23,false,0\\n1619,1644918610.0041335|-32400|0,\"461. Seoul Metropolitan Police Agency\",37.57436371,126.97236633,12,0,true,false,false,12,false,0\\n1752,1644918610.0041983|-32400|0,\"462. Sinyeong-dong Junction (To Bukak Tunnel)\",37.60351181,126.96206665,3,9,true,false,false,12,false,0\\n1756,1644918610.0042663|-32400|0,\"464. 삼청동 골목\",37.58419037,126.98169708,13,0,true,false,false,10,false,0\\n1759,1644918610.004334|-32400|0,\"465. 삼청공원 앞\",37.58760452,126.98359680,4,3,true,false,false,7,false,0\\n1772,1644918610.0044022|-32400|0,\"466.롯데호텔\",37.56584167,126.97981262,19,1,true,false,false,20,false,0\\n1773,1644918610.0044699|-32400|0,\"467.한국은행\",37.56221390,126.98086548,13,3,true,false,false,16,false,0\\n1774,1644918610.0045373|-32400|0,\"468.웨스틴 조선호텔\",37.56415939,126.97948456,9,1,true,false,false,10,false,0\\n1775,1644918610.0046058|-32400|0,\"469.회현역 1번출구\",37.55923080,126.98014069,4,12,true,false,false,16,false,0\\n1776,1644918610.004673|-32400|0,\"470.회현역 7번출구\",37.55974579,126.98000336,4,16,true,false,false,20,false,0\\n1777,1644918610.0047636|-32400|0,\"471.회현사거리 남측\",37.56035995,126.98265076,10,0,true,false,false,10,false,0\\n1778,1644918610.004833|-32400|0,\"472.삼일교(시그니쳐 타워)\",37.56787109,126.98898315,7,5,true,false,false,12,false,0\\n1779,1644918610.0049012|-32400|0,\"473.을지로4가역 9번출구\",37.56605148,126.99798584,19,1,true,false,false,20,false,0\\n1780,1644918610.0049691|-32400|0,\"474.동대문역사문화공원역 1번출구 뒤편\",37.56629944,127.00849152,26,4,true,false,false,30,false,0\\n1781,1644918610.005037|-32400|0,\"475.DDP 패션몰\",37.56764984,127.01181030,5,11,true,false,false,16,false,0\\n1782,1644918610.0051048|-32400|0,\"476.광희문\",37.56443024,127.00995636,1,9,true,false,false,10,false,0\\n1783,1644918610.0051723|-32400|0,\"477.앰배서더 호텔 주변\",37.55928802,127.00268555,8,2,true,false,false,10,false,0\\n1785,1644918610.005239|-32400|0,\"479.동대입구역 3번 출구\",37.55937576,127.00602722,9,4,true,false,false,13,false,0\\n1786,1644918610.005306|-32400|0,\"480.약수역 6번 출구\",37.55432129,127.01070404,6,2,true,false,false,8,false,0\\n1787,1644918610.0053742|-32400|0,\"481.신당역 10번 출구\",37.56703186,127.01579285,1,15,true,false,false,16,false,0\\n1789,1644918610.005441|-32400|0,\"483.남산타운아파트 버스정류장\",37.54758453,127.00643921,8,8,true,false,false,16,false,0\\n1790,1644918610.0055084|-32400|0,\"484.도동삼거리\",37.55614853,126.97742462,1,19,true,false,false,20,false,0\\n1791,1644918610.005576|-32400|0,\"485.서울역5번출구\",37.55677032,126.97319794,19,0,true,false,false,10,false,0\\n2019,1644918610.0056446|-32400|0,\"486. 평창동주민센터 앞\",37.60627365,126.96832275,8,0,true,false,false,7,false,0\\n2146,1644918610.005712|-32400|0,\"487.신석초교앞 교차로 교통섬\",37.54364014,126.93830872,24,0,true,false,false,15,false,0\\n2147,1644918610.005779|-32400|0,\"488.푸르메병원\",37.58456802,126.88021088,4,6,true,false,false,10,false,0\\n2148,1644918610.0058458|-32400|0,\"489.구룡근린공원\",37.58320236,126.88276672,10,0,true,false,false,10,false,0\\n2149,1644918610.005914|-32400|0,\"490.가온문화공원\",37.58207703,126.88766479,37,0,true,false,false,10,false,0\\n2150,1644918610.0059814|-32400|0,\"491.월드컵파크 4단지\",37.57597733,126.88806915,12,0,true,false,false,10,false,0\\n2151,1644918610.0060487|-32400|0,\"492.성산시영아파트 후문\",37.57313538,126.90184784,9,1,true,false,false,10,false,0\\n2152,1644918610.0061162|-32400|0,\"493.홍대입구역 6번출구\",37.55657578,126.92885590,7,0,true,false,false,7,false,0\\n2153,1644918610.006183|-32400|0,\"494.신수동주민센터\",37.54724503,126.93502808,5,0,true,false,false,5,false,0\\n2154,1644918610.0062513|-32400|0,\"495.염리초등학교 앞\",37.54243088,126.94699860,10,0,true,false,false,10,false,0\\n2156,1644918610.0063183|-32400|0,\"497.합정동주민센터 앞\",37.55175400,126.91230011,5,15,true,false,false,20,false,0\\n2157,1644918610.006385|-32400|0,\"498.연남동주민센터 앞\",37.56465149,126.92212677,8,2,true,false,false,10,false,0\\n97,1644918610.0064514|-32400|0,\"500. In front of Children\\'s Grand Park Station, Exit 3\",37.54706955,127.07427216,18,0,true,false,false,12,false,0\\n98,1644918610.006517|-32400|0,\"501. In front of Gwangjin-gu Council\",37.53730774,127.07035065,25,7,true,false,false,32,false,0\\n99,1644918610.0065866|-32400|0,\"502. In front of Ttukseom Resort Station, Exit 1\",37.53186035,127.06719208,9,27,true,false,false,36,false,0\\n102,1644918610.0066519|-32400|0,\"505. In front of Gwangjin Acrotel at Jayang Intersection\",37.53701019,127.08224487,3,9,true,false,false,12,false,0\\n103,1644918610.0067165|-32400|0,\"506. In front of Kumho Eoulim Apt.\",37.54906082,127.05779266,2,7,true,false,false,9,false,0\\n104,1644918610.0067806|-32400|0,\"507. In front of Seongsu IS Biz Tower\",37.54820251,127.05711365,23,0,true,false,false,9,false,0\\n105,1644918610.0068462|-32400|0,\"508. In front of Seongsu Academy Tower\",37.54516602,127.05751038,27,0,true,false,false,12,false,0\\n106,1644918610.0069108|-32400|0,\"509. Beside the E-Mart Bus Stop\",37.53965378,127.05258942,14,8,true,false,false,22,false,0\\n107,1644918610.006975|-32400|0,\"510. Beside the Seoul Forest South Gate Bus Stop\",37.54122162,127.04380035,2,10,true,false,false,12,false,0\\n108,1644918610.0070393|-32400|0,\"511. Beside Seoul Forest Station, Exit 4\",37.54458237,127.04460907,13,5,true,false,false,18,false,0\\n109,1644918610.0071032|-32400|0,\"512. Beside Ttukseom Station, Exit 1\",37.54856110,127.04500580,9,6,true,false,false,15,false,0\\n111,1644918610.0071936|-32400|0,\"513. Beside the Ttukseom Station Exit 5 Bus Stop\",37.54630661,127.04980469,11,4,true,false,false,15,false,0\\n112,1644918610.0072606|-32400|0,\"514. Beside the Seongsu Intersection Bus Stop\",37.54257965,127.06330872,0,9,true,false,false,9,false,0\\n113,1644918610.0073261|-32400|0,\"515. In front of Kwangyang Middle School\",37.53023529,127.08683014,3,9,true,false,false,12,false,0\\n114,1644918610.0073917|-32400|0,\"516. In front of Gwangjin-gu Medical Center\",37.54840469,127.06936646,4,8,true,false,false,12,false,0\\n234,1644918610.0074887|-32400|0,\"518. In front of the Cheonggyecheon Museum\",37.57152557,127.03535461,14,8,true,false,false,22,false,0\\n235,1644918610.0075552|-32400|0,\"519. Yangji Four-way Intersection\",37.56699371,127.02991486,17,5,true,false,false,22,false,0\\n236,1644918610.007621|-32400|0,\"520. In front of Exit 4 of Sangwangsimni Station\",37.56385803,127.03031921,12,0,true,false,false,8,false,0\\n237,1644918610.0076866|-32400|0,\"521. In front of Exit 11 of Wangsimni Station\",37.56144714,127.03491974,25,0,true,false,false,14,false,0\\n238,1644918610.0077558|-32400|0,\"522. In front of Exit 1 of Geumho Station\",37.54864120,127.01642609,13,0,true,false,false,11,false,0\\n239,1644918610.0078323|-32400|0,\"523. Next to Oksu-dong Catholic Church\",37.54366302,127.01406097,7,2,true,false,false,9,false,0\\n240,1644918610.0078993|-32400|0,\"524. Next to Raemian Geumho High River Apartment Complex (Building 102)\",37.55220032,127.02505493,12,0,true,false,false,12,false,0\\n241,1644918610.007966|-32400|0,\"525. Hanyang University Seoul Hospital Four-way Intersection\",37.55805206,127.04035187,11,11,true,false,false,22,false,0\\n242,1644918610.0080326|-32400|0,\"526. In front of Yongdap Folk Park\",37.56351089,127.05672455,15,0,true,false,false,12,false,0\\n243,1644918610.0080996|-32400|0,\"529. In front of Exit 8 of Janghanpyeong Station\",37.56137085,127.06365967,17,0,true,false,false,10,false,0\\n244,1644918610.0081658|-32400|0,\"530. Cheong-gye Byucksan Apartment Complex\",37.56874847,127.03040314,9,2,true,false,false,11,false,0\\n245,1644918610.0082326|-32400|0,\"533. In front of Woori Bank (Geumho-dong Branch)\",37.54814911,127.02108765,10,0,true,false,false,9,false,0\\n246,1644918610.008299|-32400|0,\"534. Geumho Four-way Intersection\",37.54863358,127.02572632,17,5,true,false,false,22,false,0\\n247,1644918610.0083654|-32400|0,\"535. Eungbong Three-way Intersection\",37.55398560,127.03359222,14,7,true,false,false,21,false,0\\n248,1644918610.0084317|-32400|0,\"536. In front of Exit 2 of Haengdang Station\",37.55735016,127.02921295,3,7,true,false,false,10,false,0\\n249,1644918610.0084972|-32400|0,\"537. Near Hanyang University Back Gate Station\",37.56035614,127.04139709,1,11,true,false,false,12,false,0\\n250,1644918610.0085635|-32400|0,\"538. In front of Exit 8 of Dapsimni Station\",37.56764984,127.05115509,12,5,true,false,false,17,false,0\\n252,1644918610.00863|-32400|0,\"539. Gunjagyo Bridge Intersection\",37.55979538,127.07420349,3,7,true,false,false,10,false,0\\n253,1644918610.0086963|-32400|0,\"540. In front of Exit 7 of Gunja Station (Best Shop)\",37.55603027,127.07864380,18,0,true,false,false,10,false,0\\n254,1644918610.0087628|-32400|0,\"542. Behind Exit 4 of Gangbyeon Station\",37.53546524,127.09448242,7,12,true,false,false,19,false,0\\n255,1644918610.008829|-32400|0,\"543. Guui Park (in front of Techno Mart)\",37.53596878,127.09467316,6,14,true,false,false,20,false,0\\n256,1644918610.0088956|-32400|0,\"544. Gwangnam Middle School\",37.54072952,127.10290527,5,17,true,false,false,22,false,0\\n257,1644918610.0089617|-32400|0,\"546. Gwangjang Hyundai Apartment Complex 8\",37.53247833,127.08509064,1,9,true,false,false,10,false,0\\n258,1644918610.009028|-32400|0,\"548. Jayang Interchange\",37.52976990,127.07485962,3,19,true,false,false,22,false,0\\n259,1644918610.0091174|-32400|0,\"549. Exit 3 of Achasan Station\",37.55122375,127.08970642,20,0,true,false,false,12,false,0\\n251,1644918610.009185|-32400|0,\"550. In front of Seoul Metropolitan Facilities Management Corporation\",37.57164001,127.03565979,5,10,true,false,false,15,false,0\\n377,1644918610.0092514|-32400|0,\"551. In front of Guui Samsung Chereville\",37.54006195,127.09449768,3,9,true,false,false,12,false,0\\n378,1644918610.0093172|-32400|0,\"552. In front of Daelim Acroriver\",37.53657913,127.09297180,2,10,true,false,false,12,false,0\\n379,1644918610.0093834|-32400|0,\"553. In front of the Junggok Sungwon Apartment Complex\",37.57125473,127.07980347,6,15,true,false,false,21,false,0\\n381,1644918610.0094492|-32400|0,\"555. Guui 3-dong Community Service Center\",37.53784943,127.09217072,0,11,true,false,false,11,false,0\\n357,1644918610.0095155|-32400|0,\"556. Dalmaji Park\",37.54205322,127.02040100,2,14,true,false,false,16,false,0\\n358,1644918610.0095813|-32400|0,\"557. In front of the Doseon-dong Community Service Center\",37.56764221,127.02569580,12,0,true,false,false,12,false,0\\n359,1644918610.0096483|-32400|0,\"558. In front of Seongdong Gwangjin District Office of Educational Support\",37.56460571,127.03652191,10,12,true,false,false,22,false,0\\n360,1644918610.009714|-32400|0,\"559. Across from Exit 4 of Wangsimni Station\",37.56109619,127.03679657,9,3,true,false,false,12,false,0\\n361,1644918610.0097792|-32400|0,\"560. In front of Vision Church\",37.55120468,127.06893158,6,4,true,false,false,10,false,0\\n362,1644918610.009845|-32400|0,\"561. In front of Exit 2 of Seoul Forest Station\",37.54281616,127.04467010,10,2,true,false,false,12,false,0\\n363,1644918610.0099108|-32400|0,\"562. In front of Gunja Underground Passage\",37.55924606,127.07341003,17,0,true,false,false,12,false,0\\n364,1644918610.0099764|-32400|0,\"563. Across from the NTS Seongdong District Office\",37.54791260,127.06275177,11,1,true,false,false,12,false,0\\n365,1644918610.0100417|-32400|0,\"564. In front of Exit 3 of Geumho Station\",37.54792786,127.01557159,3,9,true,false,false,12,false,0\\n366,1644918610.010107|-32400|0,\"565. In front of Exit 3 of Oksu Station\",37.54136658,127.01776123,9,6,true,false,false,15,false,0\\n368,1644918610.010184|-32400|0,\"567. In front of Exit 2 of Seongsu Station\",37.54459000,127.05708313,27,0,true,false,false,15,false,0\\n369,1644918610.0102487|-32400|0,\"568. Cheonggye 8-ga Four-way Intersection\",37.57110214,127.02355957,9,8,true,false,false,17,false,0\\n370,1644918610.0103133|-32400|0,\"569. Eungbong Hyundai Apartment Complex Bus Stop\",37.54958344,127.03024292,1,11,true,false,false,12,false,0\\n382,1644918610.0103776|-32400|0,\"571. Exit 6 of Children’s Grand Park Station\",37.54849625,127.07476044,9,11,true,false,false,20,false,0\\n383,1644918610.0104434|-32400|0,\"572. In front of the National Center for Mental Health\",37.56538010,127.08650970,1,21,true,false,false,22,false,0\\n384,1644918610.0105078|-32400|0,\"573. In front of Guuimun Parking Lot\",37.54523087,127.08473206,8,4,true,false,false,12,false,0\\n385,1644918610.010572|-32400|0,\"574. Exit 4 of Achasan Station\",37.55184937,127.08898163,33,14,true,false,false,47,false,0\\n386,1644918610.0106373|-32400|0,\"575. Jungang Nonghyup Bank (Junggok Branch)\",37.56429291,127.08693695,1,11,true,false,false,12,false,0\\n387,1644918610.010702|-32400|0,\"576. Exit 3 of Gwangnaru Station\",37.54483032,127.10426331,4,8,true,false,false,12,false,0\\n388,1644918610.0107667|-32400|0,\"577. Seoul Gwangjin Youth Center\",37.54654694,127.10613251,7,4,true,false,false,11,false,0\\n371,1644918610.0108309|-32400|0,\"578. Near NTS Seongdong District Office\",37.54828644,127.06208801,3,7,true,false,false,10,false,0\\n372,1644918610.010896|-32400|0,\"579. Exit 4 of Majang Station\",37.56520462,127.04184723,2,8,true,false,false,10,false,0\\n375,1644918610.0109599|-32400|0,\"582. In front of Kyungil Middle School\",37.54317856,127.04907990,10,2,true,false,false,12,false,0\\n376,1644918610.0110247|-32400|0,\"583. In front of Cheonggyecheon Eco School\",37.56797028,127.04689026,15,7,true,false,false,22,false,0\\n445,1644918610.0110896|-32400|0,\"584. Gwangjin Square (Traffic Island)\",37.54782867,127.07263184,26,0,true,false,false,22,false,0\\n446,1644918610.011154|-32400|0,\"585. Near the Seongsu 2-ga 1-dong Public Parking Lot\",37.53680801,127.05548859,4,7,true,false,false,11,false,0\\n447,1644918610.011218|-32400|0,\"586. Majang-dong Community Center\",37.56594086,127.04539490,2,10,true,false,false,12,false,0\\n482,1644918610.0113053|-32400|0,\"587. In front of Univera\",37.54541779,127.05264282,21,0,true,false,false,12,false,0\\n483,1644918610.0113719|-32400|0,\"588. Ttukseom Resort Station\",37.53268814,127.06749725,20,0,true,false,false,20,false,0\\n506,1644918610.0114448|-32400|0,\"589. Exit 3 of Seongsu Station\",37.54415894,127.05665588,27,0,true,false,false,10,false,0\\n972,1644918610.0115108|-32400|0,\"590. Konkuk University (Admissions & Information Technology Bldg)\",37.53989029,127.07336426,27,0,true,false,false,22,false,0\\n973,1644918610.0115767|-32400|0,\"591. Konkuk University (Administration Bldg)\",37.54277802,127.07537079,6,1,true,false,false,7,false,0\\n974,1644918610.0116472|-32400|0,\"592. Konkuk University (Student Union Bldg)\",37.54191208,127.07763672,2,30,true,false,false,32,false,0\\n980,1644918610.0117118|-32400|0,\"593.Jayang Central Interchange\",37.52858734,127.07787323,5,0,true,false,false,5,false,0\\n967,1644918610.0117772|-32400|0,\"594. Jungnang Sewage Treatment Center (Seoul Upcycling Plaza)\",37.55836487,127.05690765,6,11,true,false,false,17,false,0\\n260,1644918610.0118415|-32400|0,\"600. Hwigyeong 2-dong Community Service Center\",37.58991241,127.06867981,6,6,true,false,false,12,false,0\\n261,1644918610.0119066|-32400|0,\"601. Yongsin-dong Community Service Center\",37.57594681,127.03736115,4,8,true,false,false,12,false,0\\n262,1644918610.0119715|-32400|0,\"602. Jangan-dong Four-way Intersection\",37.57217407,127.07138824,18,0,true,false,false,12,false,0\\n264,1644918610.0120368|-32400|0,\"604. Park next to Dapsimni Elementary School\",37.56965637,127.05596161,6,11,true,false,false,17,false,0\\n265,1644918610.0121024|-32400|0,\"605. Exit 8 of Sinseol-dong Station\",37.57419968,127.02649689,14,0,true,false,false,10,false,0\\n266,1644918610.0121672|-32400|0,\"606. In front of Hwigyeong Technical High School\",37.58462524,127.07028961,13,4,true,false,false,17,false,0\\n267,1644918610.0122328|-32400|0,\"607. Exit 2 of Sinimun Station\",37.60271072,127.06786346,14,0,true,false,false,12,false,0\\n268,1644918610.0122976|-32400|0,\"608. Jeonnong Samsung Apartment Complex\",37.58131027,127.05534363,7,5,true,false,false,12,false,0\\n269,1644918610.012363|-32400|0,\"609. Jegigyo 2 Bridge\",37.58774567,127.03738403,1,21,true,false,false,22,false,0\\n270,1644918610.012428|-32400|0,\"610. Dongdaemun Middle School Intersection\",37.57308578,127.05216217,9,3,true,false,false,12,false,0\\n271,1644918610.0124934|-32400|0,\"612. Four-way Intersection in front of Seoul Metropolitan Dongbu Hospital\",37.57366562,127.03081512,15,5,true,false,false,20,false,0\\n272,1644918610.0125582|-32400|0,\"613. In front of Exit 6 of Sinseol-dong Station\",37.57527161,127.02346802,10,2,true,false,false,12,false,0\\n273,1644918610.0126226|-32400|0,\"614. Yongdu-dong Four-way Intersection\",37.57768631,127.03101349,12,10,true,false,false,22,false,0\\n274,1644918610.0126898|-32400|0,\"615. 용두동 래미안허브리츠아파트 앞\",37.57638168,127.03511047,22,0,true,false,false,22,false,0\\n275,1644918610.012756|-32400|0,\"616. In front of the University of Seoul\",37.58256149,127.05436707,14,8,true,false,false,22,false,0\\n276,1644918610.0128212|-32400|0,\"617. In front of Chungsol Woosung Apartment Complex\",37.57420349,127.05769348,13,9,true,false,false,22,false,0\\n389,1644918610.0128865|-32400|0,\"621. Next to Dongdaemun Middle School\",37.57471848,127.05339050,6,9,true,false,false,15,false,0\\n390,1644918610.0129511|-32400|0,\"622. Traffic Island at Jeonnong Four-way Intersection\",37.57779312,127.05783081,15,2,true,false,false,17,false,0\\n391,1644918610.0130193|-32400|0,\"623. In front of the Entrance to the University of Seoul\",37.58369827,127.05385590,8,14,true,false,false,22,false,0\\n392,1644918610.013085|-32400|0,\"624. In front of the Jeonnong-dong Dongah Apartment Complex\",37.57418823,127.04589081,17,0,true,false,false,12,false,0\\n393,1644918610.0131721|-32400|0,\"625. In front of Dapsimni Elementary School\",37.56819153,127.05717468,0,11,true,false,false,11,false,0\\n394,1644918610.0132387|-32400|0,\"626. Gunjagyo Greenbelt - West Side\",37.56115341,127.07096863,4,8,true,false,false,12,false,0\\n395,1644918610.0133042|-32400|0,\"627. Traffic Island at Jangan-dong Three-way Intersection\",37.57863235,127.07190704,14,0,true,false,false,12,false,0\\n396,1644918610.0133703|-32400|0,\"628. In front of Hwibong High School\",37.58681488,127.06754303,19,0,true,false,false,17,false,0\\n397,1644918610.0134354|-32400|0,\"630. Dongdaemun-gu Health Center\",37.57485199,127.04030609,1,16,true,false,false,17,false,0\\n398,1644918610.0135005|-32400|0,\"631. In front of Exit 1 of Dapsimni Station\",37.56818390,127.05127716,8,9,true,false,false,17,false,0\\n400,1644918610.0135653|-32400|0,\"633. In front of the Industrial Bank of Korea (Cheongnyangni Branch)\",37.58040619,127.04482269,2,8,true,false,false,10,false,0\\n401,1644918610.0136306|-32400|0,\"634. In front of the Entrance to Hankuk University of Foreign Studies\",37.59601974,127.05982971,20,2,true,false,false,22,false,0\\n402,1644918610.013696|-32400|0,\"635. In front of the Sijosa Building\",37.58751678,127.05277252,3,11,true,false,false,14,false,0\\n403,1644918610.0137606|-32400|0,\"636. Intersection in front of King Sejong the Great Memorial Hall\",37.59090042,127.04258728,3,8,true,false,false,11,false,0\\n404,1644918610.013825|-32400|0,\"637. In front of KAIST College of Business\",37.59161377,127.04579163,6,6,true,false,false,12,false,0\\n405,1644918610.0138898|-32400|0,\"638. Information and Technology Building at the University of Seoul\",37.58300781,127.06097412,24,0,true,false,false,22,false,0\\n406,1644918610.0139554|-32400|0,\"639. Behind the University of Seoul\",37.58519745,127.06095123,4,12,true,false,false,16,false,0\\n407,1644918610.0140204|-32400|0,\"640. KEB Hana Bank (Cheongnyangni Station Branch)\",37.58245468,127.04449463,6,2,true,false,false,8,false,0\\n408,1644918610.0140872|-32400|0,\"641. Exit 4 of Yongdu Station\",37.57375336,127.03853607,10,2,true,false,false,12,false,0\\n409,1644918610.0141525|-32400|0,\"642.Sindap Station Four-way Intersection\",37.57015610,127.04858398,4,5,true,false,false,9,false,0\\n410,1644918610.0142174|-32400|0,\"643. Dongdaemun Gumin Sports Center\",37.56697083,127.07441711,8,4,true,false,false,12,false,0\\n1298,1644918610.0142822|-32400|0,\"646. Exit 1 of Janghanpyeong Station (In front of KB Kookmin Bank)\",37.56186676,127.06437683,2,10,true,false,false,12,false,0\\n1299,1644918610.0143476|-32400|0,\"647. Exit 1 of Sinimun Station\",37.60279846,127.06726837,11,1,true,false,false,12,false,0\\n1300,1644918610.0144124|-32400|0,\"648. Next to Jangan-dong Withusvill\",37.56669998,127.06242371,17,0,true,false,false,17,false,0\\n1302,1644918610.0144768|-32400|0,\"650. Jungnanggyo Four-way Intersection\",37.59153366,127.06774139,3,19,true,false,false,22,false,0\\n1447,1644918610.0145423|-32400|0,\"652. Dapsimni Raemian Alpine Apt. Entrance\",37.57653046,127.06594086,0,22,true,false,false,22,false,0\\n1449,1644918610.0146065|-32400|0,\"654. Jeonnong-dong Teotgol Park\",37.57762146,127.05210876,11,1,true,false,false,12,false,0\\n1628,1644918610.014671|-32400|0,\"656. Yeonghwiwon Intersection\",37.58723831,127.04313660,10,2,true,false,false,12,false,0\\n1629,1644918610.0147364|-32400|0,\"657. In front of Dongdaemun Lotte Castle Apartment Complex\",37.57551956,127.04877472,8,7,true,false,false,15,false,0\\n1630,1644918610.0148013|-32400|0,\"658. Chwalyeongso Four-way Intersection\",37.57294846,127.06614685,11,1,true,false,false,12,false,0\\n1631,1644918610.0148659|-32400|0,\"659. Exit 1 of Jegi Station\",37.57835007,127.03338623,21,0,true,false,false,17,false,0\\n1632,1644918610.0149314|-32400|0,\"660. Donguibogam Tower\",37.57799911,127.03762817,14,0,true,false,false,12,false,0\\n1625,1644918610.0149963|-32400|0,\"661. Kyung Hee University (Cheongwoon Building)\",37.59460068,127.05196381,19,0,true,false,false,12,false,0\\n1671,1644918610.0150602|-32400|0,\"663. Exit 4 of Hankuk Univ. of Foreign Studies Station\",37.59489059,127.06302643,9,3,true,false,false,12,false,0\\n1758,1644918610.015128|-32400|0,\"664. 서울시립대 건설공학관\",37.58412933,127.05793762,19,0,true,false,false,12,false,0\\n2265,1644918610.0152218|-32400|0,\"665.이문동 쌍용아파트 정문\",37.59960556,127.06864166,10,1,true,false,false,11,false,0\\n2266,1644918610.0152917|-32400|0,\"666.이문대성유니드아파트 앞\",37.60362244,127.07083130,5,15,true,false,false,20,false,0\\n2267,1644918610.0153596|-32400|0,\"667.청량차도 육교 밑\",37.58659363,127.04699707,7,0,true,false,false,7,false,0\\n2268,1644918610.0154338|-32400|0,\"668.서울축산농협(장안지점)\",37.56799698,127.06877899,16,0,true,false,false,10,false,0\\n2269,1644918610.015502|-32400|0,\"669.청계한신휴플러스앞 삼거리\",37.57214737,127.04460907,9,1,true,false,false,10,false,0\\n2270,1644918610.0155694|-32400|0,\"670.삼육서울병원 버스정류장\",37.58968735,127.06140900,26,0,true,false,false,9,false,0\\n2271,1644918610.0156367|-32400|0,\"671.대광빌딩\",37.57734299,127.02337646,1,9,true,false,false,10,false,0\\n2272,1644918610.0157034|-32400|0,\"672.대광고등학교\",37.57859039,127.02384949,1,16,true,false,false,17,false,0\\n2273,1644918610.0157707|-32400|0,\"673.안암골벽산아파트(후문)\",37.58407974,127.03103638,7,3,true,false,false,10,false,0\\n2274,1644918610.0158381|-32400|0,\"674.고대앞사거리 교통섬\",37.58655167,127.03314209,9,6,true,false,false,15,false,0\\n2276,1644918610.0159051|-32400|0,\"676.FITI시험연구원 앞\",37.58143234,127.03547668,5,4,true,false,false,9,false,0\\n2277,1644918610.015973|-32400|0,\"677.청량리역 4번 5번출구 사이\",37.58015060,127.04579926,25,0,true,false,false,20,false,0\\n2278,1644918610.016041|-32400|0,\"678.장안힐스테이트(아) 앞\",37.57655716,127.07431030,16,0,true,false,false,15,false,0\\n2279,1644918610.016108|-32400|0,\"679.전농SK아파트 앞\",37.57787704,127.06168365,1,9,true,false,false,10,false,0\\n2280,1644918610.0161755|-32400|0,\"680.꿈마루어린이도서관 앞\",37.59238434,127.05741119,16,0,true,false,false,15,false,0\\n2281,1644918610.0162432|-32400|0,\"681.서울특별시 동부교육지원청(육교)\",37.57983780,127.05637360,9,5,true,false,false,14,false,0\\n308,1644918610.0163093|-32400|0,\"700. In front of KB Kookmin Bank (Yeomchang Station Branch)\",37.54684830,126.87277222,13,9,true,false,false,22,false,0\\n309,1644918610.016375|-32400|0,\"701. Near Mokdong Four-way Intersection\",37.53280258,126.86392975,15,0,true,false,false,10,false,0\\n310,1644918610.0164404|-32400|0,\"702. Next to the Mok 4-dong Community Service Center\",37.53254318,126.86872864,3,15,true,false,false,18,false,0\\n311,1644918610.0165052|-32400|0,\"703. In front of Exit 7 of Omokgyo Station\",37.52362823,126.87524414,3,11,true,false,false,14,false,0\\n312,1644918610.0165708|-32400|0,\"704. Nambu Court and Public Prosecutors’ Office Intersection\",37.52325439,126.86490631,5,12,true,false,false,17,false,0\\n313,1644918610.0166383|-32400|0,\"706. Sinjeongnegeori Station\",37.52188110,126.85175323,3,14,true,false,false,17,false,0\\n315,1644918610.0167084|-32400|0,\"708. In front of the Korea Immigration Service\",37.51897049,126.86996460,12,6,true,false,false,18,false,0\\n316,1644918610.0167735|-32400|0,\"709. In front of the Sinjeong 3-dong Public Service Center\",37.51158524,126.84156036,18,4,true,false,false,22,false,0\\n317,1644918610.0168397|-32400|0,\"710. 금옥여고보도육교\",37.50971222,126.84416962,3,7,true,false,false,10,false,0\\n318,1644918610.0169058|-32400|0,\"711. In front of the Shinil Happytree Apartment Complex\",37.51705933,126.84848785,20,2,true,false,false,22,false,0\\n319,1644918610.0169713|-32400|0,\"712. Gangwol Elementary School Four-way Intersection\",37.51699829,126.83831787,1,15,true,false,false,16,false,0\\n320,1644918610.017037|-32400|0,\"713. Next to Yangseo Middle School\",37.53304672,126.82995605,20,2,true,false,false,22,false,0\\n321,1644918610.0171018|-32400|0,\"714. In front of the Korea SGI Yangcheon Cultural Center\",37.53254700,126.83080292,0,12,true,false,false,12,false,0\\n428,1644918610.017167|-32400|0,\"716. Near Sinjeong 6-dong Community Service Center\",37.51731873,126.86431885,31,0,true,false,false,17,false,0\\n431,1644918610.0172553|-32400|0,\"719. Intersection in front of Hongik Hospital\",37.53036880,126.86425781,0,12,true,false,false,12,false,0\\n432,1644918610.0173218|-32400|0,\"720. In front of Seoul Gangwol Elementary School\",37.51619720,126.83489990,21,0,true,false,false,12,false,0\\n993,1644918610.0173867|-32400|0,\"722. LG Electronics Best Shop (Sinjeong Branch)\",37.52151108,126.85738373,7,5,true,false,false,12,false,0\\n994,1644918610.0174522|-32400|0,\"723. SBS\",37.52916336,126.87274933,15,2,true,false,false,17,false,0\\n995,1644918610.0175169|-32400|0,\"724. Gyenam Park Main Entrance (Left Side)\",37.51068115,126.85739899,7,10,true,false,false,17,false,0\\n996,1644918610.0175824|-32400|0,\"725. Intersection in front of Yangkang Middle School\",37.52433395,126.85054779,15,2,true,false,false,17,false,0\\n997,1644918610.0176473|-32400|0,\"726. Mokdong Apartment Complex 3 Bus Stop\",37.53438950,126.86959839,4,13,true,false,false,17,false,0\\n1000,1644918610.017712|-32400|0,\"729. Across from Seobu Grocery Store\",37.51037979,126.86679840,3,9,true,false,false,12,false,0\\n1002,1644918610.0177774|-32400|0,\"731. Seoul Road Environment Management Center\",37.52989960,126.87654114,17,0,true,false,false,12,false,0\\n1003,1644918610.017843|-32400|0,\"732. E-mart (Sinwol-dong Branch)\",37.53955078,126.82830048,1,11,true,false,false,12,false,0\\n1004,1644918610.0179074|-32400|0,\"733. Sinjeong Ipen House 314-dong\",37.51409912,126.83100128,12,0,true,false,false,12,false,0\\n1005,1644918610.0179722|-32400|0,\"734. Sinteuri Park Entrance\",37.51395035,126.85605621,6,6,true,false,false,12,false,0\\n1006,1644918610.0180376|-32400|0,\"735. Seoul Youngdo Elementary School\",37.53637695,126.87151337,9,3,true,false,false,12,false,0\\n1007,1644918610.0181022|-32400|0,\"736. Osolgil Park\",37.52219009,126.83670044,2,10,true,false,false,12,false,0\\n1008,1644918610.018167|-32400|0,\"737. Jangsu Park\",37.52256012,126.84947968,4,8,true,false,false,12,false,0\\n1010,1644918610.0182316|-32400|0,\"739. Sinwol Four-way Intersection\",37.53620148,126.82779694,4,13,true,false,false,17,false,0\\n1011,1644918610.0182967|-32400|0,\"740. Eutteum Park\",37.53636932,126.83171082,5,7,true,false,false,12,false,0\\n1012,1644918610.0183618|-32400|0,\"741. Hwagok-ro Entrance Intersection\",37.53952026,126.82540131,4,8,true,false,false,12,false,0\\n1013,1644918610.018427|-32400|0,\"742. Behind Exit 5 of Deungchon Station\",37.55073166,126.86457825,4,8,true,false,false,12,false,0\\n1014,1644918610.0184922|-32400|0,\"743. Next to the Hyundai 6 cha Apartment 101-dong\",37.50889969,126.84268188,11,1,true,false,false,12,false,0\\n1015,1644918610.0185585|-32400|0,\"744. Exit 2 of Sinmokdong Station\",37.54384232,126.88254547,1,9,true,false,false,10,false,0\\n1016,1644918610.0186238|-32400|0,\"745. Seoul Kangseo Elementary School\",37.52228165,126.83969879,9,3,true,false,false,12,false,0\\n1017,1644918610.0186884|-32400|0,\"746. Mokdong Apartment Complex 2 Commercial Building\",37.53650284,126.87774658,8,4,true,false,false,12,false,0\\n1018,1644918610.0187762|-32400|0,\"747. Mokdong Apartment Complex 3 Commercial Building\",37.53458023,126.87564850,6,6,true,false,false,12,false,0\\n1019,1644918610.0188432|-32400|0,\"748. Mokdong Stadium\",37.53025055,126.87930298,22,0,true,false,false,17,false,0\\n1350,1644918610.0189085|-32400|0,\"749. In front of Ewha Womans University Medical Center\",37.53722763,126.88661194,19,0,true,false,false,12,false,0\\n1398,1644918610.0189805|-32400|0,\"750. Across the Yeonui Neighborhood Park\",37.51215744,126.83562469,8,4,true,false,false,12,false,0\\n1400,1644918610.0190456|-32400|0,\"752. Sungwon 2 cha Apartments\",37.54218292,126.86330414,8,4,true,false,false,12,false,0\\n1495,1644918610.0191126|-32400|0,\"754. 목동1단지아파트 118동 앞\",37.54114151,126.87667847,3,9,true,false,false,12,false,0\\n1496,1644918610.0191805|-32400|0,\"755. 목동1단지아파트 상가 앞\",37.53786850,126.88140869,4,8,true,false,false,12,false,0\\n1497,1644918610.0192466|-32400|0,\"756. Mokdong Parking Lot\",37.52667999,126.87616730,7,5,true,false,false,12,false,0\\n1498,1644918610.0193121|-32400|0,\"757. Sinjeong Ippen Haus Apt. Complex 1 Entrance Four-way Intersection\",37.51427841,126.82874298,35,0,true,false,false,12,false,0\\n1499,1644918610.0193777|-32400|0,\"758. In front of Hansarang Church\",37.51472092,126.85919952,2,10,true,false,false,12,false,0\\n1500,1644918610.0195062|-32400|0,\"759. In front of Boas Apt.\",37.52407074,126.83860016,2,9,true,false,false,11,false,0\\n1501,1644918610.0195782|-32400|0,\"760. Under Jatjeol Overpass\",37.50682068,126.84429932,15,0,true,false,false,12,false,0\\n1503,1644918610.0196435|-32400|0,\"762. In front of Omok-ro Youth Zone\",37.52474213,126.87766266,1,11,true,false,false,12,false,0\\n1504,1644918610.019709|-32400|0,\"763. Mokdong Apt. Complex 11\",37.51065826,126.85916138,2,10,true,false,false,12,false,0\\n1505,1644918610.0197744|-32400|0,\"764. Mokdong Youth Center\",37.53102875,126.87589264,23,9,true,false,false,32,false,0\\n1731,1644918610.0198398|-32400|0,\"765. In front of Exit 3 of Omokgyo Station\",37.52477646,126.87548065,1,13,true,false,false,14,false,0\\n1736,1644918610.0199053|-32400|0,\"766. Exit 3 of Sinmokdong Station\",37.54394913,126.88346100,19,0,true,false,false,17,false,0\\n1993,1644918610.0199723|-32400|0,\"767.신정숲속마을아파트\",37.50574493,126.83631134,8,2,true,false,false,10,false,0\\n1994,1644918610.0200393|-32400|0,\"768.목동5단지아파트 501동\",37.53566742,126.88158417,12,3,true,false,false,15,false,0\\n1995,1644918610.0201063|-32400|0,\"769.CBS방송국 앞\",37.52785492,126.87467194,13,7,true,false,false,20,false,0\\n1996,1644918610.020174|-32400|0,\"770.목동역5번출구 교통정보센터 앞\",37.52571487,126.86486816,22,0,true,false,false,10,false,0\\n1997,1644918610.020242|-32400|0,\"771.목동아파트 703동 앞\",37.52820587,126.87016296,18,0,true,false,false,8,false,0\\n1999,1644918610.0203094|-32400|0,\"773.염창역 3, 4번 출구 사이\",37.54670715,126.87457275,6,4,true,false,false,10,false,0\\n2000,1644918610.0203774|-32400|0,\"774.등촌역 4번 출구 \",37.54950714,126.86721802,3,8,true,false,false,11,false,0\\n2001,1644918610.0204449|-32400|0,\"775.세종그랑시아 앞(102동)\",37.53837585,126.86383057,14,0,true,false,false,10,false,0\\n2002,1644918610.0205133|-32400|0,\"776.목마공원\",37.53874207,126.88568115,10,5,true,false,false,15,false,0\\n2003,1644918610.0205803|-32400|0,\"777.신월6차보람아파트 앞\",37.53012848,126.83477783,5,5,true,false,false,10,false,0\\n2005,1644918610.0206475|-32400|0,\"779. 신정1동 주민센터 앞\",37.51854324,126.85388184,5,5,true,false,false,10,false,0\\n2006,1644918610.0207145|-32400|0,\"780.신정교 하부\",37.51733780,126.87764740,16,0,true,false,false,15,false,0\\n2007,1644918610.020782|-32400|0,\"781.신정보도육교 아래\",37.51759338,126.87655640,5,5,true,false,false,10,false,0\\n2008,1644918610.0208497|-32400|0,\"782.서남병원 후문\",37.51167297,126.83274078,11,9,true,false,false,20,false,0\\n2011,1644918610.0209172|-32400|0,\"785.양천구청, 보건소 사잇길\",37.51732635,126.86630249,10,5,true,false,false,15,false,0\\n2012,1644918610.0209842|-32400|0,\"786.목동아파트 8단지 상가동 앞\",37.52007294,126.86830139,2,7,true,false,false,9,false,0\\n2013,1644918610.0210512|-32400|0,\"787.양천아파트 입구\",37.50790405,126.86264801,13,0,true,false,false,10,false,0\\n2014,1644918610.0211189|-32400|0,\"788.양천구청역 2번출구 옆\",37.51237869,126.86555481,5,10,true,false,false,15,false,0\\n2015,1644918610.021186|-32400|0,\"790.화곡고가 사거리\",37.52760696,126.84875488,0,40,true,false,false,40,false,0\\n2016,1644918610.021253|-32400|0,\"791.현대하이페리온\",37.52490616,126.86978912,16,0,true,false,false,15,false,0\\n2017,1644918610.0213203|-32400|0,\"792.목동트라팰리스 웨스턴에비뉴\",37.52537155,126.87092590,33,0,true,false,false,20,false,0\\n2039,1644918610.0213876|-32400|0,\"793.목동5단지아파트 534동\",37.53302002,126.87789917,17,0,true,false,false,15,false,0\\n2395,1644918610.021455|-32400|0,\"794.양천문화회관\",37.51686478,126.86296082,4,6,true,false,false,10,false,0\\n2396,1644918610.0215225|-32400|0,\"795.양천 해누리타운\",37.51584244,126.86411285,1,9,true,false,false,10,false,0\\n2397,1644918610.02159|-32400|0,\"796.목동아파트 14단지 B상가 앞\",37.51466370,126.87194061,1,9,true,false,false,10,false,0\\n2398,1644918610.0216808|-32400|0,\"797.목동아파트 1422동 1434동 사잇길\",37.51515579,126.87248993,8,2,true,false,false,10,false,0\\n322,1644918610.021749|-32400|0,\"800. In front of Mokwol Park\",37.53243256,126.95474243,13,4,true,false,false,17,false,0\\n324,1644918610.0218143|-32400|0,\"802. In front of Exit 2 of Hangangjin Station\",37.54115295,127.00221252,5,7,true,false,false,12,false,0\\n325,1644918610.0218794|-32400|0,\"803. Overpass in front of Hannam Elementary School\",37.53813934,127.00409698,5,7,true,false,false,12,false,0\\n326,1644918610.0219443|-32400|0,\"805. In front of Munbae Children’s Park\",37.53675842,126.97000122,4,7,true,false,false,11,false,0\\n327,1644918610.0220165|-32400|0,\"806. In front of the ET Land Main Building\",37.53306580,126.96073151,14,8,true,false,false,22,false,0\\n328,1644918610.0221043|-32400|0,\"807. In front of Exit 12 of Seoul Station\",37.55227661,126.97268677,13,0,true,false,false,12,false,0\\n329,1644918610.0221715|-32400|0,\"808. In front of Kumho Mansion in Seobinggo-dong\",37.52050400,126.98973846,7,5,true,false,false,12,false,0\\n330,1644918610.0222366|-32400|0,\"809. Hannam Detention Basin Parking Lot\",37.53016663,127.00743866,14,0,true,false,false,12,false,0\\n331,1644918610.0223017|-32400|0,\"810. Itaewon Underpass\",37.53841019,126.98664856,0,12,true,false,false,12,false,0\\n332,1644918610.0223668|-32400|0,\"811. Exit 1 of Noksapyeong Station\",37.53507996,126.98538208,6,16,true,false,false,22,false,0\\n333,1644918610.0224314|-32400|0,\"812. The war Memorial of Korea\",37.53483963,126.97766113,10,12,true,false,false,22,false,0\\n334,1644918610.0224957|-32400|0,\"813. Exit 3 of Samgakji Station\",37.53351212,126.97227478,15,7,true,false,false,22,false,0\\n335,1644918610.0225608|-32400|0,\"815. In front of LIG Kangchon Apartment Complex (Building 103)\",37.51850891,126.97879791,10,12,true,false,false,22,false,0\\n435,1644918610.0226262|-32400|0,\"816. In front of Exit 6 of Sinyongsan Station\",37.53014755,126.96848297,14,3,true,false,false,17,false,0\\n436,1644918610.0226905|-32400|0,\"817. In front of Exit 4 of Samgakji Station\",37.53345108,126.97173309,6,5,true,false,false,11,false,0\\n437,1644918610.0227551|-32400|0,\"818. Sookmyung Women’s University Entrance Intersection\",37.54489517,126.96938324,7,10,true,false,false,17,false,0\\n438,1644918610.0228214|-32400|0,\"819. Sunrin Internet High School\",37.54165268,126.97050476,14,0,true,false,false,14,false,0\\n439,1644918610.022886|-32400|0,\"820. In front of the Renault Samsung Dealership\",37.54902649,126.97194672,8,4,true,false,false,12,false,0\\n440,1644918610.022951|-32400|0,\"822. Ichon 1-dong Community Park\",37.52204132,126.96552277,3,9,true,false,false,12,false,0\\n441,1644918610.0230155|-32400|0,\"823. In front of the Hyochang-dong Community Service Center\",37.54232025,126.96195984,9,3,true,false,false,12,false,0\\n442,1644918610.0230799|-32400|0,\"825. In front of the Seobinggo-dong Community Service Center\",37.52033615,126.99426270,10,7,true,false,false,17,false,0\\n946,1644918610.0231447|-32400|0,\"826. Seoul Station Seobu Intersection 2\",37.55536652,126.96864319,17,5,true,false,false,22,false,0\\n1324,1644918610.0232096|-32400|0,\"827. MND Welfare Agency\",37.54188538,126.97966003,6,10,true,false,false,16,false,0\\n1325,1644918610.0232744|-32400|0,\"828. Exit 8 of Sookmyung Women’s University Station\",37.54407883,126.97200012,12,0,true,false,false,9,false,0\\n1326,1644918610.0233407|-32400|0,\"829. In front of Vergamo\",37.52293015,126.96169281,1,41,true,false,false,42,false,0\\n1327,1644918610.0234122|-32400|0,\"830. In front of Cheongam Xi Apartments\",37.53442383,126.94857025,15,0,true,false,false,12,false,0\\n1328,1644918610.023478|-32400|0,\"831. Itaewon Special Tourism Zone Entrance\",37.53427887,126.98856354,1,16,true,false,false,17,false,0\\n1339,1644918610.0235434|-32400|0,\"832. Behind Ichon 1-dong Community Service Center\",37.52128220,126.97346497,30,0,true,false,false,17,false,0\\n1341,1644918610.0236087|-32400|0,\"834. Behind Exit 3 of Hyochang Park Station\",37.53900909,126.96138000,16,1,true,false,false,17,false,0\\n1342,1644918610.023673|-32400|0,\"835. Across the street from Namyeong Station\",37.54198074,126.97154236,16,0,true,false,false,12,false,0\\n1343,1644918610.023738|-32400|0,\"836. In front of Hyundai Motor Service Center\",37.53142166,126.95149994,18,0,true,false,false,17,false,0\\n1344,1644918610.023802|-32400|0,\"837. Hannam Interchange Entrance\",37.52906036,127.00672913,12,0,true,false,false,12,false,0\\n1376,1644918610.0238674|-32400|0,\"838. Exit 4 of Sookmyung Women’s University Station\",37.54446030,126.97238922,14,0,true,false,false,10,false,0\\n1441,1644918610.0239334|-32400|0,\"839. In front of Bogwang-dong Samsung Rivervill Apt.\",37.52400970,127.00144958,13,0,true,false,false,12,false,0\\n1442,1644918610.0239983|-32400|0,\"840. In front of Yongsan Park Tower\",37.52365112,126.97026825,10,2,true,false,false,12,false,0\\n1443,1644918610.0240633|-32400|0,\"841. Exit 1 of Sinyongsan Station\",37.52960968,126.96887207,6,9,true,false,false,15,false,0\\n1445,1644918610.0241277|-32400|0,\"843. Noksapyeong Station Plaza\",37.53379822,126.98867035,7,5,true,false,false,12,false,0\\n1446,1644918610.0241923|-32400|0,\"844. In front of Ichon 2-dong Dongwon Benest Apt.\",37.52714920,126.95516205,4,9,true,false,false,13,false,0\\n1615,1644918610.024257|-32400|0,\"845. Yongsan Sunin Arcade\",37.53269958,126.96437836,15,9,true,false,false,24,false,0\\n1721,1644918610.0243218|-32400|0,\"846. Youngsan Middle school\",37.54650116,126.98094940,12,5,true,false,false,17,false,0\\n2171,1644918610.02439|-32400|0,\"847. 국방부민원실옆\",37.53452301,126.97750092,17,0,true,false,false,15,false,0\\n2172,1644918610.0244577|-32400|0,\"848. 삼각지12번 출구\",37.53488922,126.97562408,10,0,true,false,false,10,false,0\\n2173,1644918610.0245254|-32400|0,\"849. 삼각지 자이아파트\",37.53607941,126.97341919,20,0,true,false,false,15,false,0\\n2174,1644918610.0245926|-32400|0,\"850. KCC용산월츠타워 \",37.53739929,126.96892548,6,9,true,false,false,15,false,0\\n2175,1644918610.02466|-32400|0,\"851.효창 푸르지오 앞\",37.54047775,126.95811462,10,0,true,false,false,10,false,0\\n2176,1644918610.0247278|-32400|0,\"852.청암자이APT(103동)\",37.53452682,126.94718170,15,5,true,false,false,20,false,0\\n2177,1644918610.0247948|-32400|0,\"853.용산역 맞은편\",37.52856827,126.96569061,15,0,true,false,false,10,false,0\\n2178,1644918610.024865|-32400|0,\"854.HID 유족동지회 앞\",37.53872681,127.00154877,9,1,true,false,false,10,false,0\\n2179,1644918610.0249321|-32400|0,\"855.이촌역5번출구 앞\",37.52272415,126.97277069,18,0,true,false,false,15,false,0\\n2181,1644918610.0249996|-32400|0,\"857. 현대 안성타워\",37.53502274,126.99805450,9,6,true,false,false,15,false,0\\n2182,1644918610.0250666|-32400|0,\"858.녹사평역3번 출구\",37.53440857,126.98689270,3,4,true,false,false,7,false,0\\n2183,1644918610.0251336|-32400|0,\"859.남산공원 야외식물원 앞\",37.54188538,126.99586487,0,10,true,false,false,10,false,0\\n2184,1644918610.0252006|-32400|0,\"860.LG한강 자이아파트 앞\",37.52069473,126.97097778,14,1,true,false,false,15,false,0\\n2187,1644918610.025268|-32400|0,\"863.이촌역2번 출구\",37.52177048,126.97700500,8,7,true,false,false,15,false,0\\n2188,1644918610.025335|-32400|0,\"864.순천향대학병원(한남오거리)\",37.53514099,127.00600433,9,1,true,false,false,10,false,0\\n2189,1644918610.025402|-32400|0,\"865.하얏트호텔 앞\",37.54079437,126.99784851,0,15,true,false,false,15,false,0\\n2190,1644918610.0254686|-32400|0,\"866.브라운스톤 남산아파트\",37.55154800,126.97686005,10,0,true,false,false,10,false,0\\n2191,1644918610.0255356|-32400|0,\"867.서빙고역 광장(1번출구)\",37.51990891,126.98923492,2,8,true,false,false,10,false,0\\n2239,1644918610.0256262|-32400|0,\"869.노들섬 동측 앞\",37.51729584,126.95914459,2,8,true,false,false,10,false,0\\n2240,1644918610.0256946|-32400|0,\"870.노들섬 서측 앞\",37.51731873,126.95829773,6,4,true,false,false,10,false,0\\n448,1644918610.0257616|-32400|0,\"900. Eunpyeong Culture & Arts Center\",37.60394287,126.92769623,21,1,true,false,false,22,false,0\\n449,1644918610.0258276|-32400|0,\"901. Eungam 1-dong Community Center?\",37.60097504,126.92695618,13,0,true,false,false,12,false,0\\n450,1644918610.0258925|-32400|0,\"902. Jingwan-dong Eunvit Elementary School\",37.64310837,126.91822052,6,6,true,false,false,12,false,0\\n451,1644918610.0259771|-32400|0,\"903. Eunpyeong Newtown I-Park\",37.64586639,126.92739105,6,16,true,false,false,22,false,0\\n452,1644918610.026044|-32400|0,\"904. Eunpyeong Newtown Prugio\",37.64867401,126.93070221,8,12,true,false,false,20,false,0\\n453,1644918610.0261092|-32400|0,\"905. Exit 2 of Gupabal Station\",37.63623428,126.91899872,9,0,true,false,false,9,false,0\\n454,1644918610.0261757|-32400|0,\"906. 연신내역 5번출구\",37.61721039,126.91957855,10,2,true,false,false,12,false,0\\n455,1644918610.0262423|-32400|0,\"907. CJ Dream City\",37.59949112,126.91686249,35,0,true,false,false,12,false,0\\n456,1644918610.0263073|-32400|0,\"908. Exit 4 of Gusan Station\",37.61318588,126.91735077,11,1,true,false,false,12,false,0\\n457,1644918610.0263722|-32400|0,\"909. Baengnyeonsan Hillstate 3-cha\",37.58699417,126.92288208,3,9,true,false,false,12,false,0\\n459,1644918610.0264432|-32400|0,\"911. Eunpyeong Peace Park (Exit 4 of Yeokchon Station)\",37.60558319,126.92293549,4,8,true,false,false,12,false,0\\n460,1644918610.0265076|-32400|0,\"912. Eungam Five-way Intersection\",37.58966064,126.91694641,4,8,true,false,false,12,false,0\\n461,1644918610.0265725|-32400|0,\"913. Emart (Eunpyeong Branch)\",37.60070038,126.92012787,1,16,true,false,false,17,false,0\\n462,1644918610.0266373|-32400|0,\"914. Exit 2 of Saejeol Station\",37.59079742,126.91365051,25,0,true,false,false,22,false,0\\n463,1644918610.026701|-32400|0,\"915. Exit 4 of Jeungsan Station\",37.58438110,126.90989685,2,10,true,false,false,12,false,0\\n464,1644918610.026766|-32400|0,\"916. In front of the Lifelong Learning Center\",37.60784912,126.92132568,19,0,true,false,false,9,false,0\\n465,1644918610.0268312|-32400|0,\"917. Exit 4 of Nokbeon Station\",37.60129929,126.93534851,1,10,true,false,false,11,false,0\\n467,1644918610.0269012|-32400|0,\"919. Seoul Innovation Park\",37.60702515,126.93331146,0,12,true,false,false,12,false,0\\n469,1644918610.0269659|-32400|0,\"921. Sindo High School\",37.63001633,126.91902924,1,11,true,false,false,12,false,0\\n470,1644918610.0270305|-32400|0,\"922. Exit 4 of Yeonsinnae Station\",37.61780167,126.92196655,14,0,true,false,false,12,false,0\\n471,1644918610.0270953|-32400|0,\"923. Kookmin Bank (Yeonseo Branch)\",37.62094879,126.92563629,11,1,true,false,false,12,false,0\\n472,1644918610.0271597|-32400|0,\"924. Maettugi Bridge\",37.62851715,126.92958069,7,10,true,false,false,17,false,0\\n473,1644918610.0272243|-32400|0,\"925. Exit 2 of Bulgwang Station\",37.60956573,126.93097687,3,7,true,false,false,10,false,0\\n475,1644918610.0272892|-32400|0,\"927. Near Exit 3 of Yeonsinnae Station\",37.61785507,126.92252350,12,0,true,false,false,12,false,0\\n476,1644918610.027354|-32400|0,\"928. Eunpyeong History Hanok Museum\",37.64131546,126.93804169,7,10,true,false,false,17,false,0\\n478,1644918610.0274286|-32400|0,\"930. Across from the former Seobu Police Station\",37.60166168,126.92030334,2,7,true,false,false,9,false,0\\n479,1644918610.027494|-32400|0,\"931. Yeokchon Police Substation\",37.60473633,126.91533661,4,18,true,false,false,22,false,0\\n480,1644918610.0275629|-32400|0,\"932. Yale Girls’ Middle School\",37.61000443,126.91639709,3,9,true,false,false,12,false,0\\n481,1644918610.0276356|-32400|0,\"933. LG Service Center (Yeokchon Branch)\",37.61248398,126.91487885,2,10,true,false,false,12,false,0\\n1020,1644918610.0277007|-32400|0,\"934. Sinsadong Catholic Church\",37.59714127,126.90959930,7,10,true,false,false,17,false,0\\n1023,1644918610.0277658|-32400|0,\"937. Next to the Sanglim Village Lotte Castle Complex 2\",37.64585114,126.92379761,18,0,true,false,false,12,false,0\\n1024,1644918610.0278337|-32400|0,\"938. Geumam Cultural Park\",37.64468384,126.91845703,25,0,true,false,false,17,false,0\\n1025,1644918610.0278988|-32400|0,\"939. Eunpyeong-gu Office Intersection\",37.60169983,126.92742157,3,14,true,false,false,17,false,0\\n1027,1644918610.0279644|-32400|0,\"941. Eunpyeong New Town Public Library\",37.63722229,126.93330383,0,15,true,false,false,15,false,0\\n1028,1644918610.0280292|-32400|0,\"942. Sanglim Village Ecological Park\",37.64408112,126.92928314,5,6,true,false,false,11,false,0\\n1029,1644918610.0280943|-32400|0,\"943. Eunpyeong-gu Office Health Center\",37.60240173,126.92864990,27,0,true,false,false,12,false,0\\n1031,1644918610.0281587|-32400|0,\"945. Gijachon Four-way Intersection\",37.63414001,126.93234253,3,9,true,false,false,12,false,0\\n1032,1644918610.0282233|-32400|0,\"946. Dokbawi Station\",37.61843872,126.93288422,2,10,true,false,false,12,false,0\\n1033,1644918610.0282876|-32400|0,\"947. Yeonsinnae Seonil Heights Ville Bus Stop\",37.62266922,126.91999054,2,10,true,false,false,12,false,0\\n1034,1644918610.028355|-32400|0,\"948. 디지털미디어 시티역 4번출구(DMC역)\",37.57720184,126.90235138,8,4,true,false,false,12,false,0\\n1035,1644918610.0284212|-32400|0,\"949. Exit 1 of Yeonsinnae Station\",37.61978149,126.92080688,20,0,true,false,false,9,false,0\\n1036,1644918610.0284865|-32400|0,\"950. Exit 2 of Gusan Station\",37.61077881,126.91735077,8,0,true,false,false,7,false,0\\n1038,1644918610.0285509|-32400|0,\"952. Yonsin Middle School\",37.62265015,126.92524719,1,11,true,false,false,12,false,0\\n1039,1644918610.0286162|-32400|0,\"953. Seoul Yeonsin Elementary School\",37.62577820,126.92881775,7,5,true,false,false,12,false,0\\n1329,1644918610.0286815|-32400|0,\"954. Eunpyeong New Town Gupabal Complex 9\",37.64260864,126.92147827,19,0,true,false,false,12,false,0\\n1331,1644918610.028746|-32400|0,\"956. Eungam Market Intersection\",37.59441376,126.91801453,6,5,true,false,false,11,false,0\\n1479,1644918610.0288107|-32400|0,\"958. In front of Shinhan Bank (Eungam Branch)\",37.60036087,126.92281342,10,5,true,false,false,15,false,0\\n1480,1644918610.028877|-32400|0,\"959. Near Gupabal Apt. Complex 10\",37.64366150,126.91455841,6,6,true,false,false,12,false,0\\n1481,1644918610.0289502|-32400|0,\"960. Gupabal Station Transfer Center\",37.63825226,126.91945648,31,0,true,false,false,17,false,0\\n1482,1644918610.0290155|-32400|0,\"961. Exit 9 of Bulgwang Station\",37.61096954,126.92980957,26,0,true,false,false,10,false,0\\n1483,1644918610.0290809|-32400|0,\"962. Eunpyeong Newtown Hildesheim\",37.63925934,126.91890717,24,0,true,false,false,12,false,0\\n1484,1644918610.029146|-32400|0,\"963. Daeho Plaza Apt.\",37.61442947,126.93257904,4,11,true,false,false,15,false,0\\n1485,1644918610.0292106|-32400|0,\"964. Bukhansan Hillstate 7-cha Apt.\",37.61654282,126.92512512,5,7,true,false,false,12,false,0\\n1486,1644918610.0292754|-32400|0,\"965. Seoul Eunpyeong Hospital\",37.59347916,126.92318726,0,12,true,false,false,12,false,0\\n1487,1644918610.0293403|-32400|0,\"966. Seoul Innovation Park 1\",37.60903168,126.93467712,1,11,true,false,false,12,false,0\\n1488,1644918610.0294046|-32400|0,\"967. Seoul Innovation Park 2\",37.60890961,126.93241882,3,12,true,false,false,15,false,0\\n1489,1644918610.0294697|-32400|0,\"968. Eunpyeong Newtown Sanglim Village Apt. Complex 13\",37.64208984,126.92941284,1,8,true,false,false,9,false,0\\n1490,1644918610.0295382|-32400|0,\"969. Eunpyeong G-Well Terrace\",37.64385986,126.93187714,5,6,true,false,false,11,false,0\\n1674,1644918610.0296054|-32400|0,\"971. Yeokchon Centreville Apartment\",37.60232925,126.90654755,0,12,true,false,false,12,false,0\\n1751,1644918610.0296695|-32400|0,\"972. Susaek Station\",37.58216095,126.89492798,5,17,true,false,false,22,false,0\\n2241,1644918610.0297594|-32400|0,\"973.제각말푸르지오 5-1단지 아파트\",37.63734818,126.93584442,0,10,true,false,false,10,false,0\\n2242,1644918610.029829|-32400|0,\"974.연신초등학교옆 마을마당\",37.62672043,126.92901611,16,0,true,false,false,10,false,0\\n2243,1644918610.029897|-32400|0,\"975.백련산 힐스테이트상가앞\",37.59036255,126.92301178,0,10,true,false,false,10,false,0\\n2244,1644918610.029964|-32400|0,\"976.진관고등학교앞\",37.64350891,126.92410278,5,5,true,false,false,10,false,0\\n2245,1644918610.030033|-32400|0,\"977.신도중학교앞\",37.63310242,126.93150330,6,14,true,false,false,20,false,0\\n2246,1644918610.030101|-32400|0,\"978.녹번 힐스테이트상가앞\",37.60100937,126.93592834,8,12,true,false,false,20,false,0\\n2247,1644918610.0301685|-32400|0,\"979.원풍빌라앞\",37.59186172,126.90608215,1,9,true,false,false,10,false,0\\n2250,1644918610.030236|-32400|0,\"982.유니클로 은평점앞\",37.60412598,126.92508698,5,5,true,false,false,10,false,0\\n2252,1644918610.0303247|-32400|0,\"984.상신초등학교앞 버스정류장\",37.59580994,126.91026306,10,0,true,false,false,10,false,0\\n2253,1644918610.0303938|-32400|0,\"985.은평온누리약국앞\",37.60119247,126.92638397,1,9,true,false,false,10,false,0\\n2257,1644918610.0304606|-32400|0,\"989.응암 꼬꼬닭치킨호프 앞\",37.59181213,126.91483307,11,0,true,false,false,10,false,0\\n2259,1644918610.0305285|-32400|0,\"991.흥국사 정류장\",37.65676880,126.94200897,8,2,true,false,false,10,false,0\\n2260,1644918610.0305955|-32400|0,\"992.북한산입구 정류장\",37.65842819,126.94606018,5,5,true,false,false,10,false,0\\n2261,1644918610.0306628|-32400|0,\"993.은평뉴타운 은뜨락아파트앞\",37.63028717,126.91956329,0,25,true,false,false,25,false,0\\n2262,1644918610.03073|-32400|0,\"994.북한산생태공원입구(교통섬)\",37.61050797,126.93853760,0,15,true,false,false,15,false,0\\n2263,1644918610.0307968|-32400|0,\"995.은평다목적체육관\",37.63140869,126.92540741,4,11,true,false,false,15,false,0\\n2264,1644918610.0308697|-32400|0,\"996.응암역2번출구 국민은행 앞\",37.59993744,126.91571808,30,0,true,false,false,10,false,0\\n485,1644918610.0309367|-32400|0,\"1001. Gwangjingyo Southbound Four-way Intersection (Digital Plaza)\",37.54179382,127.12474823,11,6,true,false,false,17,false,0\\n486,1644918610.0310023|-32400|0,\"1002. Haegong Park (Cheonho-dong)\",37.54526138,127.12594604,6,4,true,false,false,10,false,0\\n487,1644918610.03107|-32400|0,\"1003. Gangdong Public Library\",37.54395676,127.12548828,16,6,true,false,false,22,false,0\\n488,1644918610.0311346|-32400|0,\"1004. Samsung Gwangnaru Apartment Complex Bus Stop\",37.55332947,127.12886810,7,5,true,false,false,12,false,0\\n490,1644918610.0312|-32400|0,\"1006. Lotte Castle Apartment Complex(Building 101)\",37.55486679,127.14279938,5,12,true,false,false,17,false,0\\n491,1644918610.0312655|-32400|0,\"1007. Amsa Neolithic Site\",37.55955887,127.13087463,17,1,true,false,false,18,false,0\\n492,1644918610.031331|-32400|0,\"1008. Exit 3 of Amsa Station(In front of KB Kookmin Bank)\",37.54957581,127.12718201,25,0,true,false,false,12,false,0\\n493,1644918610.0313964|-32400|0,\"1009. Exit 4 of Cheonho Statio(Hyundai Department Store)\",37.53866577,127.12424469,12,10,true,false,false,22,false,0\\n494,1644918610.031467|-32400|0,\"1010. NTS Gangdong District Office\",37.53450775,127.13840485,6,16,true,false,false,22,false,0\\n495,1644918610.031532|-32400|0,\"1011. LIGA Apartment Complex\",37.53474426,127.13528442,2,20,true,false,false,22,false,0\\n496,1644918610.0315979|-32400|0,\"1012. Seoul Auto Repair Shop\",37.53600693,127.12272644,10,7,true,false,false,17,false,0\\n497,1644918610.0316622|-32400|0,\"1013. Exit 1 of Gangdong-gu Office Station\",37.53071594,127.12098694,10,7,true,false,false,17,false,0\\n499,1644918610.0317268|-32400|0,\"1015. Saetmaeul Neighborhood Park\",37.55003738,127.14691162,3,12,true,false,false,15,false,0\\n500,1644918610.0317922|-32400|0,\"1016. Rien Park Apartment Complex(Building 109)\",37.55939865,127.17118073,6,6,true,false,false,12,false,0\\n501,1644918610.0318592|-32400|0,\"1017. McDonald’s (Gil-dong)\",37.53544617,127.14518738,0,22,true,false,false,22,false,0\\n830,1644918610.0319262|-32400|0,\"1018. Across from Dunchon Jugong GS Supermarket\",37.52458954,127.13542175,8,12,true,false,false,20,false,0\\n502,1644918610.0319932|-32400|0,\"1019. Dasung Easeville Apartment Complex(Across from Howon University)\",37.52679443,127.13005829,16,0,true,false,false,12,false,0\\n503,1644918610.032058|-32400|0,\"1020. Gangdong Police Station\",37.52825165,127.12680054,13,4,true,false,false,17,false,0\\n504,1644918610.0321229|-32400|0,\"1021. Gangil-dong Richeville Building\",37.56427383,127.17397308,13,4,true,false,false,17,false,0\\n505,1644918610.0321884|-32400|0,\"1022. Gil-dong Four-way Intersection (Checkpoint)\",37.53377914,127.13799286,0,22,true,false,false,22,false,0\\n1040,1644918610.032254|-32400|0,\"1023.In front of Korea Engineering Consultants Corporation Office Building\",37.54998398,127.17470551,22,0,true,false,false,17,false,0\\n1041,1644918610.032319|-32400|0,\"1024. In front of Gangdong-gu Office\",37.52929688,127.12315369,14,0,true,false,false,12,false,0\\n1042,1644918610.032385|-32400|0,\"1025. Sangil Elementary School\",37.54684067,127.17251587,7,5,true,false,false,12,false,0\\n1043,1644918610.0324502|-32400|0,\"1026. Daemyeong Elementary School Intersection\",37.54653549,127.15583801,0,16,true,false,false,16,false,0\\n1044,1644918610.0325153|-32400|0,\"1027. In front of Plaza Apartment \",37.53596115,127.14781952,7,15,true,false,false,22,false,0\\n1045,1644918610.0325804|-32400|0,\"1028. Forest Multipurpose Building\",37.53310776,127.12277222,4,8,true,false,false,12,false,0\\n1046,1644918610.0326445|-32400|0,\"1029. Lotte Cinema\",37.53655624,127.12553406,8,4,true,false,false,12,false,0\\n1047,1644918610.0327098|-32400|0,\"1030. In front of Miho Plant\",37.52703094,127.12206268,13,4,true,false,false,17,false,0\\n1048,1644918610.0327766|-32400|0,\"1031. 올림픽로 836(아리수로)\",37.55582047,127.12991333,15,2,true,false,false,17,false,0\\n1049,1644918610.0328434|-32400|0,\"1032. Sunsa High School\",37.55672836,127.13626099,8,14,true,false,false,22,false,0\\n1050,1644918610.0329115|-32400|0,\"1033. Godeok-dong Anam Apartment\",37.55801010,127.14475250,5,7,true,false,false,12,false,0\\n1051,1644918610.0329773|-32400|0,\"1034. Godeok-dong Raemian Hill State Apartment\",37.56187820,127.15078735,11,6,true,false,false,17,false,0\\n1052,1644918610.0330424|-32400|0,\"1035. Exit 4 of Godeok Station\",37.55509567,127.15528107,0,22,true,false,false,22,false,0\\n1053,1644918610.0331078|-32400|0,\"1036. Godeok-dong Juyang Shopping Center\",37.55199051,127.15331268,2,10,true,false,false,12,false,0\\n1054,1644918610.0331984|-32400|0,\"1037. 강일리버파크 6단지\",37.56256485,127.17761230,12,0,true,false,false,12,false,0\\n1055,1644918610.0332656|-32400|0,\"1038. Gangil Dasom Children’s Park\",37.56863785,127.17480469,8,4,true,false,false,12,false,0\\n1056,1644918610.033332|-32400|0,\"1039. Goduk Elementary School\\xa0\",37.56129837,127.16784668,1,8,true,false,false,9,false,0\\n1058,1644918610.0333993|-32400|0,\"1041. Myogok Elementary School\",37.55916214,127.15332031,2,10,true,false,false,12,false,0\\n1059,1644918610.0334663|-32400|0,\"1042. 강일리버파크 2~5단지\",37.56854630,127.17700958,2,10,true,false,false,12,false,0\\n1061,1644918610.0335324|-32400|0,\"1044. Gubeundari Station\",37.54540634,127.14267731,11,6,true,false,false,17,false,0\\n1369,1644918610.0335972|-32400|0,\"1047. National Health Insurance Service Gangdong Branch (KT Building)\",37.53647232,127.13715363,3,9,true,false,false,12,false,0\\n1370,1644918610.0336623|-32400|0,\"1048. Dongbu Corporation (Dunchon-dong)\",37.53099442,127.14237213,8,4,true,false,false,12,false,0\\n1371,1644918610.0337276|-32400|0,\"1049. 강일리버파크 10단지\",37.56120300,127.18026733,11,1,true,false,false,12,false,0\\n1420,1644918610.0337937|-32400|0,\"1050. Exit 3 of Dunchondong Station\",37.52678299,127.13557434,12,5,true,false,false,17,false,0\\n1421,1644918610.0338585|-32400|0,\"1051. Yangji Market Entrance (In front of Yongsung Pharmacy)\",37.55483627,127.13732147,3,14,true,false,false,17,false,0\\n1593,1644918610.0339236|-32400|0,\"1052. Recycle City\",37.55644989,127.15682220,1,11,true,false,false,12,false,0\\n1594,1644918610.0339923|-32400|0,\"1053. Dongmyeong Neighborhood Park (Arisu Road)\",37.56254578,127.16448212,2,8,true,false,false,10,false,0\\n1595,1644918610.0340571|-32400|0,\"1054. Malumul Children’s Park\",37.56002808,127.16967773,9,3,true,false,false,12,false,0\\n1597,1644918610.0341253|-32400|0,\"1056. 강일리버파크 7~11단지\",37.56335449,127.17905426,7,5,true,false,false,12,false,0\\n1598,1644918610.0341914|-32400|0,\"1057. Neunggol Neighborhood Park\",37.55580902,127.17374420,10,7,true,false,false,17,false,0\\n1623,1644918610.0342567|-32400|0,\"1058. Godeoksup I-Park Apartment Building 1\",37.55348206,127.16505432,3,11,true,false,false,14,false,0\\n1626,1644918610.0343232|-32400|0,\"1059. 래미안 강동팰리스(102동)\",37.53822708,127.13174438,3,14,true,false,false,17,false,0\\n1620,1644918610.034389|-32400|0,\"1060. Chunil Elementary School Four-way Intersection\",37.54467010,127.13267517,1,7,true,false,false,8,false,0\\n1621,1644918610.0344546|-32400|0,\"1061. Cheonho Elementary School Entrance (Ilju Building)\",37.54689789,127.13466644,0,12,true,false,false,12,false,0\\n1622,1644918610.034543|-32400|0,\"1062. Godeoksup I-Park Apartment Building 2\",37.55107880,127.16259766,1,16,true,false,false,17,false,0\\n1762,1644918610.0346117|-32400|0,\"1063.강동롯데캐슬퍼스트 아파트(관리동)\",37.55666351,127.14273834,2,13,true,false,false,15,false,0\\n1763,1644918610.0346797|-32400|0,\"1064.중앙보훈병원역 1번출구\",37.52779388,127.14764404,1,14,true,false,false,15,false,0\\n1764,1644918610.0347476|-32400|0,\"1065.보훈병원 후문옆(더 원커피)\",37.53120804,127.14926910,0,20,true,false,false,20,false,0\\n1765,1644918610.0348148|-32400|0,\"1066.생태공원앞 교차로(조명탑)\",37.53776550,127.15201569,3,17,true,false,false,20,false,0\\n1766,1644918610.0348828|-32400|0,\"1067.한영중고앞사거리\",37.54903412,127.15605164,2,18,true,false,false,20,false,0\\n1767,1644918610.0349505|-32400|0,\"1068.명일파출소\",37.55364990,127.15622711,1,19,true,false,false,20,false,0\\n1830,1644918610.0350182|-32400|0,\"1069.강동경희대학교병원 입구\",37.55305481,127.15688324,2,13,true,false,false,15,false,0\\n1831,1644918610.03509|-32400|0,\"1070.(시립)고덕평생학습관\",37.55570221,127.15792084,1,9,true,false,false,10,false,0\\n1832,1644918610.035158|-32400|0,\"1071.명일근린공원공동체텃밭\",37.55568695,127.15991211,1,14,true,false,false,15,false,0\\n1833,1644918610.035226|-32400|0,\"1072.고덕역 5번출구\",37.55486298,127.15372467,0,10,true,false,false,10,false,0\\n1834,1644918610.0352933|-32400|0,\"1073.SSTS 몰 앞\",37.54114532,127.14105225,0,10,true,false,false,10,false,0\\n1835,1644918610.0353603|-32400|0,\"1074.대명초교입구 사거리\",37.54683685,127.14916229,1,14,true,false,false,15,false,0\\n1836,1644918610.0354388|-32400|0,\"1075.천동초교 삼거리\",37.54136276,127.13718414,5,5,true,false,false,10,false,0\\n1837,1644918610.0355067|-32400|0,\"1076.전자랜드 길동점\",37.53989410,127.14103699,0,10,true,false,false,10,false,0\\n1838,1644918610.0355747|-32400|0,\"1077.강동역 1번출구 앞\",37.53620529,127.13256073,2,13,true,false,false,15,false,0\\n1839,1644918610.0356421|-32400|0,\"1078.둔촌사거리\",37.52197647,127.13362122,2,18,true,false,false,20,false,0\\n1840,1644918610.0357091|-32400|0,\"1079.강일동입구교차로\",37.56184387,127.17084503,1,14,true,false,false,15,false,0\\n1841,1644918610.0357766|-32400|0,\"1080.엘웨딩\",37.53683090,127.12841797,9,1,true,false,false,10,false,0\\n1842,1644918610.0358436|-32400|0,\"1081.트레빌빌딩\",37.53699875,127.12953186,5,15,true,false,false,20,false,0\\n1843,1644918610.0359125|-32400|0,\"1082.중앙보훈병원역3번출구\",37.52956009,127.14900970,1,12,true,false,false,13,false,0\\n1844,1644918610.0359795|-32400|0,\"1083.광문고교사거리(아이파크)\",37.56036758,127.15659332,11,4,true,false,false,15,false,0\\n1687,1644918610.0360465|-32400|0,\"1084. 윤선생빌딩(JYP사옥)\",37.52392960,127.12912750,7,8,true,false,false,15,false,0\\n1845,1644918610.0361137|-32400|0,\"1085.래미안 솔베뉴(고덕로)\",37.55456924,127.14587402,1,19,true,false,false,20,false,0\\n1846,1644918610.036185|-32400|0,\"1086.래미안 솔베뉴(구천면로)\",37.55059814,127.14545441,5,5,true,false,false,10,false,0\\n1848,1644918610.0362587|-32400|0,\"1088.풍납사거리(강동)\",37.52812195,127.11952209,15,0,true,false,false,12,false,0\\n1849,1644918610.0363503|-32400|0,\"1089.고덕 래미안힐스테이트(201동)\",37.56060028,127.14669800,2,8,true,false,false,10,false,0\\n1850,1644918610.0364273|-32400|0,\"1090.상일동역 2번출구 앞\",37.55678940,127.16614532,41,0,true,false,false,10,false,0\\n507,1644918610.0364938|-32400|0,\"1101. Gaehwa-dong Sangsa Village Bus Stop\",37.58161163,126.79859924,7,5,true,false,false,12,false,0\\n508,1644918610.0365593|-32400|0,\"1102. Banghwa Four-way Intersection Shuttle Bus Stop\",37.57364273,126.81180573,2,10,true,false,false,12,false,0\\n831,1644918610.036625|-32400|0,\"1103. Exit 4 of Banghwa Station\",37.57722092,126.81219482,9,3,true,false,false,12,false,0\\n509,1644918610.0366938|-32400|0,\"1105. Banghwa Neighborhood Park\",37.58162308,126.81265259,14,0,true,false,false,12,false,0\\n824,1644918610.036759|-32400|0,\"1106. Sinbanghwa Four-way Intersection\",37.57303238,126.81645203,7,3,true,false,false,10,false,0\\n510,1644918610.0368252|-32400|0,\"1108. 공항시장역 2번출구 뒤\",37.56387329,126.81060791,8,2,true,false,false,10,false,0\\n511,1644918610.0368912|-32400|0,\"1109. Exit 4 of Airport Market Station\",37.56334686,126.81048584,0,8,true,false,false,8,false,0\\n512,1644918610.0369563|-32400|0,\"1111. Magok M-Valley 6- and 7-danji Magok Middle School\",37.56698227,126.82180023,8,9,true,false,false,17,false,0\\n513,1644918610.0370216|-32400|0,\"1112. Magok M-Valley 4-danji Entrance\",37.56857681,126.82477570,9,6,true,false,false,15,false,0\\n514,1644918610.0370862|-32400|0,\"1113. Seonam Environment Park Bus Stop\",37.57312393,126.82238770,0,15,true,false,false,15,false,0\\n834,1644918610.0371559|-32400|0,\"1117. Starbucks\",37.55819702,126.84426117,10,2,true,false,false,12,false,0\\n516,1644918610.037222|-32400|0,\"1118. Behind Exit 3 of Jeungmi Station (Deungchon Doosan We’ve Centium Studio Apartment Complex)\",37.55746078,126.86145782,4,8,true,false,false,12,false,0\\n517,1644918610.0372958|-32400|0,\"1119. Hanmaeum Apartment Complex(Shining Music Academy)\",37.55425262,126.86756134,7,1,true,false,false,8,false,0\\n518,1644918610.037368|-32400|0,\"1120. Daelim Kyungdong Apartment Complex\",37.56478500,126.85464478,17,10,true,false,false,27,false,0\\n519,1644918610.0374386|-32400|0,\"1121. Gayang Leports Center\",37.55947876,126.86437988,10,7,true,false,false,17,false,0\\n520,1644918610.0375035|-32400|0,\"1122. Hwanggeumnae Neighborhood Park\",37.56193161,126.86386871,3,16,true,false,false,19,false,0\\n522,1644918610.03757|-32400|0,\"1124. 발산역 6번 출구 뒤\",37.55817795,126.83845520,4,7,true,false,false,11,false,0\\n835,1644918610.0376422|-32400|0,\"1125. Entrance of Myungduk High School(Yeongjong Building)\",37.55291367,126.83657074,16,0,true,false,false,15,false,0\\n523,1644918610.0377076|-32400|0,\"1126. Exit 1 of Ujangsan Station In front of Ujangsan i-Park Apartment Complex (Building 105)\",37.54890823,126.83656311,10,0,true,false,false,9,false,0\\n524,1644918610.037773|-32400|0,\"1127. Hwagok Station Bus Stop(In front of Ace Orthopedics)\",37.54098129,126.83854675,3,9,true,false,false,12,false,0\\n829,1644918610.037838|-32400|0,\"1128. Exit 6 of Hwagok Station\",37.54141235,126.84022522,1,11,true,false,false,12,false,0\\n525,1644918610.0379038|-32400|0,\"1129. Exit 1 of Hwagok Station\",37.54209900,126.84021759,7,2,true,false,false,9,false,0\\n526,1644918610.0379686|-32400|0,\"1130. Hwagokbon-dong Market Bus Stop\",37.54275131,126.84262085,7,2,true,false,false,9,false,0\\n527,1644918610.0380342|-32400|0,\"1131. Kumdori Park\",37.54644394,126.84545898,6,4,true,false,false,10,false,0\\n528,1644918610.038099|-32400|0,\"1132. Exit 7 of Deungchon Station\",37.55110931,126.86370850,7,5,true,false,false,12,false,0\\n530,1644918610.0381634|-32400|0,\"1135. Gangseo-gu Council\",37.54653168,126.86254883,2,10,true,false,false,12,false,0\\n531,1644918610.038228|-32400|0,\"1136. Deungchon 2-dong Police Substation\",37.54478836,126.86199951,10,2,true,false,false,12,false,0\\n532,1644918610.0382938|-32400|0,\"1137. Deungchon 2-dong Community Center\",37.54143143,126.86322021,15,0,true,false,false,12,false,0\\n533,1644918610.0383627|-32400|0,\"1139. Yongmunsa Bus Stop\",37.53650665,126.86333466,2,8,true,false,false,10,false,0\\n534,1644918610.038428|-32400|0,\"1140. Mokdong Four-way Intersection Bus Stop\",37.53139877,126.86360931,5,12,true,false,false,17,false,0\\n535,1644918610.0384939|-32400|0,\"1141. Gomdalrae Cultural Center\",37.52906036,126.84848022,2,10,true,false,false,12,false,0\\n536,1644918610.0385592|-32400|0,\"1145. Gomdalrae Culture & Welfare Center\",37.52891922,126.84808350,10,2,true,false,false,12,false,0\\n537,1644918610.0386233|-32400|0,\"1146. Gomdalrae Four-way Intersection\",37.53033829,126.83825684,6,4,true,false,false,10,false,0\\n538,1644918610.0386882|-32400|0,\"1148. Byeotgol Park\",37.54146957,126.84477997,5,7,true,false,false,12,false,0\\n975,1644918610.0387528|-32400|0,\"1149. Sinbanghwa Station Transfer Parking Lot\",37.56728363,126.81827545,8,7,true,false,false,15,false,0\\n1062,1644918610.0388181|-32400|0,\"1150. Exit 1 of Songjeong Station\",37.56153107,126.81069946,11,0,true,false,false,9,false,0\\n1063,1644918610.0389068|-32400|0,\"1151. Exit 1 of Magok Station\",37.56020737,126.82414246,29,0,true,false,false,27,false,0\\n1064,1644918610.0389738|-32400|0,\"1152. Magok Station Intersection\",37.55831146,126.82652283,22,8,true,false,false,30,false,0\\n1065,1644918610.0390399|-32400|0,\"1153. Exit 9 of Balsan Station\",37.55894852,126.83717346,23,0,true,false,false,19,false,0\\n1067,1644918610.0391045|-32400|0,\"1155. Gibbun Woori Rehabilitation Center\",37.56925964,126.84841919,6,6,true,false,false,12,false,0\\n1069,1644918610.0391693|-32400|0,\"1157. Gangseo-gu Office\",37.55065918,126.84976959,10,0,true,false,false,10,false,0\\n1249,1644918610.0392342|-32400|0,\"1158. Exit 8 of Gayang Station\",37.56103516,126.85481262,7,15,true,false,false,22,false,0\\n1250,1644918610.0392985|-32400|0,\"1159. In front of Seoseoul Motorium\",37.56585312,126.84659576,21,1,true,false,false,22,false,0\\n1251,1644918610.0393634|-32400|0,\"1160. In front of Exit 7 of Yangcheon Hyanggyo Station\",37.56768036,126.84089661,8,12,true,false,false,20,false,0\\n1252,1644918610.0394385|-32400|0,\"1161. In front of Gangseo Driver’s License Test Center\",37.54969406,126.81966400,0,12,true,false,false,12,false,0\\n1253,1644918610.0395067|-32400|0,\"1162. Across the street from Seoul Konghang Elementary School\",37.56267929,126.82047272,3,9,true,false,false,12,false,0\\n1254,1644918610.039572|-32400|0,\"1163. In front of Banghwa-dong Gangseo Police Task Force\",37.57049942,126.82008362,0,12,true,false,false,12,false,0\\n1338,1644918610.039637|-32400|0,\"1165. Magok Middle School Back Gate\",37.56844711,126.82164764,18,4,true,false,false,22,false,0\\n1351,1644918610.0397017|-32400|0,\"1166. Gangseo-gu Deungbit Library\",37.56256866,126.84246063,2,10,true,false,false,12,false,0\\n1352,1644918610.0397666|-32400|0,\"1167. Magok Sumyeongsan Park Apartment Complex 3 Intersection\",37.55350876,126.82586670,10,7,true,false,false,17,false,0\\n1402,1644918610.0398314|-32400|0,\"1168. In front of Magok M Valley Apartment Complex 10\",37.56029129,126.81875610,5,5,true,false,false,10,false,0\\n1506,1644918610.0398962|-32400|0,\"1169. Exit 1 of Yeomchang Station\",37.54719925,126.87448883,0,10,true,false,false,10,false,0\\n1507,1644918610.0399659|-32400|0,\"1170. Gangseo-gu Public Health Center (Samsung Digital Plaza)\",37.54917908,126.86879730,16,0,true,false,false,13,false,0\\n1508,1644918610.0400367|-32400|0,\"1171. Across from Yeomchang-dong Community Credit Cooperative (Morning Glory)\",37.55004883,126.87316132,1,9,true,false,false,10,false,0\\n1509,1644918610.0401013|-32400|0,\"1172. Gayang 3-dong Community Service Center\",37.56124878,126.86058044,2,8,true,false,false,10,false,0\\n1510,1644918610.0401664|-32400|0,\"1173. Gangseo-gu Office Four-way Intersection (SH Tower)\",37.55625916,126.85331726,10,7,true,false,false,17,false,0\\n1511,1644918610.0402315|-32400|0,\"1174. Gangseo-gu Office Four-way Intersection (Bumin Hospital)\",37.55659866,126.85147095,5,6,true,false,false,11,false,0\\n1512,1644918610.0403197|-32400|0,\"1175. Korean Air Human Resources Development Center\",37.55437851,126.85753632,18,0,true,false,false,17,false,0\\n1514,1644918610.0403855|-32400|0,\"1177. Sumyeong Middle & High School\",37.55010986,126.82367706,6,6,true,false,false,12,false,0\\n1515,1644918610.0404506|-32400|0,\"1178. Exit 2 of Gaehwasan Station\",37.57247162,126.80616760,8,4,true,false,false,12,false,0\\n1517,1644918610.0405192|-32400|0,\"1180. Across from Magok M-Valley Apt. Complex 15 (1502-dong)\",37.55746841,126.82971954,10,7,true,false,false,17,false,0\\n1518,1644918610.0405846|-32400|0,\"1181. Agro-fisheries & Food Corporation (Gangseo Office)\",37.55104446,126.81849670,0,12,true,false,false,12,false,0\\n1519,1644918610.040655|-32400|0,\"1182. KBS Sports World\",37.55687714,126.84880829,9,13,true,false,false,22,false,0\\n1520,1644918610.04072|-32400|0,\"1183. KC University\",37.54832077,126.85340118,13,0,true,false,false,12,false,0\\n1645,1644918610.0407848|-32400|0,\"1184. Magok Apartment Complex 13\",37.55644989,126.81597900,23,0,true,false,false,17,false,0\\n1646,1644918610.0408494|-32400|0,\"1185. Deungchon Apartment Complex 9\",37.56290054,126.84947205,10,10,true,false,false,20,false,0\\n1647,1644918610.0409136|-32400|0,\"1186. Songjeong Middle School\",37.55472946,126.81609344,3,9,true,false,false,12,false,0\\n1676,1644918610.0409787|-32400|0,\"1187. Gangseo Fishery Wholesale Market\",37.55302048,126.81836700,0,17,true,false,false,17,false,0\\n1708,1644918610.0410433|-32400|0,\"1188. Lotte R&D Center\",37.57138062,126.82833862,7,3,true,false,false,10,false,0\\n1709,1644918610.0411072|-32400|0,\"1190. Magok Station Intersection (Exit 2)\",37.56050110,126.82665253,6,6,true,false,false,12,false,0\\n1689,1644918610.0411723|-32400|0,\"1191. Magok Station Intersection (NH NongHyup)\",37.56024170,126.82716370,14,0,true,false,false,11,false,0\\n1710,1644918610.0412369|-32400|0,\"1192. Across the Magok Sumyungsan Park 209-dong\",37.55545044,126.82689667,23,0,true,false,false,20,false,0\\n1688,1644918610.0413017|-32400|0,\"1193. Magok Central Tower 1 cha\",37.55947113,126.83207703,6,11,true,false,false,17,false,0\\n1711,1644918610.0413663|-32400|0,\"1194. Sensortec\",37.56330109,126.83682251,0,12,true,false,false,12,false,0\\n1712,1644918610.0414312|-32400|0,\"1195. KOLON One&Only Tower\",37.56412888,126.83431244,0,22,true,false,false,22,false,0\\n1713,1644918610.041496|-32400|0,\"1196. Across the Seoul Botanic Park (cultural center)\",37.56824112,126.83583069,2,13,true,false,false,15,false,0\\n1714,1644918610.041567|-32400|0,\"1197. 엠펠리체 호텔 건너편\",37.56024170,126.83580780,30,0,true,false,false,22,false,0\\n1715,1644918610.0416336|-32400|0,\"1198. LG Sciencepark\",37.56254959,126.82743835,8,14,true,false,false,22,false,0\\n1694,1644918610.0416982|-32400|0,\"1199. Exit 3 of Ujangsan Station\",37.54782104,126.83612823,11,4,true,false,false,15,false,0\\n1695,1644918610.0417662|-32400|0,\"1200. Gaehwa Station Metro Area Bus Transfer Center\",37.57844925,126.79897308,5,7,true,false,false,12,false,0\\n838,1644918610.0418315|-32400|0,\"1201. Exit 3 of Garak Market Station\",37.49317932,127.11854553,20,0,true,false,false,12,false,0\\n737,1644918610.041896|-32400|0,\"1203. Miliana 2 Building\",37.49372864,127.12062073,16,6,true,false,false,22,false,0\\n930,1644918610.0419607|-32400|0,\"1204. Exit 3 of Geoyeo Station\",37.49334335,127.14472961,7,5,true,false,false,12,false,0\\n539,1644918610.0420263|-32400|0,\"1205. Exit 4 of Sports Complex Station\",37.51042938,127.07137299,18,0,true,false,false,17,false,0\\n540,1644918610.0420907|-32400|0,\"1206. Exit 9 of Sports Complex Station (Subway Line 9)\",37.51128006,127.07823944,6,16,true,false,false,22,false,0\\n738,1644918610.0421562|-32400|0,\"1207. Macheon CU (Woobang Branch)\",37.49975586,127.15250397,13,0,true,false,false,12,false,0\\n541,1644918610.0422213|-32400|0,\"1208. Pungnap Hyundai Apartment Complex Rest Area\",37.52974701,127.11996460,0,22,true,false,false,22,false,0\\n542,1644918610.0422862|-32400|0,\"1209. Exit 2 of Jamsilnaru Station\",37.52045059,127.10420227,6,16,true,false,false,22,false,0\\n891,1644918610.04235|-32400|0,\"1210. Exit 2 of Jamsil Station (Lotte World Tower)\",37.51312637,127.10095978,34,0,true,false,false,32,false,0\\n739,1644918610.0424147|-32400|0,\"1211. Bangi Three-way Intersection\",37.51210403,127.10778046,7,4,true,false,false,11,false,0\\n839,1644918610.0424788|-32400|0,\"1212. Exit 2 of Songpa Station\",37.49941254,127.11286926,6,6,true,false,false,12,false,0\\n543,1644918610.0425434|-32400|0,\"1213. Baekto Park\",37.50831985,127.13321686,3,19,true,false,false,22,false,0\\n740,1644918610.0426126|-32400|0,\"1214. Exit 7 of Ogeum Station\",37.50259399,127.12764740,1,11,true,false,false,12,false,0\\n544,1644918610.0426772|-32400|0,\"1215. Exit 1 of Olympic Park Station\",37.51657104,127.13153839,20,0,true,false,false,17,false,0\\n545,1644918610.0427413|-32400|0,\"1217. Songpa Pine Town 7-danji\",37.47930527,127.12979889,5,12,true,false,false,17,false,0\\n892,1644918610.042806|-32400|0,\"1218. Exit 4 of Bangi Station\",37.50896835,127.12583923,2,12,true,false,false,14,false,0\\n546,1644918610.0428705|-32400|0,\"1220. Jamsil Neighborhood Park Behind Jamsil Bon-dong Community Center\",37.50569153,127.08403778,13,4,true,false,false,17,false,0\\n933,1644918610.042935|-32400|0,\"1221. POSCO The Sharp at Samjeon Four-way Intersection\",37.50419998,127.08753204,3,9,true,false,false,12,false,0\\n547,1644918610.0430205|-32400|0,\"1222.  Behind Exit 5, Jamsilsaenae Station\",37.51198196,127.08505249,17,5,true,false,false,22,false,0\\n548,1644918610.0430868|-32400|0,\"1224. Exit 2 of Asia Underpass\",37.51216888,127.07893372,6,11,true,false,false,17,false,0\\n894,1644918610.0431528|-32400|0,\"1226. Jamsil 4-dong Community Center\",37.52007675,127.11236572,8,4,true,false,false,12,false,0\\n895,1644918610.0432177|-32400|0,\"1227. Exit 8 of Geoyeo Station\",37.49312592,127.14382172,3,9,true,false,false,12,false,0\\n896,1644918610.0432827|-32400|0,\"1228. Macheon Four-way Intersection\",37.49769974,127.14620209,5,7,true,false,false,12,false,0\\n549,1644918610.043347|-32400|0,\"1229. Songpa-gu Sports and Culture Center\",37.49068832,127.14312744,0,17,true,false,false,17,false,0\\n897,1644918610.043417|-32400|0,\"1230. Main Entrance of Songpa Middle School\",37.49567032,127.13059235,8,4,true,false,false,12,false,0\\n840,1644918610.0434825|-32400|0,\"1231. Exit 6 of Jamsil Station\",37.51408768,127.09902954,4,6,true,false,false,10,false,0\\n550,1644918610.0435472|-32400|0,\"1232. Next to Lotte Mart Parking Lot\",37.51208878,127.09619141,10,2,true,false,false,12,false,0\\n551,1644918610.0436122|-32400|0,\"1233. Jamsil Three-way Intersection (Galleria Palace)\",37.51050949,127.09336853,4,7,true,false,false,11,false,0\\n553,1644918610.0436778|-32400|0,\"1235. .Jamsil Ⅲ-ZIUM (Building 310)\",37.50887299,127.08716583,7,7,true,false,false,14,false,0\\n899,1644918610.043745|-32400|0,\"1239. Munjeong Law Complex 3\",37.48084259,127.11801147,5,17,true,false,false,22,false,0\\n900,1644918610.0438104|-32400|0,\"1240. Munjeong Law Complex 4\",37.48057556,127.11856842,6,6,true,false,false,12,false,0\\n901,1644918610.043875|-32400|0,\"1241. Munjeong Law Complex 5\",37.48123932,127.11979675,9,8,true,false,false,17,false,0\\n902,1644918610.0439394|-32400|0,\"1242. Munjeong Law Complex 6\",37.48163223,127.11916351,13,0,true,false,false,12,false,0\\n903,1644918610.0440042|-32400|0,\"1243. Munjeong Law Complex 7\",37.48453140,127.12016296,26,0,true,false,false,20,false,0\\n904,1644918610.0440693|-32400|0,\"1244. Munjeong Law Complex 8\",37.48153687,127.12212372,3,10,true,false,false,13,false,0\\n905,1644918610.0441346|-32400|0,\"1245. Munjeong Law Complex 9\",37.47946548,127.12532806,11,1,true,false,false,12,false,0\\n906,1644918610.0441995|-32400|0,\"1246. Munjeong Law Complex 10\",37.47750854,127.12632751,25,7,true,false,false,32,false,0\\n907,1644918610.044264|-32400|0,\"1247. Munjeong Law Complex 11\",37.47882080,127.12351227,2,13,true,false,false,15,false,0\\n908,1644918610.044329|-32400|0,\"1248. Bangi Elementary School\",37.51396179,127.12167358,4,18,true,false,false,22,false,0\\n909,1644918610.0443943|-32400|0,\"1249. Aju Middle School (across the street)\",37.50546265,127.07734680,4,8,true,false,false,12,false,0\\n981,1644918610.044481|-32400|0,\"1250.Munjeong 2-dong Community Center\",37.48987198,127.11083984,3,9,true,false,false,12,false,0\\n1070,1644918610.0445478|-32400|0,\"1251. Exit 2 of Seokchon Station\",37.50593185,127.10774994,11,1,true,false,false,12,false,0\\n1072,1644918610.0446124|-32400|0,\"1253. Behind Exit 3 of Ogeum Station\",37.50165176,127.12818146,8,4,true,false,false,12,false,0\\n1075,1644918610.0446787|-32400|0,\"1256. Munjeong Hyundai Apartment Intersection\",37.49113083,127.12580872,2,8,true,false,false,10,false,0\\n1076,1644918610.0447443|-32400|0,\"1257. Lotte Mart near Garak Market Station\",37.49209976,127.11775208,16,6,true,false,false,22,false,0\\n1077,1644918610.0448112|-32400|0,\"1258. 가락미륭아파트 앞\",37.49319839,127.12899780,2,10,true,false,false,12,false,0\\n1078,1644918610.0448778|-32400|0,\"1259. Exit 1 of Bangi Station\",37.50898361,127.12659454,3,14,true,false,false,17,false,0\\n1079,1644918610.0449433|-32400|0,\"1260. Hanyang 3 cha Apartment (Bangi-dong)\",37.50630188,127.12139893,3,7,true,false,false,10,false,0\\n1081,1644918610.0450082|-32400|0,\"1262. In front of Songpawomen’s Culture Center\",37.50580215,127.10971832,7,5,true,false,false,12,false,0\\n1082,1644918610.0450742|-32400|0,\"1263. Jangji Public Garage\",37.48054123,127.13701630,7,5,true,false,false,12,false,0\\n1083,1644918610.0451398|-32400|0,\"1264. In front of Exit 10 of Cheonho Station\",37.53858185,127.12280273,12,0,true,false,false,10,false,0\\n1084,1644918610.0452044|-32400|0,\"1265. Munjeong-dong Neighborhood Park\",37.48598862,127.12476349,4,8,true,false,false,12,false,0\\n1085,1644918610.04527|-32400|0,\"1266. Munjeong-dong Geulsaem Park\",37.47880936,127.12000275,3,7,true,false,false,10,false,0\\n1086,1644918610.0453348|-32400|0,\"1267. In front of Olympic Park South 2 Gate\",37.51424026,127.12306976,4,11,true,false,false,15,false,0\\n1087,1644918610.0454009|-32400|0,\"1268. Next to the Exit 1 of Mongchontoseong Station\",37.51728821,127.11419678,17,0,true,false,false,15,false,0\\n1088,1644918610.045466|-32400|0,\"1269. Lee Cents Apartment\",37.51194382,127.09121704,11,1,true,false,false,12,false,0\\n1089,1644918610.0455306|-32400|0,\"1271. Songpa Public Library\",37.49998474,127.13539124,3,14,true,false,false,17,false,0\\n1092,1644918610.0455956|-32400|0,\"1274. Youngpa Girls’ High School\",37.53284836,127.12104797,2,20,true,false,false,22,false,0\\n1367,1644918610.0456624|-32400|0,\"1275. Next to the Geoyeo Elementary School\",37.50458908,127.13936615,10,7,true,false,false,17,false,0\\n1408,1644918610.0457275|-32400|0,\"1277. Ogeum-dong Songpa Cham Hospital\",37.50375748,127.13709259,11,0,true,false,false,10,false,0\\n1409,1644918610.0457928|-32400|0,\"1278. Songpa-gu Office Intersection\",37.51579666,127.10681915,12,0,true,false,false,10,false,0\\n1410,1644918610.045858|-32400|0,\"1279. Across the Macheon Kumho Oullim 1 cha Apartments\",37.49751663,127.15467834,5,7,true,false,false,12,false,0\\n1411,1644918610.0459228|-32400|0,\"1280. Parking lot in front of the entrance to Songpa Park Dale Apartment Complex 2\",37.49565887,127.15717316,17,5,true,false,false,22,false,0\\n1413,1644918610.0459878|-32400|0,\"1282. Across the Songpa Fire Station (Seongnae 4-gyo Bridge)\",37.49987411,127.14147949,11,1,true,false,false,12,false,0\\n1414,1644918610.046053|-32400|0,\"1283. Ogeum Park Four-way Intersection\",37.50541306,127.13169098,0,10,true,false,false,10,false,0\\n1416,1644918610.0461183|-32400|0,\"1285. Behind Wiryebyeol Kindergarten\",37.47747040,127.14459229,3,14,true,false,false,17,false,0\\n1417,1644918610.046183|-32400|0,\"1286. In front of Wirye Central Prugio Apartment Complex 1\",37.47437668,127.14067078,13,0,true,false,false,12,false,0\\n1418,1644918610.0462482|-32400|0,\"1287. Across the Wirye I-Park Apartments, 101-dong\",37.47753143,127.14151764,5,5,true,false,false,10,false,0\\n1419,1644918610.046313|-32400|0,\"1288. Munjeong Middle School Four-way Intersection\",37.48799896,127.13108826,0,17,true,false,false,17,false,0\\n1422,1644918610.0463781|-32400|0,\"1289. Pungnap-dong Bike Parking Area\",37.53147125,127.11109161,0,12,true,false,false,12,false,0\\n1579,1644918610.046443|-32400|0,\"1290. Under Fortress Bridge in front of Wirye Songpa Dream & Green Apt. Complex 24\",37.47458267,127.13754272,12,0,true,false,false,12,false,0\\n1580,1644918610.0465083|-32400|0,\"1291. In front of Seoul Physical Education High School\",37.52193832,127.13186646,4,8,true,false,false,12,false,0\\n1582,1644918610.0465734|-32400|0,\"1293. Seokchon Lake Intersection (In front of Starbucks)\",37.50656128,127.09655762,7,5,true,false,false,12,false,0\\n1584,1644918610.046644|-32400|0,\"1295. Exit 8 of Jamsil Station\",37.51396179,127.10030365,5,17,true,false,false,22,false,0\\n1585,1644918610.0467086|-32400|0,\"1296. Seokchon Lake Intersection (In front of Songpa Naru Neighborhood Park)\",37.50867844,127.10343170,7,5,true,false,false,12,false,0\\n1586,1644918610.0467746|-32400|0,\"1297. Seokchon Lake Intersection (In front of Dongho  Octagonal Pavilion)\",37.50920105,127.10411835,10,2,true,false,false,12,false,0\\n1588,1644918610.0468397|-32400|0,\"1299. Songpa Fire Station (Bangi 119 Safety Center)\",37.51987839,127.13671112,19,0,true,false,false,17,false,0\\n1589,1644918610.046905|-32400|0,\"1300. Oryun Four-way Intersection\",37.50693893,127.13922119,9,8,true,false,false,17,false,0\\n825,1644918610.0469701|-32400|0,\"1302. Behind Exit 6 of Hansung University Station\",37.58876419,127.00630951,3,4,true,false,false,7,false,0\\n931,1644918610.0470352|-32400|0,\"1303. Donam Elementary School Entrance\",37.59169388,127.01249695,4,8,true,false,false,12,false,0\\n826,1644918610.0471225|-32400|0,\"1304. Manhae Park\",37.59440231,126.99230957,3,14,true,false,false,17,false,0\\n947,1644918610.0471895|-32400|0,\"1305. Seongbuk-gu Office\",37.58932877,127.01643372,0,17,true,false,false,17,false,0\\n842,1644918610.0472546|-32400|0,\"1306. Exit 2 of Hansung University Station\",37.58844757,127.00670624,1,9,true,false,false,10,false,0\\n827,1644918610.0473208|-32400|0,\"1308. Anam Roundabout Bus Stop\",37.58259201,127.02897644,15,5,true,false,false,20,false,0\\n559,1644918610.0473857|-32400|0,\"1314. Jeongneung Dream Green Apartment Complex 1-danji (Building 201)\",37.60243988,127.01168823,2,8,true,false,false,10,false,0\\n560,1644918610.0475626|-32400|0,\"1315. Front Gate of Korea University High School\",37.60776138,127.00328064,3,9,true,false,false,12,false,0\\n562,1644918610.0476296|-32400|0,\"1316. Across from Korea University High School\",37.60726166,127.00283813,2,20,true,false,false,22,false,0\\n563,1644918610.0476959|-32400|0,\"1318. Behind Exit 3 of Gireum Station\",37.60308456,127.02478790,2,10,true,false,false,12,false,0\\n564,1644918610.0477617|-32400|0,\"1319. Fountain at Jongam Four-way Intersection\",37.60304260,127.03327179,4,6,true,false,false,10,false,0\\n655,1644918610.047832|-32400|0,\"1321. KB Kookmin Bank (Jongam Branch)\",37.59328842,127.03666687,13,3,true,false,false,16,false,0\\n565,1644918610.0478966|-32400|0,\"1322. Ramian Lacent Apartment Complex (Building 103)\",37.59806824,127.03927612,13,0,true,false,false,12,false,0\\n567,1644918610.047962|-32400|0,\"1323. Under the Overpass at Wolgok Station Entrance\",37.60043335,127.04020691,8,4,true,false,false,12,false,0\\n571,1644918610.0480273|-32400|0,\"1325. Exit 4 of Sangwolgok Station\",37.60580826,127.04773712,9,3,true,false,false,12,false,0\\n572,1644918610.0480924|-32400|0,\"1326. Exit 1 of Sangwolgok Station\",37.60606766,127.04731750,11,1,true,false,false,12,false,0\\n574,1644918610.048157|-32400|0,\"1327. Exit 3 of Sangwolgok Station\",37.60734177,127.05068207,6,6,true,false,false,12,false,0\\n910,1644918610.048222|-32400|0,\"1328. Exit 3 of Wolgok Station\",37.60262680,127.04163361,17,0,true,false,false,12,false,0\\n578,1644918610.0482867|-32400|0,\"1332. Across from Exit 5 of Seokgye Station\",37.61355591,127.06609344,1,11,true,false,false,12,false,0\\n579,1644918610.048352|-32400|0,\"1333. Seokgwan Elementary School\",37.61052322,127.05979919,9,8,true,false,false,17,false,0\\n580,1644918610.0484169|-32400|0,\"1334. Seokgwan-dong Community Center\",37.61299896,127.06130981,11,1,true,false,false,12,false,0\\n1200,1644918610.0484824|-32400|0,\"1336. Up to Seongbuk 3-gyo Bridge\",37.59125137,127.01400757,7,15,true,false,false,22,false,0\\n1201,1644918610.0485735|-32400|0,\"1337. Next to Donam Catholic Church\",37.59038162,127.01713562,9,6,true,false,false,15,false,0\\n1202,1644918610.04864|-32400|0,\"1338. Next to Yongmun 2-gyo Bridge\",37.58689880,127.02075195,4,13,true,false,false,17,false,0\\n1203,1644918610.0487056|-32400|0,\"1339. Samsung Electronics Service Center (Seongbuk Branch)\",37.61056900,127.03350830,19,0,true,false,false,11,false,0\\n1204,1644918610.0487707|-32400|0,\"1340. In front of Kwangwoon Elementary School\",37.61784363,127.05500031,5,8,true,false,false,13,false,0\\n1206,1644918610.048835|-32400|0,\"1342. In front of Seongbuk Rest Area\",37.59261703,126.99793243,22,0,true,false,false,17,false,0\\n1207,1644918610.0488997|-32400|0,\"1343. In front of Exit 7 of Hansung University Station\",37.58924866,127.00737762,4,8,true,false,false,12,false,0\\n1208,1644918610.0489645|-32400|0,\"1344. In front of Arirang Cine Center\",37.60028839,127.01370239,2,10,true,false,false,12,false,0\\n1210,1644918610.04903|-32400|0,\"1346. Next to Gireum 8-gol Children’s Park\",37.60897827,127.02024841,3,14,true,false,false,17,false,0\\n1211,1644918610.049097|-32400|0,\"1347. In front of Gireum Ramian Apartment 817-dong Commercial Building\",37.60710526,127.02149963,0,22,true,false,false,22,false,0\\n1212,1644918610.0491629|-32400|0,\"1348. In front of Seongbuk Jeil Korean Federation of Community Credit Cooperatives\",37.60475159,127.02275848,11,3,true,false,false,14,false,0\\n1213,1644918610.0492277|-32400|0,\"1349. In front of Wolgye 2-gyo Bus Stop\",37.62382889,127.05020142,8,4,true,false,false,12,false,0\\n1215,1644918610.0492926|-32400|0,\"1351. Next to Anam 2-gyo\",37.57944870,127.02419281,6,4,true,false,false,10,false,0\\n1216,1644918610.0493577|-32400|0,\"1352. Inside of e-Pyeonhansesang Bomun Apartment\",37.58388138,127.01709747,0,10,true,false,false,10,false,0\\n1217,1644918610.049422|-32400|0,\"1353. Inside of Kumho Eoullim Center Hill Apartment\",37.60083008,127.02355194,3,7,true,false,false,10,false,0\\n1317,1644918610.0494866|-32400|0,\"1354. Exit 2 of Korea University Station\",37.59071350,127.03619385,10,10,true,false,false,20,false,0\\n1347,1644918610.0495517|-32400|0,\"1355. Bomun 2-gyo Bridge\",37.58869934,127.01891327,30,0,true,false,false,22,false,0\\n1383,1644918610.049616|-32400|0,\"1357. Bukhansan Bogungmun Station\",37.61207199,127.00813293,2,20,true,false,false,22,false,0\\n1384,1644918610.0496805|-32400|0,\"1358. In front of Jeongneung Library\",37.60478973,127.01058197,6,3,true,false,false,9,false,0\\n1385,1644918610.0497448|-32400|0,\"1359. In front of Jangwi New Town Dream Forest Kolon Hanulche Apartments\",37.61980057,127.04509735,15,7,true,false,false,22,false,0\\n1386,1644918610.0498092|-32400|0,\"1360. Jeongneung Station\",37.60309601,127.01350403,7,5,true,false,false,12,false,0\\n1424,1644918610.049873|-32400|0,\"1361. Hongik Middle & High School Entrance\",37.59296799,127.00223541,17,5,true,false,false,22,false,0\\n1454,1644918610.0499377|-32400|0,\"1362. In front of Exit 6 of Bomun Station\",37.58519745,127.01966858,12,0,true,false,false,10,false,0\\n1456,1644918610.050002|-32400|0,\"1364. In front of Seongbuk-dong Community Security Center\",37.59017181,127.00408936,3,9,true,false,false,12,false,0\\n1457,1644918610.0500672|-32400|0,\"1365. In front of Seonjamdanji\",37.59336090,126.99909210,6,11,true,false,false,17,false,0\\n1458,1644918610.0501318|-32400|0,\"1366. Next to Ilshin Elementary School\",37.59972000,127.04038239,7,5,true,false,false,12,false,0\\n1459,1644918610.0501964|-32400|0,\"1367. Gireum Culture Complex Media Center\",37.60404587,127.02265930,12,5,true,false,false,17,false,0\\n1460,1644918610.0502613|-32400|0,\"1368. Sungshin University Entrance Intersection\",37.59148026,127.02010345,7,5,true,false,false,12,false,0\\n1633,1644918610.0503259|-32400|0,\"1369. Mia Four-way Intersection\",37.60913086,127.03002930,11,6,true,false,false,17,false,0\\n1634,1644918610.0503902|-32400|0,\"1370. Bokja Retreat House\",37.59453964,126.99520874,0,22,true,false,false,22,false,0\\n1636,1644918610.050455|-32400|0,\"1372. KEB Hana Bank (Korea University Branch)\",37.58644485,127.03160095,0,15,true,false,false,15,false,0\\n1637,1644918610.0505195|-32400|0,\"1373. Across from Seongbuk-gu Community Health Center\",37.60229111,127.03897858,10,0,true,false,false,8,false,0\\n1723,1644918610.0505953|-32400|0,\"1375. Intersection in front of Lifeline Seoul\",37.60390854,127.03737640,3,19,true,false,false,22,false,0\\n1745,1644918610.0506613|-32400|0,\"1376. Korea Advanced Institute of Science and Technology Main Gate\",37.59732056,127.04380798,1,6,true,false,false,7,false,0\\n1746,1644918610.050727|-32400|0,\"1377. Korea Advanced Institute of Science and Technology North Gate\",37.60395813,127.04534149,5,7,true,false,false,12,false,0\\n2221,1644918610.0507953|-32400|0,\"1379.길음뉴타운푸르지오아파트 3단지\",37.60935974,127.01817322,0,15,true,false,false,15,false,0\\n2222,1644918610.0508652|-32400|0,\"1380.월곡역 5번출구 앞\",37.60108566,127.04123688,6,4,true,false,false,10,false,0\\n2223,1644918610.0509346|-32400|0,\"1381.석계역 4번출구 뒤\",37.61478424,127.06700134,9,1,true,false,false,10,false,0\\n2406,1644918610.0510035|-32400|0,\"1382.래미안월곡아파트 입구\",37.60843277,127.03632355,12,0,true,false,false,10,false,0\\n2225,1644918610.051072|-32400|0,\"1384.성신여대입구역 5번출구\",37.59282684,127.01628876,6,4,true,false,false,10,false,0\\n2226,1644918610.051142|-32400|0,\"1385.성신여대입구역 3번출구 앞\",37.59236526,127.01628876,5,5,true,false,false,10,false,0\\n2227,1644918610.0512102|-32400|0,\"1386.동선고가차도 초입\",37.59415817,127.01896667,0,10,true,false,false,10,false,0\\n2229,1644918610.0513017|-32400|0,\"1388.커핀그루나루\",37.59088135,127.01170349,4,6,true,false,false,10,false,0\\n2231,1644918610.051372|-32400|0,\"1390.석관래미안아트리치\",37.60646057,127.06162262,7,3,true,false,false,10,false,0\\n2232,1644918610.051449|-32400|0,\"1391.성북청소년센터\",37.61707306,127.05624390,9,11,true,false,false,20,false,0\\n2233,1644918610.0515184|-32400|0,\"1392.돈암삼성풍림아파트\",37.59709930,127.02262878,11,0,true,false,false,10,false,0\\n2234,1644918610.0515876|-32400|0,\"1393.돈암육교 하단\",37.59802628,127.02140808,1,9,true,false,false,10,false,0\\n2235,1644918610.051657|-32400|0,\"1394.길음뉴타운 래미안9단지\",37.60241699,127.01971436,10,0,true,false,false,10,false,0\\n2236,1644918610.051726|-32400|0,\"1395.래미안장위포레카운티(102동)\",37.61817932,127.05183411,16,4,true,false,false,20,false,0\\n2237,1644918610.0517955|-32400|0,\"1396.래미안장위퍼스트하이(513동)\",37.61844254,127.05145264,13,17,true,false,false,30,false,0\\n558,1644918610.0518637|-32400|0,\"1401. Geukdong Neulpurun Apartment Complex\",37.61473846,127.07636261,3,14,true,false,false,17,false,0\\n561,1644918610.05193|-32400|0,\"1402. Guemran Parking Lot\",37.60007095,127.10233307,3,9,true,false,false,12,false,0\\n566,1644918610.0519962|-32400|0,\"1403. Junghwa Building (Dongbu Market)\",37.59424973,127.07657623,6,11,true,false,false,17,false,0\\n599,1644918610.0520854|-32400|0,\"1404. Dongil-ro Underpass\",37.59529877,127.08003235,5,7,true,false,false,12,false,0\\n568,1644918610.0521536|-32400|0,\"1405. Exit 1 of Mangu Station\",37.59909821,127.09294891,5,7,true,false,false,12,false,0\\n569,1644918610.0522199|-32400|0,\"1406. Mangu Youth Center\",37.60625076,127.10826874,4,8,true,false,false,12,false,0\\n847,1644918610.0522864|-32400|0,\"1407. Behind Exit 1 of Meokgol Station\",37.61151123,127.07788849,4,8,true,false,false,12,false,0\\n570,1644918610.0523524|-32400|0,\"1408. Exit 6 of Meokgol Station\",37.61072159,127.07747650,11,1,true,false,false,12,false,0\\n573,1644918610.0524194|-32400|0,\"1410. Myeonmok DaewonCantavil Apartment Complex\",37.57778168,127.09018707,3,9,true,false,false,12,false,0\\n912,1644918610.0524852|-32400|0,\"1411. Intersection in front of Sangbong Market; In front of Hansung Building\",37.59254074,127.08673859,6,6,true,false,false,12,false,0\\n575,1644918610.0525615|-32400|0,\"1412. Myeonmok Elementary School\",37.59096146,127.08706665,12,0,true,false,false,12,false,0\\n577,1644918610.0526264|-32400|0,\"1413. Behind Exit 5 of Bonghwasan Station\",37.61756134,127.09030914,8,4,true,false,false,12,false,0\\n849,1644918610.0526917|-32400|0,\"1414. Exit 1 of Sagajeong Station\",37.58162308,127.08851624,18,0,true,false,false,10,false,0\\n850,1644918610.052757|-32400|0,\"1416. Exit 3 of Sangbong Station\",37.59521866,127.08599854,14,0,true,false,false,10,false,0\\n583,1644918610.0528224|-32400|0,\"1418. Saesol Elementary School\",37.61743927,127.10901642,19,0,true,false,false,17,false,0\\n585,1644918610.052887|-32400|0,\"1420. Sinnae Oul Park\",37.61394501,127.09770203,4,13,true,false,false,17,false,0\\n586,1644918610.052952|-32400|0,\"1421. Exit 4 of Sinnae Station\",37.61246109,127.10337830,11,11,true,false,false,22,false,0\\n587,1644918610.0530171|-32400|0,\"1422. Sinnae Woodyan 1-dangi Apartment Complex\",37.62009811,127.10646057,5,7,true,false,false,12,false,0\\n588,1644918610.0530822|-32400|0,\"1424. Exit 2 of Yangwon Station\",37.60631180,127.10774231,2,10,true,false,false,12,false,0\\n589,1644918610.0531468|-32400|0,\"1425. Yongma Cultural & Welfare Center\",37.58745956,127.09597015,1,11,true,false,false,12,false,0\\n590,1644918610.053212|-32400|0,\"1426. Myeonmok Dosigaebal Apartment Complex (Building 1)\",37.57358932,127.08682251,13,4,true,false,false,17,false,0\\n852,1644918610.0532763|-32400|0,\"1427. Exit 1 of Yongmasan Station\",37.57429886,127.08691406,3,9,true,false,false,12,false,0\\n853,1644918610.0533414|-32400|0,\"1428. Wonmook High School\",37.61602402,127.08596802,12,0,true,false,false,12,false,0\\n854,1644918610.0534065|-32400|0,\"1429. Jangan Middle School\",37.59995651,127.08000183,8,9,true,false,false,17,false,0\\n855,1644918610.053471|-32400|0,\"1430. Jungnang-gu Office\",37.60615158,127.09259796,0,22,true,false,false,22,false,0\\n856,1644918610.0535352|-32400|0,\"1431. Jungnang-gu Office Four-way Intersection\",37.60649872,127.09545135,2,10,true,false,false,12,false,0\\n857,1644918610.0536005|-32400|0,\"1433. Exit 2 of Junghwa Station\",37.60207748,127.07958221,9,3,true,false,false,12,false,0\\n593,1644918610.0536647|-32400|0,\"1435. Neungsan Three-way Intersection\",37.60868073,127.10079193,1,16,true,false,false,17,false,0\\n594,1644918610.05373|-32400|0,\"1436. Yeongpung Madlevill Apartment Complex\",37.60588074,127.10063171,1,16,true,false,false,17,false,0\\n595,1644918610.0537949|-32400|0,\"1437. Neulpureun Park\",37.58341980,127.07992554,9,8,true,false,false,17,false,0\\n596,1644918610.0538595|-32400|0,\"1438. Homeplus (Sinnae Branch)\",37.61616898,127.09348297,16,1,true,false,false,17,false,0\\n942,1644918610.053924|-32400|0,\"1440. Hana Bank (Myeonmok Branch)\",37.58637238,127.08007050,4,8,true,false,false,12,false,0\\n584,1644918610.0539894|-32400|0,\"1441. Sinnae Neungmal Park\",37.61671066,127.11073303,10,7,true,false,false,17,false,0\\n1093,1644918610.0540545|-32400|0,\"1442. Formerly Shinhan Bank (Jungnanggyo Branch)\",37.59859085,127.07981873,7,3,true,false,false,10,false,0\\n1095,1644918610.054119|-32400|0,\"1444. Myeonmok 4-dong Community Security Center\",37.57402802,127.08054352,6,6,true,false,false,12,false,0\\n1096,1644918610.0541837|-32400|0,\"1445. Yongma Patrol Division\",37.57994080,127.07939911,7,5,true,false,false,12,false,0\\n1097,1644918610.0542495|-32400|0,\"1446. Jungnang Telephone Office Intersection\",37.59130096,127.08032990,11,1,true,false,false,12,false,0\\n1098,1644918610.0543146|-32400|0,\"1447. Exit 3 of Myeonmok Station\",37.58890152,127.08728027,15,2,true,false,false,17,false,0\\n1099,1644918610.0543795|-32400|0,\"1448. Costco (Sangbong Branch)\",37.59732056,127.08979797,6,6,true,false,false,12,false,0\\n1332,1644918610.054445|-32400|0,\"1449. Exit 1 of Sangbong Station\",37.59655762,127.08583832,8,9,true,false,false,17,false,0\\n1333,1644918610.0545099|-32400|0,\"1450. Exit 7 of Hwarangdae Station\",37.61963654,127.08504486,10,2,true,false,false,12,false,0\\n1334,1644918610.0545745|-32400|0,\"1451. NTS Jungnang District Office\",37.59275818,127.07266998,15,0,true,false,false,12,false,0\\n1335,1644918610.0546393|-32400|0,\"1452. Gyeomjaegyo Entrance\",37.58565521,127.07505035,7,10,true,false,false,17,false,0\\n1345,1644918610.0547042|-32400|0,\"1453. Jungnang Camping Forest\",37.60460281,127.10925293,3,8,true,false,false,11,false,0\\n1346,1644918610.0547686|-32400|0,\"1454. Korea Electric Power Corporation (Dongdaemun Jungnang Branch)\",37.60734940,127.07859039,8,4,true,false,false,12,false,0\\n1375,1644918610.054833|-32400|0,\"1455. Exit 2 of Sangbong Station\",37.59632874,127.08589935,11,1,true,false,false,12,false,0\\n1380,1644918610.054898|-32400|0,\"1456. Sanga Building (Urim Market Intersection)\",37.59511185,127.10032654,3,9,true,false,false,12,false,0\\n1381,1644918610.054963|-32400|0,\"1457. Dongwon Four-way Intersection\",37.58975983,127.09323883,3,9,true,false,false,12,false,0\\n1451,1644918610.0550282|-32400|0,\"1458. Sangbong Bus Terminal 2\",37.59733963,127.09308624,8,1,true,false,false,9,false,0\\n1452,1644918610.0550935|-32400|0,\"1459. Yongma Hanshin Apt. Four-way Intersection\",37.58034897,127.09265137,3,9,true,false,false,12,false,0\\n2282,1644918610.0551608|-32400|0,\"1461.동양엔파트 앞\",37.59385300,127.07507324,5,7,true,false,false,12,false,0\\n2283,1644918610.0552285|-32400|0,\"1462.동부시장 북문 앞\",37.59386826,127.07652283,7,2,true,false,false,9,false,0\\n2284,1644918610.055296|-32400|0,\"1463.중랑구민회관\",37.57407761,127.08500671,10,0,true,false,false,10,false,0\\n2285,1644918610.0553641|-32400|0,\"1464.중화역 4번출구\",37.60305405,127.07900238,2,13,true,false,false,15,false,0\\n2286,1644918610.0554373|-32400|0,\"1465.중랑공영차고지 옆\",37.61314774,127.10514832,12,0,true,false,false,10,false,0\\n2287,1644918610.055505|-32400|0,\"1466.두산대림아파트 삼거리\",37.61882401,127.08757019,5,5,true,false,false,10,false,0\\n2288,1644918610.055572|-32400|0,\"1467.sk신내 주유소앞(용마산로)\",37.61362076,127.10115051,6,4,true,false,false,10,false,0\\n2289,1644918610.055661|-32400|0,\"1468.먹골역 7번 출구\",37.61147690,127.07739258,2,4,true,false,false,6,false,0\\n2290,1644918610.055731|-32400|0,\"1469.먹골역 4번출구\",37.60982132,127.07813263,19,1,true,false,false,20,false,0\\n2291,1644918610.055798|-32400|0,\"1470.중화동 우리은행 앞\",37.60520172,127.07858276,4,16,true,false,false,20,false,0\\n2292,1644918610.0558655|-32400|0,\"1471.동양쇼핑 정류소 앞\",37.61535263,127.07849121,13,0,true,false,false,10,false,0\\n2293,1644918610.0559554|-32400|0,\"1472.영성빌딩(PAT)\",37.60408401,127.07923126,1,7,true,false,false,8,false,0\\n2294,1644918610.056025|-32400|0,\"1473.중랑역 1번 출구(중화문화복지센터)\",37.59489059,127.07495117,9,1,true,false,false,10,false,0\\n2295,1644918610.0560935|-32400|0,\"1474.서울중랑우체국\",37.59581375,127.08283997,9,1,true,false,false,10,false,0\\n2298,1644918610.056161|-32400|0,\"1477.면목삼익아파트 앞\",37.57598495,127.07960510,4,11,true,false,false,15,false,0\\n2299,1644918610.056228|-32400|0,\"1478.홈플러스 상봉점 앞\",37.59832764,127.09226990,3,7,true,false,false,10,false,0\\n2300,1644918610.056295|-32400|0,\"1479.면목 홈플러스 2 \",37.58105469,127.08209229,1,9,true,false,false,10,false,0\\n2301,1644918610.0563614|-32400|0,\"1480. 용마지구대 옆\",37.58111191,127.08010101,7,8,true,false,false,15,false,0\\n948,1644918610.0564277|-32400|0,\"1501. Between Exits 3 and 4 of Mia Station\",37.62607956,127.02648163,0,11,true,false,false,11,false,0\\n643,1644918610.0564928|-32400|0,\"1503. Ediya Coffee (Suyu Branch)\",37.63926315,127.02672577,6,8,true,false,false,14,false,0\\n644,1644918610.056558|-32400|0,\"1504. Daiso (Samyang Market Branch)\",37.62415695,127.01862335,1,11,true,false,false,12,false,0\\n645,1644918610.0566225|-32400|0,\"1506. Gangbuk Culture & Arts Center\",37.64032745,127.01335907,9,8,true,false,false,17,false,0\\n859,1644918610.0566876|-32400|0,\"1509. Bukbu Office of Waterworks\",37.63437653,127.03575134,4,8,true,false,false,12,false,0\\n860,1644918610.0567522|-32400|0,\"1510. Jugong 5-danji Management Office\",37.63371658,127.03551483,7,5,true,false,false,12,false,0\\n861,1644918610.056817|-32400|0,\"1511. Kumho Eullim Apartment Complex (Building 102)\",37.63112259,127.03603363,11,0,true,false,false,11,false,0\\n862,1644918610.0568817|-32400|0,\"1512. Kangbuk Middle School\",37.64473724,127.02656555,9,13,true,false,false,22,false,0\\n863,1644918610.0569472|-32400|0,\"1513. Behind Gangbuk-gu Office\",37.63967133,127.02519989,6,16,true,false,false,22,false,0\\n646,1644918610.0570116|-32400|0,\"1514. Gangbuk-gu Office Four-way Intersection Bus Stop\",37.63880539,127.02835846,7,5,true,false,false,12,false,0\\n648,1644918610.0570765|-32400|0,\"1515. Songcheon-dong Community Center\",37.61828613,127.02404785,2,10,true,false,false,12,false,0\\n652,1644918610.057141|-32400|0,\"1516. Beside the Exit of Wooi Elementary School\",37.63858795,127.01590729,2,10,true,false,false,12,false,0\\n654,1644918610.0572057|-32400|0,\"1518. SK Telecom (Suyu Branch)\",37.64308548,127.01616669,9,3,true,false,false,12,false,0\\n651,1644918610.0572705|-32400|0,\"1519. 7-Eleven (Suyu Jangmiwon Branch)\",37.64545059,127.01561737,4,8,true,false,false,12,false,0\\n650,1644918610.057335|-32400|0,\"1520. Sungsil Church\",37.63986206,127.02278900,1,9,true,false,false,10,false,0\\n864,1644918610.0573997|-32400|0,\"1522. World Electricity & Lighting Interior\",37.65447235,127.01275635,9,3,true,false,false,12,false,0\\n647,1644918610.0574646|-32400|0,\"1525. Mia-dong Complex Office\",37.62714005,127.02669525,3,9,true,false,false,12,false,0\\n1100,1644918610.057529|-32400|0,\"1526. In front of Chaesundang (Suyu-dong)\",37.64173889,127.02462769,1,9,true,false,false,10,false,0\\n1101,1644918610.0575936|-32400|0,\"1527. Behind Exit 1 of Mia Station\",37.62733459,127.02605438,0,12,true,false,false,12,false,0\\n1102,1644918610.057658|-32400|0,\"1528. Samgaksan-dong Community Service Center\",37.61503601,127.02069855,8,4,true,false,false,12,false,0\\n1103,1644918610.0577223|-32400|0,\"1529. KEPCO (Mia-dong)\",37.63018036,127.02490997,7,10,true,false,false,17,false,0\\n1104,1644918610.0577867|-32400|0,\"1530. Gwangsan Four-way Intersection\",37.64355087,127.02234650,9,3,true,false,false,12,false,0\\n1105,1644918610.0578527|-32400|0,\"1531. Exit 1 of Miasageori Station\",37.61395645,127.03025055,19,0,true,false,false,12,false,0\\n1106,1644918610.0579176|-32400|0,\"1532. Beon 3-dong Community Service Center Intersection\",37.62635422,127.04744720,3,9,true,false,false,12,false,0\\n1107,1644918610.0579824|-32400|0,\"1533. Beon-dong Jugong Apartment Complex 3, 4 Intersection\",37.62991714,127.04091644,10,2,true,false,false,12,false,0\\n1109,1644918610.0580475|-32400|0,\"1535. In front of Hyosung Intellian Officetel\",37.63629150,127.02337646,3,9,true,false,false,12,false,0\\n1110,1644918610.0581129|-32400|0,\"1536. Next to the Doosan We’ve Apartment 101-dong (Beon-dong)\",37.63626099,127.03217316,2,20,true,false,false,22,false,0\\n1387,1644918610.0581796|-32400|0,\"1537. Bukhansan Ui Station\",37.66366577,127.01242828,9,3,true,false,false,12,false,0\\n1388,1644918610.0582447|-32400|0,\"1538. Solbat Park Station\",37.65615845,127.01313782,6,4,true,false,false,10,false,0\\n1389,1644918610.058309|-32400|0,\"1539. April 19th National Cemetery Station\",37.64967346,127.01345062,9,3,true,false,false,12,false,0\\n1390,1644918610.058375|-32400|0,\"1540. Gaori Station\",37.64167023,127.01688385,7,5,true,false,false,12,false,0\\n1391,1644918610.0584397|-32400|0,\"1541. Samyang Station\",37.62652969,127.01805878,6,6,true,false,false,12,false,0\\n1392,1644918610.0585043|-32400|0,\"1542. Samyang Sageori Station\",37.62155151,127.02037048,6,6,true,false,false,12,false,0\\n1423,1644918610.0585687|-32400|0,\"1543. Suyu 1-dong Community Service Center\",37.63018799,127.01773834,9,3,true,false,false,12,false,0\\n1665,1644918610.0586338|-32400|0,\"1546. Songcheon-dong Post Office\",37.61545944,127.02970123,10,2,true,false,false,12,false,0\\n1724,1644918610.0586982|-32400|0,\"1547. Dream Forest Lotte Castle\",37.61864090,127.03623962,9,8,true,false,false,17,false,0\\n1725,1644918610.0587633|-32400|0,\"1548. West Gate of Dream Forest\",37.62268829,127.03781128,0,17,true,false,false,17,false,0\\n2123,1644918610.0588298|-32400|0,\"1550.삼각산아이원아파트(105동 옆)\",37.61522293,127.01850891,6,4,true,false,false,10,false,0\\n2124,1644918610.0588982|-32400|0,\"1551.4.19탑 앞\",37.64686203,127.00881195,0,8,true,false,false,8,false,0\\n2125,1644918610.0589657|-32400|0,\"1552. 강북구청사거리(던킨도너츠 앞)\",37.63920212,127.02723694,7,1,true,false,false,8,false,0\\n2126,1644918610.0590327|-32400|0,\"1553.예수그리스도후기성도교회 앞\",37.63520432,127.03396606,1,14,true,false,false,15,false,0\\n2127,1644918610.0591|-32400|0,\"1554.번동사거리\",37.63539124,127.03455353,6,4,true,false,false,10,false,0\\n2129,1644918610.059167|-32400|0,\"1557.신창교\",37.63238144,127.03930664,6,4,true,false,false,10,false,0\\n2130,1644918610.0592346|-32400|0,\"1558.강북문화정보도서관\",37.62552643,127.03732300,10,5,true,false,false,15,false,0\\n2132,1644918610.0593014|-32400|0,\"1560. 도봉세무서 앞\",37.61980820,127.02852631,5,5,true,false,false,10,false,0\\n2133,1644918610.059368|-32400|0,\"1564.4.19민주묘지역 1번출구\",37.64959717,127.01384735,3,4,true,false,false,7,false,0\\n2134,1644918610.0594447|-32400|0,\"1565.대한병원앞\",37.63561249,127.02299500,11,4,true,false,false,15,false,0\\n2136,1644918610.0595355|-32400|0,\"1568.4.19민주묘지 입구사거리\",37.64793396,127.01457214,3,7,true,false,false,10,false,0\\n2137,1644918610.059605|-32400|0,\"1569.수유역2번출구\",37.63796997,127.02590179,6,4,true,false,false,10,false,0\\n2401,1644918610.0596726|-32400|0,\"1571.북서울 꿈의 숲 입구\",37.62673187,127.03877258,6,14,true,false,false,20,false,0\\n2402,1644918610.0597398|-32400|0,\"1572.우이산 먹거리마을\",37.66446304,127.01184082,3,17,true,false,false,20,false,0\\n2403,1644918610.0598073|-32400|0,\"1573.현대성우아파트 옆\",37.61666489,127.02210999,0,10,true,false,false,10,false,0\\n2405,1644918610.059874|-32400|0,\"1574.송중초등학교 옆\",37.61669922,127.03049469,0,8,true,false,false,8,false,0\\n600,1644918610.0599408|-32400|0,\"1601. Bike Rack in Seokgye Station’s Culture Square\",37.61529922,127.06446838,5,5,true,false,false,10,false,0\\n913,1644918610.0600274|-32400|0,\"1602. Kwangwoon University Station\",37.62266159,127.06189728,10,5,true,false,false,15,false,0\\n866,1644918610.060094|-32400|0,\"1605. Healthcare\",37.63162231,127.06161499,10,2,true,false,false,12,false,0\\n602,1644918610.0601594|-32400|0,\"1606. Exit 3 of Taereung Station\",37.61917114,127.07492828,15,0,true,false,false,12,false,0\\n735,1644918610.060225|-32400|0,\"1608. Exit 1 of Gongneung Station\",37.62661362,127.07275391,21,0,true,false,false,12,false,0\\n603,1644918610.0602908|-32400|0,\"1610. Exit 2 of Hwarangdae Station\",37.62036896,127.08364105,11,11,true,false,false,22,false,0\\n604,1644918610.0603566|-32400|0,\"1611. Seoul Tech Entrance (Right)\",37.62994003,127.07655334,16,6,true,false,false,22,false,0\\n605,1644918610.0604217|-32400|0,\"1616. Beside the Hagye 2-dong Airport Limousine Bus Stop\",37.63510895,127.06832886,15,0,true,false,false,12,false,0\\n606,1644918610.0604868|-32400|0,\"1617. Jungpyeong Children’s Park\",37.63714981,127.06327057,6,16,true,false,false,22,false,0\\n736,1644918610.0605552|-32400|0,\"1619. 중계동 하나프라자빌딩 앞(중1-1)\",37.64902115,127.07640839,3,9,true,false,false,12,false,0\\n867,1644918610.0606225|-32400|0,\"1620. Next to the Nowon-gu Sports Center (Jung 1-2)\",37.64820862,127.07022095,1,11,true,false,false,12,false,0\\n914,1644918610.060687|-32400|0,\"1625. Exit 4 of Sanggye Station\",37.65999985,127.07296753,4,18,true,false,false,22,false,0\\n915,1644918610.0607533|-32400|0,\"1627. 수락산역 4번출구\",37.67694092,127.05509949,3,9,true,false,false,12,false,0\\n868,1644918610.0608196|-32400|0,\"1628. Noil Elementary School\",37.67361832,127.05525208,3,9,true,false,false,12,false,0\\n869,1644918610.0608845|-32400|0,\"1630. Suyeon Building\",37.67625046,127.05550385,3,7,true,false,false,10,false,0\\n608,1644918610.06095|-32400|0,\"1634. Danggogae Park Bike Rental Station\",37.66846085,127.07714844,3,14,true,false,false,17,false,0\\n609,1644918610.0610158|-32400|0,\"1635. Sanggye 3, 4-dong Community Center Bike Rental Station\",37.67271042,127.08316040,4,9,true,false,false,13,false,0\\n610,1644918610.061081|-32400|0,\"1636. In front of Nonghyup Bank at the Paik Hospital Four-way Intersection\",37.64921188,127.06176758,7,5,true,false,false,12,false,0\\n611,1644918610.061146|-32400|0,\"1637. KT Nowon Office\",37.65470123,127.06340027,13,0,true,false,false,9,false,0\\n612,1644918610.061211|-32400|0,\"1639. Heesung Opian\",37.68031311,127.05506897,5,7,true,false,false,12,false,0\\n971,1644918610.0612764|-32400|0,\"1640. Hannae Neighborhood Park (North Side)\",37.62386322,127.06848907,6,3,true,false,false,9,false,0\\n970,1644918610.061342|-32400|0,\"1641. Hannae Neighborhood Park (South Side)\",37.62155533,127.06951141,1,16,true,false,false,17,false,0\\n964,1644918610.0614073|-32400|0,\"1642. Southern Gate of Seoul Women’s University\",37.62531662,127.08813477,6,3,true,false,false,9,false,0\\n1111,1644918610.0614736|-32400|0,\"1643. Exit 8 of Taereung Station\",37.61736679,127.07521057,6,6,true,false,false,12,false,0\\n1114,1644918610.0615385|-32400|0,\"1646. Sahmyook University Entrance \",37.63848877,127.10790253,2,20,true,false,false,22,false,0\\n1118,1644918610.0616038|-32400|0,\"1650. Inside of Junggye Neighborhood Park\",37.63957977,127.06510162,11,9,true,false,false,20,false,0\\n1119,1644918610.0616686|-32400|0,\"1651. In front of McDonald (Sanggye Branch)\",37.67237473,127.05599213,5,17,true,false,false,22,false,0\\n1120,1644918610.0617328|-32400|0,\"1652. In front of Parco\",37.68000031,127.05558014,4,8,true,false,false,12,false,0\\n1121,1644918610.0617974|-32400|0,\"1653. Exit 1 of Nowon Station\",37.65620041,127.06362152,4,8,true,false,false,12,false,0\\n1122,1644918610.0618622|-32400|0,\"1654. Danggogae Entrance Five-way Intersection\",37.66379166,127.07544708,0,17,true,false,false,17,false,0\\n1123,1644918610.0619278|-32400|0,\"1655. Gongneung Apartment Complex 1\",37.63111115,127.07015991,12,5,true,false,false,17,false,0\\n1124,1644918610.0619922|-32400|0,\"1656. Jungang Heights Apartment Entrance\",37.65501785,127.06750488,3,9,true,false,false,12,false,0\\n1125,1644918610.0620573|-32400|0,\"1657. Nowon-gu Office\",37.65404892,127.05732727,8,14,true,false,false,22,false,0\\n1127,1644918610.0621219|-32400|0,\"1659. Junggye-dong Eulji Middle School\",37.65032959,127.07160187,7,5,true,false,false,12,false,0\\n1128,1644918610.0621867|-32400|0,\"1660. Seoul Science Center\",37.64207077,127.07662201,4,6,true,false,false,10,false,0\\n1278,1644918610.0622518|-32400|0,\"1661. Danghyeoncheon Neighborhood Park\",37.64963913,127.06560516,7,5,true,false,false,12,false,0\\n1279,1644918610.062316|-32400|0,\"1662. Exit 7 of Nowon Station\",37.65421677,127.05921173,4,13,true,false,false,17,false,0\\n1280,1644918610.0623806|-32400|0,\"1663. In front of Donghae Arts Center\",37.61938095,127.05785370,10,12,true,false,false,22,false,0\\n1281,1644918610.0624456|-32400|0,\"1664. Inside of Nohae Neighborhood Park\",37.64936066,127.07044220,1,11,true,false,false,12,false,0\\n1282,1644918610.0625103|-32400|0,\"1665. In front of Yangji Neighborhood Park\",37.64733505,127.07642365,6,6,true,false,false,12,false,0\\n1283,1644918610.0625753|-32400|0,\"1666. Near of Nowon Fire Station\",37.65578079,127.07177734,6,6,true,false,false,12,false,0\\n1284,1644918610.0626402|-32400|0,\"1667. Junggye Middle school\",37.65449905,127.07438660,0,12,true,false,false,12,false,0\\n1285,1644918610.0627055|-32400|0,\"1668. Exit 6 of Junggye Station\",37.64550781,127.06325531,0,12,true,false,false,12,false,0\\n1286,1644918610.06277|-32400|0,\"1669. Exit 3 of Junggye Station\",37.64352798,127.06522369,4,7,true,false,false,11,false,0\\n1287,1644918610.0628347|-32400|0,\"1670. Nowon Police Station Intersection\",37.64340973,127.07183838,7,10,true,false,false,17,false,0\\n1288,1644918610.0628998|-32400|0,\"1671. Induk University\",37.62934875,127.05482483,7,10,true,false,false,17,false,0\\n1289,1644918610.0629675|-32400|0,\"1672. Sanggye-dong Surak River City\",37.68859863,127.05340576,2,15,true,false,false,17,false,0\\n1291,1644918610.0630322|-32400|0,\"1674. In front of Seoul Bukbu Employment Center\",37.65354919,127.05808258,1,16,true,false,false,17,false,0\\n1348,1644918610.0630968|-32400|0,\"1675. Wolgye Culture and Sports Center\",37.62694168,127.05513000,4,7,true,false,false,11,false,0\\n1349,1644918610.0631618|-32400|0,\"1677. In front of Korea Military Academy\",37.62316513,127.09049988,5,7,true,false,false,12,false,0\\n1394,1644918610.063227|-32400|0,\"1678. Korean Bible University, Milal Hall\",37.64843750,127.06444550,5,12,true,false,false,17,false,0\\n1395,1644918610.0632913|-32400|0,\"1679. Sahmyook University Library\",37.64282990,127.10666656,3,14,true,false,false,17,false,0\\n1396,1644918610.0633557|-32400|0,\"1680. Sahmyook University Science Museum No. 3\",37.64265442,127.10838318,6,3,true,false,false,9,false,0\\n1425,1644918610.0634532|-32400|0,\"1681. Hyundai 6 cha Apartment\",37.64580154,127.08226013,4,10,true,false,false,14,false,0\\n1426,1644918610.0635235|-32400|0,\"1682. Junggye Social Welfare Center Intersection\",37.65745544,127.07554626,1,12,true,false,false,13,false,0\\n1473,1644918610.063595|-32400|0,\"1683. Nowon Arts Center\",37.65045929,127.08088684,2,10,true,false,false,12,false,0\\n1474,1644918610.0636609|-32400|0,\"1684. Exit 5 of Taereung Station\",37.61832047,127.07563019,14,8,true,false,false,22,false,0\\n1475,1644918610.0637262|-32400|0,\"1685. Crosswalk in front of Buram High School\",37.64818954,127.08048248,2,8,true,false,false,10,false,0\\n1476,1644918610.0637908|-32400|0,\"1686. Onsugol Four-way Intersection (In front of Starbucks)\",37.66114044,127.05805206,8,4,true,false,false,12,false,0\\n1477,1644918610.063856|-32400|0,\"1687. Nowon-gu Sanggye Apt. Complex 15\",0.00000000,0.00000000,0,12,true,false,false,12,false,0\\n1639,1644918610.063921|-32400|0,\"1688. Exit 7 of Madeul Station\",37.66566086,127.05729675,0,9,true,false,false,9,false,0\\n1640,1644918610.063986|-32400|0,\"1689. Exit 3 of Madeul Station\",37.66524887,127.05789185,8,2,true,false,false,10,false,0\\n1641,1644918610.0640514|-32400|0,\"1690. Dobong Driver’s License Test Center\",37.65773010,127.05931091,0,12,true,false,false,12,false,0\\n1642,1644918610.064118|-32400|0,\"1691. Nowon Information Library\",37.66070938,127.06533051,6,6,true,false,false,12,false,0\\n1672,1644918610.0642278|-32400|0,\"1692. Ongok Elementary School Intersection\",37.66418839,127.06600952,1,11,true,false,false,12,false,0\\n1740,1644918610.0643656|-32400|0,\"1693. Korea Cancer Center Hospital\",37.62818909,127.08210754,5,12,true,false,false,17,false,0\\n2062,1644918610.0644767|-32400|0,\"1696.수락리버시티4단지\",37.68645096,127.05283356,1,9,true,false,false,10,false,0\\n2063,1644918610.0645876|-32400|0,\"1697.상계주공2단지 219동\",37.65024948,127.05715179,2,8,true,false,false,10,false,0\\n613,1644918610.0646966|-32400|0,\"1702. Exit 1 of Nokcheon Station\",37.64582062,127.05042267,2,10,true,false,false,12,false,0\\n657,1644918610.0648017|-32400|0,\"1703. Dobongsan Metro Area Bus Transfer Center\",37.68972015,127.04519653,7,10,true,false,false,17,false,0\\n614,1644918610.0649078|-32400|0,\"1705. Front Gate of Dobong-gu Office\",37.66922379,127.04651642,3,7,true,false,false,10,false,0\\n916,1644918610.0650144|-32400|0,\"1706. Industrial Bank of Korea\",37.66566467,127.04267120,2,10,true,false,false,12,false,0\\n615,1644918610.0651228|-32400|0,\"1707. Dobong-gu Hall\",37.65446091,127.03851318,13,4,true,false,false,17,false,0\\n658,1644918610.0652254|-32400|0,\"1708. Health Center Four-way Intersection(Davich Optical, Changdong Branch)\",37.65682983,127.03984833,0,10,true,false,false,10,false,0\\n616,1644918610.0653267|-32400|0,\"1709. Exit 4 of Ssangmun Station\",37.65012741,127.03534698,4,13,true,false,false,17,false,0\\n1129,1644918610.0654614|-32400|0,\"1713. 쌍문동 이안아파트 앞\",37.65165329,127.02848816,2,10,true,false,false,12,false,0\\n1130,1644918610.0655956|-32400|0,\"1714. Dobong Culture & Information Library Three-way Intersection\",37.64463043,127.04460907,7,5,true,false,false,12,false,0\\n1131,1644918610.0657215|-32400|0,\"1715. Dobong Public Library\",37.65317917,127.01278687,9,13,true,false,false,22,false,0\\n1132,1644918610.0658543|-32400|0,\"1716. Hanaro Mart (Dobong Branch)\",37.65420151,127.05072784,10,2,true,false,false,12,false,0\\n1133,1644918610.065977|-32400|0,\"1717. Changdong Stadium Entrance\",37.65570831,127.05010223,4,13,true,false,false,17,false,0\\n1135,1644918610.0661013|-32400|0,\"1719. Sindobong Four-way Intersection Bus Stop\",37.67328262,127.04399109,5,7,true,false,false,12,false,0\\n1136,1644918610.0662248|-32400|0,\"1720. Next to the Dobong-gu Office (beside Jungnangcheon Stream)\",37.66867065,127.04798126,1,28,true,false,false,29,false,0\\n1137,1644918610.0662963|-32400|0,\"1721. Exit 2 of Changdong Station\",37.65301514,127.04699707,17,0,true,false,false,14,false,0\\n1292,1644918610.0663624|-32400|0,\"1722. Chang-dong Youth Center\",37.65779877,127.05004883,11,6,true,false,false,17,false,0\\n1293,1644918610.0664284|-32400|0,\"1723. Banghak-dong Hakmaeul Library\",37.66207886,127.02771759,3,9,true,false,false,12,false,0\\n1295,1644918610.0664937|-32400|0,\"1725. Chang 1-dong Community Service Center\",37.64750290,127.04331207,1,11,true,false,false,12,false,0\\n1296,1644918610.06656|-32400|0,\"1726. Samick Ceramic Apartment Intersection\",37.65858841,127.03520966,7,3,true,false,false,10,false,0\\n1297,1644918610.066625|-32400|0,\"1727. Near of Seoul Dobong Elementary School\",37.67867661,127.04076385,8,9,true,false,false,17,false,0\\n1434,1644918610.06669|-32400|0,\"1728. Seoul Northern District Court\",37.67771912,127.04681396,8,9,true,false,false,17,false,0\\n1461,1644918610.0667548|-32400|0,\"1729. In front of Paris Baguette\",37.68400955,127.04579163,6,6,true,false,false,12,false,0\\n1462,1644918610.0668194|-32400|0,\"1730. In front of Dobongsan Station Intersection\",37.68759155,127.04550171,2,10,true,false,false,12,false,0\\n1463,1644918610.0668843|-32400|0,\"1731. Across from Dobong High School\",37.68762970,127.04221344,7,10,true,false,false,17,false,0\\n1464,1644918610.0669494|-32400|0,\"1732. In front of Woori Bank\",37.66759872,127.04299927,12,0,true,false,false,12,false,0\\n1465,1644918610.0670142|-32400|0,\"1733. Banghak Four-way Intersection (In front of Bom Plaza)\",37.66297913,127.04193878,6,8,true,false,false,14,false,0\\n1466,1644918610.0670807|-32400|0,\"1734. In front of Ssangmun Hyundai 1-cha Apt. 108-dong\",37.65814972,127.03266907,4,8,true,false,false,12,false,0\\n1467,1644918610.067145|-32400|0,\"1735. Across from Exit 1 and 2 of Dobong Station\",37.67911911,127.04498291,9,6,true,false,false,15,false,0\\n1468,1644918610.0672097|-32400|0,\"1736. In front of the Bus Stop\",37.65224075,127.03706360,7,7,true,false,false,14,false,0\\n1469,1644918610.0672746|-32400|0,\"1737. KEB Hana Bank (Changdong Branch)\",37.63970184,127.03883362,4,6,true,false,false,10,false,0\\n1470,1644918610.0673392|-32400|0,\"1738. In front of Changdongjugong Complex 17 Shopping Arcade\",37.64630890,127.05274200,4,8,true,false,false,12,false,0\\n1638,1644918610.0674038|-32400|0,\"1741. Jeil Kangsan Seafood Restaurant Entrance\",37.64519882,127.03298187,12,5,true,false,false,17,false,0\\n1726,1644918610.0674808|-32400|0,\"1742. Bukhansan Kolon Hanulche\",37.64889145,127.02301788,0,12,true,false,false,12,false,0\\n2088,1644918610.0675497|-32400|0,\"1743.창동19단지아파트 관리사무소앞\",37.65039062,127.05219269,6,4,true,false,false,10,false,0\\n2089,1644918610.0676193|-32400|0,\"1744.KT방학지사 앞\",37.66527176,127.04314423,3,12,true,false,false,15,false,0\\n2091,1644918610.0677242|-32400|0,\"1746. 다이소방학점 앞\",37.66623306,127.04331970,1,9,true,false,false,10,false,0\\n2093,1644918610.0678103|-32400|0,\"1748. 피자헛 앞(도봉병원 옆)\",37.66898346,127.04376221,8,0,true,false,false,7,false,0\\n2094,1644918610.06788|-32400|0,\"1749. ESA아파트 상가 앞\",37.66627121,127.04598999,7,3,true,false,false,10,false,0\\n2095,1644918610.0679476|-32400|0,\"1750. 창포원 남쪽 입구\",37.68826675,127.04889679,9,3,true,false,false,12,false,0\\n2096,1644918610.0680156|-32400|0,\"1751. 창원초등학교 교차로\",37.65212250,127.04170227,14,1,true,false,false,15,false,0\\n2097,1644918610.0680826|-32400|0,\"1752. 창동 주공 4단지 입구 옆\",37.64548111,127.04857635,3,7,true,false,false,10,false,0\\n2099,1644918610.0681808|-32400|0,\"1754. 창동시장입구 사거리\",37.64689636,127.03343201,4,6,true,false,false,10,false,0\\n2101,1644918610.0682497|-32400|0,\"1756.서울북부광역등기국\",37.65144730,127.04470825,3,7,true,false,false,10,false,0\\n2102,1644918610.0683172|-32400|0,\"1757.솔밭공원역 1번출구 앞\",37.65568542,127.01338196,5,5,true,false,false,10,false,0\\n2103,1644918610.0683851|-32400|0,\"1758.북서울교회 버스정류소 앞\",37.65727997,127.01375580,5,5,true,false,false,10,false,0\\n2104,1644918610.0684521|-32400|0,\"1759.서울북부지방법원 앞\",37.67721939,127.04863739,9,1,true,false,false,10,false,0\\n2106,1644918610.0685186|-32400|0,\"1761.방학중학교 앞\",37.66562271,127.03108978,2,8,true,false,false,10,false,0\\n2107,1644918610.0685863|-32400|0,\"1762.북한산 한신휴플러스APT앞\",37.65533829,127.04241943,15,5,true,false,false,20,false,0\\n2110,1644918610.0686538|-32400|0,\"1765.쌍문역 1번 출구(양산부인과 빌딩)\",37.64966965,127.03561401,2,8,true,false,false,10,false,0\\n2112,1644918610.0687208|-32400|0,\"1767.태양중앙교회 앞\",37.66250992,127.03327942,7,3,true,false,false,10,false,0\\n2113,1644918610.0687885|-32400|0,\"1768.신동아타워 버스정류소\",37.66205215,127.02875519,4,4,true,false,false,8,false,0\\n2115,1644918610.068855|-32400|0,\"1770.도봉한신아파트 주변\",37.68523407,127.04985809,2,13,true,false,false,15,false,0\\n2116,1644918610.0689223|-32400|0,\"1771.성원APT버스정류소\",37.65796661,127.03009033,3,12,true,false,false,15,false,0\\n2117,1644918610.0689893|-32400|0,\"1772.시립도봉노인복지관 버스정류소\",37.65805054,127.03575897,3,7,true,false,false,10,false,0\\n2119,1644918610.069056|-32400|0,\"1774.반석교회(쌍문동)\",37.65134811,127.03472900,6,2,true,false,false,8,false,0\\n2120,1644918610.0691235|-32400|0,\"1775.신원리베르텔 앞\",37.65128708,127.04554749,2,13,true,false,false,15,false,0\\n619,1644918610.0691907|-32400|0,\"1804. Exit 2 of Doksan Station (Bike Rack)\",37.46652985,126.88871765,10,2,true,false,false,12,false,0\\n620,1644918610.0692563|-32400|0,\"1805. Seoul Digital Stadium\",37.48228836,126.87776947,5,7,true,false,false,12,false,0\\n621,1644918610.0693216|-32400|0,\"1806. Ace High-End Tower 9-cha\",37.48621368,126.87863922,19,0,true,false,false,12,false,0\\n622,1644918610.0693872|-32400|0,\"1808. Ace High-End Tower 8-cha\",37.47320938,126.88494110,1,21,true,false,false,22,false,0\\n623,1644918610.0694778|-32400|0,\"1809. LG Electronics Annex Building(Across from Hoseo University Venture Tower)\",37.47077942,126.88515472,0,12,true,false,false,12,false,0\\n624,1644918610.069545|-32400|0,\"1812. Kapeul Great Valley\",37.47903061,126.88729858,5,7,true,false,false,12,false,0\\n625,1644918610.069611|-32400|0,\"1814. Shopping Center Next to Doosan We’ve Apartment Complex\",37.47422028,126.89412689,2,8,true,false,false,10,false,0\\n626,1644918610.0696778|-32400|0,\"1816. Geumcheon Waterfall Park\",37.44686127,126.90383148,5,17,true,false,false,22,false,0\\n642,1644918610.0697432|-32400|0,\"1819. Bike Rack in front of Geumcheon-gu Office\",37.45647812,126.89592743,6,6,true,false,false,12,false,0\\n628,1644918610.0698082|-32400|0,\"1820. Shinhan Bank(Siheung-daero Finance Center Branch)\",37.44334030,126.90335846,0,12,true,false,false,12,false,0\\n629,1644918610.0698738|-32400|0,\"1821. Davich Optical across from Homeplus(Siheung Branch)\",37.45145798,126.90211487,11,1,true,false,false,12,false,0\\n630,1644918610.0699387|-32400|0,\"1822. Siheung-dong Post Office\",37.45299149,126.90090942,16,0,true,false,false,12,false,0\\n631,1644918610.070004|-32400|0,\"1823. Sangsin Auto Service\",37.45891190,126.89859009,11,11,true,false,false,22,false,0\\n632,1644918610.0700693|-32400|0,\"1824. Doksan Neighborhood Park Entrance\",37.46455002,126.88372803,4,13,true,false,false,17,false,0\\n633,1644918610.0701356|-32400|0,\"1825. Under the Overpass in front of Hanshin Apartment Complex\",37.45470047,126.89105225,12,0,true,false,false,10,false,0\\n634,1644918610.0702007|-32400|0,\"1826. Hanshin Core\",37.45684052,126.88834381,18,4,true,false,false,22,false,0\\n660,1644918610.0702653|-32400|0,\"1827. Bike Rack in front of Doksan Overpass\",37.45672607,126.89306641,14,6,true,false,false,20,false,0\\n635,1644918610.07033|-32400|0,\"1828. Hanyang Sujain Apartment Complex\",37.47531891,126.89888763,6,6,true,false,false,12,false,0\\n636,1644918610.070394|-32400|0,\"1829. Homeplus (Geumcheon Branch)\",37.46913910,126.89720154,6,6,true,false,false,12,false,0\\n637,1644918610.070459|-32400|0,\"1830. Vic Market (Geumcheon Branch)\",37.47023010,126.89507294,24,0,true,false,false,17,false,0\\n638,1644918610.0705237|-32400|0,\"1831. May Queen Wedding Convention\",37.47249985,126.89795685,0,12,true,false,false,12,false,0\\n639,1644918610.070589|-32400|0,\"1833. Exit 1 of Doksan Station\",37.46654129,126.89028168,2,10,true,false,false,12,false,0\\n640,1644918610.070654|-32400|0,\"1834. World Meridian Venture Center #2\",37.47908401,126.87904358,7,10,true,false,false,17,false,0\\n641,1644918610.0707197|-32400|0,\"1835. STX V Tower\",37.47706985,126.88442993,2,10,true,false,false,12,false,0\\n661,1644918610.070784|-32400|0,\"1836. Doksan Library\",37.46740341,126.90814209,11,0,true,false,false,9,false,0\\n1140,1644918610.070849|-32400|0,\"1839. Under the Suchuluidari Bridge\",37.47705841,126.88518524,14,8,true,false,false,22,false,0\\n1141,1644918610.0709143|-32400|0,\"1840. Behind Soul Brain Eng\",37.47555161,126.88845825,17,5,true,false,false,22,false,0\\n1142,1644918610.0709796|-32400|0,\"1841. Gasan-dong Community Service Center\",37.47695160,126.89186859,11,1,true,false,false,12,false,0\\n1143,1644918610.0710447|-32400|0,\"1842. Hanwool Middle School\",37.46257401,126.90686035,5,12,true,false,false,17,false,0\\n1144,1644918610.0711088|-32400|0,\"1843. Doksan High School\",37.47709656,126.91113281,6,6,true,false,false,12,false,0\\n1146,1644918610.0711734|-32400|0,\"1845. Lotte Castle Gold Park 1 cha West Gate\",37.46028900,126.89218903,7,10,true,false,false,17,false,0\\n1147,1644918610.0712378|-32400|0,\"1846. Lotte Castle Gold Park 1 cha East Gate\",37.46017075,126.89604187,12,5,true,false,false,17,false,0\\n1148,1644918610.0713024|-32400|0,\"1847. Doksan Jugong Apartment Complex 14 Bus Stop\",37.46093369,126.88716888,3,9,true,false,false,12,false,0\\n1149,1644918610.071368|-32400|0,\"1848. Byucksan Digital Valley 5 cha\",37.47627640,126.88539124,10,0,true,false,false,9,false,0\\n1276,1644918610.0714443|-32400|0,\"1849. Daerung Post-Tower 5 cha\",37.48135376,126.88694000,11,1,true,false,false,12,false,0\\n1277,1644918610.0715103|-32400|0,\"1850. Kolon Techno Valley\",37.48015976,126.88636780,9,3,true,false,false,12,false,0\\n1403,1644918610.0715756|-32400|0,\"1851. Exit 7 of Gasan Digital Complex Station\",37.48123169,126.88148499,25,0,true,false,false,12,false,0\\n1533,1644918610.07164|-32400|0,\"1852. Next to Hyemyeong Nursing Home\",37.45177078,126.91339874,0,12,true,false,false,12,false,0\\n1534,1644918610.0717044|-32400|0,\"1853. In front of Seoul Design Vocational Training School\",37.47248077,126.89586639,3,9,true,false,false,12,false,0\\n1535,1644918610.0717933|-32400|0,\"1854. In front of Gasan Ahnest Studio Building\",37.47817993,126.89740753,15,0,true,false,false,12,false,0\\n1536,1644918610.0718596|-32400|0,\"1855. Roadside in front of Sungji Apt.\",37.45132065,126.89762115,9,3,true,false,false,12,false,0\\n1537,1644918610.0719252|-32400|0,\"1856. Modu School\",37.47840881,126.90737152,9,3,true,false,false,12,false,0\\n1538,1644918610.0719903|-32400|0,\"1857. Jugong Apt. Complex 14\",37.46055984,126.88709259,13,2,true,false,false,15,false,0\\n1648,1644918610.0720553|-32400|0,\"1858. In front of Exit 1 of Seoksu Station (SK Gas Station)\",37.43727112,126.90268707,1,11,true,false,false,12,false,0\\n1734,1644918610.0721204|-32400|0,\"1859. Daeryung Techno Town 18 cha\",37.46799850,126.88684082,12,10,true,false,false,22,false,0\\n1932,1644918610.0721872|-32400|0,\"1861.IBK기업은행 석수역 지점 앞\",37.43698120,126.90329742,2,8,true,false,false,10,false,0\\n1933,1644918610.072254|-32400|0,\"1862.스타즈호텔독산 빌딩 앞\",37.46134567,126.89758301,18,12,true,false,false,30,false,0\\n1934,1644918610.072321|-32400|0,\"1863.위너스 스포츠클럽 골프연습장옆\",37.46053696,126.89860535,2,12,true,false,false,14,false,0\\n1935,1644918610.0723877|-32400|0,\"1864.산호시티빌 옆\",37.45652008,126.89955139,3,12,true,false,false,15,false,0\\n1936,1644918610.0724552|-32400|0,\"1865.금천구청앞(M빌딩)\",37.45633316,126.89645386,11,0,true,false,false,10,false,0\\n1937,1644918610.0725222|-32400|0,\"1866.서울안천초등학교 옆\",37.45777893,126.88942719,7,13,true,false,false,20,false,0\\n1938,1644918610.0725896|-32400|0,\"1867.대륭포스트타워6차 앞\",37.48088837,126.88380432,9,11,true,false,false,20,false,0\\n1939,1644918610.0726564|-32400|0,\"1868.우리은행 시흥남자동화점 앞\",37.44785309,126.90288544,10,5,true,false,false,15,false,0\\n1940,1644918610.0727234|-32400|0,\"1869.롯데캐슬골드파크3차 301동 앞\",37.45901871,126.89671326,3,12,true,false,false,15,false,0\\n1941,1644918610.072791|-32400|0,\"1870.독산3동주민센터 앞\",37.47507095,126.90335846,12,0,true,false,false,8,false,0\\n662,1644918610.0728567|-32400|0,\"1901. Sindorim-dong Community Center\",37.50733185,126.87973022,6,6,true,false,false,12,false,0\\n663,1644918610.0729213|-32400|0,\"1904. Exit 1 of Dorimcheon Station\",37.51424026,126.88287354,10,2,true,false,false,12,false,0\\n664,1644918610.0729864|-32400|0,\"1906. Exit 1 of Sindorim Station\",37.50971985,126.89009857,7,15,true,false,false,22,false,0\\n665,1644918610.0730515|-32400|0,\"1907. Under the Guil Woosung Apartment Complex Overpass\",37.48963165,126.87625885,1,13,true,false,false,14,false,0\\n666,1644918610.073116|-32400|0,\"1908. Under the Haewon River Park Overpass\",37.49528503,126.87216187,9,3,true,false,false,12,false,0\\n667,1644918610.073181|-32400|0,\"1910. Across from Nakwon Church\",37.49750519,126.88437653,8,0,true,false,false,7,false,0\\n668,1644918610.073246|-32400|0,\"1911. Guro Digital Complex Station\",37.48493958,126.90132141,20,0,true,false,false,20,false,0\\n669,1644918610.0733104|-32400|0,\"1912. Hanshin Hue Apartment Complex\",37.48880005,126.89066315,11,1,true,false,false,12,false,0\\n670,1644918610.073376|-32400|0,\"1913.  Gurori Park\",37.49103165,126.89215088,24,0,true,false,false,12,false,0\\n918,1644918610.0734408|-32400|0,\"1914. Exit 4 of Daerim Station\",37.49440384,126.89444733,9,3,true,false,false,12,false,0\\n671,1644918610.073507|-32400|0,\"1916. 6. Guro Middle School\",37.49414062,126.88998413,6,6,true,false,false,12,false,0\\n673,1644918610.0735722|-32400|0,\"1920. Seoul Mirae Elementary School Four-way Intersection\",37.50437927,126.88829803,25,0,true,false,false,12,false,0\\n674,1644918610.0736587|-32400|0,\"1924. Sambu Renaissance Park Ville\",37.47874069,126.89509583,13,0,true,false,false,12,false,0\\n919,1644918610.0737264|-32400|0,\"1925. Dongyang Mirae University Entrance\",37.49988937,126.86769867,12,10,true,false,false,22,false,0\\n675,1644918610.0737915|-32400|0,\"1928. Gocheok Sky Dome Square\",37.49946976,126.86840057,5,7,true,false,false,12,false,0\\n676,1644918610.0738564|-32400|0,\"1929. Gocheok Library in Gocheok Neighborhood Park\",37.50513458,126.85276031,0,12,true,false,false,12,false,0\\n677,1644918610.0739202|-32400|0,\"1930. Gaebong Patrol Division\",37.49768448,126.85372925,4,5,true,false,false,9,false,0\\n920,1644918610.073985|-32400|0,\"1931. Gaebong Station (North Side Square)\",37.49499512,126.85825348,6,6,true,false,false,12,false,0\\n678,1644918610.07405|-32400|0,\"1933. Gaebong Prugio Apartment Complex Shopping District\",37.50170517,126.84728241,8,4,true,false,false,12,false,0\\n870,1644918610.0741146|-32400|0,\"1936. Exit 1 of Gaebong Station\",37.49428177,126.85921478,7,5,true,false,false,12,false,0\\n679,1644918610.0741792|-32400|0,\"1937. Hanjin Apartment Complex Entrance\",37.48606110,126.85201263,7,10,true,false,false,17,false,0\\n871,1644918610.0742435|-32400|0,\"1941. Exit 2 of Oryu-dong Station\",37.49367142,126.84370422,17,0,true,false,false,12,false,0\\n872,1644918610.0743084|-32400|0,\"1943. Onsu Station (North Side)\",37.49279022,126.82452393,3,9,true,false,false,12,false,0\\n873,1644918610.074377|-32400|0,\"1946. Guro Station Square\",37.50311661,126.88038635,22,0,true,false,false,12,false,0\\n874,1644918610.0744417|-32400|0,\"1951. Cheonwang Epenhouse 6-danji (Building 601)\",37.48028946,126.83950043,9,13,true,false,false,22,false,0\\n875,1644918610.0745058|-32400|0,\"1952. Cheonwang Yeonji Town 2-danji\",37.48210526,126.84572601,14,3,true,false,false,17,false,0\\n876,1644918610.0745707|-32400|0,\"1953. Behind Exit 4 of Cheonwang Station\",37.48638535,126.83921051,11,11,true,false,false,22,false,0\\n936,1644918610.0746362|-32400|0,\"1955. Guro Digital Complex Entrance Intersection\",37.48288345,126.90103912,18,0,true,false,false,12,false,0\\n1218,1644918610.0747006|-32400|0,\"1956. In front of Doyamiri BBQ Restaurant\",37.51000977,126.88204956,6,6,true,false,false,12,false,0\\n1219,1644918610.0747652|-32400|0,\"1957. Guil High School Entrance\",37.49340057,126.87432861,7,10,true,false,false,17,false,0\\n1220,1644918610.0748296|-32400|0,\"1958. Gangseo Water Supply Office Center for Civil Affairs\",37.49578094,126.89012146,6,6,true,false,false,12,false,0\\n1221,1644918610.0748937|-32400|0,\"1959. In front of Guro-gu Council\",37.49645615,126.88958740,8,4,true,false,false,12,false,0\\n1222,1644918610.0749578|-32400|0,\"1960. In front of Hwakwang Shinmun\",37.50284958,126.88948059,10,2,true,false,false,12,false,0\\n1224,1644918610.0750332|-32400|0,\"1962. Garibong-dong Community Service Center\",37.48160172,126.89279938,3,14,true,false,false,17,false,0\\n1226,1644918610.075099|-32400|0,\"1964. In front of Onemedy Town\",37.49789047,126.86450195,11,1,true,false,false,12,false,0\\n1227,1644918610.0751646|-32400|0,\"1965. Next to Samhwan Roseville Apartment 105-dong\",37.49723053,126.85919189,16,1,true,false,false,17,false,0\\n1228,1644918610.0752301|-32400|0,\"1966. Commercial Building of Hanmaeul Apartment Entrance\",37.49649811,126.86309814,4,8,true,false,false,12,false,0\\n1229,1644918610.0752964|-32400|0,\"1967. Chamsae Park (Baekgok Senior Center)\",37.50513840,126.84433746,7,5,true,false,false,12,false,0\\n1230,1644918610.075363|-32400|0,\"1968. Small Park across the Dongin Studio Building\",37.49848175,126.84750366,2,12,true,false,false,14,false,0\\n1231,1644918610.0755956|-32400|0,\"1969. Gung-dong Ecological Park\",37.50190353,126.82896423,7,5,true,false,false,12,false,0\\n1233,1644918610.0756893|-32400|0,\"1971. Overpass in front of Ojung Elementary School\",37.49072266,126.82639313,7,5,true,false,false,12,false,0\\n1235,1644918610.075758|-32400|0,\"1973. In front of Ori-ro and Seohaean Expressway Intersection\",37.48859787,126.83649445,8,4,true,false,false,12,false,0\\n1236,1644918610.0758252|-32400|0,\"1974. In front of Sindorim 2 cha e-Pyeonhansesang Apartment 203-dong\",37.50518036,126.88253784,23,0,true,false,false,12,false,0\\n1237,1644918610.0758922|-32400|0,\"1975. Under Exit 1 of Daerim Station\",37.49256516,126.89475250,7,5,true,false,false,12,false,0\\n1238,1644918610.075959|-32400|0,\"1976. In front of Exit 5 of Namguro Station\",37.48567963,126.88670349,11,1,true,false,false,12,false,0\\n1239,1644918610.076025|-32400|0,\"1977. In front of Exit 1 of Cheonwang Station\",37.48620987,126.83882141,5,12,true,false,false,17,false,0\\n1241,1644918610.0760918|-32400|0,\"1979. In front of Guro 1-dong Post Office\",37.49203110,126.87377167,3,9,true,false,false,12,false,0\\n1243,1644918610.076158|-32400|0,\"1981. In front of Cheonwang Ippen Haus Apartment Complex 5\",37.47943115,126.84269714,8,4,true,false,false,12,false,0\\n1273,1644918610.076225|-32400|0,\"1983. Guro-dong Lotte Apartment\",37.50254822,126.88388062,14,0,true,false,false,12,false,0\\n1274,1644918610.076291|-32400|0,\"1984. Guro-gu Office\",37.49526596,126.88847351,17,0,true,false,false,12,false,0\\n1275,1644918610.0763578|-32400|0,\"1985. Guro Public Library\",37.49851608,126.89199066,24,0,true,false,false,22,false,0\\n1521,1644918610.0764246|-32400|0,\"1986. Pan-Pacific Building\",37.48485947,126.89518738,13,4,true,false,false,17,false,0\\n1522,1644918610.0764906|-32400|0,\"1987. In front of Gaebong I-Park Apt.\",37.49034119,126.86093140,15,2,true,false,false,17,false,0\\n1523,1644918610.0765579|-32400|0,\"1988. In front of Gocheok Liga Apt.\",37.50605011,126.86078644,10,12,true,false,false,22,false,0\\n1526,1644918610.076624|-32400|0,\"1991. Across from Oryu-dong Station\",37.49676132,126.84496307,14,0,true,false,false,12,false,0\\n1527,1644918610.07669|-32400|0,\"1992. In front of Guro-gu Badminton Gymnasium\",37.49179840,126.83242035,8,13,true,false,false,21,false,0\\n1528,1644918610.0767562|-32400|0,\"1993. In front of Geumgang Apt.\",37.48937988,126.83419800,15,0,true,false,false,12,false,0\\n1529,1644918610.0768223|-32400|0,\"1994. In front of Samsung Electronics Logistics Center\",37.49699783,126.87178040,15,0,true,false,false,12,false,0\\n1531,1644918610.0768888|-32400|0,\"1996. In front of Exit 1 of Guil Station\",37.49539948,126.87100983,5,17,true,false,false,22,false,0\\n1696,1644918610.0769553|-32400|0,\"1998. Gocheokgyo Bridge Intersection\",37.49856949,126.87152100,7,3,true,false,false,10,false,0\\n1732,1644918610.0770214|-32400|0,\"1999. Around Sugung-dong Cathedral\",37.49525833,126.83065796,6,11,true,false,false,17,false,0\\n1733,1644918610.0770874|-32400|0,\"2000. In front of Sindorim 4 cha e-Pyeonhansesang Apartment 1109-dong\",37.51232910,126.88683319,19,0,true,false,false,17,false,0\\n683,1644918610.077184|-32400|0,\"2002. Exit 1 of Nodeul Station\",37.51284409,126.95246887,32,0,true,false,false,12,false,0\\n877,1644918610.0772526|-32400|0,\"2003. Sayukshin Park\",37.51335907,126.94805908,3,9,true,false,false,12,false,0\\n685,1644918610.0773194|-32400|0,\"2007. Yuhan Corporation\",37.51293945,126.93424225,8,14,true,false,false,22,false,0\\n686,1644918610.0773957|-32400|0,\"2008. Noryangjin Neighborhood Park\",37.50936890,126.92807007,15,0,true,false,false,12,false,0\\n726,1644918610.0774605|-32400|0,\"2009. Exit 8 of Boramae Station\",37.50007629,126.92108154,7,5,true,false,false,12,false,0\\n727,1644918610.0775251|-32400|0,\"2012. Noksibcho Hospital\",37.48836136,126.90622711,10,2,true,false,false,12,false,0\\n687,1644918610.077591|-32400|0,\"2013. Exit 5 of Jangseungbaegi Station\",37.50585175,126.93936157,16,16,true,false,false,32,false,0\\n728,1644918610.0776563|-32400|0,\"2015. Exit 6 of Sindaebangsamgeori Station\",37.49985504,126.92956543,7,5,true,false,false,12,false,0\\n688,1644918610.0777214|-32400|0,\"2016. Exit 3 of Sindaebangsamgeori Station\",37.49964523,126.92709351,1,11,true,false,false,12,false,0\\n690,1644918610.0777864|-32400|0,\"2020. Behind Exit 2 of Jangseungbaegi Station\",37.50449753,126.93898773,4,8,true,false,false,12,false,0\\n691,1644918610.0778513|-32400|0,\"2024. Exit 1 of Sangdo Station\",37.50217819,126.94820404,10,2,true,false,false,12,false,0\\n692,1644918610.0779164|-32400|0,\"2025. Exit 1 of Heukseok Station\",37.50938034,126.96361542,21,0,true,false,false,17,false,0\\n932,1644918610.0779812|-32400|0,\"2026. Exit 4 of Heukseok Station\",37.50858688,126.96349335,20,0,true,false,false,12,false,0\\n693,1644918610.078077|-32400|0,\"2027. 중앙대학교 정문 1\",37.50704193,126.95915222,10,7,true,false,false,17,false,0\\n923,1644918610.078156|-32400|0,\"2032. Exit 11 of Isu Station\",37.48550797,126.98162079,5,7,true,false,false,12,false,0\\n729,1644918610.0782225|-32400|0,\"2033. Artes Wedding\",37.48149109,126.98158264,1,11,true,false,false,12,false,0\\n924,1644918610.0782888|-32400|0,\"2034. Exit 7 of Sadang Station\",37.47689056,126.98057556,5,17,true,false,false,22,false,0\\n694,1644918610.0783548|-32400|0,\"2036. Jeonggeum Village Shuttle Bus Stop\",37.49470520,126.98239136,14,8,true,false,false,22,false,0\\n695,1644918610.0784214|-32400|0,\"2037. Dongjak Parking Lot by Exit 5 of Dongjak Station\",37.50318909,126.97714996,14,8,true,false,false,22,false,0\\n696,1644918610.0784867|-32400|0,\"2038. Exit 7 of Dongjak Station\",37.50318146,126.97608948,7,5,true,false,false,12,false,0\\n697,1644918610.0785522|-32400|0,\"2040. Bigye Bus Station\",37.50635910,126.96907806,11,1,true,false,false,12,false,0\\n731,1644918610.0786188|-32400|0,\"2041. Sadang Middle School Bus Stop\",37.48683548,126.96804810,3,9,true,false,false,12,false,0\\n732,1644918610.0786846|-32400|0,\"2048. Samil Elementary School\",37.48907852,126.97356415,0,12,true,false,false,12,false,0\\n699,1644918610.0787497|-32400|0,\"2050. Exit 5 of Noryangjin Station\",37.51324844,126.93997192,8,9,true,false,false,17,false,0\\n700,1644918610.0788143|-32400|0,\"2054. Samik Apartment Complex\",37.51054764,126.94484711,3,9,true,false,false,12,false,0\\n733,1644918610.0789204|-32400|0,\"2056. Dongjak-gu Sports Center\",37.49449921,126.91652679,0,12,true,false,false,12,false,0\\n701,1644918610.07899|-32400|0,\"2057. Sangdo I-Park Apartment Complex\",37.50088120,126.94174957,8,4,true,false,false,12,false,0\\n1150,1644918610.0790555|-32400|0,\"2058. In front of McDonald’s (Noryangjin Branch)\",37.51352310,126.94352722,8,4,true,false,false,12,false,0\\n1151,1644918610.079124|-32400|0,\"2059. Boramae Park Entrance\",37.49707794,126.91779327,3,9,true,false,false,12,false,0\\n1152,1644918610.0791895|-32400|0,\"2060. Behind Exit 3 of Namseong Station\",37.48463058,126.97154999,7,5,true,false,false,12,false,0\\n1153,1644918610.0792556|-32400|0,\"2061. Across the Hangang Hyundai Apartment\",37.50592804,126.96923065,4,8,true,false,false,12,false,0\\n1154,1644918610.0793204|-32400|0,\"2062. Saemaeul Geumgo (Sadang Branch)\",37.48665237,126.96784210,3,9,true,false,false,12,false,0\\n1355,1644918610.0793853|-32400|0,\"2064. In front of Heukseok Hangang Prugio Apartment 106-dong\",37.50535583,126.96617889,7,5,true,false,false,12,false,0\\n1356,1644918610.0794642|-32400|0,\"2065. Seoul Foundation of Women & Family\",37.51198959,126.92708588,2,15,true,false,false,17,false,0\\n1542,1644918610.079531|-32400|0,\"2066. In front of Yangmun Church\",37.48939896,126.90711212,7,5,true,false,false,12,false,0\\n1543,1644918610.0795953|-32400|0,\"2067. In front of LG Electronics Best Shop\",37.49766922,126.91986847,4,8,true,false,false,12,false,0\\n1544,1644918610.0796602|-32400|0,\"2068. In front of Chongshin University\",37.48815918,126.96647644,4,10,true,false,false,14,false,0\\n1667,1644918610.079725|-32400|0,\"2069. In front of Exit 3 of Soongsil Univ. Station\",37.49660110,126.95368195,0,9,true,false,false,9,false,0\\n1545,1644918610.07979|-32400|0,\"2070. In front of Exit 2 of Noryangjin Station\",37.51391983,126.94306946,13,1,true,false,false,14,false,0\\n1742,1644918610.079856|-32400|0,\"2071. Next to the mall by the back gate to Daelim Apartment\",37.48886871,126.97190857,9,3,true,false,false,12,false,0\\n2350,1644918610.0799482|-32400|0,\"2077.노들역 3번출구\",37.51193619,126.95416260,9,1,true,false,false,10,false,0\\n2351,1644918610.0800183|-32400|0,\"2078.흑석 아크로리버하임(103동)\",37.51083755,126.96163177,11,9,true,false,false,20,false,0\\n2352,1644918610.0800862|-32400|0,\"2079.중앙대학교 중앙광장\",37.50667191,126.95777893,9,16,true,false,false,25,false,0\\n2353,1644918610.0801537|-32400|0,\"2080.빕스 대방점 앞\",37.51213455,126.92543793,7,8,true,false,false,15,false,0\\n2355,1644918610.0802212|-32400|0,\"2082.7호선 이수역7번출구\",37.48460770,126.98179626,5,5,true,false,false,10,false,0\\n2356,1644918610.0802884|-32400|0,\"2083.흑석롯데캐슬에듀포레(107동)\",37.50470352,126.96073151,6,9,true,false,false,15,false,0\\n2357,1644918610.0803561|-32400|0,\"2084.e편한세상 상도노빌리티 앞\",37.50456238,126.94678497,2,13,true,false,false,15,false,0\\n2358,1644918610.0804236|-32400|0,\"2085.강남중학교 앞\",37.50274277,126.92157745,19,1,true,false,false,20,false,0\\n2359,1644918610.0804908|-32400|0,\"2086.삼일수영장 앞\",37.48712158,126.97435760,10,12,true,false,false,22,false,0\\n2361,1644918610.080559|-32400|0,\"2088.상도중앙하이츠빌 입구\",37.50024796,126.94972992,2,8,true,false,false,10,false,0\\n2362,1644918610.0806262|-32400|0,\"2089.사당역10번출구(금강빌딩)\",37.47910690,126.98150635,12,0,true,false,false,10,false,0\\n2363,1644918610.0807068|-32400|0,\"2090.기아자동차 사당점 앞\",37.48377991,126.97792053,7,8,true,false,false,15,false,0\\n2364,1644918610.0807757|-32400|0,\"2091.이수역9번출구(맥도날드)\",37.48470306,126.98059082,8,7,true,false,false,15,false,0\\n2365,1644918610.0808432|-32400|0,\"2092.흑석한강푸르지오(110동)\",37.50311279,126.96471405,10,5,true,false,false,15,false,0\\n2366,1644918610.080911|-32400|0,\"2093.상도SH빌아파트 입구\",37.50321198,126.95459747,13,0,true,false,false,12,false,0\\n2367,1644918610.0809784|-32400|0,\"2094.숭실대학교(중문) \",37.49550629,126.95637512,17,13,true,false,false,30,false,0\\n2368,1644918610.0810454|-32400|0,\"2095.경문고등학교 앞\",37.49150085,126.98240662,11,0,true,false,false,10,false,0\\n2369,1644918610.0811126|-32400|0,\"2096.서울특별시 동작관악교육지원청\",37.50253296,126.94064331,17,0,true,false,false,13,false,0\\n702,1644918610.0811799|-32400|0,\"2102. Bonglimgyo Traffic Island\",37.48423004,126.92639160,20,2,true,false,false,22,false,0\\n703,1644918610.081246|-32400|0,\"2103. Woobang Apartment Complex in Sinlim-dong\",37.48917770,126.91927338,3,9,true,false,false,12,false,0\\n712,1644918610.0813115|-32400|0,\"2104. Exit 5 of Sadang Station\",37.47608948,126.98133087,9,6,true,false,false,15,false,0\\n704,1644918610.081377|-32400|0,\"2105. Sillim Sports Center in Miseong-dong\",37.48025131,126.91460419,2,12,true,false,false,14,false,0\\n705,1644918610.081442|-32400|0,\"2106. Nangok MG Community Credit Cooperatives\",37.47372818,126.91840363,8,6,true,false,false,14,false,0\\n713,1644918610.0815067|-32400|0,\"2107. Dorimcheon Shinhwagyo\",37.47547150,126.93645477,20,7,true,false,false,27,false,0\\n714,1644918610.0815725|-32400|0,\"2108. Euncheon Community Security Center\",37.48334122,126.94319916,20,0,true,false,false,20,false,0\\n882,1644918610.0816376|-32400|0,\"2109. Euncheon-ro Entrance Garo Park\",37.48622513,126.93582916,9,8,true,false,false,17,false,0\\n965,1644918610.0817037|-32400|0,\"2111. Exit 1 of Seoul National University Station\",37.48086929,126.95331573,9,1,true,false,false,10,false,0\\n715,1644918610.0817688|-32400|0,\"2112. Maestro Building (Seoul National University Station)\",37.48133850,126.95064545,13,4,true,false,false,17,false,0\\n934,1644918610.081834|-32400|0,\"2113. GwanakDongjak Towed Vehicles Storage Office\",37.48466110,126.90390015,14,0,true,false,false,12,false,0\\n883,1644918610.0818987|-32400|0,\"2115. Gwanak NH Market\",37.47991562,126.90283966,4,13,true,false,false,17,false,0\\n717,1644918610.0819638|-32400|0,\"2116. Ace A Zone Building\",37.48170471,126.95082855,16,0,true,false,false,11,false,0\\n884,1644918610.0820286|-32400|0,\"2119. Dongjin Building\",37.48425674,126.95469666,9,1,true,false,false,10,false,0\\n719,1644918610.0820935|-32400|0,\"2122. Nakseongdae-ro Entrance\",37.47805786,126.96049500,1,21,true,false,false,22,false,0\\n707,1644918610.0821586|-32400|0,\"2127. Across from the Boseong Bus Garage\",37.46488571,126.91947937,11,1,true,false,false,12,false,0\\n720,1644918610.0822234|-32400|0,\"2128. Gwanak-gu Office Intersection\",37.47916412,126.95258331,1,11,true,false,false,12,false,0\\n721,1644918610.0823045|-32400|0,\"2129. Nakseongdae Science Pavilion\",37.46905518,126.95814514,0,12,true,false,false,12,false,0\\n722,1644918610.0823703|-32400|0,\"2130. Seoul English Village Gwanak Camp\",37.47198868,126.95842743,10,7,true,false,false,17,false,0\\n708,1644918610.0824592|-32400|0,\"2135. Exit 5 of Sillim Station\",37.48440933,126.92890930,14,0,true,false,false,11,false,0\\n723,1644918610.0825264|-32400|0,\"2137. KT&G (Gwanak Branch)\",37.48490143,126.93653107,2,10,true,false,false,12,false,0\\n951,1644918610.082592|-32400|0,\"2139. Seoul Sinseong Elementary School\",37.47116470,126.93701935,4,8,true,false,false,12,false,0\\n724,1644918610.082657|-32400|0,\"2140. Sillim 1-gyo Intersection\",37.47842789,126.93186188,29,0,true,false,false,12,false,0\\n885,1644918610.082722|-32400|0,\"2141. Mirim Girls’ High School Entrance Intersection\",37.47229385,126.93341064,2,12,true,false,false,14,false,0\\n886,1644918610.0827894|-32400|0,\"2143. Seoul Polytechnic School\",37.47069550,126.94219971,3,9,true,false,false,12,false,0\\n709,1644918610.0828547|-32400|0,\"2144. Nanu-gil Entrance\",37.47777557,126.91675568,12,5,true,false,false,17,false,0\\n725,1644918610.082919|-32400|0,\"2145. Euncheon Elementary School Overpass\",37.48635864,126.94292450,9,5,true,false,false,14,false,0\\n887,1644918610.0829911|-32400|0,\"2148. Behind Exit 3 of Nakseongdae Station\",37.47702789,126.96339417,0,12,true,false,false,12,false,0\\n952,1644918610.0830562|-32400|0,\"2156. Nonghyup Bank (Gwanak Munseong Branch)\",37.48072052,126.90932465,3,11,true,false,false,14,false,0\\n1156,1644918610.0831223|-32400|0,\"2159. Seoul Inhun Elementary School\",37.47509003,126.95922852,1,11,true,false,false,12,false,0\\n1259,1644918610.0831873|-32400|0,\"2164. Gwanak Post Office\",37.48476791,126.93287659,3,7,true,false,false,10,false,0\\n1260,1644918610.0832527|-32400|0,\"2165. JK Jangpyung Tower\",37.47648239,126.96536255,0,12,true,false,false,12,false,0\\n1262,1644918610.0833173|-32400|0,\"2167. Exit 1 of Nakseongdae Station\",37.47629547,126.96495819,5,9,true,false,false,14,false,0\\n1264,1644918610.0833824|-32400|0,\"2169. Exit 2 of Bongcheon Station\",37.48218918,126.94213104,5,4,true,false,false,9,false,0\\n1265,1644918610.0834637|-32400|0,\"2170. Jowon-dong Seoul Bone Hospital\",37.48152924,126.91203308,2,10,true,false,false,12,false,0\\n1337,1644918610.0835543|-32400|0,\"2171. Exit 5 of Seoul National University Station\",37.48154831,126.95200348,13,6,true,false,false,19,false,0\\n1267,1644918610.0836205|-32400|0,\"2172. Nadeulmok Park\",37.46940613,126.94451141,8,14,true,false,false,22,false,0\\n1268,1644918610.083686|-32400|0,\"2173. Danggok Four-way Intersection\",37.48974991,126.92746735,7,5,true,false,false,12,false,0\\n1269,1644918610.0837512|-32400|0,\"2174. Samsung Digital Plaza (Gwanak Branch)\",37.48856354,126.92848206,4,8,true,false,false,12,false,0\\n1270,1644918610.083817|-32400|0,\"2175. Sillim-dong Culture Street That You Want to Walk Entrance\",37.48730087,126.92870331,9,3,true,false,false,12,false,0\\n1357,1644918610.0838826|-32400|0,\"2176. Overpass in front of Boramae Park\",37.48899078,126.91638184,5,12,true,false,false,17,false,0\\n1546,1644918610.0839474|-32400|0,\"2177. Exit 2 of Sindaebang Station\",37.48712921,126.91301727,4,17,true,false,false,21,false,0\\n1547,1644918610.084012|-32400|0,\"2178. Seoul National University Entrance\",37.46681976,126.94880676,8,9,true,false,false,17,false,0\\n1548,1644918610.0840774|-32400|0,\"2179. Yangnyeong-ro Entrance\",37.48218918,126.94615936,18,0,true,false,false,9,false,0\\n1678,1644918610.084143|-32400|0,\"2183. Dongbang 1-gyo Bridge\",37.47182846,126.93392181,10,12,true,false,false,22,false,0\\n1702,1644918610.084208|-32400|0,\"2184. Guam Elementary School Bus Stop\",37.48949051,126.94592285,8,4,true,false,false,12,false,0\\n1757,1644918610.0842755|-32400|0,\"2185. 대학동 고시촌\",37.47046661,126.93865204,2,10,true,false,false,12,false,0\\n2370,1644918610.0843434|-32400|0,\"2186.우리은행 낙성대역지점\",37.47882080,126.95960999,4,11,true,false,false,15,false,0\\n2371,1644918610.0844116|-32400|0,\"2187.현대시장사거리(신한은행)\",37.48673630,126.94751740,2,13,true,false,false,15,false,0\\n2373,1644918610.08448|-32400|0,\"2189.삼성서비스센터(관악점) \",37.48275375,126.94140625,15,0,true,false,false,15,false,0\\n2374,1644918610.084548|-32400|0,\"2190.도원맨션\",37.48368835,126.93915558,1,11,true,false,false,12,false,0\\n2375,1644918610.0846157|-32400|0,\"2191.대학동주민센터 \",37.47068787,126.93648529,1,9,true,false,false,10,false,0\\n2379,1644918610.0846827|-32400|0,\"2195.은천교회\",37.48464584,126.93450928,3,12,true,false,false,15,false,0\\n2380,1644918610.08475|-32400|0,\"2196.삼화페인트 봉천점\",37.48331070,126.93902588,3,7,true,false,false,10,false,0\\n2382,1644918610.0848172|-32400|0,\"2198.사랑의병원\",37.47946548,126.95693207,3,7,true,false,false,10,false,0\\n2383,1644918610.0848842|-32400|0,\"2199.신봉천주유소\",37.47877121,126.95869446,1,7,true,false,false,8,false,0\\n741,1644918610.0849502|-32400|0,\"2201. Bon Village Bus Stop\",37.45328140,127.05148315,4,12,true,false,false,16,false,0\\n742,1644918610.0850153|-32400|0,\"2202. Exit 1 of Cheonggyesan Station\",37.44893646,127.05437469,10,12,true,false,false,22,false,0\\n925,1644918610.0850797|-32400|0,\"2203. Exit 2 of Cheonggyesan Station\",37.44765854,127.05501556,3,19,true,false,false,22,false,0\\n743,1644918610.085145|-32400|0,\"2205. Naegok 3-danji Children’s Park\",37.45375061,127.05937958,9,8,true,false,false,17,false,0\\n744,1644918610.0852108|-32400|0,\"2206. Eonnam Elementary School\",37.45435715,127.06210327,9,13,true,false,false,22,false,0\\n926,1644918610.0852768|-32400|0,\"2207. Pavilion behind Naegok Police Substation(New Construction Site)\",37.45440674,127.06492615,6,5,true,false,false,11,false,0\\n745,1644918610.0853415|-32400|0,\"2210. Banpo 1-dong Community Center\",37.50509644,127.01310730,9,8,true,false,false,17,false,0\\n927,1644918610.0854115|-32400|0,\"2211. Seocho-gu Banpo Library\",37.50263596,127.01231384,20,0,true,false,false,12,false,0\\n746,1644918610.085476|-32400|0,\"2212. Seocho Hyundai 4-cha Apartment Complex (Building 201)\",37.50065231,127.01861572,7,15,true,false,false,22,false,0\\n747,1644918610.0855417|-32400|0,\"2213. Exit 5 of Express Bus Terminal Station\",37.50223160,127.00225830,12,10,true,false,false,22,false,0\\n748,1644918610.0856063|-32400|0,\"2214. Exit 2 of Sinbanpo Station\",37.50411606,126.99748993,16,1,true,false,false,17,false,0\\n928,1644918610.0856712|-32400|0,\"2215. Banpo Sports Complex Entrance\",37.50171280,126.99547577,9,3,true,false,false,12,false,0\\n749,1644918610.0857358|-32400|0,\"2217. Acro River View Site\",37.51304626,127.00595856,8,14,true,false,false,22,false,0\\n750,1644918610.0858014|-32400|0,\"2219. Between Exits 8-1 and 8-2 of Express Bus Terminal Station\",37.50619888,127.00394440,22,0,true,false,false,22,false,0\\n751,1644918610.0858672|-32400|0,\"2220. Banpobon-dong Community Center\",37.50061417,126.98616028,5,12,true,false,false,17,false,0\\n752,1644918610.0859318|-32400|0,\"2221. Hana Bank (Banpo Branch)\",37.48561096,126.99468231,4,13,true,false,false,17,false,0\\n753,1644918610.0859969|-32400|0,\"2222. Behind Exit 12 of Sadang Station\",37.47806931,126.98203278,12,0,true,false,false,12,false,0\\n754,1644918610.0860612|-32400|0,\"2223. Front Gate of Bangbae Raemian Apartment Complex\",37.47261047,126.98300934,7,15,true,false,false,22,false,0\\n755,1644918610.086126|-32400|0,\"2225. Baekseok Arts University (Third Campus)\",37.47375870,126.99524689,9,8,true,false,false,17,false,0\\n756,1644918610.0861912|-32400|0,\"2226. Shindongah Bangbae Luxvill Apartment Complex\",37.47518158,127.00138855,8,9,true,false,false,17,false,0\\n757,1644918610.086261|-32400|0,\"2227. Bangbae Open Cultural Center\",37.48905182,126.99252319,0,17,true,false,false,17,false,0\\n759,1644918610.0863256|-32400|0,\"2229. Across from Logos Church\",37.48701096,126.98496246,14,0,true,false,false,12,false,0\\n760,1644918610.086391|-32400|0,\"2230. Exit 4 of Isu Station\",37.48582840,126.98262787,18,4,true,false,false,22,false,0\\n761,1644918610.086456|-32400|0,\"2231. Across from Samsung Town (Samsung Life) A-dong\",37.49691391,127.02496338,20,0,true,false,false,17,false,0\\n762,1644918610.0865204|-32400|0,\"2233. Next to Seocho Sindongah 1-cha Apartment Complex\",37.49111176,127.02295685,3,19,true,false,false,22,false,0\\n763,1644918610.086585|-32400|0,\"2235. KT Seocho Office\",37.48215866,127.00270081,19,0,true,false,false,17,false,0\\n764,1644918610.08665|-32400|0,\"2237. Seoul Nambu Terminal Waiting Room Entrance\",37.48455811,127.01486969,5,17,true,false,false,22,false,0\\n765,1644918610.0867367|-32400|0,\"2239. Exit 6 of Seoul National University of Education Station\",37.49421692,127.01378632,9,3,true,false,false,12,false,0\\n766,1644918610.0868034|-32400|0,\"2241. Yangjae Telephone Company(Four-way Intersection)\",37.48537827,127.04170227,1,11,true,false,false,12,false,0\\n767,1644918610.0868695|-32400|0,\"2242. Exit 11 of Yangjae Station\",37.48398972,127.03417969,0,22,true,false,false,22,false,0\\n768,1644918610.0869346|-32400|0,\"2243. Seoul Family Court\",37.48149109,127.03672791,8,9,true,false,false,17,false,0\\n769,1644918610.0869992|-32400|0,\"2244. KEDI Entrance Intersection\",37.47785187,127.03890991,10,10,true,false,false,20,false,0\\n770,1644918610.0870647|-32400|0,\"2245. Across from Yangjae Elementary School\",37.47361374,127.03050995,7,15,true,false,false,22,false,0\\n889,1644918610.0871298|-32400|0,\"2246. Quality Inspection Office\",37.46920013,127.02900696,17,0,true,false,false,15,false,0\\n771,1644918610.0871947|-32400|0,\"2247. Seomdeul Neighborhood Park\",37.46263885,127.02661896,20,7,true,false,false,27,false,0\\n929,1644918610.08726|-32400|0,\"2248. Seocho Richeville S Global\",37.45995331,127.02474213,2,10,true,false,false,12,false,0\\n880,1644918610.0873241|-32400|0,\"2249. Across from Woosol Elementary School\",37.45623398,127.01934814,7,5,true,false,false,12,false,0\\n881,1644918610.087423|-32400|0,\"2250. Across from Seocho Kindergarten\",37.45579910,127.01628876,3,9,true,false,false,12,false,0\\n781,1644918610.0875247|-32400|0,\"2251. The K Hotel Entrance (Yangjae 2-dong)\",37.46750641,127.03447723,6,6,true,false,false,12,false,0\\n890,1644918610.0875907|-32400|0,\"2252. Hibrand\",37.46332169,127.03604126,0,25,true,false,false,25,false,0\\n772,1644918610.0876565|-32400|0,\"2255. Next to Exit 1 of Yangjae Citizen’s Forest Station\",37.47016525,127.03862000,19,8,true,false,false,27,false,0\\n773,1644918610.0877235|-32400|0,\"2256. Entrance to Yangjae-dong Flower Market\",37.46768951,127.04035950,2,8,true,false,false,10,false,0\\n774,1644918610.087789|-32400|0,\"2257. Across from Hanaro Club (Yangjae Branch)\",37.46268845,127.04611206,5,7,true,false,false,12,false,0\\n775,1644918610.087854|-32400|0,\"2258. Guryongsa Temple Three-way Intersection\",37.47153854,127.05059052,4,18,true,false,false,22,false,0\\n780,1644918610.0879288|-32400|0,\"2259. Between Exits 3 and 4 of Jamwon Station\",37.51298904,127.01117706,4,13,true,false,false,17,false,0\\n776,1644918610.0879955|-32400|0,\"2262. Hanshin 16-cha Apartment Complex (Building 119)\",37.51619720,127.00920868,7,15,true,false,false,22,false,0\\n879,1644918610.0880625|-32400|0,\"2263. Baumoe Culture Welfare Center\",37.47192764,127.02684021,6,16,true,false,false,22,false,0\\n935,1644918610.0881288|-32400|0,\"2264. Gate 1, Isu Station\",37.48897171,126.98271942,18,0,true,false,false,11,false,0\\n949,1644918610.0881953|-32400|0,\"2265. Southern end of the Isu Overpass\",37.49474335,126.98306274,11,1,true,false,false,12,false,0\\n1158,1644918610.0882614|-32400|0,\"2266. Exit 3 of Seocho Station\",37.49053955,127.00816345,7,10,true,false,false,17,false,0\\n1160,1644918610.0883276|-32400|0,\"2268. Seocho 4-dong Community Service Center\",37.50231934,127.02227020,12,0,true,false,false,12,false,0\\n1161,1644918610.0883937|-32400|0,\"2269. Juhonggyo Bridge (Lower Part)\",37.51034927,127.01605225,4,8,true,false,false,12,false,0\\n1162,1644918610.0884593|-32400|0,\"2270. Seocho Foresta Complex 7\",37.44896698,127.05773926,5,7,true,false,false,12,false,0\\n1163,1644918610.088525|-32400|0,\"2271. In front Exit 8 of Naebang Station\",37.48802185,126.99411774,3,7,true,false,false,10,false,0\\n1164,1644918610.0885909|-32400|0,\"2272. Seoul National Univ. of Education Entrance Intersection\",37.48730850,127.01058197,0,12,true,false,false,12,false,0\\n1165,1644918610.0886571|-32400|0,\"2273. Ildong Pharmaceutical Four-way Intersection\",37.47782898,127.03826904,9,3,true,false,false,12,false,0\\n1166,1644918610.0887232|-32400|0,\"2274. Exit 3 of Yangjae Citizen’s Forest Station\",37.46965027,127.03961182,3,9,true,false,false,12,false,0\\n1167,1644918610.0887911|-32400|0,\"2275. Across the Yeomgok Community Security Center\",37.46157837,127.04879761,3,6,true,false,false,9,false,0\\n1168,1644918610.0888577|-32400|0,\"2276. Yeongdong 1-gyo Bridge (Yangjaecheon Neighborhood Park)\",37.47438812,127.03890228,12,5,true,false,false,17,false,0\\n1169,1644918610.0889235|-32400|0,\"2277. Gilmajung 4-gyo Bridge (Lower Part)\",37.51419830,127.01354218,1,5,true,false,false,6,false,0\\n1305,1644918610.0889895|-32400|0,\"2279. Behind Exit 5 of Seoul National University of Education Station\",37.49361801,127.01418304,16,0,true,false,false,12,false,0\\n1306,1644918610.089055|-32400|0,\"2280. In front of Seoul Seocho Employment Center\",37.48416138,127.01097107,0,12,true,false,false,12,false,0\\n1307,1644918610.0891206|-32400|0,\"2281. In front of Yonsei Sarang Hospital New Wing\",37.47597885,126.98628235,13,0,true,false,false,9,false,0\\n1308,1644918610.0891862|-32400|0,\"2282. In front of Bangbae Raemian Arthill 101-dong \",37.47720337,127.00583649,5,12,true,false,false,17,false,0\\n1309,1644918610.0892518|-32400|0,\"2283. Next to Grouphan Building\",37.48652649,126.98916626,3,9,true,false,false,12,false,0\\n1310,1644918610.0893173|-32400|0,\"2284. In front of CJ O Shopping\",37.46810150,126.98680115,7,5,true,false,false,12,false,0\\n1311,1644918610.0893831|-32400|0,\"2285. Across the street from LH Seocho Apartment Complex 3 301-dong\",37.45742416,127.02265167,5,12,true,false,false,17,false,0\\n1312,1644918610.0894492|-32400|0,\"2286. Tapseong Maeul Entrance\",37.45854950,127.05588531,1,8,true,false,false,9,false,0\\n1313,1644918610.089515|-32400|0,\"2287. Neungan Maeul Entrance\",37.45561981,127.06710052,6,6,true,false,false,12,false,0\\n1314,1644918610.0895808|-32400|0,\"2288. Angol Maeul Entrance\",37.45560837,127.06445312,11,0,true,false,false,9,false,0\\n1315,1644918610.089647|-32400|0,\"2289. Exit 2 of Namtaeryeong Station\",37.46429825,126.98852539,11,1,true,false,false,12,false,0\\n1360,1644918610.0897129|-32400|0,\"2293. In front of SPC\",37.48479843,127.03699493,0,12,true,false,false,12,false,0\\n1361,1644918610.0897784|-32400|0,\"2294. In front of Doosang Building\",37.47590637,127.04624176,9,8,true,false,false,17,false,0\\n1404,1644918610.0898447|-32400|0,\"2297. Exit 1 of Nambu Bus Terminal Station\",37.48567200,127.01592255,6,6,true,false,false,12,false,0\\n1405,1644918610.0899107|-32400|0,\"2298. In front of Raemian Seocho Suite\",37.50241089,127.02160645,8,6,true,false,false,14,false,0\\n1406,1644918610.0899763|-32400|0,\"2299. In front of KEPCO Art Center\",37.48646927,127.02806091,7,7,true,false,false,14,false,0\\n777,1644918610.0900414|-32400|0,\"2301. Across from Hyundai High School\",37.52407074,127.02178955,12,0,true,false,false,12,false,0\\n787,1644918610.0901077|-32400|0,\"2302. Kyobo Tower Bus Stop (behind Gate 3, Sinnonhyeon Station)\",37.50558090,127.02427673,0,12,true,false,false,12,false,0\\n788,1644918610.0901732|-32400|0,\"2303. Gate 7, Nonhyeon Station\",37.51151657,127.02147675,11,6,true,false,false,17,false,0\\n789,1644918610.090242|-32400|0,\"2304. 대현그린타워\",37.51162720,127.03565216,6,4,true,false,false,10,false,0\\n790,1644918610.0903103|-32400|0,\"2305. In front of MCM HQ\",37.52064133,127.03450775,12,0,true,false,false,12,false,0\\n791,1644918610.0903766|-32400|0,\"2306. Next to Gate 2, Apgujeong Station\",37.52712250,127.02871704,11,17,true,false,false,28,false,0\\n792,1644918610.090443|-32400|0,\"2307. Apgujeong Hanyang Apartments III\",37.52838135,127.03901672,1,11,true,false,false,12,false,0\\n793,1644918610.0905178|-32400|0,\"2308. In front of Apgujeong Police Station\",37.52930069,127.03559875,10,6,true,false,false,16,false,0\\n783,1644918610.0905821|-32400|0,\"2309. Cheongdam Station (in front of Wooridul Hospital)\",37.51890182,127.04938507,5,7,true,false,false,12,false,0\\n794,1644918610.0906463|-32400|0,\"2310. Next to McDonald’s Cheongdam\",37.52361298,127.04017639,4,8,true,false,false,12,false,0\\n786,1644918610.0907125|-32400|0,\"2311. In front of Hakdong-ro Raemian Apartments\",37.51777267,127.04302216,12,0,true,false,false,12,false,0\\n795,1644918610.0907772|-32400|0,\"2312. In front of Gate 13, Cheongdam Station\",37.52058029,127.05632782,6,6,true,false,false,12,false,0\\n796,1644918610.0908415|-32400|0,\"2313. In front of Geumwon Building\",37.52511597,127.05246735,4,8,true,false,false,12,false,0\\n798,1644918610.0909297|-32400|0,\"2314. Cheongdam Interchange Entrance\",37.52127457,127.06103516,5,7,true,false,false,12,false,0\\n799,1644918610.0909958|-32400|0,\"2315. Next to Gate 5, Bongeunsa Stationc\",37.51424789,127.06111908,6,6,true,false,false,12,false,0\\n784,1644918610.09106|-32400|0,\"2317. Samseong Road Park\",37.51588821,127.06620026,6,6,true,false,false,12,false,0\\n801,1644918610.091125|-32400|0,\"2318. Gate 4, Samseongjungang Station(Culture Center The Laville)\",37.51357651,127.05503082,2,15,true,false,false,17,false,0\\n802,1644918610.0911934|-32400|0,\"2319. 포스코사거리 서측(수협 삼성동 지점)\",37.50660706,127.05467987,16,0,true,false,false,12,false,0\\n803,1644918610.0912602|-32400|0,\"2320. Dogok Station (facing Daechi Patrol Division)\",37.49192810,127.05696869,11,1,true,false,false,12,false,0\\n804,1644918610.0913253|-32400|0,\"2321. Hangnyeoul Station Intersection\",37.49611664,127.06944275,3,9,true,false,false,12,false,0\\n806,1644918610.0913904|-32400|0,\"2323. In front of Ottogi HQ (main gate)\",37.50221252,127.06720734,0,12,true,false,false,12,false,0\\n807,1644918610.0915763|-32400|0,\"2324. Next to Daechi-2-dong Catholic Church\",37.50043869,127.06622314,2,10,true,false,false,12,false,0\\n808,1644918610.0916438|-32400|0,\"2325. Burger King Daechi\",37.49864960,127.05931854,6,6,true,false,false,12,false,0\\n809,1644918610.0917099|-32400|0,\"2326. Samseong-ro, Daechi-dong\",37.50239563,127.05879974,12,0,true,false,false,12,false,0\\n810,1644918610.091775|-32400|0,\"2327. In front of Landmark Building, Bang Bang Intersection\",37.49055099,127.03146362,21,0,true,false,false,17,false,0\\n811,1644918610.0918403|-32400|0,\"2328. In front of Gate 7, Yeoksam Underground Pedestrian Way (Renaissance Hotel Intersection)\",37.50321198,127.04273224,0,12,true,false,false,12,false,0\\n812,1644918610.0919056|-32400|0,\"2329. Gate 2, Yeoksam Station Underground Pedestrian Way\",37.50235748,127.04319000,1,11,true,false,false,12,false,0\\n813,1644918610.0919702|-32400|0,\"2330. In front of Starbucks\",37.49219894,127.03945923,8,4,true,false,false,12,false,0\\n814,1644918610.0920353|-32400|0,\"2331. In front of Dongyeong Culture Center\",37.49805069,127.04460144,18,4,true,false,false,22,false,0\\n815,1644918610.0921006|-32400|0,\"2332. Gate 3, Seolleung Station\",37.50400925,127.04907990,3,7,true,false,false,10,false,0\\n816,1644918610.092166|-32400|0,\"2333. Near Gate 3, Yangjae Station\",37.48515701,127.03407288,5,12,true,false,false,17,false,0\\n817,1644918610.0922332|-32400|0,\"2334. 삼호아파트 2동 ( 간선도로)\",37.49375916,127.04589844,11,6,true,false,false,17,false,0\\n818,1644918610.0923007|-32400|0,\"2335. In front of Gate 3, Maebong Station\",37.48676682,127.04676056,0,12,true,false,false,12,false,0\\n819,1644918610.0923662|-32400|0,\"2336. Gangnam Severance Intersection / Raemian Greaten Unit 104\",37.49423599,127.04746246,4,8,true,false,false,12,false,0\\n782,1644918610.0924313|-32400|0,\"2337. In front of Gate 2, Daemosan\\xa0 Station\",37.49207687,127.07197571,14,3,true,false,false,17,false,0\\n820,1644918610.0924978|-32400|0,\"2339. In front of Hyundai Apartments\",37.48326111,127.05229950,2,10,true,false,false,12,false,0\\n821,1644918610.0925634|-32400|0,\"2340. Next to Samho Mulsan Bus Stop (23370)\",37.47750854,127.04517365,23,0,true,false,false,12,false,0\\n822,1644918610.0926304|-32400|0,\"2341. 일원역 4~5번 출구 사이\",37.48331070,127.08493805,9,3,true,false,false,12,false,0\\n823,1644918610.0926967|-32400|0,\"2342. Gate 1, Daecheong Station\",37.49400711,127.07951355,4,8,true,false,false,12,false,0\\n778,1644918610.0927615|-32400|0,\"2343. In front of Daewang Police Station\",37.46531677,127.10772705,14,0,true,false,false,12,false,0\\n779,1644918610.0928264|-32400|0,\"2344. In front of Rien Park II\",37.46506119,127.10119629,11,1,true,false,false,12,false,0\\n961,1644918610.0928915|-32400|0,\"2347. Doosan Construction HQ\",37.51863861,127.03540039,3,14,true,false,false,17,false,0\\n797,1644918610.092956|-32400|0,\"2348. POSCO Intersection (IBK Kiup Bank)\",37.50723267,127.05685425,10,10,true,false,false,20,false,0\\n959,1644918610.093021|-32400|0,\"2349. In front of Yeoksam Building (next to KEB Hana Bank)\",37.50154495,127.03856659,0,12,true,false,false,12,false,0\\n960,1644918610.093086|-32400|0,\"2350. In front of Raemian Greaten Unit 102\",37.49482346,127.04790497,0,12,true,false,false,12,false,0\\n937,1644918610.0931504|-32400|0,\"2351. In front of the Youth Training Center (Swimming Pool)\",37.48387909,127.08902740,2,15,true,false,false,17,false,0\\n962,1644918610.0932155|-32400|0,\"2352. Seoul Main Customs(In front of Construction Hall)\",37.51758957,127.03502655,10,2,true,false,false,12,false,0\\n963,1644918610.0932808|-32400|0,\"2353. Behind Gate 2, Gangnam-gu Office Station\",37.51681137,127.04047394,9,3,true,false,false,12,false,0\\n953,1644918610.0933456|-32400|0,\"2354. Gate 2, Cheongdam Station\",37.51978683,127.05676270,3,4,true,false,false,7,false,0\\n954,1644918610.0934114|-32400|0,\"2356. Gangnam-gu Office\",37.51807022,127.04711914,4,8,true,false,false,12,false,0\\n966,1644918610.0934799|-32400|0,\"2357. In front of Gate 3, Yeoksam Station Underground Pedestrian Way (in front of Myeong-dong Kalguk\",37.50194931,127.04277039,1,16,true,false,false,17,false,0\\n957,1644918610.0935452|-32400|0,\"2358. Guryong Elementary School Intersection (in front of Hyundai Apartments Unit 10)\",37.48138428,127.05391693,13,0,true,false,false,12,false,0\\n958,1644918610.0936105|-32400|0,\"2359. Across from Gugak National Middle and High Schools\",37.47560501,127.05037689,5,7,true,false,false,12,false,0\\n956,1644918610.0936756|-32400|0,\"2360. Dogok 1-dong Community Service Center Intersection\",37.49280930,127.04138947,3,14,true,false,false,17,false,0\\n1171,1644918610.09374|-32400|0,\"2362. Sinsa-dong Garosu-gil Entrance\",37.51763535,127.02245331,4,8,true,false,false,12,false,0\\n1172,1644918610.0938056|-32400|0,\"2363. Gangnam Eulji Hospital Intersection\",37.51913834,127.02751923,10,7,true,false,false,17,false,0\\n1173,1644918610.093871|-32400|0,\"2364. In front of Dosan-daero Lexus\",37.52124023,127.03189850,10,2,true,false,false,12,false,0\\n1174,1644918610.0939367|-32400|0,\"2365. In front of K+ Tower \",37.52330017,127.03847504,3,14,true,false,false,17,false,0\\n1177,1644918610.0940022|-32400|0,\"2368. Across the street from Dogok-dong Gyeongnam Apartment\",37.48934174,127.04129791,2,10,true,false,false,12,false,0\\n1178,1644918610.094068|-32400|0,\"2369. KT Seolleung Tower\",37.50542831,127.05287170,11,11,true,false,false,22,false,0\\n1179,1644918610.0941331|-32400|0,\"2370. Exit 3 of Hanti Station\",37.49655151,127.05429840,5,17,true,false,false,22,false,0\\n1180,1644918610.0941982|-32400|0,\"2371. Korea Postal Service Agency\",37.51474762,127.03513336,14,0,true,false,false,12,false,0\\n1181,1644918610.0942636|-32400|0,\"2372. Daechi Station Four-way Intersection\",37.49449921,127.06379700,6,6,true,false,false,12,false,0\\n1182,1644918610.0943296|-32400|0,\"2373. Gaepodong Station Four-way Intersection\",37.48927689,127.06557465,12,10,true,false,false,22,false,0\\n1184,1644918610.0943947|-32400|0,\"2375. In front of Exit 1 of Suseo Station\",37.48735046,127.10099792,5,7,true,false,false,12,false,0\\n1185,1644918610.0944595|-32400|0,\"2376. In front of Exit 6 of Suseo Station\",37.48677826,127.10051727,6,10,true,false,false,16,false,0\\n1186,1644918610.0945246|-32400|0,\"2377. Behind Exit 5 of Suseo Station\",37.48683548,127.10275269,16,0,true,false,false,12,false,0\\n1245,1644918610.09459|-32400|0,\"2380. In front of Samseong-dong Basic House\",37.51169586,127.04934692,6,11,true,false,false,17,false,0\\n1246,1644918610.0946548|-32400|0,\"2381. In front of Exit 6 of Eonju Station\",37.50636673,127.03452301,1,9,true,false,false,10,false,0\\n1247,1644918610.0947194|-32400|0,\"2382. In front of Yeoksam-dong SK View Apartment 501-dong\",37.50134277,127.05046844,1,12,true,false,false,13,false,0\\n1248,1644918610.0947845|-32400|0,\"2383. Bogeumjari Garden\",37.46632767,127.09488678,3,9,true,false,false,12,false,0\\n1364,1644918610.0948496|-32400|0,\"2384. Jagok Four-way Intersection\",37.47602844,127.10594177,5,7,true,false,false,12,false,0\\n1365,1644918610.0949154|-32400|0,\"2385. Hakdong Station\",37.51395035,127.03015137,1,11,true,false,false,12,false,0\\n1366,1644918610.0949824|-32400|0,\"2386. 크린랩 본사\",37.50958633,127.04090881,11,0,true,false,false,10,false,0\\n1407,1644918610.095071|-32400|0,\"2387. Raemian Gangnam Hills Four-way Intersection\",37.47245407,127.09607697,0,12,true,false,false,12,false,0\\n1433,1644918610.095138|-32400|0,\"2388. Gangnam-gu City Management Corporation\",37.51678467,127.05161285,13,0,true,false,false,12,false,0\\n1559,1644918610.0952032|-32400|0,\"2389. Kyunggi Girls’ High School Back Gate (Samsung-ro 3-gil Entrance)\",37.48616028,127.06723785,2,15,true,false,false,17,false,0\\n1560,1644918610.0952704|-32400|0,\"2390. Guryong Village Entrance (Raemian Blastige Apt.)\",37.48088074,127.06304169,8,4,true,false,false,12,false,0\\n1561,1644918610.0953372|-32400|0,\"2391. 구룡터널 입구(개포1단지아파트)\",37.47598648,127.05962372,0,9,true,false,false,9,false,0\\n1562,1644918610.095435|-32400|0,\"2392. Guryongsan Mountain Entrance (Guryongsan Mountain Seoul Dulae-gil Entrance)\",37.47447205,127.05545044,5,7,true,false,false,12,false,0\\n1563,1644918610.0955024|-32400|0,\"2393. Intersection in front of Guryongsa Temple (Overpass)\",37.47200012,127.05133820,1,8,true,false,false,9,false,0\\n1564,1644918610.0955696|-32400|0,\"2394. 개포래미안포레스트아파트 107동 앞\",37.48029709,127.05426025,8,2,true,false,false,10,false,0\\n1565,1644918610.0956361|-32400|0,\"2395. Gaepo Apt. Complex 1 Entrance (Overpass)\",37.47929001,127.05573273,16,0,true,false,false,9,false,0\\n1566,1644918610.0957012|-32400|0,\"2396. Yongdong 3-gyo Bridge Northern Section (In front of Woosung Character)\",37.48574066,127.05104828,3,14,true,false,false,17,false,0\\n1568,1644918610.0957673|-32400|0,\"2398. The Raum\",37.50811005,127.03945160,15,0,true,false,false,12,false,0\\n1571,1644918610.095832|-32400|0,\"2401. Miral School Entrance (Samsung Medical Center Entrance)\",37.48656082,127.08267212,10,7,true,false,false,17,false,0\\n1573,1644918610.0958972|-32400|0,\"2403. Government Employee Pension Store Intersection (Gaepo Jugong Apt. Complex 9)\",37.48871994,127.07453918,0,12,true,false,false,12,false,0\\n1574,1644918610.0959623|-32400|0,\"2404. In front of Exit 4 of Daemosan Station\",37.49180984,127.07315826,10,2,true,false,false,12,false,0\\n1575,1644918610.0960271|-32400|0,\"2405. Intersection in front of Cheongdam Park\",37.51871109,127.05084991,14,8,true,false,false,22,false,0\\n1576,1644918610.0960925|-32400|0,\"2406. In front of Gwangmyeong Building in Nonhyeon-dong\",37.51757050,127.02364349,10,2,true,false,false,12,false,0\\n1577,1644918610.0961568|-32400|0,\"2407. In front of Yeoksam, Seocho, Samseong District Tax Office (In front of Yeoksam Building)\",37.49847031,127.03011322,8,4,true,false,false,12,false,0\\n1578,1644918610.096225|-32400|0,\"2408. Gangnam Hanyang Sujain Apartment Complex\",37.47734070,127.11327362,3,13,true,false,false,16,false,0\\n1679,1644918610.0962899|-32400|0,\"2409. Yeoksamdong The O Superium (Woosung Apt Four-way Intersection)\",37.49206161,127.03074646,21,1,true,false,false,22,false,0\\n1680,1644918610.0963545|-32400|0,\"2410. POSCO P&S Tower (Near of Exit 3 of Yeoksam Station)\",37.49959946,127.03375244,1,9,true,false,false,10,false,0\\n1703,1644918610.0964189|-32400|0,\"2411. Segok-dong Catholic Church\",37.47296906,127.11222839,5,12,true,false,false,17,false,0\\n1704,1644918610.096483|-32400|0,\"2412. Irwon 1-dong Community Service Center\",37.49179077,127.08821106,6,11,true,false,false,17,false,0\\n1879,1644918610.09655|-32400|0,\"2413.도곡역 1번 출구\",37.49095917,127.05498505,5,15,true,false,false,20,false,0\\n1880,1644918610.096618|-32400|0,\"2414. 도곡역 아카데미스위트 앞\",37.48897171,127.05182648,4,16,true,false,false,20,false,0\\n1881,1644918610.096686|-32400|0,\"2415.한티역 롯데백화점 앞\",37.49667358,127.05342865,4,11,true,false,false,15,false,0\\n1882,1644918610.0967531|-32400|0,\"2416.한티역 6번 출구\",37.49589920,127.05219269,5,5,true,false,false,10,false,0\\n1883,1644918610.0968206|-32400|0,\"2417.선정릉 디캠프(D.CAMP)앞\",37.50799942,127.04524994,3,7,true,false,false,10,false,0\\n1884,1644918610.096888|-32400|0,\"2418.봉은사역 7번 출구 \",37.51393509,127.05982208,10,0,true,false,false,10,false,0\\n1885,1644918610.0969553|-32400|0,\"2419.봉은사역 1,2번 출구 \",37.51430893,127.05970001,5,15,true,false,false,20,false,0\\n1886,1644918610.0970228|-32400|0,\"2420.학여울역 사거리(LG베스트샵 앞)\",37.49689484,127.07013702,8,12,true,false,false,20,false,0\\n1887,1644918610.09709|-32400|0,\"2421. 신논현역 4번출구\",37.50467300,127.02579498,3,12,true,false,false,15,false,0\\n1888,1644918610.097158|-32400|0,\"2422.수서동 성당 맞은편\",37.48416901,127.09484863,3,7,true,false,false,10,false,0\\n1889,1644918610.0972245|-32400|0,\"2423.영희초교 사거리(래미안개포루체하임)\",37.49083710,127.08065033,6,4,true,false,false,10,false,0\\n1891,1644918610.0972915|-32400|0,\"2425.세곡동 사거리(대왕초등학교 정류장)\",37.46461868,127.10684967,5,15,true,false,false,20,false,0\\n1892,1644918610.097359|-32400|0,\"2426.강남한신휴플러스 6단지\",37.46829605,127.10469818,4,6,true,false,false,10,false,0\\n1893,1644918610.0974264|-32400|0,\"2427.개포고등학교 정문앞\",37.48485184,127.05837250,2,8,true,false,false,10,false,0\\n1894,1644918610.0974932|-32400|0,\"2428.롯데리아 개포점앞\",37.48236847,127.06118774,5,5,true,false,false,10,false,0\\n1895,1644918610.0975597|-32400|0,\"2429.압구정로데오역 6번출구\",37.52745438,127.04042816,2,8,true,false,false,10,false,0\\n1896,1644918610.0976267|-32400|0,\"2430.강남파이낸스센터앞(역삼역2번출구)\",37.50024414,127.03605652,0,10,true,false,false,10,false,0\\n1897,1644918610.0976942|-32400|0,\"2431.대치역 7번출구\",37.49411774,127.06290436,10,0,true,false,false,10,false,0\\n1552,1644918610.097763|-32400|0,\"2501. Seocho Forestar Apt. Complex 5\",37.45066071,127.05706024,13,0,true,false,false,12,false,0\\n1553,1644918610.097828|-32400|0,\"2502. In front of Exit 1 of Seocho Station\",37.49195099,127.00855255,10,1,true,false,false,11,false,0\\n1554,1644918610.0978928|-32400|0,\"2503. In front of Banpo 1-dong Seocho Building\",37.50381088,127.02136230,14,0,true,false,false,12,false,0\\n1555,1644918610.0979576|-32400|0,\"2504. Behind Exit 4 of Sinsa Station\",37.51588058,127.01930237,6,4,true,false,false,10,false,0\\n1556,1644918610.0980227|-32400|0,\"2505. Woosung Apt. Four-way Intersection (in front of IBK)\",37.49325943,127.02953339,10,4,true,false,false,14,false,0\\n1557,1644918610.0980883|-32400|0,\"2506. LG U-Plus (Bangbae Office Building)\",37.47909164,126.99067688,13,0,true,false,false,12,false,0\\n1654,1644918610.0981529|-32400|0,\"2508. In front of Yangjae E-Star Ville\",37.48297882,127.04225922,13,0,true,false,false,12,false,0\\n1655,1644918610.0982192|-32400|0,\"2509. 심산기념문화센터\",37.49836349,126.99114990,7,9,true,false,false,16,false,0\\n1735,1644918610.0982852|-32400|0,\"2510. JW Tower\",37.48303986,127.02146149,4,6,true,false,false,10,false,0\\n1739,1644918610.09835|-32400|0,\"2511. In front of Exit 6 of Isu Station\",37.48366165,126.98232269,4,8,true,false,false,12,false,0\\n1899,1644918610.0984163|-32400|0,\"2514.사평역 2번출구\",37.50364304,127.01602173,9,1,true,false,false,10,false,0\\n1900,1644918610.0984838|-32400|0,\"2515.서초초등학교 후문\",37.49892807,127.02472687,7,8,true,false,false,15,false,0\\n1901,1644918610.098576|-32400|0,\"2516.본마을 노인복지센터 앞\",37.45441818,127.05274200,11,0,true,false,false,9,false,0\\n1902,1644918610.0986454|-32400|0,\"2517.서초3교(효령로69길 방면)\",37.48768234,127.02478790,7,13,true,false,false,20,false,0\\n1903,1644918610.0987132|-32400|0,\"2518.서초3교(효령로70길 방면)\",37.48731613,127.02489471,9,11,true,false,false,20,false,0\\n1904,1644918610.0987809|-32400|0,\"2519.서초2교(사임당로 방면)\",37.49100876,127.02352142,10,5,true,false,false,15,false,0\\n1905,1644918610.0988483|-32400|0,\"2520.서초1교 (진흥아파트 방면)\",37.49619293,127.02101135,4,16,true,false,false,20,false,0\\n1906,1644918610.0989153|-32400|0,\"2521.서초 크로바타워 앞\",37.49556351,127.01918030,10,3,true,false,false,13,false,0\\n1908,1644918610.0989828|-32400|0,\"2523.뉴코아 킴스클럽 앞\",37.51019287,127.00725555,4,6,true,false,false,10,false,0\\n1909,1644918610.0990505|-32400|0,\"2524.반포쇼핑타운 8동 앞\",37.50735092,127.00801849,23,0,true,false,false,10,false,0\\n1910,1644918610.0991187|-32400|0,\"2525.반포쇼핑타운 2동 앞\",37.50560760,127.00215912,4,11,true,false,false,15,false,0\\n1911,1644918610.0992074|-32400|0,\"2526.반포경남쇼핑 앞\",37.50478745,126.99992371,4,6,true,false,false,10,false,0\\n1912,1644918610.099294|-32400|0,\"2527.반포중학교 앞(세화여고 맞은편)\",37.50296021,126.99359894,2,8,true,false,false,10,false,0\\n1913,1644918610.099363|-32400|0,\"2528.함지박 사거리\",37.49377060,126.99006653,9,1,true,false,false,10,false,0\\n1914,1644918610.0994985|-32400|0,\"2529.우리은행 방배동지점 앞\",37.48991776,126.99208069,7,5,true,false,false,12,false,0\\n1915,1644918610.099568|-32400|0,\"2530.삼호3차아파트 앞\",37.49779510,126.98706818,7,8,true,false,false,15,false,0\\n1916,1644918610.0996363|-32400|0,\"2531.멤피스아파트 앞\",37.49420547,126.98935699,6,4,true,false,false,10,false,0\\n1917,1644918610.099704|-32400|0,\"2532.국립국악원 앞\",37.47820282,127.00878143,6,4,true,false,false,10,false,0\\n1918,1644918610.099771|-32400|0,\"2533.한가람미술관 앞\",37.48087692,127.01452637,4,6,true,false,false,10,false,0\\n1920,1644918610.099843|-32400|0,\"2535.신반포역 3번출구 뒤\",37.50362396,126.99732208,5,10,true,false,false,15,false,0\\n1921,1644918610.0999115|-32400|0,\"2536.서초종합체육관 입구\",37.45924759,127.04163361,5,15,true,false,false,20,false,0\\n1922,1644918610.0999782|-32400|0,\"2537.양재역 8번출구 앞\",37.48257065,127.03643799,6,4,true,false,false,10,false,0\\n1923,1644918610.1000457|-32400|0,\"2538.사평리 공원\",37.52026749,127.01525116,3,7,true,false,false,10,false,0\\n2404,1644918610.1001122|-32400|0,\"2539.대한무역투자진흥공사 KOTRA 앞\",37.46540833,127.04377747,3,7,true,false,false,10,false,0\\n1924,1644918610.10018|-32400|0,\"2540.반포천 앞\",37.49905014,126.99625397,9,1,true,false,false,10,false,0\\n1925,1644918610.1002464|-32400|0,\"2541.옛골 입구\",37.43097687,127.07033539,2,13,true,false,false,15,false,0\\n1926,1644918610.1003137|-32400|0,\"2542.신논현타워 앞\",37.50508881,127.02391052,1,9,true,false,false,10,false,0\\n1929,1644918610.1003802|-32400|0,\"2545.국립중앙도서관(국제회의장옆)\",37.49721146,127.00427246,10,5,true,false,false,15,false,0\\n2414,1644918610.100448|-32400|0,\"2547.포드서초서비스센터앞\",37.51904678,127.01228333,1,9,true,false,false,10,false,0\\n2415,1644918610.100515|-32400|0,\"2548.반포1동 자율방범초소 옆\",37.50847626,127.01676178,5,5,true,false,false,10,false,0\\n2416,1644918610.1005826|-32400|0,\"2549.LH 서초 4단지 403동\",37.45924759,127.02390289,4,6,true,false,false,10,false,0\\n2417,1644918610.1006494|-32400|0,\"2550.양재동 꽃시장 건너편\",37.46738434,127.04145813,15,0,true,false,false,10,false,0\\n1590,1644918610.1007166|-32400|0,\"2601. 석촌호수 아뜰리에\",37.50674820,127.09883118,8,4,true,false,false,12,false,0\\n1592,1644918610.1007824|-32400|0,\"2603. Songpa Geulmaru Library\",37.48080063,127.13034058,10,2,true,false,false,12,false,0\\n1627,1644918610.1008487|-32400|0,\"2604. In front of Sampyo Remicon\",37.53131104,127.11128235,3,9,true,false,false,12,false,0\\n1656,1644918610.100914|-32400|0,\"2605. In front of Exit 1 of Bokjeong Station\",37.47129822,127.12709045,8,9,true,false,false,17,false,0\\n1657,1644918610.1009789|-32400|0,\"2606. Neighborhood Park across from Wirye-dong Community Center\",37.48173904,127.14322662,3,9,true,false,false,12,false,0\\n1681,1644918610.1010442|-32400|0,\"2608. Songpa-gu Office\",37.51505280,127.10626984,26,0,true,false,false,10,false,0\\n1682,1644918610.1011086|-32400|0,\"2609. Posung Middle and High School Back gate\",37.52048874,127.13520050,2,10,true,false,false,12,false,0\\n1683,1644918610.101175|-32400|0,\"2610. 송리단길\",37.51045227,127.10640717,6,6,true,false,false,12,false,0\\n1684,1644918610.1012406|-32400|0,\"2611. Behind Songpa Self-Sufficiency Foundation \",37.53633118,127.11618042,5,4,true,false,false,9,false,0\\n1685,1644918610.1013052|-32400|0,\"2612. In front of Munjeong•Garak Rental Center\",37.48871994,127.10982513,1,8,true,false,false,9,false,0\\n1705,1644918610.1013706|-32400|0,\"2613. Jamsil Interchange\",37.51678085,127.09049225,4,16,true,false,false,20,false,0\\n1706,1644918610.1014352|-32400|0,\"2614. In front of Garak High School\",37.50186157,127.11723328,0,17,true,false,false,17,false,0\\n1707,1644918610.1015003|-32400|0,\"2615. Tera Tower 2\",37.48834991,127.12078094,6,11,true,false,false,17,false,0\\n1716,1644918610.101565|-32400|0,\"2616. Geoyeo-dong Four-way Intersection\",37.49704742,127.14035034,9,3,true,false,false,12,false,0\\n1717,1644918610.101629|-32400|0,\"2617. In front of Garak Samwhan Apartment Complex\",37.49618149,127.13803101,3,14,true,false,false,17,false,0\\n1728,1644918610.10172|-32400|0,\"2618. Exit 1 of Samjeon Station\",37.50471115,127.08756256,6,10,true,false,false,16,false,0\\n1729,1644918610.1017866|-32400|0,\"2619. Exit 4 of Seokchon Gobun Station\",37.50233841,127.09644318,0,9,true,false,false,9,false,0\\n1730,1644918610.1018527|-32400|0,\"2620. Next to Exit 4 of Songpanaru Station\",37.50997925,127.11231232,9,8,true,false,false,17,false,0\\n1719,1644918610.1019177|-32400|0,\"2621. Exit 2 of Hanseong Baekje Station\",37.51665878,127.11625671,14,3,true,false,false,17,false,0\\n1720,1644918610.1019828|-32400|0,\"2622. Exit 3 of Olympic Park Station\",37.51625824,127.13059235,7,15,true,false,false,22,false,0\\n1851,1644918610.1020494|-32400|0,\"2623.석촌동 주민센터\",37.50362396,127.10355377,11,4,true,false,false,15,false,0\\n1852,1644918610.1021163|-32400|0,\"2625.가락1동 주민센터 \",37.49553680,127.10720062,3,12,true,false,false,15,false,0\\n1853,1644918610.1021833|-32400|0,\"2626.경찰병원역 1,2번 출구 사이\",37.49569321,127.12385559,5,10,true,false,false,15,false,0\\n1854,1644918610.1022508|-32400|0,\"2627.문정시영아파트 5동 앞 공원\",37.49112320,127.13510895,8,7,true,false,false,15,false,0\\n1855,1644918610.102318|-32400|0,\"2628.문정역 1번출구\",37.48669815,127.12244415,0,15,true,false,false,15,false,0\\n1857,1644918610.1023848|-32400|0,\"2630.서울방이동 고분군\",37.50786591,127.11698914,2,10,true,false,false,12,false,0\\n1858,1644918610.102452|-32400|0,\"2631.배명고등학교\",37.49741364,127.09630585,3,12,true,false,false,15,false,0\\n1859,1644918610.102519|-32400|0,\"2632.석촌고분역 2번 출구\",37.50264359,127.09739685,8,1,true,false,false,9,false,0\\n1860,1644918610.1025858|-32400|0,\"2633.송파학사 옆\",37.47817993,127.14710236,9,11,true,false,false,20,false,0\\n1861,1644918610.1026523|-32400|0,\"2634.위례포레샤인아파트 2318동\",37.47721100,127.13717651,4,11,true,false,false,15,false,0\\n1862,1644918610.1027195|-32400|0,\"2635.잠실새내역 1번출구\",37.51129532,127.08673859,2,13,true,false,false,15,false,0\\n1864,1644918610.1027865|-32400|0,\"2637.잠실월드 메르디앙\",37.51146317,127.07881165,8,7,true,false,false,15,false,0\\n1865,1644918610.1028535|-32400|0,\"2638.쌍용아파트\",37.52681351,127.11814880,9,0,true,false,false,8,false,0\\n1866,1644918610.1029203|-32400|0,\"2639.석촌역 8번출구\",37.50550461,127.10657501,16,2,true,false,false,18,false,0\\n1793,1644918610.102987|-32400|0,\"2641.송파역 4번출구\",37.50004959,127.11151123,1,9,true,false,false,10,false,0\\n1794,1644918610.1030543|-32400|0,\"2642.마천동 성내천 쉼터\",37.50149536,127.14778137,12,0,true,false,false,12,false,0\\n1795,1644918610.1031206|-32400|0,\"2643.풍납중학교 측면\",37.52515793,127.11694336,6,4,true,false,false,10,false,0\\n1796,1644918610.1031876|-32400|0,\"2644.성내5교 (GS주유소)\",37.50166702,127.13774109,5,5,true,false,false,10,false,0\\n1797,1644918610.1032548|-32400|0,\"2645.잠실나들목2(엘스아파트136동)\",37.51621246,127.08434296,0,10,true,false,false,10,false,0\\n1867,1644918610.1033232|-32400|0,\"2646.레이크펠리스101동앞\",37.50775909,127.09129333,5,10,true,false,false,15,false,0\\n1868,1644918610.103391|-32400|0,\"2647.잠실 자전거 수리센터 앞\",37.51156998,127.10107422,20,0,true,false,false,15,false,0\\n1869,1644918610.103476|-32400|0,\"2648.헬리오시티 112동 앞\",37.49469757,127.10464478,10,20,true,false,false,30,false,0\\n1870,1644918610.1035452|-32400|0,\"2649.오금공원사거리2\",37.50544357,127.13233185,1,9,true,false,false,10,false,0\\n1871,1644918610.1036131|-32400|0,\"2650.위례22단지 2208동 다리앞\",37.47854996,127.13813782,8,3,true,false,false,11,false,0\\n1872,1644918610.1036808|-32400|0,\"2651.경찰병원역 3번출구 앞\",37.49577332,127.12458038,8,12,true,false,false,20,false,0\\n1873,1644918610.1037722|-32400|0,\"2652.송파 레미니스1단지 102동 앞\",37.50883102,127.13426208,5,15,true,false,false,20,false,0\\n1874,1644918610.103841|-32400|0,\"2653.올림픽공원사거리(선수촌아파트)\",37.51202011,127.12864685,1,19,true,false,false,20,false,0\\n1875,1644918610.1039085|-32400|0,\"2654.올림픽선수촌아파트 136동 앞\",37.50997543,127.13369751,4,6,true,false,false,10,false,0\\n1876,1644918610.1039758|-32400|0,\"2655.송이공원\",37.50057983,127.11884308,1,19,true,false,false,20,false,0\\n1878,1644918610.104044|-32400|0,\"2656.풍납동 아이파크 107동 앞\",37.52480316,127.11463928,8,2,true,false,false,10,false,0\\n1877,1644918610.1041112|-32400|0,\"2657.송파 파인타운 11단지 \",37.47916031,127.13219452,4,6,true,false,false,10,false,0\\n2409,1644918610.1041784|-32400|0,\"2658.가락몰 업무동\",37.49535751,127.11569214,5,5,true,false,false,10,false,0\\n2410,1644918610.104245|-32400|0,\"2659.서울친환경유통센터\",37.49416733,127.10453033,3,7,true,false,false,10,false,0\\n1718,1644918610.1043122|-32400|0,\"2701. Behind Exit 5 of Magongnaru Station\",37.56520081,126.82731628,25,0,true,false,false,23,false,0\\n1727,1644918610.1043785|-32400|0,\"2702. Magok M-Valley Apartment Complex 2\",37.56917953,126.81944275,2,20,true,false,false,22,false,0\\n2018,1644918610.1044457|-32400|0,\"2703.서울도시가스 앞 \",37.54748535,126.87202454,18,2,true,false,false,20,false,0\\n2020,1644918610.1045132|-32400|0,\"2704.홈플러스(강서점)\",37.55852127,126.85401154,15,0,true,false,false,10,false,0\\n2022,1644918610.1045806|-32400|0,\"2706.강서공업고등학교 앞\",37.57631683,126.81649780,5,8,true,false,false,13,false,0\\n2023,1644918610.1046748|-32400|0,\"2707.한강아파트\",37.57036972,126.84441376,2,11,true,false,false,13,false,0\\n2024,1644918610.1047435|-32400|0,\"2708.강서한강자이타워 앞\",37.56468201,126.84890747,7,8,true,false,false,15,false,0\\n2025,1644918610.1048105|-32400|0,\"2709.강변아파트 310동 앞\",37.56458664,126.85691833,12,8,true,false,false,20,false,0\\n2026,1644918610.1048775|-32400|0,\"2710.라이품 공영주차장 앞\",37.57131958,126.84166718,30,0,true,false,false,30,false,0\\n2027,1644918610.1049447|-32400|0,\"2711.가로공원공영주차장 1번 출구\",37.53736115,126.83744812,1,8,true,false,false,9,false,0\\n2028,1644918610.105012|-32400|0,\"2712.화곡터널입구교차로\",37.53835678,126.84236145,3,7,true,false,false,10,false,0\\n2029,1644918610.1050787|-32400|0,\"2713.우장초등학교 앞\",37.54853439,126.84667206,13,0,true,false,false,13,false,0\\n2031,1644918610.1051455|-32400|0,\"2715.마곡나루역 2번 출구 \",37.56692505,126.82743835,2,23,true,false,false,25,false,0\\n2032,1644918610.1052122|-32400|0,\"2716.롯데 R&D 센터\",37.57094193,126.82831573,7,23,true,false,false,30,false,0\\n2033,1644918610.1052792|-32400|0,\"2717.LG유플러스 마곡사옥\",37.56133652,126.83390045,14,16,true,false,false,30,false,0\\n2034,1644918610.1053455|-32400|0,\"2718.마곡수명산파크1단지\",37.55524826,126.83229828,27,0,true,false,false,15,false,0\\n2035,1644918610.1054127|-32400|0,\"2719.마곡문화공원\",37.56121445,126.83031464,14,6,true,false,false,20,false,0\\n2036,1644918610.1054795|-32400|0,\"2720.힐스테이트에코\",37.55965805,126.82960510,25,5,true,false,false,30,false,0\\n2037,1644918610.1055462|-32400|0,\"2721.등촌1-10단지 교차로\",37.56320572,126.83936310,4,8,true,false,false,12,false,0\\n2038,1644918610.105613|-32400|0,\"2722.마곡 문영비지웍스\",37.56188202,126.83915710,2,8,true,false,false,10,false,0\\n2040,1644918610.1056805|-32400|0,\"2723.마곡 필네이처\",37.56089401,126.83669281,12,1,true,false,false,13,false,0\\n2041,1644918610.1057475|-32400|0,\"2724.(재)FITI시험연구원\",37.56854630,126.83882904,5,20,true,false,false,25,false,0\\n2042,1644918610.105814|-32400|0,\"2725.서울식물원 식물문화센터\",37.56883621,126.83563232,15,5,true,false,false,20,false,0\\n2044,1644918610.1058815|-32400|0,\"2727.서울식물원 잔디마당 앞\",37.56408691,126.83084869,0,20,true,false,false,20,false,0\\n2045,1644918610.105949|-32400|0,\"2728.마곡나루역 3번 출구\",37.56580353,126.82807922,42,0,true,false,false,30,false,0\\n2046,1644918610.106016|-32400|0,\"2729.넥센 유니버시티 앞\",37.56948471,126.82809448,24,6,true,false,false,30,false,0\\n2047,1644918610.106083|-32400|0,\"2730.마곡메가박스 앞\",37.55912781,126.83495331,13,17,true,false,false,30,false,0\\n2048,1644918610.1061504|-32400|0,\"2731.명덕고교\",37.55524063,126.83471680,8,6,true,false,false,14,false,0\\n2049,1644918610.1062171|-32400|0,\"2732.마곡수명산 1-2단지 \",37.55530930,126.82985687,12,2,true,false,false,14,false,0\\n2050,1644918610.1062846|-32400|0,\"2733.마곡13단지 정문 앞\",37.55863190,126.81991577,21,0,true,false,false,15,false,0\\n2052,1644918610.1063514|-32400|0,\"2735.마곡 공공청사\",37.56229401,126.82395172,6,14,true,false,false,20,false,0\\n2054,1644918610.1064186|-32400|0,\"2737.까치산역 3번 출구\",37.53169250,126.84658813,5,5,true,false,false,10,false,0\\n2056,1644918610.1064856|-32400|0,\"2739.수명산파크1단지교차로\",37.55363083,126.82861328,21,0,true,false,false,10,false,0\\n2057,1644918610.1065521|-32400|0,\"2740.마곡레포츠센터\",37.57297516,126.83244324,7,23,true,false,false,30,false,0\\n2058,1644918610.1066186|-32400|0,\"2741.마곡수명산파크5-6단지\",37.55061722,126.82688141,8,0,true,false,false,8,false,0\\n2059,1644918610.1066885|-32400|0,\"2742.강서구민올림픽체육센터\",37.55990601,126.85042572,5,5,true,false,false,10,false,0\\n2399,1644918610.1067555|-32400|0,\"2743.동신아파트 104동 앞\",37.57204437,126.84400177,3,9,true,false,false,12,false,0\\n2411,1644918610.1068225|-32400|0,\"2744.강서세무서 앞\",37.56209183,126.82096863,18,2,true,false,false,20,false,0\\n2412,1644918610.1068892|-32400|0,\"2745.수명초등학교\",37.55255890,126.82311249,5,4,true,false,false,9,false,0\\n2419,1644918610.1069562|-32400|0,\"2746.수명산파크 4단지 411동 앞\",37.55134964,126.82493591,11,0,true,false,false,10,false,0\\n1753,1644918610.1070235|-32400|0,\"2801. 대륭포스트타워1차\",37.48437119,126.89542389,25,7,true,false,false,32,false,0\\n1944,1644918610.1070905|-32400|0,\"2804.항동지구 6단지 602동 앞\",37.47737503,126.82001495,15,4,true,false,false,19,false,0\\n1945,1644918610.107162|-32400|0,\"2805.구로자원순환센터 \",37.48250961,126.82575989,1,19,true,false,false,20,false,0\\n1946,1644918610.1072292|-32400|0,\"2806.항동지구 4단지 입구\",37.48259735,126.82645416,2,18,true,false,false,20,false,0\\n1947,1644918610.1072958|-32400|0,\"2807.항동지구 1단지 105동 앞\",37.48062897,126.82181549,21,0,true,false,false,20,false,0\\n1948,1644918610.1073623|-32400|0,\"2808.항동지구 2단지 202동 앞\",37.48080826,126.82190704,8,11,true,false,false,19,false,0\\n1949,1644918610.1074634|-32400|0,\"2809.항동지구 11단지 1103동 앞\",37.47790527,126.82311249,11,9,true,false,false,20,false,0\\n1950,1644918610.107534|-32400|0,\"2810.항동지구 3단지 311동 앞\",37.47793961,126.82327271,12,8,true,false,false,20,false,0\\n1952,1644918610.1076016|-32400|0,\"2812.항동프라자\",37.47983170,126.82275391,3,15,true,false,false,18,false,0\\n1953,1644918610.1076696|-32400|0,\"2813.항동지구 3단지 302동 앞\",37.47937012,126.82546997,3,7,true,false,false,10,false,0\\n1954,1644918610.1077366|-32400|0,\"2814.항동지구 10단지 1001동 앞\",37.47934341,126.82563782,3,7,true,false,false,10,false,0\\n1955,1644918610.1078038|-32400|0,\"2815.항동지구 7단지 정문\",37.47603607,126.81658936,14,6,true,false,false,20,false,0\\n1956,1644918610.1078718|-32400|0,\"2816.항동지구 8단지 803동옆(주차장입구)\",37.47473145,126.81700897,13,7,true,false,false,20,false,0\\n1957,1644918610.1079388|-32400|0,\"2817.천왕이펜하우스5단지 앞\",37.47989655,126.84037018,9,6,true,false,false,15,false,0\\n1958,1644918610.108006|-32400|0,\"2818.천왕이펜하우스3단지 앞\",37.48223877,126.83853149,18,2,true,false,false,20,false,0\\n1959,1644918610.1080735|-32400|0,\"2819.하늘숲초등학교 앞\",37.48366547,126.84161377,17,0,true,false,false,15,false,0\\n1960,1644918610.1081402|-32400|0,\"2820.신세기아파트 앞\",37.49396515,126.85304260,12,0,true,false,false,10,false,0\\n1961,1644918610.108208|-32400|0,\"2821.청구아파트 앞\",37.50119019,126.86353302,7,3,true,false,false,10,false,0\\n1962,1644918610.1083004|-32400|0,\"2822.제니스스포츠 앞\",37.50452042,126.87055206,8,12,true,false,false,20,false,0\\n1963,1644918610.1083694|-32400|0,\"2823.중앙유통단지 앞\",37.49981308,126.87431335,14,0,true,false,false,10,false,0\\n1964,1644918610.108437|-32400|0,\"2824.미래사랑어린이공원 앞\",37.51006317,126.88956451,17,0,true,false,false,10,false,0\\n1965,1644918610.108504|-32400|0,\"2825.초롱타운 앞\",37.49545288,126.88039398,2,8,true,false,false,10,false,0\\n1966,1644918610.1085706|-32400|0,\"2826.가마산지하보도 옆\",37.48864746,126.88047028,2,8,true,false,false,10,false,0\\n2067,1644918610.1086383|-32400|0,\"2901.공릉동풍림아파트 101동\",37.62981415,127.06650543,5,3,true,false,false,8,false,0\\n2068,1644918610.1087062|-32400|0,\"2902.공릉풍림아파트 108동\",37.62862015,127.06690979,12,0,true,false,false,12,false,0\\n2069,1644918610.1087735|-32400|0,\"2903.월계초안아파트 1단지\",37.63372803,127.04436493,4,6,true,false,false,10,false,0\\n2070,1644918610.1088405|-32400|0,\"2904.중계3차청구아파트\",37.65050507,127.07398224,7,1,true,false,false,8,false,0\\n2073,1644918610.1089077|-32400|0,\"2907. 월계중학교\",37.63074875,127.05310822,11,14,true,false,false,25,false,0\\n2074,1644918610.1089764|-32400|0,\"2908. 광운대학교 중앙도서관\",37.62000275,127.05856323,20,0,true,false,false,20,false,0\\n2075,1644918610.1090434|-32400|0,\"2909. 석계역 3번 출구\",37.61545944,127.06745148,12,0,true,false,false,10,false,0\\n2076,1644918610.1091106|-32400|0,\"2910.도깨비시장\",37.62209320,127.07442474,1,9,true,false,false,10,false,0\\n2077,1644918610.109178|-32400|0,\"2911.상계역중앙시장\",37.65887070,127.07191467,0,7,true,false,false,7,false,0\\n2078,1644918610.1092455|-32400|0,\"2912.대진고등학교\",37.63815689,127.07326508,1,19,true,false,false,20,false,0\\n2079,1644918610.1093125|-32400|0,\"2913.상계8동 주민센터\",37.66699600,127.05152893,3,5,true,false,false,8,false,0\\n2080,1644918610.1093798|-32400|0,\"2914.서울과학기술대학교(미래관)\",37.62950897,127.08103943,11,9,true,false,false,20,false,0\\n2081,1644918610.1094475|-32400|0,\"2915.서울과학기술대학교(어학교육원)\",37.63489914,127.07767487,3,17,true,false,false,20,false,0\\n2083,1644918610.1095147|-32400|0,\"2917.신창중학교 후문 맞은편 버스정류장\",37.62807083,127.04692078,2,8,true,false,false,10,false,0\\n2085,1644918610.1095827|-32400|0,\"2919.등나무 근린공원(시립북서울미술관 앞) \",37.63999557,127.06657410,7,8,true,false,false,15,false,0\\n2086,1644918610.10965|-32400|0,\"2920.상계중학교(당현2교사거리)\",37.65103531,127.06871033,5,9,true,false,false,14,false,0\\n2087,1644918610.109717|-32400|0,\"2921.중계역 2번출구\",37.64548874,127.06458282,1,9,true,false,false,10,false,0\\n2160,1644918610.1097846|-32400|0,\"3002.벽산상암스마트큐브 \",37.56504440,126.90360260,15,0,true,false,false,10,false,0\\n2161,1644918610.1098516|-32400|0,\"3003.래미안신공덕3차아파트\",37.54554749,126.95679474,6,0,true,false,false,5,false,0\\n2163,1644918610.1099184|-32400|0,\"3005.마포구청 청사내\",37.56624603,126.90218353,0,20,true,false,false,20,false,0\\n2164,1644918610.1099858|-32400|0,\"3006. 상암월드컵파크5단지(상암중학교)\",37.57948685,126.88739014,14,1,true,false,false,15,false,0\\n2165,1644918610.1100526|-32400|0,\"3007.MBC 앞\",37.58194733,126.89029694,2,8,true,false,false,10,false,0\\n2166,1644918610.1101196|-32400|0,\"3008.DMC역7번출구\",37.57711411,126.89836121,3,7,true,false,false,10,false,0\\n2167,1644918610.1102111|-32400|0,\"3009.서교동사거리(신)\",37.55583954,126.92043304,3,7,true,false,false,10,false,0\\n2168,1644918610.11028|-32400|0,\"3010.홍대입구역 3번출구\",37.55829620,126.92538452,23,0,true,false,false,15,false,0\\n2169,1644918610.1103475|-32400|0,\"3011.경의선(노고산동)\",37.55342865,126.93379211,0,10,true,false,false,10,false,0\\n2422,1644918610.1104147|-32400|0,\"3013.서울지방고용노동청 앞\",37.56761551,126.98724365,5,5,true,false,false,10,false,0\\n1188,1644918610.1104815|-32400|0,\"3100. Seoul Buksung Elementary School\",37.55739594,126.95216370,4,6,true,false,false,10,false,0\\n1189,1644918610.1105466|-32400|0,\"3101. Seodaemun-gu Office\",37.57838058,126.93609619,4,13,true,false,false,17,false,0\\n1190,1644918610.1106112|-32400|0,\"3102. Yeonhui Three-way Intersection\",37.56799698,126.93165588,5,7,true,false,false,12,false,0\\n1491,1644918610.1106765|-32400|0,\"3103. Hongje Three-way Intersection Northern Section\",37.58670044,126.94676971,8,2,true,false,false,10,false,0\\n1492,1644918610.1107411|-32400|0,\"3104. In front of e-Pyeonhansesang Sinchon Apt. Complex 4\",37.55812836,126.95620728,7,8,true,false,false,15,false,0\\n1493,1644918610.110806|-32400|0,\"3105. In front of Hongeun Centreville Apt.\",37.59714890,126.93852997,0,14,true,false,false,14,false,0\\n1644,1644918610.110871|-32400|0,\"3107. In front of Yeonhui Elementary School\",37.56962967,126.93331146,1,8,true,false,false,9,false,0\\n2194,1644918610.1109374|-32400|0,\"3109.북한산더샾 106동 앞\",37.59293365,126.94129181,3,12,true,false,false,15,false,0\\n2195,1644918610.1110044|-32400|0,\"3110.홍은 현대아이파크 아파트 202동 앞\",37.58928299,126.93694305,0,15,true,false,false,15,false,0\\n2196,1644918610.1110713|-32400|0,\"3111.무악재역 4번 출구\",37.58221054,126.95016479,1,9,true,false,false,10,false,0\\n2199,1644918610.1111434|-32400|0,\"3113.독립문역사거리\",37.57220459,126.95974731,11,14,true,false,false,25,false,0\\n2198,1644918610.1112108|-32400|0,\"3114.충정로역 3번 출구\",37.56046295,126.96552277,0,12,true,false,false,12,false,0\\n2200,1644918610.1112778|-32400|0,\"3115.북아현 치안센터 인근\",37.56145477,126.95574951,3,17,true,false,false,20,false,0\\n2201,1644918610.111345|-32400|0,\"3116.신촌역 4번출구\",37.55550385,126.93720245,4,6,true,false,false,10,false,0\\n2202,1644918610.1114204|-32400|0,\"3117.이화여대 인문관 인근\",37.56406784,126.94532776,17,0,true,false,false,10,false,0\\n2204,1644918610.11149|-32400|0,\"3119.연희 브라운스톤 아파트 앞\",37.56519699,126.92985535,3,7,true,false,false,10,false,0\\n2205,1644918610.111557|-32400|0,\"3120.DMC엘가아파트 앞\",37.56983566,126.91809082,3,9,true,false,false,12,false,0\\n2206,1644918610.1116252|-32400|0,\"3121.가좌삼거리\",37.57065201,126.91298676,29,0,true,false,false,15,false,0\\n2207,1644918610.1116972|-32400|0,\"3122.북가좌삼거리2\",37.57428360,126.90646362,1,29,true,false,false,30,false,0\\n2208,1644918610.1117642|-32400|0,\"3123.DMC파크뷰자이1단지 110동 앞\",37.57238770,126.91510773,4,26,true,false,false,30,false,0\\n2209,1644918610.1118317|-32400|0,\"3124.DMC센트럴아이파크아파트\",37.57812119,126.92175293,0,20,true,false,false,20,false,0\\n2210,1644918610.1118994|-32400|0,\"3125.연희파크푸르지오아파트 앞\",37.57564163,126.92782593,7,8,true,false,false,15,false,0\\n2211,1644918610.1119661|-32400|0,\"3126.남가좌동 제2공영주차장\",37.58334351,126.92274475,0,10,true,false,false,10,false,0\\n2212,1644918610.1120331|-32400|0,\"3127.홍은2파출소 옆\",37.58333588,126.93628693,6,4,true,false,false,10,false,0\\n2213,1644918610.1121|-32400|0,\"3128.동신병원 맞은편\",37.58131790,126.93599701,16,0,true,false,false,7,false,0\\n2214,1644918610.112167|-32400|0,\"3129.DMC래미안e편한세상203동옆\",37.57626343,126.91132355,2,18,true,false,false,20,false,0\\n2215,1644918610.1122353|-32400|0,\"3130.가재울사거리\",37.57456207,126.91799164,12,8,true,false,false,20,false,0\\n2216,1644918610.112304|-32400|0,\"3131.연가교 교차로\",37.57215881,126.92118835,5,10,true,false,false,15,false,0\\n2217,1644918610.1123707|-32400|0,\"3132.홍제교\",37.59186172,126.94421387,5,15,true,false,false,20,false,0\\n2219,1644918610.112438|-32400|0,\"3134.SK리쳄블(상수도사업본부)\",37.56131744,126.96658325,10,0,true,false,false,10,false,0\\n1972,1644918610.1125042|-32400|0,\"3201.당산skv1센터\",37.53073502,126.89916992,3,6,true,false,false,9,false,0\\n1973,1644918610.1125774|-32400|0,\"3202.당산롯데캐슬프레스티지\",37.52869034,126.90386200,4,11,true,false,false,15,false,0\\n1974,1644918610.1126442|-32400|0,\"3203.도림동배드민턴체육관\",37.50611496,126.89859009,7,3,true,false,false,10,false,0\\n1975,1644918610.1127114|-32400|0,\"3204.도림고가도로 밑\",37.51124191,126.89818573,10,0,true,false,false,10,false,0\\n1976,1644918610.1128008|-32400|0,\"3205.문래현대2차\",37.52021790,126.88216400,10,0,true,false,false,10,false,0\\n1977,1644918610.1128702|-32400|0,\"3206.문래동 주민센터\",37.51707077,126.89908600,21,0,true,false,false,15,false,0\\n1978,1644918610.1129441|-32400|0,\"3207.양남사거리1\",37.52182770,126.88972473,8,2,true,false,false,10,false,0\\n1982,1644918610.1130111|-32400|0,\"3211.신길 래미안 프레비뉴\",37.50438309,126.90808868,1,19,true,false,false,20,false,0\\n1983,1644918610.1130784|-32400|0,\"3212.신풍역 6번출구\",37.50017166,126.91130829,4,6,true,false,false,10,false,0\\n1985,1644918610.113169|-32400|0,\"3214.영등포 푸르지오\",37.51202393,126.90105438,5,5,true,false,false,10,false,0\\n1986,1644918610.1132383|-32400|0,\"3215.강변삼성래미안\",37.52974319,126.90782928,10,5,true,false,false,15,false,0\\n1990,1644918610.1133056|-32400|0,\"3219.영등포역 2번출구\",37.51487350,126.90758514,40,0,true,false,false,10,false,0\\n1991,1644918610.1133733|-32400|0,\"3220.래미안에스티움 앞 (신풍로)\",37.50013733,126.91397858,20,0,true,false,false,20,false,0\\n1992,1644918610.1134408|-32400|0,\"3221.서울특별시 남부교육지원청\",37.51933289,126.89530182,11,0,true,false,false,10,false,0\\n2390,1644918610.113507|-32400|0,\"3306.서울신우초등학교\",37.46214676,126.93177795,5,5,true,false,false,10,false,0\\n2391,1644918610.1135738|-32400|0,\"3307.봉천고개 육교\",37.49122620,126.95607758,12,3,true,false,false,15,false,0\\n2393,1644918610.113641|-32400|0,\"3310.영락고등학교\",37.47662735,126.94364166,0,15,true,false,false,15,false,0\\n2394,1644918610.1137078|-32400|0,\"3311.서울대입구역 4번 출구\",37.48122025,126.95157623,7,5,true,false,false,12,false,0\\n1798,1644918610.1137748|-32400|0,\"3401.창신두산아파트\",37.57376099,127.01393890,8,2,true,false,false,10,false,0\\n1799,1644918610.1138418|-32400|0,\"3402.이화공영주차장\",37.57660675,127.00556946,6,4,true,false,false,10,false,0\\n1800,1644918610.1139083|-32400|0,\"3403.서울특별시 교육청\",37.56950760,126.96701050,8,2,true,false,false,10,false,0\\n1801,1644918610.1139755|-32400|0,\"3404.서울특별시 중부교육지원청\",37.57185364,127.00235748,4,11,true,false,false,15,false,0\\n1802,1644918610.1140451|-32400|0,\"3405.파크팰리스\",37.57455063,126.97055054,20,0,true,false,false,12,false,0\\n1803,1644918610.1141121|-32400|0,\"3406.세종로공원\",37.57405853,126.97579956,0,20,true,false,false,20,false,0\\n1804,1644918610.1141791|-32400|0,\"3407.안국동사거리(신)\",37.57580566,126.98339081,13,2,true,false,false,15,false,0\\n1805,1644918610.114248|-32400|0,\"3408.종로타워빌딩\",37.57051086,126.98336792,12,1,true,false,false,13,false,0\\n1807,1644918610.1143148|-32400|0,\"3410.종로3가역 8번출구\",37.57246780,126.99188995,5,5,true,false,false,10,false,0\\n1808,1644918610.1143823|-32400|0,\"3411.종묘\",37.57070160,126.99481201,0,10,true,false,false,10,false,0\\n1809,1644918610.1144488|-32400|0,\"3412.세운상가\",37.57031250,126.99454498,3,12,true,false,false,15,false,0\\n1810,1644918610.1145153|-32400|0,\"3413.종로플레이스\",37.57320023,126.99796295,9,6,true,false,false,15,false,0\\n1811,1644918610.114582|-32400|0,\"3414.종로5가역 4번출구\",37.57117462,127.00222778,4,6,true,false,false,10,false,0\\n1812,1644918610.1146498|-32400|0,\"3415.동대문역6번출구\",37.57146072,127.01078796,11,4,true,false,false,15,false,0\\n1813,1644918610.1147168|-32400|0,\"3416.동묘앞역 6번출구\",37.57153320,127.01561737,6,9,true,false,false,15,false,0\\n1814,1644918610.1147833|-32400|0,\"3417.창신3동주민센터\",37.57772446,127.01525116,9,3,true,false,false,12,false,0\\n1815,1644918610.1148503|-32400|0,\"3418.창신역2번 출구\",37.57998657,127.01506042,0,10,true,false,false,10,false,0\\n1816,1644918610.1149168|-32400|0,\"3419.국립어린이과학관\",37.58194733,126.99736786,5,9,true,false,false,14,false,0\\n1817,1644918610.1149843|-32400|0,\"3420.성균관대입구사거리(맥도날드)\",37.58327484,126.99885559,12,0,true,false,false,10,false,0\\n1818,1644918610.1150513|-32400|0,\"3421.혜화역 1번출구\",37.58385468,127.00185394,11,0,true,false,false,10,false,0\\n1819,1644918610.1151185|-32400|0,\"3422.성균관대 정문\",37.58479691,126.99713135,5,15,true,false,false,20,false,0\\n1820,1644918610.1151857|-32400|0,\"3423.현대그룹(본사)\",37.57583618,127.00069427,6,14,true,false,false,20,false,0\\n1822,1644918610.115253|-32400|0,\"3425.광화문 풍림스페이스본 1단지앞\",37.57529068,126.96895599,10,0,true,false,false,7,false,0\\n1823,1644918610.115321|-32400|0,\"3426.독립문역 2번출구 뒤\",37.57501602,126.95755005,11,0,true,false,false,10,false,0\\n1824,1644918610.1153874|-32400|0,\"3427.인왕산 아이파크 정문\",37.57666779,126.95584869,6,7,true,false,false,13,false,0\\n1825,1644918610.1155338|-32400|0,\"3428.서울미술관\",37.59512711,126.96349335,5,5,true,false,false,10,false,0\\n1826,1644918610.115603|-32400|0,\"3429.AW컨벤션앞\",37.59725952,126.96308899,6,9,true,false,false,15,false,0\\n1827,1644918610.1156697|-32400|0,\"3430.구기치안센터 앞\",37.60950089,126.95668030,4,4,true,false,false,8,false,0\\n1828,1644918610.1157374|-32400|0,\"3431.로제우스 레포츠센터\",37.60760117,126.95768738,9,1,true,false,false,10,false,0\\n1829,1644918610.1158044|-32400|0,\"3432.종로2가 사거리\",37.56999207,126.98834229,12,3,true,false,false,15,false,0\\n983,1644918610.11587|-32400|0,\"3500. Exit 2 of Gunja Station\",37.55758667,127.07969666,4,8,true,false,false,12,false,0\\n984,1644918610.1159358|-32400|0,\"3501. In front of Gwangjin-gu Office\",37.53950119,127.08300018,2,10,true,false,false,12,false,0\\n985,1644918610.1160004|-32400|0,\"3502. Exit 1 of Junggok Station\",37.56565857,127.08429718,7,8,true,false,false,15,false,0\\n986,1644918610.116066|-32400|0,\"3503. Gwangjin Eugene Swell\",37.55048752,127.10895538,12,4,true,false,false,16,false,0\\n987,1644918610.1161315|-32400|0,\"3504. Wonil Church\",37.53805161,127.07659912,4,6,true,false,false,10,false,0\\n988,1644918610.116197|-32400|0,\"3505. Sinyang Elementary School Intersection\",37.53522110,127.06839752,1,13,true,false,false,14,false,0\\n1191,1644918610.1162982|-32400|0,\"3506. Northern end of Yeongdongdaegyo Bridge\",37.53701401,127.06109619,3,9,true,false,false,12,false,0\\n1192,1644918610.1163673|-32400|0,\"3507. Children\\'s Center\",37.54595184,127.07800293,13,14,true,false,false,27,false,0\\n1193,1644918610.116433|-32400|0,\"3508. Hwayang Four-way Intersection\",37.54822159,127.06787872,0,7,true,false,false,7,false,0\\n1194,1644918610.1164982|-32400|0,\"3509. Sejong Cyber University\",37.55341721,127.07319641,7,13,true,false,false,20,false,0\\n1427,1644918610.1165628|-32400|0,\"3510. In front of Junggok SK Apartment\",37.56864929,127.08625031,1,11,true,false,false,12,false,0\\n1195,1644918610.1166282|-32400|0,\"3511. Exit 1 of Eungbong Station\",37.55125046,127.03510284,7,5,true,false,false,12,false,0\\n1197,1644918610.116693|-32400|0,\"3513. Exit 1 of Sangwangsimni Station\",37.56460953,127.02919769,4,8,true,false,false,12,false,0\\n1198,1644918610.1167579|-32400|0,\"3514. Next to the Wangsimni Church\",37.56626129,127.02369690,3,9,true,false,false,12,false,0\\n1199,1644918610.116823|-32400|0,\"3515. Seoul Forest Management Office\",37.54281616,127.04208374,26,0,true,false,false,22,false,0\\n1271,1644918610.1168883|-32400|0,\"3516. In front of Guui Arisu Water Purification Center\",37.54370499,127.09324646,0,12,true,false,false,12,false,0\\n1266,1644918610.1169538|-32400|0,\"3517. Yongma Four-way Intersection\",37.56252670,127.08227539,9,3,true,false,false,12,false,0\\n1263,1644918610.1170194|-32400|0,\"3518. Behind Exit 7 of Gunja Station\",37.55686188,127.07913971,10,0,true,false,false,10,false,0\\n1378,1644918610.1170845|-32400|0,\"3520. Gwangjin Police Station\",37.54251862,127.08408356,1,11,true,false,false,12,false,0\\n1379,1644918610.117149|-32400|0,\"3521. Back Street of Hyundai Home Town Apartments\",37.54342651,127.09661865,1,11,true,false,false,12,false,0\\n1429,1644918610.1172137|-32400|0,\"3523. In front of Konkuk University Science Bldg. (College of Sciences)\",37.54171753,127.08016968,6,6,true,false,false,12,false,0\\n1428,1644918610.1172786|-32400|0,\"3524. Sejong University\",37.55023575,127.07382202,11,1,true,false,false,12,false,0\\n1599,1644918610.1173434|-32400|0,\"3525. In front of Geumho Sports Center\",37.54608917,127.02507019,8,9,true,false,false,17,false,0\\n1601,1644918610.1174319|-32400|0,\"3527. Wangsimni Xi Apartment Complex\",37.56179047,127.02439117,0,7,true,false,false,7,false,0\\n1602,1644918610.1174982|-32400|0,\"3528. Gwangjin Public Library\",37.55059814,127.11051178,9,1,true,false,false,10,false,0\\n1603,1644918610.1175635|-32400|0,\"3529. Seoul Children’s Grand Park Entrance\",37.54978943,127.07592773,3,14,true,false,false,17,false,0\\n1616,1644918610.1176305|-32400|0,\"3530. Back Gate of Wangsimni Xi Apartment Complex (Three-way Intersection)\",37.56014633,127.02635956,13,4,true,false,false,17,false,0\\n1617,1644918610.1176956|-32400|0,\"3531. Nongol Four-way Intersection (Geumho Library Entrance)\",37.55477905,127.02484131,6,6,true,false,false,12,false,0\\n1618,1644918610.1177597|-32400|0,\"3532. Wangsimni KCC Switzen Apartment Complex\",37.56068039,127.02677917,0,12,true,false,false,12,false,0\\n1660,1644918610.1178265|-32400|0,\"3533. Konkuk University Station Four-way Intersection (Lotte Department Store)\",37.53913879,127.07061768,9,3,true,false,false,12,false,0\\n1661,1644918610.1178916|-32400|0,\"3534. Behind Exit 5 of Konkuk University Station\",37.54013824,127.06928253,10,4,true,false,false,14,false,0\\n1663,1644918610.117956|-32400|0,\"3536. Jungang Nonghyup (Jayang-dong)\",37.53181076,127.08074188,4,8,true,false,false,12,false,0\\n1664,1644918610.118021|-32400|0,\"3537. Next to the Achasan Humansia Apartment Complex\",37.54848862,127.09375763,10,7,true,false,false,17,false,0\\n1659,1644918610.1180856|-32400|0,\"3538. Seoul Forest IT Castle\",37.55089188,127.04476166,0,16,true,false,false,16,false,0\\n1686,1644918610.1181507|-32400|0,\"3539. Seowon Village\",37.56379318,127.13283539,8,4,true,false,false,12,false,0\\n1690,1644918610.1182153|-32400|0,\"3541. Common Ground\",37.54124832,127.06604004,4,18,true,false,false,22,false,0\\n1722,1644918610.1182802|-32400|0,\"3542. Raemian Guui Park Sweet\",37.54504013,127.08995819,2,17,true,false,false,19,false,0\\n1760,1644918610.1183472|-32400|0,\"3543. 세종대학교(학술정보원)\",37.55137253,127.07444000,1,16,true,false,false,17,false,0\\n2326,1644918610.1184149|-32400|0,\"3544.한양대역 3번 출구\",37.55453873,127.04377747,8,2,true,false,false,10,false,0\\n2327,1644918610.1184833|-32400|0,\"3545.한양대역 1번출구\",37.55657959,127.04335785,2,8,true,false,false,10,false,0\\n2329,1644918610.1185503|-32400|0,\"3547.상왕십리역 6번 출입구\",37.56438065,127.02886963,6,6,true,false,false,12,false,0\\n2330,1644918610.1186168|-32400|0,\"3548.뚝섬역 6번출구\",37.54695892,127.04766846,11,0,true,false,false,10,false,0\\n2331,1644918610.1186836|-32400|0,\"3549.건영아파트 앞\",37.55514145,127.07110596,16,0,true,false,false,9,false,0\\n2332,1644918610.1187518|-32400|0,\"3550.금호나들목\",37.54404068,127.02320099,3,17,true,false,false,20,false,0\\n2333,1644918610.1188183|-32400|0,\"3551.성동도로사업소\",37.55979919,127.05632782,12,3,true,false,false,15,false,0\\n2334,1644918610.118885|-32400|0,\"3552.서울숲 공영주차장앞\",37.54195786,127.04277039,11,0,true,false,false,10,false,0\\n2335,1644918610.118952|-32400|0,\"3553.마장역3번출구\",37.56597900,127.04311371,1,9,true,false,false,10,false,0\\n2337,1644918610.1190188|-32400|0,\"3555.양지사거리(센트라스APT 115동앞)\",37.56681824,127.02915192,12,8,true,false,false,20,false,0\\n2338,1644918610.119086|-32400|0,\"3556.신금호파크자이APT앞\",37.55610657,127.01978302,3,12,true,false,false,15,false,0\\n2339,1644918610.1191535|-32400|0,\"3557.서울숲리버뷰자이APT105동 앞\",37.55653000,127.03913116,4,4,true,false,false,8,false,0\\n2340,1644918610.1192207|-32400|0,\"3558.마장동 금호어울림APT앞\",37.56339645,127.04187012,0,10,true,false,false,10,false,0\\n2341,1644918610.1192877|-32400|0,\"3559.성동구민종합체육센터 앞\",37.54590988,127.04460144,21,0,true,false,false,10,false,0\\n2342,1644918610.1193545|-32400|0,\"3560.성동구 견인차량 보관소 앞\",37.56370926,127.05644989,1,9,true,false,false,10,false,0\\n2343,1644918610.1194334|-32400|0,\"3561.행당동 삼부APT후문\",37.55926895,127.03839874,2,8,true,false,false,10,false,0\\n2302,1644918610.1195018|-32400|0,\"3563.구의7단지현대아파트\",37.53680038,127.09083557,5,0,true,false,false,5,false,0\\n2303,1644918610.119569|-32400|0,\"3564.나루마당\",37.54707336,127.09828949,22,0,true,false,false,20,false,0\\n2305,1644918610.119636|-32400|0,\"3566.우성4차아파트\",37.53507233,127.07611084,1,9,true,false,false,10,false,0\\n2308,1644918610.1197278|-32400|0,\"3569.건대병원후문\",37.53956604,127.07244110,24,0,true,false,false,10,false,0\\n2309,1644918610.119797|-32400|0,\"3570.구의역 리버비스타 오피스텔\",37.53809738,127.08901978,8,2,true,false,false,10,false,0\\n2310,1644918610.119865|-32400|0,\"3571.화양 APT(횡단보도 옆)\",37.54434967,127.06540680,2,13,true,false,false,15,false,0\\n2312,1644918610.1199317|-32400|0,\"3573.광나루안전체험관\",37.55133820,127.07671356,6,9,true,false,false,15,false,0\\n2314,1644918610.12|-32400|0,\"3575.자양사거리 (LG 유플러스)\",37.53657532,127.08258057,3,3,true,false,false,6,false,0\\n2317,1644918610.1200671|-32400|0,\"3578.중곡동 파크웨이빌딩\",37.55500793,127.08581543,5,4,true,false,false,9,false,0\\n2318,1644918610.1201336|-32400|0,\"3579.광진 캠퍼스시티\",37.54788971,127.06745148,6,14,true,false,false,20,false,0\\n2320,1644918610.1202004|-32400|0,\"3581.광진광장\",37.54747009,127.07396698,11,4,true,false,false,15,false,0\\n2321,1644918610.1202672|-32400|0,\"3582.화양동 우체국\",37.54798889,127.06950378,3,11,true,false,false,14,false,0\\n2325,1644918610.1203344|-32400|0,\"3586.군자역 비채온 오피스텔\",37.55771255,127.07727051,13,0,true,false,false,8,false,0\\n2407,1644918610.120401|-32400|0,\"3587.우성식품 앞\",37.54246521,127.09423065,1,14,true,false,false,15,false,0\\n2408,1644918610.1204677|-32400|0,\"3588.세종대학교(영실관)\",37.55237198,127.07353973,3,7,true,false,false,10,false,0\\n2420,1644918610.120535|-32400|0,\"3600.사근빗물펌프장 건너편\",37.56119156,127.04968262,2,5,true,false,false,7,false,0\\n2474,1644918610.1206017|-32400|0,\"3602. 한국지역난방공사강남지사\",37.49229431,127.09433746,9,0,true,false,false,5,false,0\\n2671,1644918610.1206682|-32400|0,\"3604. 삼성중앙역 5번출구\",37.51311111,127.05390930,3,7,true,false,false,10,false,0\\n2673,1644918610.1207354|-32400|0,\"3606. 신사동주민센터 옆\",37.52422714,127.02285004,12,0,true,false,false,10,false,0\\n2674,1644918610.1208017|-32400|0,\"3609. 언주초등학교 입구\",37.48536682,127.03849792,4,6,true,false,false,10,false,0\\n2675,1644918610.1208684|-32400|0,\"3610. 윗반마을 입구\",37.46534729,127.10880280,11,0,true,false,false,10,false,0\\n2676,1644918610.1209357|-32400|0,\"3611. 방죽마을 입구\",37.47123337,127.10721588,1,15,true,false,false,16,false,0\\n2677,1644918610.1210022|-32400|0,\"3612. 은곡마을\",37.46726227,127.09801483,8,2,true,false,false,10,false,0\\n2678,1644918610.1210692|-32400|0,\"3614. 은마아파트 입구 사거리\",37.49840164,127.06093597,5,5,true,false,false,10,false,0\\n2679,1644918610.121136|-32400|0,\"3615. 서울 논현동우체국 앞\",37.51446152,127.03260040,5,5,true,false,false,10,false,0\\n2680,1644918610.1212037|-32400|0,\"3616. 역삼중학교 앞(체육관 방향)\",37.49526215,127.04950714,2,8,true,false,false,10,false,0\\n2681,1644918610.1212704|-32400|0,\"3618. 서울율현초교 삼거리\",37.47364044,127.10702515,4,6,true,false,false,10,false,0\\n2682,1644918610.1213372|-32400|0,\"3620. 청담역 11번 출구\",37.51925659,127.05159760,11,0,true,false,false,10,false,0\\n2683,1644918610.121404|-32400|0,\"3621. 휘문고교 사거리\",37.50286484,127.06594086,9,1,true,false,false,10,false,0\\n2684,1644918610.1214712|-32400|0,\"3622. 은마아파트입구 사거리\",37.49986649,127.06050110,1,6,true,false,false,7,false,0\\n2685,1644918610.1215377|-32400|0,\"3623. 일원에코파크 앞(개포로 방면)\",37.49587631,127.08650208,3,7,true,false,false,10,false,0\\n2686,1644918610.1216052|-32400|0,\"3624. 대모산입구역 7번 출구 앞\",37.49017715,127.07305908,3,7,true,false,false,10,false,0\\n2688,1644918610.1216714|-32400|0,\"3627. 압구정나들목\",37.53075027,127.04160309,3,7,true,false,false,10,false,0\\n2689,1644918610.121738|-32400|0,\"3628. 역삼1동 주민센터\",37.49500275,127.03294373,4,6,true,false,false,10,false,0\\n2690,1644918610.1218286|-32400|0,\"3629. 청담사거리(신한오피스텔빌딩 앞)\",37.52416229,127.04895020,5,5,true,false,false,10,false,0\\n2691,1644918610.1218977|-32400|0,\"3630. 개포우성6차아파트 정문 앞\",37.47685623,127.05536652,6,0,true,false,false,5,false,0\\n2788,1644918610.1219652|-32400|0,\"3634. 국악고교 앞 교차로\",37.47402191,127.04844666,2,3,true,false,false,5,false,0\\n2837,1644918610.122033|-32400|0,\"3636. 삼성중앙역·플래티넘아파트 정류소\",37.51264191,127.05156708,0,15,true,false,false,15,false,0\\n2838,1644918610.1220999|-32400|0,\"3637. 세곡데이케어센터\",37.46072388,127.10287476,6,4,true,false,false,10,false,0\\n2839,1644918610.1221673|-32400|0,\"3638. 신청담나들목\",37.52796173,127.05162811,0,5,true,false,false,5,false,0\\n2847,1644918610.1222346|-32400|0,\"3640. 일원1동주민센터앞 사거리\",37.49073029,127.08811188,1,6,true,false,false,7,false,0\\n2867,1644918610.1223016|-32400|0,\"3641. 대청역\",37.49370575,127.07999420,3,7,true,false,false,10,false,0\\n2907,1644918610.1223683|-32400|0,\"3642. LH강남힐스테이트아파트\",37.47092819,127.08970642,9,1,true,false,false,10,false,0\\n2868,1644918610.122457|-32400|0,\"3643. K2 KOREA\",37.47267914,127.10375977,0,5,true,false,false,5,false,0\\n2869,1644918610.1225252|-32400|0,\"3644. 상록수아파트\",37.48276138,127.08042145,6,0,true,false,false,5,false,0\\n2882,1644918610.1225927|-32400|0,\"3646. 선정릉역 4번 출구\",37.50978470,127.04277039,1,6,true,false,false,7,false,0\\n2925,1644918610.12266|-32400|0,\"3647. 구룡역 1번 출구\",37.48642349,127.05931854,6,4,true,false,false,10,false,0\\n2926,1644918610.1227274|-32400|0,\"3648. 구룡역 4번 출구\",37.48670578,127.06050110,0,5,true,false,false,5,false,0\\n2927,1644918610.1227942|-32400|0,\"3649. 구룡역 5번 출구\",37.48607635,127.05921936,5,1,true,false,false,6,false,0\\n2424,1644918610.1228611|-32400|0,\"3652. 한영외국어고등학교\",37.54883575,127.15617371,0,10,true,false,false,10,false,0\\n2567,1644918610.1229281|-32400|0,\"3653. 강동리버스트4단지아파트 404동 앞\",37.57201385,127.17170715,7,3,true,false,false,10,false,0\\n2568,1644918610.1229954|-32400|0,\"3654. 강동리버스트4단지아파트 405동 앞\",37.57201767,127.17295074,6,4,true,false,false,10,false,0\\n2457,1644918610.123063|-32400|0,\"3655. 둔촌신성미소지움아파트\",37.52726364,127.14233398,1,14,true,false,false,15,false,0\\n2747,1644918610.1231303|-32400|0,\"3656. 둔촌푸르지오아파트\",37.53407288,127.14500427,11,9,true,false,false,20,false,0\\n2732,1644918610.123197|-32400|0,\"3657. 서울천호동우체국\",37.54074097,127.12576294,11,1,true,false,false,12,false,0\\n2733,1644918610.1232636|-32400|0,\"3658. 프라이어팰리스아파트\",37.55468750,127.13940430,5,5,true,false,false,10,false,0\\n2734,1644918610.12333|-32400|0,\"3659. 명일초등학교 옆\",37.55464554,127.14253235,1,9,true,false,false,10,false,0\\n2736,1644918610.123397|-32400|0,\"3661. 명일동신동아아파트 앞\",37.55483246,127.15173340,1,9,true,false,false,10,false,0\\n2737,1644918610.1234746|-32400|0,\"3663. 암사정수센터교차로(강동롯데캐슬퍼스트아파트)\",37.55845642,127.14415741,7,3,true,false,false,10,false,0\\n2738,1644918610.123543|-32400|0,\"3664. 맥도날드 서울둔촌DT점 앞\",37.52958679,127.13703156,12,0,true,false,false,12,false,0\\n2739,1644918610.1236098|-32400|0,\"3665. 고덕센트럴 아이파크상가 앞\",37.55058289,127.16542053,3,9,true,false,false,12,false,0\\n2740,1644918610.1236782|-32400|0,\"3668. 성내삼성아파트\",37.53144073,127.12696075,6,6,true,false,false,12,false,0\\n2742,1644918610.1237454|-32400|0,\"3671. 둔촌동역교차로\",37.52920532,127.13680267,14,0,true,false,false,10,false,0\\n2802,1644918610.1238127|-32400|0,\"3672. 고덕중학교 후문\",37.56066513,127.16128540,3,7,true,false,false,10,false,0\\n2743,1644918610.1238794|-32400|0,\"3673. 강동리버스트6단지\",37.57095337,127.17174530,10,0,true,false,false,10,false,0\\n2744,1644918610.1239474|-32400|0,\"3674. 강동리버스트7단지\",37.57073975,127.17215729,3,7,true,false,false,10,false,0\\n2745,1644918610.124014|-32400|0,\"3675. 강동리버스트8단지\",37.57180405,127.17446899,8,12,true,false,false,20,false,0\\n2696,1644918610.124081|-32400|0,\"3676. 강동리엔파크9단지\",37.55736542,127.18013763,11,0,true,false,false,10,false,0\\n2746,1644918610.1241481|-32400|0,\"3677. 강동구음식물재활용센터\",37.56953812,127.15859985,1,5,true,false,false,6,false,0\\n2748,1644918610.1242156|-32400|0,\"3680. 강동역3번출구\",37.53541565,127.13309479,6,0,true,false,false,6,false,0\\n2749,1644918610.1242826|-32400|0,\"3681. 길동 마루빌딩\",37.53676987,127.13954926,0,10,true,false,false,10,false,0\\n2750,1644918610.1243494|-32400|0,\"3682. 길동 동호빌딩\",37.54154587,127.14147949,2,4,true,false,false,6,false,0\\n2751,1644918610.1244164|-32400|0,\"3683. KT&G강동지사\",37.54370880,127.14228058,2,8,true,false,false,10,false,0\\n2854,1644918610.124483|-32400|0,\"3684. 고덕자이(105동 앞)\",37.55361176,127.17203522,5,5,true,false,false,10,false,0\\n2697,1644918610.1245503|-32400|0,\"3685. 강동리엔파크14단지(1401동 앞)\",37.55212402,127.18064117,14,1,true,false,false,15,false,0\\n2862,1644918610.1246176|-32400|0,\"3686. 고덕 래미안 힐스테이트(101동)\",37.55885696,127.15148926,11,0,true,false,false,8,false,0\\n2840,1644918610.1246846|-32400|0,\"3687. 신명초교입구 교차로\",37.54076767,127.14688110,0,4,true,false,false,4,false,0\\n2841,1644918610.1247516|-32400|0,\"3688. 상일동산(동아아파트앞 교차로)\",37.54581833,127.16688538,5,5,true,false,false,10,false,0\\n2908,1644918610.1248188|-32400|0,\"3689. 강일역 3번출구\",37.55740356,127.17653656,4,16,true,false,false,20,false,0\\n2909,1644918610.1248858|-32400|0,\"3690. 강일역 4번출구\",37.55707169,127.17514038,6,17,true,false,false,23,false,0\\n2928,1644918610.124953|-32400|0,\"3691. 둔촌역 2번출구\",37.52722931,127.13635254,7,13,true,false,false,20,false,0\\n2929,1644918610.1250205|-32400|0,\"3692. 둔촌오륜역 1번 출구\",37.51960373,127.13871002,0,10,true,false,false,10,false,0\\n2966,1644918610.125087|-32400|0,\"3694. 강동리엔파크 11단지\",37.55408859,127.17962646,6,8,true,false,false,14,false,0\\n2458,1644918610.1251779|-32400|0,\"3703. 신성교회 앞\",37.61708832,127.02809906,3,7,true,false,false,10,false,0\\n2459,1644918610.125247|-32400|0,\"3707. 드래곤타워 앞\",37.63713455,127.03137970,2,8,true,false,false,10,false,0\\n2460,1644918610.1253145|-32400|0,\"3711. 월계2교 교차로\",37.62422180,127.04921722,7,3,true,false,false,10,false,0\\n2461,1644918610.1253824|-32400|0,\"3714. 송천센트레빌\",37.61220932,127.02497864,0,10,true,false,false,10,false,0\\n2610,1644918610.1254494|-32400|0,\"3718. 번동 SK LPG 충전소\",37.62868500,127.04390717,0,8,true,false,false,8,false,0\\n2476,1644918610.1255162|-32400|0,\"3753. 공항중학교 버스정류장\",37.56113434,126.81610107,3,7,true,false,false,10,false,0\\n2611,1644918610.125584|-32400|0,\"3754. 신방화역 8번출구\",37.56740570,126.81621552,9,1,true,false,false,10,false,0\\n2477,1644918610.1256604|-32400|0,\"3756. 마곡힐스테이트 정문\",37.56497574,126.81740570,6,4,true,false,false,10,false,0\\n2857,1644918610.1257288|-32400|0,\"3757. 신방화역 6번출구\",37.56692886,126.81684113,6,4,true,false,false,10,false,0\\n2858,1644918610.125797|-32400|0,\"3758. 서울남부출입국관리소\",37.56059265,126.82084656,20,0,true,false,false,10,false,0\\n2569,1644918610.1258655|-32400|0,\"3759. 서울이대병원\",37.55863190,126.83559418,1,9,true,false,false,10,false,0\\n2538,1644918610.125934|-32400|0,\"3760. 발산역 8번 출구\",37.55846024,126.83676147,1,9,true,false,false,10,false,0\\n2478,1644918610.1260018|-32400|0,\"3761. 나이아가라관광호텔\",37.54903030,126.87836456,9,1,true,false,false,10,false,0\\n2831,1644918610.1260703|-32400|0,\"3762. 마곡9단지 907동앞\",37.56068420,126.81918335,12,0,true,false,false,10,false,0\\n2479,1644918610.1261399|-32400|0,\"3763. 등촌태영아파트\",37.55603027,126.86429596,5,5,true,false,false,10,false,0\\n2613,1644918610.1262083|-32400|0,\"3764. 관문주유소(GS칼택스) 앞\",37.55802917,126.84183502,4,6,true,false,false,10,false,0\\n2480,1644918610.1262805|-32400|0,\"3765. 문소빌딩\",37.54555511,126.84449768,5,5,true,false,false,10,false,0\\n2539,1644918610.1263714|-32400|0,\"3766. 강서문화센터\",37.54457855,126.84378052,6,4,true,false,false,10,false,0\\n2481,1644918610.1264424|-32400|0,\"3767. 대원빌딩\",37.54536819,126.84470367,2,8,true,false,false,10,false,0\\n2550,1644918610.1265118|-32400|0,\"3769. 가양동 이마트 앞\",37.55713272,126.86314392,1,9,true,false,false,10,false,0\\n2752,1644918610.1265805|-32400|0,\"3770. 남부순환로 205\",37.54739761,126.82141113,5,5,true,false,false,10,false,0\\n2482,1644918610.1266491|-32400|0,\"3772. 길성그랑프리텔아파트\",37.56924820,126.81650543,5,5,true,false,false,10,false,0\\n2789,1644918610.126719|-32400|0,\"3774. 마곡9단지 910동 상가앞\",37.56108475,126.81679535,0,10,true,false,false,10,false,0\\n2483,1644918610.1267922|-32400|0,\"3775. 가양오토갤러리\",37.56644058,126.84430695,0,10,true,false,false,10,false,0\\n2484,1644918610.1268604|-32400|0,\"3776. 김포공항교차로\",37.56753540,126.80518341,8,2,true,false,false,10,false,0\\n2486,1644918610.1269288|-32400|0,\"3778. 김포공항입구 교차로\",37.56179428,126.80792999,6,4,true,false,false,10,false,0\\n2487,1644918610.1269996|-32400|0,\"3780. 등촌서광아파트\",37.55755234,126.85625458,10,0,true,false,false,10,false,0\\n2488,1644918610.1270688|-32400|0,\"3781. 강서아동복지센터\",37.58458328,126.81092072,10,10,true,false,false,20,false,0\\n2489,1644918610.1271367|-32400|0,\"3782. 겸재정선미술관\",37.57128906,126.83777618,7,3,true,false,false,10,false,0\\n2490,1644918610.127205|-32400|0,\"3783. 마곡금호어울림아파트\",37.57410049,126.83711243,5,5,true,false,false,10,false,0\\n2491,1644918610.1272733|-32400|0,\"3784. 벽산아파트\",37.57531738,126.83666992,18,0,true,false,false,10,false,0\\n2832,1644918610.1273427|-32400|0,\"3785. 마곡14단지 1408동앞\",37.55737305,126.82332611,1,19,true,false,false,20,false,0\\n2558,1644918610.127451|-32400|0,\"3786. 강서힐스테이트 상가 앞\",37.54663849,126.83657837,5,5,true,false,false,10,false,0\\n2492,1644918610.1275246|-32400|0,\"3787. 가양나들목\",37.57386398,126.84347534,9,6,true,false,false,15,false,0\\n2493,1644918610.1275938|-32400|0,\"3788. 정곡나들목\",37.58417130,126.81932831,2,13,true,false,false,15,false,0\\n2494,1644918610.1276624|-32400|0,\"3789. 염창나들목\",37.55680466,126.87155914,21,14,true,false,false,35,false,0\\n2551,1644918610.1277308|-32400|0,\"3792. 화곡본동시장 입구\",37.54382706,126.84368896,4,6,true,false,false,10,false,0\\n2552,1644918610.1278086|-32400|0,\"3793. 더리브골드타워\",37.56557083,126.84624481,10,0,true,false,false,10,false,0\\n2553,1644918610.1278753|-32400|0,\"3794. 안양천합수부(현대3차아파트)\",37.55224609,126.87648773,3,5,true,false,false,8,false,0\\n2554,1644918610.1279418|-32400|0,\"3795. 공항신성빌딩 앞\",37.56130981,126.81307220,7,1,true,false,false,8,false,0\\n2555,1644918610.1280086|-32400|0,\"3796. 송정역 3번출구 앞\",37.56096268,126.81269073,3,5,true,false,false,8,false,0\\n2556,1644918610.1280754|-32400|0,\"3797. 마곡수명산파크7단지 710동 앞\",37.54857254,126.82076263,7,3,true,false,false,10,false,0\\n2557,1644918610.1281679|-32400|0,\"3798. 그랜드아이파크아파트 앞\",37.55510712,126.85154724,2,9,true,false,false,11,false,0\\n2627,1644918610.1282363|-32400|0,\"3799. 국립항공박물관\",37.55688477,126.80926514,6,0,true,false,false,5,false,0\\n2790,1644918610.1283073|-32400|0,\"3801. 이랜드글로벌R&D센터\",37.56719208,126.83475494,7,3,true,false,false,10,false,0\\n2428,1644918610.128374|-32400|0,\"3802. 관악구민체육센터\",37.47288132,126.96003723,0,8,true,false,false,8,false,0\\n2614,1644918610.128441|-32400|0,\"3803. 세븐일레븐 신림점\",37.48313141,126.92135620,0,7,true,false,false,7,false,0\\n2615,1644918610.1285079|-32400|0,\"3804. 낙성대공원\",37.47183609,126.95861816,8,2,true,false,false,10,false,0\\n2616,1644918610.1285746|-32400|0,\"3806. 낙성대 교수아파트\",37.46895981,126.95765686,1,9,true,false,false,10,false,0\\n2617,1644918610.1286411|-32400|0,\"3807. 관악우체국 교차로\",37.48497391,126.93437195,0,12,true,false,false,12,false,0\\n2618,1644918610.128708|-32400|0,\"3810. 신봉천주유소\",37.47888184,126.95841980,0,10,true,false,false,10,false,0\\n2851,1644918610.1287746|-32400|0,\"3811.신사로입구\",37.48675156,126.92272186,2,8,true,false,false,10,false,0\\n2842,1644918610.1288416|-32400|0,\"3812. KT관악지점\",37.48163223,126.94718933,13,0,true,false,false,10,false,0\\n2872,1644918610.1289155|-32400|0,\"3813. 낙성대역 5번출구\",37.47752762,126.96276855,1,6,true,false,false,7,false,0\\n2873,1644918610.128982|-32400|0,\"3814. 난곡사거리 \",37.48204803,126.91524506,9,1,true,false,false,10,false,0\\n2948,1644918610.129048|-32400|0,\"3815. 광일빌딩\",37.47639847,126.97683716,2,5,true,false,false,7,false,0\\n2995,1644918610.129115|-32400|0,\"3816. 관악 GSfresh\",37.47909164,126.94941711,0,10,true,false,false,10,false,0\\n2996,1644918610.1291814|-32400|0,\"3818. 은천교회 앞\",37.48857117,126.92138672,1,9,true,false,false,10,false,0\\n2541,1644918610.129248|-32400|0,\"3853. 어린이대공원역 2번출구\",37.54764938,127.07470703,4,14,true,false,false,18,false,0\\n2542,1644918610.129315|-32400|0,\"3860. 건국대학교 정문 앞\",37.54651260,127.07571411,4,6,true,false,false,10,false,0\\n2543,1644918610.1293821|-32400|0,\"3863. 동일로58길 입구\",37.55775452,127.07297516,10,0,true,false,false,10,false,0\\n2544,1644918610.1294484|-32400|0,\"3864. 광진소방서 앞\",37.54500580,127.08337402,1,10,true,false,false,11,false,0\\n2545,1644918610.129515|-32400|0,\"3865. 이튼타워리버 2차\",37.53520966,127.06900024,5,3,true,false,false,8,false,0\\n2546,1644918610.129581|-32400|0,\"3868. 자양한강도서관\",37.52916336,127.07798767,2,8,true,false,false,10,false,0\\n2547,1644918610.1296492|-32400|0,\"3873. 동서울우편집중국 앞\",37.53470993,127.08447266,9,0,true,false,false,8,false,0\\n2548,1644918610.1297154|-32400|0,\"3878. 장로회신학대학교 주기철 기념관\",37.54983902,127.10302734,4,11,true,false,false,15,false,0\\n2843,1644918610.1297932|-32400|0,\"3879. 중랑천 뚝방길 산책로 입구\",37.56628036,127.07747650,6,1,true,false,false,7,false,0\\n2830,1644918610.1298609|-32400|0,\"3880. 홍련봉 공원\",37.54896927,127.09352875,11,0,true,false,false,10,false,0\\n2865,1644918610.12993|-32400|0,\"3881. 신자초교입구 교차로\",37.53298569,127.07579041,9,0,true,false,false,7,false,0\\n2891,1644918610.1299987|-32400|0,\"3882. 자양2동 주민센터\",37.52879333,127.08463287,1,3,true,false,false,4,false,0\\n3012,1644918610.130067|-32400|0,\"3886.광진구 민방위교육센터\",37.53919220,127.09801483,6,0,true,false,false,5,false,0\\n2462,1644918610.130135|-32400|0,\"3902. 항동지구5단지 501동 앞\",37.47829437,126.82506561,9,1,true,false,false,10,false,0\\n2463,1644918610.1302025|-32400|0,\"3903. 현대아파트 앞\",37.49333954,126.85917664,3,7,true,false,false,10,false,0\\n2464,1644918610.1302714|-32400|0,\"3904. 테크노마트 앞\",37.50624084,126.89114380,16,0,true,false,false,10,false,0\\n2465,1644918610.1303394|-32400|0,\"3905. 희훈타워빌 앞\",37.50191498,126.88924408,5,5,true,false,false,10,false,0\\n2435,1644918610.1304066|-32400|0,\"3906. 천왕차량사업소 입구\",37.47604752,126.84501648,4,4,true,false,false,8,false,0\\n2559,1644918610.1304748|-32400|0,\"3907. 신도림7차e편한세상아파트 806동 앞\",37.50862503,126.88353729,13,0,true,false,false,10,false,0\\n2753,1644918610.130543|-32400|0,\"3908. 오류동 다숲오피스텔 앞\",37.49267197,126.84162140,12,0,true,false,false,10,false,0\\n2828,1644918610.1306112|-32400|0,\"3910. 목양전원교회 앞 로터리\",37.48389053,126.82218170,10,0,true,false,false,10,false,0\\n2829,1644918610.1306798|-32400|0,\"3911. 항동하버리안2단지아파트 후문\",37.48337555,126.82247925,7,3,true,false,false,10,false,0\\n2855,1644918610.1307483|-32400|0,\"3912. 삼호아파트 앞\",37.49385834,126.85646820,2,8,true,false,false,10,false,0\\n2892,1644918610.1308162|-32400|0,\"3914. 신도림쌍용플래티넘노블아파트 앞\",37.50126266,126.89118195,5,5,true,false,false,10,false,0\\n2949,1644918610.130885|-32400|0,\"3915. 동선아파트 앞\",37.49382782,126.83907318,13,0,true,false,false,10,false,0\\n3037,1644918610.1309779|-32400|0,\"3917. 성공회대학교\",37.48859024,126.82478333,4,6,true,false,false,10,false,0\\n2997,1644918610.1310697|-32400|0,\"3918. 이좋은집오피스텔 앞\",37.49499130,126.84185028,7,3,true,false,false,10,false,0\\n3013,1644918610.1311405|-32400|0,\"3919. CGV구로 앞\",37.50096512,126.88237000,8,2,true,false,false,10,false,0\\n2637,1644918610.1312096|-32400|0,\"3956. 대륭테크노타운21차 앞\",37.46557617,126.88724518,5,5,true,false,false,10,false,0\\n2638,1644918610.1312783|-32400|0,\"3958. 롯데캐슬2차 마을버스 정류장(18804) 뒤편\",37.45739746,126.89341736,5,5,true,false,false,10,false,0\\n2639,1644918610.1313472|-32400|0,\"3959. 시흥사거리(시흥동 994-3 앞)\",37.45415115,126.90045166,14,0,true,false,false,10,false,0\\n2641,1644918610.1314254|-32400|0,\"3963. 에이스 하드웨어(시흥대로 396) 앞\",37.46865845,126.89826202,3,7,true,false,false,10,false,0\\n2642,1644918610.131497|-32400|0,\"3966. 독산역1번출구 옆\",37.46709442,126.88920593,21,0,true,false,false,8,false,0\\n2893,1644918610.1315653|-32400|0,\"3967. 혜명양로원 담장 옆(2)\",37.45191956,126.91375732,0,6,true,false,false,6,false,0\\n2894,1644918610.1316335|-32400|0,\"3968. 독산동 현대홈타운 금천과선교 앞\",37.46222305,126.89181519,2,8,true,false,false,10,false,0\\n2895,1644918610.131711|-32400|0,\"3969. 독산역 롯데캐슬 104동 앞\",37.46239853,126.89175415,5,5,true,false,false,10,false,0\\n2910,1644918610.1317775|-32400|0,\"3970. 시흥4동주민센터 앞\",37.45894241,126.90592957,3,3,true,false,false,6,false,0\\n2911,1644918610.1318445|-32400|0,\"3971. 순흥안씨묘 건너편\",37.45838165,126.90807343,12,0,true,false,false,11,false,0\\n2912,1644918610.1319113|-32400|0,\"3972. 산기슭공원 앞\",37.46272278,126.90721893,4,2,true,false,false,6,false,0\\n2913,1644918610.131978|-32400|0,\"3973. 독산2동주민센터 앞\",37.46298599,126.90370941,7,0,true,false,false,7,false,0\\n2931,1644918610.1320443|-32400|0,\"3974.  안천중학교\",37.45936584,126.88677979,5,5,true,false,false,10,false,0\\n3029,1644918610.1321106|-32400|0,\"3975.현대시티아울렛 가산\",37.47739792,126.88877869,8,2,true,false,false,10,false,0\\n2998,1644918610.132177|-32400|0,\"3977. 말미사거리\",37.46639633,126.89748383,6,0,true,false,false,5,false,0\\n2932,1644918610.1322446|-32400|0,\"3983. 금천구청역 1번 출구\",37.45613861,126.89476776,6,0,true,false,false,5,false,0\\n2999,1644918610.1323106|-32400|0,\"3984. 가산롯데아이티캐슬\",37.47636795,126.88083649,0,5,true,false,false,5,false,0\\n2964,1644918610.1323771|-32400|0,\"3985. 디폴리스 지식산업센터\",37.48017502,126.87680054,14,0,true,false,false,10,false,0\\n2698,1644918610.1324437|-32400|0,\"4002. 상계주공 14단지 상가 앞\",37.66963577,127.05970764,7,3,true,false,false,10,false,0\\n2699,1644918610.1325107|-32400|0,\"4003. 스타벅스 상계초교사거리점\",37.65680313,127.06657410,1,14,true,false,false,15,false,0\\n2700,1644918610.132578|-32400|0,\"4004. 당고개입구오거리 당현천변\",37.66260529,127.07557678,0,10,true,false,false,10,false,0\\n2701,1644918610.1326442|-32400|0,\"4005. 중계2차 한화꿈에그린 101동 인근\",37.65955734,127.07525635,0,10,true,false,false,10,false,0\\n2702,1644918610.132711|-32400|0,\"4007. 노원 을지대학교 병원\",37.63666916,127.06969452,0,9,true,false,false,9,false,0\\n2703,1644918610.1327777|-32400|0,\"4008. 하계 어린이 공원\",37.63214493,127.06982422,11,0,true,false,false,10,false,0\\n2704,1644918610.1328444|-32400|0,\"4009. 월계프라자\",37.63284302,127.05213165,7,13,true,false,false,20,false,0\\n2705,1644918610.132911|-32400|0,\"4011. 월계 센트럴 아이파크\",37.62917328,127.05693054,9,1,true,false,false,10,false,0\\n2706,1644918610.132977|-32400|0,\"4013. 중계 롯데마트\",37.64584351,127.07075500,3,17,true,false,false,20,false,0\\n2707,1644918610.133043|-32400|0,\"4014. 당고개역 3번 출구\",37.67030334,127.07884216,4,6,true,false,false,10,false,0\\n2754,1644918610.13311|-32400|0,\"4016. 노원 마들스타디움\",37.64530945,127.05744171,5,5,true,false,false,10,false,0\\n2708,1644918610.1331766|-32400|0,\"4017. 월계 청백1단지 아파트 정류장\",37.63535309,127.05216980,6,14,true,false,false,20,false,0\\n2709,1644918610.1332428|-32400|0,\"4018. 상계주공15단지 버스정류소\",37.66782761,127.05683899,7,1,true,false,false,8,false,0\\n2710,1644918610.133309|-32400|0,\"4019. 상계주공10단지 버스정류소\",37.66214371,127.05819702,2,5,true,false,false,7,false,0\\n2711,1644918610.1333747|-32400|0,\"4020. 중계동 성모빌딩 앞 \",37.65121841,127.07674408,1,9,true,false,false,10,false,0\\n2712,1644918610.133441|-32400|0,\"4021. 중계본동 입구\",37.64426041,127.08331299,8,2,true,false,false,10,false,0\\n2713,1644918610.1335077|-32400|0,\"4023. 월계역 1번 출구\",37.63441086,127.05886841,10,0,true,false,false,10,false,0\\n2714,1644918610.1335738|-32400|0,\"4024. 꿈의숲 SK뷰 아파트\",37.62045288,127.05445099,5,5,true,false,false,10,false,0\\n2715,1644918610.1336653|-32400|0,\"4025. 한천교 동편\",37.62533569,127.07019043,2,8,true,false,false,10,false,0\\n2716,1644918610.1337342|-32400|0,\"4026. 상계주공1단지아파트\",37.64795303,127.05793762,4,6,true,false,false,10,false,0\\n2791,1644918610.1338017|-32400|0,\"4027. 이마트 월계점\",37.62741089,127.06214142,2,8,true,false,false,10,false,0\\n2717,1644918610.1338685|-32400|0,\"4028. 한일유앤아이아파트 105동 인근\",37.65351868,127.07130432,4,6,true,false,false,10,false,0\\n2718,1644918610.133936|-32400|0,\"4029. 청소년수련관 후문\",37.63966370,127.06041718,1,7,true,false,false,8,false,0\\n2729,1644918610.1340027|-32400|0,\"4031. 청암예술학교 앞\",37.65153503,127.07327271,0,10,true,false,false,10,false,0\\n2719,1644918610.1340694|-32400|0,\"4032. 은행사거리(불암주유소 앞)\",37.65149689,127.07704163,4,6,true,false,false,10,false,0\\n2720,1644918610.134137|-32400|0,\"4033. 녹천 자동차운전 전문학원 (녹천역 4번 출구)\",37.64292908,127.05194855,2,7,true,false,false,9,false,0\\n2721,1644918610.1342037|-32400|0,\"4034. 상계근린공원 운동장 앞\",37.67099762,127.05017853,5,5,true,false,false,10,false,0\\n2804,1644918610.1342697|-32400|0,\"4035. 수락 행복발전소 앞\",37.67449188,127.05945587,2,4,true,false,false,6,false,0\\n2792,1644918610.1343365|-32400|0,\"4036. 하계역 6번출구\",37.63793945,127.06715393,0,9,true,false,false,9,false,0\\n2835,1644918610.134403|-32400|0,\"4037. 물넘이교\",37.65408325,127.07195282,2,13,true,false,false,15,false,0\\n2859,1644918610.1344697|-32400|0,\"4039. 서울시 북부여성발전센터\",37.64304352,127.06213379,1,9,true,false,false,10,false,0\\n2861,1644918610.1345363|-32400|0,\"4040. 공릉로 26길\",37.61965561,127.08146667,8,2,true,false,false,10,false,0\\n2896,1644918610.1346028|-32400|0,\"4041. 공릉역3번출구\",37.62500381,127.07301331,6,2,true,false,false,8,false,0\\n2914,1644918610.1346695|-32400|0,\"4042. 상계문화정보도서관\",37.67851257,127.05174255,4,6,true,false,false,10,false,0\\n2954,1644918610.134736|-32400|0,\"4043. 상계주공13단지 1301동\",37.66674042,127.06388855,4,6,true,false,false,10,false,0\\n2955,1644918610.134803|-32400|0,\"4044. 공릉산 백세문 입구\",37.62812042,127.08548737,0,4,true,false,false,4,false,0\\n2971,1644918610.1348705|-32400|0,\"4045. 은하수 공원\",37.63000488,127.04409790,5,3,true,false,false,8,false,0\\n3000,1644918610.1349375|-32400|0,\"4046. 경춘선 숲길\",37.62099075,127.07875061,6,0,true,false,false,5,false,0\\n3014,1644918610.1350048|-32400|0,\"4048. 신도1차아파트앞\",37.62821198,127.07046509,3,4,true,false,false,7,false,0\\n2722,1644918610.1350715|-32400|0,\"4054. KT프라자도봉점 맞은편\",37.64601898,127.03527069,1,9,true,false,false,10,false,0\\n2723,1644918610.1351392|-32400|0,\"4058. 다락원체육공원 전망대 입구\",37.69101334,127.04916382,7,8,true,false,false,15,false,0\\n2724,1644918610.1352062|-32400|0,\"4062. 평화도봉공원 주변\",37.66252136,127.04270935,4,5,true,false,false,9,false,0\\n2725,1644918610.1352727|-32400|0,\"4064. 신창아파트 입구 앞\",37.64051056,127.04082489,0,10,true,false,false,10,false,0\\n2726,1644918610.1353395|-32400|0,\"4065. 창동역 1번출구 앞\",37.65373611,127.04929352,10,0,true,false,false,10,false,0\\n2730,1644918610.1354122|-32400|0,\"4073.방아골종합사회복지관\",37.66927338,127.03243256,4,6,true,false,false,10,false,0\\n2727,1644918610.1355093|-32400|0,\"4074. 도봉구육아종합지원센터(창동)\",37.63342667,127.04116058,9,1,true,false,false,10,false,0\\n2848,1644918610.1355786|-32400|0,\"4075. 방학신동아아파트 11동 앞\",37.66173553,127.02812195,2,3,true,false,false,5,false,0\\n2549,1644918610.1356459|-32400|0,\"4076. 진영상운 앞 중랑천 변\",37.65999603,127.05127716,2,8,true,false,false,10,false,0\\n2799,1644918610.1357136|-32400|0,\"4077. 도봉제1교\",37.67984772,127.05038452,6,0,true,false,false,6,false,0\\n2849,1644918610.1357877|-32400|0,\"4078. 원당공원 앞\",37.65854645,127.02767944,5,3,true,false,false,8,false,0\\n2967,1644918610.1358554|-32400|0,\"4080. 창동주공19단지앞 \",37.65250778,127.05227661,3,1,true,false,false,4,false,0\\n3026,1644918610.1359224|-32400|0,\"4083.도봉아이나라도서관 앞\",37.65898895,127.04973602,0,8,true,false,false,8,false,0\\n2496,1644918610.1359892|-32400|0,\"4102. 휘경1동주민센터 앞\",37.59286499,127.06555939,1,9,true,false,false,10,false,0\\n2497,1644918610.1360557|-32400|0,\"4103. 휘경sk뷰아파트 앞\",37.59383774,127.06781769,6,4,true,false,false,10,false,0\\n2498,1644918610.136123|-32400|0,\"4104. 외대앞역 교차로\",37.59436417,127.06459808,12,0,true,false,false,10,false,0\\n2499,1644918610.13619|-32400|0,\"4105. 하나은행 장안동지점앞\",37.56324005,127.05799103,9,1,true,false,false,10,false,0\\n2500,1644918610.1362572|-32400|0,\"4107. 장안동근린공원 입구\",37.57738495,127.07198334,12,0,true,false,false,10,false,0\\n2501,1644918610.1363246|-32400|0,\"4108. 답십리파크자이아파트 앞\",37.56769180,127.05789185,5,5,true,false,false,10,false,0\\n2502,1644918610.1364157|-32400|0,\"4110. 용두롯데캐슬리치아파트 앞\",37.57958984,127.03080750,1,9,true,false,false,10,false,0\\n2504,1644918610.1364844|-32400|0,\"4113. 한국국방연구원 앞\",37.59128571,127.04038239,3,7,true,false,false,10,false,0\\n2560,1644918610.1365516|-32400|0,\"4114. 휘경여중고삼거리\",37.58392334,127.06827545,10,0,true,false,false,10,false,0\\n2505,1644918610.1366186|-32400|0,\"4116. 이문e편한세상아파트 앞\",37.60458755,127.06705475,2,8,true,false,false,10,false,0\\n2506,1644918610.1366856|-32400|0,\"4117. 휘경119안전센터 앞\",37.59087372,127.06536102,6,4,true,false,false,10,false,0\\n2507,1644918610.1367526|-32400|0,\"4121. 서울문화재단 앞\",37.57130051,127.03362274,7,3,true,false,false,10,false,0\\n2508,1644918610.1368194|-32400|0,\"4122. 청계9가교차로 앞\",37.57014847,127.02992249,13,0,true,false,false,10,false,0\\n2509,1644918610.1368866|-32400|0,\"4123. 배봉초교 교차로\",37.57846832,127.06689453,6,4,true,false,false,10,false,0\\n2933,1644918610.1369536|-32400|0,\"4125. 회기역 2-①번출구\",37.58945084,127.05956268,10,0,true,false,false,8,false,0\\n2649,1644918610.1370206|-32400|0,\"4152. 상도효성해링턴플레이스\",37.50543213,126.94151306,9,1,true,false,false,10,false,0\\n2650,1644918610.1370876|-32400|0,\"4153. 흑석동효사정앞\",37.51120377,126.96128082,8,2,true,false,false,10,false,0\\n2651,1644918610.1371543|-32400|0,\"4158. 노량진근린공원\",37.50680542,126.92850494,12,0,true,false,false,10,false,0\\n2652,1644918610.137221|-32400|0,\"4162. 노량진1동 청소년독서실\",37.50785828,126.94713593,0,10,true,false,false,10,false,0\\n2653,1644918610.137288|-32400|0,\"4167. 구로교 아래\",37.48548126,126.90364838,0,10,true,false,false,10,false,0\\n2654,1644918610.1373563|-32400|0,\"4169. 신대방삼거리\",37.49845505,126.92797852,1,9,true,false,false,10,false,0\\n2826,1644918610.1374238|-32400|0,\"4171. 우성아파트 앞\",37.49157715,126.90881348,13,0,true,false,false,10,false,0\\n2827,1644918610.1374912|-32400|0,\"4173. 이화약국 앞\",37.50444412,126.95025635,12,0,true,false,false,12,false,0\\n2803,1644918610.1375577|-32400|0,\"4175. 스페이스 살림 앞\",37.51262665,126.92741394,3,7,true,false,false,10,false,0\\n2528,1644918610.1376264|-32400|0,\"4202. 프런트원(공덕역4번출구 앞)\",37.54585266,126.95259857,15,0,true,false,false,9,false,0\\n2530,1644918610.1376934|-32400|0,\"4206. 광흥창역5번출구\",37.54737854,126.93163300,3,7,true,false,false,10,false,0\\n2531,1644918610.1377602|-32400|0,\"4207. 아만티호텔 앞\",37.55730820,126.91885376,5,5,true,false,false,10,false,0\\n2532,1644918610.1378272|-32400|0,\"4208. 스타벅스(동교동) 앞\",37.55665970,126.91986847,10,0,true,false,false,10,false,0\\n2533,1644918610.1378949|-32400|0,\"4210. 가좌행복주택 앞\",37.56949234,126.91184235,13,0,true,false,false,7,false,0\\n2534,1644918610.1379616|-32400|0,\"4211. 시석빌딩 앞\",37.54830170,126.91671753,16,0,true,false,false,8,false,0\\n2535,1644918610.138029|-32400|0,\"4212. 한화오벨리스크 앞\",37.58332062,126.88156128,1,9,true,false,false,10,false,0\\n2536,1644918610.138101|-32400|0,\"4213. 마포구중앙도서관 정문 앞\",37.56415558,126.90814972,7,3,true,false,false,10,false,0\\n2537,1644918610.1381676|-32400|0,\"4214. JTBC 앞\",37.57730484,126.89018250,15,0,true,false,false,10,false,0\\n2874,1644918610.1382349|-32400|0,\"4216. 망원정 앞\",37.55006790,126.90480042,2,8,true,false,false,10,false,0\\n2905,1644918610.1383018|-32400|0,\"4217. 한강공원 망원나들목\",37.55557632,126.89688873,26,0,true,false,false,20,false,0\\n2974,1644918610.1383698|-32400|0,\"4218. 디지털매직스페이스\",37.58119965,126.88957977,10,0,true,false,false,5,false,0\\n2975,1644918610.138437|-32400|0,\"4220. 신촌 청년주택\",37.54985428,126.93203735,2,8,true,false,false,10,false,0\\n2976,1644918610.1385038|-32400|0,\"4221. 솔리스타오피스텔(공덕동주민센터)\",37.55015945,126.96052551,3,5,true,false,false,8,false,0\\n3008,1644918610.1385713|-32400|0,\"4222. 서울디자인고등학교 앞\",37.54568481,126.94676971,5,0,true,false,false,5,false,0\\n2977,1644918610.1386378|-32400|0,\"4224. 서부운전면허시험장\",37.57892227,126.88216400,9,0,true,false,false,5,false,0\\n2978,1644918610.1387053|-32400|0,\"4226. 마포프레스티지자이 1\",37.55152893,126.94669342,21,0,true,false,false,5,false,0\\n2979,1644918610.138772|-32400|0,\"4233. 코오롱아파트사거리\",37.56303787,126.92143250,12,0,true,false,false,10,false,0\\n2980,1644918610.1388388|-32400|0,\"4234. 에스테반\",37.54891968,126.95951843,7,0,true,false,false,7,false,0\\n2981,1644918610.138906|-32400|0,\"4238. 상암한샘빌딩앞\",37.57649231,126.89867401,14,0,true,false,false,7,false,0\\n2982,1644918610.1389728|-32400|0,\"4239. 성산2동 주민센터 \",37.56896973,126.90779877,0,5,true,false,false,5,false,0\\n2983,1644918610.1390395|-32400|0,\"4240. 아현문화건강센터\",37.55235291,126.95147705,0,8,true,false,false,8,false,0\\n3017,1644918610.1391072|-32400|0,\"4244. 당인리발전소 공원 앞\",37.54529572,126.91764832,4,1,true,false,false,5,false,0\\n3018,1644918610.1391966|-32400|0,\"4245. 그랑자이 아파트\",37.55469513,126.94577026,1,9,true,false,false,10,false,0\\n3019,1644918610.1392658|-32400|0,\"4246. 상수역새마을금고\",37.54758835,126.92464447,2,3,true,false,false,5,false,0\\n3020,1644918610.139333|-32400|0,\"4247. 서울서부지방법원등기국앞\",37.55184937,126.95478058,5,5,true,false,false,10,false,0\\n3021,1644918610.1394|-32400|0,\"4248. 신촌 교보빌딩\",37.55601120,126.94034576,7,3,true,false,false,10,false,0\\n3022,1644918610.139478|-32400|0,\"4251. 공덕역 경의선숲길 커뮤니티센터\",37.54161072,126.95375824,1,6,true,false,false,7,false,0\\n2561,1644918610.1395457|-32400|0,\"4253. 홍은도담도서관\",37.60169601,126.94916534,2,3,true,false,false,5,false,0\\n2897,1644918610.139613|-32400|0,\"4255. 래미안 루센티아 아파트 108동 앞\",37.57519150,126.91768646,8,14,true,false,false,22,false,0\\n2990,1644918610.1396801|-32400|0,\"4262. 서대문자연사박물관 입구\",37.57540131,126.93544006,1,5,true,false,false,6,false,0\\n3027,1644918610.1397471|-32400|0,\"4266.국민연금공단충정로사옥\",37.56184769,126.96414948,7,0,true,false,false,5,false,0\\n2655,1644918610.1398146|-32400|0,\"4303. 매헌역 2번출구앞광역버스 정류장앞(22-297)\",37.47171783,127.03888702,12,0,true,false,false,8,false,0\\n2656,1644918610.139882|-32400|0,\"4304. 서울고앞\",37.48339462,127.00736237,6,4,true,false,false,10,false,0\\n2657,1644918610.139949|-32400|0,\"4305. 서일스포츠센터\",37.49801636,127.02222443,7,1,true,false,false,8,false,0\\n2658,1644918610.140039|-32400|0,\"4306. 서래공원 앞\",37.50150681,127.00347900,2,8,true,false,false,10,false,0\\n2659,1644918610.1401088|-32400|0,\"4307. 고투몰 gate 15옆\",37.50723267,127.00945282,4,6,true,false,false,10,false,0\\n2661,1644918610.140176|-32400|0,\"4309. 서초케이타운앞\",37.45722580,127.05900574,7,3,true,false,false,10,false,0\\n2662,1644918610.140244|-32400|0,\"4310. 염곡동(염통골) 입구\",37.46155548,127.04995728,6,4,true,false,false,10,false,0\\n2663,1644918610.1403115|-32400|0,\"4312. 반포미도2차아파트 옆\",37.50320435,127.00653076,6,4,true,false,false,10,false,0\\n2664,1644918610.1403787|-32400|0,\"4313. 반포종합운동장\",37.49979782,126.99646759,4,6,true,false,false,10,false,0\\n2665,1644918610.140447|-32400|0,\"4314. 탑성마을 버스정거장 옆\",37.45916748,127.05544281,1,9,true,false,false,10,false,0\\n2666,1644918610.1405144|-32400|0,\"4315. 이투스교육 앞\",37.48389053,127.02905273,3,7,true,false,false,10,false,0\\n2667,1644918610.1405818|-32400|0,\"4316. 고속터미널역 3번출구\",37.50365829,127.00594330,17,8,true,false,false,25,false,0\\n2668,1644918610.1406498|-32400|0,\"4317. 양재근린공원\",37.47039795,127.04241180,13,0,true,false,false,5,false,0\\n2669,1644918610.1407177|-32400|0,\"4318. 방배역 2번 출구\",37.48116684,126.99758911,5,0,true,false,false,5,false,0\\n2562,1644918610.1407876|-32400|0,\"4319. 삼성전자R&D어린이집 뒤\",37.46548462,127.02182770,9,1,true,false,false,10,false,0\\n2570,1644918610.140855|-32400|0,\"4320. 신영체르니 아파트\",37.47901154,127.04144287,15,0,true,false,false,11,false,0\\n2853,1644918610.140922|-32400|0,\"4322.서울추모공원 입구\",37.45429993,127.04283142,2,13,true,false,false,15,false,0\\n2875,1644918610.1409888|-32400|0,\"4323. 내곡도서관\",37.45199966,127.05391693,1,9,true,false,false,10,false,0\\n2934,1644918610.1410565|-32400|0,\"4324. 세화고등학교\",37.50209427,126.99147034,0,5,true,false,false,5,false,0\\n3009,1644918610.1411242|-32400|0,\"4327. 몽마르뜨공원입구\",37.49288940,127.00264740,5,6,true,false,false,11,false,0\\n2962,1644918610.1411917|-32400|0,\"4329. SC제일은행 양재동지점 앞\",37.48573685,127.03315735,4,4,true,false,false,8,false,0\\n3010,1644918610.1412585|-32400|0,\"4330. 반포한강공원입구,씨티21옆\",37.50749588,127.00018311,6,0,true,false,false,5,false,0\\n2466,1644918610.1413255|-32400|0,\"4353. 코오롱디지털타워 3차앞\",37.54655838,127.04998779,9,0,true,false,false,8,false,0\\n2467,1644918610.1413934|-32400|0,\"4360. 르노삼성자동차 성수사업소 앞\",37.54824448,127.05957794,3,5,true,false,false,8,false,0\\n2468,1644918610.1414607|-32400|0,\"4362. 행당중학교 후문\",37.55401230,127.04154968,4,4,true,false,false,8,false,0\\n2856,1644918610.1415277|-32400|0,\"4363. 신금호역 2번출구 앞\",37.55507278,127.01988983,0,4,true,false,false,4,false,0\\n2787,1644918610.1415946|-32400|0,\"4367. kt 행당빌딩 앞\",37.55862045,127.03435516,8,0,true,false,false,5,false,0\\n2834,1644918610.1416612|-32400|0,\"4370. 서울숲IT캐슬 앞\",37.55141449,127.04475403,10,0,true,false,false,9,false,0\\n3002,1644918610.1417282|-32400|0,\"4373. 서울숲 지식산업센터\",37.54127502,127.04849243,8,0,true,false,false,8,false,0\\n3003,1644918610.1417952|-32400|0,\"4377. 우영테크노센터 앞\",37.54332352,127.05971527,10,0,true,false,false,8,false,0\\n2731,1644918610.1418622|-32400|0,\"4406. 장곡초등학교 앞\",37.61745453,127.04844666,10,0,true,false,false,10,false,0\\n2793,1644918610.1419294|-32400|0,\"4408. 돌곶이역 앞\",37.61131287,127.05759430,20,0,true,false,false,10,false,0\\n2898,1644918610.1420212|-32400|0,\"4411. 동산어린이공원 앞\",37.60623932,127.03466034,17,0,true,false,false,5,false,0\\n2935,1644918610.1420903|-32400|0,\"4414. 안암역 3번 출구\",37.58650970,127.03085327,0,8,true,false,false,8,false,0\\n2970,1644918610.1421573|-32400|0,\"4415. 미아초교버스승강장\",37.61207962,127.02198029,0,7,true,false,false,7,false,0\\n3038,1644918610.1422246|-32400|0,\"4419. 성북구 한예종 캠퍼스 본관\",37.60665131,127.05618286,1,5,true,false,false,6,false,0\\n3039,1644918610.1422923|-32400|0,\"4420. 성북구 한예종 캠퍼스 별관\",37.60289764,127.05847931,4,2,true,false,false,6,false,0\\n2571,1644918610.1423595|-32400|0,\"4452. 삼성SDS\",37.51633835,127.09985352,26,0,true,false,false,10,false,0\\n2572,1644918610.142427|-32400|0,\"4453. 위례중앙푸르지오 201동 앞\",37.47434616,127.14326477,19,0,true,false,false,15,false,0\\n2619,1644918610.142494|-32400|0,\"4454. 위례 포레샤인 1809동 부근\",37.48664474,127.15244293,1,14,true,false,false,15,false,0\\n2573,1644918610.1425607|-32400|0,\"4456. 위례포레샤인 2310동 부근\",37.47456360,127.13679504,17,0,true,false,false,10,false,0\\n2574,1644918610.142628|-32400|0,\"4457. 아산병원 기숙사 부근\",37.52478027,127.10913086,14,0,true,false,false,10,false,0\\n2575,1644918610.1426947|-32400|0,\"4458. 서울힐링요양병원 앞\",37.49917603,127.12589264,0,10,true,false,false,10,false,0\\n2576,1644918610.1427615|-32400|0,\"4460. 올림픽훼미리아파트 112동 앞\",37.48794556,127.11875916,0,8,true,false,false,8,false,0\\n2577,1644918610.1428285|-32400|0,\"4461. 한양3차아파트 3동 앞\",37.50585175,127.12194061,0,7,true,false,false,7,false,0\\n2578,1644918610.1428952|-32400|0,\"4462. 가락중학교 앞\",37.50223541,127.11728668,3,5,true,false,false,8,false,0\\n2579,1644918610.1429622|-32400|0,\"4463. 방이역 2번 출구\",37.50801468,127.12594604,6,4,true,false,false,10,false,0\\n2580,1644918610.143029|-32400|0,\"4464. 올림픽공원 북2문\",37.52357483,127.12804413,14,0,true,false,false,10,false,0\\n2581,1644918610.1431005|-32400|0,\"4465. 건영아파트앞 사거리\",37.48245621,127.12460327,5,5,true,false,false,10,false,0\\n2582,1644918610.1431675|-32400|0,\"4467. 한림연예예술고등학교\",37.48488998,127.13270569,3,7,true,false,false,10,false,0\\n2583,1644918610.1432357|-32400|0,\"4468. 가락1동 주민센터 2\",37.49650955,127.11032867,18,0,true,false,false,15,false,0\\n2584,1644918610.1433027|-32400|0,\"4469. 거여동 어울림아파트  102동앞\",37.49198532,127.14373016,2,8,true,false,false,10,false,0\\n2585,1644918610.1433692|-32400|0,\"4472. 송파파크데일 1단지 115동 건너편\",37.49763107,127.15966797,4,6,true,false,false,10,false,0\\n2586,1644918610.1434464|-32400|0,\"4473. 마천금호어울림 1차 102동앞\",37.49808884,127.15429688,0,10,true,false,false,10,false,0\\n2587,1644918610.1435153|-32400|0,\"4474. 가락현대 1차 11동 앞\",37.49146652,127.12664032,1,9,true,false,false,10,false,0\\n2588,1644918610.1435826|-32400|0,\"4475. 송파파인타운 4단지 403동\",37.48174286,127.12878418,2,8,true,false,false,10,false,0\\n2589,1644918610.1436498|-32400|0,\"4478. 문정근린공원2\",37.48611450,127.12667084,14,0,true,false,false,10,false,0\\n2590,1644918610.1437168|-32400|0,\"4479. 문정중학교\",37.48827362,127.13068390,0,10,true,false,false,10,false,0\\n2591,1644918610.1437848|-32400|0,\"4480. 가락시장역 롯데마트2\",37.49201584,127.11745453,10,0,true,false,false,10,false,0\\n2592,1644918610.1438518|-32400|0,\"4481. 올림픽공원 북2문 2\",37.52397537,127.12751007,15,0,true,false,false,10,false,0\\n2593,1644918610.1439183|-32400|0,\"4483. 잠실나들목4\",37.51632309,127.08434296,1,9,true,false,false,10,false,0\\n2594,1644918610.1439848|-32400|0,\"4484. 잠실나루역4번출구뒤\",37.52080917,127.10362244,4,6,true,false,false,10,false,0\\n2595,1644918610.144052|-32400|0,\"4485. 잠실나루역 고가하부\",37.52005386,127.10430908,1,9,true,false,false,10,false,0\\n2596,1644918610.1441193|-32400|0,\"4486. 홈플러스 잠실점\",37.51613998,127.10350800,13,0,true,false,false,10,false,0\\n2597,1644918610.1441898|-32400|0,\"4488. 문현중.고등학교 사이\",37.48051071,127.12862396,5,5,true,false,false,10,false,0\\n2598,1644918610.1442573|-32400|0,\"4490. 송파파인타운 10단지 1005동\",37.47778320,127.13205719,12,0,true,false,false,10,false,0\\n2599,1644918610.1443245|-32400|0,\"4491. 장지역 1번출구\",37.47953415,127.12678528,14,0,true,false,false,10,false,0\\n2600,1644918610.1443915|-32400|0,\"4493. 마천사거리 2\",37.49900436,127.14694214,26,0,true,false,false,10,false,0\\n2601,1644918610.1444588|-32400|0,\"4496. 잠실 파크리오 120동 앞\",37.51921082,127.10794067,1,9,true,false,false,10,false,0\\n2602,1644918610.1445491|-32400|0,\"4497. 아시아선수촌아파트 교차로\",37.50679016,127.07926941,3,7,true,false,false,10,false,0\\n2603,1644918610.1446178|-32400|0,\"4499. 세양청마루 101동 앞\",37.49236679,127.13655090,0,10,true,false,false,10,false,0\\n2604,1644918610.1446855|-32400|0,\"4500. 풍납나들목\",37.52865219,127.10866547,4,6,true,false,false,10,false,0\\n2759,1644918610.1447759|-32400|0,\"4507. 삼성전자서비스 신정센터\",37.52124786,126.85495758,4,6,true,false,false,10,false,0\\n2760,1644918610.1448445|-32400|0,\"4508. 유원목동아파트 앞\",37.52109528,126.87320709,11,0,true,false,false,10,false,0\\n2761,1644918610.1449125|-32400|0,\"4509. 서울영상고교 입구\",37.52198029,126.85928345,8,7,true,false,false,15,false,0\\n2762,1644918610.1449795|-32400|0,\"4510. 신정네거리역 교차로\",37.52175903,126.85228729,9,4,true,false,false,13,false,0\\n2763,1644918610.1450467|-32400|0,\"4512. 목동13_14단지 사거리\",37.51406860,126.86998749,2,13,true,false,false,15,false,0\\n2764,1644918610.1451132|-32400|0,\"4514. 목동성당 앞\",37.52319717,126.86930084,17,3,true,false,false,20,false,0\\n2765,1644918610.1451807|-32400|0,\"4515. 동문굿모닝탑\",37.51481247,126.86117554,3,7,true,false,false,10,false,0\\n2766,1644918610.1452475|-32400|0,\"4516. 신진빌라\",37.53528214,126.83000946,3,2,true,false,false,5,false,0\\n2767,1644918610.1453187|-32400|0,\"4517. 성보하이드로빌딩\",37.52893829,126.83312225,1,9,true,false,false,10,false,0\\n2768,1644918610.1453862|-32400|0,\"4518. 청기와빌딩\",37.52011108,126.84474945,5,2,true,false,false,7,false,0\\n2769,1644918610.145453|-32400|0,\"4519. 양원보도육교\",37.53924561,126.82373810,2,6,true,false,false,8,false,0\\n2770,1644918610.14552|-32400|0,\"4520. 대성유니드아파트\",37.52091599,126.84095764,8,2,true,false,false,10,false,0\\n2771,1644918610.1455867|-32400|0,\"4522. 다이소신곡시장점\",37.51779556,126.84161377,8,2,true,false,false,10,false,0\\n2772,1644918610.145654|-32400|0,\"4523. 구립양천어르신요양센터\",37.51351166,126.82681274,20,0,true,false,false,20,false,0\\n2773,1644918610.145722|-32400|0,\"4526. 목동아파트2단지 222동 앞\",37.53968811,126.87498474,0,10,true,false,false,10,false,0\\n2774,1644918610.1457891|-32400|0,\"4527. 목동신시가지아파트6단지\",37.53684616,126.88475037,15,0,true,false,false,15,false,0\\n2692,1644918610.1458566|-32400|0,\"4528. 양천구청역 1번출구\",37.51292038,126.86679840,2,6,true,false,false,8,false,0\\n2794,1644918610.1459234|-32400|0,\"4530. 버거킹 신월점 앞\",37.53936005,126.82886505,8,1,true,false,false,9,false,0\\n2844,1644918610.1459916|-32400|0,\"4531. 목동아파트 613동 앞\",37.53315735,126.88408661,7,3,true,false,false,10,false,0\\n2879,1644918610.1460586|-32400|0,\"4532. 목동현대아파트 후문 앞\",37.52214050,126.87805939,1,9,true,false,false,10,false,0\\n2951,1644918610.146125|-32400|0,\"4534. 월정초교 앞 사거리\",37.53660965,126.83466339,7,0,true,false,false,7,false,0\\n2960,1644918610.1461916|-32400|0,\"4535. 목동12단지 아파트\",37.51406860,126.86042786,0,10,true,false,false,10,false,0\\n2961,1644918610.1462598|-32400|0,\"4536. 양천해누리체육공원\",37.51174164,126.87383270,0,10,true,false,false,10,false,0\\n2806,1644918610.1463268|-32400|0,\"4552. 코레일유통본사\",37.52617645,126.90197754,22,0,true,false,false,10,false,0\\n2807,1644918610.1463976|-32400|0,\"4553. 당산삼성2차아파트\",37.52762222,126.89863586,7,3,true,false,false,10,false,0\\n2808,1644918610.1464646|-32400|0,\"4555. 대림우성2차아파트\",37.49519348,126.90017700,2,8,true,false,false,10,false,0\\n2563,1644918610.146532|-32400|0,\"4556. 리버뷰신안인스빌1차 후문\",37.51374817,126.88851166,7,3,true,false,false,10,false,0\\n2564,1644918610.1465995|-32400|0,\"4557. 리버뷰신안인스빌2차 후문\",37.51288223,126.89026642,19,0,true,false,false,10,false,0\\n2809,1644918610.1466665|-32400|0,\"4558. 대영중고 후문\",37.50545502,126.90626526,8,2,true,false,false,10,false,0\\n2810,1644918610.1467335|-32400|0,\"4559. 신길역 2번출구\",37.51756287,126.91698456,17,0,true,false,false,10,false,0\\n2811,1644918610.1468008|-32400|0,\"4560. 양평동성원아파트\",37.53374481,126.89365387,13,0,true,false,false,10,false,0\\n2812,1644918610.146868|-32400|0,\"4561. 양평역 1번출구\",37.52572632,126.88600159,15,0,true,false,false,10,false,0\\n2813,1644918610.1469352|-32400|0,\"4563. 여의도 은하아파트\",37.51850891,126.93448639,19,0,true,false,false,10,false,0\\n2814,1644918610.1470025|-32400|0,\"4564. 63스퀘어\",37.52070999,126.93965912,1,9,true,false,false,10,false,0\\n2815,1644918610.1470692|-32400|0,\"4565. 영등포 신세계백화점\",37.51803589,126.90364838,1,9,true,false,false,10,false,0\\n2816,1644918610.1471362|-32400|0,\"4566. 대림성원상떼빌아파트\",37.50384140,126.89615631,6,9,true,false,false,15,false,0\\n2817,1644918610.1472037|-32400|0,\"4567. 한림대학교 강남성심병원 신관\",37.49128342,126.90802002,24,0,true,false,false,10,false,0\\n2818,1644918610.1472712|-32400|0,\"4568. 영등포로터리\",37.51874924,126.91220856,11,0,true,false,false,10,false,0\\n2819,1644918610.1473384|-32400|0,\"4569. 힐스테이트클래시안아파트\",37.50508881,126.91334534,5,5,true,false,false,10,false,0\\n2820,1644918610.1474912|-32400|0,\"4571. 문래동롯데캐슬아파트\",37.51800156,126.88459778,9,1,true,false,false,10,false,0\\n2821,1644918610.147567|-32400|0,\"4573. 두산위브아파트\",37.51470184,126.91213989,14,0,true,false,false,10,false,0\\n2822,1644918610.1476598|-32400|0,\"4574. 영등포시장역 포레나영등포\",37.52341461,126.90540314,10,0,true,false,false,9,false,0\\n2823,1644918610.1477284|-32400|0,\"4575. 대림동 e편한세상영등포아델포레\",37.49582291,126.90835571,9,1,true,false,false,10,false,0\\n2800,1644918610.1477962|-32400|0,\"4576.보라매sk뷰 108동 앞\",37.50160599,126.91744995,11,4,true,false,false,15,false,0\\n2801,1644918610.1478634|-32400|0,\"4578.보라매sk뷰\",37.50400543,126.92028046,5,5,true,false,false,10,false,0\\n2643,1644918610.1479309|-32400|0,\"4579. 국회의사당 본관\",37.53257370,126.91404724,15,0,true,false,false,10,false,0\\n2644,1644918610.1479974|-32400|0,\"4580. 국회3문\",37.52974701,126.91316986,14,0,true,false,false,8,false,0\\n2645,1644918610.148064|-32400|0,\"4581. 국회소통관\",37.53050232,126.91289520,5,7,true,false,false,12,false,0\\n2646,1644918610.1481311|-32400|0,\"4582. 국회도서관\",37.53054047,126.91817474,3,9,true,false,false,12,false,0\\n2647,1644918610.148198|-32400|0,\"4583. 의정관\",37.53214645,126.91747284,1,11,true,false,false,12,false,0\\n2648,1644918610.1482644|-32400|0,\"4584. 국회2문\",37.52864075,126.91510773,7,1,true,false,false,8,false,0\\n2694,1644918610.148331|-32400|0,\"4585. 국회6문\",37.53271866,126.91799164,7,0,true,false,false,6,false,0\\n2852,1644918610.148398|-32400|0,\"4588.양남사거리2\",37.52194977,126.89049530,10,0,true,false,false,10,false,0\\n2899,1644918610.1484647|-32400|0,\"4589. KRX한국거래소(1)\",37.52347946,126.92711639,19,0,true,false,false,18,false,0\\n2900,1644918610.1485312|-32400|0,\"4590. KRX한국거래소(2)\",37.52410507,126.92810822,1,19,true,false,false,20,false,0\\n2901,1644918610.1485982|-32400|0,\"4591. 신길자이아파트\",37.50601196,126.91588593,1,9,true,false,false,10,false,0\\n2902,1644918610.1486647|-32400|0,\"4592. 신길우성4차아파트\",37.51283264,126.91763306,12,2,true,false,false,14,false,0\\n2920,1644918610.1487315|-32400|0,\"4594. 양평교 영등포대여소\",37.53972626,126.89036560,4,11,true,false,false,15,false,0\\n2958,1644918610.1487982|-32400|0,\"4598. 오목교 동측 지하보도\",37.52364349,126.88183594,7,2,true,false,false,9,false,0\\n2959,1644918610.1488657|-32400|0,\"4599. 대림우성아파트 사거리\",37.49484634,126.90029144,2,13,true,false,false,15,false,0\\n3011,1644918610.148932|-32400|0,\"4600. 영등포구 총괄 우체국\",37.52915192,126.89447784,5,5,true,false,false,10,false,0\\n3030,1644918610.1489983|-32400|0,\"4601.양평역2번출구 뒤\",37.52556610,126.88584137,4,6,true,false,false,10,false,0\\n2436,1644918610.149065|-32400|0,\"4602. 숙명여대앞 버스정류소 주변\",37.54498672,126.96430206,9,1,true,false,false,10,false,0\\n2866,1644918610.149132|-32400|0,\"4603. 한강GS에클라트 건너편 교통섬\",37.53200531,126.95555878,12,0,true,false,false,10,false,0\\n2437,1644918610.1492212|-32400|0,\"4604. 원효로다목적체육관 앞\",37.53322220,126.95723724,11,0,true,false,false,10,false,0\\n2438,1644918610.14929|-32400|0,\"4605. 노들섬 다목적홀(동쪽) 숲, 앞\",37.51758957,126.95922089,6,4,true,false,false,10,false,0\\n2439,1644918610.1493573|-32400|0,\"4607. 국립중앙박물관 -용산가족공원 앞\",37.52087784,126.97971344,10,0,true,false,false,10,false,0\\n2440,1644918610.1494257|-32400|0,\"4608. 국립중앙박물관 정문 앞\",37.52145767,126.97767639,9,1,true,false,false,10,false,0\\n2441,1644918610.1494927|-32400|0,\"4609. 파크타워 104동 앞\",37.52316666,126.97192383,8,2,true,false,false,10,false,0\\n2442,1644918610.1495602|-32400|0,\"4610. 한남나인원 105동 앞\",37.53591919,127.00541687,4,6,true,false,false,10,false,0\\n2443,1644918610.1496274|-32400|0,\"4611. 국제루터교회 앞\",37.54143906,127.00376129,1,9,true,false,false,10,false,0\\n2444,1644918610.1496944|-32400|0,\"4612. 한남 준 J.FSS 앞\",37.53749847,127.00084686,6,2,true,false,false,8,false,0\\n2445,1644918610.1497617|-32400|0,\"4613. 서울갤러리아 앞\",37.53599548,126.99948883,6,1,true,false,false,7,false,0\\n2446,1644918610.1498296|-32400|0,\"4615. 크라운호텔앞 버스정류소\",37.53030014,126.99137878,14,0,true,false,false,7,false,0\\n2447,1644918610.1498961|-32400|0,\"4616. 신용산지하차도 앞\",37.53248215,126.96411896,8,7,true,false,false,15,false,0\\n2448,1644918610.1499627|-32400|0,\"4617. 동원베네스트 건너편\",37.52761078,126.95511627,0,6,true,false,false,6,false,0\\n2449,1644918610.1500294|-32400|0,\"4618. 풍전아파트 건너편\",37.53237915,126.95252991,11,0,true,false,false,10,false,0\\n2450,1644918610.150096|-32400|0,\"4619. 한강트럼프월드3차 앞\",37.52301788,126.96240997,8,2,true,false,false,10,false,0\\n2451,1644918610.1501637|-32400|0,\"4620. 삼각지역 14번 출구 앞(교통섬)\",37.53528595,126.97408295,2,6,true,false,false,8,false,0\\n2452,1644918610.150231|-32400|0,\"4622. 한강중학교 앞 버스정류장\",37.52515030,126.99208832,6,0,true,false,false,6,false,0\\n2453,1644918610.1502984|-32400|0,\"4623. 라인프랜즈이태원점 앞\",37.53453064,126.99619293,1,9,true,false,false,10,false,0\\n2469,1644918610.1503875|-32400|0,\"4625. 용산공원갤러리앞\",37.53932190,126.97319031,6,2,true,false,false,8,false,0\\n2455,1644918610.1504567|-32400|0,\"4627. 효창공원앞역 5번출구 옆\",37.53851318,126.96355438,10,0,true,false,false,7,false,0\\n2456,1644918610.1505244|-32400|0,\"4629. 한강초교보도육교 앞\",37.52544022,126.96459961,18,0,true,false,false,8,false,0\\n2880,1644918610.150592|-32400|0,\"4632. 용산 푸르지오 파크타운 1단지 앞\",37.52529526,126.99583435,5,1,true,false,false,6,false,0\\n2924,1644918610.1506596|-32400|0,\"4633. 센트럴파크타워 앞\",37.52703476,126.96617889,15,0,true,false,false,8,false,0\\n2425,1644918610.1507273|-32400|0,\"4652. 신사두산위브2차아파트 앞\",37.59931564,126.90759277,7,3,true,false,false,10,false,0\\n2470,1644918610.1507936|-32400|0,\"4653. LG 베스트샵 앞\",37.61156845,126.93048859,9,1,true,false,false,10,false,0\\n2775,1644918610.1508605|-32400|0,\"4657. 다이소앞\",37.60049438,126.92215729,8,2,true,false,false,10,false,0\\n2776,1644918610.150927|-32400|0,\"4658. 녹번역1번출구앞\",37.60176849,126.93542480,1,9,true,false,false,10,false,0\\n2777,1644918610.1509938|-32400|0,\"4659. 커피데이응암동지점\",37.59750366,126.91999817,4,6,true,false,false,10,false,0\\n2778,1644918610.151061|-32400|0,\"4663. 삼성디지털은평불광점앞\",37.61326218,126.92786407,7,3,true,false,false,10,false,0\\n2779,1644918610.1511278|-32400|0,\"4665. 김영혜손뜨개 앞\",37.59967041,126.91716003,8,2,true,false,false,10,false,0\\n2780,1644918610.1511946|-32400|0,\"4667. 폭포동입구 교차로\",37.62962723,126.93011475,12,0,true,false,false,10,false,0\\n2781,1644918610.1512613|-32400|0,\"4668. 기자촌사거리\",37.63390732,126.93177795,0,10,true,false,false,10,false,0\\n2782,1644918610.1513283|-32400|0,\"4671. 청구성심병원 앞\",37.62087631,126.91979980,11,0,true,false,false,10,false,0\\n2783,1644918610.151395|-32400|0,\"4672. 준빌딩 앞\",37.62205124,126.91958618,2,8,true,false,false,10,false,0\\n2785,1644918610.151468|-32400|0,\"4674. 녹번역e편한세상 캐슬 정문 앞\",37.60034561,126.93148041,10,0,true,false,false,10,false,0\\n2824,1644918610.1515408|-32400|0,\"4676. 갈현1동 주민센터\",37.62360764,126.91688538,3,6,true,false,false,9,false,0\\n2825,1644918610.1516092|-32400|0,\"4677. 백련산 SK뷰 아이파크 해모로 아파트 앞\",37.59612656,126.91962433,7,3,true,false,false,10,false,0\\n2956,1644918610.1516774|-32400|0,\"4678. 백련산로 녹번센트레빌 \",37.59954453,126.92653656,10,0,true,false,false,10,false,0\\n3028,1644918610.151745|-32400|0,\"4681.박석고개(은평소방서) 앞\",37.62794495,126.91976929,3,3,true,false,false,6,false,0\\n2423,1644918610.151812|-32400|0,\"4702. 평창동 꽃여울(꽃집),스타벅스 앞\",37.60604858,126.96763611,2,3,true,false,false,5,false,0\\n2511,1644918610.15188|-32400|0,\"4703. 쌍용아파트2단지 정문\",37.58131409,127.01268005,13,0,true,false,false,11,false,0\\n2565,1644918610.1519468|-32400|0,\"4705. 웰니스센터(민방위교육장 앞)\",37.57752991,126.98912811,4,2,true,false,false,6,false,0\\n2513,1644918610.1520133|-32400|0,\"4707. 청계3가 사거리\",37.56855774,126.99211884,6,0,true,false,false,5,false,0\\n2472,1644918610.15208|-32400|0,\"4708. 조계사앞사거리(파리바케트앞)\",37.57218170,126.98283386,6,0,true,false,false,6,false,0\\n2622,1644918610.1521466|-32400|0,\"4709. 천지인 오피스텔 앞\",37.60469818,126.96451569,3,2,true,false,false,5,false,0\\n2473,1644918610.1522143|-32400|0,\"4710. 자교교회 앞\",37.58114624,126.97123718,1,7,true,false,false,8,false,0\\n2427,1644918610.152281|-32400|0,\"4711. 올림픽기념 국민생활관 로터리\",37.58983612,126.99934387,2,8,true,false,false,10,false,0\\n2623,1644918610.152348|-32400|0,\"4713. 현대 뜨레비앙 아파트 앞\",37.57528305,126.99062347,3,4,true,false,false,7,false,0\\n2923,1644918610.152415|-32400|0,\"4715. 돈의문 박물관 마을\",37.56883621,126.96955109,6,9,true,false,false,15,false,0\\n2624,1644918610.1524816|-32400|0,\"4752. 삼성사이버빌리지아파트\",37.55891418,126.96485901,1,6,true,false,false,7,false,0\\n2514,1644918610.1525488|-32400|0,\"4753. 우리은행 서소문금융센터\",37.56284332,126.97261810,2,8,true,false,false,10,false,0\\n2430,1644918610.152615|-32400|0,\"4760. 서울역 7번출구\",37.55664444,126.97364044,11,0,true,false,false,10,false,0\\n2516,1644918610.152682|-32400|0,\"4761. 탐앤탐스 을지로3가점\",37.56467056,126.99088287,6,4,true,false,false,10,false,0\\n2517,1644918610.1527486|-32400|0,\"4762. 국제빌딩\",37.56693268,126.98258209,11,0,true,false,false,10,false,0\\n2431,1644918610.1528153|-32400|0,\"4765. 동대문디자인플라자\",37.56831360,127.00946045,5,15,true,false,false,20,false,0\\n2432,1644918610.1528826|-32400|0,\"4766. 서소문성지역사박물관\",37.56024551,126.96878052,22,0,true,false,false,18,false,0\\n2518,1644918610.15295|-32400|0,\"4768. 서울도시건축전시관\",37.56701660,126.97683716,32,0,true,false,false,12,false,0\\n2519,1644918610.1530168|-32400|0,\"4772. 중앙일보\",37.56253433,126.97249603,4,6,true,false,false,10,false,0\\n2520,1644918610.1531072|-32400|0,\"4774. 을지로입구역 8번출구\",37.56590271,126.98178101,10,0,true,false,false,9,false,0\\n2521,1644918610.153176|-32400|0,\"4775. 을지로지하쇼핑센터\",37.56599045,126.98427582,5,5,true,false,false,10,false,0\\n2522,1644918610.1532443|-32400|0,\"4776. 신세계면세점\",37.56005478,126.98094177,12,0,true,false,false,10,false,0\\n2805,1644918610.1533115|-32400|0,\"4777. 약수동 주민센터\",37.55281448,127.00919342,2,10,true,false,false,12,false,0\\n2523,1644918610.1533787|-32400|0,\"4778. 대신파이낸스센터\",37.56520844,126.98742676,12,0,true,false,false,10,false,0\\n2433,1644918610.1534464|-32400|0,\"4781. 브라운스위트레지던스\",37.56147003,126.96801758,10,0,true,false,false,10,false,0\\n2434,1644918610.1535134|-32400|0,\"4782. 서소문역사공원\",37.56157303,126.96849060,5,5,true,false,false,10,false,0\\n2525,1644918610.1535802|-32400|0,\"4784. 중부경찰서앞 사거리\",37.56459045,126.99076843,1,9,true,false,false,10,false,0\\n2526,1644918610.15367|-32400|0,\"4785. 롯데시티호텔\",37.56689835,126.98773956,9,0,true,false,false,8,false,0\\n2527,1644918610.1537395|-32400|0,\"4791. 명동역9번 출구\",37.56122589,126.98749542,3,7,true,false,false,10,false,0\\n2625,1644918610.1538072|-32400|0,\"4792. 퇴계로4가 교차로(중구청)\",37.56252670,126.99831390,14,0,true,false,false,10,false,0\\n2626,1644918610.1538749|-32400|0,\"4793. 동대문역사문화공원역 5번출구\",37.56430817,127.00647736,8,2,true,false,false,10,false,0\\n2786,1644918610.1539426|-32400|0,\"4794. 서울역 서부교차로(3)\",37.55540848,126.96942139,6,4,true,false,false,10,false,0\\n2693,1644918610.1540098|-32400|0,\"4796. 부산은행\",37.56647110,126.97925568,13,0,true,false,false,10,false,0\\n2845,1644918610.1540778|-32400|0,\"4797. KG타워 앞\",37.56339645,126.96894073,19,0,true,false,false,10,false,0\\n2903,1644918610.1541457|-32400|0,\"4798. 황학동롯데캐슬\",37.57162094,127.02204132,11,0,true,false,false,10,false,0\\n2628,1644918610.1542127|-32400|0,\"4802. 새우개마을\",37.61571121,127.10104370,3,5,true,false,false,8,false,0\\n2629,1644918610.1542797|-32400|0,\"4803. 상봉2동 주민센터 앞\",37.59268951,127.08028412,4,3,true,false,false,7,false,0\\n2630,1644918610.1543481|-32400|0,\"4804. 동서울농협 앞\",37.59596252,127.08477783,15,0,true,false,false,9,false,0\\n2631,1644918610.154415|-32400|0,\"4807. 라코지스테이 앞\",37.59432602,127.07846069,7,1,true,false,false,8,false,0\\n2632,1644918610.1544814|-32400|0,\"4808. 신내2동 주민센터 앞\",37.60641098,127.09404755,1,7,true,false,false,8,false,0\\n2633,1644918610.1545484|-32400|0,\"4809. 동성1,2차 아파트 앞\",37.61022568,127.09628296,14,0,true,false,false,8,false,0\\n2634,1644918610.154616|-32400|0,\"4811. 한양수자인아파트 앞\",37.58032227,127.09415436,0,10,true,false,false,10,false,0\\n2635,1644918610.1546834|-32400|0,\"4812. 묵동 이마트 앞\",37.61321640,127.07734680,8,2,true,false,false,10,false,0\\n2636,1644918610.1547508|-32400|0,\"4813. 망우로 버거킹 앞\",37.59877777,127.09638977,2,8,true,false,false,10,false,0\\n2795,1644918610.1548176|-32400|0,\"4815. 중랑데시앙플렉스 앞\",37.61755371,127.10399628,8,0,true,false,false,8,false,0\\n2846,1644918610.154885|-32400|0,\"4819. 면목동 새싹어린이공원 앞\",37.58333206,127.08354950,6,4,true,false,false,10,false,0\\n2860,1644918610.154952|-32400|0,\"4820. 망우역 2번 출구\",37.60025406,127.09171295,2,8,true,false,false,10,false,0\\n2881,1644918610.1550186|-32400|0,\"4821. 동원초등학교 정문 앞\",37.60548782,127.10463715,4,1,true,false,false,5,false,0\\n2921,1644918610.1550856|-32400|0,\"4823. 방정환교육지원센터 옆\",37.59780884,127.08844757,2,6,true,false,false,8,false,0\\n2922,1644918610.155152|-32400|0,\"4824. 상봉신협 앞\",37.59354401,127.08979034,2,5,true,false,false,7,false,0\\n2906,1644918610.1552198|-32400|0,\"4825. 신내동 벽산아파트 후문 앞\",37.60304260,127.10050201,3,5,true,false,false,8,false,0\\n2904,1644918610.1552868|-32400|0,\"4826. 홈플러스 면목점\",37.57984543,127.08242035,6,2,true,false,false,8,false,0\\n2942,1644918610.1553538|-32400|0,\"4827. 신내SK V1센터 앞\",37.61272430,127.11306000,14,6,true,false,false,20,false,0\\n2952,1644918610.1554277|-32400|0,\"4828. 신내동 한살림 중랑지구 앞\",37.60428619,127.09736633,2,3,true,false,false,5,false,0\\n2953,1644918610.1554954|-32400|0,\"4829. 신내동 마석감자탕 앞\",37.60446167,127.09741211,5,0,true,false,false,5,false,0\\n2969,1644918610.1555624|-32400|0,\"4834. 용마복지센터 앞\",37.58686447,127.09532166,0,8,true,false,false,8,false,0\\n3006,1644918610.1556299|-32400|0,\"4835. 망우동 본죽 앞\",37.60064316,127.10404968,2,5,true,false,false,7,false,0\\n3023,1644918610.1556969|-32400|0,\"4836. 양원역 1번 출구\",37.60655212,127.10708618,4,11,true,false,false,15,false,0\\n3024,1644918610.1557636|-32400|0,\"4837. 양원지구 힐데스하임 앞\",37.60924149,127.10620880,3,5,true,false,false,8,false,0\\n3025,1644918610.1558306|-32400|0,\"4838.동원사거리 행복오피스텔 앞\",37.58973694,127.09419250,0,7,true,false,false,7,false,0\\n2605,1644918610.1559207|-32400|0,\"4852. 서울복합물류 게이트 1\",37.47644424,127.12316895,9,1,true,false,false,10,false,0\\n2620,1644918610.1559892|-32400|0,\"4853. 송파 안전체험교육관\",37.50003433,127.15924835,3,7,true,false,false,10,false,0\\n2606,1644918610.156057|-32400|0,\"4854. 가락시장역 2번 출구\",37.49273300,127.11798859,12,0,true,false,false,10,false,0\\n2607,1644918610.156124|-32400|0,\"4855. 거여5단지 503동 앞\",37.48933029,127.14604950,0,10,true,false,false,10,false,0\\n2608,1644918610.1561918|-32400|0,\"4856. 올림픽공원 서1문 앞\",37.52021790,127.11457062,3,7,true,false,false,10,false,0\\n2621,1644918610.156259|-32400|0,\"4857. 올림픽공원 장미광장\",37.51275635,127.12629700,0,15,true,false,false,15,false,0\\n2609,1644918610.156326|-32400|0,\"4859. 잠실나루 나들목\",37.52148438,127.10028076,4,11,true,false,false,15,false,0\\n2757,1644918610.1563933|-32400|0,\"4860. 가락쌍용2차아파트 103동\",37.50226974,127.12195587,3,4,true,false,false,7,false,0\\n2755,1644918610.1564605|-32400|0,\"4861. 거여삼거리\",37.49308395,127.15203857,0,7,true,false,false,7,false,0\\n2756,1644918610.1565282|-32400|0,\"4862. 올림픽파크텔 맞은편\",37.52301788,127.11588287,14,0,true,false,false,10,false,0\\n2728,1644918610.156595|-32400|0,\"4863. 잠실나들목5\",37.51640320,127.07761383,5,2,true,false,false,7,false,0\\n2796,1644918610.1566617|-32400|0,\"4864. 송파사거리\",37.50205612,127.11054993,18,0,true,false,false,10,false,0\\n2797,1644918610.1567295|-32400|0,\"4865. 한성백제역 1번출구 뒤\",37.51647949,127.11498260,15,0,true,false,false,5,false,0\\n2798,1644918610.1567965|-32400|0,\"4867. 가락대림아파트 앞\",37.50002670,127.11843109,1,9,true,false,false,10,false,0\\n2833,1644918610.1568635|-32400|0,\"4868. 레이크 호텔 앞\",37.50717163,127.10124207,5,5,true,false,false,10,false,0\\n2850,1644918610.15693|-32400|0,\"4869. 잠실나들목6\",37.51629639,127.08460999,1,8,true,false,false,9,false,0\\n2876,1644918610.1569972|-32400|0,\"4870. 몽촌토성역 3번 출구\",37.51707840,127.11232758,6,4,true,false,false,10,false,0\\n2877,1644918610.1570637|-32400|0,\"4871. 오금동 대림아파트 정문\",37.51072693,127.13040161,2,5,true,false,false,7,false,0\\n2878,1644918610.1571314|-32400|0,\"4872. 개롱역 3번 출구 뒤\",37.49806213,127.13461304,3,4,true,false,false,7,false,0\\n2915,1644918610.157199|-32400|0,\"4873. 개롱역사거리 2번 출구\",37.49827194,127.13486481,4,7,true,false,false,11,false,0\\n2916,1644918610.1572661|-32400|0,\"4874. 탄천1교 하부보도\",37.50117111,127.08516693,7,3,true,false,false,10,false,0\\n2917,1644918610.1573327|-32400|0,\"4875. 위례포레샤인13단지\",37.48255539,127.13983154,6,4,true,false,false,10,false,0\\n2918,1644918610.1574006|-32400|0,\"4876. 삼전동주민센터 앞\",37.50291443,127.09253693,7,0,true,false,false,7,false,0\\n2936,1644918610.1574676|-32400|0,\"4879. 마천청소년센터\",37.49222183,127.15659332,2,3,true,false,false,5,false,0\\n2957,1644918610.1575341|-32400|0,\"4880. 송파청소년센터\",37.48995972,127.11196136,9,0,true,false,false,9,false,0\\n2937,1644918610.157601|-32400|0,\"4881. 거여동사거리 송파둘레길 입구\",37.49535751,127.13947296,2,3,true,false,false,5,false,0\\n2938,1644918610.1576684|-32400|0,\"4882. 위례포레샤인18단지 1802동\",37.48868561,127.15226746,1,4,true,false,false,5,false,0\\n2939,1644918610.1577356|-32400|0,\"4883. 위례포레샤인18단지 1812동\",37.48714828,127.15328217,0,10,true,false,false,10,false,0\\n2984,1644918610.1578028|-32400|0,\"4884. H비즈니스파크\",37.48352432,127.11683655,2,3,true,false,false,5,false,0\\n2985,1644918610.1578693|-32400|0,\"4885. 가든파이브 리빙관\",37.47709656,127.12370300,1,7,true,false,false,8,false,0\\n2986,1644918610.1579363|-32400|0,\"4886. 배명고등학교 건너편\",37.49793243,127.09675598,4,2,true,false,false,6,false,0\\n2987,1644918610.1580036|-32400|0,\"4887. 호돌이상가\",37.48618698,127.11348724,0,6,true,false,false,6,false,0\\n2940,1644918610.1580706|-32400|0,\"4888. 둔촌오륜역 2번출구\",37.51869202,127.13906097,3,7,true,false,false,10,false,0\\n2941,1644918610.1581373|-32400|0,\"4889. 마천역 1번 출구 인근②\",37.49459076,127.15109253,0,10,true,false,false,10,false,0\\n3004,1644918610.158227|-32400|0,\"4891. 위례포레샤인17단지 위례대로 방면\",37.48455429,127.14919281,1,9,true,false,false,10,false,0\\n3005,1644918610.1582956|-32400|0,\"4892. 성내유수지 체육공원\",37.52597046,127.11820984,1,9,true,false,false,10,false,0\\n2972,1644918610.158363|-32400|0,\"4893. 문정법조단지12\",37.48639297,127.11483765,1,5,true,false,false,6,false,0\\n2973,1644918610.1584306|-32400|0,\"4894. 문정법조단지13\",37.48632431,127.11508942,0,8,true,false,false,8,false,0\\n2988,1644918610.1584976|-32400|0,\"4895. 위례포레샤인15단지 상가\",37.48641586,127.14205933,1,5,true,false,false,6,false,0\\n2989,1644918610.1585648|-32400|0,\"4896. 위례포레샤인15단지\",37.48688889,127.14169312,1,9,true,false,false,10,false,0\\n2991,1644918610.158654|-32400|0,\"4897. 잠실주공5단지1\",37.51633453,127.09380341,9,6,true,false,false,15,false,0\\n2871,1644918610.1587236|-32400|0,\"5052. 마곡역7번출구 홈앤쇼핑 앞\",37.55974579,126.82438660,4,6,true,false,false,10,false,0\\n2883,1644918610.158791|-32400|0,\"5053. 신마곡벽산블루밍메트로오피스텔앞\",37.57108688,126.80754089,16,9,true,false,false,25,false,0\\n2884,1644918610.1588583|-32400|0,\"5055. 마곡역5번출구앞\",37.55905914,126.82704926,6,1,true,false,false,7,false,0\\n2885,1644918610.1589255|-32400|0,\"5056. 마곡역4,5번출구\",37.55932999,126.82717896,3,5,true,false,false,8,false,0\\n2886,1644918610.158992|-32400|0,\"5057. 마곡역4번출구\",37.55931091,126.82743835,3,3,true,false,false,6,false,0\\n2887,1644918610.159059|-32400|0,\"5059. 화곡2동주민센터\",37.53182220,126.85462189,2,5,true,false,false,7,false,0\\n2888,1644918610.159126|-32400|0,\"5061. 우장산동 가곡어린이공원앞\",37.55545425,126.83751678,10,0,true,false,false,10,false,0\\n2889,1644918610.1591933|-32400|0,\"5062. 마곡동 767-6\",37.56354141,126.82455444,1,9,true,false,false,10,false,0\\n2890,1644918610.1592603|-32400|0,\"5063. 서남환경공원(방화동도시개발2단지방향)\",37.57334137,126.82331848,3,13,true,false,false,16,false,0\\n2943,1644918610.1593273|-32400|0,\"5064. 양천향교역8번출구\",37.56902695,126.83988190,16,0,true,false,false,10,false,0\\n2944,1644918610.159394|-32400|0,\"5065. 허준박물관삼거리\",37.56724548,126.85038757,1,9,true,false,false,10,false,0\\n2945,1644918610.1595302|-32400|0,\"5066. 아망떼마곡전시장\",37.55791473,126.83297729,2,8,true,false,false,10,false,0\\n2946,1644918610.1595979|-32400|0,\"5067. 주원 리젠트 앞\",37.55085754,126.87233734,4,4,true,false,false,8,false,0\\n2965,1644918610.1596653|-32400|0,\"5070. 마곡13단지힐스테이트마스터 후문(1320동 앞)\",37.55676270,126.81869507,7,8,true,false,false,15,false,0\\n2947,1644918610.1597333|-32400|0,\"5072. 김포공항입구 교통섬\",37.56154633,126.80708313,7,3,true,false,false,10,false,0\\n2992,1644918610.1598|-32400|0,\"5073. 우장산역 헤링턴타워 앞\",37.54661942,126.83623505,5,1,true,false,false,6,false,0\\n2993,1644918610.1598668|-32400|0,\"5074. 마곡동 주니아 마곡점 앞\",37.55823517,126.82575989,5,5,true,false,false,10,false,0\\n2994,1644918610.1599352|-32400|0,\"5075. 템퍼 목동점\",37.55188370,126.86357117,4,6,true,false,false,10,false,0\\n3015,1644918610.1600027|-32400|0,\"5301. 상계백병원점\",37.64805984,127.06239319,2,2,true,false,false,4,false,0\\n3040,1644918610.1600697|-32400|0,\"5851. 도림천 건널목 위\",37.50208282,126.89318848,4,11,true,false,false,15,false,0\\n3041,1644918610.160137|-32400|0,\"5852. 대림동현대2차 201동 앞\",37.50300598,126.89382935,0,7,true,false,false,7,false,0\\n1747,1644918610.1602046|-32400|0,\"상담센터\",0.00000000,0.00000000,1,3,true,false,false,4,false,0\\n34,1644918610.1602721|-32400|0,\"99998. 상암단말정비\",-87.39414978,51.31660461,2135,0,true,false,false,17,false,0\\n']"
      ]
     },
     "execution_count": 14,
     "metadata": {},
     "output_type": "execute_result"
    }
   ],
   "source": [
    "[i for i in station_info_list if \"Kyobo Tower Bus Stop\" in i]"
   ]
  },
  {
   "cell_type": "code",
   "execution_count": 15,
   "id": "7e79470e",
   "metadata": {},
   "outputs": [],
   "source": [
    "#removing \\n from list\n",
    "\n",
    "clean_lst1 = []\n",
    "for x in station_info_list:\n",
    "    clean_lst1.append(x.replace(\"\\n\", \"\"))#.replace(\"0',\", \"\").replace(\"'0',\",\"\").replace(\"6',\", \"\"))"
   ]
  },
  {
   "cell_type": "code",
   "execution_count": 16,
   "id": "146cbc64",
   "metadata": {
    "collapsed": true,
    "jupyter": {
     "outputs_hidden": true
    },
    "tags": []
   },
   "outputs": [
    {
     "data": {
      "text/plain": [
       "['#id,timestamp|gmt_local_diff_sec|gmt_servertime_diff_sec,name,lat,lon,bikes,spaces,installed,locked,temporary,total_docks,givesbonus_acceptspedelecs_fbbattlevel,pedelecs700,1644918603.4446523|-3600|0,\"01. Stazione FS\",44.223352,12.055386,9,14,true,false,false,24,false,0701,1644918603.4448013|-3600|0,\"02. Vittoria\",44.217607,12.050157,4,6,true,false,false,10,false,0702,1644918603.4449384|-3600|0,\"03. Vittorio Veneto\",44.227917,12.042153,8,7,true,false,false,16,false,0703,1644918603.4450727|-3600|0,\"04. Piazza Saffi\",44.223322,12.041495,15,11,true,false,false,28,false,0704,1644918603.4452188|-3600|0,\"05. San Domenico\",44.222041,12.036168,1,13,true,false,false,14,false,0705,1644918603.4453604|-3600|0,\"06. Park dell\\'Argine\",44.218927,12.032757,9,11,true,false,false,21,false,0706,1644918603.4455001|-3600|0,\"07. Park Schiavonia\",44.226215,12.028287,1,5,true,false,false,6,false,01397,1644918603.445636|-3600|0,\"09. Campus Universitario I\",44.219257,12.042756,4,5,true,false,false,9,false,01398,1644918603.4457433|-3600|0,\"10. Park Oriani\",44.221137,12.049119,3,5,true,false,false,8,false,01399,1644918603.4458475|-3600|0,\"11. Campus Universitario II\",44.217696,12.044369,3,7,true,false,false,10,false,01673,1644918603.4459524|-3600|0,\"12. XX Settembre\",44.222188,12.042997,3,4,true,false,false,7,false,01674,1644918603.4460547|-3600|0,\"13. BIKE POINT Park Lombardini\",44.217425,12.041227,0,8,true,false,false,8,false,01675,1644918603.4461653|-3600|0,\"14. BIKE POINT Park Manzoni\",44.223120,12.047737,7,1,true,false,false,8,false,0',\n",
       " '#id,timestamp|gmt_local_diff_sec|gmt_servertime_diff_sec,name,lat,lon,bikes,spaces,installed,locked,temporary,total_docks,givesbonus_acceptspedelecs_fbbattlevel,pedelecs2,1644918841|10800|0,\"002 - Retiro I\",-34.5924233,-58.3747151,9,10,true,false,false,20,,03,1644918841|10800|0,\"003 - ADUANA\",-34.611032,-58.3682604,3,17,true,false,false,20,,04,1644918841|10800|0,\"004 - Plaza Roma\",-34.601822,-58.368781,0,20,true,false,false,20,,05,1644918841|10800|0,\"005 - Plaza Italia\",-34.5805497,-58.4209542,9,33,true,false,false,42,,06,1644918841|10800|0,\"006 - Parque Lezama\",-34.628526,-58.369758,8,11,true,false,false,20,,07,1644918841|10800|0,\"007 - OBELISCO\",-34.606498,-58.381098,1,15,true,false,false,16,,08,1644918841|10800|0,\"008 - Congreso\",-34.6094218,-58.3893364,3,20,true,false,false,24,,09,1644918841|10800|0,\"009 - Parque Las Heras\",-34.585443,-58.407741,4,20,true,false,false,24,,012,1644918841|10800|0,\"012 - Plaza Vicente Lopez\",-34.5927096,-58.388807,0,16,true,false,false,16,,013,1644918841|10800|0,\"013 - ONCE\",-34.61009,-58.406,2,28,true,false,false,30,,014,1644918841|10800|0,\"014 - Pacifico\",-34.577424,-58.426387,17,12,true,false,false,30,,017,1644918841|10800|0,\"017 - Plaza Almagro\",-34.6064101,-58.4187306,7,11,true,false,false,20,,020,1644918841|10800|0,\"020 - Distrito Audiovisual\",-34.5798619,-58.4417756,4,14,true,false,false,20,,021,1644918841|10800|0,\"021 - Parque Patricios\",-34.640111,-58.406432,24,0,true,false,false,24,,022,1644918841|10800|0,\"022 - Arenales\",-34.5938629,-58.3825498,0,20,true,false,false,20,,023,1644918841|10800|0,\"023 - Suipacha\",-34.600139,-58.379836,0,12,true,false,false,12,,024,1644918841|10800|0,\"024 - ALSINA\",-34.610583,-58.3808943,1,17,true,false,false,18,,025,1644918841|10800|0,\"025 - Plaza Guemes\",-34.5894269,-58.4161178,4,20,true,false,false,24,,026,1644918841|10800|0,\"026 - JUANA MANSO I\",-34.600752,-58.3638723,2,22,true,false,false,24,,027,1644918841|10800|0,\"027 - Montevideo\",-34.599068,-58.3900887,4,11,true,false,false,16,,029,1644918841|10800|0,\"029 - Parque Centenario\",-34.6079414,-58.4335573,17,12,true,false,false,30,,030,1644918841|10800|0,\"030 - Peña\",-34.5908211,-58.3973698,7,12,true,false,false,20,,032,1644918841|10800|0,\"032 - Catedral\",-34.6072074,-58.3735984,1,15,true,false,false,16,,033,1644918841|10800|0,\"033 - Facultad de Medicina\",-34.5970909,-58.3989807,2,18,true,false,false,20,,035,1644918841|10800|0,\"035 - INGENIERO BUTTY\",-34.5964246,-58.371847,0,20,true,false,false,20,,036,1644918841|10800|0,\"036 - MAIPÚ\",-34.6045481,-58.3767677,1,15,true,false,false,16,,038,1644918841|10800|0,\"038 - Plaza Libertad\",-34.5970497,-58.3828403,3,16,true,false,false,20,,041,1644918841|10800|0,\"041 - Urquiza y Rondeau\",-34.6364511,-58.4076348,15,3,true,false,false,20,,043,1644918841|10800|0,\"334 - CENTRO DE EXPOSICIONES\",-34.584018,-58.389921,18,2,true,false,false,20,,044,1644918841|10800|0,\"044 - Ecoparque\",-34.5755148,-58.4138829,9,11,true,false,false,20,,045,1644918841|10800|0,\"045 - Uruguay\",-34.6018635,-58.3866934,0,20,true,false,false,20,,046,1644918841|10800|0,\"046 - Chile\",-34.6163012,-58.3743749,2,16,true,false,false,18,,048,1644918841|10800|0,\"034 - Colonia Express\",-34.624255,-58.362131,1,15,true,false,false,16,,049,1644918841|10800|0,\"049 - 33 Orientales\",-34.6290527,-58.422611,3,9,true,false,false,16,,050,1644918841|10800|0,\"050 - Hospital Rivadavia\",-34.5837348,-58.4010798,4,13,true,false,false,20,,051,1644918841|10800|0,\"051 - TUCUMAN\",-34.6014776,-58.3821261,0,11,true,false,false,12,,054,1644918841|10800|0,\"054 - Acuña de Figueroa\",-34.5982097,-58.4220694,7,6,true,false,false,16,,056,1644918841|10800|0,\"056 - Plaza Palermo Viejo\",-34.588567,-58.425999,3,13,true,false,false,16,,058,1644918841|10800|0,\"058 - Ministro Carranza\",-34.5752773,-58.4346883,4,15,true,false,false,20,,059,1644918841|10800|0,\"018 - Independencia\",-34.617654,-58.380565,3,17,true,false,false,20,,060,1644918841|10800|0,\"060 - 25 De Mayo\",-34.6016509,-58.371079,0,20,true,false,false,20,,061,1644918841|10800|0,\"098 - AV. ALVAREZ JONTE Y BENITO JUAREZ\",-34.61880867765093,-58.504662916142756,13,3,true,false,false,16,,063,1644918841|10800|0,\"063 - Reconquista\",-34.5986,-58.373062,0,20,true,false,false,20,,064,1644918841|10800|0,\"064 - RIOBAMBA\",-34.5936508,-58.3941087,2,18,true,false,false,20,,065,1644918841|10800|0,\"065 - Julián Álvarez\",-34.5873124,-58.4157873,1,19,true,false,false,21,,066,1644918841|10800|0,\"066 - Billinghurst\",-34.5945475,-58.4138713,4,16,true,false,false,20,,068,1644918841|10800|0,\"105 - PARQUE SAAVEDRA\",-34.552148,-58.480464,11,3,true,false,false,16,,069,1644918841|10800|0,\"069 - Ecuador\",-34.5961006,-58.4046092,9,7,true,false,false,16,,070,1644918841|10800|0,\"070 - ARAOZ\",-34.5926862,-58.4260597,3,17,true,false,false,20,,071,1644918841|10800|0,\"071 - CERRITO\",-34.6026673,-58.3833559,3,27,true,false,false,30,,073,1644918841|10800|0,\"073 - Ruy Díaz de Guzmán\",-34.6306814,-58.3718235,15,1,true,false,false,16,,074,1644918841|10800|0,\"074 - INSTITUTO  LELOIR\",-34.60439,-58.43454,13,16,true,false,false,30,,075,1644918841|10800|0,\"075 - Plaza Primero de Mayo\",-34.6122976,-58.3989871,18,0,true,false,false,20,,076,1644918841|10800|0,\"076 - Ayacucho\",-34.6074084,-58.3950548,5,9,true,false,false,20,,077,1644918841|10800|0,\"109 - ESTACION PUEYRREDON\",-34.581135,-58.501487,12,3,true,false,false,16,,079,1644918841|10800|0,\"079 - AZUCENA VILLAFLOR\",-34.61189,-58.36393,0,29,true,false,false,30,,080,1644918841|10800|0,\"080 - DOBLAS\",-34.624435,-58.4303766,11,4,true,false,false,16,,082,1644918841|10800|0,\"082 - HOSPITAL ITALIANO\",-34.6078917,-58.4263947,9,11,true,false,false,20,,083,1644918841|10800|0,\"083 - Paraná\",-34.603269,-58.3893728,0,19,true,false,false,20,,084,1644918841|10800|0,\"084 - Lavalle\",-34.6023203,-58.3955144,3,16,true,false,false,20,,085,1644918841|10800|0,\"085 - AGUERO\",-34.5948057,-58.4091784,2,18,true,false,false,20,,086,1644918841|10800|0,\"086 - SAAVEDRA\",-34.6212681,-58.4016808,1,18,true,false,false,20,,087,1644918841|10800|0,\"087 - Guayaquil\",-34.619845,-58.4314942,13,1,true,false,false,16,,089,1644918841|10800|0,\"089 - Cabello\",-34.5825475,-58.4056671,9,9,true,false,false,20,,091,1644918841|10800|0,\"091 - Pasco\",-34.6174482,-58.397602,5,14,true,false,false,20,,092,1644918841|10800|0,\"092 - Salcedo\",-34.6316444,-58.4053386,13,7,true,false,false,20,,093,1644918841|10800|0,\"093 - CARLOS CALVO\",-34.620798,-58.3944635,7,12,true,false,false,20,,094,1644918841|10800|0,\"094 - GÚZMAN\",-34.591511,-58.449652,11,18,true,false,false,30,,095,1644918841|10800|0,\"095 - ESMERALDA\",-34.6021121,-58.3781678,5,11,true,false,false,16,,096,1644918841|10800|0,\"096 - Carlos Gardel\",-34.6027814,-58.4116586,6,11,true,false,false,20,,098,1644918841|10800|0,\"037- Claudia Pía Baudracco\",-34.6081643,-58.3779002,1,15,true,false,false,16,,099,1644918841|10800|0,\"099 - Malabia\",-34.5960961,-58.435408,12,6,true,false,false,20,,0101,1644918841|10800|0,\"101 - Fitz Roy\",-34.5891857,-58.4424397,6,14,true,false,false,20,,0104,1644918841|10800|0,\"104 - Federico Lacroze\",-34.587617,-58.455212,16,14,true,false,false,30,,0107,1644918841|10800|0,\"107 - HOSPITAL GARRAHAN\",-34.630374,-58.395852,3,12,true,false,false,16,,0111,1644918841|10800|0,\"111 - MACACHA GUEMES\",-34.6054877,-58.3646858,0,28,true,false,false,30,,0112,1644918841|10800|0,\"112 - 9 de Julio\",-34.612075,-58.380384,0,20,true,false,false,20,,0114,1644918841|10800|0,\"114 - DELLA PAOLERA\",-34.5949745,-58.3722554,2,18,true,false,false,20,,0116,1644918841|10800|0,\"116 - HOSPITAL ALEMÁN\",-34.5921708,-58.4025894,7,5,true,false,false,12,,0117,1644918841|10800|0,\"117 - HUMBERTO 1°\",-34.6201008,-58.3741759,2,11,true,false,false,16,,0118,1644918841|10800|0,\"118 - MEXICO\",-34.6170196,-58.4026531,0,20,true,false,false,20,,0120,1644918841|10800|0,\"120 - HOSPITAL RAMOS MEJIA\",-34.617509,-58.4092876,3,17,true,false,false,20,,0121,1644918841|10800|0,\"121 - YATAY\",-34.6011732,-58.4285093,5,14,true,false,false,20,,0124,1644918841|10800|0,\"124 - UGARTECHE\",-34.580538,-58.411965,13,4,true,false,false,20,,0126,1644918841|10800|0,\"126 - Ministerio de Justicia y Seguridad\",-34.6402672,-58.3692243,9,7,true,false,false,16,,0128,1644918841|10800|0,\"128 - PARQUE DEL BAJO\",-34.6041138,-58.3689118,2,18,true,false,false,20,,0130,1644918841|10800|0,\"130 - RETIRO II\",-34.5921056,-58.3745419,15,24,true,false,false,40,,0131,1644918841|10800|0,\"131- HOSPITAL DE CLÍNICAS\",-34.5984043,-58.3990158,2,14,true,false,false,16,,0132,1644918841|10800|0,\"132 - CORRIENTES\",-34.6033685,-58.372763,2,10,true,false,false,12,,0134,1644918841|10800|0,\"134 - SOLDADO DE LA FRONTERA\",-34.68294,-58.4659,7,4,true,false,false,12,,0135,1644918841|10800|0,\"135 - MARCELO T. DE ALVEAR\",-34.5972818,-58.3787856,2,18,true,false,false,20,,0137,1644918841|10800|0,\"137 - AZOPARDO Y CHILE\",-34.6155977,-58.3674923,4,16,true,false,false,20,,0138,1644918841|10800|0,\"138 - Hospital Britanico\",-34.6353595,-58.3876724,9,3,true,false,false,12,,0144,1644918841|10800|0,\"144 - PUEYRREDÓN\",-34.6018744,-58.4060944,6,12,true,false,false,20,,0146,1644918841|10800|0,\"146 - Hospital Francés\",-34.6221118,-58.4078419,3,16,true,false,false,20,,0149,1644918841|10800|0,\"149 - LIMA\",-34.6153266,-58.3813642,1,14,true,false,false,16,,0150,1644918841|10800|0,\"150 - RODRIGO BUENO\",-34.6187547,-58.3554654,10,19,true,false,false,30,,0151,1644918841|10800|0,\"151 - AIME PAINÉ\",-34.6118145,-58.361285,0,23,true,false,false,24,,0152,1644918841|10800|0,\"152 - JULIETA LANTERI\",-34.6181645,-58.3596311,11,5,true,false,false,20,,0153,1644918841|10800|0,\"153 - JUAN MANUEL DE BLANES\",-34.6307765,-58.3620701,10,6,true,false,false,16,,0155,1644918841|10800|0,\"155 - Parque José Evaristo Uriburu\",-34.64117,-58.412408,19,1,true,false,false,20,,0156,1644918841|10800|0,\"156 - Plaza Alemania\",-34.5775895,-58.4074696,11,9,true,false,false,20,,0158,1644918841|10800|0,\"158 - VILLARROEL\",-34.592735,-58.4450697,12,8,true,false,false,20,,0161,1644918841|10800|0,\"161 - Humahuaca\",-34.6020779,-58.4196761,1,14,true,false,false,20,,0162,1644918841|10800|0,\"162 - LARREA Y BARTOLOMÉ MITRE\",-34.608985,-58.401924,8,11,true,false,false,20,,0163,1644918841|10800|0,\"163 - ONCE II\",-34.6095663,-58.4064308,4,23,true,false,false,30,,0164,1644918841|10800|0,\"164 - FACULTAD DE INGENIERIA\",-34.6181442,-58.3669021,1,18,true,false,false,20,,0165,1644918841|10800|0,\"165 - PLAZA MONSEÑOR MIGUEL DE ANDREA\",-34.597048,-58.407614,1,11,true,false,false,12,,0166,1644918841|10800|0,\"166 - Cementerio de Recoleta\",-34.588346663239754,-58.394147942865644,0,12,true,false,false,12,,0167,1644918841|10800|0,\"275 - PLAZA 24 DE SEPTIEMBRE\",-34.606984,-58.44854,9,7,true,false,false,16,,0168,1644918841|10800|0,\"168 - Estados Unidos\",-34.6186217,-58.3812271,3,13,true,false,false,16,,0169,1644918841|10800|0,\"169 - FACULTAD DE PSICOLOGIA\",-34.6123459,-58.411856,4,7,true,false,false,12,,0171,1644918841|10800|0,\"171 - Pasteur\",-34.6032813,-58.3997553,2,17,true,false,false,20,,0172,1644918841|10800|0,\"172 - BRASIL\",-34.625426,-58.371082,1,15,true,false,false,16,,0174,1644918841|10800|0,\"174 - MINISTERIO DE EDUCACION\",-34.597225,-58.391768,1,19,true,false,false,20,,0175,1644918841|10800|0,\"147 - Constitución\",-34.626851,-58.380707,26,8,true,false,false,36,,0176,1644918841|10800|0,\"067 - PARQUE SARMIENTO I\",-34.555254,-58.494845,6,10,true,false,false,16,,0179,1644918841|10800|0,\"179 - CASA SAN\",-34.6384786,-58.3642885,14,0,true,false,false,16,,0181,1644918841|10800|0,\"181 - BILLINGHURST Y MANSILLA\",-34.5926649,-58.4120072,1,19,true,false,false,20,,0182,1644918841|10800|0,\"182 - RAVIGNANI Y GUATEMALA\",-34.5780479,-58.4352466,4,13,true,false,false,20,,0183,1644918841|10800|0,\"183 - VIRREY CEVALLOS\",-34.6156994,-58.3899728,8,11,true,false,false,20,,0184,1644918841|10800|0,\"184 - Pedro Echague\",-34.6306129,-58.3913419,6,13,true,false,false,20,,0186,1644918841|10800|0,\"186 - MANZANA 66\",-34.6136356,-58.4064415,3,17,true,false,false,20,,0187,1644918841|10800|0,\"261 - QUINTEROS LIDORO\",-34.552571,-58.450897,15,1,true,false,false,16,,0188,1644918841|10800|0,\"373 - Jorgelina De Simone\",-34.623923,-58.3904814,10,5,true,false,false,16,,0189,1644918841|10800|0,\"189 - POSADAS\",-34.5886889,-58.3852113,1,18,true,false,false,20,,0190,1644918841|10800|0,\"190 - JUNCAL\",-34.5850763,-58.4111136,0,19,true,false,false,20,,0191,1644918841|10800|0,\"191 - Rivadavia y 9 de Julio\",-34.6079305,-58.3808358,7,9,true,false,false,16,,0193,1644918841|10800|0,\"193 - ARENALES Y AGUERO\",-34.5908626,-58.4061652,8,12,true,false,false,20,,0194,1644918841|10800|0,\"194 - PERÓN Y ACUÑA DE FIGUEROA\",-34.6060758,-58.4224635,3,12,true,false,false,16,,0196,1644918841|10800|0,\"196 - HOSPITAL ARGERICH\",-34.6275351,-58.3657211,15,1,true,false,false,20,,0197,1644918841|10800|0,\"197 - PLAZA CIUDAD DE UDINE\",-34.620998,-58.493044,17,2,true,false,false,20,,0199,1644918841|10800|0,\"199 - ESTADOS UNIDOS Y BOEDO\",-34.6222601,-58.4160137,11,5,true,false,false,20,,0200,1644918841|10800|0,\"200 - AUSTRIA Y FRENCH\",-34.5890696,-58.40536170000001,2,13,true,false,false,15,,0202,1644918841|10800|0,\"001 - FACULTAD DE DERECHO\",-34.583749,-58.390602,28,1,true,false,false,30,,0203,1644918841|10800|0,\"108 - Usina del Arte\",-34.628757,-58.356259,18,3,true,false,false,24,,0204,1644918841|10800|0,\"167 - Hipólito Yrigoyen\",-34.614948,-58.427818,14,9,true,false,false,24,,0205,1644918841|10800|0,\"125 - F.J.Santamaria de Oro\",-34.583323,-58.428016,0,15,true,false,false,16,,0206,1644918841|10800|0,\"159 - Fitz Roy & Gorriti\",-34.58495,-58.437339,6,10,true,false,false,16,,0207,1644918841|10800|0,\"123 - BASUALDO Y RODO\",-34.649323859081555,-58.4926339870569,9,5,true,false,false,16,,0210,1644918841|10800|0,\"335 - General Urquiza\",-34.572165,-58.411278,6,14,true,false,false,20,,0212,1644918841|10800|0,\"129 - Velasco\",-34.600275,-58.434875,7,11,true,false,false,20,,0213,1644918841|10800|0,\"136 - Acevedo\",-34.599659,-58.442685,16,3,true,false,false,20,,0214,1644918841|10800|0,\"142 - Armenia y Gorriti\",-34.590541,-58.428974,4,12,true,false,false,16,,0215,1644918841|10800|0,\"113 - Guatemala\",-34.585878,-58.424996,4,15,true,false,false,20,,0216,1644918841|10800|0,\"059 - Coronel Diaz\",-34.589968,-58.411493,4,16,true,false,false,20,,0219,1644918841|10800|0,\"140 - Las Casas\",-34.6360274,-58.4156332,11,1,true,false,false,16,,0220,1644918841|10800|0,\"097 - Avelino Diaz\",-34.635128,-58.427573,13,2,true,false,false,16,,0222,1644918841|10800|0,\"160 - Godoy Cruz y Libertador\",-34.572583,-58.420628,12,7,true,false,false,20,,0223,1644918841|10800|0,\"178 - José Marmol\",-34.6234,-58.424853,5,8,true,false,false,16,,0227,1644918841|10800|0,\"188 - Aranguren\",-34.610456,-58.432786,3,14,true,false,false,20,,0229,1644918841|10800|0,\"243 - PLAZOLETA CELEDONIO FLORES\",-34.581576,-58.45153,7,4,true,false,false,12,,0230,1644918841|10800|0,\"259 - PLAZA CASTELLI\",-34.5678255,-58.4645037,6,9,true,false,false,16,,0231,1644918841|10800|0,\"384 - PLAZA BENITO NAZAR\",-34.605109,-58.445897,10,5,true,false,false,16,,0232,1644918841|10800|0,\"252 - Tamborini\",-34.5599779,-58.4790578,8,12,true,false,false,20,,0235,1644918841|10800|0,\"281 - Villa Urquiza\",-34.573795,-58.487074,8,13,true,false,false,24,,0236,1644918841|10800|0,\"254 - Plaza Rafael Hernandez\",-34.562161,-58.455166,6,9,true,false,false,16,,0237,1644918841|10800|0,\"302 - ESTACION VILLA LURO\",-34.63670935917866,-58.50135525810292,7,9,true,false,false,16,,0239,1644918841|10800|0,\"391 - Plaza República de Ecuador\",-34.565091,-58.420702,13,6,true,false,false,20,,0241,1644918841|10800|0,\"348 - Villa del Parque\",-34.600874,-58.494123,5,7,true,false,false,12,,0242,1644918841|10800|0,\"103 - MALBA\",-34.57716,-58.403214,0,20,true,false,false,20,,0245,1644918841|10800|0,\"248 - Husares\",-34.552594,-58.4429397,10,5,true,false,false,16,,0247,1644918841|10800|0,\"282 - Tronador\",-34.5838957,-58.466494,4,11,true,false,false,18,,0248,1644918841|10800|0,\"346 - Plaza Zapiola\",-34.573522,-58.474635,17,2,true,false,false,20,,0249,1644918841|10800|0,\"307 - LEONARDO PEREYRA\",-34.649506877132595,-58.38912434455312,10,3,true,false,false,16,,0251,1644918841|10800|0,\"388 - Plaza Jose C Paz\",-34.64485797668555,-58.4097486603218,10,1,true,false,false,12,,0252,1644918841|10800|0,\"331 - CALIFORNIA\",-34.647121,-58.374336,7,9,true,false,false,16,,0254,1644918841|10800|0,\"276 - PRIMERA JUNTA\",-34.620717,-58.441607,14,1,true,false,false,16,,0255,1644918841|10800|0,\"374 - Puan\",-34.622092,-58.448547,12,2,true,false,false,16,,0257,1644918841|10800|0,\"264 - Plaza Marcos Sastre\",-34.570825,-58.481236,12,8,true,false,false,24,,0258,1644918841|10800|0,\"336 - La Pampa\",-34.565521,-58.455334,6,9,true,false,false,16,,0261,1644918841|10800|0,\"272 - Plaza Bruno Giordano\",-34.616151,-58.440584,11,4,true,false,false,16,,0262,1644918841|10800|0,\"349 - Plaza Saenz Peña\",-34.60976,-58.467477,15,1,true,false,false,16,,0263,1644918841|10800|0,\"270 - PLAZA DEL ANGEL GRIS\",-34.622003,-58.457555,8,3,true,false,false,12,,0265,1644918841|10800|0,\"361 - Plaza Don Segundo Sombra\",-34.64196,-58.4505,10,5,true,false,false,16,,0267,1644918841|10800|0,\"315 - BEIRO Y SAN MARTÍN\",-34.5976121,-58.4985424,10,4,true,false,false,16,,0268,1644918841|10800|0,\"399 - GARCIA DEL RIO\",-34.550015,-58.476521,26,0,true,false,false,28,,0269,1644918841|10800|0,\"260 - SAN MIGUEL DE GARICOITS\",-34.577329,-58.457799,16,0,true,false,false,18,,0270,1644918841|10800|0,\"370 - Beauchef\",-34.640114,-58.43026,17,3,true,false,false,20,,0271,1644918841|10800|0,\"365 - Venancio Flores\",-34.630108,-58.473844,14,6,true,false,false,20,,0273,1644918841|10800|0,\"223 - GAINZA\",-34.616758,-58.446751,13,1,true,false,false,16,,0275,1644918841|10800|0,\"256 - PLAZA NORUEGA\",-34.562396,-58.459148,10,9,true,false,false,20,,0277,1644918841|10800|0,\"292 - PLAZA BOLIVIA\",-34.563539,-58.436115,2,8,true,false,false,12,,0278,1644918841|10800|0,\"233 - MONROE\",-34.564122,-58.469813,8,8,true,false,false,16,,0280,1644918841|10800|0,\"222 - SIMON BOLIVAR\",-34.633528,-58.449379,22,1,true,false,false,24,,0281,1644918841|10800|0,\"350 - Plaza Irlanda\",-34.613778,-58.458315,17,2,true,false,false,24,,0284,1644918841|10800|0,\"229 - RIGLOS\",-34.631018,-58.435056,15,5,true,false,false,20,,0289,1644918841|10800|0,\"255 - BARRANCAS DE BELGRANO\",-34.559801,-58.448314,11,10,true,false,false,24,,0291,1644918841|10800|0,\"244 - UADE\",-34.617247,-58.381627,0,15,true,false,false,16,,0294,1644918841|10800|0,\"363 - Udaondo\",-34.5458835,-58.4520062,18,1,true,false,false,20,,0299,1644918841|10800|0,\"221 - CULPINA\",-34.631705,-58.466143,14,6,true,false,false,20,,0301,1644918841|10800|0,\"309 - UTN II\",-34.66036165776025,-58.4676386893849,18,2,true,false,false,20,,0302,1644918841|10800|0,\"340 - PLAZA NUEVA POMPEYA\",-34.6518464,-58.415771,15,0,true,false,false,16,,0304,1644918841|10800|0,\"395 - Agronomia II\",-34.58938,-58.4847,5,10,true,false,false,16,,0307,1644918841|10800|0,\"341 - COMUNA 4\",-34.65050475967216,-58.424671969909355,11,0,true,false,false,12,,0308,1644918841|10800|0,\"251 - Solar de la Abadía\",-34.567633,-58.436752,17,3,true,false,false,20,,0309,1644918841|10800|0,\"298 - PLAZA DR. JUAN B. TERAN\",-34.62141207128675,-58.51978098730658,11,3,true,false,false,16,,0310,1644918841|10800|0,\"356 - ESTACIÓN LUGANO\",-34.67735630418917,-58.47665863333657,2,10,true,false,false,14,,0311,1644918841|10800|0,\"213 - Hospital Alvear\",-34.5972098,-58.47421143,12,8,true,false,false,20,,0316,1644918841|10800|0,\"205 - SAN MARTIN\",-34.605567,-58.453475,11,3,true,false,false,16,,0318,1644918841|10800|0,\"285 - ESPINOSA\",-34.603936,-58.457317,17,2,true,false,false,20,,0322,1644918841|10800|0,\"289 - MONTAÑESES\",-34.551304,-58.454181,18,2,true,false,false,20,,0323,1644918841|10800|0,\"240 - ECHEVERRIA\",-34.565409,-58.459298,19,5,true,false,false,24,,0324,1644918841|10800|0,\"280 - JURAMENTO\",-34.578933,-58.4840556,3,12,true,false,false,16,,0327,1644918841|10800|0,\"366 - VILLA OLÍMPICA\",-34.677130515662185,-58.454286054001386,5,11,true,false,false,16,,0329,1644918841|10800|0,\"100 - Plaza Gurruchaga\",-34.593141,-58.435187,8,12,true,false,false,20,,0333,1644918841|10800|0,\"203 - Beiro\",-34.6008,-58.50335,13,7,true,false,false,20,,0335,1644918841|10800|0,\"206 - Galicia\",-34.615945,-58.47098,18,1,true,false,false,20,,0336,1644918841|10800|0,\"207 - PLAZA ARENALES\",-34.5999173,-58.5114159,27,0,true,false,false,28,,0340,1644918841|10800|0,\"359 - PLAZA BALCARCE\",-34.54754,-58.467844,14,5,true,false,false,20,,0342,1644918841|10800|0,\"218 - Campana\",-34.616813,-58.484297,10,9,true,false,false,20,,0348,1644918841|10800|0,\"231 - Margariños Cervantes\",-34.610482,-58.474369,9,0,true,false,false,12,,0353,1644918841|10800|0,\"237 - Madero Office\",-34.599036,-58.364695,2,15,true,false,false,20,,0355,1644918841|10800|0,\"242 - Plazoleta Rafael del Riego\",-34.567483,-58.446381,6,10,true,false,false,16,,0358,1644918841|10800|0,\"249 - Balbín\",-34.561486,-58.465586,11,1,true,false,false,12,,0359,1644918841|10800|0,\"250 - Fleni\",-34.555602,-58.450479,20,0,true,false,false,20,,0361,1644918841|10800|0,\"258 - Plaza J.J. Paso\",-34.569187,-58.453608,4,16,true,false,false,20,,0363,1644918841|10800|0,\"354 - José Martí\",-34.6439,-58.463114,16,0,true,false,false,16,,0364,1644918841|10800|0,\"381 - Matienzo Y Arce\",-34.568693,-58.43447,20,4,true,false,false,24,,0366,1644918841|10800|0,\"360 - Plaza Ramon Falcon\",-34.63562929312515,-58.482770573412935,10,2,true,false,false,12,,0367,1644918841|10800|0,\"287 - Belaustegui\",-34.61621214148026,-58.47720947344651,10,6,true,false,false,16,,0368,1644918841|10800|0,\"378 - AGRONOMIA\",-34.59807,-58.482079,6,6,true,false,false,12,,0369,1644918841|10800|0,\"304 - Navarro\",-34.592244,-58.491797,6,10,true,false,false,16,,0370,1644918841|10800|0,\"305 - Plaza Martin Rodriguez\",-34.590964,-58.500336,16,4,true,false,false,20,,0372,1644918841|10800|0,\"322 - MARTÍ Y DIRECTORIO\",-34.636406,-58.470136,11,1,true,false,false,12,,0373,1644918841|10800|0,\"265 - Plaza Exodo Jujeño\",-34.582336918286785,-58.48108314683206,6,10,true,false,false,16,,0374,1644918841|10800|0,\"367 - Eva Perón\",-34.646911365478765,-58.4699753897715,14,2,true,false,false,16,,0375,1644918841|10800|0,\"301 - Arregui Y Terrada\",-34.604597356692906,-58.48481211614322,4,11,true,false,false,16,,0376,1644918841|10800|0,\"324 - Las Victorias\",-34.626778,-58.487078,14,6,true,false,false,20,,0378,1644918841|10800|0,\"215 - HOSPITAL ALVAREZ\",-34.623123,-58.468287,9,9,true,false,false,20,,0382,1644918841|10800|0,\"204 - Biarritz\",-34.60547,-58.47739,8,8,true,false,false,16,,0384,1644918841|10800|0,\"267 - Plaza 25 De Agosto\",-34.57951881156862,-58.46183473148808,5,13,true,false,false,18,,0385,1644918841|10800|0,\"268 - Plaza Aristóbulo Del Valle\",-34.606159914753725,-58.493141345207654,10,4,true,false,false,17,,0386,1644918841|10800|0,\"277 - Coghlan\",-34.5654,-58.4759,4,4,true,false,false,8,,0387,1644918841|10800|0,\"278 - Donato Alvarez\",-34.602028,-58.465568,13,3,true,false,false,16,,0392,1644918841|10800|0,\"297 - TRONADOR Y GARCÍA DEL RÍO\",-34.554581,-58.485381,12,3,true,false,false,16,,0400,1644918841|10800|0,\"313 - De Los Incas\",-34.579751,-58.471003,2,12,true,false,false,16,,0403,1644918841|10800|0,\"316 - Buenos Aires\",-34.645532066615736,-58.39667441428978,10,10,true,false,false,20,,0407,1644918841|10800|0,\"330 - Parque Avellaneda\",-34.641288,-58.479945,10,18,true,false,false,28,,0408,1644918841|10800|0,\"364 - CERRETTI Y MANUELA PEDRAZA\",-34.56912,-58.50025,4,11,true,false,false,16,,0412,1644918841|10800|0,\"372 - VILLA SOLDATI\",-34.66145153498837,-58.44014625846915,8,0,true,false,false,8,,0413,1644918841|10800|0,\"382 - MERCADO DE HACIENDA MATADEROS\",-34.6602831,-58.5031426,6,9,true,false,false,16,,0416,1644918841|10800|0,\"257 - Plaza Francisco Ramirez\",-34.553262,-58.469133,27,1,true,false,false,28,,0417,1644918841|10800|0,\"127 - PLAZA LEONARDO N. ALEM\",-34.57634,-58.50248,12,8,true,false,false,20,,0422,1644918841|10800|0,\"379 - PARQUE SARMIENTO II\",-34.56454,-58.50289,3,13,true,false,false,16,,0423,1644918841|10800|0,\"043 - PLAZA ALBERDI\",-34.559255,-58.487772,8,4,true,false,false,12,,0424,1644918841|10800|0,\"387 - Luna\",-34.638584,-58.39965,8,8,true,false,false,16,,0425,1644918841|10800|0,\"394 - Av. La Plata\",-34.6440763,-58.422091,16,0,true,false,false,16,,0426,1644918841|10800|0,\"396 - PLAZA ALBERTI\",-34.555081,-58.458538,14,3,true,false,false,20,,0427,1644918841|10800|0,\"397 - PARQUE SANTOJANNI\",-34.64706360234081,-58.5148283486816,7,7,true,false,false,16,,0428,1644918841|10800|0,\"225 - HOSPITAL TORNU\",-34.587458,-58.4739506,7,13,true,false,false,20,,0429,1644918841|10800|0,\"201 - PLAZA EJERCITO DE LOS ANDES\",-34.63897407331851,-58.51010241799404,1,15,true,false,false,16,,0432,1644918841|10800|0,\"187 - Jose Maria Moreno\",-34.619879,-58.435801,11,8,true,false,false,20,,0433,1644918841|10800|0,\"273 - Plazoleta Colombia\",-34.637697,-58.373726,19,0,true,false,false,20,,0434,1644918841|10800|0,\"247 - PLAZA LUCIO DEMARE\",-34.54569,-58.46514,14,2,true,false,false,16,,0435,1644918841|10800|0,\"227 -Club Ciudad de Buenos Aires\",-34.544503,-58.459499,8,4,true,false,false,16,,0441,1644918841|10800|0,\"016 - Legislatura\",-34.609801,-58.3748,1,18,true,false,false,20,,0444,1644918841|10800|0,\"061-Ministerio de Economia\",-34.608936,-58.370716,1,23,true,false,false,24,,0448,1644918841|10800|0,\"393 - Barrio 31\",-34.582422,-58.378862,9,14,true,false,false,24,,0449,1644918841|10800|0,\"352 - San Jose de Flores\",-34.629083,-58.463251,7,17,true,false,false,24,,0453,1644918841|10800|0,\"028 - Plaza de la Bandera\",-34.62945,-58.49439,11,5,true,false,false,16,,0454,1644918841|10800|0,\"176 - Plaza Derechos del hombre\",-34.63403,-58.50694,1,11,true,false,false,12,,0455,1644918841|10800|0,\"039 - Plaza Don Bosco\",-34.62652,-58.50805,14,2,true,false,false,16,,0456,1644918841|10800|0,\"052 - PLAZA JUAN S. SALABERRY\",-34.65551,-58.50703,4,12,true,false,false,16,,0457,1644918841|10800|0,\"110 - PLAZA CD DE BANFF\",-34.62805,-58.52174,9,6,true,false,false,16,,0458,1644918841|10800|0,\"219 - Parque Chacabuco II\",-34.636275,-58.444041,10,10,true,false,false,20,,0459,1644918841|10800|0,\"327 - PLAZA RICCHERI\",-34.61072,-58.51914,10,6,true,false,false,16,,0460,1644918841|10800|0,\"133 - BEIRO Y SEGUROLA\",-34.6075,-58.51193,7,9,true,false,false,16,,0461,1644918841|10800|0,\"106 - MOSCONI Y CONSTITUYENTES\",-34.58088,-58.49363,3,12,true,false,false,16,,0']"
      ]
     },
     "execution_count": 16,
     "metadata": {},
     "output_type": "execute_result"
    }
   ],
   "source": [
    "#len(clean_lst1)\n",
    "clean_lst1[0:2]"
   ]
  },
  {
   "cell_type": "code",
   "execution_count": 17,
   "id": "f7963818",
   "metadata": {},
   "outputs": [],
   "source": [
    "# creating head of the data\n",
    "head_lst = []\n",
    "for i in clean_lst1:\n",
    "    head_lst.append(i.split(\",\"))\n",
    "\n",
    "header_lst = head_lst[0][1:11]"
   ]
  },
  {
   "cell_type": "code",
   "execution_count": 18,
   "id": "10e6e84d",
   "metadata": {
    "tags": []
   },
   "outputs": [
    {
     "data": {
      "text/plain": [
       "['timestamp|gmt_local_diff_sec|gmt_servertime_diff_sec',\n",
       " 'name',\n",
       " 'lat',\n",
       " 'lon',\n",
       " 'bikes',\n",
       " 'spaces',\n",
       " 'installed',\n",
       " 'locked',\n",
       " 'temporary',\n",
       " 'total_docks']"
      ]
     },
     "execution_count": 18,
     "metadata": {},
     "output_type": "execute_result"
    }
   ],
   "source": [
    "header_lst"
   ]
  },
  {
   "cell_type": "markdown",
   "id": "7e6ac58d",
   "metadata": {},
   "source": [
    "[a-zA-Z]*[0-9]*\\s*[-]*[–]*[.]*\\s*[a-zA-Z]*[0-9]*[\"]*\n",
    "\\\".*?\\\"\n",
    "[0-9]*[.]*\\s*[-]*\\s*[a-zA-Z]*\\s*[a-zA-Z]*\n",
    "\\b\\|[+-]*[a-zA-Z]*[0-9]*\\|[-]*[a-zA-Z]*[0-9]*\\,\\\".*?\\\"\\,.*?\\,.*?\\,\n",
    "\n",
    "verze se záhlavím: \\b\\|.*?\\|.*?\\,\\\".*?\\\"\\,.*?\\,.*?\\,.*?\\,.*?\\,.*?\\,.*?\\,.*?\\,.*?\\,\n",
    "verze bez záhlaví (finální): \\b\\|.*?\\|.*?\\,\\\".*?\\\"\\,.*?\\,.*?\\,.*?\\,.*?\\,.*?\\,.*?\\,.*?\\,.*?\\,\n"
   ]
  },
  {
   "cell_type": "code",
   "execution_count": 19,
   "id": "39513adc",
   "metadata": {},
   "outputs": [],
   "source": [
    "clean_lst2 = []\n",
    "for x in clean_lst1:\n",
    "    exp = r'\\b\\|[+-]*[a-zA-Z]*[0-9]*\\|.*?\\,\\\".*?\\\"\\,.*?\\,.*?\\,.*?\\,.*?\\,.*?\\,.*?\\,.*?\\,.*?\\,'\n",
    "    clean_lst2.append(re.findall(exp, x))"
   ]
  },
  {
   "cell_type": "code",
   "execution_count": 20,
   "id": "8c380e0e",
   "metadata": {},
   "outputs": [],
   "source": [
    "#simp_lst_temp = [v1 for sub_list in clean_lst2 for v1 in sub_list]"
   ]
  },
  {
   "cell_type": "code",
   "execution_count": 21,
   "id": "08375f49",
   "metadata": {
    "tags": []
   },
   "outputs": [],
   "source": [
    "#simp_lst_temp[0:50]"
   ]
  },
  {
   "cell_type": "code",
   "execution_count": 22,
   "id": "33a7f9a0",
   "metadata": {
    "collapsed": true,
    "jupyter": {
     "outputs_hidden": true
    },
    "tags": []
   },
   "outputs": [
    {
     "data": {
      "text/plain": [
       "[['|-3600|0,\"01. Stazione FS\",44.223352,12.055386,9,14,true,false,false,24,',\n",
       "  '|-3600|0,\"02. Vittoria\",44.217607,12.050157,4,6,true,false,false,10,',\n",
       "  '|-3600|0,\"03. Vittorio Veneto\",44.227917,12.042153,8,7,true,false,false,16,',\n",
       "  '|-3600|0,\"04. Piazza Saffi\",44.223322,12.041495,15,11,true,false,false,28,',\n",
       "  '|-3600|0,\"05. San Domenico\",44.222041,12.036168,1,13,true,false,false,14,',\n",
       "  '|-3600|0,\"06. Park dell\\'Argine\",44.218927,12.032757,9,11,true,false,false,21,',\n",
       "  '|-3600|0,\"07. Park Schiavonia\",44.226215,12.028287,1,5,true,false,false,6,',\n",
       "  '|-3600|0,\"09. Campus Universitario I\",44.219257,12.042756,4,5,true,false,false,9,',\n",
       "  '|-3600|0,\"10. Park Oriani\",44.221137,12.049119,3,5,true,false,false,8,',\n",
       "  '|-3600|0,\"11. Campus Universitario II\",44.217696,12.044369,3,7,true,false,false,10,',\n",
       "  '|-3600|0,\"12. XX Settembre\",44.222188,12.042997,3,4,true,false,false,7,',\n",
       "  '|-3600|0,\"13. BIKE POINT Park Lombardini\",44.217425,12.041227,0,8,true,false,false,8,',\n",
       "  '|-3600|0,\"14. BIKE POINT Park Manzoni\",44.223120,12.047737,7,1,true,false,false,8,'],\n",
       " ['|10800|0,\"002 - Retiro I\",-34.5924233,-58.3747151,9,10,true,false,false,20,',\n",
       "  '|10800|0,\"003 - ADUANA\",-34.611032,-58.3682604,3,17,true,false,false,20,',\n",
       "  '|10800|0,\"004 - Plaza Roma\",-34.601822,-58.368781,0,20,true,false,false,20,',\n",
       "  '|10800|0,\"005 - Plaza Italia\",-34.5805497,-58.4209542,9,33,true,false,false,42,',\n",
       "  '|10800|0,\"006 - Parque Lezama\",-34.628526,-58.369758,8,11,true,false,false,20,',\n",
       "  '|10800|0,\"007 - OBELISCO\",-34.606498,-58.381098,1,15,true,false,false,16,',\n",
       "  '|10800|0,\"008 - Congreso\",-34.6094218,-58.3893364,3,20,true,false,false,24,',\n",
       "  '|10800|0,\"009 - Parque Las Heras\",-34.585443,-58.407741,4,20,true,false,false,24,',\n",
       "  '|10800|0,\"012 - Plaza Vicente Lopez\",-34.5927096,-58.388807,0,16,true,false,false,16,',\n",
       "  '|10800|0,\"013 - ONCE\",-34.61009,-58.406,2,28,true,false,false,30,',\n",
       "  '|10800|0,\"014 - Pacifico\",-34.577424,-58.426387,17,12,true,false,false,30,',\n",
       "  '|10800|0,\"017 - Plaza Almagro\",-34.6064101,-58.4187306,7,11,true,false,false,20,',\n",
       "  '|10800|0,\"020 - Distrito Audiovisual\",-34.5798619,-58.4417756,4,14,true,false,false,20,',\n",
       "  '|10800|0,\"021 - Parque Patricios\",-34.640111,-58.406432,24,0,true,false,false,24,',\n",
       "  '|10800|0,\"022 - Arenales\",-34.5938629,-58.3825498,0,20,true,false,false,20,',\n",
       "  '|10800|0,\"023 - Suipacha\",-34.600139,-58.379836,0,12,true,false,false,12,',\n",
       "  '|10800|0,\"024 - ALSINA\",-34.610583,-58.3808943,1,17,true,false,false,18,',\n",
       "  '|10800|0,\"025 - Plaza Guemes\",-34.5894269,-58.4161178,4,20,true,false,false,24,',\n",
       "  '|10800|0,\"026 - JUANA MANSO I\",-34.600752,-58.3638723,2,22,true,false,false,24,',\n",
       "  '|10800|0,\"027 - Montevideo\",-34.599068,-58.3900887,4,11,true,false,false,16,',\n",
       "  '|10800|0,\"029 - Parque Centenario\",-34.6079414,-58.4335573,17,12,true,false,false,30,',\n",
       "  '|10800|0,\"030 - Peña\",-34.5908211,-58.3973698,7,12,true,false,false,20,',\n",
       "  '|10800|0,\"032 - Catedral\",-34.6072074,-58.3735984,1,15,true,false,false,16,',\n",
       "  '|10800|0,\"033 - Facultad de Medicina\",-34.5970909,-58.3989807,2,18,true,false,false,20,',\n",
       "  '|10800|0,\"035 - INGENIERO BUTTY\",-34.5964246,-58.371847,0,20,true,false,false,20,',\n",
       "  '|10800|0,\"036 - MAIPÚ\",-34.6045481,-58.3767677,1,15,true,false,false,16,',\n",
       "  '|10800|0,\"038 - Plaza Libertad\",-34.5970497,-58.3828403,3,16,true,false,false,20,',\n",
       "  '|10800|0,\"041 - Urquiza y Rondeau\",-34.6364511,-58.4076348,15,3,true,false,false,20,',\n",
       "  '|10800|0,\"334 - CENTRO DE EXPOSICIONES\",-34.584018,-58.389921,18,2,true,false,false,20,',\n",
       "  '|10800|0,\"044 - Ecoparque\",-34.5755148,-58.4138829,9,11,true,false,false,20,',\n",
       "  '|10800|0,\"045 - Uruguay\",-34.6018635,-58.3866934,0,20,true,false,false,20,',\n",
       "  '|10800|0,\"046 - Chile\",-34.6163012,-58.3743749,2,16,true,false,false,18,',\n",
       "  '|10800|0,\"034 - Colonia Express\",-34.624255,-58.362131,1,15,true,false,false,16,',\n",
       "  '|10800|0,\"049 - 33 Orientales\",-34.6290527,-58.422611,3,9,true,false,false,16,',\n",
       "  '|10800|0,\"050 - Hospital Rivadavia\",-34.5837348,-58.4010798,4,13,true,false,false,20,',\n",
       "  '|10800|0,\"051 - TUCUMAN\",-34.6014776,-58.3821261,0,11,true,false,false,12,',\n",
       "  '|10800|0,\"054 - Acuña de Figueroa\",-34.5982097,-58.4220694,7,6,true,false,false,16,',\n",
       "  '|10800|0,\"056 - Plaza Palermo Viejo\",-34.588567,-58.425999,3,13,true,false,false,16,',\n",
       "  '|10800|0,\"058 - Ministro Carranza\",-34.5752773,-58.4346883,4,15,true,false,false,20,',\n",
       "  '|10800|0,\"018 - Independencia\",-34.617654,-58.380565,3,17,true,false,false,20,',\n",
       "  '|10800|0,\"060 - 25 De Mayo\",-34.6016509,-58.371079,0,20,true,false,false,20,',\n",
       "  '|10800|0,\"098 - AV. ALVAREZ JONTE Y BENITO JUAREZ\",-34.61880867765093,-58.504662916142756,13,3,true,false,false,16,',\n",
       "  '|10800|0,\"063 - Reconquista\",-34.5986,-58.373062,0,20,true,false,false,20,',\n",
       "  '|10800|0,\"064 - RIOBAMBA\",-34.5936508,-58.3941087,2,18,true,false,false,20,',\n",
       "  '|10800|0,\"065 - Julián Álvarez\",-34.5873124,-58.4157873,1,19,true,false,false,21,',\n",
       "  '|10800|0,\"066 - Billinghurst\",-34.5945475,-58.4138713,4,16,true,false,false,20,',\n",
       "  '|10800|0,\"105 - PARQUE SAAVEDRA\",-34.552148,-58.480464,11,3,true,false,false,16,',\n",
       "  '|10800|0,\"069 - Ecuador\",-34.5961006,-58.4046092,9,7,true,false,false,16,',\n",
       "  '|10800|0,\"070 - ARAOZ\",-34.5926862,-58.4260597,3,17,true,false,false,20,',\n",
       "  '|10800|0,\"071 - CERRITO\",-34.6026673,-58.3833559,3,27,true,false,false,30,',\n",
       "  '|10800|0,\"073 - Ruy Díaz de Guzmán\",-34.6306814,-58.3718235,15,1,true,false,false,16,',\n",
       "  '|10800|0,\"074 - INSTITUTO  LELOIR\",-34.60439,-58.43454,13,16,true,false,false,30,',\n",
       "  '|10800|0,\"075 - Plaza Primero de Mayo\",-34.6122976,-58.3989871,18,0,true,false,false,20,',\n",
       "  '|10800|0,\"076 - Ayacucho\",-34.6074084,-58.3950548,5,9,true,false,false,20,',\n",
       "  '|10800|0,\"109 - ESTACION PUEYRREDON\",-34.581135,-58.501487,12,3,true,false,false,16,',\n",
       "  '|10800|0,\"079 - AZUCENA VILLAFLOR\",-34.61189,-58.36393,0,29,true,false,false,30,',\n",
       "  '|10800|0,\"080 - DOBLAS\",-34.624435,-58.4303766,11,4,true,false,false,16,',\n",
       "  '|10800|0,\"082 - HOSPITAL ITALIANO\",-34.6078917,-58.4263947,9,11,true,false,false,20,',\n",
       "  '|10800|0,\"083 - Paraná\",-34.603269,-58.3893728,0,19,true,false,false,20,',\n",
       "  '|10800|0,\"084 - Lavalle\",-34.6023203,-58.3955144,3,16,true,false,false,20,',\n",
       "  '|10800|0,\"085 - AGUERO\",-34.5948057,-58.4091784,2,18,true,false,false,20,',\n",
       "  '|10800|0,\"086 - SAAVEDRA\",-34.6212681,-58.4016808,1,18,true,false,false,20,',\n",
       "  '|10800|0,\"087 - Guayaquil\",-34.619845,-58.4314942,13,1,true,false,false,16,',\n",
       "  '|10800|0,\"089 - Cabello\",-34.5825475,-58.4056671,9,9,true,false,false,20,',\n",
       "  '|10800|0,\"091 - Pasco\",-34.6174482,-58.397602,5,14,true,false,false,20,',\n",
       "  '|10800|0,\"092 - Salcedo\",-34.6316444,-58.4053386,13,7,true,false,false,20,',\n",
       "  '|10800|0,\"093 - CARLOS CALVO\",-34.620798,-58.3944635,7,12,true,false,false,20,',\n",
       "  '|10800|0,\"094 - GÚZMAN\",-34.591511,-58.449652,11,18,true,false,false,30,',\n",
       "  '|10800|0,\"095 - ESMERALDA\",-34.6021121,-58.3781678,5,11,true,false,false,16,',\n",
       "  '|10800|0,\"096 - Carlos Gardel\",-34.6027814,-58.4116586,6,11,true,false,false,20,',\n",
       "  '|10800|0,\"037- Claudia Pía Baudracco\",-34.6081643,-58.3779002,1,15,true,false,false,16,',\n",
       "  '|10800|0,\"099 - Malabia\",-34.5960961,-58.435408,12,6,true,false,false,20,',\n",
       "  '|10800|0,\"101 - Fitz Roy\",-34.5891857,-58.4424397,6,14,true,false,false,20,',\n",
       "  '|10800|0,\"104 - Federico Lacroze\",-34.587617,-58.455212,16,14,true,false,false,30,',\n",
       "  '|10800|0,\"107 - HOSPITAL GARRAHAN\",-34.630374,-58.395852,3,12,true,false,false,16,',\n",
       "  '|10800|0,\"111 - MACACHA GUEMES\",-34.6054877,-58.3646858,0,28,true,false,false,30,',\n",
       "  '|10800|0,\"112 - 9 de Julio\",-34.612075,-58.380384,0,20,true,false,false,20,',\n",
       "  '|10800|0,\"114 - DELLA PAOLERA\",-34.5949745,-58.3722554,2,18,true,false,false,20,',\n",
       "  '|10800|0,\"116 - HOSPITAL ALEMÁN\",-34.5921708,-58.4025894,7,5,true,false,false,12,',\n",
       "  '|10800|0,\"117 - HUMBERTO 1°\",-34.6201008,-58.3741759,2,11,true,false,false,16,',\n",
       "  '|10800|0,\"118 - MEXICO\",-34.6170196,-58.4026531,0,20,true,false,false,20,',\n",
       "  '|10800|0,\"120 - HOSPITAL RAMOS MEJIA\",-34.617509,-58.4092876,3,17,true,false,false,20,',\n",
       "  '|10800|0,\"121 - YATAY\",-34.6011732,-58.4285093,5,14,true,false,false,20,',\n",
       "  '|10800|0,\"124 - UGARTECHE\",-34.580538,-58.411965,13,4,true,false,false,20,',\n",
       "  '|10800|0,\"126 - Ministerio de Justicia y Seguridad\",-34.6402672,-58.3692243,9,7,true,false,false,16,',\n",
       "  '|10800|0,\"128 - PARQUE DEL BAJO\",-34.6041138,-58.3689118,2,18,true,false,false,20,',\n",
       "  '|10800|0,\"130 - RETIRO II\",-34.5921056,-58.3745419,15,24,true,false,false,40,',\n",
       "  '|10800|0,\"131- HOSPITAL DE CLÍNICAS\",-34.5984043,-58.3990158,2,14,true,false,false,16,',\n",
       "  '|10800|0,\"132 - CORRIENTES\",-34.6033685,-58.372763,2,10,true,false,false,12,',\n",
       "  '|10800|0,\"134 - SOLDADO DE LA FRONTERA\",-34.68294,-58.4659,7,4,true,false,false,12,',\n",
       "  '|10800|0,\"135 - MARCELO T. DE ALVEAR\",-34.5972818,-58.3787856,2,18,true,false,false,20,',\n",
       "  '|10800|0,\"137 - AZOPARDO Y CHILE\",-34.6155977,-58.3674923,4,16,true,false,false,20,',\n",
       "  '|10800|0,\"138 - Hospital Britanico\",-34.6353595,-58.3876724,9,3,true,false,false,12,',\n",
       "  '|10800|0,\"144 - PUEYRREDÓN\",-34.6018744,-58.4060944,6,12,true,false,false,20,',\n",
       "  '|10800|0,\"146 - Hospital Francés\",-34.6221118,-58.4078419,3,16,true,false,false,20,',\n",
       "  '|10800|0,\"149 - LIMA\",-34.6153266,-58.3813642,1,14,true,false,false,16,',\n",
       "  '|10800|0,\"150 - RODRIGO BUENO\",-34.6187547,-58.3554654,10,19,true,false,false,30,',\n",
       "  '|10800|0,\"151 - AIME PAINÉ\",-34.6118145,-58.361285,0,23,true,false,false,24,',\n",
       "  '|10800|0,\"152 - JULIETA LANTERI\",-34.6181645,-58.3596311,11,5,true,false,false,20,',\n",
       "  '|10800|0,\"153 - JUAN MANUEL DE BLANES\",-34.6307765,-58.3620701,10,6,true,false,false,16,',\n",
       "  '|10800|0,\"155 - Parque José Evaristo Uriburu\",-34.64117,-58.412408,19,1,true,false,false,20,',\n",
       "  '|10800|0,\"156 - Plaza Alemania\",-34.5775895,-58.4074696,11,9,true,false,false,20,',\n",
       "  '|10800|0,\"158 - VILLARROEL\",-34.592735,-58.4450697,12,8,true,false,false,20,',\n",
       "  '|10800|0,\"161 - Humahuaca\",-34.6020779,-58.4196761,1,14,true,false,false,20,',\n",
       "  '|10800|0,\"162 - LARREA Y BARTOLOMÉ MITRE\",-34.608985,-58.401924,8,11,true,false,false,20,',\n",
       "  '|10800|0,\"163 - ONCE II\",-34.6095663,-58.4064308,4,23,true,false,false,30,',\n",
       "  '|10800|0,\"164 - FACULTAD DE INGENIERIA\",-34.6181442,-58.3669021,1,18,true,false,false,20,',\n",
       "  '|10800|0,\"165 - PLAZA MONSEÑOR MIGUEL DE ANDREA\",-34.597048,-58.407614,1,11,true,false,false,12,',\n",
       "  '|10800|0,\"166 - Cementerio de Recoleta\",-34.588346663239754,-58.394147942865644,0,12,true,false,false,12,',\n",
       "  '|10800|0,\"275 - PLAZA 24 DE SEPTIEMBRE\",-34.606984,-58.44854,9,7,true,false,false,16,',\n",
       "  '|10800|0,\"168 - Estados Unidos\",-34.6186217,-58.3812271,3,13,true,false,false,16,',\n",
       "  '|10800|0,\"169 - FACULTAD DE PSICOLOGIA\",-34.6123459,-58.411856,4,7,true,false,false,12,',\n",
       "  '|10800|0,\"171 - Pasteur\",-34.6032813,-58.3997553,2,17,true,false,false,20,',\n",
       "  '|10800|0,\"172 - BRASIL\",-34.625426,-58.371082,1,15,true,false,false,16,',\n",
       "  '|10800|0,\"174 - MINISTERIO DE EDUCACION\",-34.597225,-58.391768,1,19,true,false,false,20,',\n",
       "  '|10800|0,\"147 - Constitución\",-34.626851,-58.380707,26,8,true,false,false,36,',\n",
       "  '|10800|0,\"067 - PARQUE SARMIENTO I\",-34.555254,-58.494845,6,10,true,false,false,16,',\n",
       "  '|10800|0,\"179 - CASA SAN\",-34.6384786,-58.3642885,14,0,true,false,false,16,',\n",
       "  '|10800|0,\"181 - BILLINGHURST Y MANSILLA\",-34.5926649,-58.4120072,1,19,true,false,false,20,',\n",
       "  '|10800|0,\"182 - RAVIGNANI Y GUATEMALA\",-34.5780479,-58.4352466,4,13,true,false,false,20,',\n",
       "  '|10800|0,\"183 - VIRREY CEVALLOS\",-34.6156994,-58.3899728,8,11,true,false,false,20,',\n",
       "  '|10800|0,\"184 - Pedro Echague\",-34.6306129,-58.3913419,6,13,true,false,false,20,',\n",
       "  '|10800|0,\"186 - MANZANA 66\",-34.6136356,-58.4064415,3,17,true,false,false,20,',\n",
       "  '|10800|0,\"261 - QUINTEROS LIDORO\",-34.552571,-58.450897,15,1,true,false,false,16,',\n",
       "  '|10800|0,\"373 - Jorgelina De Simone\",-34.623923,-58.3904814,10,5,true,false,false,16,',\n",
       "  '|10800|0,\"189 - POSADAS\",-34.5886889,-58.3852113,1,18,true,false,false,20,',\n",
       "  '|10800|0,\"190 - JUNCAL\",-34.5850763,-58.4111136,0,19,true,false,false,20,',\n",
       "  '|10800|0,\"191 - Rivadavia y 9 de Julio\",-34.6079305,-58.3808358,7,9,true,false,false,16,',\n",
       "  '|10800|0,\"193 - ARENALES Y AGUERO\",-34.5908626,-58.4061652,8,12,true,false,false,20,',\n",
       "  '|10800|0,\"194 - PERÓN Y ACUÑA DE FIGUEROA\",-34.6060758,-58.4224635,3,12,true,false,false,16,',\n",
       "  '|10800|0,\"196 - HOSPITAL ARGERICH\",-34.6275351,-58.3657211,15,1,true,false,false,20,',\n",
       "  '|10800|0,\"197 - PLAZA CIUDAD DE UDINE\",-34.620998,-58.493044,17,2,true,false,false,20,',\n",
       "  '|10800|0,\"199 - ESTADOS UNIDOS Y BOEDO\",-34.6222601,-58.4160137,11,5,true,false,false,20,',\n",
       "  '|10800|0,\"200 - AUSTRIA Y FRENCH\",-34.5890696,-58.40536170000001,2,13,true,false,false,15,',\n",
       "  '|10800|0,\"001 - FACULTAD DE DERECHO\",-34.583749,-58.390602,28,1,true,false,false,30,',\n",
       "  '|10800|0,\"108 - Usina del Arte\",-34.628757,-58.356259,18,3,true,false,false,24,',\n",
       "  '|10800|0,\"167 - Hipólito Yrigoyen\",-34.614948,-58.427818,14,9,true,false,false,24,',\n",
       "  '|10800|0,\"125 - F.J.Santamaria de Oro\",-34.583323,-58.428016,0,15,true,false,false,16,',\n",
       "  '|10800|0,\"159 - Fitz Roy & Gorriti\",-34.58495,-58.437339,6,10,true,false,false,16,',\n",
       "  '|10800|0,\"123 - BASUALDO Y RODO\",-34.649323859081555,-58.4926339870569,9,5,true,false,false,16,',\n",
       "  '|10800|0,\"335 - General Urquiza\",-34.572165,-58.411278,6,14,true,false,false,20,',\n",
       "  '|10800|0,\"129 - Velasco\",-34.600275,-58.434875,7,11,true,false,false,20,',\n",
       "  '|10800|0,\"136 - Acevedo\",-34.599659,-58.442685,16,3,true,false,false,20,',\n",
       "  '|10800|0,\"142 - Armenia y Gorriti\",-34.590541,-58.428974,4,12,true,false,false,16,',\n",
       "  '|10800|0,\"113 - Guatemala\",-34.585878,-58.424996,4,15,true,false,false,20,',\n",
       "  '|10800|0,\"059 - Coronel Diaz\",-34.589968,-58.411493,4,16,true,false,false,20,',\n",
       "  '|10800|0,\"140 - Las Casas\",-34.6360274,-58.4156332,11,1,true,false,false,16,',\n",
       "  '|10800|0,\"097 - Avelino Diaz\",-34.635128,-58.427573,13,2,true,false,false,16,',\n",
       "  '|10800|0,\"160 - Godoy Cruz y Libertador\",-34.572583,-58.420628,12,7,true,false,false,20,',\n",
       "  '|10800|0,\"178 - José Marmol\",-34.6234,-58.424853,5,8,true,false,false,16,',\n",
       "  '|10800|0,\"188 - Aranguren\",-34.610456,-58.432786,3,14,true,false,false,20,',\n",
       "  '|10800|0,\"243 - PLAZOLETA CELEDONIO FLORES\",-34.581576,-58.45153,7,4,true,false,false,12,',\n",
       "  '|10800|0,\"259 - PLAZA CASTELLI\",-34.5678255,-58.4645037,6,9,true,false,false,16,',\n",
       "  '|10800|0,\"384 - PLAZA BENITO NAZAR\",-34.605109,-58.445897,10,5,true,false,false,16,',\n",
       "  '|10800|0,\"252 - Tamborini\",-34.5599779,-58.4790578,8,12,true,false,false,20,',\n",
       "  '|10800|0,\"281 - Villa Urquiza\",-34.573795,-58.487074,8,13,true,false,false,24,',\n",
       "  '|10800|0,\"254 - Plaza Rafael Hernandez\",-34.562161,-58.455166,6,9,true,false,false,16,',\n",
       "  '|10800|0,\"302 - ESTACION VILLA LURO\",-34.63670935917866,-58.50135525810292,7,9,true,false,false,16,',\n",
       "  '|10800|0,\"391 - Plaza República de Ecuador\",-34.565091,-58.420702,13,6,true,false,false,20,',\n",
       "  '|10800|0,\"348 - Villa del Parque\",-34.600874,-58.494123,5,7,true,false,false,12,',\n",
       "  '|10800|0,\"103 - MALBA\",-34.57716,-58.403214,0,20,true,false,false,20,',\n",
       "  '|10800|0,\"248 - Husares\",-34.552594,-58.4429397,10,5,true,false,false,16,',\n",
       "  '|10800|0,\"282 - Tronador\",-34.5838957,-58.466494,4,11,true,false,false,18,',\n",
       "  '|10800|0,\"346 - Plaza Zapiola\",-34.573522,-58.474635,17,2,true,false,false,20,',\n",
       "  '|10800|0,\"307 - LEONARDO PEREYRA\",-34.649506877132595,-58.38912434455312,10,3,true,false,false,16,',\n",
       "  '|10800|0,\"388 - Plaza Jose C Paz\",-34.64485797668555,-58.4097486603218,10,1,true,false,false,12,',\n",
       "  '|10800|0,\"331 - CALIFORNIA\",-34.647121,-58.374336,7,9,true,false,false,16,',\n",
       "  '|10800|0,\"276 - PRIMERA JUNTA\",-34.620717,-58.441607,14,1,true,false,false,16,',\n",
       "  '|10800|0,\"374 - Puan\",-34.622092,-58.448547,12,2,true,false,false,16,',\n",
       "  '|10800|0,\"264 - Plaza Marcos Sastre\",-34.570825,-58.481236,12,8,true,false,false,24,',\n",
       "  '|10800|0,\"336 - La Pampa\",-34.565521,-58.455334,6,9,true,false,false,16,',\n",
       "  '|10800|0,\"272 - Plaza Bruno Giordano\",-34.616151,-58.440584,11,4,true,false,false,16,',\n",
       "  '|10800|0,\"349 - Plaza Saenz Peña\",-34.60976,-58.467477,15,1,true,false,false,16,',\n",
       "  '|10800|0,\"270 - PLAZA DEL ANGEL GRIS\",-34.622003,-58.457555,8,3,true,false,false,12,',\n",
       "  '|10800|0,\"361 - Plaza Don Segundo Sombra\",-34.64196,-58.4505,10,5,true,false,false,16,',\n",
       "  '|10800|0,\"315 - BEIRO Y SAN MARTÍN\",-34.5976121,-58.4985424,10,4,true,false,false,16,',\n",
       "  '|10800|0,\"399 - GARCIA DEL RIO\",-34.550015,-58.476521,26,0,true,false,false,28,',\n",
       "  '|10800|0,\"260 - SAN MIGUEL DE GARICOITS\",-34.577329,-58.457799,16,0,true,false,false,18,',\n",
       "  '|10800|0,\"370 - Beauchef\",-34.640114,-58.43026,17,3,true,false,false,20,',\n",
       "  '|10800|0,\"365 - Venancio Flores\",-34.630108,-58.473844,14,6,true,false,false,20,',\n",
       "  '|10800|0,\"223 - GAINZA\",-34.616758,-58.446751,13,1,true,false,false,16,',\n",
       "  '|10800|0,\"256 - PLAZA NORUEGA\",-34.562396,-58.459148,10,9,true,false,false,20,',\n",
       "  '|10800|0,\"292 - PLAZA BOLIVIA\",-34.563539,-58.436115,2,8,true,false,false,12,',\n",
       "  '|10800|0,\"233 - MONROE\",-34.564122,-58.469813,8,8,true,false,false,16,',\n",
       "  '|10800|0,\"222 - SIMON BOLIVAR\",-34.633528,-58.449379,22,1,true,false,false,24,',\n",
       "  '|10800|0,\"350 - Plaza Irlanda\",-34.613778,-58.458315,17,2,true,false,false,24,',\n",
       "  '|10800|0,\"229 - RIGLOS\",-34.631018,-58.435056,15,5,true,false,false,20,',\n",
       "  '|10800|0,\"255 - BARRANCAS DE BELGRANO\",-34.559801,-58.448314,11,10,true,false,false,24,',\n",
       "  '|10800|0,\"244 - UADE\",-34.617247,-58.381627,0,15,true,false,false,16,',\n",
       "  '|10800|0,\"363 - Udaondo\",-34.5458835,-58.4520062,18,1,true,false,false,20,',\n",
       "  '|10800|0,\"221 - CULPINA\",-34.631705,-58.466143,14,6,true,false,false,20,',\n",
       "  '|10800|0,\"309 - UTN II\",-34.66036165776025,-58.4676386893849,18,2,true,false,false,20,',\n",
       "  '|10800|0,\"340 - PLAZA NUEVA POMPEYA\",-34.6518464,-58.415771,15,0,true,false,false,16,',\n",
       "  '|10800|0,\"395 - Agronomia II\",-34.58938,-58.4847,5,10,true,false,false,16,',\n",
       "  '|10800|0,\"341 - COMUNA 4\",-34.65050475967216,-58.424671969909355,11,0,true,false,false,12,',\n",
       "  '|10800|0,\"251 - Solar de la Abadía\",-34.567633,-58.436752,17,3,true,false,false,20,',\n",
       "  '|10800|0,\"298 - PLAZA DR. JUAN B. TERAN\",-34.62141207128675,-58.51978098730658,11,3,true,false,false,16,',\n",
       "  '|10800|0,\"356 - ESTACIÓN LUGANO\",-34.67735630418917,-58.47665863333657,2,10,true,false,false,14,',\n",
       "  '|10800|0,\"213 - Hospital Alvear\",-34.5972098,-58.47421143,12,8,true,false,false,20,',\n",
       "  '|10800|0,\"205 - SAN MARTIN\",-34.605567,-58.453475,11,3,true,false,false,16,',\n",
       "  '|10800|0,\"285 - ESPINOSA\",-34.603936,-58.457317,17,2,true,false,false,20,',\n",
       "  '|10800|0,\"289 - MONTAÑESES\",-34.551304,-58.454181,18,2,true,false,false,20,',\n",
       "  '|10800|0,\"240 - ECHEVERRIA\",-34.565409,-58.459298,19,5,true,false,false,24,',\n",
       "  '|10800|0,\"280 - JURAMENTO\",-34.578933,-58.4840556,3,12,true,false,false,16,',\n",
       "  '|10800|0,\"366 - VILLA OLÍMPICA\",-34.677130515662185,-58.454286054001386,5,11,true,false,false,16,',\n",
       "  '|10800|0,\"100 - Plaza Gurruchaga\",-34.593141,-58.435187,8,12,true,false,false,20,',\n",
       "  '|10800|0,\"203 - Beiro\",-34.6008,-58.50335,13,7,true,false,false,20,',\n",
       "  '|10800|0,\"206 - Galicia\",-34.615945,-58.47098,18,1,true,false,false,20,',\n",
       "  '|10800|0,\"207 - PLAZA ARENALES\",-34.5999173,-58.5114159,27,0,true,false,false,28,',\n",
       "  '|10800|0,\"359 - PLAZA BALCARCE\",-34.54754,-58.467844,14,5,true,false,false,20,',\n",
       "  '|10800|0,\"218 - Campana\",-34.616813,-58.484297,10,9,true,false,false,20,',\n",
       "  '|10800|0,\"231 - Margariños Cervantes\",-34.610482,-58.474369,9,0,true,false,false,12,',\n",
       "  '|10800|0,\"237 - Madero Office\",-34.599036,-58.364695,2,15,true,false,false,20,',\n",
       "  '|10800|0,\"242 - Plazoleta Rafael del Riego\",-34.567483,-58.446381,6,10,true,false,false,16,',\n",
       "  '|10800|0,\"249 - Balbín\",-34.561486,-58.465586,11,1,true,false,false,12,',\n",
       "  '|10800|0,\"250 - Fleni\",-34.555602,-58.450479,20,0,true,false,false,20,',\n",
       "  '|10800|0,\"258 - Plaza J.J. Paso\",-34.569187,-58.453608,4,16,true,false,false,20,',\n",
       "  '|10800|0,\"354 - José Martí\",-34.6439,-58.463114,16,0,true,false,false,16,',\n",
       "  '|10800|0,\"381 - Matienzo Y Arce\",-34.568693,-58.43447,20,4,true,false,false,24,',\n",
       "  '|10800|0,\"360 - Plaza Ramon Falcon\",-34.63562929312515,-58.482770573412935,10,2,true,false,false,12,',\n",
       "  '|10800|0,\"287 - Belaustegui\",-34.61621214148026,-58.47720947344651,10,6,true,false,false,16,',\n",
       "  '|10800|0,\"378 - AGRONOMIA\",-34.59807,-58.482079,6,6,true,false,false,12,',\n",
       "  '|10800|0,\"304 - Navarro\",-34.592244,-58.491797,6,10,true,false,false,16,',\n",
       "  '|10800|0,\"305 - Plaza Martin Rodriguez\",-34.590964,-58.500336,16,4,true,false,false,20,',\n",
       "  '|10800|0,\"322 - MARTÍ Y DIRECTORIO\",-34.636406,-58.470136,11,1,true,false,false,12,',\n",
       "  '|10800|0,\"265 - Plaza Exodo Jujeño\",-34.582336918286785,-58.48108314683206,6,10,true,false,false,16,',\n",
       "  '|10800|0,\"367 - Eva Perón\",-34.646911365478765,-58.4699753897715,14,2,true,false,false,16,',\n",
       "  '|10800|0,\"301 - Arregui Y Terrada\",-34.604597356692906,-58.48481211614322,4,11,true,false,false,16,',\n",
       "  '|10800|0,\"324 - Las Victorias\",-34.626778,-58.487078,14,6,true,false,false,20,',\n",
       "  '|10800|0,\"215 - HOSPITAL ALVAREZ\",-34.623123,-58.468287,9,9,true,false,false,20,',\n",
       "  '|10800|0,\"204 - Biarritz\",-34.60547,-58.47739,8,8,true,false,false,16,',\n",
       "  '|10800|0,\"267 - Plaza 25 De Agosto\",-34.57951881156862,-58.46183473148808,5,13,true,false,false,18,',\n",
       "  '|10800|0,\"268 - Plaza Aristóbulo Del Valle\",-34.606159914753725,-58.493141345207654,10,4,true,false,false,17,',\n",
       "  '|10800|0,\"277 - Coghlan\",-34.5654,-58.4759,4,4,true,false,false,8,',\n",
       "  '|10800|0,\"278 - Donato Alvarez\",-34.602028,-58.465568,13,3,true,false,false,16,',\n",
       "  '|10800|0,\"297 - TRONADOR Y GARCÍA DEL RÍO\",-34.554581,-58.485381,12,3,true,false,false,16,',\n",
       "  '|10800|0,\"313 - De Los Incas\",-34.579751,-58.471003,2,12,true,false,false,16,',\n",
       "  '|10800|0,\"316 - Buenos Aires\",-34.645532066615736,-58.39667441428978,10,10,true,false,false,20,',\n",
       "  '|10800|0,\"330 - Parque Avellaneda\",-34.641288,-58.479945,10,18,true,false,false,28,',\n",
       "  '|10800|0,\"364 - CERRETTI Y MANUELA PEDRAZA\",-34.56912,-58.50025,4,11,true,false,false,16,',\n",
       "  '|10800|0,\"372 - VILLA SOLDATI\",-34.66145153498837,-58.44014625846915,8,0,true,false,false,8,',\n",
       "  '|10800|0,\"382 - MERCADO DE HACIENDA MATADEROS\",-34.6602831,-58.5031426,6,9,true,false,false,16,',\n",
       "  '|10800|0,\"257 - Plaza Francisco Ramirez\",-34.553262,-58.469133,27,1,true,false,false,28,',\n",
       "  '|10800|0,\"127 - PLAZA LEONARDO N. ALEM\",-34.57634,-58.50248,12,8,true,false,false,20,',\n",
       "  '|10800|0,\"379 - PARQUE SARMIENTO II\",-34.56454,-58.50289,3,13,true,false,false,16,',\n",
       "  '|10800|0,\"043 - PLAZA ALBERDI\",-34.559255,-58.487772,8,4,true,false,false,12,',\n",
       "  '|10800|0,\"387 - Luna\",-34.638584,-58.39965,8,8,true,false,false,16,',\n",
       "  '|10800|0,\"394 - Av. La Plata\",-34.6440763,-58.422091,16,0,true,false,false,16,',\n",
       "  '|10800|0,\"396 - PLAZA ALBERTI\",-34.555081,-58.458538,14,3,true,false,false,20,',\n",
       "  '|10800|0,\"397 - PARQUE SANTOJANNI\",-34.64706360234081,-58.5148283486816,7,7,true,false,false,16,',\n",
       "  '|10800|0,\"225 - HOSPITAL TORNU\",-34.587458,-58.4739506,7,13,true,false,false,20,',\n",
       "  '|10800|0,\"201 - PLAZA EJERCITO DE LOS ANDES\",-34.63897407331851,-58.51010241799404,1,15,true,false,false,16,',\n",
       "  '|10800|0,\"187 - Jose Maria Moreno\",-34.619879,-58.435801,11,8,true,false,false,20,',\n",
       "  '|10800|0,\"273 - Plazoleta Colombia\",-34.637697,-58.373726,19,0,true,false,false,20,',\n",
       "  '|10800|0,\"247 - PLAZA LUCIO DEMARE\",-34.54569,-58.46514,14,2,true,false,false,16,',\n",
       "  '|10800|0,\"227 -Club Ciudad de Buenos Aires\",-34.544503,-58.459499,8,4,true,false,false,16,',\n",
       "  '|10800|0,\"016 - Legislatura\",-34.609801,-58.3748,1,18,true,false,false,20,',\n",
       "  '|10800|0,\"061-Ministerio de Economia\",-34.608936,-58.370716,1,23,true,false,false,24,',\n",
       "  '|10800|0,\"393 - Barrio 31\",-34.582422,-58.378862,9,14,true,false,false,24,',\n",
       "  '|10800|0,\"352 - San Jose de Flores\",-34.629083,-58.463251,7,17,true,false,false,24,',\n",
       "  '|10800|0,\"028 - Plaza de la Bandera\",-34.62945,-58.49439,11,5,true,false,false,16,',\n",
       "  '|10800|0,\"176 - Plaza Derechos del hombre\",-34.63403,-58.50694,1,11,true,false,false,12,',\n",
       "  '|10800|0,\"039 - Plaza Don Bosco\",-34.62652,-58.50805,14,2,true,false,false,16,',\n",
       "  '|10800|0,\"052 - PLAZA JUAN S. SALABERRY\",-34.65551,-58.50703,4,12,true,false,false,16,',\n",
       "  '|10800|0,\"110 - PLAZA CD DE BANFF\",-34.62805,-58.52174,9,6,true,false,false,16,',\n",
       "  '|10800|0,\"219 - Parque Chacabuco II\",-34.636275,-58.444041,10,10,true,false,false,20,',\n",
       "  '|10800|0,\"327 - PLAZA RICCHERI\",-34.61072,-58.51914,10,6,true,false,false,16,',\n",
       "  '|10800|0,\"133 - BEIRO Y SEGUROLA\",-34.6075,-58.51193,7,9,true,false,false,16,',\n",
       "  '|10800|0,\"106 - MOSCONI Y CONSTITUYENTES\",-34.58088,-58.49363,3,12,true,false,false,16,'],\n",
       " ['|14400|0,\"Paardenbaai Plaza\",12.5210852,-70.04102,12,7,true,false,false,19,',\n",
       "  '|14400|0,\"Ling & Sons\",12.5330588,-70.0504579,9,6,true,false,false,15,',\n",
       "  '|14400|0,\"La Cabana Beach Resort\",12.5521775,-70.05529,9,6,true,false,false,15,',\n",
       "  '|14400|0,\"Hyatt Hotel\",12.5691319,-70.044683,13,6,true,false,false,19,',\n",
       "  '|14400|0,\"Paseo Herencia\",12.5749457,-70.04395,12,10,true,false,false,24,',\n",
       "  '|14400|0,\"Marriot Hotel\",12.5817091,-70.0425233,9,6,true,false,false,15,',\n",
       "  '|14400|0,\"RIU\",12.5667489,-70.0463623,9,6,true,false,false,15,',\n",
       "  '|14400|0,\"Plaza Daniel Leo\",12.5196901,-70.03732,9,6,true,false,false,15,'],\n",
       " [],\n",
       " [],\n",
       " ['|-39600|0,\"Monash Sport\",-37.9123841021,145.136228129,0,15,true,false,false,15,',\n",
       "  '|-39600|0,\"Menzies E\",-37.9126134375,145.133110397,0,25,true,false,false,25,',\n",
       "  '|-39600|0,\"Menzies W\",-37.9123565924,145.132106915,0,25,true,false,false,25,',\n",
       "  '|-39600|0,\"Campus Centre N\",-37.9113413705,145.132825747,0,10,true,false,false,10,',\n",
       "  '|-39600|0,\"Campus Centre S\",-37.9122148114,145.133031607,0,15,true,false,false,15,',\n",
       "  '|-39600|0,\"Hargrave-Andrew Library\",-37.9101364708,145.132112145,0,20,true,false,false,20,',\n",
       "  '|-39600|0,\"Medicine Offices - East\",-37.913073958,145.131371319,0,5,true,false,false,5,',\n",
       "  '|-39600|0,\"35 Rainforest Walk\",-37.9124094957,145.13142094,0,4,true,false,false,4,',\n",
       "  '|-39600|0,\"Bus Loop W\",-37.9144388379,145.131148696,0,10,true,false,false,10,',\n",
       "  '|-39600|0,\"Campbell Hall W\",-37.9112408528,145.134279504,0,10,true,false,false,10,',\n",
       "  '|-39600|0,\"Information Technology N\",-37.9104901394,145.133972727,0,10,true,false,false,10,',\n",
       "  '|-39600|0,\"Halls\",-37.9077983006,145.139749199,0,15,true,false,false,15,',\n",
       "  '|-39600|0,\"738 Blackburn Rd\",-37.9093415701,145.142289922,0,8,true,false,false,8,',\n",
       "  '|-39600|0,\"211 Wellington Rd\",-37.9167548435,145.150984973,0,12,true,false,false,12,',\n",
       "  '|-39600|0,\"Turner Hall\",-37.9096415434,145.137787163,0,10,true,false,false,10,',\n",
       "  '|-39600|0,\"Innovation Walk S\",-37.9136765186,145.129647665,0,7,true,false,false,7,',\n",
       "  '|-39600|0,\"Monash College W\",-37.9145065522,145.12981832,0,5,true,false,false,5,',\n",
       "  '|-39600|0,\"700 Blackburn Rd\",-37.907666563,145.142124966,0,10,true,false,false,10,',\n",
       "  '|-39600|0,\"Scenic Blvd S\",-37.9143187506,145.135263205,0,8,true,false,false,8,',\n",
       "  '|-39600|0,\"Car Park OC1 West at 800 Blackburn Rd\",-37.9158708764,145.140580013,0,8,true,false,false,8,',\n",
       "  '|-39600|0,\"Campbell Hall S\",-37.9112075232,145.134927928,0,10,true,false,false,10,',\n",
       "  '|-39600|0,\"Sports Walk E\",-37.91119271,145.136428624,0,19,true,false,false,19,',\n",
       "  '|-39600|0,\"Engineering SE\",-37.9098372379,145.134307678,0,20,true,false,false,20,',\n",
       "  '|-39600|0,\"Information Technology S\",-37.911066798,145.133639127,0,10,true,false,false,10,',\n",
       "  '|-39600|0,\"MSI\",-37.9070048385,145.137876075,0,4,true,false,false,4,',\n",
       "  '|-39600|0,\"24 Research Way\",-37.9079662458,145.1341407,0,6,true,false,false,6,',\n",
       "  '|-39600|0,\"Earth Sciences\",-37.9093706681,145.130883157,0,24,true,false,false,24,',\n",
       "  '|-39600|0,\"5 Rainforest Walk - Car Park N1\",-37.9086543793,145.131928945,0,20,true,false,false,20,',\n",
       "  '|-39600|0,\"Biotechnology E\",-37.9102937196,145.129504733,0,9,true,false,false,9,',\n",
       "  '|-39600|0,\"Biomedical Sciences\",-37.9116127526,145.129608169,0,10,true,false,false,10,',\n",
       "  '|-39600|0,\"South East Flats\",-37.9152392191,145.13880515,0,5,true,false,false,5,',\n",
       "  '|-39600|0,\"Campus Centre W\",-37.9117735954,145.132036507,0,4,true,false,false,4,',\n",
       "  '|-39600|0,\"Biotechnology W\",-37.9102541842,145.12901634,0,10,true,false,false,10,',\n",
       "  '|-39600|0,\"Engineering S\",-37.9100555263,145.133276358,0,5,true,false,false,5,',\n",
       "  '|-39600|0,\"Engineering W\",-37.9095701215,145.132407993,0,4,true,false,false,4,',\n",
       "  '|-39600|0,\"Car Park OC1 at 800 Blackburn Rd\",-37.9156404931,145.142225884,0,8,true,false,false,8,',\n",
       "  '|-39600|0,\"Normanby House\",-37.9059256475,145.138726942,0,4,true,false,false,4,',\n",
       "  '|-39600|0,\"321 Ferntree Gully\",-37.8998522254,145.133863091,0,4,true,false,false,4,',\n",
       "  '|-39600|0,\"Education\",-37.9137405304,145.134351254,0,10,true,false,false,10,',\n",
       "  '|-39600|0,\"Medicine Offices - North\",-37.9127853396,145.131041408,0,4,true,false,false,4,',\n",
       "  '|-39600|0,\"16 Rainforest Walk\",-37.9107715917,145.131929219,0,8,true,false,false,8,',\n",
       "  '|-39600|0,\"25 Rainforest Walk\",-37.9116005337,145.131123215,0,10,true,false,false,10,',\n",
       "  '|-39600|0,\"Briggs Hall\",-37.9103572823,145.139153749,0,1,true,false,false,1,',\n",
       "  '|-39600|0,\"738 Blackburn Rd - Car Park\",-37.9096438913,145.141939223,0,6,true,false,false,6,',\n",
       "  '|-39600|0,\"Mannix College \",-37.9159228349,145.131603666,0,5,true,false,false,5,',\n",
       "  '|-39600|0,\"Roberts Hall \",-37.9072489839,145.139254499,0,5,true,false,false,5,',\n",
       "  '|-39600|0,\"Richardson Hall\",-37.9071271442,145.138715208,0,5,true,false,false,5,',\n",
       "  '|-39600|0,\"Deakin Hall\",-37.908233822,145.140722888,0,5,true,false,false,5,',\n",
       "  '|-39600|0,\"Farrer Hall\",-37.9073875954,145.140450932,0,8,true,false,false,8,',\n",
       "  '|-39600|0,\"Monash Nanofabrication\",-37.9163077696,145.143681318,0,6,true,false,false,6,',\n",
       "  '|-39600|0,\"Monash Biomedical Imaging\",-37.9123693415,145.141382581,0,4,true,false,false,4,',\n",
       "  '|-39600|0,\"Green Chemical Futures\",-37.9100415064,145.131320357,0,10,true,false,false,10,',\n",
       "  '|-39600|0,\"Physics\",-37.9105487753,145.130346715,0,4,true,false,false,4,',\n",
       "  '|-39600|0,\"Robert Blackwood\",-37.9131763249,145.135231018,0,4,true,false,false,4,',\n",
       "  '|-39600|0,\"Teaching and Learning S\",-37.9146082997,145.132712424,0,20,true,false,false,20,',\n",
       "  '|-39600|0,\"Youlendj Hub\",-37.9132081988,145.130268261,0,8,true,false,false,8,',\n",
       "  '|-39600|0,\"Childcare\",-37.9054552943,145.137966871,0,2,true,false,false,2,',\n",
       "  '|-39600|0,\"Engineering N\",-37.909727713,145.133348107,0,6,true,false,false,6,',\n",
       "  '|-39600|0,\"Campbell Hall E\",-37.9112416133,145.135531425,0,8,true,false,false,8,',\n",
       "  '|-39600|0,\"Engineering NE\",-37.9093653775,145.134278834,0,2,true,false,false,2,',\n",
       "  '|-39600|0,\"Normanby House W\",-37.9058356709,145.138117075,0,4,true,false,false,4,'],\n",
       " ['|-3600|0,\"Klosterneuburg / Kierling / Bahnhof\",48.310016,16.326284,0,10,true,false,false,10,',\n",
       "  '|-3600|0,\"Klosterneuburg / Weidling / Bahnhof\",48.297509,16.334519,0,10,true,false,false,10,',\n",
       "  '|-3600|0,\"Korneuburg / Bahnhof\",48.343953,16.328934,3,7,true,false,false,10,',\n",
       "  '|-3600|0,\"Leobendorf / Bahnhof\",48.364807,16.301844,3,7,true,false,false,10,',\n",
       "  '|-3600|0,\"Stockerau / Bahnhof\",48.382863,16.213508,0,10,true,false,false,10,',\n",
       "  '|-3600|0,\"Korneuburg / BH Korneuburg\",48.347287,16.333575,4,6,true,false,false,10,',\n",
       "  '|-3600|0,\"Korneuburg / Hauptplatz\",48.344217,16.333805,4,6,true,false,false,10,',\n",
       "  '|-3600|0,\"Stockerau / Rathausplatz\",48.384149,16.207017,0,10,true,false,false,10,',\n",
       "  '|-3600|0,\"Stockerau / Kaiserrast\",48.374646,16.237541,0,10,true,false,false,10,',\n",
       "  '|-3600|0,\"Leobendorf / Zentrum\",48.377354,16.322401,4,6,true,false,false,10,',\n",
       "  '|-3600|0,\"Spillern / Bahnhof\",48.375947,16.256386,1,9,true,false,false,10,',\n",
       "  '|-3600|0,\"Spillern / Jugendtreff\",48.374447,16.271138,0,10,true,false,false,10,',\n",
       "  '|-3600|0,\"St. Andrä Wördern / Marienhof\",48.287744,16.192791,0,10,true,false,false,10,',\n",
       "  '|-3600|0,\"St. Andrä Wördern / Bahnhof\",48.333708,16.209286,0,10,true,false,false,10,',\n",
       "  '|-3600|0,\"St. Andrä Wördern / BHF Greifenstein - Altenberg\",48.344531,16.239649,0,10,true,false,false,10,',\n",
       "  '|-3600|0,\"Stammersdorf / Bahnhofsplatz Erlebnisstop 2\",48.297334,16.420231,0,10,true,false,false,10,',\n",
       "  '|-3600|0,\"Zehn vor Wien / Strebersdorferhof\",48.29181,16.387085,0,10,true,false,false,10,',\n",
       "  '|-3600|0,\"Korneuburg / Dabschkaserne\",48.359639,16.32961,4,6,true,false,false,10,',\n",
       "  '|-3600|0,\"Korneuburg / Florian Berndl Bad\",48.336034,16.343461,2,8,true,false,false,10,',\n",
       "  '|-3600|0,\"Klosterneuburg / IST Austria\",48.310127,16.258961,0,10,true,false,false,10,',\n",
       "  '|-3600|0,\"Korneuburg / BP K01 - Halle A\",48.356648,16.316907,2,8,true,false,false,10,',\n",
       "  '|-3600|0,\"Korneuburg / BP K01 - Halle G\",48.358666,16.317294,4,6,true,false,false,10,',\n",
       "  '|-3600|0,\"Korneuburg / BP K01 - Halle I\",48.36053,16.31857,4,6,true,false,false,10,',\n",
       "  '|-3600|0,\"BIKE 34954\",48.35761,16.3169,1,0,true,false,true,1,'],\n",
       " ['|-3600|0,\"Amstetten / Bahnhof\",48.121764,14.877407,0,10,true,false,false,10,',\n",
       "  '|-3600|0,\"Amstetten / Landesklinikum\",48.127377,14.882212,0,10,true,false,false,10,',\n",
       "  '|-3600|0,\"Amstetten / Hauptplatz\",48.123373,14.871451,0,10,true,false,false,10,',\n",
       "  '|-3600|0,\"Amstetten / Landesberufsschule WKNÖ\",48.116762,14.88301,0,10,true,false,false,10,',\n",
       "  '|-3600|0,\"Amstetten / BHF Mauer\",48.095147,14.798294,0,10,true,false,false,10,',\n",
       "  '|-3600|0,\"Amstetten / BHF Greinsfurth\",48.108423,14.839021,0,10,true,false,false,10,',\n",
       "  '|-3600|0,\"Amstetten / Landesklinikum Mauer\",48.092605,14.804756,0,10,true,false,false,10,'],\n",
       " ['|-3600|0,\"Groß Enzersdorf / Busbahnhof\",48.199596,16.550072,0,10,true,false,false,10,',\n",
       "  '|-3600|0,\"Groß Enzersdorf / Auvorstadt\",48.189573,16.545464,0,10,true,false,false,10,',\n",
       "  '|-3600|0,\"Groß Enzersdorf / Sachsengang\",48.196554,16.562794,0,10,true,false,false,10,'],\n",
       " ['|-3600|0,\"Haag / Tierpark\",48.101944,14.558056,0,10,,,,10,',\n",
       "  '|-3600|0,\"Haag / Freizeitzentrum\",48.108889,14.578333,0,10,,,,10,',\n",
       "  '|-3600|0,\"Haag / Haltestelle Haag\",48.094495,14.589374,0,10,,,,10,'],\n",
       " ['|-3600|0,\"Hollabrunn / Bahnhof\",48.563008,16.073014,0,10,true,false,false,10,',\n",
       "  '|-3600|0,\"Hollabrunn / KAUF ein- Fachzentrum\",48.568873,16.07965,0,10,true,false,false,10,'],\n",
       " ['|-3600|0,\"Landesgericht\",47.26254,11.392157,7,3,true,false,false,10,',\n",
       "  '|-3600|0,\"Bozner Platz\",47.264779,11.397192,5,10,true,false,false,15,',\n",
       "  '|-3600|0,\"Congress / Hofburg\",47.268754,11.395462,8,7,true,false,false,15,',\n",
       "  '|-3600|0,\"Dr. Glatz-Straße\",47.262631,11.412842,6,4,true,false,false,10,',\n",
       "  '|-3600|0,\"Hauptbahnhof\",47.263381,11.399882,16,14,true,false,false,30,',\n",
       "  '|-3600|0,\"Höttinger Au /West\",47.264589,11.374937,4,7,true,false,false,11,',\n",
       "  '|-3600|0,\"Anichstraße / Klinik\",47.263745,11.388209,8,3,true,false,false,11,',\n",
       "  '|-3600|0,\"Maria-Theresien-Straße\",47.264916,11.394763,2,11,true,false,false,13,',\n",
       "  '|-3600|0,\"Pacherstaße\",47.260749,11.409412,2,8,true,false,false,10,',\n",
       "  '|-3600|0,\"Mühlauer Brücke\",47.278834,11.403916,7,3,true,false,false,10,',\n",
       "  '|-3600|0,\"Leipziger Platz\",47.264537,11.406609,5,6,true,false,false,11,',\n",
       "  '|-3600|0,\"Sillpark\",47.266097,11.403015,8,6,true,false,false,14,',\n",
       "  '|-3600|0,\"Westbahnhof\",47.255885,11.39169,7,11,true,false,false,18,',\n",
       "  '|-3600|0,\"Rossaugasse\",47.273034,11.429842,4,9,true,false,false,13,',\n",
       "  '|-3600|0,\"AMS-Geschäftsstelle\",47.25945,11.393339,1,9,true,false,false,10,',\n",
       "  '|-3600|0,\"Studentenhaus\",47.261721,11.383606,5,5,true,false,false,10,',\n",
       "  '|-3600|0,\"Kletterzentrum / Sillside\",47.276885,11.414586,7,3,true,false,false,10,',\n",
       "  '|-3600|0,\"Schöpfstraße / Klinik\",47.260307,11.387271,10,3,true,false,false,13,',\n",
       "  '|-3600|0,\"Bachlechnerstr. / MED-EL\",47.263097,11.37483,3,13,true,false,false,16,',\n",
       "  '|-3600|0,\"Stubaitalbahnhof\",47.253926,11.39757,3,12,true,false,false,15,',\n",
       "  '|-3600|0,\"Universität\",47.263788,11.386207,6,9,true,false,false,15,',\n",
       "  '|-3600|0,\"SOWI\",47.269249,11.399135,8,11,true,false,false,19,',\n",
       "  '|-3600|0,\"General-Eccher-Straße\",47.277315,11.416799,10,6,true,false,false,16,',\n",
       "  '|-3600|0,\"Technik\",47.265157,11.344585,3,21,true,false,false,24,',\n",
       "  '|-3600|0,\"UNI-Sportstätten\",47.257789,11.357546,8,2,true,false,false,10,',\n",
       "  '|-3600|0,\"Adolf-Pichler-Platz\",47.266228,11.392082,9,1,true,false,false,8,',\n",
       "  '|-3600|0,\"Philippine-Welser-Straße\",47.258688,11.425567,9,3,true,false,false,12,',\n",
       "  '|-3600|0,\"Austria Trend Hotel\",47.27449,11.397193,6,4,true,false,false,10,',\n",
       "  '|-3600|0,\"Technikerhaus\",47.261349,11.379588,4,9,true,false,false,13,',\n",
       "  '|-3600|0,\"Fürstenweg\",47.265878,11.382812,4,8,true,false,false,12,',\n",
       "  '|-3600|0,\"Mariahilfpark\",47.267898,11.387577,5,7,true,false,false,12,',\n",
       "  '|-3600|0,\"Waltherpark\",47.270665,11.391644,4,7,true,false,false,11,',\n",
       "  '|-3600|0,\"Langstraße\",47.265132,11.413363,3,8,true,false,false,11,',\n",
       "  '|-3600|0,\"TWI Technologiezentrum\",47.265525,11.435286,7,7,true,false,false,14,',\n",
       "  '|-3600|0,\"Dr. Stumpf-Straße\",47.256696,11.373858,11,2,true,false,false,13,',\n",
       "  '|-3600|0,\"Claudiaplatz\",47.275797,11.405576,11,1,true,false,false,10,',\n",
       "  '|-3600|0,\"Mitterweg\",47.258067,11.370598,10,2,true,false,false,12,',\n",
       "  '|-3600|0,\"Marktplatz\",47.267371,11.391144,8,3,true,false,false,11,',\n",
       "  '|-3600|0,\"Kaiserschützenplatz\",47.258677,11.396711,0,12,true,false,false,12,',\n",
       "  '|-3600|0,\"Josef-Kerschbaumer-Straße\",47.272365,11.443521,10,1,true,false,false,10,',\n",
       "  '|-3600|0,\"Vögelebichl\",47.264109,11.362696,8,6,true,false,false,14,',\n",
       "  '|-3600|0,\"Triumphpforte/ Casino\",47.262635,11.396309,2,13,true,false,false,15,',\n",
       "  '|-3600|0,\"Chemieinstitut\",47.260745,11.381139,10,1,true,false,false,11,',\n",
       "  '|-3600|0,\"BIKE 340096\",47.263662,11.398513,1,0,true,false,true,1,',\n",
       "  '|-3600|0,\"BIKE 340325\",47.275267,11.404502,1,0,true,false,true,1,'],\n",
       " ['|-3600|0,\"Universität Klagenfurt\",46.616978,14.266726,10,1,true,false,false,10,',\n",
       "  '|-3600|0,\"S-Bahn Klagenfurt West\",46.622792,14.267274,5,5,true,false,false,10,',\n",
       "  '|-3600|0,\"Heiligengeistplatz\",46.624676,14.305148,3,3,true,false,false,6,',\n",
       "  '|-3600|0,\"Heuplatz\",46.626433,14.308257,4,5,true,false,false,9,',\n",
       "  '|-3600|0,\"Park & Ride Fernheizkraftwerk\",46.629264,14.314336,4,3,true,false,false,8,',\n",
       "  '|-3600|0,\"Strandbad Klagenfurt\",46.619571,14.255978,5,5,true,false,false,10,',\n",
       "  '|-3600|0,\"FH Kärnten Primoschgasse\",46.610464,14.330101,2,2,true,false,false,6,',\n",
       "  '|-3600|0,\"Hauptbahnhof Klagenfurt\",46.616539,14.313624,6,4,true,false,false,10,',\n",
       "  '|-3600|0,\"Neuer Platz\",46.624195,14.307061,9,1,true,false,false,10,',\n",
       "  '|-3600|0,\"Messe Klagenfurt\",46.617295,14.308044,3,5,true,false,false,8,',\n",
       "  '|-3600|0,\"Landesregierung Mießtalerstraße\",46.621497,14.311447,8,2,true,false,false,10,',\n",
       "  '|-3600|0,\"Welzeneggerstraße\",46.633055,14.334616,7,3,true,false,false,10,',\n",
       "  '|-3600|0,\"Pfarrplatz\",46.625919,14.307208,4,2,true,false,false,6,',\n",
       "  '|-3600|0,\"HTL1 Lastenstraße\",46.619769,14.315703,2,6,true,false,false,8,',\n",
       "  '|-3600|0,\"P&R Sirius\",46.619378,14.319519,4,4,true,false,false,8,',\n",
       "  '|-3600|0,\"Domplatz\",46.622304,14.309069,5,1,true,false,false,5,',\n",
       "  '|-3600|0,\"Ebenthal\",46.610514,14.359715,1,4,true,false,false,5,',\n",
       "  '|-3600|0,\"Schleppeplatz\",46.641481,14.288451,5,3,true,false,false,8,',\n",
       "  '|-3600|0,\"Kardinalplatz\",46.623896,14.312117,6,1,true,false,false,5,',\n",
       "  '|-3600|0,\"Steinerne Brücke\",46.62045,14.283111,4,2,true,false,false,6,',\n",
       "  '|-3600|0,\"Seepark Hotel\",46.618267,14.261236,4,6,true,false,false,10,',\n",
       "  '|-3600|0,\"Sportpark Klagenfurt\",46.610406,14.277975,7,1,true,false,false,8,',\n",
       "  '|-3600|0,\"Messe Parkhaus\",46.618639,14.304042,3,3,true,false,false,6,',\n",
       "  '|-3600|0,\"Mühlgasse\",46.63935,14.297519,4,3,true,false,false,8,',\n",
       "  '|-3600|0,\"Wörthersee Schifffahrt\",46.622743,14.255431,3,5,true,false,false,8,',\n",
       "  '|-3600|0,\"Bahnhofstraße/ Priesterhausgasse\",46.625719,14.310586,2,2,true,false,false,5,',\n",
       "  '|-3600|0,\"S-Bahn Annabichl\",46.650767,14.314438,5,1,true,false,false,5,',\n",
       "  '|-3600|0,\"BKS Bank St.Veiter Ring\",46.628052,14.309578,3,4,true,false,false,8,',\n",
       "  '|-3600|0,\"HTL Mössingerstraße\",46.610369,14.305603,5,3,true,false,false,8,',\n",
       "  '|-3600|0,\"S-Bahn Klagenfurt/ Ost Rudolfsbahngürtel\",46.621495,14.321716,3,7,true,false,false,10,',\n",
       "  '|-3600|0,\"NMS St. Ruprecht\",46.611082,14.311115,1,5,true,false,false,6,',\n",
       "  '|-3600|0,\"FH Klinikum St. Veiter Straße\",46.632581,14.309599,5,5,true,false,false,10,',\n",
       "  '|-3600|0,\"STW Kundencenter\",46.629643,14.309644,2,4,true,false,false,6,',\n",
       "  '|-3600|0,\"Südpark\",46.615411,14.319496,4,3,true,false,false,8,',\n",
       "  '|-3600|0,\"S-Bahn Ebenthal/Fischl\",46.616903,14.333603,3,6,true,false,false,9,',\n",
       "  '|-3600|0,\"Generali at Brain@Work\",46.620811,14.307048,6,4,true,false,false,10,',\n",
       "  '|-3600|0,\"KSW Maximilianstraße\",46.613919,14.293806,3,5,true,false,false,8,',\n",
       "  '|-3600|0,\"Benediktinerplatz\",46.623263,14.305623,7,3,true,false,false,10,',\n",
       "  '|-3600|0,\"Pädagogische Hochschule\",46.608516,14.29106,10,1,true,false,false,10,',\n",
       "  '|-3600|0,\"SLOG & TAK Prof.-Janežič-Platz\",46.624367,14.323619,1,2,true,false,false,5,',\n",
       "  '|-3600|0,\"hi Harbach\",46.621873,14.343128,4,1,true,false,false,13,'],\n",
       " [],\n",
       " ['|-3600|0,\"Laa / Bahnhof\",48.723065,16.40269,0,10,true,false,false,10,',\n",
       "  '|-3600|0,\"Laa / Stadtplatz - Rathaus\",48.720988,16.384794,0,10,true,false,false,10,'],\n",
       " ['|-3600|0,\"Alter Markt\",48.30554,14.2847,7,1,true,false,false,8,',\n",
       "  '|-3600|0,\"Am Volksgarten\",48.29491,14.29272,9,1,true,false,false,10,',\n",
       "  '|-3600|0,\"Bahnhofplatz\",48.2912,14.2912,11,2,true,false,false,13,',\n",
       "  '|-3600|0,\"Bethlehemstraße \",48.30321,14.2893,10,1,true,false,false,10,',\n",
       "  '|-3600|0,\"Blumauerstraße\",48.29548,14.29535,9,1,true,false,false,10,',\n",
       "  '|-3600|0,\"Dinghoferstraße \",48.29701,14.29907,7,1,true,false,false,8,',\n",
       "  '|-3600|0,\"E. Koref-Promenade\",48.30832,14.2889,6,2,true,false,false,8,',\n",
       "  '|-3600|0,\"Fabrikstraße \",48.30864,14.29284,8,1,true,false,false,8,',\n",
       "  '|-3600|0,\"Ferihumerstraße \",48.31327,14.28754,9,1,true,false,false,10,',\n",
       "  '|-3600|0,\"Figulystraße \",48.293519,14.28811,8,2,true,false,false,10,',\n",
       "  '|-3600|0,\"Friedensplatz\",48.2999,14.28963,6,4,true,false,false,10,',\n",
       "  '|-3600|0,\"Europaplatz\",48.29927,14.30405,10,1,true,false,false,10,',\n",
       "  '|-3600|0,\"Gruberstraße\",48.30301,14.3003,11,1,true,false,false,10,',\n",
       "  '|-3600|0,\"Harrachstraße-Landstraße\",48.30198,14.29021,8,1,true,false,false,8,',\n",
       "  '|-3600|0,\"Harrachstraße\",48.303515,14.297951,7,3,true,false,false,10,',\n",
       "  '|-3600|0,\"Hauptplatz \",48.3064,14.28585,10,1,true,false,false,10,',\n",
       "  '|-3600|0,\"Neues Rathaus\",48.30943,14.28332,7,3,true,false,false,10,',\n",
       "  '|-3600|0,\"Hauptstraße \",48.31437,14.28115,9,1,true,false,false,10,',\n",
       "  '|-3600|0,\"Herrenstraße\",48.30096,14.28717,10,1,true,false,false,10,',\n",
       "  '|-3600|0,\"Hessenplatz \",48.30096,14.29484,6,1,true,false,false,7,',\n",
       "  '|-3600|0,\"Huemerstraße \",48.30588,14.2983,9,1,true,false,false,10,',\n",
       "  '|-3600|0,\"Knabenseminarstraße \",48.31578,14.28057,8,2,true,false,false,10,',\n",
       "  '|-3600|0,\"Krankenhausstraße \",48.302096,14.30534,8,2,true,false,false,10,',\n",
       "  '|-3600|0,\"Landstraße\",48.2959,14.29238,7,1,true,false,false,8,',\n",
       "  '|-3600|0,\"Lederergasse\",48.30753,14.29608,10,1,true,false,false,10,',\n",
       "  '|-3600|0,\"Marktplatz\",48.300521,14.300158,9,1,true,false,false,9,',\n",
       "  '|-3600|0,\"Martin Luther-Platz\",48.30061,14.29176,9,1,true,false,false,10,',\n",
       "  '|-3600|0,\"Mühlkreisbahnstraße\",48.311548,14.280062,11,1,true,false,false,10,',\n",
       "  '|-3600|0,\"Pfarrplatz\",48.306351,14.289585,11,1,true,false,false,10,',\n",
       "  '|-3600|0,\"Pochestraße\",48.304939,14.292987,6,4,true,false,false,10,',\n",
       "  '|-3600|0,\"Promenade \",48.30421,14.28719,6,3,true,false,false,9,',\n",
       "  '|-3600|0,\"Klammstraße\",48.30333,14.28454,7,3,true,false,false,10,',\n",
       "  '|-3600|0,\"Römerstraße \",48.304528,14.280579,10,1,true,false,false,10,',\n",
       "  '|-3600|0,\"Schillerplatz \",48.29749,14.29094,8,2,true,false,false,10,',\n",
       "  '|-3600|0,\"Schubertstraße \",48.29878,14.29622,7,1,true,false,false,8,',\n",
       "  '|-3600|0,\"Spittelwiese \",48.30218,14.2868,8,1,true,false,false,8,',\n",
       "  '|-3600|0,\"Stockhofstraße \",48.29565,14.28675,9,1,true,false,false,8,',\n",
       "  '|-3600|0,\"Untere Donaulände \",48.310402,14.293835,9,1,true,false,false,10,',\n",
       "  '|-3600|0,\"Volksgartenstraße \",48.29776,14.28793,10,1,true,false,false,10,',\n",
       "  '|-3600|0,\"Weingartshofstraße \",48.29111,14.28798,10,1,true,false,false,10,',\n",
       "  '|-3600|0,\"JKU Kepler Hall\",48.335415,14.32033,11,1,true,false,false,10,',\n",
       "  '|-3600|0,\"JKU OIC\",48.337251,14.315912,11,1,true,false,false,10,',\n",
       "  '|-3600|0,\"BIKE 390037\",48.30052,14.305408,1,0,true,false,true,1,',\n",
       "  '|-3600|0,\"BIKE 390123\",48.301684,14.284597,1,0,true,false,true,1,',\n",
       "  '|-3600|0,\"BIKE 390367\",48.306227,14.286692,1,0,true,false,true,1,',\n",
       "  '|-3600|0,\"BIKE 390218\",48.298427,14.28854,1,0,true,false,true,1,'],\n",
       " [],\n",
       " ['|-3600|0,\"Marchegg / Hauptplatz\",48.279987,16.90731,0,10,true,false,false,10,',\n",
       "  '|-3600|0,\"Marchegg / Bahnhof\",48.249998,16.917604,0,10,true,false,false,10,',\n",
       "  '|-3600|0,\"Engelhartstetten / Schloss Hof\",48.215569,16.934963,0,10,true,false,false,10,'],\n",
       " ['|-3600|0,\"Mistelbach / Hst. Mistelbach Stadt\",48.571111,16.569142,0,10,,,,10,',\n",
       "  '|-3600|0,\"Mistelbach / Weinlandbad\",48.563056,16.576389,0,10,,,,10,',\n",
       "  '|-3600|0,\"Mistelbach / Bahnhof\",48.566047,16.565543,0,10,,,,10,'],\n",
       " ['|-3600|0,\"Ma. Enzersdorf / Haltestelle\",48.096659,16.314386,5,5,true,false,false,10,',\n",
       "  '|-3600|0,\"Wiener Neudorf / HST Griesfeld\",48.077713,16.312519,7,3,true,false,false,10,',\n",
       "  '|-3600|0,\"Vösendorf / Schönbrunner Allee\",48.135664,16.32519,0,10,true,false,false,10,',\n",
       "  '|-3600|0,\"Vösendorf / Siebenhirten HST\",48.125628,16.319413,0,10,true,false,false,10,',\n",
       "  '|-3600|0,\"Wiener Neudorf / Haltestelle\",48.087561,16.31429,3,7,true,false,false,10,',\n",
       "  '|-3600|0,\"Mödling / Bahnhof\",48.085397,16.295616,3,7,true,false,false,10,',\n",
       "  '|-3600|0,\"Laxenburg / Franz-Josephs-Platz\",48.06753,16.354989,6,4,true,false,false,10,',\n",
       "  '|-3600|0,\"Mödling / Bike+Ride (Bach)\",48.084985,16.297038,1,9,true,false,false,10,',\n",
       "  '|-3600|0,\"Mödling / Babenbergerhof\",48.083759,16.28345,4,6,true,false,false,10,',\n",
       "  '|-3600|0,\"Mödling / Stadtbad\",48.081591,16.287414,3,7,true,false,false,10,',\n",
       "  '|-3600|0,\"Mödling / Schrannenplatz\",48.085343,16.283568,3,7,true,false,false,10,',\n",
       "  '|-3600|0,\"Brunn / Campus 21\",48.114455,16.294516,0,10,true,false,false,10,',\n",
       "  '|-3600|0,\"Laxenburg / Schlosspark Haupteingang\",48.066476,16.358385,6,4,true,false,false,10,',\n",
       "  '|-3600|0,\"Ma. Enzersdorf / Franziskanerplatz\",48.101155,16.283943,1,9,true,false,false,10,',\n",
       "  '|-3600|0,\"Ma. Enzersdorf / Friedhof\",48.093434,16.284415,5,5,true,false,false,10,',\n",
       "  '|-3600|0,\"Ma. Enzersdorf / Theissplatz\",48.095376,16.304784,3,7,true,false,false,10,',\n",
       "  '|-3600|0,\"Ma. Enzersdorf / Gemeindeamt\",48.097182,16.283948,0,10,true,false,false,10,',\n",
       "  '|-3600|0,\"Vösendorf / Schloss\",48.120404,16.343113,3,7,true,false,false,10,',\n",
       "  '|-3600|0,\"Wiener Neudorf / Rathaus\",48.086544,16.318104,1,9,true,false,false,10,',\n",
       "  '|-3600|0,\"Wiener Neudorf / C.-Migazzi-Haus\",48.083706,16.323887,2,8,true,false,false,10,',\n",
       "  '|-3600|0,\"Wiener Neudorf / Reisenbauer Ring\",48.091001,16.310695,2,8,true,false,false,10,',\n",
       "  '|-3600|0,\"Brunn / Bahnhof\",48.104687,16.28839,3,7,true,false,false,10,',\n",
       "  '|-3600|0,\"Biedermannsdorf / Jubiläumshalle\",48.081545,16.346299,0,10,true,false,false,10,',\n",
       "  '|-3600|0,\"Biedermannsdorf / Laxenburgerstraße /Ortstraße\",48.082552,16.352334,0,10,true,false,false,10,',\n",
       "  '|-3600|0,\"Perchtoldsdorf / Rodaun\",48.132148,16.263617,3,7,true,false,false,10,',\n",
       "  '|-3600|0,\"Perchtoldsdorf / Freizeitzentrum\",48.123891,16.266734,3,7,true,false,false,10,',\n",
       "  '|-3600|0,\"Perchtoldsdorf / Bahnhof\",48.123254,16.285263,4,6,true,false,false,10,',\n",
       "  '|-3600|0,\"Perchtoldsdorf / Marktplatz\",48.118248,16.265924,5,5,true,false,false,10,',\n",
       "  '|-3600|0,\"Vösendorf / Spitz\",48.114294,16.354254,2,8,true,false,false,10,',\n",
       "  '|-3600|0,\"Liesing / Bahnhof\",48.134515,16.283809,0,10,true,false,false,10,',\n",
       "  '|-3600|0,\"Mödling / WIFI\",48.071082,16.302579,5,5,true,false,false,10,',\n",
       "  '|-3600|0,\"Mödling / Josef-Deutsch-Platz\",48.086594,16.288304,2,8,true,false,false,10,',\n",
       "  '|-3600|0,\"Hinterbrühl / Hst. Höldrichsmühle\",48.080943,16.235915,1,9,true,false,false,10,',\n",
       "  '|-3600|0,\"Hinterbrühl / Parkstraße - Seegrotte\",48.086218,16.255292,2,8,true,false,false,10,',\n",
       "  '|-3600|0,\"Perchtoldsdorf / Kulturzentrum\",48.121922,16.26565,4,6,true,false,false,10,',\n",
       "  '|-3600|0,\"Liesing / Perfektastraße U6\",48.136641,16.313335,4,6,true,false,false,10,',\n",
       "  '|-3600|0,\"Mödling / Jordanfelsen\",48.080986,16.270435,2,8,true,false,false,10,',\n",
       "  '|-3600|0,\"Mödling / BH Mödling\",48.082132,16.298652,4,6,true,false,false,10,',\n",
       "  '|-3600|0,\"Hennersdorf / Gemeindeamt\",48.110153,16.366485,4,6,true,false,false,10,',\n",
       "  '|-3600|0,\"Hennersdorf / Bahnhof\",48.11217,16.358278,1,9,true,false,false,10,',\n",
       "  '|-3600|0,\"Mödling / Grutschgasse\",48.075126,16.288835,0,10,true,false,false,10,',\n",
       "  '|-3600|0,\"Leobersdorf / Bahnhof\",47.93723,16.230749,0,10,true,false,false,10,',\n",
       "  '|-3600|0,\"Leobersdorf / Rathausplatz\",47.92859,16.216437,0,10,true,false,false,10,',\n",
       "  '|-3600|0,\"Leobersdorf / Ared Park\",47.927188,16.201449,0,10,true,false,false,10,',\n",
       "  '|-3600|0,\"Bad Vöslau / Bahnhof\",47.9689,16.223465,0,10,true,false,false,10,',\n",
       "  '|-3600|0,\"Bad Vöslau / Schlossplatz \",47.965474,16.214506,0,10,true,false,false,10,',\n",
       "  '|-3600|0,\"Guntramsdorf / Hst. Lokalbahn\",48.047982,16.311817,3,7,true,false,false,10,',\n",
       "  '|-3600|0,\"Gumpoldskirchen / Bahnhof\",48.041598,16.285295,2,8,true,false,false,10,',\n",
       "  '|-3600|0,\"Guntramsdorf / Hst. Neu Guntramsdorf\",48.063938,16.31385,2,8,true,false,false,10,',\n",
       "  '|-3600|0,\"Baden / Bahnhof \",48.004582,16.242868,0,10,true,false,false,10,',\n",
       "  '|-3600|0,\"Baden / Tourismusinfo Römertherme\",48.008092,16.231045,1,9,true,false,false,10,',\n",
       "  '|-3600|0,\"Pfaffstätten / Bahnhof \",48.018366,16.258886,0,10,true,false,false,10,',\n",
       "  '|-3600|0,\"Baden / BH\",48.004341,16.254138,0,10,true,false,false,10,',\n",
       "  '|-3600|0,\"Kottingbrunn / Raiba - EKZ\",47.950731,16.227837,0,10,true,false,false,10,',\n",
       "  '|-3600|0,\"Guntramsdorf / Bahnhof Thallern\",48.052194,16.298067,0,10,true,false,false,10,',\n",
       "  '|-3600|0,\"BIKE 35990\",48.058844,16.320631,1,0,true,false,true,1,',\n",
       "  '|-3600|0,\"Schwechat / Bahnhof\",48.142867,16.48233,0,10,true,false,false,10,',\n",
       "  '|-3600|0,\"Leopoldsdorf / Gemeindeamt\",48.107922,16.396864,0,10,true,false,false,10,',\n",
       "  '|-3600|0,\"Leopoldsdorf / ZIAG\",48.105017,16.402239,0,10,true,false,false,10,',\n",
       "  '|-3600|0,\"Leopoldsdorf / Rustenfeld\",48.124235,16.394477,0,10,true,false,false,10,',\n",
       "  '|-3600|0,\"Fischamend / BHF\",48.116808,16.614992,0,10,true,false,false,10,',\n",
       "  '|-3600|0,\"Schwechat / Concorde Businesspark\",48.138313,16.496594,0,10,true,false,false,10,',\n",
       "  '|-3600|0,\"Schwechat / Office Park 1\",48.122506,16.564422,0,10,true,false,false,10,',\n",
       "  '|-3600|0,\"Schwechat / HCW Handling Center West\",48.125009,16.549294,0,10,true,false,false,10,']]"
      ]
     },
     "execution_count": 22,
     "metadata": {},
     "output_type": "execute_result"
    }
   ],
   "source": [
    "#len(clean_lst2)\n",
    "clean_lst2[0:10]"
   ]
  },
  {
   "cell_type": "code",
   "execution_count": 23,
   "id": "df2e3110",
   "metadata": {},
   "outputs": [
    {
     "data": {
      "text/plain": [
       "'\\nnepoužito\\n\\nclean_lst2 = []\\nfor x in clean_lst:\\n    clean_lst2.append(x.strip(\"0\\',\").strip(\"6\\',\"))\\n'"
      ]
     },
     "execution_count": 23,
     "metadata": {},
     "output_type": "execute_result"
    }
   ],
   "source": [
    "\"\"\"\n",
    "nepoužito\n",
    "\n",
    "clean_lst2 = []\n",
    "for x in clean_lst:\n",
    "    clean_lst2.append(x.strip(\"0',\").strip(\"6',\"))\n",
    "\"\"\""
   ]
  },
  {
   "cell_type": "code",
   "execution_count": 24,
   "id": "599552d1",
   "metadata": {},
   "outputs": [
    {
     "data": {
      "text/plain": [
       "796"
      ]
     },
     "execution_count": 24,
     "metadata": {},
     "output_type": "execute_result"
    }
   ],
   "source": [
    "len(cities)"
   ]
  },
  {
   "cell_type": "code",
   "execution_count": 25,
   "id": "3aee7aea",
   "metadata": {
    "tags": []
   },
   "outputs": [
    {
     "data": {
      "text/plain": [
       "796"
      ]
     },
     "execution_count": 25,
     "metadata": {},
     "output_type": "execute_result"
    }
   ],
   "source": [
    "len(station_info_list)"
   ]
  },
  {
   "cell_type": "code",
   "execution_count": 26,
   "id": "d0f8d178",
   "metadata": {},
   "outputs": [
    {
     "data": {
      "text/plain": [
       "'\\nnakonec nevyužito\\n\\n# creating list of data withOUT head\\nno_head_lst = []\\nfor i in head_lst:\\n    no_head_lst.append(i[12:])\\n    \\n'"
      ]
     },
     "execution_count": 26,
     "metadata": {},
     "output_type": "execute_result"
    }
   ],
   "source": [
    "\"\"\"\n",
    "nakonec nevyužito\n",
    "\n",
    "# creating list of data withOUT head\n",
    "no_head_lst = []\n",
    "for i in head_lst:\n",
    "    no_head_lst.append(i[12:])\n",
    "    \n",
    "\"\"\""
   ]
  },
  {
   "cell_type": "code",
   "execution_count": 27,
   "id": "b8793831",
   "metadata": {
    "tags": []
   },
   "outputs": [],
   "source": [
    "# creating 1D list of all data withnout head (from 2D list)\n",
    "simple_lst = [v1 for sub_list in clean_lst2 for v1 in sub_list]"
   ]
  },
  {
   "cell_type": "code",
   "execution_count": 28,
   "id": "58484e9c",
   "metadata": {
    "tags": []
   },
   "outputs": [],
   "source": [
    "cleaned_simple_lst = []\n",
    "for elem in simple_lst:\n",
    "    cleaned_simple_lst.append(re.sub(r'\"[^\"]*\"', lambda x: x.group().replace(\",\", \"\"), elem))"
   ]
  },
  {
   "cell_type": "code",
   "execution_count": 1,
   "id": "fac4d398",
   "metadata": {
    "collapsed": true,
    "jupyter": {
     "outputs_hidden": true
    },
    "tags": []
   },
   "outputs": [],
   "source": [
    "# cleaned_simple_lst"
   ]
  },
  {
   "cell_type": "code",
   "execution_count": 30,
   "id": "47c9d1d5",
   "metadata": {
    "tags": []
   },
   "outputs": [
    {
     "data": {
      "text/plain": [
       "['|-32400|0,\"2302. Kyobo Tower Bus Stop (behind Gate 3 Sinnonhyeon Station)\",37.50558090,127.02427673,0,12,true,false,false,12,']"
      ]
     },
     "execution_count": 30,
     "metadata": {},
     "output_type": "execute_result"
    }
   ],
   "source": [
    "[i for i in cleaned_simple_lst if \"Kyobo Tower Bus Stop\" in i]"
   ]
  },
  {
   "cell_type": "code",
   "execution_count": 31,
   "id": "0e682c39",
   "metadata": {},
   "outputs": [
    {
     "data": {
      "text/plain": [
       "'\\npříklad vymazání čárek mezi uvozovkami v stringu listu\\ntext = \\'12, 1425073747, \"t,e,,st\", \"1, 2, 3,fghfh,gfhgh, ... \"\\'\\nprint( re.sub(r\\'\"[^\"]*\"\\', lambda x: x.group().replace(\",\", \"\"), text) )\\n'"
      ]
     },
     "execution_count": 31,
     "metadata": {},
     "output_type": "execute_result"
    }
   ],
   "source": [
    "\"\"\"\n",
    "příklad vymazání čárek mezi uvozovkami v stringu listu\n",
    "text = '12, 1425073747, \"t,e,,st\", \"1, 2, 3,fghfh,gfhgh, ... \"'\n",
    "print( re.sub(r'\"[^\"]*\"', lambda x: x.group().replace(\",\", \"\"), text) )\n",
    "\"\"\""
   ]
  },
  {
   "cell_type": "code",
   "execution_count": 32,
   "id": "0ed86086",
   "metadata": {},
   "outputs": [],
   "source": [
    "#creating split list\n",
    "\n",
    "split_elem = [i.split(\",\") for i in cleaned_simple_lst]"
   ]
  },
  {
   "cell_type": "code",
   "execution_count": 33,
   "id": "22cbdbc4",
   "metadata": {
    "tags": []
   },
   "outputs": [],
   "source": [
    "#creating split list\n",
    "\n",
    "#split_elem = [i.split(\",\") for sublist in cleaned_simple_lst for i in sublist]"
   ]
  },
  {
   "cell_type": "code",
   "execution_count": 34,
   "id": "f108f194",
   "metadata": {},
   "outputs": [],
   "source": [
    "for i in split_elem:\n",
    "    i.pop()"
   ]
  },
  {
   "cell_type": "code",
   "execution_count": 35,
   "id": "990f2e5c",
   "metadata": {},
   "outputs": [
    {
     "data": {
      "text/plain": [
       "['\"2302. Kyobo Tower Bus Stop (behind Gate 3 Sinnonhyeon Station)\"']"
      ]
     },
     "execution_count": 35,
     "metadata": {},
     "output_type": "execute_result"
    }
   ],
   "source": [
    "[i for sub in split_elem for i in sub if \"Kyobo Tower Bus Stop\" in i]"
   ]
  },
  {
   "cell_type": "code",
   "execution_count": 2,
   "id": "72be515a",
   "metadata": {
    "collapsed": true,
    "jupyter": {
     "outputs_hidden": true
    },
    "tags": []
   },
   "outputs": [],
   "source": [
    "# split_elem[242400:279278]"
   ]
  },
  {
   "cell_type": "code",
   "execution_count": 37,
   "id": "781dec41",
   "metadata": {},
   "outputs": [
    {
     "data": {
      "text/plain": [
       "'\\n# creating 1D list of all data withnout head (from 2D list) - opakovaně, není to špatně\\nsimplest_lst = [v1 for sub_list in split_elem for v1 in sub_list]\\n'"
      ]
     },
     "execution_count": 37,
     "metadata": {},
     "output_type": "execute_result"
    }
   ],
   "source": [
    "\"\"\"\n",
    "# creating 1D list of all data withnout head (from 2D list) - opakovaně, není to špatně\n",
    "simplest_lst = [v1 for sub_list in split_elem for v1 in sub_list]\n",
    "\"\"\""
   ]
  },
  {
   "cell_type": "code",
   "execution_count": 3,
   "id": "2c48da87",
   "metadata": {
    "tags": []
   },
   "outputs": [],
   "source": [
    "# simplest_lst"
   ]
  },
  {
   "cell_type": "code",
   "execution_count": null,
   "id": "9c0c23ef",
   "metadata": {
    "tags": []
   },
   "outputs": [],
   "source": [
    "# simple_lst"
   ]
  },
  {
   "cell_type": "code",
   "execution_count": null,
   "id": "3a97280c",
   "metadata": {
    "tags": []
   },
   "outputs": [],
   "source": [
    "\"\"\"\n",
    "nakonec nevyužito\n",
    "\n",
    "#removing \\n from list\n",
    "\n",
    "repair_simp_lst = []\n",
    "for x in simple_lst:\n",
    "    repair_simp_lst.append(x.replace(\"\\n\", \"\"))\n",
    "    \n",
    "#další možnost:\n",
    "\n",
    "#repair_simp_lst = list(map(lambda x: x.replace(\"\\n\", \"\"),simple_lst))\n",
    "    \n",
    "#nefakčí   \n",
    "#repair_simp_lst = list(map(lambda x: x.strip(),simple_lst))\n",
    "\n",
    "\"\"\""
   ]
  },
  {
   "cell_type": "code",
   "execution_count": null,
   "id": "56844523",
   "metadata": {},
   "outputs": [],
   "source": [
    "\"\"\"\n",
    "#rozšíření listu listem\n",
    "lst1_rep_12.extend(lst2_rep_12)\n",
    "\"\"\""
   ]
  },
  {
   "cell_type": "code",
   "execution_count": null,
   "id": "37b207c5",
   "metadata": {},
   "outputs": [],
   "source": [
    "\"\"\"\n",
    "#creating 2D list of body - asi není úplně třeba\n",
    "n = len(body_values_lst)\n",
    "body_values_lst_2D = [body_values_lst[i:i+n] for i in range(0, len(body_values_lst), n)]\n",
    "\n",
    "\"\"\""
   ]
  },
  {
   "cell_type": "code",
   "execution_count": null,
   "id": "b718c283",
   "metadata": {},
   "outputs": [],
   "source": [
    "#creating 2D list from 1D list with numerical sequence\n",
    "\n",
    "\"\"\"\n",
    "from 1D to 2D list by number\n",
    "example:\n",
    "\n",
    "sample_list=[5, 2, 3, 4, 1, 6, 1, 6, 7, 2, 3]\n",
    "rows=2\n",
    "cols=4\n",
    "\n",
    "result = [sample_list[x:x+cols] for x in range(0,len(sample_list),cols)][:rows]\n",
    "\n",
    "--------------------------------------------------------------------------------\n",
    "\n",
    "\n",
    "cols=8\n",
    "\n",
    "stations = [simplest_lst[x:x+cols] for x in range(0,len(simplest_lst),cols)]\n",
    "\n",
    "\"\"\""
   ]
  },
  {
   "cell_type": "code",
   "execution_count": 39,
   "id": "a0cc5707",
   "metadata": {
    "tags": []
   },
   "outputs": [],
   "source": [
    "#creating final DF from 2D list\n",
    "\"\"\"\n",
    "example:\n",
    "data = [['Katie', 32, 'London'], ['Nik', 32, 'Toronto'], ['James', 36, 'Atlanta'], ['Evan', 31, 'Madrid']]\n",
    "df = pd.DataFrame(data, columns=['Name', 'Age', 'Location'], dtype='int8')\n",
    "\"\"\"\n",
    "\n",
    "df = pd.DataFrame(split_elem) #columns=header_lst)"
   ]
  },
  {
   "cell_type": "code",
   "execution_count": 70,
   "id": "570c9d83",
   "metadata": {},
   "outputs": [],
   "source": [
    "rang = [i for i in range(0,10)]"
   ]
  },
  {
   "cell_type": "code",
   "execution_count": 4,
   "id": "d4c03b88",
   "metadata": {},
   "outputs": [],
   "source": [
    "# df.iloc[:,:10]"
   ]
  },
  {
   "cell_type": "code",
   "execution_count": 47,
   "id": "056833b1",
   "metadata": {},
   "outputs": [],
   "source": [
    "counter = [i for i in range(11,118)]"
   ]
  },
  {
   "cell_type": "code",
   "execution_count": 48,
   "id": "9007818c",
   "metadata": {
    "tags": []
   },
   "outputs": [],
   "source": [
    "fin_df = df.drop(df.columns[10:118], axis=1)"
   ]
  },
  {
   "cell_type": "code",
   "execution_count": 49,
   "id": "444fad5c",
   "metadata": {},
   "outputs": [],
   "source": [
    "header_dic = {}\n",
    "for k, v in enumerate(header_lst):\n",
    "    header_dic[k] = v"
   ]
  },
  {
   "cell_type": "code",
   "execution_count": 50,
   "id": "220cd02f",
   "metadata": {},
   "outputs": [
    {
     "data": {
      "text/plain": [
       "{0: 'timestamp|gmt_local_diff_sec|gmt_servertime_diff_sec',\n",
       " 1: 'name',\n",
       " 2: 'lat',\n",
       " 3: 'lon',\n",
       " 4: 'bikes',\n",
       " 5: 'spaces',\n",
       " 6: 'installed',\n",
       " 7: 'locked',\n",
       " 8: 'temporary',\n",
       " 9: 'total_docks'}"
      ]
     },
     "execution_count": 50,
     "metadata": {},
     "output_type": "execute_result"
    }
   ],
   "source": [
    "header_dic"
   ]
  },
  {
   "cell_type": "code",
   "execution_count": 51,
   "id": "7a9150e7",
   "metadata": {},
   "outputs": [],
   "source": [
    "final_df = fin_df.rename(columns=header_dic)"
   ]
  },
  {
   "cell_type": "code",
   "execution_count": 5,
   "id": "ae6400d6",
   "metadata": {},
   "outputs": [],
   "source": [
    "# final_df[0:10]"
   ]
  },
  {
   "cell_type": "code",
   "execution_count": null,
   "id": "255509ea",
   "metadata": {},
   "outputs": [],
   "source": [
    "\"\"\"\n",
    "with pd.option_context('display.max_rows', None,):\n",
    "   print(final_df)\n",
    "\"\"\"\n",
    "#final_df.to_excel(\"BikeSharing_stations2.xlsx\")"
   ]
  },
  {
   "cell_type": "code",
   "execution_count": null,
   "id": "11c50445",
   "metadata": {},
   "outputs": [],
   "source": [
    "final_df.info()"
   ]
  },
  {
   "cell_type": "code",
   "execution_count": 132,
   "id": "cd2bc521",
   "metadata": {},
   "outputs": [
    {
     "name": "stderr",
     "output_type": "stream",
     "text": [
      "C:\\Users\\Milan\\anaconda3\\lib\\site-packages\\pandas\\core\\dtypes\\cast.py:122: ShapelyDeprecationWarning: The array interface is deprecated and will no longer work in Shapely 2.0. Convert the '.coords' to a numpy array instead.\n",
      "  arr = construct_1d_object_array_from_listlike(values)\n"
     ]
    }
   ],
   "source": [
    "# combine lat and lon column to a shapely Point() object\n",
    "final_df['geometry'] = final_df.apply(lambda x: Point((float(x.lon), float(x.lat))), axis=1)"
   ]
  },
  {
   "cell_type": "code",
   "execution_count": 133,
   "id": "8ab6effa",
   "metadata": {},
   "outputs": [
    {
     "name": "stderr",
     "output_type": "stream",
     "text": [
      "C:\\Users\\Milan\\anaconda3\\lib\\site-packages\\geopandas\\geodataframe.py:35: ShapelyDeprecationWarning: The array interface is deprecated and will no longer work in Shapely 2.0. Convert the '.coords' to a numpy array instead.\n",
      "  out = from_shapely(data)\n"
     ]
    }
   ],
   "source": [
    "G_df = geopandas.GeoDataFrame(final_df, geometry='geometry')"
   ]
  },
  {
   "cell_type": "code",
   "execution_count": 128,
   "id": "ed144bfd",
   "metadata": {},
   "outputs": [],
   "source": [
    "#G_df.to_file('BikeSharing_stations.shp', driver='ESRI Shapefile')"
   ]
  },
  {
   "cell_type": "markdown",
   "id": "2a67cc07",
   "metadata": {
    "tags": []
   },
   "source": [
    "## Creating of final list of dictionaries – nebylo nakonec využito"
   ]
  },
  {
   "cell_type": "code",
   "execution_count": 422,
   "id": "5bc1f919",
   "metadata": {},
   "outputs": [],
   "source": [
    "head_wide_lst = []\n",
    "for i in range(1,14):\n",
    "    for j in header_keys_lst:\n",
    "        head_wide_lst.append(j)"
   ]
  },
  {
   "cell_type": "code",
   "execution_count": 426,
   "id": "c3c3f457",
   "metadata": {
    "tags": []
   },
   "outputs": [
    {
     "data": {
      "text/plain": [
       "157"
      ]
     },
     "execution_count": 426,
     "metadata": {},
     "output_type": "execute_result"
    }
   ],
   "source": [
    "len(head_wide_lst)"
   ]
  },
  {
   "cell_type": "code",
   "execution_count": 425,
   "id": "a140dc9a",
   "metadata": {
    "tags": []
   },
   "outputs": [],
   "source": [
    "head_wide_lst.append(\"id\")"
   ]
  },
  {
   "cell_type": "code",
   "execution_count": 6,
   "id": "f8b959f4",
   "metadata": {},
   "outputs": [],
   "source": [
    "# fin_dict = dict(zip(cities, no_head_lst))"
   ]
  },
  {
   "cell_type": "code",
   "execution_count": 15,
   "id": "c78b16ed",
   "metadata": {},
   "outputs": [
    {
     "data": {
      "text/plain": [
       "805"
      ]
     },
     "execution_count": 15,
     "metadata": {},
     "output_type": "execute_result"
    }
   ],
   "source": [
    "len(body_values_lst)"
   ]
  },
  {
   "cell_type": "code",
   "execution_count": 363,
   "id": "68ce9af4",
   "metadata": {},
   "outputs": [],
   "source": [
    "fin_lst = []\n",
    "#fin_dict = {}\n",
    "r = range(0,len(simple_lst))\n",
    "\n",
    "for i in r:\n",
    "    try:\n",
    "        fin_dict = dict(zip(header_keys_lst, simple_lst[i]))\n",
    "    except:\n",
    "        pass\n",
    "    fin_lst.append(fin_dict)"
   ]
  },
  {
   "cell_type": "code",
   "execution_count": 8,
   "id": "b0c6b271",
   "metadata": {
    "collapsed": true,
    "jupyter": {
     "outputs_hidden": true
    },
    "tags": []
   },
   "outputs": [],
   "source": [
    "# fin_lst"
   ]
  },
  {
   "cell_type": "code",
   "execution_count": 7,
   "id": "38c08f14",
   "metadata": {
    "collapsed": true,
    "jupyter": {
     "outputs_hidden": true
    },
    "tags": []
   },
   "outputs": [],
   "source": [
    "# body_values_lst_2D"
   ]
  },
  {
   "cell_type": "code",
   "execution_count": 71,
   "id": "98982fff",
   "metadata": {
    "tags": []
   },
   "outputs": [],
   "source": [
    "#creating 2D list of body\n",
    "n = 12\n",
    "body_values_lst_2D = [body_values_lst[i:i+n] for i in range(0, len(body_values_lst), n)]"
   ]
  },
  {
   "cell_type": "code",
   "execution_count": 9,
   "id": "0d067ec6",
   "metadata": {
    "collapsed": true,
    "jupyter": {
     "outputs_hidden": true
    },
    "tags": []
   },
   "outputs": [],
   "source": [
    "# body_values_lst_2D"
   ]
  },
  {
   "cell_type": "code",
   "execution_count": 117,
   "id": "72cdaaa5",
   "metadata": {},
   "outputs": [
    {
     "name": "stdout",
     "output_type": "stream",
     "text": [
      "<class 'list'>\n"
     ]
    }
   ],
   "source": [
    "print(type(body_values_lst))"
   ]
  },
  {
   "cell_type": "code",
   "execution_count": 138,
   "id": "d45e0412",
   "metadata": {},
   "outputs": [],
   "source": [
    "num = [i for i in range(0,1000)]"
   ]
  },
  {
   "cell_type": "code",
   "execution_count": 387,
   "id": "a0393087",
   "metadata": {
    "tags": []
   },
   "outputs": [],
   "source": [
    "fin_lst = []\n",
    "fin_dict = {}\n",
    "r = range(0,len(no_head_lst))\n",
    "\n",
    "\n",
    "for city in cities:\n",
    "    for records in no_head_lst:\n",
    "        if city not in fin_dict:\n",
    "            try:\n",
    "                fin_dict[city] = records\n",
    "            except:\n",
    "                pass\n",
    "            fin_lst.append(fin_dict)\n",
    "            "
   ]
  },
  {
   "cell_type": "code",
   "execution_count": 442,
   "id": "31cceab4",
   "metadata": {},
   "outputs": [],
   "source": [
    "idx = fin_dict.keys()\n",
    "df = pd.concat([pd.Series(fin_dict[i]) for i in idx], axis=1).T\n",
    "df.index=idx   "
   ]
  },
  {
   "cell_type": "code",
   "execution_count": 10,
   "id": "40b22878",
   "metadata": {
    "collapsed": true,
    "jupyter": {
     "outputs_hidden": true
    },
    "tags": []
   },
   "outputs": [],
   "source": [
    "# df"
   ]
  },
  {
   "cell_type": "code",
   "execution_count": 11,
   "id": "4ec653c4",
   "metadata": {
    "collapsed": true,
    "jupyter": {
     "outputs_hidden": true
    },
    "tags": []
   },
   "outputs": [],
   "source": [
    "# pd.DataFrame({ key: pd.Series(val) for key, val in fin_dict.items() })"
   ]
  },
  {
   "cell_type": "code",
   "execution_count": 444,
   "id": "dc93c6ee",
   "metadata": {},
   "outputs": [],
   "source": [
    "fin_df = pd.concat({k: pd.Series(v) for k, v in fin_dict.items()})"
   ]
  },
  {
   "cell_type": "code",
   "execution_count": 447,
   "id": "de5c9217",
   "metadata": {},
   "outputs": [],
   "source": [
    "#fin_df.to_excel(\"BikeSharing_stations_concat.xlsx\")"
   ]
  },
  {
   "cell_type": "code",
   "execution_count": 12,
   "id": "45e51521",
   "metadata": {
    "tags": []
   },
   "outputs": [],
   "source": [
    "# pd.DataFrame(fin_lst[0:2])"
   ]
  },
  {
   "cell_type": "code",
   "execution_count": 98,
   "id": "747d8e86",
   "metadata": {},
   "outputs": [],
   "source": [
    "fin_lst = []\n",
    "dic = {}\n",
    "for index, item in enumerate(header_keys_lst):\n",
    "    dic[item] = body_values_lst[index]\n",
    "    fin_lst.append(dic)"
   ]
  },
  {
   "cell_type": "code",
   "execution_count": 13,
   "id": "5490becc",
   "metadata": {
    "collapsed": true,
    "jupyter": {
     "outputs_hidden": true
    },
    "tags": []
   },
   "outputs": [],
   "source": [
    "# fin_lst"
   ]
  },
  {
   "cell_type": "code",
   "execution_count": 14,
   "id": "faea0aba",
   "metadata": {},
   "outputs": [],
   "source": [
    "# bike_dict = dict(zip(head_wide_lst, body_values_lst))"
   ]
  },
  {
   "cell_type": "code",
   "execution_count": 15,
   "id": "06944b8a",
   "metadata": {},
   "outputs": [],
   "source": [
    "# bike_dict"
   ]
  },
  {
   "cell_type": "code",
   "execution_count": 17,
   "id": "5ffc841f",
   "metadata": {
    "collapsed": true,
    "jupyter": {
     "outputs_hidden": true
    },
    "tags": []
   },
   "outputs": [],
   "source": [
    "# pd.DataFrame(lst)"
   ]
  },
  {
   "cell_type": "code",
   "execution_count": 16,
   "id": "fcd97b4a",
   "metadata": {
    "collapsed": true,
    "jupyter": {
     "outputs_hidden": true
    },
    "tags": []
   },
   "outputs": [],
   "source": [
    "# df = pd.DataFrame([sub.split(\",\") for sub in station_info_list])\n",
    "# print(df)"
   ]
  },
  {
   "cell_type": "code",
   "execution_count": 96,
   "id": "53ccb228",
   "metadata": {
    "collapsed": true,
    "jupyter": {
     "outputs_hidden": true
    },
    "tags": []
   },
   "outputs": [
    {
     "name": "stdout",
     "output_type": "stream",
     "text": [
      "['#id,timestamp', 'gmt_local_diff_sec', 'gmt_servertime_diff_sec,name,lat,lon,bikes,spaces,installed,locked,temporary,total_docks,givesbonus_acceptspedelecs_fbbattlevel,pedelecs\\n700,1644707403.404719', '-3600', '0,\"01. Stazione FS\",44.223352,12.055386,14,10,true,false,false,24,false,0\\n701,1644707403.4047995', '-3600', '0,\"02. Vittoria\",44.217607,12.050157,4,5,true,false,false,10,false,0\\n702,1644707403.4048686', '-3600', '0,\"03. Vittorio Veneto\",44.227917,12.042153,8,8,true,false,false,16,false,0\\n703,1644707403.4049416', '-3600', '0,\"04. Piazza Saffi\",44.223322,12.041495,10,18,true,false,false,28,false,0\\n704,1644707403.4050078', '-3600', '0,\"05. San Domenico\",44.222041,12.036168,1,13,true,false,false,14,false,0\\n705,1644707403.4050772', '-3600', '0,\"06. Park dell\\'Argine\",44.218927,12.032757,10,11,true,false,false,21,false,0\\n706,1644707403.4051428', '-3600', '0,\"07. Park Schiavonia\",44.226215,12.028287,2,4,true,false,false,6,false,0\\n1397,1644707403.4052129', '-3600', '0,\"09. Campus Universitario I\",44.219257,12.042756,4,5,true,false,false,9,false,0\\n1398,1644707403.405278', '-3600', '0,\"10. Park Oriani\",44.221137,12.049119,5,3,true,false,false,8,false,0\\n1399,1644707403.4053426', '-3600', '0,\"11. Campus Universitario II\",44.217696,12.044369,4,6,true,false,false,10,false,0\\n1673,1644707403.4054067', '-3600', '0,\"12. XX Settembre\",44.222188,12.042997,3,4,true,false,false,7,false,0\\n1674,1644707403.4054716', '-3600', '0,\"13. BIKE POINT Park Lombardini\",44.217425,12.041227,0,8,true,false,false,8,false,0\\n1675,1644707403.4055355', '-3600', '0,\"14. BIKE POINT Park Manzoni\",44.223120,12.047737,7,1,true,false,false,8,false,0\\n']\n",
      "['#id,timestamp', 'gmt_local_diff_sec', 'gmt_servertime_diff_sec,name,lat,lon,bikes,spaces,installed,locked,temporary,total_docks,givesbonus_acceptspedelecs_fbbattlevel,pedelecs\\n2,1644707883', '10800', '0,\"002 - Retiro I\",-34.5924233,-58.3747151,4,14,true,false,false,20,,0\\n3,1644707883', '10800', '0,\"003 - ADUANA\",-34.611032,-58.3682604,0,20,true,false,false,20,,0\\n4,1644707883', '10800', '0,\"004 - Plaza Roma\",-34.601822,-58.368781,3,16,true,false,false,20,,0\\n5,1644707883', '10800', '0,\"005 - Plaza Italia\",-34.5805497,-58.4209542,13,28,true,false,false,42,,0\\n6,1644707883', '10800', '0,\"006 - Parque Lezama\",-34.628526,-58.369758,20,0,true,false,false,20,,0\\n7,1644707883', '10800', '0,\"007 - OBELISCO\",-34.606498,-58.381098,1,14,true,false,false,16,,0\\n8,1644707883', '10800', '0,\"008 - Congreso\",-34.6094218,-58.3893364,2,19,true,false,false,24,,0\\n9,1644707883', '10800', '0,\"009 - Parque Las Heras\",-34.585443,-58.407741,12,12,true,false,false,24,,0\\n12,1644707883', '10800', '0,\"012 - Plaza Vicente Lopez\",-34.5927096,-58.388807,0,13,true,false,false,16,,0\\n13,1644707883', '10800', '0,\"013 - ONCE\",-34.61009,-58.406,11,19,true,false,false,30,,0\\n14,1644707883', '10800', '0,\"014 - Pacifico\",-34.577424,-58.426387,19,11,true,false,false,30,,0\\n17,1644707883', '10800', '0,\"017 - Plaza Almagro\",-34.6064101,-58.4187306,1,16,true,false,false,20,,0\\n20,1644707883', '10800', '0,\"020 - Distrito Audiovisual\",-34.5798619,-58.4417756,7,12,true,false,false,20,,0\\n21,1644707883', '10800', '0,\"021 - Parque Patricios\",-34.640111,-58.406432,24,0,true,false,false,24,,0\\n22,1644707883', '10800', '0,\"022 - Arenales\",-34.5938629,-58.3825498,0,20,true,false,false,20,,0\\n23,1644707883', '10800', '0,\"023 - Suipacha\",-34.600139,-58.379836,1,11,true,false,false,12,,0\\n24,1644707883', '10800', '0,\"024 - ALSINA\",-34.610583,-58.3808943,0,16,true,false,false,18,,0\\n25,1644707883', '10800', '0,\"025 - Plaza Guemes\",-34.5894269,-58.4161178,10,14,true,false,false,24,,0\\n26,1644707883', '10800', '0,\"026 - JUANA MANSO I\",-34.600752,-58.3638723,0,24,true,false,false,24,,0\\n27,1644707883', '10800', '0,\"027 - Montevideo\",-34.599068,-58.3900887,1,13,true,false,false,16,,0\\n29,1644707883', '10800', '0,\"029 - Parque Centenario\",-34.6079414,-58.4335573,8,22,true,false,false,30,,0\\n30,1644707883', '10800', '0,\"030 - Peña\",-34.5908211,-58.3973698,4,16,true,false,false,20,,0\\n32,1644707883', '10800', '0,\"032 - Catedral\",-34.6072074,-58.3735984,0,16,true,false,false,16,,0\\n33,1644707883', '10800', '0,\"033 - Facultad de Medicina\",-34.5970909,-58.3989807,2,17,true,false,false,20,,0\\n35,1644707883', '10800', '0,\"035 - INGENIERO BUTTY\",-34.5964246,-58.371847,4,15,true,false,false,20,,0\\n36,1644707883', '10800', '0,\"036 - MAIPÚ\",-34.6045481,-58.3767677,1,12,true,false,false,16,,0\\n38,1644707883', '10800', '0,\"038 - Plaza Libertad\",-34.5970497,-58.3828403,0,19,true,false,false,20,,0\\n41,1644707883', '10800', '0,\"041 - Urquiza y Rondeau\",-34.6364511,-58.4076348,19,0,true,false,false,20,,0\\n43,1644707883', '10800', '0,\"334 - CENTRO DE EXPOSICIONES\",-34.584018,-58.389921,2,18,true,false,false,20,,0\\n44,1644707883', '10800', '0,\"044 - Ecoparque\",-34.5755148,-58.4138829,16,3,true,false,false,20,,0\\n45,1644707883', '10800', '0,\"045 - Uruguay\",-34.6018635,-58.3866934,0,20,true,false,false,20,,0\\n46,1644707883', '10800', '0,\"046 - Chile\",-34.6163012,-58.3743749,3,14,true,false,false,18,,0\\n48,1644707883', '10800', '0,\"034 - Colonia Express\",-34.624255,-58.362131,13,2,true,false,false,16,,0\\n49,1644707883', '10800', '0,\"049 - 33 Orientales\",-34.6290527,-58.422611,9,7,true,false,false,16,,0\\n50,1644707883', '10800', '0,\"050 - Hospital Rivadavia\",-34.5837348,-58.4010798,7,13,true,false,false,20,,0\\n51,1644707883', '10800', '0,\"051 - TUCUMAN\",-34.6014776,-58.3821261,1,10,true,false,false,12,,0\\n54,1644707883', '10800', '0,\"054 - Acuña de Figueroa\",-34.5982097,-58.4220694,2,14,true,false,false,17,,0\\n56,1644707883', '10800', '0,\"056 - Plaza Palermo Viejo\",-34.588567,-58.425999,6,10,true,false,false,16,,0\\n58,1644707883', '10800', '0,\"058 - Ministro Carranza\",-34.5752773,-58.4346883,0,20,true,false,false,20,,0\\n59,1644707883', '10800', '0,\"018 - Independencia\",-34.617654,-58.380565,1,18,true,false,false,20,,0\\n60,1644707883', '10800', '0,\"060 - 25 De Mayo\",-34.6016509,-58.371079,0,19,true,false,false,20,,0\\n61,1644707883', '10800', '0,\"098 - AV. ALVAREZ JONTE Y BENITO JUAREZ\",-34.61880867765093,-58.504662916142756,8,8,true,false,false,16,,0\\n63,1644707883', '10800', '0,\"063 - Reconquista\",-34.5986,-58.373062,0,18,true,false,false,20,,0\\n64,1644707883', '10800', '0,\"064 - RIOBAMBA\",-34.5936508,-58.3941087,5,15,true,false,false,20,,0\\n65,1644707883', '10800', '0,\"065 - Julián Álvarez\",-34.5873124,-58.4157873,0,20,true,false,false,21,,0\\n66,1644707883', '10800', '0,\"066 - Billinghurst\",-34.5945475,-58.4138713,3,17,true,false,false,20,,0\\n68,1644707883', '10800', '0,\"105 - PARQUE SAAVEDRA\",-34.552148,-58.480464,8,7,true,false,false,16,,0\\n69,1644707883', '10800', '0,\"069 - Ecuador\",-34.5961006,-58.4046092,4,11,true,false,false,16,,0\\n70,1644707883', '10800', '0,\"070 - ARAOZ\",-34.5926862,-58.4260597,4,15,true,false,false,20,,0\\n71,1644707883', '10800', '0,\"071 - CERRITO\",-34.6026673,-58.3833559,1,24,true,false,false,30,,0\\n73,1644707883', '10800', '0,\"073 - Ruy Díaz de Guzmán\",-34.6306814,-58.3718235,6,10,true,false,false,16,,0\\n74,1644707883', '10800', '0,\"074 - INSTITUTO  LELOIR\",-34.60439,-58.43454,10,20,true,false,false,30,,0\\n75,1644707883', '10800', '0,\"075 - Plaza Primero de Mayo\",-34.6122976,-58.3989871,8,11,true,false,false,20,,0\\n76,1644707883', '10800', '0,\"076 - Ayacucho\",-34.6074084,-58.3950548,6,12,true,false,false,20,,0\\n77,1644707883', '10800', '0,\"109 - ESTACION PUEYRREDON\",-34.581135,-58.501487,7,8,true,false,false,16,,0\\n79,1644707883', '10800', '0,\"079 - AZUCENA VILLAFLOR\",-34.61189,-58.36393,12,17,true,false,false,30,,0\\n80,1644707883', '10800', '0,\"080 - DOBLAS\",-34.624435,-58.4303766,7,8,true,false,false,16,,0\\n82,1644707883', '10800', '0,\"082 - HOSPITAL ITALIANO\",-34.6078917,-58.4263947,1,18,true,false,false,20,,0\\n83,1644707883', '10800', '0,\"083 - Paraná\",-34.603269,-58.3893728,0,17,true,false,false,20,,0\\n84,1644707883', '10800', '0,\"084 - Lavalle\",-34.6023203,-58.3955144,1,19,true,false,false,20,,0\\n85,1644707883', '10800', '0,\"085 - AGUERO\",-34.5948057,-58.4091784,0,19,true,false,false,20,,0\\n86,1644707883', '10800', '0,\"086 - SAAVEDRA\",-34.6212681,-58.4016808,2,18,true,false,false,20,,0\\n87,1644707883', '10800', '0,\"087 - Guayaquil\",-34.619845,-58.4314942,14,1,true,false,false,16,,0\\n89,1644707883', '10800', '0,\"089 - Cabello\",-34.5825475,-58.4056671,1,19,true,false,false,20,,0\\n91,1644707883', '10800', '0,\"091 - Pasco\",-34.6174482,-58.397602,4,16,true,false,false,20,,0\\n92,1644707883', '10800', '0,\"092 - Salcedo\",-34.6316444,-58.4053386,18,2,true,false,false,20,,0\\n93,1644707883', '10800', '0,\"093 - CARLOS CALVO\",-34.620798,-58.3944635,2,17,true,false,false,20,,0\\n94,1644707883', '10800', '0,\"094 - GÚZMAN\",-34.591511,-58.449652,28,2,true,false,false,30,,0\\n95,1644707883', '10800', '0,\"095 - ESMERALDA\",-34.6021121,-58.3781678,0,14,true,false,false,16,,0\\n96,1644707883', '10800', '0,\"096 - Carlos Gardel\",-34.6027814,-58.4116586,1,18,true,false,false,20,,0\\n98,1644707883', '10800', '0,\"037- Claudia Pía Baudracco\",-34.6081643,-58.3779002,0,14,true,false,false,16,,0\\n99,1644707883', '10800', '0,\"099 - Malabia\",-34.5960961,-58.435408,12,7,true,false,false,20,,0\\n101,1644707883', '10800', '0,\"101 - Fitz Roy\",-34.5891857,-58.4424397,6,13,true,false,false,20,,0\\n104,1644707883', '10800', '0,\"104 - Federico Lacroze\",-34.587617,-58.455212,16,14,true,false,false,30,,0\\n107,1644707883', '10800', '0,\"107 - HOSPITAL GARRAHAN\",-34.630374,-58.395852,3,12,true,false,false,16,,0\\n111,1644707883', '10800', '0,\"111 - MACACHA GUEMES\",-34.6054877,-58.3646858,0,29,true,false,false,30,,0\\n112,1644707883', '10800', '0,\"112 - 9 de Julio\",-34.612075,-58.380384,0,19,true,false,false,20,,0\\n114,1644707883', '10800', '0,\"114 - DELLA PAOLERA\",-34.5949745,-58.3722554,4,16,true,false,false,20,,0\\n116,1644707883', '10800', '0,\"116 - HOSPITAL ALEMÁN\",-34.5921708,-58.4025894,1,10,true,false,false,12,,0\\n117,1644707883', '10800', '0,\"117 - HUMBERTO 1°\",-34.6201008,-58.3741759,2,13,true,false,false,16,,0\\n118,1644707883', '10800', '0,\"118 - MEXICO\",-34.6170196,-58.4026531,5,15,true,false,false,20,,0\\n120,1644707883', '10800', '0,\"120 - HOSPITAL RAMOS MEJIA\",-34.617509,-58.4092876,2,18,true,false,false,20,,0\\n121,1644707883', '10800', '0,\"121 - YATAY\",-34.6011732,-58.4285093,4,16,true,false,false,20,,0\\n124,1644707883', '10800', '0,\"124 - UGARTECHE\",-34.580538,-58.411965,1,16,true,false,false,20,,0\\n126,1644707883', '10800', '0,\"126 - Ministerio de Justicia y Seguridad\",-34.6402672,-58.3692243,13,0,true,false,false,16,,0\\n128,1644707883', '10800', '0,\"128 - PARQUE DEL BAJO\",-34.6041138,-58.3689118,0,19,true,false,false,20,,0\\n130,1644707883', '10800', '0,\"130 - RETIRO II\",-34.5921056,-58.3745419,9,24,true,false,false,40,,0\\n131,1644707883', '10800', '0,\"131- HOSPITAL DE CLÍNICAS\",-34.5984043,-58.3990158,0,16,true,false,false,16,,0\\n132,1644707883', '10800', '0,\"132 - CORRIENTES\",-34.6033685,-58.372763,1,11,true,false,false,12,,0\\n134,1644707883', '10800', '0,\"134 - SOLDADO DE LA FRONTERA\",-34.68294,-58.4659,1,11,true,false,false,12,,0\\n135,1644707883', '10800', '0,\"135 - MARCELO T. DE ALVEAR\",-34.5972818,-58.3787856,4,15,true,false,false,20,,0\\n137,1644707883', '10800', '0,\"137 - AZOPARDO Y CHILE\",-34.6155977,-58.3674923,1,19,true,false,false,20,,0\\n138,1644707883', '10800', '0,\"138 - Hospital Britanico\",-34.6353595,-58.3876724,2,10,true,false,false,12,,0\\n144,1644707883', '10800', '0,\"144 - PUEYRREDÓN\",-34.6018744,-58.4060944,0,20,true,false,false,20,,0\\n146,1644707883', '10800', '0,\"146 - Hospital Francés\",-34.6221118,-58.4078419,2,17,true,false,false,20,,0\\n149,1644707883', '10800', '0,\"149 - LIMA\",-34.6153266,-58.3813642,0,16,true,false,false,16,,0\\n150,1644707883', '10800', '0,\"150 - RODRIGO BUENO\",-34.6187547,-58.3554654,15,15,true,false,false,30,,0\\n151,1644707883', '10800', '0,\"151 - AIME PAINÉ\",-34.6118145,-58.361285,0,24,true,false,false,24,,0\\n152,1644707883', '10800', '0,\"152 - JULIETA LANTERI\",-34.6181645,-58.3596311,8,9,true,false,false,20,,0\\n153,1644707883', '10800', '0,\"153 - JUAN MANUEL DE BLANES\",-34.6307765,-58.3620701,11,5,true,false,false,16,,0\\n155,1644707883', '10800', '0,\"155 - Parque José Evaristo Uriburu\",-34.64117,-58.412408,20,0,true,false,false,20,,0\\n156,1644707883', '10800', '0,\"156 - Plaza Alemania\",-34.5775895,-58.4074696,7,9,true,false,false,20,,0\\n158,1644707883', '10800', '0,\"158 - VILLARROEL\",-34.592735,-58.4450697,15,5,true,false,false,20,,0\\n161,1644707883', '10800', '0,\"161 - Humahuaca\",-34.6020779,-58.4196761,4,16,true,false,false,20,,0\\n162,1644707883', '10800', '0,\"162 - LARREA Y BARTOLOMÉ MITRE\",-34.608985,-58.401924,8,10,true,false,false,20,,0\\n163,1644707883', '10800', '0,\"163 - ONCE II\",-34.6095663,-58.4064308,10,20,true,false,false,30,,0\\n164,1644707883', '10800', '0,\"164 - FACULTAD DE INGENIERIA\",-34.6181442,-58.3669021,5,15,true,false,false,20,,0\\n165,1644707883', '10800', '0,\"165 - PLAZA MONSEÑOR MIGUEL DE ANDREA\",-34.597048,-58.407614,0,11,true,false,false,12,,0\\n166,1644707883', '10800', '0,\"166 - Cementerio de Recoleta\",-34.588346663239754,-58.394147942865644,1,9,true,false,false,12,,0\\n167,1644707883', '10800', '0,\"275 - PLAZA 24 DE SEPTIEMBRE\",-34.606984,-58.44854,8,8,true,false,false,16,,0\\n168,1644707883', '10800', '0,\"168 - Estados Unidos\",-34.6186217,-58.3812271,3,12,true,false,false,16,,0\\n169,1644707883', '10800', '0,\"169 - FACULTAD DE PSICOLOGIA\",-34.6123459,-58.411856,1,11,true,false,false,12,,0\\n171,1644707883', '10800', '0,\"171 - Pasteur\",-34.6032813,-58.3997553,2,17,true,false,false,20,,0\\n172,1644707883', '10800', '0,\"172 - BRASIL\",-34.625426,-58.371082,3,12,true,false,false,16,,0\\n174,1644707883', '10800', '0,\"174 - MINISTERIO DE EDUCACION\",-34.597225,-58.391768,0,20,true,false,false,20,,0\\n175,1644707883', '10800', '0,\"147 - Constitución\",-34.626851,-58.380707,21,9,true,false,false,36,,0\\n176,1644707883', '10800', '0,\"067 - PARQUE SARMIENTO I\",-34.555254,-58.494845,8,8,true,false,false,16,,0\\n179,1644707883', '10800', '0,\"179 - CASA SAN\",-34.6384786,-58.3642885,16,0,true,false,false,16,,0\\n181,1644707883', '10800', '0,\"181 - BILLINGHURST Y MANSILLA\",-34.5926649,-58.4120072,2,18,true,false,false,20,,0\\n182,1644707883', '10800', '0,\"182 - RAVIGNANI Y GUATEMALA\",-34.5780479,-58.4352466,7,12,true,false,false,20,,0\\n183,1644707883', '10800', '0,\"183 - VIRREY CEVALLOS\",-34.6156994,-58.3899728,0,19,true,false,false,20,,0\\n184,1644707883', '10800', '0,\"184 - Pedro Echague\",-34.6306129,-58.3913419,5,14,true,false,false,20,,0\\n186,1644707883', '10800', '0,\"186 - MANZANA 66\",-34.6136356,-58.4064415,1,19,true,false,false,20,,0\\n187,1644707883', '10800', '0,\"261 - QUINTEROS LIDORO\",-34.552571,-58.450897,15,1,true,false,false,16,,0\\n188,1644707883', '10800', '0,\"373 - Jorgelina De Simone\",-34.623923,-58.3904814,2,13,true,false,false,16,,0\\n189,1644707883', '10800', '0,\"189 - POSADAS\",-34.5886889,-58.3852113,4,11,true,false,false,20,,0\\n190,1644707883', '10800', '0,\"190 - JUNCAL\",-34.5850763,-58.4111136,7,12,true,false,false,20,,0\\n191,1644707883', '10800', '0,\"191 - Rivadavia y 9 de Julio\",-34.6079305,-58.3808358,1,15,true,false,false,16,,0\\n193,1644707883', '10800', '0,\"193 - ARENALES Y AGUERO\",-34.5908626,-58.4061652,3,17,true,false,false,20,,0\\n194,1644707883', '10800', '0,\"194 - PERÓN Y ACUÑA DE FIGUEROA\",-34.6060758,-58.4224635,1,14,true,false,false,16,,0\\n196,1644707883', '10800', '0,\"196 - HOSPITAL ARGERICH\",-34.6275351,-58.3657211,14,2,true,false,false,20,,0\\n197,1644707883', '10800', '0,\"197 - PLAZA CIUDAD DE UDINE\",-34.620998,-58.493044,15,3,true,false,false,20,,0\\n199,1644707883', '10800', '0,\"199 - ESTADOS UNIDOS Y BOEDO\",-34.6222601,-58.4160137,15,3,true,false,false,20,,0\\n200,1644707883', '10800', '0,\"200 - AUSTRIA Y FRENCH\",-34.5890696,-58.40536170000001,0,15,true,false,false,16,,0\\n202,1644707883', '10800', '0,\"001 - FACULTAD DE DERECHO\",-34.583749,-58.390602,15,14,true,false,false,30,,0\\n203,1644707883', '10800', '0,\"108 - Usina del Arte\",-34.628757,-58.356259,18,3,true,false,false,24,,0\\n204,1644707883', '10800', '0,\"167 - Hipólito Yrigoyen\",-34.614948,-58.427818,20,4,true,false,false,24,,0\\n205,1644707883', '10800', '0,\"125 - F.J.Santamaria de Oro\",-34.583323,-58.428016,6,9,true,false,false,16,,0\\n206,1644707883', '10800', '0,\"159 - Fitz Roy & Gorriti\",-34.58495,-58.437339,8,7,true,false,false,16,,0\\n207,1644707883', '10800', '0,\"123 - BASUALDO Y RODO\",-34.649323859081555,-58.4926339870569,9,6,true,false,false,16,,0\\n210,1644707883', '10800', '0,\"335 - General Urquiza\",-34.572165,-58.411278,14,5,true,false,false,20,,0\\n212,1644707883', '10800', '0,\"129 - Velasco\",-34.600275,-58.434875,0,19,true,false,false,21,,0\\n213,1644707883', '10800', '0,\"136 - Acevedo\",-34.599659,-58.442685,15,4,true,false,false,20,,0\\n214,1644707883', '10800', '0,\"142 - Armenia y Gorriti\",-34.590541,-58.428974,12,4,true,false,false,16,,0\\n215,1644707883', '10800', '0,\"113 - Guatemala\",-34.585878,-58.424996,1,18,true,false,false,20,,0\\n216,1644707883', '10800', '0,\"059 - Coronel Diaz\",-34.589968,-58.411493,0,20,true,false,false,20,,0\\n219,1644707883', '10800', '0,\"140 - Las Casas\",-34.6360274,-58.4156332,11,5,true,false,false,16,,0\\n220,1644707883', '10800', '0,\"097 - Avelino Diaz\",-34.635128,-58.427573,10,5,true,false,false,16,,0\\n222,1644707883', '10800', '0,\"160 - Godoy Cruz y Libertador\",-34.572583,-58.420628,16,0,true,false,false,20,,0\\n223,1644707883', '10800', '0,\"178 - José Marmol\",-34.6234,-58.424853,11,3,true,false,false,16,,0\\n227,1644707883', '10800', '0,\"188 - Aranguren\",-34.610456,-58.432786,14,5,true,false,false,20,,0\\n229,1644707883', '10800', '0,\"243 - PLAZOLETA CELEDONIO FLORES\",-34.581576,-58.45153,6,6,true,false,false,12,,0\\n230,1644707883', '10800', '0,\"259 - PLAZA CASTELLI\",-34.5678255,-58.4645037,9,5,true,false,false,16,,0\\n231,1644707883', '10800', '0,\"384 - PLAZA BENITO NAZAR\",-34.605109,-58.445897,9,6,true,false,false,16,,0\\n232,1644707883', '10800', '0,\"252 - Tamborini\",-34.5599779,-58.4790578,3,17,true,false,false,20,,0\\n235,1644707883', '10800', '0,\"281 - Villa Urquiza\",-34.573795,-58.487074,1,22,true,false,false,24,,0\\n236,1644707883', '10800', '0,\"254 - Plaza Rafael Hernandez\",-34.562161,-58.455166,8,8,true,false,false,16,,0\\n237,1644707883', '10800', '0,\"302 - ESTACION VILLA LURO\",-34.63670935917866,-58.50135525810292,3,12,true,false,false,16,,0\\n239,1644707883', '10800', '0,\"391 - Plaza República de Ecuador\",-34.565091,-58.420702,12,8,true,false,false,20,,0\\n241,1644707883', '10800', '0,\"348 - Villa del Parque\",-34.600874,-58.494123,5,3,true,false,false,12,,0\\n242,1644707883', '10800', '0,\"103 - MALBA\",-34.57716,-58.403214,3,17,true,false,false,20,,0\\n245,1644707883', '10800', '0,\"248 - Husares\",-34.552594,-58.4429397,15,1,true,false,false,16,,0\\n247,1644707883', '10800', '0,\"282 - Tronador\",-34.5838957,-58.466494,4,14,true,false,false,18,,0\\n248,1644707883', '10800', '0,\"346 - Plaza Zapiola\",-34.573522,-58.474635,13,7,true,false,false,20,,0\\n249,1644707883', '10800', '0,\"307 - LEONARDO PEREYRA\",-34.649506877132595,-58.38912434455312,14,0,true,false,false,16,,0\\n251,1644707883', '10800', '0,\"388 - Plaza Jose C Paz\",-34.64485797668555,-58.4097486603218,10,2,true,false,false,12,,0\\n252,1644707883', '10800', '0,\"331 - CALIFORNIA\",-34.647121,-58.374336,16,0,true,false,false,16,,0\\n254,1644707883', '10800', '0,\"276 - PRIMERA JUNTA\",-34.620717,-58.441607,6,10,true,false,false,16,,0\\n255,1644707883', '10800', '0,\"374 - Puan\",-34.622092,-58.448547,12,4,true,false,false,16,,0\\n257,1644707883', '10800', '0,\"264 - Plaza Marcos Sastre\",-34.570825,-58.481236,12,11,true,false,false,24,,0\\n258,1644707883', '10800', '0,\"336 - La Pampa\",-34.565521,-58.455334,3,13,true,false,false,16,,0\\n261,1644707883', '10800', '0,\"272 - Plaza Bruno Giordano\",-34.616151,-58.440584,13,1,true,false,false,16,,0\\n262,1644707883', '10800', '0,\"349 - Plaza Saenz Peña\",-34.60976,-58.467477,16,0,true,false,false,16,,0\\n263,1644707883', '10800', '0,\"270 - PLAZA DEL ANGEL GRIS\",-34.622003,-58.457555,5,7,true,false,false,12,,0\\n265,1644707883', '10800', '0,\"361 - Plaza Don Segundo Sombra\",-34.64196,-58.4505,8,8,true,false,false,16,,0\\n267,1644707883', '10800', '0,\"315 - BEIRO Y SAN MARTÍN\",-34.5976121,-58.4985424,13,3,true,false,false,16,,0\\n268,1644707883', '10800', '0,\"399 - GARCIA DEL RIO\",-34.550015,-58.476521,23,2,true,false,false,28,,0\\n269,1644707883', '10800', '0,\"260 - SAN MIGUEL DE GARICOITS\",-34.577329,-58.457799,15,3,true,false,false,18,,0\\n270,1644707883', '10800', '0,\"370 - Beauchef\",-34.640114,-58.43026,18,2,true,false,false,20,,0\\n271,1644707883', '10800', '0,\"365 - Venancio Flores\",-34.630108,-58.473844,11,7,true,false,false,20,,0\\n273,1644707883', '10800', '0,\"223 - GAINZA\",-34.616758,-58.446751,7,8,true,false,false,16,,0\\n275,1644707883', '10800', '0,\"256 - PLAZA NORUEGA\",-34.562396,-58.459148,0,20,true,false,false,20,,0\\n277,1644707883', '10800', '0,\"292 - PLAZA BOLIVIA\",-34.563539,-58.436115,4,4,true,false,false,12,,0\\n278,1644707883', '10800', '0,\"233 - MONROE\",-34.564122,-58.469813,11,2,true,false,false,16,,0\\n280,1644707883', '10800', '0,\"222 - SIMON BOLIVAR\",-34.633528,-58.449379,18,5,true,false,false,24,,0\\n281,1644707883', '10800', '0,\"350 - Plaza Irlanda\",-34.613778,-58.458315,21,1,true,false,false,24,,0\\n284,1644707883', '10800', '0,\"229 - RIGLOS\",-34.631018,-58.435056,19,1,true,false,false,20,,0\\n289,1644707883', '10800', '0,\"255 - BARRANCAS DE BELGRANO\",-34.559801,-58.448314,21,2,true,false,false,24,,0\\n291,1644707883', '10800', '0,\"244 - UADE\",-34.617247,-58.381627,0,14,true,false,false,16,,0\\n294,1644707883', '10800', '0,\"363 - Udaondo\",-34.5458835,-58.4520062,19,1,true,false,false,20,,0\\n299,1644707883', '10800', '0,\"221 - CULPINA\",-34.631705,-58.466143,9,10,true,false,false,20,,0\\n301,1644707883', '10800', '0,\"309 - UTN II\",-34.66036165776025,-58.4676386893849,13,7,true,false,false,20,,0\\n302,1644707883', '10800', '0,\"340 - PLAZA NUEVA POMPEYA\",-34.6518464,-58.415771,10,6,true,false,false,16,,0\\n304,1644707883', '10800', '0,\"395 - Agronomia II\",-34.58938,-58.4847,11,5,true,false,false,16,,0\\n307,1644707883', '10800', '0,\"341 - COMUNA 4\",-34.65050475967216,-58.424671969909355,10,2,true,false,false,12,,0\\n308,1644707883', '10800', '0,\"251 - Solar de la Abadía\",-34.567633,-58.436752,18,1,true,false,false,20,,0\\n309,1644707883', '10800', '0,\"298 - PLAZA DR. JUAN B. TERAN\",-34.62141207128675,-58.51978098730658,12,2,true,false,false,16,,0\\n310,1644707883', '10800', '0,\"356 - ESTACIÓN LUGANO\",-34.67735630418917,-58.47665863333657,3,9,true,false,false,14,,0\\n311,1644707883', '10800', '0,\"213 - Hospital Alvear\",-34.5972098,-58.47421143,10,10,true,false,false,20,,0\\n316,1644707883', '10800', '0,\"205 - SAN MARTIN\",-34.605567,-58.453475,11,5,true,false,false,16,,0\\n318,1644707883', '10800', '0,\"285 - ESPINOSA\",-34.603936,-58.457317,15,4,true,false,false,20,,0\\n322,1644707883', '10800', '0,\"289 - MONTAÑESES\",-34.551304,-58.454181,19,1,true,false,false,20,,0\\n323,1644707883', '10800', '0,\"240 - ECHEVERRIA\",-34.565409,-58.459298,5,19,true,false,false,24,,0\\n324,1644707883', '10800', '0,\"280 - JURAMENTO\",-34.578933,-58.4840556,8,7,true,false,false,16,,0\\n327,1644707883', '10800', '0,\"366 - VILLA OLÍMPICA\",-34.677130515662185,-58.454286054001386,7,8,true,false,false,16,,0\\n329,1644707883', '10800', '0,\"100 - Plaza Gurruchaga\",-34.593141,-58.435187,14,6,true,false,false,20,,0\\n333,1644707883', '10800', '0,\"203 - Beiro\",-34.6008,-58.50335,14,5,true,false,false,20,,0\\n335,1644707883', '10800', '0,\"206 - Galicia\",-34.615945,-58.47098,10,10,true,false,false,20,,0\\n336,1644707883', '10800', '0,\"207 - PLAZA ARENALES\",-34.5999173,-58.5114159,17,9,true,false,false,28,,0\\n340,1644707883', '10800', '0,\"359 - PLAZA BALCARCE\",-34.54754,-58.467844,16,4,true,false,false,20,,0\\n342,1644707883', '10800', '0,\"218 - Campana\",-34.616813,-58.484297,20,0,true,false,false,20,,0\\n348,1644707883', '10800', '0,\"231 - Margariños Cervantes\",-34.610482,-58.474369,11,1,true,false,false,12,,0\\n353,1644707883', '10800', '0,\"237 - Madero Office\",-34.599036,-58.364695,5,15,true,false,false,20,,0\\n355,1644707883', '10800', '0,\"242 - Plazoleta Rafael del Riego\",-34.567483,-58.446381,3,12,true,false,false,16,,0\\n358,1644707883', '10800', '0,\"249 - Balbín\",-34.561486,-58.465586,4,8,true,false,false,12,,0\\n359,1644707883', '10800', '0,\"250 - Fleni\",-34.555602,-58.450479,15,4,true,false,false,20,,0\\n361,1644707883', '10800', '0,\"258 - Plaza J.J. Paso\",-34.569187,-58.453608,13,7,true,false,false,20,,0\\n363,1644707883', '10800', '0,\"354 - José Martí\",-34.6439,-58.463114,9,3,true,false,false,16,,0\\n364,1644707883', '10800', '0,\"381 - Matienzo Y Arce\",-34.568693,-58.43447,21,2,true,false,false,24,,0\\n366,1644707883', '10800', '0,\"360 - Plaza Ramon Falcon\",-34.63562929312515,-58.482770573412935,5,7,true,false,false,12,,0\\n367,1644707883', '10800', '0,\"287 - Belaustegui\",-34.61621214148026,-58.47720947344651,12,4,true,false,false,16,,0\\n368,1644707883', '10800', '0,\"378 - AGRONOMIA\",-34.59807,-58.482079,6,6,true,false,false,12,,0\\n369,1644707883', '10800', '0,\"304 - Navarro\",-34.592244,-58.491797,7,9,true,false,false,16,,0\\n370,1644707883', '10800', '0,\"305 - Plaza Martin Rodriguez\",-34.590964,-58.500336,14,6,true,false,false,20,,0\\n372,1644707883', '10800', '0,\"322 - MARTÍ Y DIRECTORIO\",-34.636406,-58.470136,10,2,true,false,false,12,,0\\n373,1644707883', '10800', '0,\"265 - Plaza Exodo Jujeño\",-34.582336918286785,-58.48108314683206,11,5,true,false,false,16,,0\\n374,1644707883', '10800', '0,\"367 - Eva Perón\",-34.646911365478765,-58.4699753897715,15,0,true,false,false,16,,0\\n375,1644707883', '10800', '0,\"301 - Arregui Y Terrada\",-34.604597356692906,-58.48481211614322,11,5,true,false,false,16,,0\\n376,1644707883', '10800', '0,\"324 - Las Victorias\",-34.626778,-58.487078,6,13,true,false,false,20,,0\\n378,1644707883', '10800', '0,\"215 - HOSPITAL ALVAREZ\",-34.623123,-58.468287,15,5,true,false,false,20,,0\\n382,1644707883', '10800', '0,\"204 - Biarritz\",-34.60547,-58.47739,10,6,true,false,false,16,,0\\n384,1644707883', '10800', '0,\"267 - Plaza 25 De Agosto\",-34.57951881156862,-58.46183473148808,4,14,true,false,false,18,,0\\n385,1644707883', '10800', '0,\"268 - Plaza Aristóbulo Del Valle\",-34.606159914753725,-58.493141345207654,3,13,true,false,false,16,,0\\n386,1644707883', '10800', '0,\"277 - Coghlan\",-34.5654,-58.4759,0,7,true,false,false,8,,0\\n387,1644707883', '10800', '0,\"278 - Donato Alvarez\",-34.602028,-58.465568,10,3,true,false,false,16,,0\\n392,1644707883', '10800', '0,\"297 - TRONADOR Y GARCÍA DEL RÍO\",-34.554581,-58.485381,11,5,true,false,false,16,,0\\n400,1644707883', '10800', '0,\"313 - De Los Incas\",-34.579751,-58.471003,8,8,true,false,false,16,,0\\n403,1644707883', '10800', '0,\"316 - Buenos Aires\",-34.645532066615736,-58.39667441428978,12,8,true,false,false,20,,0\\n407,1644707883', '10800', '0,\"330 - Parque Avellaneda\",-34.641288,-58.479945,25,1,true,false,false,28,,0\\n408,1644707883', '10800', '0,\"364 - CERRETTI Y MANUELA PEDRAZA\",-34.56912,-58.50025,4,11,true,false,false,16,,0\\n412,1644707883', '10800', '0,\"372 - VILLA SOLDATI\",-34.66145153498837,-58.44014625846915,7,0,true,false,false,8,,0\\n413,1644707883', '10800', '0,\"382 - MERCADO DE HACIENDA MATADEROS\",-34.6602831,-58.5031426,7,9,true,false,false,16,,0\\n416,1644707883', '10800', '0,\"257 - Plaza Francisco Ramirez\",-34.553262,-58.469133,20,6,true,false,false,28,,0\\n417,1644707883', '10800', '0,\"127 - PLAZA LEONARDO N. ALEM\",-34.57634,-58.50248,11,9,true,false,false,20,,0\\n422,1644707883', '10800', '0,\"379 - PARQUE SARMIENTO II\",-34.56454,-58.50289,4,12,true,false,false,16,,0\\n423,1644707883', '10800', '0,\"043 - PLAZA ALBERDI\",-34.559255,-58.487772,5,6,true,false,false,12,,0\\n424,1644707883', '10800', '0,\"387 - Luna\",-34.638584,-58.39965,16,0,true,false,false,16,,0\\n425,1644707883', '10800', '0,\"394 - Av. La Plata\",-34.6440763,-58.422091,12,4,true,false,false,16,,0\\n426,1644707883', '10800', '0,\"396 - PLAZA ALBERTI\",-34.555081,-58.458538,15,2,true,false,false,20,,0\\n427,1644707883', '10800', '0,\"397 - PARQUE SANTOJANNI\",-34.64706360234081,-58.5148283486816,2,12,true,false,false,16,,0\\n428,1644707883', '10800', '0,\"225 - HOSPITAL TORNU\",-34.587458,-58.4739506,8,12,true,false,false,20,,0\\n429,1644707883', '10800', '0,\"201 - PLAZA EJERCITO DE LOS ANDES\",-34.63897407331851,-58.51010241799404,4,12,true,false,false,16,,0\\n432,1644707883', '10800', '0,\"187 - Jose Maria Moreno\",-34.619879,-58.435801,7,13,true,false,false,20,,0\\n433,1644707883', '10800', '0,\"273 - Plazoleta Colombia\",-34.637697,-58.373726,19,1,true,false,false,20,,0\\n434,1644707883', '10800', '0,\"247 - PLAZA LUCIO DEMARE\",-34.54569,-58.46514,11,5,true,false,false,16,,0\\n435,1644707883', '10800', '0,\"227 -Club Ciudad de Buenos Aires\",-34.544503,-58.459499,14,2,true,false,false,16,,0\\n441,1644707883', '10800', '0,\"016 - Legislatura\",-34.609801,-58.3748,0,20,true,false,false,20,,0\\n444,1644707883', '10800', '0,\"061-Ministerio de Economia\",-34.608936,-58.370716,1,22,true,false,false,24,,0\\n448,1644707883', '10800', '0,\"393 - Barrio 31\",-34.582422,-58.378862,15,3,true,false,false,24,,0\\n449,1644707883', '10800', '0,\"352 - San Jose de Flores\",-34.629083,-58.463251,15,8,true,false,false,24,,0\\n453,1644707883', '10800', '0,\"028 - Plaza de la Bandera\",-34.62945,-58.49439,9,5,true,false,false,16,,0\\n454,1644707883', '10800', '0,\"176 - Plaza Derechos del hombre\",-34.63403,-58.50694,5,7,true,false,false,12,,0\\n455,1644707883', '10800', '0,\"039 - Plaza Don Bosco\",-34.62652,-58.50805,8,6,true,false,false,16,,0\\n456,1644707883', '10800', '0,\"052 - PLAZA JUAN S. SALABERRY\",-34.65551,-58.50703,5,11,true,false,false,16,,0\\n457,1644707883', '10800', '0,\"110 - PLAZA CD DE BANFF\",-34.62805,-58.52174,15,0,true,false,false,16,,0\\n458,1644707883', '10800', '0,\"219 - Parque Chacabuco II\",-34.636275,-58.444041,18,1,true,false,false,20,,0\\n459,1644707883', '10800', '0,\"327 - PLAZA RICCHERI\",-34.61072,-58.51914,14,0,true,false,false,16,,0\\n460,1644707883', '10800', '0,\"133 - BEIRO Y SEGUROLA\",-34.6075,-58.51193,7,9,true,false,false,16,,0\\n461,1644707883', '10800', '0,\"106 - MOSCONI Y CONSTITUYENTES\",-34.58088,-58.49363,10,5,true,false,false,16,,0\\n']\n",
      "['#id,timestamp', 'gmt_local_diff_sec', 'gmt_servertime_diff_sec,name,lat,lon,bikes,spaces,installed,locked,temporary,total_docks,givesbonus_acceptspedelecs_fbbattlevel,pedelecs\\n1,1644707403', '14400', '0,\"Paardenbaai Plaza\",12.5210852,-70.04102,13,6,true,false,false,19,,0\\n2,1644707403', '14400', '0,\"Ling & Sons\",12.5330588,-70.0504579,11,4,true,false,false,15,,0\\n3,1644707403', '14400', '0,\"La Cabana Beach Resort\",12.5521775,-70.05529,2,12,true,false,false,15,,0\\n4,1644707403', '14400', '0,\"Hyatt Hotel\",12.5691319,-70.044683,14,5,true,false,false,19,,0\\n5,1644707403', '14400', '0,\"Paseo Herencia\",12.5749457,-70.04395,10,12,true,false,false,24,,0\\n6,1644707403', '14400', '0,\"Marriot Hotel\",12.5817091,-70.0425233,9,6,true,false,false,15,,0\\n7,1644707403', '14400', '0,\"RIU\",12.5667489,-70.0463623,11,4,true,false,false,15,,0\\n8,1644707403', '14400', '0,\"Plaza Daniel Leo\",12.5196901,-70.03732,9,6,true,false,false,15,,0\\n']\n",
      "['#id,timestamp', 'gmt_local_diff_sec', 'gmt_servertime_diff_sec,name,lat,lon,bikes,spaces,installed,locked,temporary,open_or_total_docks,bonus,ticket\\n']\n",
      "['#id,timestamp', 'gmt_local_diff_sec', 'gmt_servertime_diff_sec,name,lat,lon,bikes,spaces,installed,locked,temporary,open_or_total_docks,bonus,ticket\\n']\n",
      "['#id,timestamp', 'gmt_local_diff_sec', 'gmt_servertime_diff_sec,name,lat,lon,bikes,spaces,installed,locked,temporary,open_or_total_docks,bonus,ticket\\n1064,1578353488', '-39600', '0,\"Monash Sport\",-37.9123841021,145.136228129,0,15,true,false,false,15,,0\\n1065,1578353488', '-39600', '0,\"Menzies E\",-37.9126134375,145.133110397,0,25,true,false,false,25,,0\\n1066,1578353488', '-39600', '0,\"Menzies W\",-37.9123565924,145.132106915,0,25,true,false,false,25,,0\\n1067,1578353488', '-39600', '0,\"Campus Centre N\",-37.9113413705,145.132825747,0,10,true,false,false,10,,0\\n1068,1578353488', '-39600', '0,\"Campus Centre S\",-37.9122148114,145.133031607,0,15,true,false,false,15,,0\\n1069,1578353488', '-39600', '0,\"Hargrave-Andrew Library\",-37.9101364708,145.132112145,0,20,true,false,false,20,,0\\n1070,1578353488', '-39600', '0,\"Medicine Offices - East\",-37.913073958,145.131371319,0,5,true,false,false,5,,0\\n1071,1578353488', '-39600', '0,\"35 Rainforest Walk\",-37.9124094957,145.13142094,0,4,true,false,false,4,,0\\n1639,1578353488', '-39600', '0,\"Bus Loop W\",-37.9144388379,145.131148696,0,10,true,false,false,10,,0\\n1640,1578353488', '-39600', '0,\"Campbell Hall W\",-37.9112408528,145.134279504,0,10,true,false,false,10,,0\\n1641,1578353488', '-39600', '0,\"Information Technology N\",-37.9104901394,145.133972727,0,10,true,false,false,10,,0\\n1642,1578353488', '-39600', '0,\"Halls\",-37.9077983006,145.139749199,0,15,true,false,false,15,,0\\n1643,1578353488', '-39600', '0,\"738 Blackburn Rd\",-37.9093415701,145.142289922,0,8,true,false,false,8,,0\\n1644,1578353488', '-39600', '0,\"211 Wellington Rd\",-37.9167548435,145.150984973,0,12,true,false,false,12,,0\\n1645,1578353488', '-39600', '0,\"Turner Hall\",-37.9096415434,145.137787163,0,10,true,false,false,10,,0\\n1646,1578353488', '-39600', '0,\"Innovation Walk S\",-37.9136765186,145.129647665,0,7,true,false,false,7,,0\\n1647,1578353488', '-39600', '0,\"Monash College W\",-37.9145065522,145.12981832,0,5,true,false,false,5,,0\\n1648,1578353488', '-39600', '0,\"700 Blackburn Rd\",-37.907666563,145.142124966,0,10,true,false,false,10,,0\\n1649,1578353488', '-39600', '0,\"Scenic Blvd S\",-37.9143187506,145.135263205,0,8,true,false,false,8,,0\\n1650,1578353488', '-39600', '0,\"Car Park OC1 West at 800 Blackburn Rd\",-37.9158708764,145.140580013,0,8,true,false,false,8,,0\\n1651,1578353488', '-39600', '0,\"Campbell Hall S\",-37.9112075232,145.134927928,0,10,true,false,false,10,,0\\n1652,1578353488', '-39600', '0,\"Sports Walk E\",-37.91119271,145.136428624,0,19,true,false,false,19,,0\\n1653,1578353488', '-39600', '0,\"Engineering SE\",-37.9098372379,145.134307678,0,20,true,false,false,20,,0\\n1654,1578353488', '-39600', '0,\"Information Technology S\",-37.911066798,145.133639127,0,10,true,false,false,10,,0\\n1655,1578353488', '-39600', '0,\"MSI\",-37.9070048385,145.137876075,0,4,true,false,false,4,,0\\n1656,1578353488', '-39600', '0,\"24 Research Way\",-37.9079662458,145.1341407,0,6,true,false,false,6,,0\\n1657,1578353488', '-39600', '0,\"Earth Sciences\",-37.9093706681,145.130883157,0,24,true,false,false,24,,0\\n1658,1578353488', '-39600', '0,\"5 Rainforest Walk - Car Park N1\",-37.9086543793,145.131928945,0,20,true,false,false,20,,0\\n1659,1578353488', '-39600', '0,\"Biotechnology E\",-37.9102937196,145.129504733,0,9,true,false,false,9,,0\\n1660,1578353488', '-39600', '0,\"Biomedical Sciences\",-37.9116127526,145.129608169,0,10,true,false,false,10,,0\\n1661,1578353488', '-39600', '0,\"South East Flats\",-37.9152392191,145.13880515,0,5,true,false,false,5,,0\\n1664,1578353488', '-39600', '0,\"Campus Centre W\",-37.9117735954,145.132036507,0,4,true,false,false,4,,0\\n1665,1578353488', '-39600', '0,\"Biotechnology W\",-37.9102541842,145.12901634,0,10,true,false,false,10,,0\\n1666,1578353488', '-39600', '0,\"Engineering S\",-37.9100555263,145.133276358,0,5,true,false,false,5,,0\\n1667,1578353488', '-39600', '0,\"Engineering W\",-37.9095701215,145.132407993,0,4,true,false,false,4,,0\\n2077,1578353488', '-39600', '0,\"Car Park OC1 at 800 Blackburn Rd\",-37.9156404931,145.142225884,0,8,true,false,false,8,,0\\n2078,1578353488', '-39600', '0,\"Normanby House\",-37.9059256475,145.138726942,0,4,true,false,false,4,,0\\n2572,1578353488', '-39600', '0,\"321 Ferntree Gully\",-37.8998522254,145.133863091,0,4,true,false,false,4,,0\\n2578,1578353488', '-39600', '0,\"Education\",-37.9137405304,145.134351254,0,10,true,false,false,10,,0\\n2579,1578353488', '-39600', '0,\"Medicine Offices - North\",-37.9127853396,145.131041408,0,4,true,false,false,4,,0\\n2580,1578353488', '-39600', '0,\"16 Rainforest Walk\",-37.9107715917,145.131929219,0,8,true,false,false,8,,0\\n2709,1578353488', '-39600', '0,\"25 Rainforest Walk\",-37.9116005337,145.131123215,0,10,true,false,false,10,,0\\n2710,1578353488', '-39600', '0,\"Briggs Hall\",-37.9103572823,145.139153749,0,1,true,false,false,1,,0\\n2712,1578353488', '-39600', '0,\"738 Blackburn Rd - Car Park\",-37.9096438913,145.141939223,0,6,true,false,false,6,,0\\n3238,1578353488', '-39600', '0,\"Mannix College \",-37.9159228349,145.131603666,0,5,true,false,false,5,,0\\n3734,1578353488', '-39600', '0,\"Roberts Hall \",-37.9072489839,145.139254499,0,5,true,false,false,5,,0\\n3735,1578353488', '-39600', '0,\"Richardson Hall\",-37.9071271442,145.138715208,0,5,true,false,false,5,,0\\n3736,1578353488', '-39600', '0,\"Deakin Hall\",-37.908233822,145.140722888,0,5,true,false,false,5,,0\\n3737,1578353488', '-39600', '0,\"Farrer Hall\",-37.9073875954,145.140450932,0,8,true,false,false,8,,0\\n3800,1578353488', '-39600', '0,\"Monash Nanofabrication\",-37.9163077696,145.143681318,0,6,true,false,false,6,,0\\n3801,1578353488', '-39600', '0,\"Monash Biomedical Imaging\",-37.9123693415,145.141382581,0,4,true,false,false,4,,0\\n3915,1578353488', '-39600', '0,\"Green Chemical Futures\",-37.9100415064,145.131320357,0,10,true,false,false,10,,0\\n3944,1578353488', '-39600', '0,\"Physics\",-37.9105487753,145.130346715,0,4,true,false,false,4,,0\\n3945,1578353488', '-39600', '0,\"Robert Blackwood\",-37.9131763249,145.135231018,0,4,true,false,false,4,,0\\n3946,1578353488', '-39600', '0,\"Teaching and Learning S\",-37.9146082997,145.132712424,0,20,true,false,false,20,,0\\n3958,1578353488', '-39600', '0,\"Youlendj Hub\",-37.9132081988,145.130268261,0,8,true,false,false,8,,0\\n3969,1578353488', '-39600', '0,\"Childcare\",-37.9054552943,145.137966871,0,2,true,false,false,2,,0\\n4015,1578353488', '-39600', '0,\"Engineering N\",-37.909727713,145.133348107,0,6,true,false,false,6,,0\\n4030,1578353488', '-39600', '0,\"Campbell Hall E\",-37.9112416133,145.135531425,0,8,true,false,false,8,,0\\n4031,1578353488', '-39600', '0,\"Engineering NE\",-37.9093653775,145.134278834,0,2,true,false,false,2,,0\\n5319,1578353488', '-39600', '0,\"Normanby House W\",-37.9058356709,145.138117075,0,4,true,false,false,4,,0\\n']\n",
      "['#id,timestamp', 'gmt_local_diff_sec', 'gmt_servertime_diff_sec,name,lat,lon,bikes,spaces,installed,locked,temporary,total_docks,givesbonus_acceptspedelecs_fbbattlevel,pedelecs\\n3207,1644707404.8183048', '-3600', '0,\"Klosterneuburg / Kierling / Bahnhof\",48.310016,16.326284,0,10,true,false,false,10,false,0\\n3208,1644707404.8183732', '-3600', '0,\"Klosterneuburg / Weidling / Bahnhof\",48.297509,16.334519,0,10,true,false,false,10,false,0\\n3209,1644707404.8184443', '-3600', '0,\"Korneuburg / Bahnhof\",48.343953,16.328934,6,4,true,false,false,10,false,0\\n3211,1644707404.8185117', '-3600', '0,\"Leobendorf / Bahnhof\",48.364807,16.301844,2,8,true,false,false,10,false,0\\n3218,1644707404.8185763', '-3600', '0,\"Stockerau / Bahnhof\",48.382863,16.213508,0,10,true,false,false,10,false,0\\n3541,1644707404.8186445', '-3600', '0,\"Korneuburg / BH Korneuburg\",48.347287,16.333575,4,6,true,false,false,10,false,0\\n3542,1644707404.818713', '-3600', '0,\"Korneuburg / Hauptplatz\",48.344217,16.333805,4,6,true,false,false,10,false,0\\n3544,1644707404.818777', '-3600', '0,\"Stockerau / Rathausplatz\",48.384149,16.207017,0,10,true,false,false,10,false,0\\n3546,1644707404.818842', '-3600', '0,\"Stockerau / Kaiserrast\",48.374646,16.237541,0,10,true,false,false,10,false,0\\n3547,1644707404.8189096', '-3600', '0,\"Leobendorf / Zentrum\",48.377354,16.322401,5,5,true,false,false,10,false,0\\n3549,1644707404.8189754', '-3600', '0,\"Spillern / Bahnhof\",48.375947,16.256386,1,9,true,false,false,10,false,0\\n3550,1644707404.8190453', '-3600', '0,\"Spillern / Jugendtreff\",48.374447,16.271138,0,10,true,false,false,10,false,0\\n3551,1644707404.81911', '-3600', '0,\"St. Andrä Wördern / Marienhof\",48.287744,16.192791,0,10,true,false,false,10,false,0\\n3216,1644707404.819176', '-3600', '0,\"St. Andrä Wördern / Bahnhof\",48.333708,16.209286,0,10,true,false,false,10,false,0\\n3556,1644707404.8192415', '-3600', '0,\"St. Andrä Wördern / BHF Greifenstein - Altenberg\",48.344531,16.239649,0,10,true,false,false,10,false,0\\n3558,1644707404.8193066', '-3600', '0,\"Stammersdorf / Bahnhofsplatz Erlebnisstop 2\",48.297334,16.420231,0,10,true,false,false,10,false,0\\n3563,1644707404.8193712', '-3600', '0,\"Zehn vor Wien / Strebersdorferhof\",48.29181,16.387085,0,10,true,false,false,10,false,0\\n3565,1644707404.8194525', '-3600', '0,\"Korneuburg / Dabschkaserne\",48.359639,16.32961,4,6,true,false,false,10,false,0\\n3566,1644707404.81952', '-3600', '0,\"Korneuburg / Florian Berndl Bad\",48.336034,16.343461,2,8,true,false,false,10,false,0\\n3567,1644707404.819585', '-3600', '0,\"Klosterneuburg / IST Austria\",48.310127,16.258961,0,10,true,false,false,10,false,0\\n3572,1644707404.819649', '-3600', '0,\"Korneuburg / BP K01 - Halle A\",48.356648,16.316907,0,10,true,false,false,10,false,0\\n3573,1644707404.8197165', '-3600', '0,\"Korneuburg / BP K01 - Halle G\",48.358666,16.317294,4,6,true,false,false,10,false,0\\n3574,1644707404.8197834', '-3600', '0,\"Korneuburg / BP K01 - Halle I\",48.36053,16.31857,4,6,true,false,false,10,false,0\\n']\n",
      "['#id,timestamp', 'gmt_local_diff_sec', 'gmt_servertime_diff_sec,name,lat,lon,bikes,spaces,installed,locked,temporary,total_docks,givesbonus_acceptspedelecs_fbbattlevel,pedelecs\\n3201,1644707404.822274', '-3600', '0,\"Amstetten / Bahnhof\",48.121764,14.877407,0,10,true,false,false,10,false,0\\n3717,1644707404.8223443', '-3600', '0,\"Amstetten / Landesklinikum\",48.127377,14.882212,0,10,true,false,false,10,false,0\\n3718,1644707404.8224113', '-3600', '0,\"Amstetten / Hauptplatz\",48.123373,14.871451,0,10,true,false,false,10,false,0\\n3719,1644707404.8224776', '-3600', '0,\"Amstetten / Landesberufsschule WKNÖ\",48.116762,14.88301,0,10,true,false,false,10,false,0\\n3720,1644707404.8225539', '-3600', '0,\"Amstetten / BHF Mauer\",48.095147,14.798294,0,10,true,false,false,10,false,0\\n3721,1644707404.8226187', '-3600', '0,\"Amstetten / BHF Greinsfurth\",48.108423,14.839021,0,10,true,false,false,10,false,0\\n3722,1644707404.8226829', '-3600', '0,\"Amstetten / Landesklinikum Mauer\",48.092605,14.804756,0,10,true,false,false,10,false,0\\n']\n",
      "['#id,timestamp', 'gmt_local_diff_sec', 'gmt_servertime_diff_sec,name,lat,lon,bikes,spaces,installed,locked,temporary,total_docks,givesbonus_acceptspedelecs_fbbattlevel,pedelecs\\n3568,1644707404.8218875', '-3600', '0,\"Groß Enzersdorf / Busbahnhof\",48.199596,16.550072,0,10,true,false,false,10,false,0\\n3569,1644707404.8219578', '-3600', '0,\"Groß Enzersdorf / Auvorstadt\",48.189573,16.545464,0,10,true,false,false,10,false,0\\n3570,1644707404.8220253', '-3600', '0,\"Groß Enzersdorf / Sachsengang\",48.196554,16.562794,0,10,true,false,false,10,false,0\\n']\n",
      "['#id,timestamp', 'gmt_local_diff_sec', 'gmt_servertime_diff_sec,name,lat,lon,bikes,spaces,installed,locked,temporary,open_or_total_docks,bonus,ticket\\n3080,1425977885.75', '-3600', '0,\"Haag / Tierpark\",48.101944,14.558056,0,10,,,,10,\\n3081,1425977885.75', '-3600', '0,\"Haag / Freizeitzentrum\",48.108889,14.578333,0,10,,,,10,\\n3082,1425977885.75', '-3600', '0,\"Haag / Haltestelle Haag\",48.094495,14.589374,0,10,,,,10,\\n']\n",
      "['#id,timestamp', 'gmt_local_diff_sec', 'gmt_servertime_diff_sec,name,lat,lon,bikes,spaces,installed,locked,temporary,total_docks,givesbonus_acceptspedelecs_fbbattlevel,pedelecs\\n3228,1644707404.8210435', '-3600', '0,\"Hollabrunn / Bahnhof\",48.563008,16.073014,0,10,true,false,false,10,false,0\\n3561,1644707404.8211126', '-3600', '0,\"Hollabrunn / KAUF ein- Fachzentrum\",48.568873,16.07965,0,10,true,false,false,10,false,0\\n']\n",
      "['#id,timestamp', 'gmt_local_diff_sec', 'gmt_servertime_diff_sec,name,lat,lon,bikes,spaces,installed,locked,temporary,total_docks,givesbonus_acceptspedelecs_fbbattlevel,pedelecs\\n3801,1644707404.9186912', '-3600', '0,\"Landesgericht\",47.26254,11.392157,8,2,true,false,false,10,false,0\\n3802,1644707404.9187636', '-3600', '0,\"Bozner Platz\",47.264779,11.397192,5,10,true,false,false,15,false,0\\n3803,1644707404.9188333', '-3600', '0,\"Congress / Hofburg\",47.268754,11.395462,3,12,true,false,false,15,false,0\\n3804,1644707404.9189017', '-3600', '0,\"Dr. Glatz-Straße\",47.262631,11.412842,2,8,true,false,false,10,false,0\\n3805,1644707404.919029', '-3600', '0,\"Hauptbahnhof\",47.263381,11.399882,36,1,true,false,false,30,false,0\\n3806,1644707404.919103', '-3600', '0,\"Höttinger Au /West\",47.264589,11.374937,10,1,true,false,false,11,false,0\\n3807,1644707404.9191735', '-3600', '0,\"Anichstraße / Klinik\",47.263745,11.388209,1,10,true,false,false,11,false,0\\n3809,1644707404.9192438', '-3600', '0,\"Maria-Theresien-Straße\",47.264916,11.394763,8,5,true,false,false,13,false,0\\n3812,1644707404.9193141', '-3600', '0,\"Pacherstaße\",47.260749,11.409412,7,3,true,false,false,10,false,0\\n3811,1644707404.9193838', '-3600', '0,\"Mühlauer Brücke\",47.278834,11.403916,7,3,true,false,false,10,false,0\\n3810,1644707404.9194643', '-3600', '0,\"Leipziger Platz\",47.264537,11.406609,3,8,true,false,false,11,false,0\\n3814,1644707404.9195387', '-3600', '0,\"Sillpark\",47.266097,11.403015,17,1,true,false,false,14,false,0\\n3815,1644707404.9196095', '-3600', '0,\"Westbahnhof\",47.255885,11.39169,9,9,true,false,false,18,false,0\\n3816,1644707404.9196782', '-3600', '0,\"Rossaugasse\",47.273034,11.429842,6,7,true,false,false,13,false,0\\n3817,1644707404.9197466', '-3600', '0,\"AMS-Geschäftsstelle\",47.25945,11.393339,5,5,true,false,false,10,false,0\\n3818,1644707404.9198122', '-3600', '0,\"Studentenhaus\",47.261721,11.383606,0,10,true,false,false,10,false,0\\n3819,1644707404.919881', '-3600', '0,\"Kletterzentrum / Sillside\",47.276885,11.414586,5,5,true,false,false,10,false,0\\n3820,1644707404.9199479', '-3600', '0,\"Schöpfstraße / Klinik\",47.260307,11.387271,1,12,true,false,false,13,false,0\\n3821,1644707404.9200318', '-3600', '0,\"Bachlechnerstr. / MED-EL\",47.263097,11.37483,3,13,true,false,false,16,false,0\\n3813,1644707404.920124', '-3600', '0,\"Stubaitalbahnhof\",47.253926,11.39757,8,7,true,false,false,15,false,0\\n3822,1644707404.920191', '-3600', '0,\"Universität\",47.263788,11.386207,0,15,true,false,false,15,false,0\\n3823,1644707404.9202619', '-3600', '0,\"SOWI\",47.269249,11.399135,6,13,true,false,false,19,false,0\\n3824,1644707404.9203312', '-3600', '0,\"General-Eccher-Straße\",47.277315,11.416799,6,10,true,false,false,16,false,0\\n3825,1644707404.920405', '-3600', '0,\"Technik\",47.265157,11.344585,4,20,true,false,false,24,false,0\\n3826,1644707404.920536', '-3600', '0,\"UNI-Sportstätten\",47.257789,11.357546,10,1,true,false,false,10,false,0\\n3827,1644707404.9206731', '-3600', '0,\"Adolf-Pichler-Platz\",47.266228,11.392082,5,3,true,false,false,8,false,0\\n3828,1644707404.9208179', '-3600', '0,\"Philippine-Welser-Straße\",47.258688,11.425567,10,2,true,false,false,12,false,0\\n3808,1644707404.9208996', '-3600', '0,\"Austria Trend Hotel\",47.27449,11.397193,9,1,true,false,false,10,false,0\\n3829,1644707404.9209697', '-3600', '0,\"Technikerhaus\",47.261349,11.379588,2,11,true,false,false,13,false,0\\n3830,1644707404.9210522', '-3600', '0,\"Fürstenweg\",47.265878,11.382812,8,4,true,false,false,12,false,0\\n3831,1644707404.9211462', '-3600', '0,\"Mariahilfpark\",47.267898,11.387577,7,5,true,false,false,12,false,0\\n3832,1644707404.9212165', '-3600', '0,\"Waltherpark\",47.270665,11.391644,2,9,true,false,false,11,false,0\\n3833,1644707404.9212852', '-3600', '0,\"Langstraße\",47.265132,11.413363,2,9,true,false,false,11,false,0\\n3834,1644707404.9213552', '-3600', '0,\"TWI Technologiezentrum\",47.265525,11.435286,6,8,true,false,false,14,false,0\\n3835,1644707404.921424', '-3600', '0,\"Dr. Stumpf-Straße\",47.256696,11.373858,7,6,true,false,false,13,false,0\\n3837,1644707404.9214947', '-3600', '0,\"Claudiaplatz\",47.275797,11.405576,9,1,true,false,false,10,false,0\\n3836,1644707404.921564', '-3600', '0,\"Mitterweg\",47.258067,11.370598,7,5,true,false,false,12,false,0\\n3838,1644707404.921632', '-3600', '0,\"Marktplatz\",47.267371,11.391144,4,7,true,false,false,11,false,0\\n3839,1644707404.9217072', '-3600', '0,\"Kaiserschützenplatz\",47.258677,11.396711,5,7,true,false,false,12,false,0\\n3840,1644707404.921779', '-3600', '0,\"Josef-Kerschbaumer-Straße\",47.272365,11.443521,8,2,true,false,false,10,false,0\\n3841,1644707404.9218473', '-3600', '0,\"Vögelebichl\",47.264109,11.362696,3,11,true,false,false,14,false,0\\n3842,1644707404.9219172', '-3600', '0,\"Triumphpforte/ Casino\",47.262635,11.396309,7,8,true,false,false,15,false,0\\n3843,1644707404.9220145', '-3600', '0,\"Chemieinstitut\",47.260745,11.381139,3,8,true,false,false,11,false,0\\nfb340172,1644707404.922087', '-3600', '0,\"BIKE 340172\",47.278142,11.406826,1,0,true,false,true,1,-1,0\\nfb340073,1644707404.9221542', '-3600', '0,\"BIKE 340073\",47.256738,11.377656,1,0,true,false,true,1,-1,0\\nfb340348,1644707404.922221', '-3600', '0,\"BIKE 340348\",47.267164,11.358006,1,0,true,false,true,1,-1,0\\n']\n",
      "['#id,timestamp', 'gmt_local_diff_sec', 'gmt_servertime_diff_sec,name,lat,lon,bikes,spaces,installed,locked,temporary,total_docks,givesbonus_acceptspedelecs_fbbattlevel,pedelecs\\n3602,1644707405.43757', '-3600', '0,\"Universität Klagenfurt\",46.616978,14.266726,7,2,true,false,false,10,false,0\\n3603,1644707405.4376493', '-3600', '0,\"S-Bahn Klagenfurt West\",46.622792,14.267274,6,4,true,false,false,10,false,0\\n3604,1644707405.4377215', '-3600', '0,\"Heiligengeistplatz\",46.624676,14.305148,2,1,true,false,false,6,false,0\\n3605,1644707405.4377935', '-3600', '0,\"Heuplatz\",46.626433,14.308257,3,6,true,false,false,9,false,0\\n3607,1644707405.437868', '-3600', '0,\"Park & Ride Fernheizkraftwerk\",46.629264,14.314336,8,1,true,false,false,8,false,0\\n3608,1644707405.43794', '-3600', '0,\"Strandbad Klagenfurt\",46.619571,14.255978,6,4,true,false,false,10,false,0\\n3609,1644707405.4380116', '-3600', '0,\"FH Kärnten Primoschgasse\",46.610464,14.330101,2,2,true,false,false,6,false,0\\n3600,1644707405.4380848', '-3600', '0,\"Hauptbahnhof Klagenfurt\",46.616539,14.313624,6,4,true,false,false,10,false,0\\n3601,1644707405.4381566', '-3600', '0,\"Neuer Platz\",46.624195,14.307061,5,5,true,false,false,10,false,0\\n3610,1644707405.4382281', '-3600', '0,\"Messe Klagenfurt\",46.617295,14.308044,3,5,true,false,false,8,false,0\\n3606,1644707405.4383004', '-3600', '0,\"Landesregierung Mießtalerstraße\",46.621497,14.311447,7,1,true,false,false,10,false,0\\n3611,1644707405.4383738', '-3600', '0,\"Welzeneggerstraße\",46.633055,14.334616,6,4,true,false,false,10,false,0\\n3622,1644707405.4384465', '-3600', '0,\"Pfarrplatz\",46.625919,14.307208,4,2,true,false,false,6,false,0\\n3617,1644707405.4385161', '-3600', '0,\"HTL1 Lastenstraße\",46.619769,14.315703,2,6,true,false,false,8,false,0\\n3619,1644707405.4385884', '-3600', '0,\"P&R Sirius\",46.619378,14.319519,4,4,true,false,false,8,false,0\\n3614,1644707405.4386601', '-3600', '0,\"Domplatz\",46.622304,14.309069,4,1,true,false,false,5,false,0\\n3624,1644707405.4387295', '-3600', '0,\"Ebenthal\",46.610514,14.359715,1,4,true,false,false,5,false,0\\n3623,1644707405.4388006', '-3600', '0,\"Schleppeplatz\",46.641481,14.288451,5,3,true,false,false,8,false,0\\n3630,1644707405.438872', '-3600', '0,\"Kardinalplatz\",46.623896,14.312117,6,1,true,false,false,5,false,0\\n3631,1644707405.4389417', '-3600', '0,\"Steinerne Brücke\",46.62045,14.283111,3,3,true,false,false,6,false,0\\n3613,1644707405.4390128', '-3600', '0,\"Seepark Hotel\",46.618267,14.261236,3,7,true,false,false,10,false,0\\n3626,1644707405.439085', '-3600', '0,\"Sportpark Klagenfurt\",46.610406,14.277975,7,1,true,false,false,8,false,0\\n3621,1644707405.4391558', '-3600', '0,\"Messe Parkhaus\",46.618639,14.304042,4,2,true,false,false,6,false,0\\n3615,1644707405.4392264', '-3600', '0,\"Mühlgasse\",46.63935,14.297519,3,3,true,false,false,8,false,0\\n3616,1644707405.4392984', '-3600', '0,\"Wörthersee Schifffahrt\",46.622743,14.255431,5,3,true,false,false,8,false,0\\n3618,1644707405.439371', '-3600', '0,\"Bahnhofstraße/ Priesterhausgasse\",46.625719,14.310586,4,1,true,false,false,5,false,0\\n3620,1644707405.4395597', '-3600', '0,\"S-Bahn Annabichl\",46.650767,14.314438,5,1,true,false,false,5,false,0\\n3612,1644707405.4396327', '-3600', '0,\"BKS Bank St.Veiter Ring\",46.628052,14.309578,5,3,true,false,false,8,false,0\\n3629,1644707405.4397037', '-3600', '0,\"HTL Mössingerstraße\",46.610369,14.305603,5,3,true,false,false,8,false,0\\n3636,1644707405.4397755', '-3600', '0,\"S-Bahn Klagenfurt/ Ost Rudolfsbahngürtel\",46.621495,14.321716,3,7,true,false,false,10,false,0\\n3640,1644707405.4398446', '-3600', '0,\"NMS St. Ruprecht\",46.611082,14.311115,2,4,true,false,false,6,false,0\\n3641,1644707405.4399161', '-3600', '0,\"FH Klinikum St. Veiter Straße\",46.632581,14.309599,4,6,true,false,false,10,false,0\\n3632,1644707405.439985', '-3600', '0,\"STW Kundencenter\",46.629643,14.309644,2,4,true,false,false,6,false,0\\n3638,1644707405.4400563', '-3600', '0,\"Südpark\",46.615411,14.319496,4,3,true,false,false,8,false,0\\n3637,1644707405.4401333', '-3600', '0,\"S-Bahn Ebenthal/Fischl\",46.616903,14.333603,4,5,true,false,false,9,false,0\\n3524,1644707405.4402032', '-3600', '0,\"Generali at Brain@Work\",46.620811,14.307048,2,8,true,false,false,10,false,0\\n3525,1644707405.440274', '-3600', '0,\"KSW Maximilianstraße\",46.613919,14.293806,3,5,true,false,false,8,false,0\\n3527,1644707405.4403465', '-3600', '0,\"Benediktinerplatz\",46.623263,14.305623,7,3,true,false,false,10,false,0\\n3625,1644707405.440419', '-3600', '0,\"Pädagogische Hochschule\",46.608516,14.29106,11,1,true,false,false,10,false,0\\n3529,1644707405.4404895', '-3600', '0,\"SLOG & TAK Prof.-Janežič-Platz\",46.624367,14.323619,1,4,true,false,false,5,false,0\\n3526,1644707405.4405663', '-3600', '0,\"hi Harbach\",46.621873,14.343128,4,1,true,false,false,13,false,2\\n']\n",
      "['']\n",
      "['#id,timestamp', 'gmt_local_diff_sec', 'gmt_servertime_diff_sec,name,lat,lon,bikes,spaces,installed,locked,temporary,total_docks,givesbonus_acceptspedelecs_fbbattlevel,pedelecs\\n3553,1644707404.8200436', '-3600', '0,\"Laa / Bahnhof\",48.723065,16.40269,0,10,true,false,false,10,false,0\\n3554,1644707404.8201163', '-3600', '0,\"Laa / Stadtplatz - Rathaus\",48.720988,16.384794,0,10,true,false,false,10,false,0\\n']\n",
      "['#id,timestamp', 'gmt_local_diff_sec', 'gmt_servertime_diff_sec,name,lat,lon,bikes,spaces,installed,locked,temporary,total_docks,givesbonus_acceptspedelecs_fbbattlevel,pedelecs\\n41600,1644707406.1320627', '-3600', '0,\"Alter Markt\",48.30554,14.2847,10,1,true,false,false,8,false,0\\n41601,1644707406.13214', '-3600', '0,\"Am Volksgarten\",48.29491,14.29272,10,1,true,false,false,10,false,0\\n41602,1644707406.1322172', '-3600', '0,\"Bahnhofplatz\",48.2912,14.2912,17,1,true,false,false,13,false,0\\n41603,1644707406.1322901', '-3600', '0,\"Bethlehemstraße \",48.30321,14.2893,7,3,true,false,false,10,false,0\\n41604,1644707406.132366', '-3600', '0,\"Blumauerstraße\",48.29548,14.29535,10,1,true,false,false,10,false,0\\n41605,1644707406.132441', '-3600', '0,\"Dinghoferstraße \",48.29701,14.29907,12,1,true,false,false,8,false,0\\n41606,1644707406.132514', '-3600', '0,\"E. Koref-Promenade\",48.30832,14.2889,8,1,true,false,false,8,false,0\\n41607,1644707406.1325872', '-3600', '0,\"Fabrikstraße \",48.30864,14.29284,7,1,true,false,false,8,false,0\\n41608,1644707406.132661', '-3600', '0,\"Ferihumerstraße \",48.31327,14.28754,11,1,true,false,false,10,false,0\\n41609,1644707406.132735', '-3600', '0,\"Figulystraße \",48.293519,14.28811,9,1,true,false,false,10,false,0\\n41610,1644707406.1328092', '-3600', '0,\"Friedensplatz\",48.2999,14.28963,10,1,true,false,false,10,false,0\\n41611,1644707406.1328828', '-3600', '0,\"Europaplatz\",48.29927,14.30405,11,1,true,false,false,10,false,0\\n41612,1644707406.1329563', '-3600', '0,\"Gruberstraße\",48.30301,14.3003,11,1,true,false,false,10,false,0\\n41613,1644707406.1330295', '-3600', '0,\"Harrachstraße-Landstraße\",48.30198,14.29021,6,2,true,false,false,8,false,0\\n41614,1644707406.133103', '-3600', '0,\"Harrachstraße\",48.303515,14.297951,10,1,true,false,false,10,false,0\\n41615,1644707406.1331768', '-3600', '0,\"Hauptplatz \",48.3064,14.28585,10,1,true,false,false,10,false,0\\n41616,1644707406.1332498', '-3600', '0,\"Neues Rathaus\",48.30943,14.28332,7,3,true,false,false,10,false,0\\n41617,1644707406.1333222', '-3600', '0,\"Hauptstraße \",48.31437,14.28115,6,4,true,false,false,10,false,0\\n41618,1644707406.1333964', '-3600', '0,\"Herrenstraße\",48.30096,14.28717,11,1,true,false,false,10,false,0\\n41619,1644707406.1334674', '-3600', '0,\"Hessenplatz \",48.30096,14.29484,4,3,true,false,false,7,false,0\\n41620,1644707406.1335397', '-3600', '0,\"Huemerstraße \",48.30588,14.2983,7,3,true,false,false,10,false,0\\n41621,1644707406.133613', '-3600', '0,\"Knabenseminarstraße \",48.31578,14.28057,8,2,true,false,false,10,false,0\\n41622,1644707406.1336849', '-3600', '0,\"Krankenhausstraße \",48.302096,14.30534,5,5,true,false,false,10,false,0\\n41623,1644707406.133758', '-3600', '0,\"Landstraße\",48.2959,14.29238,8,1,true,false,false,8,false,0\\n41624,1644707406.1338298', '-3600', '0,\"Lederergasse\",48.30753,14.29608,5,5,true,false,false,10,false,0\\n41625,1644707406.1339028', '-3600', '0,\"Marktplatz\",48.300521,14.300158,9,1,true,false,false,9,false,0\\n41626,1644707406.1339755', '-3600', '0,\"Martin Luther-Platz\",48.30061,14.29176,8,2,true,false,false,10,false,0\\n41627,1644707406.134049', '-3600', '0,\"Mühlkreisbahnstraße\",48.311548,14.280062,7,3,true,false,false,10,false,0\\n41628,1644707406.134123', '-3600', '0,\"Pfarrplatz\",48.306351,14.289585,11,1,true,false,false,10,false,0\\n41629,1644707406.1341956', '-3600', '0,\"Pochestraße\",48.304939,14.292987,9,1,true,false,false,10,false,0\\n41630,1644707406.1342692', '-3600', '0,\"Promenade \",48.30421,14.28719,10,1,true,false,false,9,false,0\\n41631,1644707406.1343427', '-3600', '0,\"Klammstraße\",48.30333,14.28454,9,1,true,false,false,10,false,0\\n41632,1644707406.1344144', '-3600', '0,\"Römerstraße \",48.304528,14.280579,6,4,true,false,false,10,false,0\\n41633,1644707406.1344864', '-3600', '0,\"Schillerplatz \",48.29749,14.29094,4,6,true,false,false,10,false,0\\n41634,1644707406.1345592', '-3600', '0,\"Schubertstraße \",48.29878,14.29622,10,1,true,false,false,8,false,0\\n41635,1644707406.1346307', '-3600', '0,\"Spittelwiese \",48.30218,14.2868,4,4,true,false,false,8,false,0\\n41636,1644707406.1347032', '-3600', '0,\"Stockhofstraße \",48.29565,14.28675,9,1,true,false,false,8,false,0\\n41637,1644707406.134776', '-3600', '0,\"Untere Donaulände \",48.310402,14.293835,8,2,true,false,false,10,false,0\\n41638,1644707406.134848', '-3600', '0,\"Volksgartenstraße \",48.29776,14.28793,7,3,true,false,false,10,false,0\\n41639,1644707406.134923', '-3600', '0,\"Weingartshofstraße \",48.29111,14.28798,12,1,true,false,false,10,false,0\\n41640,1644707406.134997', '-3600', '0,\"JKU Kepler Hall\",48.335415,14.32033,12,1,true,false,false,10,false,0\\n41641,1644707406.1350696', '-3600', '0,\"JKU OIC\",48.337251,14.315912,8,2,true,false,false,10,false,0\\nfb390328,1644707406.1351404', '-3600', '0,\"BIKE 390328\",48.304613,14.30519,1,0,true,false,true,1,-1,0\\nfb390045,1644707406.1352098', '-3600', '0,\"BIKE 390045\",48.292138,14.290916,1,0,true,false,true,1,-1,0\\n']\n",
      "['#id,timestamp', 'gmt_local_diff_sec', 'gmt_servertime_diff_sec,name,lat,lon,bikes,spaces,installed,locked,temporary,total_docks,pedelec\\n']\n",
      "['#id,timestamp', 'gmt_local_diff_sec', 'gmt_servertime_diff_sec,name,lat,lon,bikes,spaces,installed,locked,temporary,total_docks,givesbonus_acceptspedelecs_fbbattlevel,pedelecs\\n3535,1644707404.8179245', '-3600', '0,\"Marchegg / Hauptplatz\",48.279987,16.90731,0,10,true,false,false,10,false,0\\n3537,1644707404.8179924', '-3600', '0,\"Marchegg / Bahnhof\",48.249998,16.917604,0,10,true,false,false,10,false,0\\n3538,1644707404.8180575', '-3600', '0,\"Engelhartstetten / Schloss Hof\",48.215569,16.934963,0,10,true,false,false,10,false,0\\n']\n",
      "['#id,timestamp', 'gmt_local_diff_sec', 'gmt_servertime_diff_sec,name,lat,lon,bikes,spaces,installed,locked,temporary,open_or_total_docks,bonus,ticket\\n3526,1425978005.74', '-3600', '0,\"Mistelbach / Hst. Mistelbach Stadt\",48.571111,16.569142,0,10,,,,10,\\n3527,1425978005.74', '-3600', '0,\"Mistelbach / Weinlandbad\",48.563056,16.576389,0,10,,,,10,\\n3528,1425978005.74', '-3600', '0,\"Mistelbach / Bahnhof\",48.566047,16.565543,0,10,,,,10,\\n']\n",
      "['#id,timestamp', 'gmt_local_diff_sec', 'gmt_servertime_diff_sec,name,lat,lon,bikes,spaces,installed,locked,temporary,total_docks,givesbonus_acceptspedelecs_fbbattlevel,pedelecs\\n317162,1644707404.807214', '-3600', '0,\"Ma. Enzersdorf / Haltestelle\",48.096659,16.314386,5,5,true,false,false,10,false,0\\n317253,1644707404.8073127', '-3600', '0,\"Wiener Neudorf / HST Griesfeld\",48.077713,16.312519,6,4,true,false,false,10,false,0\\n317233,1644707404.8074002', '-3600', '0,\"Vösendorf / Schönbrunner Allee\",48.135664,16.32519,2,8,true,false,false,10,false,0\\n317232,1644707404.8074868', '-3600', '0,\"Vösendorf / Siebenhirten HST\",48.125628,16.319413,0,10,true,false,false,10,false,0\\n317252,1644707404.8075702', '-3600', '0,\"Wiener Neudorf / Haltestelle\",48.087561,16.31429,4,6,true,false,false,10,false,0\\n317172,1644707404.8076541', '-3600', '0,\"Mödling / Bahnhof\",48.085397,16.295616,6,4,true,false,false,10,false,0\\n317151,1644707404.8077528', '-3600', '0,\"Laxenburg / Franz-Josephs-Platz\",48.06753,16.354989,5,5,true,false,false,10,false,0\\n317173,1644707404.8078442', '-3600', '0,\"Mödling / Bike+Ride (Bach)\",48.084985,16.297038,1,9,true,false,false,10,false,0\\n3143,1644707404.8079488', '-3600', '0,\"Mödling / Babenbergerhof\",48.083759,16.28345,4,6,true,false,false,10,false,0\\n317176,1644707404.8080297', '-3600', '0,\"Mödling / Stadtbad\",48.081591,16.287414,3,7,true,false,false,10,false,0\\n317171,1644707404.8081179', '-3600', '0,\"Mödling / Schrannenplatz\",48.085343,16.283568,4,6,true,false,false,10,false,0\\n317023,1644707404.8082128', '-3600', '0,\"Brunn / Campus 21\",48.114455,16.294516,0,10,true,false,false,10,false,0\\n317152,1644707404.8083084', '-3600', '0,\"Laxenburg / Schlosspark Haupteingang\",48.066476,16.358385,6,4,true,false,false,10,false,0\\n317163,1644707404.8083832', '-3600', '0,\"Ma. Enzersdorf / Franziskanerplatz\",48.101155,16.283943,1,9,true,false,false,10,false,0\\n317164,1644707404.8084748', '-3600', '0,\"Ma. Enzersdorf / Friedhof\",48.093434,16.284415,6,4,true,false,false,10,false,0\\n317165,1644707404.8085465', '-3600', '0,\"Ma. Enzersdorf / Theissplatz\",48.095376,16.304784,3,7,true,false,false,10,false,0\\n317161,1644707404.8086388', '-3600', '0,\"Ma. Enzersdorf / Gemeindeamt\",48.097182,16.283948,0,10,true,false,false,10,false,0\\n317231,1644707404.8087082', '-3600', '0,\"Vösendorf / Schloss\",48.120404,16.343113,2,8,true,false,false,10,false,0\\n317251,1644707404.8088036', '-3600', '0,\"Wiener Neudorf / Rathaus\",48.086544,16.318104,1,9,true,false,false,10,false,0\\n317254,1644707404.8088768', '-3600', '0,\"Wiener Neudorf / C.-Migazzi-Haus\",48.083706,16.323887,2,8,true,false,false,10,false,0\\n317255,1644707404.8089743', '-3600', '0,\"Wiener Neudorf / Reisenbauer Ring\",48.091001,16.310695,2,8,true,false,false,10,false,0\\n317042,1644707404.8090563', '-3600', '0,\"Brunn / Bahnhof\",48.104687,16.28839,3,7,true,false,false,10,false,0\\n317022,1644707404.8091335', '-3600', '0,\"Biedermannsdorf / Jubiläumshalle\",48.081545,16.346299,0,10,true,false,false,10,false,0\\n317021,1644707404.8092272', '-3600', '0,\"Biedermannsdorf / Laxenburgerstraße /Ortstraße\",48.082552,16.352334,0,10,true,false,false,10,false,0\\n3117,1644707404.8093092', '-3600', '0,\"Perchtoldsdorf / Rodaun\",48.132148,16.263617,1,9,true,false,false,10,false,0\\n3118,1644707404.8094025', '-3600', '0,\"Perchtoldsdorf / Freizeitzentrum\",48.123891,16.266734,3,7,true,false,false,10,false,0\\n3119,1644707404.809501', '-3600', '0,\"Perchtoldsdorf / Bahnhof\",48.123254,16.285263,3,7,true,false,false,10,false,0\\n3120,1644707404.8095973', '-3600', '0,\"Perchtoldsdorf / Marktplatz\",48.118248,16.265924,5,5,true,false,false,10,false,0\\n3141,1644707404.809673', '-3600', '0,\"Vösendorf / Spitz\",48.114294,16.354254,3,7,true,false,false,10,false,0\\n3140,1644707404.8097582', '-3600', '0,\"Liesing / Bahnhof\",48.134515,16.283809,0,10,true,false,false,10,false,0\\n3142,1644707404.809848', '-3600', '0,\"Mödling / WIFI\",48.071082,16.302579,5,5,true,false,false,10,false,0\\n317175,1644707404.8099225', '-3600', '0,\"Mödling / Josef-Deutsch-Platz\",48.086594,16.288304,2,8,true,false,false,10,false,0\\n3159,1644707404.810016', '-3600', '0,\"Hinterbrühl / Hst. Höldrichsmühle\",48.080943,16.235915,1,9,true,false,false,10,false,0\\n3160,1644707404.8101015', '-3600', '0,\"Hinterbrühl / Parkstraße - Seegrotte\",48.086218,16.255292,2,8,true,false,false,10,false,0\\n3158,1644707404.8101807', '-3600', '0,\"Perchtoldsdorf / Kulturzentrum\",48.121922,16.26565,4,6,true,false,false,10,false,0\\n3167,1644707404.8102777', '-3600', '0,\"Liesing / Perfektastraße U6\",48.136641,16.313335,4,6,true,false,false,10,false,0\\n3171,1644707404.810372', '-3600', '0,\"Mödling / Jordanfelsen\",48.080986,16.270435,1,9,true,false,false,10,false,0\\n3172,1644707404.810445', '-3600', '0,\"Mödling / BH Mödling\",48.082132,16.298652,4,6,true,false,false,10,false,0\\n3173,1644707404.8105285', '-3600', '0,\"Hennersdorf / Gemeindeamt\",48.110153,16.366485,4,6,true,false,false,10,false,0\\n3177,1644707404.8106065', '-3600', '0,\"Hennersdorf / Bahnhof\",48.11217,16.358278,1,9,true,false,false,10,false,0\\n3187,1644707404.8107', '-3600', '0,\"Mödling / Grutschgasse\",48.075126,16.288835,0,10,true,false,false,10,false,0\\n#id,timestamp', 'gmt_local_diff_sec', 'gmt_servertime_diff_sec,name,lat,lon,bikes,spaces,installed,locked,temporary,total_docks,givesbonus_acceptspedelecs_fbbattlevel,pedelecs\\n3100,1644707404.814384', '-3600', '0,\"Leobersdorf / Bahnhof\",47.93723,16.230749,0,10,true,false,false,10,false,0\\n3101,1644707404.8144493', '-3600', '0,\"Leobersdorf / Rathausplatz\",47.92859,16.216437,0,10,true,false,false,10,false,0\\n3181,1644707404.814514', '-3600', '0,\"Leobersdorf / Ared Park\",47.927188,16.201449,0,10,true,false,false,10,false,0\\n#id,timestamp', 'gmt_local_diff_sec', 'gmt_servertime_diff_sec,name,lat,lon,bikes,spaces,installed,locked,temporary,total_docks,givesbonus_acceptspedelecs_fbbattlevel,pedelecs\\n3110,1644707404.8146207', '-3600', '0,\"Bad Vöslau / Bahnhof\",47.9689,16.223465,0,10,true,false,false,10,false,0\\n3111,1644707404.814688', '-3600', '0,\"Bad Vöslau / Schlossplatz \",47.965474,16.214506,0,10,true,false,false,10,false,0\\n3114,1644707404.8147569', '-3600', '0,\"Guntramsdorf / Hst. Lokalbahn\",48.047982,16.311817,3,7,true,false,false,10,false,0\\n3116,1644707404.8148239', '-3600', '0,\"Gumpoldskirchen / Bahnhof\",48.041598,16.285295,2,8,true,false,false,10,false,0\\n3115,1644707404.8148901', '-3600', '0,\"Guntramsdorf / Hst. Neu Guntramsdorf\",48.063938,16.31385,2,8,true,false,false,10,false,0\\n3105,1644707404.8149543', '-3600', '0,\"Baden / Bahnhof \",48.004582,16.242868,0,10,true,false,false,10,false,0\\n3107,1644707404.8150196', '-3600', '0,\"Baden / Tourismusinfo Römertherme\",48.008092,16.231045,1,9,true,false,false,10,false,0\\n3112,1644707404.8150845', '-3600', '0,\"Pfaffstätten / Bahnhof \",48.018366,16.258886,0,10,true,false,false,10,false,0\\n3109,1644707404.815149', '-3600', '0,\"Baden / BH\",48.004341,16.254138,0,10,true,false,false,10,false,0\\n3163,1644707404.8152137', '-3600', '0,\"Kottingbrunn / Raiba - EKZ\",47.950731,16.227837,0,10,true,false,false,10,false,0\\n3184,1644707404.815277', '-3600', '0,\"Guntramsdorf / Bahnhof Thallern\",48.052194,16.298067,0,10,true,false,false,10,false,0\\nfb35990,1644707404.815344', '-3600', '0,\"BIKE 35990\",48.058844,16.3206,1,0,true,false,true,1,-1,0\\n#id,timestamp', 'gmt_local_diff_sec', 'gmt_servertime_diff_sec,name,lat,lon,bikes,spaces,installed,locked,temporary,total_docks,givesbonus_acceptspedelecs_fbbattlevel,pedelecs\\n3215,1644707404.8202481', '-3600', '0,\"Schwechat / Bahnhof\",48.142867,16.48233,0,10,true,false,false,10,false,0\\n3154,1644707404.8203936', '-3600', '0,\"Leopoldsdorf / Gemeindeamt\",48.107922,16.396864,0,10,true,false,false,10,false,0\\n3155,1644707404.8204656', '-3600', '0,\"Leopoldsdorf / ZIAG\",48.105017,16.402239,0,10,true,false,false,10,false,0\\n3156,1644707404.8205342', '-3600', '0,\"Leopoldsdorf / Rustenfeld\",48.124235,16.394477,0,10,true,false,false,10,false,0\\n3560,1644707404.8206027', '-3600', '0,\"Fischamend / BHF\",48.116808,16.614992,0,10,true,false,false,10,false,0\\n3168,1644707404.8206694', '-3600', '0,\"Schwechat / Concorde Businesspark\",48.138313,16.496594,0,10,true,false,false,10,false,0\\n3169,1644707404.8207355', '-3600', '0,\"Schwechat / Office Park 1\",48.122506,16.564422,0,10,true,false,false,10,false,0\\n3170,1644707404.8208015', '-3600', '0,\"Schwechat / HCW Handling Center West\",48.125009,16.549294,0,10,true,false,false,10,false,0\\n']\n"
     ]
    }
   ],
   "source": [
    "for line in station_info_list:\n",
    "    fields = line.split('|')\n",
    "    fld = list(fields)\n",
    "    print(fld)"
   ]
  },
  {
   "cell_type": "code",
   "execution_count": null,
   "id": "bb3d0883",
   "metadata": {},
   "outputs": [],
   "source": []
  }
 ],
 "metadata": {
  "kernelspec": {
   "display_name": "general_py_venv",
   "language": "python",
   "name": "general_py_venv"
  },
  "language_info": {
   "codemirror_mode": {
    "name": "ipython",
    "version": 3
   },
   "file_extension": ".py",
   "mimetype": "text/x-python",
   "name": "python",
   "nbconvert_exporter": "python",
   "pygments_lexer": "ipython3",
   "version": "3.10.7"
  },
  "varInspector": {
   "cols": {
    "lenName": 16,
    "lenType": 16,
    "lenVar": 40
   },
   "kernels_config": {
    "python": {
     "delete_cmd_postfix": "",
     "delete_cmd_prefix": "del ",
     "library": "var_list.py",
     "varRefreshCmd": "print(var_dic_list())"
    },
    "r": {
     "delete_cmd_postfix": ") ",
     "delete_cmd_prefix": "rm(",
     "library": "var_list.r",
     "varRefreshCmd": "cat(var_dic_list()) "
    }
   },
   "types_to_exclude": [
    "module",
    "function",
    "builtin_function_or_method",
    "instance",
    "_Feature"
   ],
   "window_display": false
  }
 },
 "nbformat": 4,
 "nbformat_minor": 5
}
