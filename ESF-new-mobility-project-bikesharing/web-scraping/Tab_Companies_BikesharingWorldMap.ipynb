{
 "cells": [
  {
   "cell_type": "markdown",
   "id": "893cece1-e537-442d-bd30-158e2590ef0b",
   "metadata": {},
   "source": [
    "## Tab+LatLong Companies from BikesharingWorldMap"
   ]
  },
  {
   "cell_type": "code",
   "execution_count": 216,
   "id": "286b41de-681a-4227-848a-640677e4ced7",
   "metadata": {},
   "outputs": [],
   "source": [
    "import requests\n",
    "from bs4 import BeautifulSoup\n",
    "import re\n",
    "import json\n",
    "import pandas as pd\n",
    "from geopandas import GeoDataFrame\n",
    "from shapely.geometry import Point\n",
    "import fiona\n",
    "from datetime import datetime\n",
    "#import import_ipynb\n"
   ]
  },
  {
   "attachments": {},
   "cell_type": "markdown",
   "id": "f125ae2d-4a50-46e9-b7c3-c483a55d5f97",
   "metadata": {},
   "source": [
    "## Creation of 1. DataFrame - connection to BikesharingWorldMap html source code"
   ]
  },
  {
   "cell_type": "code",
   "execution_count": 154,
   "id": "02d585a6-d34c-4966-b321-1aa9bb365c66",
   "metadata": {
    "tags": []
   },
   "outputs": [],
   "source": [
    "#import LatLong_Tab_Mix_BikeshareMap_BikesharingWorldMap"
   ]
  },
  {
   "cell_type": "code",
   "execution_count": 155,
   "id": "315e2490-77cf-4932-a524-cd4bb5066fce",
   "metadata": {},
   "outputs": [
    {
     "name": "stdout",
     "output_type": "stream",
     "text": [
      "<Response [200]>\n",
      "<class 'str'>\n"
     ]
    }
   ],
   "source": [
    "# preparing URL – request GET and RESPONSE into soup\n",
    "url = \"https://bikesharingworldmap.com/\"\n",
    "response = requests.get(url)\n",
    "print(response)\n",
    "print(type(response.text))\n",
    "html = response.text\n",
    "soup = BeautifulSoup(html, \"html.parser\")"
   ]
  },
  {
   "cell_type": "code",
   "execution_count": 156,
   "id": "b4fea7f6-e920-4e10-b0ee-dafa8c7f39fa",
   "metadata": {},
   "outputs": [
    {
     "data": {
      "text/plain": [
       "bs4.element.ResultSet"
      ]
     },
     "execution_count": 156,
     "metadata": {},
     "output_type": "execute_result"
    }
   ],
   "source": [
    "# preparing data for cleaning\n",
    "\n",
    "#soup.find(\"div\", {\"id\": \"legend\"})\n",
    "div_lst = soup.find_all(\"script\")\n",
    "type(div_lst)"
   ]
  },
  {
   "cell_type": "code",
   "execution_count": 4,
   "id": "b5b52e0c-281c-4ee2-990f-0b87fa234356",
   "metadata": {
    "collapsed": true,
    "jupyter": {
     "outputs_hidden": true
    },
    "tags": []
   },
   "outputs": [],
   "source": [
    "# div_lst"
   ]
  },
  {
   "cell_type": "code",
   "execution_count": 7,
   "id": "3341c4a1-9792-45f2-ad32-54ecbfbfb7ed",
   "metadata": {
    "tags": []
   },
   "outputs": [],
   "source": [
    "# finding the indexes in the sheet for the given tag\n",
    "# for idx, obj in enumerate(div_lst):\n",
    "#     print(idx, obj)"
   ]
  },
  {
   "cell_type": "code",
   "execution_count": 176,
   "id": "b3c7e708-223d-4ff3-b625-d59dd26b49a8",
   "metadata": {},
   "outputs": [],
   "source": [
    "# data wrangling\n",
    "\n",
    "unCleaned_data_0 = soup.find_all(\"script\")[8].text\n",
    "\n",
    "\n",
    "replacements = [\n",
    "    (r\"\\\\r\\\\n\",\"\"),\n",
    "    (r\"\\\\\",\"\")\n",
    "]\n",
    "\n",
    "for old, new in replacements:\n",
    "    unCleaned_data_1 = re.sub(old, new, unCleaned_data_0)\n",
    "\n",
    "#unCleaned_data_1 = re.sub(r\"\\\\r\\\\n\",\"\",unCleaned_data_0)\n",
    "#unCleaned_data_2 = re.sub(r\"\\\\\",\"\",unCleaned_data_1)\n",
    "len(unCleaned_data_2)\n",
    "\n",
    "cleaned_data = unCleaned_data_2[52:278643]"
   ]
  },
  {
   "cell_type": "code",
   "execution_count": 178,
   "id": "b926da06-3c7e-41b1-8bff-68325fc73bc7",
   "metadata": {},
   "outputs": [
    {
     "data": {
      "text/plain": [
       "3314"
      ]
     },
     "execution_count": 178,
     "metadata": {},
     "output_type": "execute_result"
    }
   ],
   "source": [
    "# conversion to a 2D list\n",
    "\n",
    "cleaned_data_lst = json.loads(cleaned_data)\n",
    "len(cleaned_data_lst)\n",
    "#print(cleaned_data_lst)"
   ]
  },
  {
   "cell_type": "code",
   "execution_count": 2,
   "id": "47dd9ca5-b0ca-492b-ab95-8a52f10464c2",
   "metadata": {
    "collapsed": true,
    "jupyter": {
     "outputs_hidden": true
    },
    "tags": []
   },
   "outputs": [],
   "source": [
    "#cleaned_data_lst"
   ]
  },
  {
   "cell_type": "code",
   "execution_count": 179,
   "id": "8d3987cb-680a-4655-8679-f02833cc327e",
   "metadata": {},
   "outputs": [],
   "source": [
    "name_cols = [\"id\", \"name_station\",\"num_of_stations\", \"lon\", \"lat\", \"num_of_bikes\", \"launch\", \"terminated\"]"
   ]
  },
  {
   "cell_type": "code",
   "execution_count": 180,
   "id": "c5159e84-be0e-494e-9808-a1bda06ec266",
   "metadata": {},
   "outputs": [],
   "source": [
    "df1 = pd.DataFrame(cleaned_data_lst, columns=name_cols)"
   ]
  },
  {
   "cell_type": "code",
   "execution_count": 181,
   "id": "2d5b7bf6-dd41-48bb-9b64-5f6ee6474340",
   "metadata": {},
   "outputs": [],
   "source": [
    "df1.set_index('id', inplace=True)"
   ]
  },
  {
   "cell_type": "code",
   "execution_count": 193,
   "id": "119f9fb3-949d-4b5c-b909-d3a9fe741a3d",
   "metadata": {},
   "outputs": [
    {
     "data": {
      "text/plain": [
       "(3314, 7)"
      ]
     },
     "execution_count": 193,
     "metadata": {},
     "output_type": "execute_result"
    }
   ],
   "source": [
    "df1.shape"
   ]
  },
  {
   "cell_type": "code",
   "execution_count": 237,
   "id": "0f7e0d3a-11e8-4a88-9839-2527daa85bca",
   "metadata": {},
   "outputs": [],
   "source": [
    "# df1.to_excel(\"df1_Company_Points_bikesharingworldmap.xlsx\")"
   ]
  },
  {
   "attachments": {},
   "cell_type": "markdown",
   "id": "6d5e57a9-99f5-476c-96ae-59310c8a709e",
   "metadata": {},
   "source": [
    "## Creation of the 2nd DataFrame - rotation of IDs in the request"
   ]
  },
  {
   "cell_type": "code",
   "execution_count": 124,
   "id": "ebd57c25-8518-493e-a7d8-810b42ee3a4f",
   "metadata": {},
   "outputs": [],
   "source": [
    "def point_info(ad_id):\n",
    "    \n",
    "    headers = {\n",
    "        'Connection': 'keep-alive',\n",
    "        'sec-ch-ua': '\" Not;A Brand\";v=\"99\", \"Google Chrome\";v=\"97\", \"Chromium\";v=\"97\"',\n",
    "        'Accept': 'application/json, text/javascript, */*; q=0.01',\n",
    "        'X-Requested-With': 'XMLHttpRequest',\n",
    "        'sec-ch-ua-mobile': '?0',\n",
    "        'User-Agent': 'Mozilla/5.0 (Windows NT 10.0; Win64; x64) AppleWebKit/537.36 (KHTML, like Gecko) Chrome/97.0.4692.99 Safari/537.36',\n",
    "        'sec-ch-ua-platform': '\"Windows\"',\n",
    "        'Sec-Fetch-Site': 'same-origin',\n",
    "        'Sec-Fetch-Mode': 'cors',\n",
    "        'Sec-Fetch-Dest': 'empty',\n",
    "        'Referer': 'https://bikesharingworldmap.com/',\n",
    "        'Accept-Language': 'cs-CZ,cs;q=0.9',\n",
    "    }\n",
    "    \n",
    "    params = (\n",
    "        ('system', f'{ad_id}'),\n",
    "    )\n",
    "\n",
    "    response = requests.get('https://bikesharingworldmap.com/getsystem.php', headers=headers, params=params)\n",
    "    return response.json()"
   ]
  },
  {
   "cell_type": "code",
   "execution_count": 1,
   "id": "3fc7e1a0-9c18-4a4b-b2e8-ef4286379d1b",
   "metadata": {
    "collapsed": true,
    "jupyter": {
     "outputs_hidden": true
    },
    "tags": []
   },
   "outputs": [],
   "source": [
    "# [i for lst in cleaned_data_lst for i in lst]"
   ]
  },
  {
   "cell_type": "code",
   "execution_count": 126,
   "id": "50f5c0f8-4b27-4c42-9d50-1f7d091fdf7d",
   "metadata": {},
   "outputs": [
    {
     "data": {
      "text/plain": [
       "['acoruna',\n",
       " 'aachen',\n",
       " 'aachen_velocity',\n",
       " 'aalborg',\n",
       " 'aalborg_donkey',\n",
       " 'aarhus',\n",
       " 'aarhus_donkey',\n",
       " 'aberdeen',\n",
       " 'abudhabi',\n",
       " 'abudhabi_careem']"
      ]
     },
     "execution_count": 126,
     "metadata": {},
     "output_type": "execute_result"
    }
   ],
   "source": [
    "# Extrakce IDs\n",
    "\"\"\"\n",
    "for lst in cleaned_data_lst:\n",
    "    for i in lst:\n",
    "        print(i)\n",
    "        \n",
    "# list comprehension\n",
    "[i for lst in cleaned_data_lst for i in lst]\n",
    "\"\"\"\n",
    "\n",
    "ids_lst = [i[0] for i in cleaned_data_lst]\n",
    "len(ids_lst)\n",
    "ids_lst[0:10]"
   ]
  },
  {
   "cell_type": "code",
   "execution_count": null,
   "id": "017ff5a3-ef8d-46c7-9d1c-7b6febbb73a4",
   "metadata": {
    "collapsed": true,
    "jupyter": {
     "outputs_hidden": true
    },
    "tags": []
   },
   "outputs": [],
   "source": [
    "#vytvoření listu pro informace ke stanicím a následné jeho plnění slovníky s infem o bodech\n",
    "datetime.now().strftime(\"%d/%m/%Y %H:%M:%S\")\n",
    "\n",
    "point_info_list = []\n",
    "for _id in ids_lst:\n",
    "    # print(_id)\n",
    "    info_pts = point_info(_id)\n",
    "    point_info_list.append(info_pts)\n",
    "    \n",
    "datetime.now().strftime(\"%d/%m/%Y %H:%M:%S\")"
   ]
  },
  {
   "cell_type": "code",
   "execution_count": 128,
   "id": "f37112d5-9022-4ab3-9b59-15eda2a4d9c2",
   "metadata": {
    "tags": []
   },
   "outputs": [],
   "source": [
    "# očištění výsledného slovníku a připojení očištěných dat do nového listu\n",
    "clean_pt_lst = []\n",
    "for i in point_info_list:\n",
    "    for k, v in i.items():\n",
    "        if k == \"result\":\n",
    "            clean_pt_lst.append(v)\n",
    "            \n",
    "# stejný zápis jen pomocí list comprehension\n",
    "clean_pt_lst = [v for i in point_info_list for k, v in i.items() if k == \"result\"]"
   ]
  },
  {
   "cell_type": "code",
   "execution_count": 196,
   "id": "c3f89498-e85e-4ac2-acbc-96a7909dedbe",
   "metadata": {},
   "outputs": [],
   "source": [
    "name_cols_2 = [\"id\", \"city_company\",\"a\", \"bikes\", \"stations\", \"inc_pedelecs\", \"b\", \"c\", \"web_company\", \"d\", \"working\", \"date_launch\", \"date_terminated\", \"e\", \"operator\", \"equipment\", \"f\", \"pic\", \"g\"]"
   ]
  },
  {
   "cell_type": "code",
   "execution_count": 120,
   "id": "e6ba42da-54b8-43bc-a7e2-0db60b083209",
   "metadata": {},
   "outputs": [
    {
     "data": {
      "text/plain": [
       "19"
      ]
     },
     "execution_count": 120,
     "metadata": {},
     "output_type": "execute_result"
    }
   ],
   "source": [
    "len(name_cols_2)"
   ]
  },
  {
   "cell_type": "code",
   "execution_count": 197,
   "id": "92b32da0-7bd7-415a-97b9-19a98c4249ed",
   "metadata": {},
   "outputs": [],
   "source": [
    "df2 = pd.DataFrame(clean_pt_lst, columns=name_cols_2)"
   ]
  },
  {
   "cell_type": "code",
   "execution_count": 198,
   "id": "61466053-71fa-4a61-af2f-24d5c8195008",
   "metadata": {},
   "outputs": [],
   "source": [
    "df2.set_index(\"id\", inplace=True)"
   ]
  },
  {
   "cell_type": "code",
   "execution_count": 199,
   "id": "546ec73d-11b6-489d-a71a-087a823488c7",
   "metadata": {},
   "outputs": [
    {
     "data": {
      "text/plain": [
       "(3292, 18)"
      ]
     },
     "execution_count": 199,
     "metadata": {},
     "output_type": "execute_result"
    }
   ],
   "source": [
    "df2.shape"
   ]
  },
  {
   "cell_type": "code",
   "execution_count": 200,
   "id": "ca5856bd-da94-4cfe-aac5-8876187472ca",
   "metadata": {},
   "outputs": [
    {
     "data": {
      "text/plain": [
       "22"
      ]
     },
     "execution_count": 200,
     "metadata": {},
     "output_type": "execute_result"
    }
   ],
   "source": [
    "df1.shape[0]-df2.shape[0]"
   ]
  },
  {
   "cell_type": "code",
   "execution_count": 236,
   "id": "c0d56517-bf42-4b40-b4a5-6627cd7d8779",
   "metadata": {},
   "outputs": [],
   "source": [
    "#df2.to_excel(\"df2_Company_Points_bikesharingworldmap.xlsx\")"
   ]
  },
  {
   "cell_type": "markdown",
   "id": "ff5bae71-c57e-418f-8187-a44570e07265",
   "metadata": {},
   "source": [
    "- Joining DF1 a DF2"
   ]
  },
  {
   "cell_type": "code",
   "execution_count": 3,
   "id": "ab6f1912-f14b-41cf-8804-1d293e4b5752",
   "metadata": {
    "collapsed": true,
    "jupyter": {
     "outputs_hidden": true
    },
    "tags": []
   },
   "outputs": [],
   "source": [
    "# pd.concat([df1, df2], join=\"inner\", axis=1)"
   ]
  },
  {
   "cell_type": "code",
   "execution_count": 201,
   "id": "cb4b2ac8-f76f-488e-afe6-6903188c146b",
   "metadata": {},
   "outputs": [],
   "source": [
    "df3 = df1.join(df2, rsuffix=\"_sec\", how=\"left\")"
   ]
  },
  {
   "cell_type": "code",
   "execution_count": 203,
   "id": "8e4cc506-2d44-4672-b4a3-c3c147f9147a",
   "metadata": {},
   "outputs": [
    {
     "data": {
      "text/html": [
       "<div>\n",
       "<style scoped>\n",
       "    .dataframe tbody tr th:only-of-type {\n",
       "        vertical-align: middle;\n",
       "    }\n",
       "\n",
       "    .dataframe tbody tr th {\n",
       "        vertical-align: top;\n",
       "    }\n",
       "\n",
       "    .dataframe thead th {\n",
       "        text-align: right;\n",
       "    }\n",
       "</style>\n",
       "<table border=\"1\" class=\"dataframe\">\n",
       "  <thead>\n",
       "    <tr style=\"text-align: right;\">\n",
       "      <th></th>\n",
       "      <th>name_station</th>\n",
       "      <th>num_of_stations</th>\n",
       "      <th>lon</th>\n",
       "      <th>lat</th>\n",
       "      <th>num_of_bikes</th>\n",
       "      <th>launch</th>\n",
       "      <th>terminated</th>\n",
       "      <th>city_company</th>\n",
       "      <th>a</th>\n",
       "      <th>bikes</th>\n",
       "      <th>...</th>\n",
       "      <th>d</th>\n",
       "      <th>working</th>\n",
       "      <th>date_launch</th>\n",
       "      <th>date_terminated</th>\n",
       "      <th>e</th>\n",
       "      <th>operator</th>\n",
       "      <th>equipment</th>\n",
       "      <th>f</th>\n",
       "      <th>pic</th>\n",
       "      <th>g</th>\n",
       "    </tr>\n",
       "    <tr>\n",
       "      <th>id</th>\n",
       "      <th></th>\n",
       "      <th></th>\n",
       "      <th></th>\n",
       "      <th></th>\n",
       "      <th></th>\n",
       "      <th></th>\n",
       "      <th></th>\n",
       "      <th></th>\n",
       "      <th></th>\n",
       "      <th></th>\n",
       "      <th></th>\n",
       "      <th></th>\n",
       "      <th></th>\n",
       "      <th></th>\n",
       "      <th></th>\n",
       "      <th></th>\n",
       "      <th></th>\n",
       "      <th></th>\n",
       "      <th></th>\n",
       "      <th></th>\n",
       "      <th></th>\n",
       "    </tr>\n",
       "  </thead>\n",
       "  <tbody>\n",
       "    <tr>\n",
       "      <th>Chilecito</th>\n",
       "      <td>Chilecito, Argentina - Rioja en Bici</td>\n",
       "      <td>2</td>\n",
       "      <td>-67.49520</td>\n",
       "      <td>-29.1598</td>\n",
       "      <td>NaN</td>\n",
       "      <td>NaN</td>\n",
       "      <td>NaN</td>\n",
       "      <td>Chilecito - Rioja en Bici</td>\n",
       "      <td></td>\n",
       "      <td>None</td>\n",
       "      <td>...</td>\n",
       "      <td></td>\n",
       "      <td>None</td>\n",
       "      <td>None</td>\n",
       "      <td>None</td>\n",
       "      <td></td>\n",
       "      <td></td>\n",
       "      <td></td>\n",
       "      <td></td>\n",
       "      <td></td>\n",
       "      <td></td>\n",
       "    </tr>\n",
       "    <tr>\n",
       "      <th>Cycle!</th>\n",
       "      <td>Glens Falls, Queensbury and Lake George, Unite...</td>\n",
       "      <td>1</td>\n",
       "      <td>-73.64500</td>\n",
       "      <td>43.3094</td>\n",
       "      <td>20.0</td>\n",
       "      <td>NaN</td>\n",
       "      <td>NaN</td>\n",
       "      <td>Glens Falls, Queensbury and Lake George -</td>\n",
       "      <td></td>\n",
       "      <td>20</td>\n",
       "      <td>...</td>\n",
       "      <td></td>\n",
       "      <td>208614</td>\n",
       "      <td>None</td>\n",
       "      <td>None</td>\n",
       "      <td></td>\n",
       "      <td>CDPHP</td>\n",
       "      <td></td>\n",
       "      <td></td>\n",
       "      <td>https://poststar.com/news/local/bike-sharing-p...</td>\n",
       "      <td></td>\n",
       "    </tr>\n",
       "    <tr>\n",
       "      <th>Gizycko</th>\n",
       "      <td>Gizycko, Poland - GROM</td>\n",
       "      <td>4</td>\n",
       "      <td>21.76840</td>\n",
       "      <td>54.0363</td>\n",
       "      <td>20.0</td>\n",
       "      <td>2018.0</td>\n",
       "      <td>NaN</td>\n",
       "      <td>Gizycko - GROM</td>\n",
       "      <td></td>\n",
       "      <td>20</td>\n",
       "      <td>...</td>\n",
       "      <td></td>\n",
       "      <td>134135</td>\n",
       "      <td>2018-07-23</td>\n",
       "      <td>None</td>\n",
       "      <td></td>\n",
       "      <td>ROOVEE</td>\n",
       "      <td>ROOVEE</td>\n",
       "      <td></td>\n",
       "      <td>https://mazury24.eu/aktualnosci/rowerem-miejsk...</td>\n",
       "      <td></td>\n",
       "    </tr>\n",
       "    <tr>\n",
       "      <th>Kumagaya</th>\n",
       "      <td>Kumagaya, Japan - Wild Knights Cycle</td>\n",
       "      <td>1</td>\n",
       "      <td>139.37400</td>\n",
       "      <td>36.1624</td>\n",
       "      <td>100.0</td>\n",
       "      <td>2021.0</td>\n",
       "      <td>NaN</td>\n",
       "      <td>Kumagaya - Wild Knights Cycle</td>\n",
       "      <td></td>\n",
       "      <td>100</td>\n",
       "      <td>...</td>\n",
       "      <td></td>\n",
       "      <td>1002160</td>\n",
       "      <td>2021-09-16</td>\n",
       "      <td>None</td>\n",
       "      <td></td>\n",
       "      <td></td>\n",
       "      <td></td>\n",
       "      <td></td>\n",
       "      <td>https://kumagaya.keizai.biz/headline/957/</td>\n",
       "      <td></td>\n",
       "    </tr>\n",
       "    <tr>\n",
       "      <th>Maebashi</th>\n",
       "      <td>Maebashi, Japan - Akagi cogbe</td>\n",
       "      <td>1</td>\n",
       "      <td>139.12300</td>\n",
       "      <td>36.4346</td>\n",
       "      <td>NaN</td>\n",
       "      <td>2021.0</td>\n",
       "      <td>NaN</td>\n",
       "      <td>Maebashi - Akagi cogbe</td>\n",
       "      <td></td>\n",
       "      <td>None</td>\n",
       "      <td>...</td>\n",
       "      <td></td>\n",
       "      <td>101700</td>\n",
       "      <td>2021-10-23</td>\n",
       "      <td>None</td>\n",
       "      <td></td>\n",
       "      <td>Ecobike</td>\n",
       "      <td></td>\n",
       "      <td></td>\n",
       "      <td>https://prtimes.jp/main/html/rd/p/000000008.00...</td>\n",
       "      <td></td>\n",
       "    </tr>\n",
       "    <tr>\n",
       "      <th>...</th>\n",
       "      <td>...</td>\n",
       "      <td>...</td>\n",
       "      <td>...</td>\n",
       "      <td>...</td>\n",
       "      <td>...</td>\n",
       "      <td>...</td>\n",
       "      <td>...</td>\n",
       "      <td>...</td>\n",
       "      <td>...</td>\n",
       "      <td>...</td>\n",
       "      <td>...</td>\n",
       "      <td>...</td>\n",
       "      <td>...</td>\n",
       "      <td>...</td>\n",
       "      <td>...</td>\n",
       "      <td>...</td>\n",
       "      <td>...</td>\n",
       "      <td>...</td>\n",
       "      <td>...</td>\n",
       "      <td>...</td>\n",
       "      <td>...</td>\n",
       "    </tr>\n",
       "    <tr>\n",
       "      <th>zurich</th>\n",
       "      <td>Zu00fcrich, Switzerland - Zu00fcri Velo</td>\n",
       "      <td>1</td>\n",
       "      <td>8.53822</td>\n",
       "      <td>47.3823</td>\n",
       "      <td>350.0</td>\n",
       "      <td>2018.0</td>\n",
       "      <td>NaN</td>\n",
       "      <td>Zürich - Züri Velo</td>\n",
       "      <td></td>\n",
       "      <td>350</td>\n",
       "      <td>...</td>\n",
       "      <td></td>\n",
       "      <td>0</td>\n",
       "      <td>2018-04-06</td>\n",
       "      <td>None</td>\n",
       "      <td></td>\n",
       "      <td>Publibike</td>\n",
       "      <td>Publibike</td>\n",
       "      <td></td>\n",
       "      <td></td>\n",
       "      <td></td>\n",
       "    </tr>\n",
       "    <tr>\n",
       "      <th>zurich_lime</th>\n",
       "      <td>Zu00fcrich, Switzerland - Lime</td>\n",
       "      <td>1</td>\n",
       "      <td>8.54105</td>\n",
       "      <td>47.3720</td>\n",
       "      <td>560.0</td>\n",
       "      <td>2018.0</td>\n",
       "      <td>NaN</td>\n",
       "      <td>Zürich - Lime</td>\n",
       "      <td></td>\n",
       "      <td>560</td>\n",
       "      <td>...</td>\n",
       "      <td></td>\n",
       "      <td>0</td>\n",
       "      <td>2018-01-04</td>\n",
       "      <td>None</td>\n",
       "      <td></td>\n",
       "      <td>Lime</td>\n",
       "      <td>Limebike</td>\n",
       "      <td></td>\n",
       "      <td></td>\n",
       "      <td></td>\n",
       "    </tr>\n",
       "    <tr>\n",
       "      <th>zurich_obike</th>\n",
       "      <td>Zu00fcrich, Switzerland - oBike</td>\n",
       "      <td>3</td>\n",
       "      <td>8.54084</td>\n",
       "      <td>47.3676</td>\n",
       "      <td>700.0</td>\n",
       "      <td>2017.0</td>\n",
       "      <td>2018.0</td>\n",
       "      <td>Zürich - oBike</td>\n",
       "      <td></td>\n",
       "      <td>700</td>\n",
       "      <td>...</td>\n",
       "      <td></td>\n",
       "      <td>0</td>\n",
       "      <td>2017-07-07</td>\n",
       "      <td>2018-06-29</td>\n",
       "      <td></td>\n",
       "      <td></td>\n",
       "      <td></td>\n",
       "      <td></td>\n",
       "      <td></td>\n",
       "      <td></td>\n",
       "    </tr>\n",
       "    <tr>\n",
       "      <th>zurich_smide</th>\n",
       "      <td>Zu00fcrich, Switzerland - bond</td>\n",
       "      <td>1</td>\n",
       "      <td>8.53964</td>\n",
       "      <td>47.3707</td>\n",
       "      <td>250.0</td>\n",
       "      <td>2016.0</td>\n",
       "      <td>NaN</td>\n",
       "      <td>Zürich - bond</td>\n",
       "      <td></td>\n",
       "      <td>250</td>\n",
       "      <td>...</td>\n",
       "      <td></td>\n",
       "      <td>0</td>\n",
       "      <td>2016-11-10</td>\n",
       "      <td>None</td>\n",
       "      <td></td>\n",
       "      <td>Bond Mobility</td>\n",
       "      <td>Smide</td>\n",
       "      <td></td>\n",
       "      <td></td>\n",
       "      <td></td>\n",
       "    </tr>\n",
       "    <tr>\n",
       "      <th>zyrardow</th>\n",
       "      <td>u017byrardu00f3w, Poland - u017byrardowski Row...</td>\n",
       "      <td>4</td>\n",
       "      <td>20.44610</td>\n",
       "      <td>52.0516</td>\n",
       "      <td>40.0</td>\n",
       "      <td>2018.0</td>\n",
       "      <td>NaN</td>\n",
       "      <td>Żyrardów - Żyrardowski Rower Miejski</td>\n",
       "      <td></td>\n",
       "      <td>40</td>\n",
       "      <td>...</td>\n",
       "      <td></td>\n",
       "      <td>0</td>\n",
       "      <td>2018-10-01</td>\n",
       "      <td>None</td>\n",
       "      <td>https://bikesharemap.com/zyrardow/</td>\n",
       "      <td>Nextbike Poland</td>\n",
       "      <td>Nextbike</td>\n",
       "      <td></td>\n",
       "      <td></td>\n",
       "      <td></td>\n",
       "    </tr>\n",
       "  </tbody>\n",
       "</table>\n",
       "<p>3319 rows × 25 columns</p>\n",
       "</div>"
      ],
      "text/plain": [
       "                                                   name_station  \\\n",
       "id                                                                \n",
       "Chilecito                  Chilecito, Argentina - Rioja en Bici   \n",
       "Cycle!        Glens Falls, Queensbury and Lake George, Unite...   \n",
       "Gizycko                                  Gizycko, Poland - GROM   \n",
       "Kumagaya                   Kumagaya, Japan - Wild Knights Cycle   \n",
       "Maebashi                          Maebashi, Japan - Akagi cogbe   \n",
       "...                                                         ...   \n",
       "zurich                  Zu00fcrich, Switzerland - Zu00fcri Velo   \n",
       "zurich_lime                      Zu00fcrich, Switzerland - Lime   \n",
       "zurich_obike                    Zu00fcrich, Switzerland - oBike   \n",
       "zurich_smide                     Zu00fcrich, Switzerland - bond   \n",
       "zyrardow      u017byrardu00f3w, Poland - u017byrardowski Row...   \n",
       "\n",
       "              num_of_stations        lon      lat  num_of_bikes  launch  \\\n",
       "id                                                                        \n",
       "Chilecito                   2  -67.49520 -29.1598           NaN     NaN   \n",
       "Cycle!                      1  -73.64500  43.3094          20.0     NaN   \n",
       "Gizycko                     4   21.76840  54.0363          20.0  2018.0   \n",
       "Kumagaya                    1  139.37400  36.1624         100.0  2021.0   \n",
       "Maebashi                    1  139.12300  36.4346           NaN  2021.0   \n",
       "...                       ...        ...      ...           ...     ...   \n",
       "zurich                      1    8.53822  47.3823         350.0  2018.0   \n",
       "zurich_lime                 1    8.54105  47.3720         560.0  2018.0   \n",
       "zurich_obike                3    8.54084  47.3676         700.0  2017.0   \n",
       "zurich_smide                1    8.53964  47.3707         250.0  2016.0   \n",
       "zyrardow                    4   20.44610  52.0516          40.0  2018.0   \n",
       "\n",
       "              terminated                                city_company a  bikes  \\\n",
       "id                                                                              \n",
       "Chilecito            NaN                   Chilecito - Rioja en Bici     None   \n",
       "Cycle!               NaN  Glens Falls, Queensbury and Lake George -        20   \n",
       "Gizycko              NaN                              Gizycko - GROM       20   \n",
       "Kumagaya             NaN               Kumagaya - Wild Knights Cycle      100   \n",
       "Maebashi             NaN                      Maebashi - Akagi cogbe     None   \n",
       "...                  ...                                         ... ..   ...   \n",
       "zurich               NaN                          Zürich - Züri Velo      350   \n",
       "zurich_lime          NaN                               Zürich - Lime      560   \n",
       "zurich_obike      2018.0                              Zürich - oBike      700   \n",
       "zurich_smide         NaN                               Zürich - bond      250   \n",
       "zyrardow             NaN        Żyrardów - Żyrardowski Rower Miejski       40   \n",
       "\n",
       "              ... d   working date_launch date_terminated  \\\n",
       "id            ...                                           \n",
       "Chilecito     ...        None        None            None   \n",
       "Cycle!        ...      208614        None            None   \n",
       "Gizycko       ...      134135  2018-07-23            None   \n",
       "Kumagaya      ...     1002160  2021-09-16            None   \n",
       "Maebashi      ...      101700  2021-10-23            None   \n",
       "...           ... ..      ...         ...             ...   \n",
       "zurich        ...           0  2018-04-06            None   \n",
       "zurich_lime   ...           0  2018-01-04            None   \n",
       "zurich_obike  ...           0  2017-07-07      2018-06-29   \n",
       "zurich_smide  ...           0  2016-11-10            None   \n",
       "zyrardow      ...           0  2018-10-01            None   \n",
       "\n",
       "                                               e          operator  equipment  \\\n",
       "id                                                                              \n",
       "Chilecito                                                                       \n",
       "Cycle!                                                       CDPHP              \n",
       "Gizycko                                                     ROOVEE     ROOVEE   \n",
       "Kumagaya                                                                        \n",
       "Maebashi                                                   Ecobike              \n",
       "...                                          ...               ...        ...   \n",
       "zurich                                                   Publibike  Publibike   \n",
       "zurich_lime                                                   Lime   Limebike   \n",
       "zurich_obike                                                                    \n",
       "zurich_smide                                         Bond Mobility      Smide   \n",
       "zyrardow      https://bikesharemap.com/zyrardow/  Nextbike Poland   Nextbike    \n",
       "\n",
       "             f                                                 pic g   \n",
       "id                                                                     \n",
       "Chilecito                                                              \n",
       "Cycle!           https://poststar.com/news/local/bike-sharing-p...     \n",
       "Gizycko          https://mazury24.eu/aktualnosci/rowerem-miejsk...     \n",
       "Kumagaya                 https://kumagaya.keizai.biz/headline/957/     \n",
       "Maebashi         https://prtimes.jp/main/html/rd/p/000000008.00...     \n",
       "...          ..                                                ... ..  \n",
       "zurich                                                                 \n",
       "zurich_lime                                                            \n",
       "zurich_obike                                                           \n",
       "zurich_smide                                                           \n",
       "zyrardow                                                               \n",
       "\n",
       "[3319 rows x 25 columns]"
      ]
     },
     "execution_count": 203,
     "metadata": {},
     "output_type": "execute_result"
    }
   ],
   "source": [
    "df3"
   ]
  },
  {
   "cell_type": "code",
   "execution_count": 204,
   "id": "38b16dbe-8514-4461-b447-689851dd7bb5",
   "metadata": {},
   "outputs": [
    {
     "data": {
      "text/plain": [
       "Index(['name_station', 'num_of_stations', 'lon', 'lat', 'num_of_bikes',\n",
       "       'launch', 'terminated', 'city_company', 'a', 'bikes', 'stations',\n",
       "       'inc_pedelecs', 'b', 'c', 'web_company', 'd', 'working', 'date_launch',\n",
       "       'date_terminated', 'e', 'operator', 'equipment', 'f', 'pic', 'g'],\n",
       "      dtype='object')"
      ]
     },
     "execution_count": 204,
     "metadata": {},
     "output_type": "execute_result"
    }
   ],
   "source": [
    "df3.columns"
   ]
  },
  {
   "cell_type": "code",
   "execution_count": 215,
   "id": "5b01e337-e33f-4e1f-832c-7cf7439c6393",
   "metadata": {},
   "outputs": [
    {
     "data": {
      "text/plain": [
       "lon    float64\n",
       "lat    float64\n",
       "dtype: object"
      ]
     },
     "execution_count": 215,
     "metadata": {},
     "output_type": "execute_result"
    }
   ],
   "source": [
    "df3.loc[:, [\"lon\", \"lat\"]].dtypes"
   ]
  },
  {
   "cell_type": "code",
   "execution_count": 235,
   "id": "5a81b583-c0f8-4b1d-b7bc-e6de6a4406ee",
   "metadata": {},
   "outputs": [],
   "source": [
    "#df3.to_excel(\"df3_Company_Points_bikesharingworldmap.xlsx\")"
   ]
  },
  {
   "cell_type": "code",
   "execution_count": 230,
   "id": "73a3d81b-1aa3-4a0d-8e40-0b49ff88b903",
   "metadata": {},
   "outputs": [
    {
     "name": "stderr",
     "output_type": "stream",
     "text": [
      "C:\\Users\\Milan\\anaconda3\\lib\\site-packages\\geopandas\\geodataframe.py:35: ShapelyDeprecationWarning: The array interface is deprecated and will no longer work in Shapely 2.0. Convert the '.coords' to a numpy array instead.\n",
      "  out = from_shapely(data)\n"
     ]
    }
   ],
   "source": [
    "geometry = [Point(LonLat) for LonLat in zip(df3.lon, df3.lat)]\n",
    "crs = {'init': 'epsg:4326'}\n",
    "geo_df = GeoDataFrame(df3, crs=crs, geometry=geometry)\n",
    "\n",
    "#geo_df.to_file(driver='ESRI Shapefile', filename='Company_Points_bikesharingworldmap.shp')"
   ]
  },
  {
   "cell_type": "code",
   "execution_count": null,
   "id": "a276abf1-a5b6-43f9-bc49-471b394cd644",
   "metadata": {},
   "outputs": [],
   "source": []
  }
 ],
 "metadata": {
  "kernelspec": {
   "display_name": "general_py_venv",
   "language": "python",
   "name": "general_py_venv"
  },
  "language_info": {
   "codemirror_mode": {
    "name": "ipython",
    "version": 3
   },
   "file_extension": ".py",
   "mimetype": "text/x-python",
   "name": "python",
   "nbconvert_exporter": "python",
   "pygments_lexer": "ipython3",
   "version": "3.10.7"
  }
 },
 "nbformat": 4,
 "nbformat_minor": 5
}
