{
 "cells": [
  {
   "cell_type": "code",
   "execution_count": 1,
   "metadata": {},
   "outputs": [
    {
     "data": {
      "text/html": [
       "<div class='gpresult'><h2>Messages</h2><div id='messages' data-messages='[\"Start Time: pondělí 8. srpna 2022 1:09:16\",\"Succeeded at pondělí 8. srpna 2022 1:09:24 (Elapsed Time: 8,28 seconds)\"]' data-show='true'><div id = 'default' /></div></div>"
      ],
      "text/plain": [
       "<Result 'E:\\\\ESF MU\\\\Bikesharing\\\\ESF_data\\\\ESF_data_view\\\\Default.gdb\\\\CZ_roads_IInd_IIIrd_class_ele_sl'>"
      ]
     },
     "execution_count": 1,
     "metadata": {},
     "output_type": "execute_result"
    }
   ],
   "source": [
    "arcpy.FeatureClassToFeatureClass_conversion(\"CZ_roads_IInd_IIIrd_class_ele\", \n",
    "                                            \"E:\\ESF MU\\Bikesharing\\ESF_data\\ESF_data_view\\Default.gdb\", \n",
    "                                            \"CZ_roads_IInd_IIIrd_class_ele_sl\")"
   ]
  },
  {
   "cell_type": "code",
   "execution_count": null,
   "metadata": {},
   "outputs": [],
   "source": []
  }
 ],
 "metadata": {
  "kernelspec": {
   "display_name": "ArcGISPro",
   "language": "Python",
   "name": "python3"
  },
  "language_info": {
   "file_extension": ".py",
   "name": "python",
   "version": "3"
  }
 },
 "nbformat": 4,
 "nbformat_minor": 2
}
