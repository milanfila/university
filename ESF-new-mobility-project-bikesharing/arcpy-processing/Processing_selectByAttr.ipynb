{
 "cells": [
  {
   "cell_type": "code",
   "execution_count": null,
   "metadata": {},
   "outputs": [],
   "source": [
    "import pandas as pd\n",
    "from datetime import datetime\n",
    "from arcpy.sa import *\n",
    "import sys,os"
   ]
  },
  {
   "cell_type": "code",
   "execution_count": null,
   "metadata": {},
   "outputs": [],
   "source": [
    "path = os.path.realpath('.......')\n",
    "files = os.listdir()\n",
    "curDir = os.getcwd()\n",
    "path_curDir_files = [os.path.join(curDir, file) for file in files]\n",
    "num_files = range(len(files))\n",
    "path_file_dic = {k:v for (k,v) in zip(files,path_curDir_files)}"
   ]
  },
  {
   "cell_type": "code",
   "execution_count": null,
   "metadata": {},
   "outputs": [],
   "source": [
    "path_file_dic"
   ]
  },
  {
   "cell_type": "code",
   "execution_count": null,
   "metadata": {},
   "outputs": [],
   "source": [
    "# for file in files:\n",
    "#     print(os.path.join(curDir,file))"
   ]
  },
  {
   "cell_type": "code",
   "execution_count": null,
   "metadata": {},
   "outputs": [],
   "source": [
    "path_file[\"MBG_units_characteristics.gdb\"]"
   ]
  },
  {
   "cell_type": "code",
   "execution_count": null,
   "metadata": {
    "scrolled": true
   },
   "outputs": [],
   "source": [
    "# help(os)"
   ]
  },
  {
   "cell_type": "markdown",
   "metadata": {},
   "source": [
    "### TO DO\n",
    "\n",
    "- Union Municipalities by GISCO ID, Sum of inhabitants\n",
    "- Elevation\n",
    "- Slope\n",
    "- Area\n",
    "- Distance from closest sea\n",
    "- Join Company points\n",
    "- Length of cycleway"
   ]
  },
  {
   "cell_type": "markdown",
   "metadata": {},
   "source": [
    "### Data preparation"
   ]
  },
  {
   "cell_type": "code",
   "execution_count": null,
   "metadata": {},
   "outputs": [],
   "source": [
    "arcpy.env.workspace"
   ]
  },
  {
   "cell_type": "code",
   "execution_count": null,
   "metadata": {},
   "outputs": [],
   "source": [
    "arcpy.Exists(\"vzorek_cities\")"
   ]
  },
  {
   "cell_type": "code",
   "execution_count": null,
   "metadata": {},
   "outputs": [],
   "source": [
    "[f.name for f in arcpy.ListFields(\"MUNIeu_info_all_ETRS_LCC\")]"
   ]
  },
  {
   "cell_type": "code",
   "execution_count": null,
   "metadata": {},
   "outputs": [],
   "source": [
    "# Creating list of IDs flom Excel for selection of municipalities\n",
    "vzorek_cities = r'E:\\ESF_data\\vzorek_cities.xlsx'\n",
    "read_vzorek_cities = pd.read_excel(vzorek_cities)\n",
    "df_vzorek_cities = pd.DataFrame(read_vzorek_cities)\n",
    "IDs_vzorek_cities = df_vzorek_cities[\"GISCO_ID\"].tolist()"
   ]
  },
  {
   "cell_type": "code",
   "execution_count": null,
   "metadata": {
    "scrolled": false
   },
   "outputs": [],
   "source": [
    "df_vzorek_cities.axes"
   ]
  },
  {
   "cell_type": "code",
   "execution_count": null,
   "metadata": {
    "scrolled": true
   },
   "outputs": [],
   "source": [
    "\"CZ_554782\" in IDs_vzorek_cities"
   ]
  },
  {
   "cell_type": "code",
   "execution_count": null,
   "metadata": {},
   "outputs": [],
   "source": [
    "IDs_vzorek_cities.remove(\"CZ_554782\")"
   ]
  },
  {
   "cell_type": "code",
   "execution_count": null,
   "metadata": {},
   "outputs": [],
   "source": [
    "# First selection by ID from list (Excel)\n",
    "arcpy.management.SelectLayerByAttribute(\"MUNIeu_info_all_ETRS_LCC\", \"NEW_SELECTION\", \"MUNIeu_info_all_ETRS_LCC.all__GISCO = 'CZ_554782'\", None)"
   ]
  },
  {
   "cell_type": "code",
   "execution_count": null,
   "metadata": {},
   "outputs": [],
   "source": [
    "len(IDs_vzorek_cities)"
   ]
  },
  {
   "cell_type": "code",
   "execution_count": null,
   "metadata": {},
   "outputs": [],
   "source": [
    "#temp_lst = [\"AT_10408\", \"AT_10420\", \"AT_10422\"]"
   ]
  },
  {
   "cell_type": "code",
   "execution_count": null,
   "metadata": {},
   "outputs": [],
   "source": [
    "\"\"\"\n",
    "nefunguje\n",
    "start_time = datetime.now()\n",
    "\n",
    "for id_ in temp_lst[:]:\n",
    "    #select = \"'all__GISCO' = '{}'\".format(id_)\n",
    "    #select = \"'all__GISCO' = 'CZ_554782'\"\n",
    "    #arcpy.SelectLayerByAttribute_management(\"MUNIeu_info_all_ETRS_LCC\", \"ADD_TO_SELECTION\", where_clause=select)\n",
    "    arcpy.management.SelectLayerByAttribute(\"MUNIeu_info_all_ETRS_LCC\", \"ADD_TO_SELECTION\", \"MUNIeu_info_all_ETRS_LCC.all__GISCO = 'id_'\", None)\n",
    "\n",
    "    \n",
    "end_time = datetime.now()\n",
    "print('Duration: {}'.format(end_time - start_time))\n",
    "\"\"\""
   ]
  },
  {
   "cell_type": "code",
   "execution_count": null,
   "metadata": {},
   "outputs": [],
   "source": [
    "#arcpy.management.SelectLayerByAttribute(\"MUNIeu_info_all_ETRS_LCC\", \"ADD_TO_SELECTION\", \"MUNIeu_info_all_ETRS_LCC.all__GISCO = 'CZ_554782'\", None)"
   ]
  },
  {
   "cell_type": "code",
   "execution_count": null,
   "metadata": {},
   "outputs": [],
   "source": [
    "# Next selection by ID from list of IDs (Excel)\n",
    "print(\"Start:\", datetime.now())\n",
    "start_time = datetime.now()\n",
    "\n",
    "\n",
    "fc = \"MUNIeu_info_all_ETRS_LCC\"\n",
    "for id_ in IDs_vzorek_cities:\n",
    "    field = arcpy.AddFieldDelimiters(fc, \"all__GISCO\")\n",
    "    selection = \"{field} = '{val}'\".format(field=field, val=id_)\n",
    "    arcpy.SelectLayerByAttribute_management(fc, \"ADD_TO_SELECTION\", selection)\n",
    "    \n",
    "end_time = datetime.now()\n",
    "print('Duration: {}'.format(end_time - start_time))\n",
    "print(\"End:\", datetime.now())"
   ]
  },
  {
   "cell_type": "code",
   "execution_count": null,
   "metadata": {},
   "outputs": [],
   "source": [
    "#arcpy.CreateFileGDB_management(\"E:\\ESF_data\\ESF_data_view\", \"EU_units_characteristics_2.gdb\")"
   ]
  },
  {
   "cell_type": "code",
   "execution_count": null,
   "metadata": {},
   "outputs": [],
   "source": [
    "# Export selected Features\n",
    "arcpy.FeatureClassToFeatureClass_conversion(fc, \n",
    "                                            \"E:\\ESF_data\\ESF_data_view\\data_prep_vzorek_cities.gdb\", \n",
    "                                            \"vzorek_cities\")"
   ]
  },
  {
   "cell_type": "markdown",
   "metadata": {
    "heading_collapsed": true
   },
   "source": [
    "# Administrative units"
   ]
  },
  {
   "cell_type": "markdown",
   "metadata": {
    "heading_collapsed": true,
    "hidden": true
   },
   "source": [
    "### Union Municipalities by GISCO ID, Sum of inhabitants"
   ]
  },
  {
   "cell_type": "code",
   "execution_count": null,
   "metadata": {
    "hidden": true
   },
   "outputs": [],
   "source": [
    "arcpy.Exists(\"vzorek_cities\")"
   ]
  },
  {
   "cell_type": "code",
   "execution_count": null,
   "metadata": {
    "hidden": true
   },
   "outputs": [],
   "source": [
    "[f.name for f in arcpy.ListFields(\"vzorek_cities\")]"
   ]
  },
  {
   "cell_type": "code",
   "execution_count": null,
   "metadata": {
    "hidden": true
   },
   "outputs": [],
   "source": [
    "# Union of municipalities by IDs, suma of population (2020)\n",
    "#with arcpy.EnvManager(scratchWorkspace=r\"E:\\ESF_data\\ESF_data_view\\Default.gdb\", workspace=r\"E:\\ESF_data\\ESF_data_view\\Default.gdb\"):\n",
    "arcpy.management.Dissolve(\"vzorek_cities\", r\"E:\\ESF_data\\ESF_data_view\\data_prep_vzorek_cities.gdb\\vzorek_cities_dissGISCO\", \"all__GISCO;all__LAU18\", \"all__pop20 SUM\", \"MULTI_PART\", \"DISSOLVE_LINES\")"
   ]
  },
  {
   "cell_type": "markdown",
   "metadata": {
    "heading_collapsed": true,
    "hidden": true
   },
   "source": [
    "### Elevation"
   ]
  },
  {
   "cell_type": "code",
   "execution_count": null,
   "metadata": {
    "hidden": true
   },
   "outputs": [],
   "source": [
    "arcpy.ia.ZonalStatisticsAsTable(\"vzorek_cities_dissGISCO\", \"all__GISCO\", \"EU_DTM_Lamb\", r\"E:\\ESF_data\\ESF_data_view\\data_prep_vzorek_cities.gdb\\vzorek_cities_Ele\", \"DATA\", \"MIN_MAX_MEAN\", \"CURRENT_SLICE\", 90, \"AUTO_DETECT\")"
   ]
  },
  {
   "cell_type": "code",
   "execution_count": null,
   "metadata": {
    "hidden": true
   },
   "outputs": [],
   "source": [
    "arcpy.management.AddJoin(\"vzorek_cities_dissGISCO\", \"all__GISCO\", \"vzorek_cities_Ele\", \"all__GISCO\", \"KEEP_ALL\", \"INDEX_JOIN_FIELDS\")"
   ]
  },
  {
   "cell_type": "code",
   "execution_count": null,
   "metadata": {
    "hidden": true
   },
   "outputs": [],
   "source": [
    "arcpy.FeatureClassToFeatureClass_conversion(\"vzorek_cities_dissGISCO\", \n",
    "                                            \"E:\\ESF_data\\ESF_data_view\\data_prep_vzorek_cities.gdb\", \n",
    "                                            \"vzorek_cities_dissGISCO_Ele\")"
   ]
  },
  {
   "cell_type": "markdown",
   "metadata": {
    "heading_collapsed": true,
    "hidden": true
   },
   "source": [
    "### Slope"
   ]
  },
  {
   "cell_type": "code",
   "execution_count": null,
   "metadata": {
    "hidden": true
   },
   "outputs": [],
   "source": [
    "arcpy.ia.ZonalStatisticsAsTable(\"vzorek_cities_dissGISCO_Ele\", \"all__GISCO\", \"EU_DTM_Slope\", r\"E:\\ESF_data\\ESF_data_view\\Default.gdb\\vzorek_cities_Sl\", \"DATA\", \"MIN_MAX_MEAN\", \"CURRENT_SLICE\", 90, \"AUTO_DETECT\")"
   ]
  },
  {
   "cell_type": "code",
   "execution_count": null,
   "metadata": {
    "hidden": true
   },
   "outputs": [],
   "source": [
    "arcpy.management.AddJoin(\"vzorek_cities_dissGISCO_Ele\", \"all__GISCO\", \"vzorek_cities_Sl\", \"all__GISCO\", \"KEEP_ALL\", \"INDEX_JOIN_FIELDS\")"
   ]
  },
  {
   "cell_type": "code",
   "execution_count": null,
   "metadata": {
    "hidden": true,
    "scrolled": true
   },
   "outputs": [],
   "source": [
    "arcpy.FeatureClassToFeatureClass_conversion(\"vzorek_cities_dissGISCO_Ele\", \n",
    "                                            \"E:\\ESF_data\\ESF_data_view\\data_prep_vzorek_cities.gdb\", \n",
    "                                            \"vzorek_cities_dissGISCO_Ele_Sl\")"
   ]
  },
  {
   "cell_type": "code",
   "execution_count": null,
   "metadata": {
    "hidden": true
   },
   "outputs": [],
   "source": []
  },
  {
   "cell_type": "markdown",
   "metadata": {
    "heading_collapsed": true,
    "hidden": true
   },
   "source": [
    "### Area"
   ]
  },
  {
   "cell_type": "code",
   "execution_count": null,
   "metadata": {
    "hidden": true
   },
   "outputs": [],
   "source": [
    "\"\"\"\n",
    "cursor = arcpy.SearchCursor(fc1)\n",
    "for row in cursor:\n",
    "    print(row.getValue(\"all__LAU18\"), end=\" \")\n",
    "    print(row.getValue(\"Area\"), end=\" \")\n",
    "    print(row.getValue(\"Area_1\"))\n",
    "\"\"\""
   ]
  },
  {
   "cell_type": "code",
   "execution_count": null,
   "metadata": {
    "hidden": true
   },
   "outputs": [],
   "source": [
    "arcpy.management.AddField(\"vzorek_cities_dissGISCO_Ele_Sl\", \"Area_km\", \"DOUBLE\", 10, 2, None, \"Area_km\", \"NULLABLE\", \"NON_REQUIRED\", '')"
   ]
  },
  {
   "cell_type": "code",
   "execution_count": null,
   "metadata": {
    "hidden": true
   },
   "outputs": [],
   "source": [
    "arcpy.management.CalculateGeometryAttributes(\"vzorek_cities_dissGISCO_Ele_Sl\", \"Area_km AREA\", '', \"SQUARE_KILOMETERS\", 'PROJCS[\"Europe_Lambert_Conformal_Conic\",GEOGCS[\"GCS_European_1950\",DATUM[\"D_European_1950\",SPHEROID[\"International_1924\",6378388.0,297.0]],PRIMEM[\"Greenwich\",0.0],UNIT[\"Degree\",0.0174532925199433]],PROJECTION[\"Lambert_Conformal_Conic\"],PARAMETER[\"False_Easting\",0.0],PARAMETER[\"False_Northing\",0.0],PARAMETER[\"Central_Meridian\",10.0],PARAMETER[\"Standard_Parallel_1\",43.0],PARAMETER[\"Standard_Parallel_2\",62.0],PARAMETER[\"Latitude_Of_Origin\",30.0],UNIT[\"Meter\",1.0]]', \"SAME_AS_INPUT\")"
   ]
  },
  {
   "cell_type": "code",
   "execution_count": null,
   "metadata": {
    "hidden": true
   },
   "outputs": [],
   "source": [
    "\"\"\"\n",
    "\n",
    "fc1 = \"vzorek_cities_dissGISCO_Ele_Sl\"\n",
    "fields = [f.name for f in arcpy.ListFields(fc1)]\n",
    "with arcpy.da.UpdateCursor(fc, fields) as cur:\n",
    "    for row in cur:\n",
    "        row.setValue(\"AREA_km\", row.getValue(\"AREA\") / 1000000)\n",
    "        rows.updateRow(row)\n",
    "\n",
    "del row\n",
    "del rows\n",
    "\"\"\""
   ]
  },
  {
   "cell_type": "code",
   "execution_count": null,
   "metadata": {
    "hidden": true
   },
   "outputs": [],
   "source": []
  },
  {
   "cell_type": "code",
   "execution_count": null,
   "metadata": {
    "hidden": true
   },
   "outputs": [],
   "source": []
  },
  {
   "cell_type": "markdown",
   "metadata": {
    "heading_collapsed": true,
    "hidden": true
   },
   "source": [
    "### Cycleway lenght"
   ]
  },
  {
   "cell_type": "code",
   "execution_count": null,
   "metadata": {
    "hidden": true
   },
   "outputs": [],
   "source": [
    "arcpy.analysis.SummarizeWithin(\"vzorek_cities_dissGISCO_Ele_Sl\", \"cycleway_LCC\", r\"E:\\ESF_data\\ESF_data_view\\data_prep_vzorek_cities.gdb\\vzorek_cities_dissGISCO_Ele_Sl_Cycl\", \"KEEP_ALL\", \"Shape_Length Sum\", \"ADD_SHAPE_SUM\", \"KILOMETERS\", None, \"NO_MIN_MAJ\", \"NO_PERCENT\", None)"
   ]
  },
  {
   "cell_type": "markdown",
   "metadata": {
    "heading_collapsed": true,
    "hidden": true
   },
   "source": [
    "### Distance from closest sea"
   ]
  },
  {
   "cell_type": "code",
   "execution_count": null,
   "metadata": {
    "hidden": true
   },
   "outputs": [],
   "source": [
    "arcpy.analysis.Near(\"vzorek_cities_dissGISCO_Ele_Sl_Cycl\", \"CoastL\", None, \"LOCATION\", \"ANGLE\", \"PLANAR\", \"NEAR_FID NEAR_FID;NEAR_DIST NEAR_DIST_m;NEAR_X NEAR_X;NEAR_Y NEAR_Y;NEAR_ANGLE NEAR_ANGLE\")"
   ]
  },
  {
   "cell_type": "code",
   "execution_count": null,
   "metadata": {
    "hidden": true
   },
   "outputs": [],
   "source": []
  },
  {
   "cell_type": "markdown",
   "metadata": {
    "heading_collapsed": true,
    "hidden": true
   },
   "source": [
    "### BikeShareMap - get number of stations (SpatialJoin)"
   ]
  },
  {
   "cell_type": "code",
   "execution_count": null,
   "metadata": {
    "hidden": true
   },
   "outputs": [],
   "source": [
    "arcpy.analysis.SpatialJoin(\"vzorek_cities_dissGISCO_Ele_Sl_Cycl\", \"BikeSharing_stations\", r\"E:\\ESF_data\\ESF_data_view\\data_prep_vzorek_cities.gdb\\vzorek_cities_dissGISCO_Ele_Sl_Cycl_Stat\", \"JOIN_ONE_TO_ONE\", \"KEEP_ALL\", 'all__GISCO \"all__GISCO\" true true false 254 Text 0 0,First,#,vzorek_cities_dissGISCO_Ele_Sl_Cycl,all__GISCO,0,254;all__LAU18 \"all__LAU18\" true true false 254 Text 0 0,First,#,vzorek_cities_dissGISCO_Ele_Sl_Cycl,all__LAU18,0,254;SUM_all__pop20 \"SUM_all__pop20\" true true false 8 Double 0 0,First,#,vzorek_cities_dissGISCO_Ele_Sl_Cycl,SUM_all__pop20,-1,-1;OBJECTID \"OBJECTID\" true true false 4 Long 0 0,First,#,vzorek_cities_dissGISCO_Ele_Sl_Cycl,OBJECTID,-1,-1;all__GISCO_1 \"Ele_all__GISCO\" true true false 254 Text 0 0,First,#,vzorek_cities_dissGISCO_Ele_Sl_Cycl,all__GISCO_1,0,254;ZONE_CODE \"Ele_ZONE_CODE\" true true false 4 Long 0 0,First,#,vzorek_cities_dissGISCO_Ele_Sl_Cycl,ZONE_CODE,-1,-1;COUNT \"Ele_COUNT\" true true false 8 Double 0 0,First,#,vzorek_cities_dissGISCO_Ele_Sl_Cycl,COUNT,-1,-1;AREA \"Ele_AREA\" true true false 8 Double 0 0,First,#,vzorek_cities_dissGISCO_Ele_Sl_Cycl,AREA,-1,-1;MIN \"Ele_MIN\" true true false 4 Long 0 0,First,#,vzorek_cities_dissGISCO_Ele_Sl_Cycl,MIN,-1,-1;MAX \"Ele_MAX\" true true false 4 Long 0 0,First,#,vzorek_cities_dissGISCO_Ele_Sl_Cycl,MAX,-1,-1;MEAN \"Ele_MEAN\" true true false 8 Double 0 0,First,#,vzorek_cities_dissGISCO_Ele_Sl_Cycl,MEAN,-1,-1;OBJECTID_1 \"OBJECTID\" true true false 4 Long 0 0,First,#,vzorek_cities_dissGISCO_Ele_Sl_Cycl,OBJECTID_1,-1,-1;all__GISCO_12 \"all__GISCO\" true true false 254 Text 0 0,First,#,vzorek_cities_dissGISCO_Ele_Sl_Cycl,all__GISCO_12,0,254;ZONE_CODE_1 \"Sl_ZONE_CODE\" true true false 4 Long 0 0,First,#,vzorek_cities_dissGISCO_Ele_Sl_Cycl,ZONE_CODE_1,-1,-1;COUNT_1 \"Sl_COUNT\" true true false 8 Double 0 0,First,#,vzorek_cities_dissGISCO_Ele_Sl_Cycl,COUNT_1,-1,-1;AREA_1 \"Sl_AREA\" true true false 8 Double 0 0,First,#,vzorek_cities_dissGISCO_Ele_Sl_Cycl,AREA_1,-1,-1;MIN_1 \"Sl_MIN\" true true false 8 Double 0 0,First,#,vzorek_cities_dissGISCO_Ele_Sl_Cycl,MIN_1,-1,-1;MAX_1 \"Sl_MAX\" true true false 8 Double 0 0,First,#,vzorek_cities_dissGISCO_Ele_Sl_Cycl,MAX_1,-1,-1;MEAN_1 \"Sl_MEAN\" true true false 8 Double 0 0,First,#,vzorek_cities_dissGISCO_Ele_Sl_Cycl,MEAN_1,-1,-1;Area_km \"Area_km\" true true false 8 Double 0 0,First,#,vzorek_cities_dissGISCO_Ele_Sl_Cycl,Area_km,-1,-1;Shape_Length \"Shape_Length\" false true true 8 Double 0 0,First,#,vzorek_cities_dissGISCO_Ele_Sl_Cycl,Shape_Length,-1,-1;Shape_Area \"Shape_Area\" false true true 8 Double 0 0,First,#,vzorek_cities_dissGISCO_Ele_Sl_Cycl,Shape_Area,-1,-1;sum_shape_length \"Cycl_length_m\" true true false 8 Double 0 0,First,#,vzorek_cities_dissGISCO_Ele_Sl_Cycl,sum_shape_length,-1,-1;sum_Length_KILOMETERS \"Cycl_length_km\" true true false 8 Double 0 0,First,#,vzorek_cities_dissGISCO_Ele_Sl_Cycl,sum_Length_KILOMETERS,-1,-1;Polyline_Count \"Cycl_Count of Lines\" true true false 4 Long 0 0,First,#,vzorek_cities_dissGISCO_Ele_Sl_Cycl,Polyline_Count,-1,-1;NEAR_FID \"NEAR_FID\" true true false 4 Long 0 0,First,#,vzorek_cities_dissGISCO_Ele_Sl_Cycl,NEAR_FID,-1,-1;NEAR_DIST_m \"NEAR_DIST_m\" true true false 8 Double 0 0,First,#,vzorek_cities_dissGISCO_Ele_Sl_Cycl,NEAR_DIST_m,-1,-1;NEAR_X \"NEAR_X\" true true false 8 Double 0 0,First,#,vzorek_cities_dissGISCO_Ele_Sl_Cycl,NEAR_X,-1,-1;NEAR_Y \"NEAR_Y\" true true false 8 Double 0 0,First,#,vzorek_cities_dissGISCO_Ele_Sl_Cycl,NEAR_Y,-1,-1;NEAR_ANGLE \"NEAR_ANGLE\" true true false 8 Double 0 0,First,#,vzorek_cities_dissGISCO_Ele_Sl_Cycl,NEAR_ANGLE,-1,-1;timestamp_ \"timestamp|\" true true false 80 Text 0 0,First,#,BikeSharing_stations,timestamp_,0,80;name \"name\" true true false 152 Text 0 0,First,#,BikeSharing_stations,name,0,152;lat \"lat\" true true false 80 Text 0 0,First,#,BikeSharing_stations,lat,0,80;lon \"lon\" true true false 80 Text 0 0,First,#,BikeSharing_stations,lon,0,80;bikes \"bikes\" true true false 80 Text 0 0,First,#,BikeSharing_stations,bikes,0,80;spaces \"spaces\" true true false 80 Text 0 0,First,#,BikeSharing_stations,spaces,0,80;installed \"installed\" true true false 80 Text 0 0,First,#,BikeSharing_stations,installed,0,80;locked \"locked\" true true false 80 Text 0 0,First,#,BikeSharing_stations,locked,0,80;temporary \"temporary\" true true false 80 Text 0 0,First,#,BikeSharing_stations,temporary,0,80;total_dock \"total_dock\" true true false 80 Text 0 0,First,#,BikeSharing_stations,total_dock,0,80', \"INTERSECT\", None, '')"
   ]
  },
  {
   "cell_type": "code",
   "execution_count": null,
   "metadata": {
    "hidden": true
   },
   "outputs": [],
   "source": [
    "arcpy.FeatureClassToFeatureClass_conversion(\"vzorek_cities_dissGISCO_Ele_Sl_Cycl_Stat\", \n",
    "                                            \"E:\\ESF_data\\ESF_data_view\\data_prep_vzorek_cities.gdb\", \n",
    "                                            \"EU_units_charac\")"
   ]
  },
  {
   "cell_type": "markdown",
   "metadata": {
    "heading_collapsed": true,
    "hidden": true
   },
   "source": [
    "### Company points (Join)"
   ]
  },
  {
   "cell_type": "code",
   "execution_count": null,
   "metadata": {
    "hidden": true
   },
   "outputs": [],
   "source": [
    "arcpy.analysis.SpatialJoin(\"EU_units_charac\", \"Company_Points_EU\", r\"E:\\ESF_data\\ESF_data_view\\data_prep_vzorek_cities.gdb\\EU_units_charac_companies\", \"JOIN_ONE_TO_MANY\", \"KEEP_ALL\", 'BikeShareMap_stations \"BikeShareMap_stations\" true true false 4 Long 0 0,First,#,EU_units_charac,BikeShareMap_stations,-1,-1;TARGET_FID \"TARGET_FID\" true true false 4 Long 0 0,First,#,EU_units_charac,TARGET_FID,-1,-1;all__GISCO \"all__GISCO\" true true false 254 Text 0 0,First,#,EU_units_charac,all__GISCO,0,254;all__LAU18 \"all__LAU18\" true true false 254 Text 0 0,First,#,EU_units_charac,all__LAU18,0,254;SUM_all__pop20 \"SUM_all__pop20\" true true false 8 Double 0 0,First,#,EU_units_charac,SUM_all__pop20,-1,-1;OBJECTID \"OBJECTID\" true true false 4 Long 0 0,First,#,EU_units_charac,OBJECTID,-1,-1;all__GISCO_1 \"Ele_all__GISCO\" true true false 254 Text 0 0,First,#,EU_units_charac,all__GISCO_1,0,254;ZONE_CODE \"Ele_ZONE_CODE\" true true false 4 Long 0 0,First,#,EU_units_charac,ZONE_CODE,-1,-1;COUNT \"Ele_COUNT\" true true false 8 Double 0 0,First,#,EU_units_charac,COUNT,-1,-1;AREA \"Ele_AREA\" true true false 8 Double 0 0,First,#,EU_units_charac,AREA,-1,-1;MIN \"Ele_MIN\" true true false 4 Long 0 0,First,#,EU_units_charac,MIN,-1,-1;MAX \"Ele_MAX\" true true false 4 Long 0 0,First,#,EU_units_charac,MAX,-1,-1;MEAN \"Ele_MEAN\" true true false 8 Double 0 0,First,#,EU_units_charac,MEAN,-1,-1;OBJECTID_1 \"OBJECTID\" true true false 4 Long 0 0,First,#,EU_units_charac,OBJECTID_1,-1,-1;all__GISCO_12 \"all__GISCO\" true true false 254 Text 0 0,First,#,EU_units_charac,all__GISCO_12,0,254;ZONE_CODE_1 \"Sl_ZONE_CODE\" true true false 4 Long 0 0,First,#,EU_units_charac,ZONE_CODE_1,-1,-1;COUNT_1 \"Sl_COUNT\" true true false 8 Double 0 0,First,#,EU_units_charac,COUNT_1,-1,-1;AREA_1 \"Sl_AREA\" true true false 8 Double 0 0,First,#,EU_units_charac,AREA_1,-1,-1;MIN_1 \"Sl_MIN\" true true false 8 Double 0 0,First,#,EU_units_charac,MIN_1,-1,-1;MAX_1 \"Sl_MAX\" true true false 8 Double 0 0,First,#,EU_units_charac,MAX_1,-1,-1;MEAN_1 \"Sl_MEAN\" true true false 8 Double 0 0,First,#,EU_units_charac,MEAN_1,-1,-1;Area_km \"Area_km\" true true false 8 Double 0 0,First,#,EU_units_charac,Area_km,-1,-1;sum_shape_length \"Cycl_length_m\" true true false 8 Double 0 0,First,#,EU_units_charac,sum_shape_length,-1,-1;sum_Length_KILOMETERS \"Cycl_length_km\" true true false 8 Double 0 0,First,#,EU_units_charac,sum_Length_KILOMETERS,-1,-1;Polyline_Count \"Cycl_Count of Lines\" true true false 4 Long 0 0,First,#,EU_units_charac,Polyline_Count,-1,-1;NEAR_FID \"NEAR_FID\" true true false 4 Long 0 0,First,#,EU_units_charac,NEAR_FID,-1,-1;NEAR_DIST_m \"NEAR_DIST_m\" true true false 8 Double 0 0,First,#,EU_units_charac,NEAR_DIST_m,-1,-1;NEAR_X \"NEAR_X\" true true false 8 Double 0 0,First,#,EU_units_charac,NEAR_X,-1,-1;NEAR_Y \"NEAR_Y\" true true false 8 Double 0 0,First,#,EU_units_charac,NEAR_Y,-1,-1;NEAR_ANGLE \"NEAR_ANGLE\" true true false 8 Double 0 0,First,#,EU_units_charac,NEAR_ANGLE,-1,-1;Shape_Length \"Shape_Length\" false true true 8 Double 0 0,First,#,EU_units_charac,Shape_Length,-1,-1;Shape_Area \"Shape_Area\" false true true 8 Double 0 0,First,#,EU_units_charac,Shape_Area,-1,-1;name_stati \"name_stati\" true true false 86 Text 0 0,First,#,Company_Points_EU,name_stati,0,86;num_of_sta \"num_of_sta\" true true false 8 Double 0 0,First,#,Company_Points_EU,num_of_sta,-1,-1;lon \"lon\" true true false 8 Double 0 0,First,#,Company_Points_EU,lon,-1,-1;lat \"lat\" true true false 8 Double 0 0,First,#,Company_Points_EU,lat,-1,-1;num_of_bik \"num_of_bik\" true true false 8 Double 0 0,First,#,Company_Points_EU,num_of_bik,-1,-1;launch \"launch\" true true false 8 Double 0 0,First,#,Company_Points_EU,launch,-1,-1;terminated \"terminated\" true true false 8 Double 0 0,First,#,Company_Points_EU,terminated,-1,-1;city_compa \"city_compa\" true true false 80 Text 0 0,First,#,Company_Points_EU,city_compa,0,80;a \"a\" true true false 150 Text 0 0,First,#,Company_Points_EU,a,0,150;bikes \"bikes\" true true false 80 Text 0 0,First,#,Company_Points_EU,bikes,0,80;stations \"stations\" true true false 80 Text 0 0,First,#,Company_Points_EU,stations,0,80;inc_pedele \"inc_pedele\" true true false 80 Text 0 0,First,#,Company_Points_EU,inc_pedele,0,80;b \"b\" true true false 80 Text 0 0,First,#,Company_Points_EU,b,0,80;c \"c\" true true false 80 Text 0 0,First,#,Company_Points_EU,c,0,80;web_compan \"web_compan\" true true false 139 Text 0 0,First,#,Company_Points_EU,web_compan,0,139;d \"d\" true true false 254 Text 0 0,First,#,Company_Points_EU,d,0,254;working \"working\" true true false 80 Text 0 0,First,#,Company_Points_EU,working,0,80;date_launc \"date_launc\" true true false 80 Text 0 0,First,#,Company_Points_EU,date_launc,0,80;date_termi \"date_termi\" true true false 80 Text 0 0,First,#,Company_Points_EU,date_termi,0,80;e \"e\" true true false 204 Text 0 0,First,#,Company_Points_EU,e,0,204;operator \"operator\" true true false 80 Text 0 0,First,#,Company_Points_EU,operator,0,80;equipment \"equipment\" true true false 80 Text 0 0,First,#,Company_Points_EU,equipment,0,80;f \"f\" true true false 80 Text 0 0,First,#,Company_Points_EU,f,0,80;pic \"pic\" true true false 251 Text 0 0,First,#,Company_Points_EU,pic,0,251;g \"g\" true true false 80 Text 0 0,First,#,Company_Points_EU,g,0,80', \"INTERSECT\", None, '')"
   ]
  },
  {
   "cell_type": "markdown",
   "metadata": {},
   "source": [
    "# Minimum Bounding Geometry (MBG) areas by stations"
   ]
  },
  {
   "cell_type": "markdown",
   "metadata": {},
   "source": [
    "#### Elevation for MBG"
   ]
  },
  {
   "cell_type": "code",
   "execution_count": null,
   "metadata": {
    "scrolled": true
   },
   "outputs": [],
   "source": [
    "arcpy.env.workspace"
   ]
  },
  {
   "cell_type": "code",
   "execution_count": null,
   "metadata": {
    "scrolled": false
   },
   "outputs": [],
   "source": [
    "arcpy.Exists(\"MBG_Pts_units\")"
   ]
  },
  {
   "cell_type": "code",
   "execution_count": null,
   "metadata": {},
   "outputs": [],
   "source": [
    "arcpy.Exists(\"eurolst_clim_bio01.tif\")"
   ]
  },
  {
   "cell_type": "code",
   "execution_count": null,
   "metadata": {},
   "outputs": [],
   "source": [
    "MBG_Pts_units = \"MBG_Pts_units\""
   ]
  },
  {
   "cell_type": "code",
   "execution_count": null,
   "metadata": {},
   "outputs": [],
   "source": [
    "arcpy.ia.ZonalStatisticsAsTable(MBG_Pts_units,\n",
    "                                \"all__GISCO\",\n",
    "                                \"EU_DTM_Lamb\",\n",
    "                                #\"{}\\MBG_tab_Ele\".format(path_file[\"MBG_units_characteristics.gdb\"]),\n",
    "                                f\"{path_file_dic['MBG_units_characteristics.gdb']}\\MBG_tab_Ele\",\n",
    "                                \"DATA\",\n",
    "                                \"MIN_MAX_MEAN\",\n",
    "                                \"CURRENT_SLICE\",\n",
    "                                90,\n",
    "                                \"AUTO_DETECT\"\n",
    "                                )"
   ]
  },
  {
   "cell_type": "code",
   "execution_count": null,
   "metadata": {},
   "outputs": [],
   "source": [
    "arcpy.ia.ZonalStatisticsAsTable(MBG_Pts_units,\n",
    "                                \"all__GISCO\",\n",
    "                                \"EU_DTM_Lamb\",\n",
    "                                r\"E:\\ESF MU\\Bikesharing\\ESF_data\\ESF_data_view\\MBG_units_characteristics.gdb\\MBG_tab_Ele\",\n",
    "                                \"DATA\",\n",
    "                                \"MIN_MAX_MEAN\",\n",
    "                                \"CURRENT_SLICE\",\n",
    "                                90,\n",
    "                                \"AUTO_DETECT\"\n",
    "                                )"
   ]
  },
  {
   "cell_type": "code",
   "execution_count": null,
   "metadata": {},
   "outputs": [],
   "source": [
    "[f.name for f in arcpy.ListFields(MBG_Pts_units)]"
   ]
  },
  {
   "cell_type": "code",
   "execution_count": null,
   "metadata": {},
   "outputs": [],
   "source": [
    "[f.name for f in arcpy.ListFields(\"MBG_tab_Ele\")]"
   ]
  },
  {
   "cell_type": "code",
   "execution_count": null,
   "metadata": {},
   "outputs": [],
   "source": [
    "arcpy.management.AddJoin(MBG_Pts_units,\n",
    "                         \"MUNIeu_info_all_ETRS_LCC_all__GISCO\",\n",
    "                         \"MBG_tab_Ele\",\n",
    "                         \"MUNIeu_info_all_ETRS_LCC_all__GISCO\",\n",
    "                         \"KEEP_ALL\",\n",
    "                         \"INDEX_JOIN_FIELDS\")"
   ]
  },
  {
   "cell_type": "code",
   "execution_count": null,
   "metadata": {},
   "outputs": [],
   "source": [
    "arcpy.FeatureClassToFeatureClass_conversion(MBG_Pts_units, \n",
    "                                            r\"E:\\ESF MU\\Bikesharing\\ESF_data\\ESF_data_view\\MBG_units_characteristics.gdb\", \n",
    "                                            \"MBG_units_Ele\")"
   ]
  },
  {
   "cell_type": "markdown",
   "metadata": {
    "heading_collapsed": true
   },
   "source": [
    "#### Slope for MBG"
   ]
  },
  {
   "cell_type": "code",
   "execution_count": null,
   "metadata": {
    "hidden": true,
    "scrolled": true
   },
   "outputs": [],
   "source": [
    "arcpy.ia.ZonalStatisticsAsTable(\"MBG_units_Ele\",\n",
    "                                \"all__GISCO\",\n",
    "                                \"EU_DTM_Slope\",\n",
    "                                r\"E:\\ESF MU\\Bikesharing\\ESF_data\\ESF_data_view\\MBG_units_characteristics.gdb\\MBG_tab_Sl\",\n",
    "                                \"DATA\",\n",
    "                                \"MIN_MAX_MEAN\",\n",
    "                                \"CURRENT_SLICE\",\n",
    "                                90,\n",
    "                                \"AUTO_DETECT\")"
   ]
  },
  {
   "cell_type": "code",
   "execution_count": null,
   "metadata": {
    "hidden": true
   },
   "outputs": [],
   "source": [
    "[f.name for f in arcpy.ListFields(\"MBG_units_Ele\")]"
   ]
  },
  {
   "cell_type": "code",
   "execution_count": null,
   "metadata": {
    "hidden": true
   },
   "outputs": [],
   "source": [
    "[f.name for f in arcpy.ListFields(\"MBG_tab_Sl\")]"
   ]
  },
  {
   "cell_type": "code",
   "execution_count": null,
   "metadata": {
    "hidden": true,
    "scrolled": true
   },
   "outputs": [],
   "source": [
    "arcpy.management.AddJoin(\"MBG_units_Ele\",\n",
    "                         \"MUNIeu_info_all_ETRS_LCC_all__GISCO\",\n",
    "                         \"MBG_tab_Sl\",\n",
    "                         \"MUNIeu_info_all_ETRS_LCC_all__GISCO\",\n",
    "                         \"KEEP_ALL\",\n",
    "                         \"INDEX_JOIN_FIELDS\")"
   ]
  },
  {
   "cell_type": "code",
   "execution_count": null,
   "metadata": {
    "hidden": true
   },
   "outputs": [],
   "source": [
    "arcpy.FeatureClassToFeatureClass_conversion(\"MBG_units_Ele\", \n",
    "                                            r\"E:\\ESF MU\\Bikesharing\\ESF_data\\ESF_data_view\\MBG_units_characteristics.gdb\", \n",
    "                                            \"MBG_units_Ele_Sl\")"
   ]
  },
  {
   "cell_type": "code",
   "execution_count": null,
   "metadata": {
    "hidden": true
   },
   "outputs": [],
   "source": [
    "#arcpy.MakeFeatureLayer_management(\"MBG_Pts_units_Ele_lyr\", \"MBG_Pts_units_Ele_Sl_lyr\")"
   ]
  },
  {
   "cell_type": "markdown",
   "metadata": {
    "heading_collapsed": true
   },
   "source": [
    "#### MBG - Surface Temperature"
   ]
  },
  {
   "cell_type": "code",
   "execution_count": null,
   "metadata": {
    "hidden": true
   },
   "outputs": [],
   "source": [
    "arcpy.ia.ZonalStatisticsAsTable(\"MBG_units_Ele_Sl\",\n",
    "                                \"all__GISCO\",\n",
    "                                \"eurolst_clim_bio01.tif\",\n",
    "                                r\"E:\\ESF MU\\Bikesharing\\ESF_data\\ESF_data_view\\MBG_units_characteristics.gdb\\MBG_tab_Tem\",\n",
    "                                \"DATA\",\n",
    "                                \"MIN_MAX_MEAN\",\n",
    "                                \"CURRENT_SLICE\",\n",
    "                                90,\n",
    "                                \"AUTO_DETECT\")"
   ]
  },
  {
   "cell_type": "code",
   "execution_count": null,
   "metadata": {
    "hidden": true
   },
   "outputs": [],
   "source": [
    "arcpy.management.AddJoin(\"MBG_units_Ele_Sl\",\n",
    "                         \"MUNIeu_info_all_ETRS_LCC_all__GISCO\",\n",
    "                         \"MBG_tab_Tem\",\n",
    "                         \"MUNIeu_info_all_ETRS_LCC_all__GISCO\",\n",
    "                         \"KEEP_ALL\",\n",
    "                         \"INDEX_JOIN_FIELDS\")"
   ]
  },
  {
   "cell_type": "code",
   "execution_count": null,
   "metadata": {
    "hidden": true
   },
   "outputs": [],
   "source": [
    "arcpy.FeatureClassToFeatureClass_conversion(\"MBG_units_Ele_Sl\", \n",
    "                                            r\"E:\\ESF MU\\Bikesharing\\ESF_data\\ESF_data_view\\MBG_units_characteristics.gdb\", \n",
    "                                            \"MBG_units_Ele_Sl_Tem\")"
   ]
  },
  {
   "cell_type": "code",
   "execution_count": null,
   "metadata": {
    "hidden": true
   },
   "outputs": [],
   "source": [
    "temp_fld_names = [f.name for f in arcpy.ListFields(\"MBG_units_Ele_Sl_Tem\")]"
   ]
  },
  {
   "cell_type": "code",
   "execution_count": null,
   "metadata": {
    "hidden": true,
    "scrolled": true
   },
   "outputs": [],
   "source": [
    "for idx, fld_name in enumerate(temp_fld_names):\n",
    "    print(idx, fld_name)"
   ]
  },
  {
   "cell_type": "code",
   "execution_count": null,
   "metadata": {
    "hidden": true
   },
   "outputs": [],
   "source": [
    "value_lst = [\"MIN\", \"MAX\", \"MEAN\"]\n",
    "value_dic = {24:\"MIN\", 25:\"MAX\", 26:\"MEAN\"}"
   ]
  },
  {
   "cell_type": "code",
   "execution_count": null,
   "metadata": {
    "hidden": true
   },
   "outputs": [],
   "source": [
    "for val in value_lst:\n",
    "    arcpy.management.AddField(\"MBG_units_Ele_Sl_Tem\",\n",
    "                          f\"Temp_{val}_C\",\n",
    "                          \"DOUBLE\",\n",
    "                          10,\n",
    "                          2,\n",
    "                          None,\n",
    "                          f\"Temp_{val}_C\",\n",
    "                          \"NULLABLE\",\n",
    "                          \"NON_REQUIRED\",\n",
    "                          '')"
   ]
  },
  {
   "cell_type": "code",
   "execution_count": null,
   "metadata": {
    "hidden": true,
    "scrolled": true
   },
   "outputs": [],
   "source": [
    "for val in range(24,27):\n",
    "    #print(val)\n",
    "    arcpy.management.CalculateField(\"MBG_units_Ele_Sl_Tem\",\n",
    "                                    f\"Temp_{value_dic[val]}_C\",\n",
    "                                    f\"!{temp_fld_names[val]}!/10\",\n",
    "                                    \"PYTHON3\")\n",
    "    "
   ]
  },
  {
   "cell_type": "code",
   "execution_count": null,
   "metadata": {
    "hidden": true
   },
   "outputs": [],
   "source": [
    "# for val2 in temp_fld_names[24:27]:\n",
    "#     for val1 in value_lst:\n",
    "#         arcpy.management.CalculateField(\"MBG_units_Ele_Sl_Tem\",\n",
    "#                                     f\"Temp_{val1}_C\",\n",
    "#                                     f\"!{val2}!//10\",\n",
    "#                                     \"PYTHON3\")"
   ]
  },
  {
   "cell_type": "markdown",
   "metadata": {
    "heading_collapsed": true
   },
   "source": [
    "#### Area for MBG"
   ]
  },
  {
   "cell_type": "code",
   "execution_count": null,
   "metadata": {
    "hidden": true
   },
   "outputs": [],
   "source": [
    "arcpy.management.AddField(\"MBG_units_Ele_Sl_Tem\",\n",
    "                          \"Area_km\",\n",
    "                          \"DOUBLE\",\n",
    "                          10,\n",
    "                          2,\n",
    "                          None,\n",
    "                          \"Area_km\",\n",
    "                          \"NULLABLE\",\n",
    "                          \"NON_REQUIRED\",\n",
    "                          '')"
   ]
  },
  {
   "cell_type": "code",
   "execution_count": null,
   "metadata": {
    "hidden": true
   },
   "outputs": [],
   "source": [
    "arcpy.management.CalculateGeometryAttributes(\"MBG_units_Ele_Sl_Tem\",\n",
    "                                             \"Area_km AREA\",\n",
    "                                             '',\n",
    "                                             \"SQUARE_KILOMETERS\",\n",
    "                                             'PROJCS[\"Europe_Lambert_Conformal_Conic\",GEOGCS[\"GCS_European_1950\",DATUM[\"D_European_1950\",SPHEROID[\"International_1924\",6378388.0,297.0]],PRIMEM[\"Greenwich\",0.0],UNIT[\"Degree\",0.0174532925199433]],PROJECTION[\"Lambert_Conformal_Conic\"],PARAMETER[\"False_Easting\",0.0],PARAMETER[\"False_Northing\",0.0],PARAMETER[\"Central_Meridian\",10.0],PARAMETER[\"Standard_Parallel_1\",43.0],PARAMETER[\"Standard_Parallel_2\",62.0],PARAMETER[\"Latitude_Of_Origin\",30.0],UNIT[\"Meter\",1.0]]',\n",
    "                                             \"SAME_AS_INPUT\")"
   ]
  },
  {
   "cell_type": "markdown",
   "metadata": {
    "heading_collapsed": true
   },
   "source": [
    "#### Cycleway lenght for MBG"
   ]
  },
  {
   "cell_type": "code",
   "execution_count": null,
   "metadata": {
    "hidden": true
   },
   "outputs": [],
   "source": [
    "arcpy.analysis.SummarizeWithin(\"MBG_units_Ele_Sl_Tem\",\n",
    "                               \"cycleway_LCC\",\n",
    "                               r\"E:\\ESF MU\\Bikesharing\\ESF_data\\ESF_data_view\\MBG_units_characteristics.gdb\\MBG_Pts_units_Ele_Sl_Tem_Ar_Cycl\",\n",
    "                               \"KEEP_ALL\",\n",
    "                               \"Shape_Length Sum\",\n",
    "                               \"ADD_SHAPE_SUM\",\n",
    "                               \"KILOMETERS\",\n",
    "                               None,\n",
    "                               \"NO_MIN_MAJ\",\n",
    "                               \"NO_PERCENT\",\n",
    "                               None)"
   ]
  },
  {
   "cell_type": "markdown",
   "metadata": {
    "heading_collapsed": true
   },
   "source": [
    "#### MBG - distance from closest sea"
   ]
  },
  {
   "cell_type": "code",
   "execution_count": null,
   "metadata": {
    "hidden": true
   },
   "outputs": [],
   "source": [
    "arcpy.Exists(\"CoastL_LCC\")"
   ]
  },
  {
   "cell_type": "code",
   "execution_count": null,
   "metadata": {
    "hidden": true
   },
   "outputs": [],
   "source": [
    "arcpy.analysis.Near(\"MBG_Pts_units_Ele_Sl_Tem_Ar_Cycl\",\n",
    "                    \"CoastL_LCC\",\n",
    "                    None,\n",
    "                    \"LOCATION\",\n",
    "                    \"ANGLE\",\n",
    "                    \"PLANAR\",\n",
    "                    \"NEAR_FID NEAR_FID;NEAR_DIST NEAR_DIST_m;NEAR_X NEAR_X;NEAR_Y NEAR_Y;NEAR_ANGLE NEAR_ANGLE\")"
   ]
  },
  {
   "cell_type": "markdown",
   "metadata": {
    "heading_collapsed": true
   },
   "source": [
    "#### MBG - BikeShareMap - get number of stations (SpatialJoin)"
   ]
  },
  {
   "cell_type": "code",
   "execution_count": null,
   "metadata": {
    "hidden": true,
    "scrolled": true
   },
   "outputs": [],
   "source": [
    "arcpy.analysis.SpatialJoin(\"MBG_Pts_units_Ele_Sl_Tem_Ar_Cycl\",\n",
    "                           \"BikeSharing_stations_LCC\",\n",
    "                           r\"E:\\ESF MU\\Bikesharing\\ESF_data\\ESF_data_view\\MBG_units_characteristics.gdb\\MBG_Pts_units_Ele_Sl_Tem_Ar_Cycl_Stat\",\n",
    "                           join_operation=\"JOIN_ONE_TO_ONE\",\n",
    "                           join_type=\"KEEP_ALL\",\n",
    "                           match_option=\"INTERSECT\"\n",
    "                           )"
   ]
  },
  {
   "cell_type": "markdown",
   "metadata": {
    "heading_collapsed": true
   },
   "source": [
    "#### MBG - count population from points' attributes (TotP)"
   ]
  },
  {
   "cell_type": "code",
   "execution_count": null,
   "metadata": {
    "hidden": true
   },
   "outputs": [],
   "source": [
    "arcpy.analysis.SummarizeWithin(\"MBG_Pts_units_Ele_Sl_Tem_Ar_Cycl_Stat\",\n",
    "                               \"Population_LCC\",\n",
    "                               r\"E:\\ESF MU\\Bikesharing\\ESF_data\\ESF_data_view\\MBG_units_characteristics.gdb\\MBG_Pts_units_Ele_Sl_Tem_Ar_Cycl_Stat_TotP\",\n",
    "                               \"KEEP_ALL\",\n",
    "                               \"TOT_P Sum\",\n",
    "                               \"ADD_SHAPE_SUM\",\n",
    "                               '',\n",
    "                               None,\n",
    "                               \"NO_MIN_MAJ\",\n",
    "                               \"NO_PERCENT\",\n",
    "                               None)"
   ]
  },
  {
   "cell_type": "markdown",
   "metadata": {},
   "source": [
    "#### Rename fields"
   ]
  },
  {
   "cell_type": "code",
   "execution_count": null,
   "metadata": {},
   "outputs": [],
   "source": [
    "[f.name for f in arcpy.ListFields(\"MBG_Pts_units_Ele_Sl_Tem_Ar_Cycl_Stat_TotP\")]"
   ]
  },
  {
   "cell_type": "code",
   "execution_count": null,
   "metadata": {},
   "outputs": [],
   "source": [
    "fin_flds = [f.name for f in arcpy.ListFields(\"MBG_Pts_units_Ele_Sl_Tem_Ar_Cycl_Stat_TotP\")]"
   ]
  },
  {
   "cell_type": "code",
   "execution_count": null,
   "metadata": {},
   "outputs": [],
   "source": [
    "len_flds = [i for i in range(0,len(fin_flds))]\n",
    "len(len_flds)"
   ]
  },
  {
   "cell_type": "code",
   "execution_count": null,
   "metadata": {},
   "outputs": [],
   "source": [
    "new_fld_names = [\"OBJECTID\",\"Shape\",\"Comp_num\", \"TARGET_FID\", \"all_GISCO\",\n",
    "                 \"Ele_OBJECTID\", \"Ele_all_GISCO\", \"Ele_ZONE_CODE\", \"Ele_COUNT\", \"Ele_AREA\", \"Ele_MIN\", \"Ele_MAX\", \"Ele_MEAN\",\n",
    "                 \"Sl_OBJECTID\",\"Sl_all_GISCO\", \"Sl_ZONE_CODE\", \"Sl_COUNT\", \"Sl_AREA\", \"Sl_MIN\", \"Sl_MAX\", \"Sl_MEAN\",\n",
    "                 \"Temp_OBJECTID\", \"Temp_all_GISCO\", \"Temp_ZONE_CODE\", \"Temp_COUNT\", \"Temp_AREA\", \"Temp_MIN\", \"Temp_MAX\", \"Temp_MEAN\",\n",
    "                 \"Temp_MIN_C\", \"Temp_MAX_C\", \"Temp_MEAN_C\",\n",
    "                 \"Area_km\",\n",
    "                 \"Cyc_len_m\", \"Cyc_len_km\", \"Cyc_line_num\",\n",
    "                 \"NEAR_FID\", \"NEAR_DIST_m\", \"NEAR_X\", \"NEAR_Y\", \"NEAR_ANGLE\",\n",
    "                 \"timestamp\", \"name\", \"lat\", \"lon\", \"bikes\", \"spaces\", \"installed\", \"locked\", \"temporary\", \"total_dock\", \"Shape_Length\", \"Shape_Area\",\n",
    "                 \"Pop_Pts_Tot\", \"Pop_Pts_Num\" ]\n",
    "len(new_fld_names)"
   ]
  },
  {
   "cell_type": "code",
   "execution_count": null,
   "metadata": {},
   "outputs": [],
   "source": []
  },
  {
   "cell_type": "code",
   "execution_count": null,
   "metadata": {},
   "outputs": [],
   "source": [
    "fin_flds_dicc = {k:v for k,v in zip(len_flds,new_fld_names)}\n",
    "fin_flds_dicc"
   ]
  },
  {
   "cell_type": "code",
   "execution_count": null,
   "metadata": {},
   "outputs": [],
   "source": [
    "ch_fin_flds_dicc = {}\n",
    "for idx, name in enumerate(fin_flds):\n",
    "    print(idx,name)\n",
    "    ch_fin_flds_dicc[idx] = name"
   ]
  },
  {
   "cell_type": "code",
   "execution_count": null,
   "metadata": {
    "scrolled": true
   },
   "outputs": [],
   "source": [
    "for k1,v1 in ch_fin_flds_dicc.items():\n",
    "    for k2,v2 in fin_flds_dicc.items():\n",
    "        if k1 == k2:\n",
    "            arcpy.management.AlterField(\"MBG_Pts_units_Ele_Sl_Tem_Ar_Cycl_Stat_TotP\",\n",
    "                                v1,\n",
    "                                v2,\n",
    "                                v2,\n",
    "                                )"
   ]
  },
  {
   "cell_type": "markdown",
   "metadata": {
    "heading_collapsed": true
   },
   "source": [
    "#### MBG - Company points (Join)"
   ]
  },
  {
   "cell_type": "code",
   "execution_count": null,
   "metadata": {
    "hidden": true
   },
   "outputs": [],
   "source": [
    "arcpy.analysis.SpatialJoin(\"MBG_Pts_units_Ele_Sl_Tem_Ar_Cycl_Stat_TotP\",\n",
    "                           \"Company_Points_EU_LCC\",\n",
    "                           r\"E:\\ESF MU\\Bikesharing\\ESF_data\\ESF_data_view\\MBG_units_characteristics.gdb\\MBG_Pts_units_Ele_Sl_Tem_Ar_Cycl_TotP_Comp\",\n",
    "                           join_type=\"KEEP_ALL\",\n",
    "                           join_operation=\"JOIN_ONE_TO_MANY\",\n",
    "                           match_option=\"INTERSECT\"\n",
    "                           )"
   ]
  },
  {
   "cell_type": "code",
   "execution_count": null,
   "metadata": {
    "hidden": true
   },
   "outputs": [],
   "source": []
  }
 ],
 "metadata": {
  "kernelspec": {
   "display_name": "ArcGISPro",
   "language": "Python",
   "name": "python3"
  },
  "language_info": {
   "file_extension": ".py",
   "name": "python",
   "version": "3"
  },
  "varInspector": {
   "cols": {
    "lenName": 16,
    "lenType": 16,
    "lenVar": 40
   },
   "kernels_config": {
    "python": {
     "delete_cmd_postfix": "",
     "delete_cmd_prefix": "del ",
     "library": "var_list.py",
     "varRefreshCmd": "print(var_dic_list())"
    },
    "r": {
     "delete_cmd_postfix": ") ",
     "delete_cmd_prefix": "rm(",
     "library": "var_list.r",
     "varRefreshCmd": "cat(var_dic_list()) "
    }
   },
   "types_to_exclude": [
    "module",
    "function",
    "builtin_function_or_method",
    "instance",
    "_Feature"
   ],
   "window_display": false
  }
 },
 "nbformat": 4,
 "nbformat_minor": 2
}
