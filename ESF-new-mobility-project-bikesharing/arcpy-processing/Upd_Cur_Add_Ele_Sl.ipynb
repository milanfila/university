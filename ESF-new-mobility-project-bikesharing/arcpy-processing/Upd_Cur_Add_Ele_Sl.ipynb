{
 "cells": [
  {
   "cell_type": "code",
   "execution_count": 1,
   "metadata": {},
   "outputs": [],
   "source": [
    "import re\n",
    "from datetime import datetime"
   ]
  },
  {
   "cell_type": "code",
   "execution_count": 2,
   "metadata": {},
   "outputs": [
    {
     "data": {
      "text/plain": [
       "True"
      ]
     },
     "execution_count": 2,
     "metadata": {},
     "output_type": "execute_result"
    }
   ],
   "source": [
    "arcpy.Exists(\"MBG_Pts_units_Ele_Sl_Tem_Ar_Cycl_Stat_TotP\")"
   ]
  },
  {
   "cell_type": "code",
   "execution_count": 3,
   "metadata": {},
   "outputs": [],
   "source": [
    "fld_name_2 = [f.name for f in arcpy.ListFields(\"MBG_Pts_units_Ele_Sl_Tem_Ar_Cycl_Stat_TotP\")]"
   ]
  },
  {
   "cell_type": "code",
   "execution_count": 5,
   "metadata": {},
   "outputs": [
    {
     "data": {
      "text/plain": [
       "False"
      ]
     },
     "execution_count": 5,
     "metadata": {},
     "output_type": "execute_result"
    }
   ],
   "source": [
    "arcpy.Exists(\"EU_units_charac_3\")"
   ]
  },
  {
   "cell_type": "code",
   "execution_count": 4,
   "metadata": {},
   "outputs": [],
   "source": [
    "fld_name_3 = [f.name for f in arcpy.ListFields(\"EU_units_charac_4\")]"
   ]
  },
  {
   "cell_type": "code",
   "execution_count": 5,
   "metadata": {
    "scrolled": true
   },
   "outputs": [
    {
     "name": "stdout",
     "output_type": "stream",
     "text": [
      "72\n",
      "35\n",
      "OK\n",
      "OK\n",
      "OK\n",
      "OK\n",
      "OK\n",
      "OK\n",
      "OK\n",
      "OK\n",
      "OK\n",
      "OK\n",
      "OK\n",
      "OK\n",
      "OK\n",
      "OK\n",
      "OK\n",
      "OK\n",
      "OK\n",
      "OK\n",
      "18\n"
     ]
    }
   ],
   "source": [
    "# ověření stejnosti polí ve vrstvách\n",
    "print(len(fld_name_2))\n",
    "print(len(fld_name_3))\n",
    "\n",
    "counter = 0\n",
    "\n",
    "for i in fld_name_2:\n",
    "    for j in fld_name_3:\n",
    "        if i == j:\n",
    "            print(\"OK\")\n",
    "            counter +=1\n",
    "print(counter)"
   ]
  },
  {
   "cell_type": "code",
   "execution_count": 4,
   "metadata": {
    "scrolled": true
   },
   "outputs": [
    {
     "data": {
      "text/plain": [
       "True"
      ]
     },
     "execution_count": 4,
     "metadata": {},
     "output_type": "execute_result"
    }
   ],
   "source": [
    "arcpy.Exists(\"ZonalSt_MBG_Swiss_Ele\")"
   ]
  },
  {
   "cell_type": "code",
   "execution_count": 6,
   "metadata": {},
   "outputs": [
    {
     "name": "stdout",
     "output_type": "stream",
     "text": [
      "['OBJECTID', 'all_GISCO', 'ZONE_CODE', 'COUNT', 'AREA', 'MIN', 'MAX', 'MEAN']\n",
      "1\n",
      "5\n",
      "6\n",
      "7\n"
     ]
    }
   ],
   "source": [
    "fld_nam_ele = [f.name for f in arcpy.ListFields(\"ZonalSt_MBG_Swiss_Ele\")]\n",
    "print(fld_nam_ele)\n",
    "print(fld_nam_ele.index(\"all_GISCO\"))\n",
    "print(fld_nam_ele.index(\"MIN\"))\n",
    "print(fld_nam_ele.index(\"MAX\"))\n",
    "print(fld_nam_ele.index(\"MEAN\"))"
   ]
  },
  {
   "cell_type": "code",
   "execution_count": 9,
   "metadata": {},
   "outputs": [
    {
     "name": "stdout",
     "output_type": "stream",
     "text": [
      "['OBJECTID', 'all_GISCO', 'ZONE_CODE', 'COUNT', 'AREA', 'MIN', 'MAX', 'MEAN']\n",
      "1\n",
      "5\n",
      "6\n",
      "7\n"
     ]
    }
   ],
   "source": [
    "fld_nam_sl = [f.name for f in arcpy.ListFields(\"ZonalSt_MBG_Swiss_Sl\")]\n",
    "print(fld_nam_sl)\n",
    "print(fld_nam_sl.index(\"all_GISCO\"))\n",
    "print(fld_nam_sl.index(\"MIN\"))\n",
    "print(fld_nam_sl.index(\"MAX\"))\n",
    "print(fld_nam_sl.index(\"MEAN\"))"
   ]
  },
  {
   "cell_type": "code",
   "execution_count": 17,
   "metadata": {},
   "outputs": [
    {
     "name": "stdout",
     "output_type": "stream",
     "text": [
      "['OBJECTID_12_13', 'Shape', 'Join_Count', 'TARGET_FID', 'JOIN_FID', 'BikeShareMap_stations', 'TARGET_FID_1', 'all__GISCO', 'all__LAU18', 'SUM_all__pop20', 'OBJECTID', 'Ele_all__GISCO', 'Ele_ZONE_CODE', 'Ele_COUNT', 'Ele_AREA', 'Ele_MIN', 'Ele_MAX', 'Ele_MEAN', 'OBJECTID_1', 'all__GISCO_12', 'Sl_ZONE_CODE', 'Sl_COUNT', 'Sl_AREA', 'Sl_MIN', 'Sl_MAX', 'Sl_MEAN', 'Area_km', 'Cycl_length_m', 'Cycl_length_km', 'Cycl_Count', 'NEAR_FID', 'NEAR_DIST_m', 'NEAR_X', 'NEAR_Y', 'NEAR_ANGLE', 'name_stati', 'num_of_sta', 'lon', 'lat', 'num_of_bik', 'launch', 'terminated', 'city_compa', 'a', 'bikes', 'stations', 'inc_pedele', 'b', 'c', 'web_compan', 'd', 'working', 'date_launc', 'date_termi', 'e', 'operator', 'equipment', 'f', 'pic', 'g', 'sum_tot_p', 'Point_Count', 'OBJECTID_12', 'all__GISCO_12_13', 'Temp_ZONE_CODE', 'Temp_COUNT', 'Temp_AREA', 'Temp_MIN_C', 'Temp_MAX_C', 'Temp_MEAN_C', 'Shape_Length', 'Shape_Area']\n",
      "7\n",
      "8\n",
      "Indexy pro pole Elevation\n",
      "15\n",
      "16\n",
      "17\n",
      "\n",
      "Indexy pro pole Slope\n",
      "23\n",
      "24\n",
      "25\n"
     ]
    }
   ],
   "source": [
    "field_names_fc = [f.name for f in arcpy.ListFields(\"EU_units_charac_companies_4_TotP_SurTemp\")]\n",
    "print(field_names_fc)\n",
    "print(field_names_fc.index(\"all__GISCO\"))\n",
    "print(field_names_fc.index(\"all__LAU18\"))\n",
    "\n",
    "print(\"Indexy pro pole Elevation\")\n",
    "print(field_names_fc.index(\"Ele_MIN\"))\n",
    "print(field_names_fc.index(\"Ele_MAX\"))\n",
    "print(field_names_fc.index(\"Ele_MEAN\"))\n",
    "print()\n",
    "print(\"Indexy pro pole Slope\")\n",
    "print(field_names_fc.index(\"Sl_MIN\"))\n",
    "print(field_names_fc.index(\"Sl_MAX\"))\n",
    "print(field_names_fc.index(\"Sl_MEAN\"))"
   ]
  },
  {
   "cell_type": "code",
   "execution_count": 18,
   "metadata": {
    "scrolled": true
   },
   "outputs": [
    {
     "name": "stdout",
     "output_type": "stream",
     "text": [
      "0 OBJECTID\n",
      "1 all_GISCO\n",
      "2 ZONE_CODE\n",
      "3 COUNT\n",
      "4 AREA\n",
      "5 MIN\n",
      "6 MAX\n",
      "7 MEAN\n"
     ]
    }
   ],
   "source": [
    "for idx, name in enumerate([f.name for f in arcpy.ListFields(\"ZonalSt_MBG_Swiss_Sl\")]):\n",
    "    print(idx,name)"
   ]
  },
  {
   "cell_type": "code",
   "execution_count": 19,
   "metadata": {},
   "outputs": [
    {
     "name": "stdout",
     "output_type": "stream",
     "text": [
      "0 OBJECTID_12_13\n",
      "1 Shape\n",
      "2 Join_Count\n",
      "3 TARGET_FID\n",
      "4 JOIN_FID\n",
      "5 BikeShareMap_stations\n",
      "6 TARGET_FID_1\n",
      "7 all__GISCO\n",
      "8 all__LAU18\n",
      "9 SUM_all__pop20\n",
      "10 OBJECTID\n",
      "11 Ele_all__GISCO\n",
      "12 Ele_ZONE_CODE\n",
      "13 Ele_COUNT\n",
      "14 Ele_AREA\n",
      "15 Ele_MIN\n",
      "16 Ele_MAX\n",
      "17 Ele_MEAN\n",
      "18 OBJECTID_1\n",
      "19 all__GISCO_12\n",
      "20 Sl_ZONE_CODE\n",
      "21 Sl_COUNT\n",
      "22 Sl_AREA\n",
      "23 Sl_MIN\n",
      "24 Sl_MAX\n",
      "25 Sl_MEAN\n",
      "26 Area_km\n",
      "27 Cycl_length_m\n",
      "28 Cycl_length_km\n",
      "29 Cycl_Count\n",
      "30 NEAR_FID\n",
      "31 NEAR_DIST_m\n",
      "32 NEAR_X\n",
      "33 NEAR_Y\n",
      "34 NEAR_ANGLE\n",
      "35 name_stati\n",
      "36 num_of_sta\n",
      "37 lon\n",
      "38 lat\n",
      "39 num_of_bik\n",
      "40 launch\n",
      "41 terminated\n",
      "42 city_compa\n",
      "43 a\n",
      "44 bikes\n",
      "45 stations\n",
      "46 inc_pedele\n",
      "47 b\n",
      "48 c\n",
      "49 web_compan\n",
      "50 d\n",
      "51 working\n",
      "52 date_launc\n",
      "53 date_termi\n",
      "54 e\n",
      "55 operator\n",
      "56 equipment\n",
      "57 f\n",
      "58 pic\n",
      "59 g\n",
      "60 sum_tot_p\n",
      "61 Point_Count\n",
      "62 OBJECTID_12\n",
      "63 all__GISCO_12_13\n",
      "64 Temp_ZONE_CODE\n",
      "65 Temp_COUNT\n",
      "66 Temp_AREA\n",
      "67 Temp_MIN_C\n",
      "68 Temp_MAX_C\n",
      "69 Temp_MEAN_C\n",
      "70 Shape_Length\n",
      "71 Shape_Area\n"
     ]
    }
   ],
   "source": [
    "for idx, name in enumerate(field_names_fc):\n",
    "    print(idx,name)"
   ]
  },
  {
   "cell_type": "code",
   "execution_count": 21,
   "metadata": {},
   "outputs": [],
   "source": [
    "tab_ele = \"ZonalSt_MBG_Swiss_Ele\"\n",
    "tab_sl = \"ZonalSt_MBG_Swiss_Sl\"\n",
    "fc = \"MBG_Pts_units_Ele_Sl_Tem_Ar_Cycl_Stat_TotP\""
   ]
  },
  {
   "cell_type": "code",
   "execution_count": 14,
   "metadata": {},
   "outputs": [],
   "source": [
    "dic_ID = {}\n",
    "\n",
    "with arcpy.da.SearchCursor(tab_ele, fld_nam_ele) as cur1:\n",
    "    for row1 in cur1:\n",
    "        if re.findall(\"CH_\", row1[1]):\n",
    "            #print(row[1], row[7])\n",
    "            dic_ID[row1[1]] = row1[1]\n",
    "            #tab_ele_mean = row1[7]"
   ]
  },
  {
   "cell_type": "code",
   "execution_count": 16,
   "metadata": {},
   "outputs": [
    {
     "data": {
      "text/plain": [
       "50"
      ]
     },
     "execution_count": 16,
     "metadata": {},
     "output_type": "execute_result"
    }
   ],
   "source": [
    "len(dic_ID)"
   ]
  },
  {
   "cell_type": "code",
   "execution_count": 24,
   "metadata": {},
   "outputs": [
    {
     "name": "stdout",
     "output_type": "stream",
     "text": [
      "Start: 2022-07-22 00:53:57.320941\n",
      "\n",
      "{'CH_CH1024': 419, 'CH_CH1031': 469, 'CH_CH1054': 418, 'CH_CH1058': 434, 'CH_CH1059': 448, 'CH_CH1061': 419, 'CH_CH1063': 468, 'CH_CH1065': 410, 'CH_CH1085': 499, 'CH_CH1089': 517, 'CH_CH1091': 503, 'CH_CH1094': 509, 'CH_CH1095': 504, 'CH_CH1099': 517, 'CH_CH1103': 494, 'CH_CH1401': 439, 'CH_CH1407': 461, 'CH_CH1501': 434, 'CH_CH1502': 434, 'CH_CH1505': 436, 'CH_CH1506': 509, 'CH_CH1507': 434, 'CH_CH1508': 456, 'CH_CH1509': 439, 'CH_CH1510': 434, 'CH_CH1511': 492, 'CH_CH1701': 426, 'CH_CH1711': 413, 'CH_CH5635': 395, 'CH_CH5712': 396, 'CH_CH5716': 428, 'CH_CH5721': 382, 'CH_CH5723': 380, 'CH_CH5724': 372, 'CH_CH5861': 372, 'CH_CH6605': 469, 'CH_CH6607': 432, 'CH_CH6608': 376, 'CH_CH6612': 421, 'CH_CH6617': 372, 'CH_CH6618': 428, 'CH_CH6621': 368, 'CH_CH6623': 419, 'CH_CH6628': 379, 'CH_CH6630': 414, 'CH_CH6633': 398, 'CH_CH6638': 409, 'CH_CH6640': 414, 'CH_CH6643': 369, 'CH_CH9180': 434}\n",
      "{'CH_CH1024': 482, 'CH_CH1031': 499, 'CH_CH1054': 507, 'CH_CH1058': 591, 'CH_CH1059': 486, 'CH_CH1061': 680, 'CH_CH1063': 500, 'CH_CH1065': 450, 'CH_CH1085': 509, 'CH_CH1089': 563, 'CH_CH1091': 527, 'CH_CH1094': 555, 'CH_CH1095': 570, 'CH_CH1099': 530, 'CH_CH1103': 525, 'CH_CH1401': 456, 'CH_CH1407': 635, 'CH_CH1501': 491, 'CH_CH1502': 443, 'CH_CH1505': 437, 'CH_CH1506': 540, 'CH_CH1507': 509, 'CH_CH1508': 495, 'CH_CH1509': 485, 'CH_CH1510': 950, 'CH_CH1511': 797, 'CH_CH1701': 443, 'CH_CH1711': 461, 'CH_CH5635': 400, 'CH_CH5712': 398, 'CH_CH5716': 437, 'CH_CH5721': 433, 'CH_CH5723': 409, 'CH_CH5724': 439, 'CH_CH5861': 430, 'CH_CH6605': 485, 'CH_CH6607': 463, 'CH_CH6608': 417, 'CH_CH6612': 425, 'CH_CH6617': 378, 'CH_CH6618': 443, 'CH_CH6621': 446, 'CH_CH6623': 459, 'CH_CH6628': 422, 'CH_CH6630': 429, 'CH_CH6633': 405, 'CH_CH6638': 415, 'CH_CH6640': 430, 'CH_CH6643': 441, 'CH_CH9180': 600}\n",
      "{'CH_CH1024': 432.32421237605195, 'CH_CH1031': 478.77392739273915, 'CH_CH1054': 445.8525085633693, 'CH_CH1058': 479.61684053651265, 'CH_CH1059': 462.9029793735678, 'CH_CH1061': 473.46839778565504, 'CH_CH1063': 480.7987679671461, 'CH_CH1065': 421.1513204853675, 'CH_CH1085': 502.875, 'CH_CH1089': 549.8719512195123, 'CH_CH1091': 508.9248886059824, 'CH_CH1094': 521.3074753173479, 'CH_CH1095': 519.4842883548981, 'CH_CH1099': 523.5121951219515, 'CH_CH1103': 500.7737620944783, 'CH_CH1401': 446.2, 'CH_CH1407': 479.0452626982968, 'CH_CH1501': 445.84796854521517, 'CH_CH1502': 435.96923076923053, 'CH_CH1505': 436.5, 'CH_CH1506': 523.5833333333334, 'CH_CH1507': 454.56711409396024, 'CH_CH1508': 469.7617773019273, 'CH_CH1509': 448.1908449100439, 'CH_CH1510': 546.4439948892673, 'CH_CH1511': 552.9459753444527, 'CH_CH1701': 433.1014729950907, 'CH_CH1711': 421.203875656035, 'CH_CH5635': 398.8, 'CH_CH5712': 397.0, 'CH_CH5716': 431.6, 'CH_CH5721': 409.9549337260672, 'CH_CH5723': 396.0773809523809, 'CH_CH5724': 406.50023408239775, 'CH_CH5861': 390.76228070175426, 'CH_CH6605': 476.1473684210526, 'CH_CH6607': 443.85016286644975, 'CH_CH6608': 385.47619047619077, 'CH_CH6612': 423.0, 'CH_CH6617': 374.0, 'CH_CH6618': 432.4503816793892, 'CH_CH6621': 391.70015188812624, 'CH_CH6623': 442.49619482496166, 'CH_CH6628': 397.72885789014845, 'CH_CH6630': 422.3333333333333, 'CH_CH6633': 401.0550918196999, 'CH_CH6638': 411.5, 'CH_CH6640': 424.9248238057948, 'CH_CH6643': 415.3017064846429, 'CH_CH9180': 492.1465721040185}\n",
      "\n",
      "{'CH_CH1024': 0.0, 'CH_CH1031': 0.0, 'CH_CH1054': 0.0, 'CH_CH1058': 0.0, 'CH_CH1059': 0.0, 'CH_CH1061': 0.0, 'CH_CH1063': 0.0, 'CH_CH1065': 0.0, 'CH_CH1085': 1.6699715852737427, 'CH_CH1089': 0.0, 'CH_CH1091': 0.0, 'CH_CH1094': 0.4051356017589569, 'CH_CH1095': 0.0, 'CH_CH1099': 0.5729386806488037, 'CH_CH1103': 0.0, 'CH_CH1401': 1.1457628011703491, 'CH_CH1407': 0.0, 'CH_CH1501': 0.0, 'CH_CH1502': 0.0, 'CH_CH1505': 0.0, 'CH_CH1506': 0.0, 'CH_CH1507': 0.0, 'CH_CH1508': 0.0, 'CH_CH1509': 0.0, 'CH_CH1510': 0.0, 'CH_CH1511': 0.0, 'CH_CH1701': 0.0, 'CH_CH1711': 0.0, 'CH_CH5635': 0.0, 'CH_CH5712': 3.0824947357177734, 'CH_CH5716': 1.1457628011703491, 'CH_CH5721': 0.0, 'CH_CH5723': 0.8102306723594666, 'CH_CH5724': 0.0, 'CH_CH5861': 0.0, 'CH_CH6605': 0.5729386806488037, 'CH_CH6607': 0.905850350856781, 'CH_CH6608': 0.0, 'CH_CH6612': 0.0, 'CH_CH6617': 3.0824947357177734, 'CH_CH6618': 0.0, 'CH_CH6621': 0.0, 'CH_CH6623': 0.4051356017589569, 'CH_CH6628': 0.0, 'CH_CH6630': 1.280959129333496, 'CH_CH6633': 0.0, 'CH_CH6638': 0.4051356017589569, 'CH_CH6640': 0.0, 'CH_CH6643': 0.0, 'CH_CH9180': 0.0}\n",
      "{'CH_CH1024': 22.203643798828125, 'CH_CH1031': 9.407332420349121, 'CH_CH1054': 37.256324768066406, 'CH_CH1058': 37.79011154174805, 'CH_CH1059': 5.389322757720947, 'CH_CH1061': 49.059383392333984, 'CH_CH1063': 12.137063980102539, 'CH_CH1065': 30.174604415893555, 'CH_CH1085': 5.174241542816162, 'CH_CH1089': 17.28232765197754, 'CH_CH1091': 11.261612892150879, 'CH_CH1094': 8.77908706665039, 'CH_CH1095': 15.084827423095703, 'CH_CH1099': 7.745537757873535, 'CH_CH1103': 16.7080020904541, 'CH_CH1401': 2.862405300140381, 'CH_CH1407': 42.9294319152832, 'CH_CH1501': 29.726707458496094, 'CH_CH1502': 6.854530334472656, 'CH_CH1505': 2.2906100749969482, 'CH_CH1506': 10.888076782226562, 'CH_CH1507': 28.230871200561523, 'CH_CH1508': 22.362268447875977, 'CH_CH1509': 30.481067657470703, 'CH_CH1510': 72.63101959228516, 'CH_CH1511': 63.47853088378906, 'CH_CH1701': 4.609363555908203, 'CH_CH1711': 23.343429565429688, 'CH_CH5635': 1.280959129333496, 'CH_CH5712': 3.2628302574157715, 'CH_CH5716': 2.2906100749969482, 'CH_CH5721': 8.08908462524414, 'CH_CH5723': 5.267518997192383, 'CH_CH5724': 23.0154972076416, 'CH_CH5861': 6.147248268127441, 'CH_CH6605': 4.163849830627441, 'CH_CH6607': 8.678829193115234, 'CH_CH6608': 28.27223777770996, 'CH_CH6612': 2.1807045936584473, 'CH_CH6617': 9.15982437133789, 'CH_CH6618': 4.573921203613281, 'CH_CH6621': 39.33189392089844, 'CH_CH6623': 7.039865493774414, 'CH_CH6628': 28.542695999145508, 'CH_CH6630': 3.2628302574157715, 'CH_CH6633': 2.560638904571533, 'CH_CH6638': 2.1807045936584473, 'CH_CH6640': 5.781057357788086, 'CH_CH6643': 28.999662399291992, 'CH_CH9180': 38.80975341796875}\n",
      "{'CH_CH1024': 2.002406668817138, 'CH_CH1031': 2.615789544144677, 'CH_CH1054': 6.525562410462211, 'CH_CH1058': 7.836561081190925, 'CH_CH1059': 1.264287451417322, 'CH_CH1061': 6.854480632732881, 'CH_CH1063': 4.7418597215132605, 'CH_CH1065': 4.120887828853876, 'CH_CH1085': 3.3155218213796616, 'CH_CH1089': 3.696127955688211, 'CH_CH1091': 1.4624794278362634, 'CH_CH1094': 3.2306406690892815, 'CH_CH1095': 3.743731346539117, 'CH_CH1099': 3.223692733340147, 'CH_CH1103': 1.1804036292913769, 'CH_CH1401': 2.0557350397109984, 'CH_CH1407': 4.36666362014698, 'CH_CH1501': 4.010751547968078, 'CH_CH1502': 1.0075395361735275, 'CH_CH1505': 0.7752203196287155, 'CH_CH1506': 2.8842386205991106, 'CH_CH1507': 6.9305256427467885, 'CH_CH1508': 1.3173236514280156, 'CH_CH1509': 1.3562200873839072, 'CH_CH1510': 21.775815539626844, 'CH_CH1511': 14.227267244529491, 'CH_CH1701': 0.9090720268786435, 'CH_CH1711': 1.898237599039639, 'CH_CH5635': 0.8233168542385101, 'CH_CH5712': 3.1726624965667725, 'CH_CH5716': 1.5980226278305054, 'CH_CH5721': 1.8767864749691463, 'CH_CH5723': 3.2494210613270593, 'CH_CH5724': 3.979176692378602, 'CH_CH5861': 2.6166901218263754, 'CH_CH6605': 1.9399593307260883, 'CH_CH6607': 3.8649323171047136, 'CH_CH6608': 1.9394753641417237, 'CH_CH6612': 1.1856557130813599, 'CH_CH6617': 4.58733172416687, 'CH_CH6618': 1.5236906111240383, 'CH_CH6621': 2.020572201692002, 'CH_CH6623': 3.1444149176098297, 'CH_CH6628': 2.4572224222238415, 'CH_CH6630': 2.3681427637736006, 'CH_CH6633': 0.6498999495886398, 'CH_CH6638': 1.207119921843211, 'CH_CH6640': 0.5114155280328678, 'CH_CH6643': 3.3900198822949115, 'CH_CH9180': 7.248630607550879}\n",
      "\n"
     ]
    },
    {
     "ename": "RuntimeError",
     "evalue": "DBMS table not found [main.Cities_Coors]",
     "output_type": "error",
     "traceback": [
      "\u001b[0;31m---------------------------------------------------------------------------\u001b[0m\n\u001b[0;31mRuntimeError\u001b[0m                              Traceback (most recent call last)",
      "In  \u001b[0;34m[24]\u001b[0m:\nLine \u001b[0;34m49\u001b[0m:    \u001b[34mfor\u001b[39;49;00m row3 \u001b[35min\u001b[39;49;00m cur3:\n",
      "\u001b[0;31mRuntimeError\u001b[0m: DBMS table not found [main.Cities_Coors]\n\u001b[0;31m---------------------------------------------------------------------------\u001b[0m"
     ]
    }
   ],
   "source": [
    "print(\"Start:\", datetime.now())\n",
    "start_time = datetime.now()\n",
    "print()\n",
    "\n",
    "# Vytvoření slovníků pro uložení hodnot požadovaných polí (Fields)\n",
    "dic_Ele_MIN = {}\n",
    "dic_Ele_MAX = {}\n",
    "dic_Ele_MEAN = {}\n",
    "\n",
    "dic_Sl_MIN = {}\n",
    "dic_Sl_MAX = {}\n",
    "dic_Sl_MEAN = {}\n",
    "\n",
    "#-----------------------------------------------------------------------------------------------------\n",
    "\n",
    "# procházení jetnotlivých hodnot v atributové tabulce a plnění vytvořených slovníků požadovanými hodnotami\n",
    "\n",
    "# ELEVATION\n",
    "with arcpy.da.SearchCursor(tab_ele, fld_nam_ele) as cur1:\n",
    "    for row1 in cur1:\n",
    "        if re.findall(\"CH_\", row1[1]):\n",
    "            dic_Ele_MIN[row1[1]] = row1[5]\n",
    "            dic_Ele_MAX[row1[1]] = row1[6]\n",
    "            dic_Ele_MEAN[row1[1]] = row1[7]\n",
    "            \n",
    "            \n",
    "print(dic_Ele_MIN, dic_Ele_MAX, dic_Ele_MEAN, sep=\"\\n\")\n",
    "print()\n",
    "\n",
    "# SLOPE\n",
    "with arcpy.da.SearchCursor(tab_sl, fld_nam_sl) as cur2:\n",
    "    for row2 in cur2:\n",
    "        if re.findall(\"CH_\", row2[1]):\n",
    "            dic_Sl_MIN[row2[1]] = row2[5]\n",
    "            dic_Sl_MAX[row2[1]] = row2[6]\n",
    "            dic_Sl_MEAN[row2[1]] = row2[7]\n",
    "            \n",
    "            \n",
    "print(dic_Sl_MIN, dic_Sl_MAX, dic_Sl_MEAN, sep=\"\\n\")\n",
    "print()\n",
    "\n",
    "#-----------------------------------------------------------------------------------------------------\n",
    "\n",
    "# zápis hodnot ze slovníků podle ID do zvolených polí\n",
    "\n",
    "count = 0\n",
    "\n",
    "with arcpy.da.UpdateCursor(fc, field_names_fc) as cur3:\n",
    "    for row3 in cur3:\n",
    "        fc_ID = row3[7]\n",
    "        #fc_ele_mean = row3[14]\n",
    "        for _id in dic_Ele_MIN.keys():\n",
    "            if _id == fc_ID:\n",
    "                #print(_id, fc_ID)\n",
    "                \n",
    "                # ELEVATION change (update)\n",
    "                row3[15] = dic_Ele_MIN[_id] \n",
    "                row3[16] = dic_Ele_MAX[_id]\n",
    "                row3[17] = dic_Ele_MEAN[_id]\n",
    "\n",
    "                print(\"Hodnoty Ele přiřazeny\")\n",
    "                count += 3\n",
    "                \n",
    "                 # SLOPE change (update)\n",
    "                row3[23] = dic_Ele_MIN[_id] \n",
    "                row3[24] = dic_Ele_MAX[_id]\n",
    "                row3[25] = dic_Ele_MEAN[_id]\n",
    "                \n",
    "                print(\"Hodnoty Sl přiřazeny\")\n",
    "                count += 3\n",
    "                \n",
    "            else:\n",
    "                print(\"Nepřiřazeno\")\n",
    "\n",
    "            cur3.updateRow(row3)\n",
    "            \n",
    "print()                    \n",
    "end_time = datetime.now()\n",
    "print('Duration: {}'.format(end_time - start_time))\n",
    "print(\"End:\", datetime.now())\n",
    "print(\"Count of changes: \",count)                    \n",
    "print(\"Hotovo!\")"
   ]
  },
  {
   "cell_type": "code",
   "execution_count": 29,
   "metadata": {},
   "outputs": [
    {
     "name": "stdout",
     "output_type": "stream",
     "text": [
      "CH_CH2701 CH_CH2701\n",
      "CH_CH0230 CH_CH0230\n",
      "CH_CH0261 CH_CH0261\n",
      "CH_CH0351 CH_CH0351\n",
      "CH_CH0371 CH_CH0371\n",
      "CH_CH1061 CH_CH1061\n",
      "CH_CH5586 CH_CH5586\n",
      "CH_CH6621 CH_CH6621\n"
     ]
    }
   ],
   "source": [
    "# nepoužil jsem\n",
    "\"\"\"\n",
    "with arcpy.da.SearchCursor(fc, field_names_fc) as cur3:\n",
    "    for row3 in cur3:\n",
    "        fc_ID = row3[4]\n",
    "        #print(fc_ID)\n",
    "        #nam = row3[5]\n",
    "        fc_ele_mean = row3[14]\n",
    "        #print(fc_ele_mean)\n",
    "        for _id in lst_ID:\n",
    "            if _id == fc_ID:\n",
    "                print(_id, fc_ID)\n",
    "            else:\n",
    "                pass\n",
    "                \n",
    "\"\"\""
   ]
  },
  {
   "cell_type": "code",
   "execution_count": 38,
   "metadata": {},
   "outputs": [
    {
     "name": "stdout",
     "output_type": "stream",
     "text": [
      "CH_CH2701 399.57268930738394\n",
      "CH_CH0230 399.57268930738394\n",
      "CH_CH0261 399.57268930738394\n",
      "CH_CH0351 399.57268930738394\n",
      "CH_CH0371 399.57268930738394\n",
      "CH_CH1061 399.57268930738394\n",
      "CH_CH5586 399.57268930738394\n",
      "CH_CH6621 399.57268930738394\n"
     ]
    }
   ],
   "source": [
    "# nepoužil jsem\n",
    "\"\"\"\n",
    "cur3 = arcpy.SearchCursor(fc)\n",
    "for row3 in cur3:\n",
    "    fc_ID = row3.getValue(\"all__GISCO\")\n",
    "    #print(fc_ID)\n",
    "    #nam = row3[5]\n",
    "    fc_ele_mean = row3.getValue(\"MEAN\")\n",
    "    #print(fc_ele_mean)\n",
    "    print(fc_ID, fc_ele_mean)\n",
    "    \n",
    "    for _id in lst_ID:\n",
    "        if _id == fc_ID:\n",
    "            print(_id, fc_ID)\n",
    "        else:\n",
    "            pass\n",
    "    \n",
    "        cur3.updateRow(row3)\n",
    "        \n",
    "\"\"\""
   ]
  },
  {
   "cell_type": "code",
   "execution_count": null,
   "metadata": {},
   "outputs": [],
   "source": [
    "# špatně\n",
    "\"\"\"\n",
    "tab_ele = \"ZonalSt_Tab_Swiss_ele\"\n",
    "tab_sl = \"ZonalSt_Tab_Swiss_slope\"\n",
    "fc = \"EU_units_charac_3\"\n",
    "\n",
    "with arcpy.da.SearchCursor(tab_ele, fld_nam_ele) as cur1:\n",
    "    for row1 in cur1:\n",
    "        if re.findall(\"CH_\", row1[1]):\n",
    "            #print(row[1], row[7])\n",
    "            tab_ID = row1[1]\n",
    "            tab_ele_mean = row1[7]\n",
    "            with arcpy.da.SearchCursor(tab_sl, fld_nam_sl) as cur2:\n",
    "                for row2 in cur2:\n",
    "                    if re.findall(\"CH_\", row2[1]):\n",
    "                        #print(row[1], row[7])\n",
    "                        tab_ID = row2[1]\n",
    "                        tab_sl_mean = row2[7]\n",
    "                        with arcpy.da.UpdateCursor(fc, field_names_fc) as cur3:\n",
    "                            for row3 in cur3:\n",
    "                                fc_ID = row3[4]\n",
    "                                nam = row3[5]\n",
    "                                fc_ele_mean = row3[14]\n",
    "                                if tab_ID == fc_ID and fc_ele_mean == None:\n",
    "                                    #print(nam, tab_ID, tab_ele_mean, fc_ID, fc_ele_mean)\n",
    "                                    row3[12] = row1[5] #Ele_MIN\n",
    "                                    row3[13] = row1[6] #Ele_MAX\n",
    "                                    row3[14] = row1[7] #Ele_MEAN\n",
    "\n",
    "                                    row3[20] = row2[5] #Sl_MIN\n",
    "                                    row3[21] = row2[6] #Sl_MAX\n",
    "                                    row3[22] = row2[7] #Sl_MEAN\n",
    "\n",
    "                                cur3.updateRow(row3)\n",
    "\"\"\""
   ]
  },
  {
   "cell_type": "code",
   "execution_count": null,
   "metadata": {},
   "outputs": [],
   "source": []
  }
 ],
 "metadata": {
  "kernelspec": {
   "display_name": "ArcGISPro",
   "language": "Python",
   "name": "python3"
  },
  "language_info": {
   "file_extension": ".py",
   "name": "python",
   "version": "3"
  }
 },
 "nbformat": 4,
 "nbformat_minor": 2
}
