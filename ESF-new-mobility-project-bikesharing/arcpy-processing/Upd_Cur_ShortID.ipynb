{
 "cells": [
  {
   "cell_type": "code",
   "execution_count": 11,
   "metadata": {},
   "outputs": [],
   "source": [
    "import re\n",
    "from datetime import datetime"
   ]
  },
  {
   "cell_type": "code",
   "execution_count": 2,
   "metadata": {},
   "outputs": [
    {
     "data": {
      "text/plain": [
       "'E:\\\\ESF MU\\\\Bikesharing\\\\ESF_data\\\\ESF_data_view\\\\Default.gdb'"
      ]
     },
     "execution_count": 2,
     "metadata": {},
     "output_type": "execute_result"
    }
   ],
   "source": [
    "arcpy.env.workspace"
   ]
  },
  {
   "cell_type": "code",
   "execution_count": 3,
   "metadata": {},
   "outputs": [
    {
     "data": {
      "text/plain": [
       "['BikeSharing_XYToLine', 'MUNIeu_info_all_FeatureToPoi', 'MUNIeu_info_all_ETRS', 'BikeSharing_ETRS', 'MUNIeu_info_all_FeatureToPoi_ETRS', 'MUNIeu_info_all_Line_to_sea', 'NUTS_1_units', 'Company_Points_EU', 'EU_units_selection', 'MUNIeu_info_all_ETRS_Diss_all_LAU_C', 'MUNIeu_info_all_ETRS_Diss_all_LAU_C_Selection', 'cycleway', 'MUNIeu_info_all_LCC_Diss_all1', 'OverUnits', 'OverUnits_Merge', 'EU_diss_units', 'EU_diss_units_2', 'EU_diss_units_2_SpatialJoin_3', 'EU_diss_units_2_FeatureToPoi', 'EU_diss_units_2_SpatialJoin', 'EU_diss_units_2_SpatialJoin_SummarizeWithin', 'EU_diss_units_2_SpatialJoin_', 'EU_units_charac_SJ', 'EU_units_charac_companies_SJ', 'EU_units_charac_WGS84', 'BikeSharing_stations_LCC_Spa']"
      ]
     },
     "execution_count": 3,
     "metadata": {},
     "output_type": "execute_result"
    }
   ],
   "source": [
    "fcs = arcpy.ListFeatureClasses()\n",
    "fcs"
   ]
  },
  {
   "cell_type": "code",
   "execution_count": 4,
   "metadata": {},
   "outputs": [],
   "source": [
    "datasets = arcpy.ListDatasets(\"*\",feature_type=\"Feature\")"
   ]
  },
  {
   "cell_type": "code",
   "execution_count": 5,
   "metadata": {},
   "outputs": [
    {
     "data": {
      "text/plain": [
       "[]"
      ]
     },
     "execution_count": 5,
     "metadata": {},
     "output_type": "execute_result"
    }
   ],
   "source": [
    "datasets"
   ]
  },
  {
   "cell_type": "code",
   "execution_count": 6,
   "metadata": {},
   "outputs": [
    {
     "data": {
      "text/plain": [
       "True"
      ]
     },
     "execution_count": 6,
     "metadata": {},
     "output_type": "execute_result"
    }
   ],
   "source": [
    "arcpy.Exists(\"EU_units_charac_4\")"
   ]
  },
  {
   "cell_type": "code",
   "execution_count": 7,
   "metadata": {},
   "outputs": [
    {
     "data": {
      "text/plain": [
       "['OBJECTID_12', 'Shape', 'BikeShareMap_stations', 'TARGET_FID', 'all__GISCO', 'all__LAU18', 'SUM_all__pop20', 'OBJECTID', 'all__GISCO_1', 'ZONE_CODE', 'COUNT', 'AREA', 'MIN', 'MAX', 'MEAN', 'OBJECTID_1', 'all__GISCO_12', 'ZONE_CODE_1', 'COUNT_1', 'AREA_1', 'MIN_1', 'MAX_1', 'MEAN_1', 'Area_km', 'sum_shape_length', 'sum_Length_KILOMETERS', 'Polyline_Count', 'NEAR_FID', 'NEAR_DIST_m', 'NEAR_X', 'NEAR_Y', 'NEAR_ANGLE', 'Shape_Length', 'Shape_Area', 'Short_GISCO']"
      ]
     },
     "execution_count": 7,
     "metadata": {},
     "output_type": "execute_result"
    }
   ],
   "source": [
    "fc = \"EU_units_charac_4\"\n",
    "fc_flds = [f.name for f in arcpy.ListFields(fc)]\n",
    "fc_flds"
   ]
  },
  {
   "cell_type": "code",
   "execution_count": 8,
   "metadata": {},
   "outputs": [],
   "source": [
    "#arcpy.management.AddField(fc, \"Short_GISCO\", \"TEXT\", field_length=5, field_alias=\"Short_GISCO\")"
   ]
  },
  {
   "cell_type": "code",
   "execution_count": 9,
   "metadata": {},
   "outputs": [
    {
     "name": "stdout",
     "output_type": "stream",
     "text": [
      "0 OBJECTID_12\n",
      "1 Shape\n",
      "2 BikeShareMap_stations\n",
      "3 TARGET_FID\n",
      "4 all__GISCO\n",
      "5 all__LAU18\n",
      "6 SUM_all__pop20\n",
      "7 OBJECTID\n",
      "8 all__GISCO_1\n",
      "9 ZONE_CODE\n",
      "10 COUNT\n",
      "11 AREA\n",
      "12 MIN\n",
      "13 MAX\n",
      "14 MEAN\n",
      "15 OBJECTID_1\n",
      "16 all__GISCO_12\n",
      "17 ZONE_CODE_1\n",
      "18 COUNT_1\n",
      "19 AREA_1\n",
      "20 MIN_1\n",
      "21 MAX_1\n",
      "22 MEAN_1\n",
      "23 Area_km\n",
      "24 sum_shape_length\n",
      "25 sum_Length_KILOMETERS\n",
      "26 Polyline_Count\n",
      "27 NEAR_FID\n",
      "28 NEAR_DIST_m\n",
      "29 NEAR_X\n",
      "30 NEAR_Y\n",
      "31 NEAR_ANGLE\n",
      "32 Shape_Length\n",
      "33 Shape_Area\n",
      "34 Short_GISCO\n"
     ]
    }
   ],
   "source": [
    "for name in fc_flds:\n",
    "    idx = fc_flds.index(name)\n",
    "    print(idx, name)"
   ]
  },
  {
   "cell_type": "code",
   "execution_count": 14,
   "metadata": {},
   "outputs": [
    {
     "name": "stdout",
     "output_type": "stream",
     "text": [
      "AT_20101\n",
      "['AT_20']\n",
      "AT_40101\n",
      "['AT_40']\n",
      "AT_50101\n",
      "['AT_50']\n",
      "AT_60101\n",
      "['AT_60']\n",
      "{'AT_20101': ['AT_20'], 'AT_40101': ['AT_40'], 'AT_50101': ['AT_50'], 'AT_60101': ['AT_60']}\n"
     ]
    }
   ],
   "source": [
    "# iterování přes all__GISCO atribut a uložení do slovníku v podobě {all__GISCO:*****(prvních 5 znaků)}\n",
    "\n",
    "id_dic = dict()\n",
    "\n",
    "counter = 0\n",
    "\n",
    "with arcpy.da.SearchCursor(fc, fc_flds) as cur:\n",
    "    for row in cur:\n",
    "        if counter < 4:\n",
    "            all_GISCO = (row[4])\n",
    "            all_GISCO_temp = row[4]\n",
    "            #print(all_GISCO)\n",
    "            new_ID = re.findall(\"^.{0,5}\",all_GISCO_temp)\n",
    "            \n",
    "            #print(list(zip(all_GISCO,new_ID)))\n",
    "            #id_dic = {k:v for k,v in zip(all_GISCO, new_ID)}\n",
    "            id_dic[all_GISCO] = new_ID\n",
    "            print(all_GISCO)\n",
    "            print(new_ID)\n",
    "            \n",
    "            counter += 1\n",
    "        else:\n",
    "            print(id_dic)\n",
    "            break"
   ]
  },
  {
   "cell_type": "code",
   "execution_count": 17,
   "metadata": {},
   "outputs": [
    {
     "name": "stdout",
     "output_type": "stream",
     "text": [
      "Start: 2022-07-12 01:55:50.870306\n",
      "\n",
      "\n",
      "Duration: 0:00:44.326009\n",
      "End: 2022-07-12 01:56:35.197312\n"
     ]
    }
   ],
   "source": [
    "print(\"Start:\", datetime.now())\n",
    "start_time = datetime.now()\n",
    "print()\n",
    "\n",
    "id_dic = dict()\n",
    "\n",
    "with arcpy.da.UpdateCursor(fc, fc_flds) as cur2:\n",
    "    for row2 in cur2:\n",
    "        all_GISCO = row2[4]\n",
    "        all_GISCO_temp = row2[4]\n",
    "        new_ID = all_GISCO_temp[0:5] #re.findall(\"^.{0,5}\",all_GISCO_temp)\n",
    "        #for temp_ID in new_ID:    \n",
    "        #print(new_ID)\n",
    "        #break\n",
    "        id_dic[all_GISCO] = new_ID\n",
    "        #print(id_dic)\n",
    "        \n",
    "        row2[34] = id_dic[all_GISCO]\n",
    "        \n",
    "        cur2.updateRow(row2)\n",
    "        #break\n",
    "        \n",
    "        \n",
    "        \n",
    "        \n",
    "print()                    \n",
    "end_time = datetime.now()\n",
    "print('Duration: {}'.format(end_time - start_time))\n",
    "print(\"End:\", datetime.now())"
   ]
  },
  {
   "cell_type": "code",
   "execution_count": null,
   "metadata": {},
   "outputs": [],
   "source": []
  }
 ],
 "metadata": {
  "kernelspec": {
   "display_name": "ArcGISPro",
   "language": "Python",
   "name": "python3"
  },
  "language_info": {
   "file_extension": ".py",
   "name": "python",
   "version": "3"
  }
 },
 "nbformat": 4,
 "nbformat_minor": 2
}
