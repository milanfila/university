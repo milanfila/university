{
 "cells": [
  {
   "cell_type": "code",
   "execution_count": 11,
   "metadata": {},
   "outputs": [],
   "source": [
    "from datetime import datetime"
   ]
  },
  {
   "cell_type": "code",
   "execution_count": 12,
   "metadata": {},
   "outputs": [
    {
     "data": {
      "text/plain": [
       "True"
      ]
     },
     "execution_count": 12,
     "metadata": {},
     "output_type": "execute_result"
    }
   ],
   "source": [
    "arcpy.Exists(\"BikeSharing_stations_GISCO\")"
   ]
  },
  {
   "cell_type": "code",
   "execution_count": 16,
   "metadata": {},
   "outputs": [],
   "source": [
    "fc = \"BikeSharing_stations_GISCO\"\n",
    "field = \"MUNIeu_info_all_ETRS_LCC_all__GISCO\""
   ]
  },
  {
   "cell_type": "code",
   "execution_count": 15,
   "metadata": {},
   "outputs": [
    {
     "data": {
      "text/plain": [
       "['OBJECTID', 'Shape', 'Join_Count', 'TARGET_FID', 'JOIN_FID', 'timestamp_', 'name', 'lat', 'lon', 'bikes', 'spaces', 'installed', 'locked', 'temporary', 'total_dock', 'MUNIeu_info_all_ETRS_LCC_all__GISCO']"
      ]
     },
     "execution_count": 15,
     "metadata": {},
     "output_type": "execute_result"
    }
   ],
   "source": [
    "fields_fc = [f.name for f in arcpy.ListFields(fc)]\n",
    "fields_fc"
   ]
  },
  {
   "cell_type": "code",
   "execution_count": 17,
   "metadata": {},
   "outputs": [
    {
     "name": "stdout",
     "output_type": "stream",
     "text": [
      "0 OBJECTID\n",
      "1 Shape\n",
      "2 Join_Count\n",
      "3 TARGET_FID\n",
      "4 JOIN_FID\n",
      "5 timestamp_\n",
      "6 name\n",
      "7 lat\n",
      "8 lon\n",
      "9 bikes\n",
      "10 spaces\n",
      "11 installed\n",
      "12 locked\n",
      "13 temporary\n",
      "14 total_dock\n",
      "15 MUNIeu_info_all_ETRS_LCC_all__GISCO\n"
     ]
    }
   ],
   "source": [
    "for idx, fld in enumerate(fields_fc):\n",
    "    print(idx,fld)"
   ]
  },
  {
   "cell_type": "code",
   "execution_count": 18,
   "metadata": {},
   "outputs": [
    {
     "name": "stdout",
     "output_type": "stream",
     "text": [
      "Start:  2022-07-13 01:26:23.505095\n",
      "\n",
      "\n",
      "Duration: 0:02:07.447793\n",
      "end_time:  2022-07-13 01:28:30.953885\n",
      "End:  2022-07-13 01:28:30.954887\n"
     ]
    }
   ],
   "source": [
    "# deleting rows with null\n",
    "# 1. řešení\n",
    "\n",
    "print(\"Start: \", datetime.now())\n",
    "start_time = datetime.now()\n",
    "print()\n",
    "\n",
    "with arcpy.da.UpdateCursor(fc, 'MUNIeu_info_all_ETRS_LCC_all__GISCO', 'MUNIeu_info_all_ETRS_LCC_all__GISCO is NULL') as cursor:\n",
    "    for row in cursor:\n",
    "         cursor.deleteRow()\n",
    "            \n",
    "print()\n",
    "end_time = datetime.now()\n",
    "print(f\"Duration: {end_time-start_time}\")\n",
    "print(\"end_time: \",end_time)\n",
    "print(\"End: \", datetime.now())"
   ]
  },
  {
   "cell_type": "code",
   "execution_count": 20,
   "metadata": {},
   "outputs": [
    {
     "ename": "IndexError",
     "evalue": "list index out of range",
     "output_type": "error",
     "traceback": [
      "\u001b[0;31m---------------------------------------------------------------------------\u001b[0m\n\u001b[0;31mIndexError\u001b[0m                                Traceback (most recent call last)",
      "In  \u001b[0;34m[20]\u001b[0m:\nLine \u001b[0;34m5\u001b[0m:     \u001b[34mif\u001b[39;49;00m row[\u001b[34m45\u001b[39;49;00m] \u001b[35mis\u001b[39;49;00m \u001b[34mNone\u001b[39;49;00m:\n",
      "\u001b[0;31mIndexError\u001b[0m: list index out of range\n\u001b[0;31m---------------------------------------------------------------------------\u001b[0m"
     ]
    }
   ],
   "source": [
    "# 2. možnost řešení\n",
    "\n",
    "with arcpy.da.UpdateCursor(fc, field) as cursor:\n",
    "    for row in cursor:\n",
    "         if row[45] is None:\n",
    "            cursor.deleteRow()"
   ]
  },
  {
   "cell_type": "code",
   "execution_count": null,
   "metadata": {},
   "outputs": [],
   "source": []
  }
 ],
 "metadata": {
  "kernelspec": {
   "display_name": "ArcGISPro",
   "language": "Python",
   "name": "python3"
  },
  "language_info": {
   "file_extension": ".py",
   "name": "python",
   "version": "3"
  }
 },
 "nbformat": 4,
 "nbformat_minor": 2
}
