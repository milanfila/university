{
 "cells": [
  {
   "cell_type": "code",
   "execution_count": 5,
   "metadata": {},
   "outputs": [
    {
     "data": {
      "text/html": [
       "<div class='gpresult'><h2>Messages</h2><div id='messages' data-messages='[\"Start Time: pondělí 18. července 2022 13:37:47\",\"Succeeded at pondělí 18. července 2022 13:37:48 (Elapsed Time: 1,75 seconds)\"]' data-show='true'><div id = 'default' /></div></div>"
      ],
      "text/plain": [
       "<Result 'EU_units_charac_companies_4_TotP'>"
      ]
     },
     "execution_count": 5,
     "metadata": {},
     "output_type": "execute_result"
    }
   ],
   "source": [
    "arcpy.management.AddJoin(\"EU_units_charac_companies_4_TotP\",\n",
    "                         \"all__GISCO\",\n",
    "                         \"Adm_ZonalSt_SurTemp\",\n",
    "                         \"all__GISCO\",\n",
    "                         \"KEEP_ALL\",\n",
    "                         \"INDEX_JOIN_FIELDS\")"
   ]
  },
  {
   "cell_type": "code",
   "execution_count": 6,
   "metadata": {},
   "outputs": [
    {
     "data": {
      "text/html": [
       "<div class='gpresult'><h2>Messages</h2><div id='messages' data-messages='[\"Start Time: pondělí 18. července 2022 13:38:20\",\"Succeeded at pondělí 18. července 2022 13:38:23 (Elapsed Time: 2,90 seconds)\"]' data-show='true'><div id = 'default' /></div></div>"
      ],
      "text/plain": [
       "<Result 'E:\\\\ESF MU\\\\Bikesharing\\\\ESF_data\\\\ESF_data_view\\\\EU_units_characteristics_4.gdb\\\\EU_units_charac_companies_4_TotP_SurTemp'>"
      ]
     },
     "execution_count": 6,
     "metadata": {},
     "output_type": "execute_result"
    }
   ],
   "source": [
    "arcpy.FeatureClassToFeatureClass_conversion(\"EU_units_charac_companies_4_TotP\", \n",
    "                                            r\"E:\\ESF MU\\Bikesharing\\ESF_data\\ESF_data_view\\EU_units_characteristics_4.gdb\", \n",
    "                                            \"EU_units_charac_companies_4_TotP_SurTemp\")"
   ]
  },
  {
   "cell_type": "code",
   "execution_count": null,
   "metadata": {},
   "outputs": [],
   "source": []
  }
 ],
 "metadata": {
  "kernelspec": {
   "display_name": "ArcGISPro",
   "language": "Python",
   "name": "python3"
  },
  "language_info": {
   "file_extension": ".py",
   "name": "python",
   "version": "3"
  }
 },
 "nbformat": 4,
 "nbformat_minor": 2
}
